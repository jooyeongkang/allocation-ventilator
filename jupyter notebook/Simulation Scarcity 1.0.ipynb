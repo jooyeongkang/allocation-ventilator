{
 "cells": [
  {
   "cell_type": "code",
   "execution_count": null,
   "metadata": {
    "id": "PNvpVcJhfUod"
   },
   "outputs": [],
   "source": [
    "import os \n",
    "import pandas as pd\n",
    "\n",
    "from pandas_profiling import ProfileReport\n",
    "from pandas_profiling.utils.cache import cache_file\n",
    "from collections import Counter\n",
    "import seaborn as sn\n",
    "import random\n",
    "import statistics \n",
    "import statsmodels.api as stats\n",
    "from sklearn.metrics import roc_auc_score\n",
    "from collections import Counter\n",
    "\n",
    "import numpy as np"
   ]
  },
  {
   "cell_type": "code",
   "execution_count": null,
   "metadata": {
    "id": "sjfo7TFUfUoh"
   },
   "outputs": [],
   "source": [
    "box_file_dir = os.path.join(os.getcwd(), \"..\", \"..\", \"Box\")\n",
    "file_path_csv = os.path.join(box_file_dir, \"covid_pts_enc_level_labs_dx_2021-02-02_deid.csv\")"
   ]
  },
  {
   "cell_type": "code",
   "execution_count": null,
   "metadata": {
    "id": "7mqMlYBqfUoh"
   },
   "outputs": [],
   "source": [
    "df = pd.read_csv(file_path_csv, index_col=False)"
   ]
  },
  {
   "cell_type": "code",
   "execution_count": null,
   "metadata": {
    "id": "aRV6IViEfUoi",
    "outputId": "997e0ff4-b269-4d23-a219-cced6bdac9e8"
   },
   "outputs": [
    {
     "data": {
      "text/html": [
       "<div>\n",
       "<style scoped>\n",
       "    .dataframe tbody tr th:only-of-type {\n",
       "        vertical-align: middle;\n",
       "    }\n",
       "\n",
       "    .dataframe tbody tr th {\n",
       "        vertical-align: top;\n",
       "    }\n",
       "\n",
       "    .dataframe thead th {\n",
       "        text-align: right;\n",
       "    }\n",
       "</style>\n",
       "<table border=\"1\" class=\"dataframe\">\n",
       "  <thead>\n",
       "    <tr style=\"text-align: right;\">\n",
       "      <th></th>\n",
       "      <th>admit_dt_tm</th>\n",
       "      <th>discharge_dt_tm</th>\n",
       "      <th>facility</th>\n",
       "      <th>encounter_type_display</th>\n",
       "      <th>age_at_admit</th>\n",
       "      <th>gender</th>\n",
       "      <th>zip_cust_table</th>\n",
       "      <th>ethnicity_display</th>\n",
       "      <th>race_display</th>\n",
       "      <th>race_eth_comb</th>\n",
       "      <th>...</th>\n",
       "      <th>diabetes_com_flag</th>\n",
       "      <th>hypertension_com_flag</th>\n",
       "      <th>CAD_com_flag</th>\n",
       "      <th>heartfailure_com_flag</th>\n",
       "      <th>CKD_com_flag</th>\n",
       "      <th>cancer_com_flag</th>\n",
       "      <th>qSOFA_score</th>\n",
       "      <th>deid_empi_encounter</th>\n",
       "      <th>deid_mrn_encounter</th>\n",
       "      <th>deid_fin_encounter</th>\n",
       "    </tr>\n",
       "  </thead>\n",
       "  <tbody>\n",
       "    <tr>\n",
       "      <th>0</th>\n",
       "      <td>2020-08-25 20:51:00</td>\n",
       "      <td>2020-09-01 14:30:00</td>\n",
       "      <td>Shoal Creek</td>\n",
       "      <td>IP Private/Semi Private room</td>\n",
       "      <td>49</td>\n",
       "      <td>Male</td>\n",
       "      <td>Unknown</td>\n",
       "      <td>Hispanic or Latino</td>\n",
       "      <td>White</td>\n",
       "      <td>White Hispanic</td>\n",
       "      <td>...</td>\n",
       "      <td>False</td>\n",
       "      <td>False</td>\n",
       "      <td>False</td>\n",
       "      <td>False</td>\n",
       "      <td>False</td>\n",
       "      <td>False</td>\n",
       "      <td>NaN</td>\n",
       "      <td>4dMaH</td>\n",
       "      <td>61003</td>\n",
       "      <td>10650</td>\n",
       "    </tr>\n",
       "    <tr>\n",
       "      <th>1</th>\n",
       "      <td>2020-03-24 00:07:00</td>\n",
       "      <td>2020-03-26 18:30:00</td>\n",
       "      <td>Medical Center</td>\n",
       "      <td>IP ICU</td>\n",
       "      <td>44</td>\n",
       "      <td>Male</td>\n",
       "      <td>78130</td>\n",
       "      <td>Hispanic or Latino</td>\n",
       "      <td>White</td>\n",
       "      <td>White Hispanic</td>\n",
       "      <td>...</td>\n",
       "      <td>False</td>\n",
       "      <td>False</td>\n",
       "      <td>False</td>\n",
       "      <td>False</td>\n",
       "      <td>False</td>\n",
       "      <td>False</td>\n",
       "      <td>3.0</td>\n",
       "      <td>8wQnr</td>\n",
       "      <td>84969</td>\n",
       "      <td>27818</td>\n",
       "    </tr>\n",
       "    <tr>\n",
       "      <th>2</th>\n",
       "      <td>2020-03-25 13:25:00</td>\n",
       "      <td>2020-03-30 03:48:00</td>\n",
       "      <td>Medical Center</td>\n",
       "      <td>IP Private/Semi Private room</td>\n",
       "      <td>80</td>\n",
       "      <td>Female</td>\n",
       "      <td>78758</td>\n",
       "      <td>Not Hispanic or Latino</td>\n",
       "      <td>Black or African American</td>\n",
       "      <td>Other race Non Hispanic</td>\n",
       "      <td>...</td>\n",
       "      <td>True</td>\n",
       "      <td>False</td>\n",
       "      <td>True</td>\n",
       "      <td>True</td>\n",
       "      <td>True</td>\n",
       "      <td>False</td>\n",
       "      <td>1.0</td>\n",
       "      <td>6YGuu</td>\n",
       "      <td>69112</td>\n",
       "      <td>34412</td>\n",
       "    </tr>\n",
       "    <tr>\n",
       "      <th>3</th>\n",
       "      <td>2020-03-25 13:36:00</td>\n",
       "      <td>2020-03-27 13:15:00</td>\n",
       "      <td>Medical Center</td>\n",
       "      <td>IP Private/Semi Private room</td>\n",
       "      <td>56</td>\n",
       "      <td>Male</td>\n",
       "      <td>78746</td>\n",
       "      <td>Not Hispanic or Latino</td>\n",
       "      <td>White</td>\n",
       "      <td>White Non Hispanic</td>\n",
       "      <td>...</td>\n",
       "      <td>False</td>\n",
       "      <td>False</td>\n",
       "      <td>False</td>\n",
       "      <td>False</td>\n",
       "      <td>False</td>\n",
       "      <td>False</td>\n",
       "      <td>1.0</td>\n",
       "      <td>P1Tjg</td>\n",
       "      <td>84820</td>\n",
       "      <td>37981</td>\n",
       "    </tr>\n",
       "    <tr>\n",
       "      <th>4</th>\n",
       "      <td>2020-03-25 13:43:00</td>\n",
       "      <td>2020-03-27 12:44:00</td>\n",
       "      <td>Medical Center</td>\n",
       "      <td>IP Private/Semi Private room</td>\n",
       "      <td>46</td>\n",
       "      <td>Female</td>\n",
       "      <td>78757</td>\n",
       "      <td>Not Hispanic or Latino</td>\n",
       "      <td>White</td>\n",
       "      <td>White Non Hispanic</td>\n",
       "      <td>...</td>\n",
       "      <td>False</td>\n",
       "      <td>False</td>\n",
       "      <td>False</td>\n",
       "      <td>False</td>\n",
       "      <td>False</td>\n",
       "      <td>False</td>\n",
       "      <td>0.0</td>\n",
       "      <td>iouKO</td>\n",
       "      <td>76686</td>\n",
       "      <td>41152</td>\n",
       "    </tr>\n",
       "  </tbody>\n",
       "</table>\n",
       "<p>5 rows × 70 columns</p>\n",
       "</div>"
      ],
      "text/plain": [
       "           admit_dt_tm      discharge_dt_tm        facility  \\\n",
       "0  2020-08-25 20:51:00  2020-09-01 14:30:00     Shoal Creek   \n",
       "1  2020-03-24 00:07:00  2020-03-26 18:30:00  Medical Center   \n",
       "2  2020-03-25 13:25:00  2020-03-30 03:48:00  Medical Center   \n",
       "3  2020-03-25 13:36:00  2020-03-27 13:15:00  Medical Center   \n",
       "4  2020-03-25 13:43:00  2020-03-27 12:44:00  Medical Center   \n",
       "\n",
       "         encounter_type_display  age_at_admit  gender zip_cust_table  \\\n",
       "0  IP Private/Semi Private room            49    Male        Unknown   \n",
       "1                        IP ICU            44    Male          78130   \n",
       "2  IP Private/Semi Private room            80  Female          78758   \n",
       "3  IP Private/Semi Private room            56    Male          78746   \n",
       "4  IP Private/Semi Private room            46  Female          78757   \n",
       "\n",
       "        ethnicity_display               race_display            race_eth_comb  \\\n",
       "0      Hispanic or Latino                      White           White Hispanic   \n",
       "1      Hispanic or Latino                      White           White Hispanic   \n",
       "2  Not Hispanic or Latino  Black or African American  Other race Non Hispanic   \n",
       "3  Not Hispanic or Latino                      White       White Non Hispanic   \n",
       "4  Not Hispanic or Latino                      White       White Non Hispanic   \n",
       "\n",
       "   ...  diabetes_com_flag hypertension_com_flag CAD_com_flag  \\\n",
       "0  ...              False                 False        False   \n",
       "1  ...              False                 False        False   \n",
       "2  ...               True                 False         True   \n",
       "3  ...              False                 False        False   \n",
       "4  ...              False                 False        False   \n",
       "\n",
       "  heartfailure_com_flag CKD_com_flag cancer_com_flag qSOFA_score  \\\n",
       "0                 False        False           False         NaN   \n",
       "1                 False        False           False         3.0   \n",
       "2                  True         True           False         1.0   \n",
       "3                 False        False           False         1.0   \n",
       "4                 False        False           False         0.0   \n",
       "\n",
       "  deid_empi_encounter  deid_mrn_encounter deid_fin_encounter  \n",
       "0               4dMaH               61003              10650  \n",
       "1               8wQnr               84969              27818  \n",
       "2               6YGuu               69112              34412  \n",
       "3               P1Tjg               84820              37981  \n",
       "4               iouKO               76686              41152  \n",
       "\n",
       "[5 rows x 70 columns]"
      ]
     },
     "execution_count": 105,
     "metadata": {},
     "output_type": "execute_result"
    }
   ],
   "source": [
    "df.head()"
   ]
  },
  {
   "cell_type": "code",
   "execution_count": null,
   "metadata": {
    "id": "10TjILH1fUoj"
   },
   "outputs": [],
   "source": [
    "vent_df = df[~df['vent_hours_summed'].isnull()]"
   ]
  },
  {
   "cell_type": "code",
   "execution_count": null,
   "metadata": {
    "id": "bYtS-fc1fUoj",
    "outputId": "20ba4001-1277-4934-d0f2-786a4770e10b"
   },
   "outputs": [
    {
     "data": {
      "text/plain": [
       "303"
      ]
     },
     "execution_count": 107,
     "metadata": {},
     "output_type": "execute_result"
    }
   ],
   "source": [
    "len(vent_df)"
   ]
  },
  {
   "cell_type": "code",
   "execution_count": null,
   "metadata": {
    "id": "nKMw9qo5fUok"
   },
   "outputs": [],
   "source": [
    "qsofa_mortality_calibration = {\n",
    "    0: 0.6,\n",
    "    1: 5 ,\n",
    "    2: 10,\n",
    "    3: 24,\n",
    "    \n",
    "}"
   ]
  },
  {
   "cell_type": "code",
   "execution_count": null,
   "metadata": {
    "id": "KeTUpAgBfUok"
   },
   "outputs": [],
   "source": [
    "icu_df = df[~df['icu_hours_summed'].isnull()]\n",
    "icu_df = icu_df[~icu_df['qSOFA_score'].isnull()]\n",
    "icu_df = icu_df[~icu_df['zip_cust_table'].isnull()]"
   ]
  },
  {
   "cell_type": "code",
   "execution_count": null,
   "metadata": {
    "id": "huryZ_FXfUol"
   },
   "outputs": [],
   "source": [
    "zip_df = pd.read_csv('zip_code_data.csv', index_col=False)\n",
    "zip_df['zip_code'] = zip_df.zip_code.apply(lambda x: x.strip('ZCTA5 '))"
   ]
  },
  {
   "cell_type": "code",
   "execution_count": null,
   "metadata": {
    "id": "l4iuh-ZBfUom"
   },
   "outputs": [],
   "source": [
    "working_df = pd.merge(icu_df, zip_df, left_on='zip_cust_table', right_on='zip_code', how='inner')"
   ]
  },
  {
   "cell_type": "code",
   "execution_count": null,
   "metadata": {
    "id": "ctG2gu3lfUom",
    "outputId": "8e13fb1f-0cd2-4a81-c067-1311b1b4a7d9"
   },
   "outputs": [
    {
     "data": {
      "text/plain": [
       "652"
      ]
     },
     "execution_count": 119,
     "metadata": {},
     "output_type": "execute_result"
    }
   ],
   "source": [
    "len(working_df)"
   ]
  },
  {
   "cell_type": "code",
   "execution_count": null,
   "metadata": {
    "id": "JFZ5B9nLfUon"
   },
   "outputs": [],
   "source": [
    "working_df['mortality_probs'] = working_df.qSOFA_score.apply(lambda x: qsofa_mortality_calibration[x])"
   ]
  },
  {
   "cell_type": "code",
   "execution_count": null,
   "metadata": {
    "id": "RNG4yOohfUon",
    "outputId": "120fe8aa-0835-4cda-9522-1eca44ff512e"
   },
   "outputs": [
    {
     "data": {
      "text/plain": [
       "4.979447852760721"
      ]
     },
     "execution_count": 122,
     "metadata": {},
     "output_type": "execute_result"
    }
   ],
   "source": [
    "working_df['mortality_probs'].mean()"
   ]
  },
  {
   "cell_type": "code",
   "execution_count": null,
   "metadata": {
    "id": "UYekjQEwfUon",
    "outputId": "aa244588-5bd3-4565-d733-98da47a46d79"
   },
   "outputs": [
    {
     "data": {
      "text/plain": [
       "0.9248466257668712"
      ]
     },
     "execution_count": 123,
     "metadata": {},
     "output_type": "execute_result"
    }
   ],
   "source": [
    "working_df['qSOFA_score'].mean()"
   ]
  },
  {
   "cell_type": "code",
   "execution_count": null,
   "metadata": {
    "id": "7R0IkljMfUoo"
   },
   "outputs": [],
   "source": [
    "def latinx(row):\n",
    "    if row.ethnicity_display == 'Hispanic or Latino' and row.race_display == 'White':\n",
    "        return \"Hispanic\"\n",
    "    elif row.ethnicity_display == 'Not Hispanic or Latino' and row.race_display == 'White': \n",
    "        return \"White\"\n",
    "    else:\n",
    "        return row.race_display"
   ]
  },
  {
   "cell_type": "code",
   "execution_count": null,
   "metadata": {
    "id": "dYo1UrsqfUoo"
   },
   "outputs": [],
   "source": [
    "working_df['race_display'] = df.apply(lambda row: latinx(row), axis=1)"
   ]
  },
  {
   "cell_type": "code",
   "execution_count": null,
   "metadata": {
    "id": "wrys023VfUoo",
    "outputId": "55ca4f71-a925-4b84-9655-c4ffacbcf0fe"
   },
   "outputs": [
    {
     "data": {
      "text/plain": [
       "0.912621359223301"
      ]
     },
     "execution_count": 128,
     "metadata": {},
     "output_type": "execute_result"
    }
   ],
   "source": [
    "working_df[working_df['race_display'] == 'Hispanic']['qSOFA_score'].mean()"
   ]
  },
  {
   "cell_type": "code",
   "execution_count": null,
   "metadata": {
    "id": "zF6WWulyfUoo",
    "outputId": "eaa741e3-70eb-4fb6-b9de-b0b50fe1d21d"
   },
   "outputs": [
    {
     "data": {
      "text/plain": [
       "4.8815533980582435"
      ]
     },
     "execution_count": 132,
     "metadata": {},
     "output_type": "execute_result"
    }
   ],
   "source": [
    "working_df[working_df['race_display'] == 'Hispanic']['mortality_probs'].mean()"
   ]
  },
  {
   "cell_type": "code",
   "execution_count": null,
   "metadata": {
    "id": "maSKnKbAfUop",
    "outputId": "4c995dda-bdcf-4923-bc25-945f1bd8ae97"
   },
   "outputs": [
    {
     "data": {
      "text/plain": [
       "1.0923076923076922"
      ]
     },
     "execution_count": 129,
     "metadata": {},
     "output_type": "execute_result"
    }
   ],
   "source": [
    "working_df[working_df['race_display'] == 'Black or African American']['qSOFA_score'].mean()"
   ]
  },
  {
   "cell_type": "code",
   "execution_count": null,
   "metadata": {
    "id": "RBC1eq6vfUop",
    "outputId": "e5f732ff-e642-45b1-a1c7-b6518d709c08"
   },
   "outputs": [
    {
     "data": {
      "text/plain": [
       "5.858461538461538"
      ]
     },
     "execution_count": 133,
     "metadata": {},
     "output_type": "execute_result"
    }
   ],
   "source": [
    "working_df[working_df['race_display'] == 'Black or African American']['mortality_probs'].mean()"
   ]
  },
  {
   "cell_type": "code",
   "execution_count": null,
   "metadata": {
    "id": "3vOnvGrofUop",
    "outputId": "e9822072-f842-4fa3-db3b-f89dc42d9fb8"
   },
   "outputs": [
    {
     "data": {
      "text/plain": [
       "0.8787878787878788"
      ]
     },
     "execution_count": 130,
     "metadata": {},
     "output_type": "execute_result"
    }
   ],
   "source": [
    "working_df[working_df['race_display'] == 'White']['qSOFA_score'].mean()\n"
   ]
  },
  {
   "cell_type": "code",
   "execution_count": null,
   "metadata": {
    "id": "pTDFqSfLfUoq",
    "outputId": "83e896c4-bead-40f3-f606-d4becc232d10"
   },
   "outputs": [
    {
     "data": {
      "text/plain": [
       "4.690909090909095"
      ]
     },
     "execution_count": 134,
     "metadata": {},
     "output_type": "execute_result"
    }
   ],
   "source": [
    "working_df[working_df['race_display'] == 'White']['mortality_probs'].mean()"
   ]
  },
  {
   "cell_type": "code",
   "execution_count": null,
   "metadata": {
    "id": "ZNh0nEhGfUoq",
    "outputId": "71f8909f-2967-4408-c609-6b422aa367c3"
   },
   "outputs": [
    {
     "data": {
      "text/plain": [
       "0.7142857142857143"
      ]
     },
     "execution_count": 131,
     "metadata": {},
     "output_type": "execute_result"
    }
   ],
   "source": [
    "working_df[working_df['race_display'] == 'Asian']['qSOFA_score'].mean()"
   ]
  },
  {
   "cell_type": "code",
   "execution_count": null,
   "metadata": {
    "id": "9cXXEpmwfUoq",
    "outputId": "7018d6ae-d735-4343-ae7b-7c130a3bfe47"
   },
   "outputs": [
    {
     "data": {
      "text/plain": [
       "3.8285714285714283"
      ]
     },
     "execution_count": 135,
     "metadata": {},
     "output_type": "execute_result"
    }
   ],
   "source": [
    "working_df[working_df['race_display'] == 'Asian']['mortality_probs'].mean()"
   ]
  },
  {
   "cell_type": "code",
   "execution_count": null,
   "metadata": {
    "id": "upqdNOdvfUor"
   },
   "outputs": [],
   "source": [
    "died_vent = vent_df[vent_df['discharge_disposition_display'] == 'Expired']\n",
    "survived_vent = vent_df[vent_df['discharge_disposition_display'] != 'Expired']"
   ]
  },
  {
   "cell_type": "code",
   "execution_count": null,
   "metadata": {
    "id": "hvc7CDzrfUor",
    "outputId": "1af3a3c6-8472-41e9-b871-12e9cfa39c8f"
   },
   "outputs": [
    {
     "data": {
      "text/plain": [
       "117"
      ]
     },
     "execution_count": 8,
     "metadata": {},
     "output_type": "execute_result"
    }
   ],
   "source": [
    "len(died_vent)"
   ]
  },
  {
   "cell_type": "code",
   "execution_count": null,
   "metadata": {
    "id": "N2aNNzgnfUor",
    "outputId": "5c4defb1-c165-44fa-d30c-1815ce7ff2c0"
   },
   "outputs": [
    {
     "data": {
      "text/plain": [
       "186"
      ]
     },
     "execution_count": 9,
     "metadata": {},
     "output_type": "execute_result"
    }
   ],
   "source": [
    "len(survived_vent)"
   ]
  },
  {
   "cell_type": "code",
   "execution_count": null,
   "metadata": {
    "id": "6W71ds14fUor",
    "outputId": "2fd0044d-4c5e-419a-c0da-2633a151989e"
   },
   "outputs": [
    {
     "data": {
      "text/plain": [
       "<AxesSubplot:>"
      ]
     },
     "execution_count": 10,
     "metadata": {},
     "output_type": "execute_result"
    },
    {
     "data": {
      "image/png": "[encoded data removed]",
      "text/plain": [
       "<Figure size 432x288 with 1 Axes>"
      ]
     },
     "metadata": {
      "needs_background": "light"
     },
     "output_type": "display_data"
    }
   ],
   "source": [
    "died_vent['qSOFA_score'].hist()"
   ]
  },
  {
   "cell_type": "code",
   "execution_count": null,
   "metadata": {
    "id": "POkVOVmXfUor",
    "outputId": "3c7864ed-5269-445a-e039-ab7e4768cf30"
   },
   "outputs": [
    {
     "data": {
      "text/plain": [
       "<AxesSubplot:>"
      ]
     },
     "execution_count": 11,
     "metadata": {},
     "output_type": "execute_result"
    },
    {
     "data": {
      "image/png": "[encoded data removed]",
      "text/plain": [
       "<Figure size 432x288 with 1 Axes>"
      ]
     },
     "metadata": {
      "needs_background": "light"
     },
     "output_type": "display_data"
    }
   ],
   "source": [
    "survived_vent['qSOFA_score'].hist()"
   ]
  },
  {
   "cell_type": "code",
   "execution_count": null,
   "metadata": {
    "id": "cKFl7p6zfUos",
    "outputId": "0bf7c031-593d-4766-d5f7-96bc2830bad9"
   },
   "outputs": [
    {
     "data": {
      "text/plain": [
       "Counter({3.0: 4, 0.0: 26, 2.0: 32, 1.0: 52, nan: 1, nan: 1, nan: 1})"
      ]
     },
     "execution_count": 12,
     "metadata": {},
     "output_type": "execute_result"
    }
   ],
   "source": [
    "Counter(died_vent['qSOFA_score'])"
   ]
  },
  {
   "cell_type": "code",
   "execution_count": null,
   "metadata": {
    "id": "hTYFThXFfUos",
    "outputId": "8bc5fdf8-19c5-4d1d-d99d-5b18265ceffb"
   },
   "outputs": [
    {
     "data": {
      "text/plain": [
       "Counter({1.0: 112, 2.0: 33, 0.0: 32, 3.0: 6, nan: 1, nan: 1, nan: 1})"
      ]
     },
     "execution_count": 13,
     "metadata": {},
     "output_type": "execute_result"
    }
   ],
   "source": [
    "Counter(survived_vent['qSOFA_score'])"
   ]
  },
  {
   "cell_type": "code",
   "execution_count": null,
   "metadata": {
    "id": "5Yyms-egfUos"
   },
   "outputs": [],
   "source": []
  },
  {
   "cell_type": "markdown",
   "metadata": {
    "id": "K7lsPqtEfUos"
   },
   "source": [
    "### Lottery "
   ]
  },
  {
   "cell_type": "code",
   "execution_count": null,
   "metadata": {
    "id": "C2mLnkgMfUot"
   },
   "outputs": [],
   "source": [
    "lot_df = pd.read_csv('sim_results/lottery_1.0.csv', index_col=False)"
   ]
  },
  {
   "cell_type": "code",
   "execution_count": null,
   "metadata": {
    "id": "IZBQ_LSyfUot"
   },
   "outputs": [],
   "source": [
    "expired_df = lot_df[lot_df['death'] == 1]"
   ]
  },
  {
   "cell_type": "code",
   "execution_count": null,
   "metadata": {
    "id": "LRFzcifbfUou",
    "outputId": "fee6f467-7179-4eb0-82b8-b7bd3b01fd1d"
   },
   "outputs": [
    {
     "data": {
      "text/plain": [
       "32        yes\n",
       "55        yes\n",
       "112       yes\n",
       "120       yes\n",
       "124       yes\n",
       "         ... \n",
       "651964    yes\n",
       "651966    yes\n",
       "651991    yes\n",
       "651993    yes\n",
       "651994    yes\n",
       "Name: allocated_vent, Length: 32340, dtype: object"
      ]
     },
     "execution_count": 16,
     "metadata": {},
     "output_type": "execute_result"
    }
   ],
   "source": [
    "expired_df['allocated_vent']"
   ]
  },
  {
   "cell_type": "code",
   "execution_count": null,
   "metadata": {
    "id": "sC41NwZRfUou",
    "outputId": "6853e5e6-4662-4cb5-8792-14a5b82b8ac7"
   },
   "outputs": [
    {
     "data": {
      "text/plain": [
       "4.960122699386503"
      ]
     },
     "execution_count": 17,
     "metadata": {},
     "output_type": "execute_result"
    }
   ],
   "source": [
    "# percentage died\n",
    "(len(expired_df) / len(lot_df) ) * 100"
   ]
  },
  {
   "cell_type": "code",
   "execution_count": null,
   "metadata": {
    "id": "QSgFTLnNfUou",
    "outputId": "5a9bfe7f-b54a-4314-ba17-50f608452f72"
   },
   "outputs": [
    {
     "data": {
      "text/plain": [
       "Counter({2.0: 9739, 1.0: 18151, 0.0: 1030, 3.0: 3420})"
      ]
     },
     "execution_count": 18,
     "metadata": {},
     "output_type": "execute_result"
    }
   ],
   "source": [
    "Counter(expired_df['qSOFA_score'])"
   ]
  },
  {
   "cell_type": "code",
   "execution_count": null,
   "metadata": {
    "id": "3zq-HAxufUou",
    "outputId": "9ba61273-6b3a-45b1-f7a5-9001dc384812"
   },
   "outputs": [
    {
     "data": {
      "text/plain": [
       "Counter({'White': 9260,\n",
       "         'Hispanic': 15034,\n",
       "         'Black or African American': 3770,\n",
       "         'Other Race': 1958,\n",
       "         'Unknown': 1389,\n",
       "         'Decline to Specify': 584,\n",
       "         'Asian': 239,\n",
       "         'American Indian/Alaska Native': 106})"
      ]
     },
     "execution_count": 19,
     "metadata": {},
     "output_type": "execute_result"
    }
   ],
   "source": [
    "# to get means divide by iterations \n",
    "death_counts = Counter(expired_df['race_display'])\n",
    "death_counts"
   ]
  },
  {
   "cell_type": "code",
   "execution_count": null,
   "metadata": {
    "id": "jZ4C0p28fUou",
    "outputId": "7984968c-6a75-405c-c94d-f83d41994d90"
   },
   "outputs": [
    {
     "data": {
      "text/plain": [
       "Counter({'Hispanic': 8214,\n",
       "         'White': 5910,\n",
       "         'Black or African American': 1760,\n",
       "         'Other Race': 858,\n",
       "         'Decline to Specify': 328,\n",
       "         'Unknown': 840,\n",
       "         'Asian': 144,\n",
       "         'American Indian/Alaska Native': 97})"
      ]
     },
     "execution_count": 20,
     "metadata": {},
     "output_type": "execute_result"
    }
   ],
   "source": [
    "counts = Counter(expired_df[expired_df['qSOFA_score'] == 1.0]['race_display'])\n",
    "counts"
   ]
  },
  {
   "cell_type": "code",
   "execution_count": null,
   "metadata": {
    "id": "R_UT_QhtfUov",
    "outputId": "73ab9e6d-bd59-4bff-e5ff-3acaf2ad5766"
   },
   "outputs": [
    {
     "data": {
      "text/plain": [
       "{'Hispanic': 54.636158041771985,\n",
       " 'White': 63.822894168466526,\n",
       " 'Black or African American': 46.684350132625994,\n",
       " 'Other Race': 43.82022471910113,\n",
       " 'Decline to Specify': 56.16438356164384,\n",
       " 'Unknown': 60.475161987041034,\n",
       " 'Asian': 60.25104602510461,\n",
       " 'American Indian/Alaska Native': 91.50943396226415}"
      ]
     },
     "execution_count": 21,
     "metadata": {},
     "output_type": "execute_result"
    }
   ],
   "source": [
    "# Proportion of patients with score of 1\n",
    "counts = Counter(expired_df[expired_df['qSOFA_score'] == 1.0]['race_display'])\n",
    "prop_dict = {}\n",
    "\n",
    "for key in counts: \n",
    "    prop_dict[key] = (counts[key] / death_counts[key]) * 100 \n",
    "\n",
    "prop_dict"
   ]
  },
  {
   "cell_type": "code",
   "execution_count": null,
   "metadata": {
    "id": "vw2n5jg5fUov",
    "outputId": "74d3467a-45f4-4012-d536-777a84688627"
   },
   "outputs": [
    {
     "data": {
      "text/plain": [
       "{'White': 24.481641468682504,\n",
       " 'Hispanic': 34.00957828921112,\n",
       " 'Black or African American': 38.647214854111404,\n",
       " 'Other Race': 26.710929519918285,\n",
       " 'Unknown': 21.382289416846653,\n",
       " 'Asian': 34.30962343096235}"
      ]
     },
     "execution_count": 22,
     "metadata": {},
     "output_type": "execute_result"
    }
   ],
   "source": [
    "# Proportion of patients with score of 2\n",
    "counts = Counter(expired_df[expired_df['qSOFA_score'] == 2.0]['race_display'])\n",
    "\n",
    "\n",
    "prop_dict = {}\n",
    "\n",
    "for key in counts: \n",
    "    prop_dict[key] = (counts[key] / death_counts[key]) * 100 \n",
    "\n",
    "prop_dict"
   ]
  },
  {
   "cell_type": "code",
   "execution_count": null,
   "metadata": {
    "id": "DftFavvZfUov",
    "outputId": "9bfbe8ec-7102-48e7-96c6-853e7b00f128"
   },
   "outputs": [
    {
     "data": {
      "text/plain": [
       "{'Black or African American': 12.679045092838196,\n",
       " 'Hispanic': 8.055075162963949,\n",
       " 'Other Race': 25.4341164453524,\n",
       " 'White': 8.099352051835854,\n",
       " 'Decline to Specify': 42.63698630136986,\n",
       " 'Unknown': 16.846652267818573}"
      ]
     },
     "execution_count": 23,
     "metadata": {},
     "output_type": "execute_result"
    }
   ],
   "source": [
    "# Proportion of patients with score of 3\n",
    "counts = Counter(expired_df[expired_df['qSOFA_score'] == 3.0]['race_display'])\n",
    "\n",
    "prop_dict = {}\n",
    "\n",
    "for key in counts: \n",
    "    prop_dict[key] = (counts[key] / death_counts[key]) * 100 \n",
    "\n",
    "prop_dict"
   ]
  },
  {
   "cell_type": "code",
   "execution_count": null,
   "metadata": {
    "id": "aRDN0XvBfUov",
    "outputId": "7639f12a-27cd-4a7a-bb65-a7e5637eac9d"
   },
   "outputs": [
    {
     "data": {
      "text/plain": [
       "<AxesSubplot:>"
      ]
     },
     "execution_count": 24,
     "metadata": {},
     "output_type": "execute_result"
    },
    {
     "data": {
      "image/png": "[encoded data removed]",
      "text/plain": [
       "<Figure size 432x288 with 1 Axes>"
      ]
     },
     "metadata": {
      "needs_background": "light"
     },
     "output_type": "display_data"
    }
   ],
   "source": [
    "expired_df[expired_df['race_display'] == 'Hispanic']['qSOFA_score'].hist()"
   ]
  },
  {
   "cell_type": "code",
   "execution_count": null,
   "metadata": {
    "id": "map42nMofUov",
    "outputId": "0666d90a-1b63-49fd-d2f1-45eaf81e46d0"
   },
   "outputs": [
    {
     "data": {
      "text/plain": [
       "<AxesSubplot:>"
      ]
     },
     "execution_count": 25,
     "metadata": {},
     "output_type": "execute_result"
    },
    {
     "data": {
      "image/png": "[encoded data removed]",
      "text/plain": [
       "<Figure size 432x288 with 1 Axes>"
      ]
     },
     "metadata": {
      "needs_background": "light"
     },
     "output_type": "display_data"
    }
   ],
   "source": [
    "expired_df[expired_df['race_display'] == 'White']['qSOFA_score'].hist()"
   ]
  },
  {
   "cell_type": "code",
   "execution_count": null,
   "metadata": {
    "id": "r5dUe2g6fUow",
    "outputId": "4e59a8ab-0a42-4eba-c3dd-565c519c0c9d"
   },
   "outputs": [
    {
     "data": {
      "text/plain": [
       "<AxesSubplot:>"
      ]
     },
     "execution_count": 26,
     "metadata": {},
     "output_type": "execute_result"
    },
    {
     "data": {
      "image/png": "[encoded data removed]",
      "text/plain": [
       "<Figure size 432x288 with 1 Axes>"
      ]
     },
     "metadata": {
      "needs_background": "light"
     },
     "output_type": "display_data"
    }
   ],
   "source": [
    "expired_df[expired_df['race_display'] == 'Black or African American']['qSOFA_score'].hist()"
   ]
  },
  {
   "cell_type": "markdown",
   "metadata": {
    "id": "a6f9PtCKfUow"
   },
   "source": [
    "### New York"
   ]
  },
  {
   "cell_type": "code",
   "execution_count": null,
   "metadata": {
    "id": "dfWhFUhIfUow",
    "outputId": "da298d9b-3785-40ba-cc5a-c727ce5c855d"
   },
   "outputs": [
    {
     "data": {
      "text/plain": [
       "Counter({'White': 9283,\n",
       "         'Hispanic': 15051,\n",
       "         'Black or African American': 3738,\n",
       "         'Asian': 293,\n",
       "         'Other Race': 1870,\n",
       "         'Unknown': 1429,\n",
       "         'Decline to Specify': 628,\n",
       "         'American Indian/Alaska Native': 111})"
      ]
     },
     "execution_count": 27,
     "metadata": {},
     "output_type": "execute_result"
    }
   ],
   "source": [
    "lot_df = pd.read_csv('sim_results/new_york_1.0.csv', index_col=False)\n",
    "expired_df = lot_df[lot_df['death'] == 1]\n",
    "death_counts = Counter(expired_df['race_display'])\n",
    "death_counts"
   ]
  },
  {
   "cell_type": "code",
   "execution_count": null,
   "metadata": {
    "id": "BTpHbraUfUow",
    "outputId": "57922489-6a5a-4a83-a45c-2d0ecbf600df"
   },
   "outputs": [
    {
     "data": {
      "text/plain": [
       "4.96978527607362"
      ]
     },
     "execution_count": 28,
     "metadata": {},
     "output_type": "execute_result"
    }
   ],
   "source": [
    "# percentage died \n",
    "(len(expired_df) / len(lot_df) ) * 100"
   ]
  },
  {
   "cell_type": "code",
   "execution_count": null,
   "metadata": {
    "id": "tn1ML72SfUow",
    "outputId": "54ad468f-098a-4feb-cb0e-3be7590ee0db"
   },
   "outputs": [
    {
     "data": {
      "text/plain": [
       "{'Black or African American': 2.0599250936329585,\n",
       " 'Hispanic': 3.9864460833167232,\n",
       " 'White': 3.3825272002585374,\n",
       " 'Other Race': 3.9037433155080214,\n",
       " 'Asian': 6.825938566552901,\n",
       " 'American Indian/Alaska Native': 5.405405405405405,\n",
       " 'Unknown': 0.979706088173548,\n",
       " 'Decline to Specify': 0.3184713375796179}"
      ]
     },
     "execution_count": 29,
     "metadata": {},
     "output_type": "execute_result"
    }
   ],
   "source": [
    "counts = Counter(expired_df[expired_df['qSOFA_score'] == 0.0]['race_display'])\n",
    "prop_dict = {}\n",
    "\n",
    "for key in counts: \n",
    "    prop_dict[key] = (counts[key] / death_counts[key]) * 100 \n",
    "\n",
    "prop_dict"
   ]
  },
  {
   "cell_type": "code",
   "execution_count": null,
   "metadata": {
    "id": "glcYZmD_fUow",
    "outputId": "733dd618-7c87-401d-e9f6-bffd2d8acbdf"
   },
   "outputs": [
    {
     "data": {
      "text/plain": [
       "{'White': 63.794032101691265,\n",
       " 'Hispanic': 53.418377516444096,\n",
       " 'Black or African American': 45.05082932049224,\n",
       " 'Asian': 58.36177474402731,\n",
       " 'Other Race': 43.79679144385027,\n",
       " 'Unknown': 59.97200839748076,\n",
       " 'Decline to Specify': 60.35031847133758,\n",
       " 'American Indian/Alaska Native': 94.5945945945946}"
      ]
     },
     "execution_count": 30,
     "metadata": {},
     "output_type": "execute_result"
    }
   ],
   "source": [
    "counts = Counter(expired_df[expired_df['qSOFA_score'] == 1.0]['race_display'])\n",
    "prop_dict = {}\n",
    "\n",
    "for key in counts: \n",
    "    prop_dict[key] = (counts[key] / death_counts[key]) * 100 \n",
    "\n",
    "prop_dict"
   ]
  },
  {
   "cell_type": "code",
   "execution_count": null,
   "metadata": {
    "id": "yLKjaBc0fUox",
    "outputId": "bc5bc64f-fa7e-4bd5-d37a-f9da7c3534ee"
   },
   "outputs": [
    {
     "data": {
      "text/plain": [
       "{'White': 25.239685446515136,\n",
       " 'Other Race': 26.31016042780749,\n",
       " 'Hispanic': 34.52926715832835,\n",
       " 'Unknown': 21.553533939818053,\n",
       " 'Black or African American': 40.18191546281434,\n",
       " 'Asian': 34.8122866894198}"
      ]
     },
     "execution_count": 31,
     "metadata": {},
     "output_type": "execute_result"
    }
   ],
   "source": [
    "counts = Counter(expired_df[expired_df['qSOFA_score'] == 2.0]['race_display'])\n",
    "prop_dict = {}\n",
    "\n",
    "for key in counts: \n",
    "    prop_dict[key] = (counts[key] / death_counts[key]) * 100 \n",
    "\n",
    "prop_dict"
   ]
  },
  {
   "cell_type": "code",
   "execution_count": null,
   "metadata": {
    "id": "N-aKqZADfUox",
    "outputId": "f3ca7523-ee4f-4bdc-a8d1-0cd21f08b73d"
   },
   "outputs": [
    {
     "data": {
      "text/plain": [
       "{'White': 7.583755251535064,\n",
       " 'Black or African American': 12.707330123060459,\n",
       " 'Decline to Specify': 39.3312101910828,\n",
       " 'Hispanic': 8.065909241910836,\n",
       " 'Unknown': 17.49475157452764,\n",
       " 'Other Race': 25.989304812834224}"
      ]
     },
     "execution_count": 32,
     "metadata": {},
     "output_type": "execute_result"
    }
   ],
   "source": [
    "counts = Counter(expired_df[expired_df['qSOFA_score'] == 3.0]['race_display'])\n",
    "prop_dict = {}\n",
    "\n",
    "for key in counts: \n",
    "    prop_dict[key] = (counts[key] / death_counts[key]) * 100 \n",
    "\n",
    "prop_dict"
   ]
  },
  {
   "cell_type": "code",
   "execution_count": null,
   "metadata": {
    "id": "eYhk09WZfUox",
    "outputId": "3608170f-d742-4141-938c-c630ce58eefc"
   },
   "outputs": [
    {
     "name": "stdout",
     "output_type": "stream",
     "text": [
      "AxesSubplot(0.125,0.125;0.775x0.755)\n"
     ]
    },
    {
     "data": {
      "image/png": "[encoded data removed]",
      "text/plain": [
       "<Figure size 432x288 with 1 Axes>"
      ]
     },
     "metadata": {
      "needs_background": "light"
     },
     "output_type": "display_data"
    }
   ],
   "source": [
    "print(expired_df[expired_df['race_display'] == 'Hispanic']['qSOFA_score'].hist())"
   ]
  },
  {
   "cell_type": "code",
   "execution_count": null,
   "metadata": {
    "id": "lvLl4feEfUox",
    "outputId": "f453a30d-4e3b-4dbd-cbc4-59f35e8d4909"
   },
   "outputs": [
    {
     "name": "stdout",
     "output_type": "stream",
     "text": [
      "AxesSubplot(0.125,0.125;0.775x0.755)\n"
     ]
    },
    {
     "data": {
      "image/png": "[encoded data removed]",
      "text/plain": [
       "<Figure size 432x288 with 1 Axes>"
      ]
     },
     "metadata": {
      "needs_background": "light"
     },
     "output_type": "display_data"
    }
   ],
   "source": [
    "print(expired_df[expired_df['race_display'] == 'White']['qSOFA_score'].hist())"
   ]
  },
  {
   "cell_type": "code",
   "execution_count": null,
   "metadata": {
    "id": "GuakzG4jfUox",
    "outputId": "61cf4a3e-29ad-4c4f-d44b-d2e290f27a96"
   },
   "outputs": [
    {
     "name": "stdout",
     "output_type": "stream",
     "text": [
      "AxesSubplot(0.125,0.125;0.775x0.755)\n"
     ]
    },
    {
     "data": {
      "image/png": "[encoded data removed]",
      "text/plain": [
       "<Figure size 432x288 with 1 Axes>"
      ]
     },
     "metadata": {
      "needs_background": "light"
     },
     "output_type": "display_data"
    }
   ],
   "source": [
    "print(expired_df[expired_df['race_display'] == 'Black or African American']['qSOFA_score'].hist())"
   ]
  },
  {
   "cell_type": "markdown",
   "metadata": {
    "id": "EnXPEQ_mfUoy"
   },
   "source": [
    "### Maryland "
   ]
  },
  {
   "cell_type": "code",
   "execution_count": null,
   "metadata": {
    "id": "27SSutPufUoy",
    "outputId": "b8c5ea7a-fa7f-48ea-9fa0-1927d0f7e3cd"
   },
   "outputs": [
    {
     "data": {
      "text/plain": [
       "Counter({'White': 9173,\n",
       "         'Hispanic': 15079,\n",
       "         'Black or African American': 3818,\n",
       "         'Decline to Specify': 590,\n",
       "         'Unknown': 1443,\n",
       "         'Other Race': 1908,\n",
       "         'Asian': 254,\n",
       "         'American Indian/Alaska Native': 89})"
      ]
     },
     "execution_count": 36,
     "metadata": {},
     "output_type": "execute_result"
    }
   ],
   "source": [
    "lot_df = pd.read_csv('sim_results/maryland_1.0.csv', index_col=False)\n",
    "expired_df = lot_df[lot_df['death'] == 1]\n",
    "death_counts = Counter(expired_df['race_display'])\n",
    "death_counts"
   ]
  },
  {
   "cell_type": "code",
   "execution_count": null,
   "metadata": {
    "id": "yqUxYaxsfUoy",
    "outputId": "12ba507e-a25a-4acd-80ee-ae84a799a005"
   },
   "outputs": [
    {
     "data": {
      "text/plain": [
       "{'White': 3.6193175624114247,\n",
       " 'Asian': 6.692913385826772,\n",
       " 'Hispanic': 3.6209297698786393,\n",
       " 'Other Race': 3.668763102725367,\n",
       " 'Unknown': 0.9009009009009009,\n",
       " 'Black or African American': 1.859612362493452,\n",
       " 'Decline to Specify': 0.6779661016949152,\n",
       " 'American Indian/Alaska Native': 7.865168539325842}"
      ]
     },
     "execution_count": 37,
     "metadata": {},
     "output_type": "execute_result"
    }
   ],
   "source": [
    "counts = Counter(expired_df[expired_df['qSOFA_score'] == 0.0]['race_display'])\n",
    "prop_dict = {}\n",
    "\n",
    "for key in counts: \n",
    "    prop_dict[key] = (counts[key] / death_counts[key]) * 100 \n",
    "\n",
    "prop_dict"
   ]
  },
  {
   "cell_type": "code",
   "execution_count": null,
   "metadata": {
    "id": "pVccLq25fUoy",
    "outputId": "c977f98a-ab2a-4f11-b7de-2866b4c2bbd0"
   },
   "outputs": [
    {
     "data": {
      "text/plain": [
       "{'White': 63.97034775972964,\n",
       " 'Hispanic': 53.75688042973672,\n",
       " 'Black or African American': 46.909376636982714,\n",
       " 'Decline to Specify': 59.66101694915255,\n",
       " 'Other Race': 45.80712788259958,\n",
       " 'Unknown': 58.62785862785863,\n",
       " 'Asian': 50.0,\n",
       " 'American Indian/Alaska Native': 92.13483146067416}"
      ]
     },
     "execution_count": 38,
     "metadata": {},
     "output_type": "execute_result"
    }
   ],
   "source": [
    "counts = Counter(expired_df[expired_df['qSOFA_score'] == 1.0]['race_display'])\n",
    "prop_dict = {}\n",
    "\n",
    "for key in counts: \n",
    "    prop_dict[key] = (counts[key] / death_counts[key]) * 100 \n",
    "\n",
    "prop_dict"
   ]
  },
  {
   "cell_type": "code",
   "execution_count": null,
   "metadata": {
    "id": "8Xz9ab3qfUoy",
    "outputId": "be34515a-59a5-4518-eaa1-ae234f5ea532"
   },
   "outputs": [
    {
     "data": {
      "text/plain": [
       "{'White': 24.45219666412297,\n",
       " 'Unknown': 21.483021483021485,\n",
       " 'Hispanic': 34.83652762119504,\n",
       " 'Black or African American': 37.71608171817706,\n",
       " 'Other Race': 24.737945492662476,\n",
       " 'Asian': 43.30708661417323}"
      ]
     },
     "execution_count": 39,
     "metadata": {},
     "output_type": "execute_result"
    }
   ],
   "source": [
    "counts = Counter(expired_df[expired_df['qSOFA_score'] == 2.0]['race_display'])\n",
    "prop_dict = {}\n",
    "\n",
    "for key in counts: \n",
    "    prop_dict[key] = (counts[key] / death_counts[key]) * 100 \n",
    "\n",
    "prop_dict"
   ]
  },
  {
   "cell_type": "code",
   "execution_count": null,
   "metadata": {
    "id": "yjwOWEahfUoy",
    "outputId": "8999d4d2-bb07-45f9-d387-f8e64e8fe526"
   },
   "outputs": [
    {
     "data": {
      "text/plain": [
       "{'Black or African American': 13.514929282346777,\n",
       " 'White': 7.958138013735964,\n",
       " 'Hispanic': 7.7856621791896,\n",
       " 'Unknown': 18.98821898821899,\n",
       " 'Other Race': 25.78616352201258,\n",
       " 'Decline to Specify': 39.66101694915255}"
      ]
     },
     "execution_count": 40,
     "metadata": {},
     "output_type": "execute_result"
    }
   ],
   "source": [
    "counts = Counter(expired_df[expired_df['qSOFA_score'] == 3.0]['race_display'])\n",
    "prop_dict = {}\n",
    "\n",
    "for key in counts: \n",
    "    prop_dict[key] = (counts[key] / death_counts[key]) * 100 \n",
    "\n",
    "prop_dict"
   ]
  },
  {
   "cell_type": "code",
   "execution_count": null,
   "metadata": {
    "id": "FLz3c7lpfUoz",
    "outputId": "cc005030-b8f3-4008-ccc5-f27e6704ccd9"
   },
   "outputs": [
    {
     "name": "stdout",
     "output_type": "stream",
     "text": [
      "AxesSubplot(0.125,0.125;0.775x0.755)\n"
     ]
    },
    {
     "data": {
      "image/png": "[encoded data removed]",
      "text/plain": [
       "<Figure size 432x288 with 1 Axes>"
      ]
     },
     "metadata": {
      "needs_background": "light"
     },
     "output_type": "display_data"
    }
   ],
   "source": [
    "print(expired_df[expired_df['race_display'] == 'Hispanic']['qSOFA_score'].hist())"
   ]
  },
  {
   "cell_type": "code",
   "execution_count": null,
   "metadata": {
    "id": "Tnf0SJxgfUoz",
    "outputId": "3b8e649a-7b4a-4826-8691-df72b02efe5c"
   },
   "outputs": [
    {
     "name": "stdout",
     "output_type": "stream",
     "text": [
      "AxesSubplot(0.125,0.125;0.775x0.755)\n"
     ]
    },
    {
     "data": {
      "image/png": "[encoded data removed]",
      "text/plain": [
       "<Figure size 432x288 with 1 Axes>"
      ]
     },
     "metadata": {
      "needs_background": "light"
     },
     "output_type": "display_data"
    }
   ],
   "source": [
    "print(expired_df[expired_df['race_display'] == 'White']['qSOFA_score'].hist())"
   ]
  },
  {
   "cell_type": "code",
   "execution_count": null,
   "metadata": {
    "id": "0at5dSvWfUoz",
    "outputId": "04736d1a-ab14-4ca9-c242-01260c2bc2e6"
   },
   "outputs": [
    {
     "name": "stdout",
     "output_type": "stream",
     "text": [
      "AxesSubplot(0.125,0.125;0.775x0.755)\n"
     ]
    },
    {
     "data": {
      "image/png": "[encoded data removed]",
      "text/plain": [
       "<Figure size 432x288 with 1 Axes>"
      ]
     },
     "metadata": {
      "needs_background": "light"
     },
     "output_type": "display_data"
    }
   ],
   "source": [
    "print(expired_df[expired_df['race_display'] == 'Black or African American']['qSOFA_score'].hist())"
   ]
  },
  {
   "cell_type": "markdown",
   "metadata": {
    "id": "p71m8CbvfUoz"
   },
   "source": [
    "### Youngest"
   ]
  },
  {
   "cell_type": "code",
   "execution_count": null,
   "metadata": {
    "id": "RD_UwZOWfUoz",
    "outputId": "91bd658e-4758-47ed-9caa-7ac7c6daca74"
   },
   "outputs": [
    {
     "data": {
      "text/plain": [
       "Counter({'Unknown': 1411,\n",
       "         'Other Race': 1864,\n",
       "         'Hispanic': 15039,\n",
       "         'White': 9358,\n",
       "         'Black or African American': 3902,\n",
       "         'Decline to Specify': 608,\n",
       "         'American Indian/Alaska Native': 94,\n",
       "         'Asian': 276})"
      ]
     },
     "execution_count": 44,
     "metadata": {},
     "output_type": "execute_result"
    }
   ],
   "source": [
    "lot_df = pd.read_csv('sim_results/youngest_1.0.csv', index_col=False)\n",
    "expired_df = lot_df[lot_df['death'] == 1]\n",
    "death_counts = Counter(expired_df['race_display'])\n",
    "death_counts"
   ]
  },
  {
   "cell_type": "code",
   "execution_count": null,
   "metadata": {
    "id": "DsPESAwjfUo0",
    "outputId": "d15c13c8-809f-4bf7-8930-8b155dc36ff9"
   },
   "outputs": [
    {
     "data": {
      "text/plain": [
       "4.992638036809816"
      ]
     },
     "execution_count": 45,
     "metadata": {},
     "output_type": "execute_result"
    }
   ],
   "source": [
    "# percentage died \n",
    "(len(expired_df) / len(lot_df) ) * 100"
   ]
  },
  {
   "cell_type": "code",
   "execution_count": null,
   "metadata": {
    "id": "U8N09uhvfUo0",
    "outputId": "c824769b-2167-4926-c57f-386bec44b2a3"
   },
   "outputs": [
    {
     "data": {
      "text/plain": [
       "{'White': 3.1523829878179095,\n",
       " 'Black or African American': 2.3577652485904665,\n",
       " 'Hispanic': 3.4709754637941357,\n",
       " 'Other Race': 4.345493562231759,\n",
       " 'Asian': 5.434782608695652,\n",
       " 'Decline to Specify': 1.8092105263157896,\n",
       " 'Unknown': 0.9213323883770376,\n",
       " 'American Indian/Alaska Native': 2.127659574468085}"
      ]
     },
     "execution_count": 46,
     "metadata": {},
     "output_type": "execute_result"
    }
   ],
   "source": [
    "counts = Counter(expired_df[expired_df['qSOFA_score'] == 0.0]['race_display'])\n",
    "prop_dict = {}\n",
    "\n",
    "for key in counts: \n",
    "    prop_dict[key] = (counts[key] / death_counts[key]) * 100 \n",
    "\n",
    "prop_dict"
   ]
  },
  {
   "cell_type": "code",
   "execution_count": null,
   "metadata": {
    "id": "qMpV661JfUo0",
    "outputId": "4f9aa931-3ed3-483e-ae02-78c10962cd34"
   },
   "outputs": [
    {
     "data": {
      "text/plain": [
       "{'Other Race': 43.776824034334766,\n",
       " 'Hispanic': 53.78682093224284,\n",
       " 'White': 64.45821756785638,\n",
       " 'Black or African American': 44.54126089185033,\n",
       " 'Unknown': 60.80793763288448,\n",
       " 'Decline to Specify': 56.74342105263158,\n",
       " 'American Indian/Alaska Native': 97.87234042553192,\n",
       " 'Asian': 56.52173913043478}"
      ]
     },
     "execution_count": 47,
     "metadata": {},
     "output_type": "execute_result"
    }
   ],
   "source": [
    "counts = Counter(expired_df[expired_df['qSOFA_score'] == 1.0]['race_display'])\n",
    "prop_dict = {}\n",
    "\n",
    "for key in counts: \n",
    "    prop_dict[key] = (counts[key] / death_counts[key]) * 100 \n",
    "\n",
    "prop_dict"
   ]
  },
  {
   "cell_type": "code",
   "execution_count": null,
   "metadata": {
    "id": "KOY-cZCQfUo0",
    "outputId": "c42eaba2-ed25-4aa3-9d1a-97641328aaf6"
   },
   "outputs": [
    {
     "data": {
      "text/plain": [
       "{'Unknown': 23.03330970942594,\n",
       " 'Hispanic': 34.8493915818871,\n",
       " 'Black or African American': 39.56945156330087,\n",
       " 'White': 24.438982688608675,\n",
       " 'Other Race': 25.482832618025753,\n",
       " 'Asian': 38.04347826086957}"
      ]
     },
     "execution_count": 48,
     "metadata": {},
     "output_type": "execute_result"
    }
   ],
   "source": [
    "counts = Counter(expired_df[expired_df['qSOFA_score'] == 2.0]['race_display'])\n",
    "prop_dict = {}\n",
    "\n",
    "for key in counts: \n",
    "    prop_dict[key] = (counts[key] / death_counts[key]) * 100 \n",
    "\n",
    "prop_dict"
   ]
  },
  {
   "cell_type": "code",
   "execution_count": null,
   "metadata": {
    "id": "x_QIZFe_fUo0",
    "outputId": "abee0e24-d91a-4c07-b4ed-026e61bbbcd0"
   },
   "outputs": [
    {
     "data": {
      "text/plain": [
       "{'White': 7.9504167557170335,\n",
       " 'Hispanic': 7.892812022075936,\n",
       " 'Decline to Specify': 41.44736842105263,\n",
       " 'Other Race': 26.394849785407725,\n",
       " 'Black or African American': 13.53152229625833,\n",
       " 'Unknown': 15.237420269312544}"
      ]
     },
     "execution_count": 49,
     "metadata": {},
     "output_type": "execute_result"
    }
   ],
   "source": [
    "counts = Counter(expired_df[expired_df['qSOFA_score'] == 3.0]['race_display'])\n",
    "prop_dict = {}\n",
    "\n",
    "for key in counts: \n",
    "    prop_dict[key] = (counts[key] / death_counts[key]) * 100 \n",
    "\n",
    "prop_dict"
   ]
  },
  {
   "cell_type": "code",
   "execution_count": null,
   "metadata": {
    "id": "Z5MnA_BHfUo1",
    "outputId": "aca44498-c944-4075-b1f1-7cb1cf8bfdd9"
   },
   "outputs": [
    {
     "name": "stdout",
     "output_type": "stream",
     "text": [
      "AxesSubplot(0.125,0.125;0.775x0.755)\n"
     ]
    },
    {
     "data": {
      "image/png": "[encoded data removed]",
      "text/plain": [
       "<Figure size 432x288 with 1 Axes>"
      ]
     },
     "metadata": {
      "needs_background": "light"
     },
     "output_type": "display_data"
    }
   ],
   "source": [
    "print(expired_df[expired_df['race_display'] == 'Hispanic']['qSOFA_score'].hist())"
   ]
  },
  {
   "cell_type": "code",
   "execution_count": null,
   "metadata": {
    "id": "_lQB9cDSfUo1",
    "outputId": "35456733-d4b0-451f-8666-98861f528898"
   },
   "outputs": [
    {
     "name": "stdout",
     "output_type": "stream",
     "text": [
      "AxesSubplot(0.125,0.125;0.775x0.755)\n"
     ]
    },
    {
     "data": {
      "image/png": "[encoded data removed]",
      "text/plain": [
       "<Figure size 432x288 with 1 Axes>"
      ]
     },
     "metadata": {
      "needs_background": "light"
     },
     "output_type": "display_data"
    }
   ],
   "source": [
    "print(expired_df[expired_df['race_display'] == 'White']['qSOFA_score'].hist())"
   ]
  },
  {
   "cell_type": "code",
   "execution_count": null,
   "metadata": {
    "id": "iYGK_S-efUo1",
    "outputId": "f5369a9d-a1b0-432a-feea-9ee0709d88a8"
   },
   "outputs": [
    {
     "name": "stdout",
     "output_type": "stream",
     "text": [
      "AxesSubplot(0.125,0.125;0.775x0.755)\n"
     ]
    },
    {
     "data": {
      "image/png": "[encoded data removed]",
      "text/plain": [
       "<Figure size 432x288 with 1 Axes>"
      ]
     },
     "metadata": {
      "needs_background": "light"
     },
     "output_type": "display_data"
    }
   ],
   "source": [
    "print(expired_df[expired_df['race_display'] == 'Black or African American']['qSOFA_score'].hist())"
   ]
  },
  {
   "cell_type": "markdown",
   "metadata": {
    "id": "Te-meRVIfUo1"
   },
   "source": [
    "### Sickest "
   ]
  },
  {
   "cell_type": "code",
   "execution_count": null,
   "metadata": {
    "id": "awE7BCRYfUo1",
    "outputId": "adda9965-486c-4a7b-8e4e-cf610ef5655f"
   },
   "outputs": [
    {
     "data": {
      "text/plain": [
       "Counter({'Black or African American': 3768,\n",
       "         'Hispanic': 15273,\n",
       "         'Decline to Specify': 642,\n",
       "         'Other Race': 1923,\n",
       "         'Unknown': 1437,\n",
       "         'White': 9214,\n",
       "         'Asian': 252,\n",
       "         'American Indian/Alaska Native': 105})"
      ]
     },
     "execution_count": 53,
     "metadata": {},
     "output_type": "execute_result"
    }
   ],
   "source": [
    "lot_df = pd.read_csv('sim_results/sickest_first_1.0.csv', index_col=False)\n",
    "expired_df = lot_df[lot_df['death'] == 1]\n",
    "death_counts = Counter(expired_df['race_display'])\n",
    "death_counts"
   ]
  },
  {
   "cell_type": "code",
   "execution_count": null,
   "metadata": {
    "id": "AzliU2zsfUo1",
    "outputId": "51abe2b8-a297-431c-c477-3bbd01ef2f02"
   },
   "outputs": [
    {
     "data": {
      "text/plain": [
       "5.002147239263803"
      ]
     },
     "execution_count": 54,
     "metadata": {},
     "output_type": "execute_result"
    }
   ],
   "source": [
    "# percentage died\n",
    "(len(expired_df) / len(lot_df) ) * 100"
   ]
  },
  {
   "cell_type": "code",
   "execution_count": null,
   "metadata": {
    "id": "IQhzQEw3fUo1",
    "outputId": "0924374b-b2ad-4269-aab9-d3d031e0254c"
   },
   "outputs": [
    {
     "data": {
      "text/plain": [
       "{'Hispanic': 3.6404111831336343,\n",
       " 'White': 2.897764271760365,\n",
       " 'Other Race': 3.2761310452418098,\n",
       " 'Black or African American': 1.8046709129511678,\n",
       " 'Unknown': 1.8093249826026443,\n",
       " 'Decline to Specify': 1.2461059190031152,\n",
       " 'Asian': 5.555555555555555,\n",
       " 'American Indian/Alaska Native': 2.857142857142857}"
      ]
     },
     "execution_count": 55,
     "metadata": {},
     "output_type": "execute_result"
    }
   ],
   "source": [
    "counts = Counter(expired_df[expired_df['qSOFA_score'] == 0.0]['race_display'])\n",
    "prop_dict = {}\n",
    "\n",
    "\n",
    "for key in counts: \n",
    "    prop_dict[key] = (counts[key] / death_counts[key]) * 100 \n",
    "\n",
    "prop_dict"
   ]
  },
  {
   "cell_type": "code",
   "execution_count": null,
   "metadata": {
    "id": "L_108WNPfUo2",
    "outputId": "03b1c479-0c15-4881-eabc-310ac80ba2a6"
   },
   "outputs": [
    {
     "data": {
      "text/plain": [
       "{'Black or African American': 47.1072186836518,\n",
       " 'Hispanic': 54.80259281084267,\n",
       " 'Decline to Specify': 57.943925233644855,\n",
       " 'White': 64.81441285001085,\n",
       " 'Asian': 57.53968253968254,\n",
       " 'Other Race': 45.13780551222049,\n",
       " 'Unknown': 62.00417536534447,\n",
       " 'American Indian/Alaska Native': 97.14285714285714}"
      ]
     },
     "execution_count": 56,
     "metadata": {},
     "output_type": "execute_result"
    }
   ],
   "source": [
    "counts = Counter(expired_df[expired_df['qSOFA_score'] == 1.0]['race_display'])\n",
    "prop_dict = {}\n",
    "\n",
    "for key in counts: \n",
    "    prop_dict[key] = (counts[key] / death_counts[key]) * 100 \n",
    "\n",
    "prop_dict"
   ]
  },
  {
   "cell_type": "code",
   "execution_count": null,
   "metadata": {
    "id": "DPIKLawTfUo2",
    "outputId": "5fb149ce-d9e9-4dcf-a111-c568052103ac"
   },
   "outputs": [
    {
     "data": {
      "text/plain": [
       "{'Other Race': 26.053042121684868,\n",
       " 'Hispanic': 33.84403849931251,\n",
       " 'White': 24.430214890384196,\n",
       " 'Black or African American': 39.2515923566879,\n",
       " 'Unknown': 19.345859429366737,\n",
       " 'Asian': 36.904761904761905}"
      ]
     },
     "execution_count": 57,
     "metadata": {},
     "output_type": "execute_result"
    }
   ],
   "source": [
    "counts = Counter(expired_df[expired_df['qSOFA_score'] == 2.0]['race_display'])\n",
    "prop_dict = {}\n",
    "\n",
    "for key in counts: \n",
    "    prop_dict[key] = (counts[key] / death_counts[key]) * 100 \n",
    "\n",
    "prop_dict"
   ]
  },
  {
   "cell_type": "code",
   "execution_count": null,
   "metadata": {
    "id": "YeGjG-26fUo2",
    "outputId": "9f4bab68-76cd-4f70-b96a-c0e29da2139e"
   },
   "outputs": [
    {
     "data": {
      "text/plain": [
       "{'Black or African American': 11.836518046709129,\n",
       " 'Hispanic': 7.712957506711189,\n",
       " 'Decline to Specify': 40.809968847352025,\n",
       " 'Other Race': 25.533021320852832,\n",
       " 'Unknown': 16.84064022268615,\n",
       " 'White': 7.857607987844584}"
      ]
     },
     "execution_count": 58,
     "metadata": {},
     "output_type": "execute_result"
    }
   ],
   "source": [
    "counts = Counter(expired_df[expired_df['qSOFA_score'] == 3.0]['race_display'])\n",
    "prop_dict = {}\n",
    "\n",
    "for key in counts: \n",
    "    prop_dict[key] = (counts[key] / death_counts[key]) * 100 \n",
    "\n",
    "prop_dict"
   ]
  },
  {
   "cell_type": "code",
   "execution_count": null,
   "metadata": {
    "id": "PcC0JG4wfUo2",
    "outputId": "16e2a253-13b7-4f1e-b08d-703b8fd0bbb6"
   },
   "outputs": [
    {
     "name": "stdout",
     "output_type": "stream",
     "text": [
      "AxesSubplot(0.125,0.125;0.775x0.755)\n"
     ]
    },
    {
     "data": {
      "image/png": "[encoded data removed]",
      "text/plain": [
       "<Figure size 432x288 with 1 Axes>"
      ]
     },
     "metadata": {
      "needs_background": "light"
     },
     "output_type": "display_data"
    }
   ],
   "source": [
    "print(expired_df[expired_df['race_display'] == 'Hispanic']['qSOFA_score'].hist())"
   ]
  },
  {
   "cell_type": "code",
   "execution_count": null,
   "metadata": {
    "id": "NkrUaW3vfUo2",
    "outputId": "2a001797-e9dc-4e26-ab73-828c05a66732"
   },
   "outputs": [
    {
     "name": "stdout",
     "output_type": "stream",
     "text": [
      "AxesSubplot(0.125,0.125;0.775x0.755)\n"
     ]
    },
    {
     "data": {
      "image/png": "[encoded data removed]",
      "text/plain": [
       "<Figure size 432x288 with 1 Axes>"
      ]
     },
     "metadata": {
      "needs_background": "light"
     },
     "output_type": "display_data"
    }
   ],
   "source": [
    "print(expired_df[expired_df['race_display'] == 'White']['qSOFA_score'].hist())"
   ]
  },
  {
   "cell_type": "code",
   "execution_count": null,
   "metadata": {
    "id": "e8HUNUKlfUo3",
    "outputId": "fde0e8b2-e25f-4d82-e2af-f4603bb779a6"
   },
   "outputs": [
    {
     "name": "stdout",
     "output_type": "stream",
     "text": [
      "AxesSubplot(0.125,0.125;0.775x0.755)\n"
     ]
    },
    {
     "data": {
      "image/png": "[encoded data removed]",
      "text/plain": [
       "<Figure size 432x288 with 1 Axes>"
      ]
     },
     "metadata": {
      "needs_background": "light"
     },
     "output_type": "display_data"
    }
   ],
   "source": [
    "print(expired_df[expired_df['race_display'] == 'Black or African American']['qSOFA_score'].hist())"
   ]
  },
  {
   "cell_type": "markdown",
   "metadata": {
    "id": "9rz1OC_nfUo3"
   },
   "source": [
    "### Max Life Years"
   ]
  },
  {
   "cell_type": "code",
   "execution_count": null,
   "metadata": {
    "id": "OmNMPQhgfUo3",
    "outputId": "6d3b1dbc-78b5-4f39-cdfb-349fe588808f"
   },
   "outputs": [
    {
     "data": {
      "text/plain": [
       "Counter({'White': 9258,\n",
       "         'Hispanic': 14996,\n",
       "         'Asian': 272,\n",
       "         'Other Race': 1921,\n",
       "         'Black or African American': 3886,\n",
       "         'Unknown': 1323,\n",
       "         'Decline to Specify': 600,\n",
       "         'American Indian/Alaska Native': 110})"
      ]
     },
     "execution_count": 62,
     "metadata": {},
     "output_type": "execute_result"
    }
   ],
   "source": [
    "lot_df = pd.read_csv('sim_results/max_life_years_1.0.csv', index_col=False)\n",
    "expired_df = lot_df[lot_df['death'] == 1]\n",
    "death_counts = Counter(expired_df['race_display'])\n",
    "death_counts "
   ]
  },
  {
   "cell_type": "code",
   "execution_count": null,
   "metadata": {
    "id": "qyibS5jdfUo3",
    "outputId": "5c4af3fb-7149-4f3a-f07e-aa817bf70bdd"
   },
   "outputs": [
    {
     "data": {
      "text/plain": [
       "4.964110429447853"
      ]
     },
     "execution_count": 63,
     "metadata": {},
     "output_type": "execute_result"
    }
   ],
   "source": [
    "# percentage died \n",
    "(len(expired_df) / len(lot_df) ) * 100"
   ]
  },
  {
   "cell_type": "code",
   "execution_count": null,
   "metadata": {
    "id": "WecT93dJfUo3",
    "outputId": "32f0fa93-d6c8-4309-8e23-03ed83a2ab0d"
   },
   "outputs": [
    {
     "data": {
      "text/plain": [
       "{'White': 3.7481097429250374,\n",
       " 'Hispanic': 3.520938917044545,\n",
       " 'Asian': 5.88235294117647,\n",
       " 'Other Race': 4.00832899531494,\n",
       " 'Black or African American': 2.058672156459084,\n",
       " 'Unknown': 1.5117157974300832,\n",
       " 'American Indian/Alaska Native': 4.545454545454546,\n",
       " 'Decline to Specify': 0.5}"
      ]
     },
     "execution_count": 64,
     "metadata": {},
     "output_type": "execute_result"
    }
   ],
   "source": [
    "counts = Counter(expired_df[expired_df['qSOFA_score'] == 0.0]['race_display'])\n",
    "prop_dict = {}\n",
    "\n",
    "for key in counts: \n",
    "    prop_dict[key] = (counts[key] / death_counts[key]) * 100 \n",
    "\n",
    "prop_dict"
   ]
  },
  {
   "cell_type": "code",
   "execution_count": null,
   "metadata": {
    "id": "MNzI1ggpfUo3",
    "outputId": "7aba09b1-5d75-42a4-aac4-4e901d50a491"
   },
   "outputs": [
    {
     "data": {
      "text/plain": [
       "{'White': 63.68546122272629,\n",
       " 'Other Race': 46.121811556481,\n",
       " 'Hispanic': 53.734329154441184,\n",
       " 'Black or African American': 45.11065362840967,\n",
       " 'Unknown': 61.451247165532884,\n",
       " 'Decline to Specify': 54.833333333333336,\n",
       " 'American Indian/Alaska Native': 95.45454545454545,\n",
       " 'Asian': 58.08823529411765}"
      ]
     },
     "execution_count": 65,
     "metadata": {},
     "output_type": "execute_result"
    }
   ],
   "source": [
    "counts = Counter(expired_df[expired_df['qSOFA_score'] == 1.0]['race_display'])\n",
    "prop_dict = {}\n",
    "\n",
    "for key in counts: \n",
    "    prop_dict[key] = (counts[key] / death_counts[key]) * 100 \n",
    "\n",
    "prop_dict"
   ]
  },
  {
   "cell_type": "code",
   "execution_count": null,
   "metadata": {
    "id": "xNE3bq2yfUo3",
    "outputId": "43f172c0-4b96-40db-af4b-0789d4ebc825"
   },
   "outputs": [
    {
     "data": {
      "text/plain": [
       "{'White': 24.50853316050983,\n",
       " 'Hispanic': 34.7425980261403,\n",
       " 'Black or African American': 39.62943901183736,\n",
       " 'Other Race': 25.351379489849034,\n",
       " 'Asian': 36.029411764705884,\n",
       " 'Unknown': 21.466364323507182}"
      ]
     },
     "execution_count": 66,
     "metadata": {},
     "output_type": "execute_result"
    }
   ],
   "source": [
    "counts = Counter(expired_df[expired_df['qSOFA_score'] == 2.0]['race_display'])\n",
    "prop_dict = {}\n",
    "\n",
    "for key in counts: \n",
    "    prop_dict[key] = (counts[key] / death_counts[key]) * 100 \n",
    "\n",
    "prop_dict"
   ]
  },
  {
   "cell_type": "code",
   "execution_count": null,
   "metadata": {
    "id": "2hvu-H7RfUo4",
    "outputId": "983f8bf0-be43-4ccb-91b5-a56ef8ba7bc1"
   },
   "outputs": [
    {
     "data": {
      "text/plain": [
       "{'Hispanic': 8.002133902373966,\n",
       " 'Black or African American': 13.201235203293876,\n",
       " 'White': 8.057895873838843,\n",
       " 'Decline to Specify': 44.666666666666664,\n",
       " 'Unknown': 15.570672713529857,\n",
       " 'Other Race': 24.518479958355023}"
      ]
     },
     "execution_count": 67,
     "metadata": {},
     "output_type": "execute_result"
    }
   ],
   "source": [
    "counts = Counter(expired_df[expired_df['qSOFA_score'] == 3.0]['race_display'])\n",
    "prop_dict = {}\n",
    "\n",
    "for key in counts: \n",
    "    prop_dict[key] = (counts[key] / death_counts[key]) * 100 \n",
    "\n",
    "prop_dict"
   ]
  },
  {
   "cell_type": "code",
   "execution_count": null,
   "metadata": {
    "id": "04rQHUN6fUo4",
    "outputId": "44fc367c-f447-417f-daa5-97a37df76ec7"
   },
   "outputs": [
    {
     "name": "stdout",
     "output_type": "stream",
     "text": [
      "AxesSubplot(0.125,0.125;0.775x0.755)\n"
     ]
    },
    {
     "data": {
      "image/png": "[encoded data removed]",
      "text/plain": [
       "<Figure size 432x288 with 1 Axes>"
      ]
     },
     "metadata": {
      "needs_background": "light"
     },
     "output_type": "display_data"
    }
   ],
   "source": [
    "print(expired_df[expired_df['race_display'] == 'Hispanic']['qSOFA_score'].hist())"
   ]
  },
  {
   "cell_type": "code",
   "execution_count": null,
   "metadata": {
    "id": "z2MmeTi3fUo4",
    "outputId": "3117b37b-f8e6-4610-eecd-3f3812f60174"
   },
   "outputs": [
    {
     "name": "stdout",
     "output_type": "stream",
     "text": [
      "AxesSubplot(0.125,0.125;0.775x0.755)\n"
     ]
    },
    {
     "data": {
      "image/png": "[encoded data removed]",
      "text/plain": [
       "<Figure size 432x288 with 1 Axes>"
      ]
     },
     "metadata": {
      "needs_background": "light"
     },
     "output_type": "display_data"
    }
   ],
   "source": [
    "print(expired_df[expired_df['race_display'] == 'White']['qSOFA_score'].hist())"
   ]
  },
  {
   "cell_type": "code",
   "execution_count": null,
   "metadata": {
    "id": "1nqEtGIXfUo4",
    "outputId": "a8268053-2d0d-4789-8be9-c6fae949670c"
   },
   "outputs": [
    {
     "name": "stdout",
     "output_type": "stream",
     "text": [
      "AxesSubplot(0.125,0.125;0.775x0.755)\n"
     ]
    },
    {
     "data": {
      "image/png": "[encoded data removed]",
      "text/plain": [
       "<Figure size 432x288 with 1 Axes>"
      ]
     },
     "metadata": {
      "needs_background": "light"
     },
     "output_type": "display_data"
    }
   ],
   "source": [
    "print(expired_df[expired_df['race_display'] == 'Black or African American']['qSOFA_score'].hist())"
   ]
  },
  {
   "cell_type": "markdown",
   "metadata": {
    "id": "gIKKU4SdfUo4"
   },
   "source": [
    "### qSOFA predictor on vent"
   ]
  },
  {
   "cell_type": "code",
   "execution_count": null,
   "metadata": {
    "id": "iGz4IVf5fUo5"
   },
   "outputs": [],
   "source": [
    "qsofa_df = df[~df['qSOFA_score'].isnull()]"
   ]
  },
  {
   "cell_type": "code",
   "execution_count": null,
   "metadata": {
    "id": "kWxLpy8OfUo5",
    "outputId": "eb513ef6-df11-4fa7-e7cd-fb984ae05c30"
   },
   "outputs": [
    {
     "name": "stderr",
     "output_type": "stream",
     "text": [
      "/home/joel/anaconda3/lib/python3.7/site-packages/ipykernel_launcher.py:2: SettingWithCopyWarning: \n",
      "A value is trying to be set on a copy of a slice from a DataFrame.\n",
      "Try using .loc[row_indexer,col_indexer] = value instead\n",
      "\n",
      "See the caveats in the documentation: https://pandas.pydata.org/pandas-docs/stable/user_guide/indexing.html#returning-a-view-versus-a-copy\n",
      "  \n"
     ]
    }
   ],
   "source": [
    "vent_func = lambda x: 0 if pd.isnull(x) else 1\n",
    "qsofa_df['on_vent'] = qsofa_df.vent_hours_summed.apply(lambda row: vent_func(row))"
   ]
  },
  {
   "cell_type": "code",
   "execution_count": null,
   "metadata": {
    "id": "tzTZtS7RfUo5",
    "outputId": "d64b43e3-9ada-4e26-9563-fada6f39e906"
   },
   "outputs": [
    {
     "name": "stderr",
     "output_type": "stream",
     "text": [
      "/home/joel/anaconda3/lib/python3.7/site-packages/ipykernel_launcher.py:1: SettingWithCopyWarning: \n",
      "A value is trying to be set on a copy of a slice from a DataFrame.\n",
      "Try using .loc[row_indexer,col_indexer] = value instead\n",
      "\n",
      "See the caveats in the documentation: https://pandas.pydata.org/pandas-docs/stable/user_guide/indexing.html#returning-a-view-versus-a-copy\n",
      "  \"\"\"Entry point for launching an IPython kernel.\n",
      "/home/joel/anaconda3/lib/python3.7/site-packages/ipykernel_launcher.py:2: SettingWithCopyWarning: \n",
      "A value is trying to be set on a copy of a slice from a DataFrame.\n",
      "Try using .loc[row_indexer,col_indexer] = value instead\n",
      "\n",
      "See the caveats in the documentation: https://pandas.pydata.org/pandas-docs/stable/user_guide/indexing.html#returning-a-view-versus-a-copy\n",
      "  \n",
      "/home/joel/anaconda3/lib/python3.7/site-packages/ipykernel_launcher.py:3: SettingWithCopyWarning: \n",
      "A value is trying to be set on a copy of a slice from a DataFrame.\n",
      "Try using .loc[row_indexer,col_indexer] = value instead\n",
      "\n",
      "See the caveats in the documentation: https://pandas.pydata.org/pandas-docs/stable/user_guide/indexing.html#returning-a-view-versus-a-copy\n",
      "  This is separate from the ipykernel package so we can avoid doing imports until\n",
      "/home/joel/anaconda3/lib/python3.7/site-packages/ipykernel_launcher.py:4: SettingWithCopyWarning: \n",
      "A value is trying to be set on a copy of a slice from a DataFrame.\n",
      "Try using .loc[row_indexer,col_indexer] = value instead\n",
      "\n",
      "See the caveats in the documentation: https://pandas.pydata.org/pandas-docs/stable/user_guide/indexing.html#returning-a-view-versus-a-copy\n",
      "  after removing the cwd from sys.path.\n",
      "/home/joel/anaconda3/lib/python3.7/site-packages/ipykernel_launcher.py:5: SettingWithCopyWarning: \n",
      "A value is trying to be set on a copy of a slice from a DataFrame.\n",
      "Try using .loc[row_indexer,col_indexer] = value instead\n",
      "\n",
      "See the caveats in the documentation: https://pandas.pydata.org/pandas-docs/stable/user_guide/indexing.html#returning-a-view-versus-a-copy\n",
      "  \"\"\"\n"
     ]
    }
   ],
   "source": [
    "qsofa_df['beg_date'] = pd.to_datetime(qsofa_df['admit_dt_tm'])\n",
    "qsofa_df['end_date'] = pd.to_datetime(qsofa_df['discharge_dt_tm'])\n",
    "qsofa_df['vent_start'] = pd.to_datetime(qsofa_df['vent_first_order_start_time'])\n",
    "qsofa_df['vent_end'] = pd.to_datetime(qsofa_df['vent_last_order_end_time'])\n",
    "qsofa_df['length_of_stay'] = (qsofa_df['end_date'] - qsofa_df['beg_date']).dt.days"
   ]
  },
  {
   "cell_type": "code",
   "execution_count": null,
   "metadata": {
    "id": "x4_qHEk_fUo5",
    "outputId": "92dc1a14-a632-4192-81d1-ac6b84c19aae"
   },
   "outputs": [
    {
     "name": "stderr",
     "output_type": "stream",
     "text": [
      "/home/joel/anaconda3/lib/python3.7/site-packages/ipykernel_launcher.py:1: SettingWithCopyWarning: \n",
      "A value is trying to be set on a copy of a slice from a DataFrame.\n",
      "Try using .loc[row_indexer,col_indexer] = value instead\n",
      "\n",
      "See the caveats in the documentation: https://pandas.pydata.org/pandas-docs/stable/user_guide/indexing.html#returning-a-view-versus-a-copy\n",
      "  \"\"\"Entry point for launching an IPython kernel.\n",
      "/home/joel/anaconda3/lib/python3.7/site-packages/ipykernel_launcher.py:2: SettingWithCopyWarning: \n",
      "A value is trying to be set on a copy of a slice from a DataFrame.\n",
      "Try using .loc[row_indexer,col_indexer] = value instead\n",
      "\n",
      "See the caveats in the documentation: https://pandas.pydata.org/pandas-docs/stable/user_guide/indexing.html#returning-a-view-versus-a-copy\n",
      "  \n",
      "/home/joel/anaconda3/lib/python3.7/site-packages/ipykernel_launcher.py:3: SettingWithCopyWarning: \n",
      "A value is trying to be set on a copy of a slice from a DataFrame.\n",
      "Try using .loc[row_indexer,col_indexer] = value instead\n",
      "\n",
      "See the caveats in the documentation: https://pandas.pydata.org/pandas-docs/stable/user_guide/indexing.html#returning-a-view-versus-a-copy\n",
      "  This is separate from the ipykernel package so we can avoid doing imports until\n"
     ]
    }
   ],
   "source": [
    "qsofa_df['admit_time_to_vent'] = (qsofa_df['vent_start'] - qsofa_df['beg_date']).dt.days\n",
    "qsofa_df['admit_time_to_vent_end'] = (qsofa_df['vent_end'] - qsofa_df['beg_date']).dt.days\n",
    "qsofa_df['vent_duration'] = (qsofa_df['vent_end'] - qsofa_df['vent_start']).dt.days"
   ]
  },
  {
   "cell_type": "code",
   "execution_count": null,
   "metadata": {
    "id": "j3LIDi30fUo5",
    "outputId": "d9a6b8b8-2082-4c86-f25a-42a21a80f0fa"
   },
   "outputs": [
    {
     "data": {
      "text/plain": [
       "Counter({1: 297, 0: 1305})"
      ]
     },
     "execution_count": 75,
     "metadata": {},
     "output_type": "execute_result"
    }
   ],
   "source": [
    "Counter(qsofa_df['on_vent'])"
   ]
  },
  {
   "cell_type": "code",
   "execution_count": null,
   "metadata": {
    "id": "nTDuO_I1fUo5",
    "outputId": "7b1af58a-aa73-49a6-c1e3-b59cff254ab6"
   },
   "outputs": [
    {
     "data": {
      "text/html": [
       "<div>\n",
       "<style scoped>\n",
       "    .dataframe tbody tr th:only-of-type {\n",
       "        vertical-align: middle;\n",
       "    }\n",
       "\n",
       "    .dataframe tbody tr th {\n",
       "        vertical-align: top;\n",
       "    }\n",
       "\n",
       "    .dataframe thead th {\n",
       "        text-align: right;\n",
       "    }\n",
       "</style>\n",
       "<table border=\"1\" class=\"dataframe\">\n",
       "  <thead>\n",
       "    <tr style=\"text-align: right;\">\n",
       "      <th></th>\n",
       "      <th>admit_dt_tm</th>\n",
       "      <th>discharge_dt_tm</th>\n",
       "      <th>facility</th>\n",
       "      <th>encounter_type_display</th>\n",
       "      <th>age_at_admit</th>\n",
       "      <th>gender</th>\n",
       "      <th>zip_cust_table</th>\n",
       "      <th>ethnicity_display</th>\n",
       "      <th>race_display</th>\n",
       "      <th>race_eth_comb</th>\n",
       "      <th>...</th>\n",
       "      <th>deid_mrn_encounter</th>\n",
       "      <th>deid_fin_encounter</th>\n",
       "      <th>on_vent</th>\n",
       "      <th>beg_date</th>\n",
       "      <th>end_date</th>\n",
       "      <th>vent_start</th>\n",
       "      <th>vent_end</th>\n",
       "      <th>admit_time_to_vent</th>\n",
       "      <th>admit_time_to_vent_end</th>\n",
       "      <th>vent_duration</th>\n",
       "    </tr>\n",
       "  </thead>\n",
       "  <tbody>\n",
       "    <tr>\n",
       "      <th>1</th>\n",
       "      <td>2020-03-24 00:07:00</td>\n",
       "      <td>2020-03-26 18:30:00</td>\n",
       "      <td>Medical Center</td>\n",
       "      <td>IP ICU</td>\n",
       "      <td>44</td>\n",
       "      <td>Male</td>\n",
       "      <td>78130</td>\n",
       "      <td>Hispanic or Latino</td>\n",
       "      <td>White</td>\n",
       "      <td>White Hispanic</td>\n",
       "      <td>...</td>\n",
       "      <td>84969</td>\n",
       "      <td>27818</td>\n",
       "      <td>1</td>\n",
       "      <td>2020-03-24 00:07:00</td>\n",
       "      <td>2020-03-26 18:30:00</td>\n",
       "      <td>2020-03-24 05:55:00</td>\n",
       "      <td>2020-03-26 16:22:00</td>\n",
       "      <td>0.0</td>\n",
       "      <td>2.0</td>\n",
       "      <td>2.0</td>\n",
       "    </tr>\n",
       "    <tr>\n",
       "      <th>6</th>\n",
       "      <td>2020-03-26 15:21:00</td>\n",
       "      <td>2020-04-08 13:15:00</td>\n",
       "      <td>Medical Center</td>\n",
       "      <td>IP Private/Semi Private room</td>\n",
       "      <td>49</td>\n",
       "      <td>Female</td>\n",
       "      <td>78612</td>\n",
       "      <td>Not Hispanic or Latino</td>\n",
       "      <td>White</td>\n",
       "      <td>White Non Hispanic</td>\n",
       "      <td>...</td>\n",
       "      <td>80030</td>\n",
       "      <td>23744</td>\n",
       "      <td>1</td>\n",
       "      <td>2020-03-26 15:21:00</td>\n",
       "      <td>2020-04-08 13:15:00</td>\n",
       "      <td>2020-03-28 11:14:00</td>\n",
       "      <td>2020-04-03 14:31:00</td>\n",
       "      <td>1.0</td>\n",
       "      <td>7.0</td>\n",
       "      <td>6.0</td>\n",
       "    </tr>\n",
       "    <tr>\n",
       "      <th>11</th>\n",
       "      <td>2020-03-28 18:59:00</td>\n",
       "      <td>2020-06-01 15:15:00</td>\n",
       "      <td>Medical Center</td>\n",
       "      <td>IP ICU</td>\n",
       "      <td>24</td>\n",
       "      <td>Male</td>\n",
       "      <td>78753</td>\n",
       "      <td>Not Hispanic or Latino</td>\n",
       "      <td>White</td>\n",
       "      <td>White Non Hispanic</td>\n",
       "      <td>...</td>\n",
       "      <td>84794</td>\n",
       "      <td>37705</td>\n",
       "      <td>1</td>\n",
       "      <td>2020-03-28 18:59:00</td>\n",
       "      <td>2020-06-01 15:15:00</td>\n",
       "      <td>2020-03-28 22:09:00</td>\n",
       "      <td>2020-05-27 04:53:00</td>\n",
       "      <td>0.0</td>\n",
       "      <td>59.0</td>\n",
       "      <td>59.0</td>\n",
       "    </tr>\n",
       "    <tr>\n",
       "      <th>17</th>\n",
       "      <td>2020-03-31 14:14:00</td>\n",
       "      <td>2020-04-17 17:20:00</td>\n",
       "      <td>Medical Center</td>\n",
       "      <td>IP ICU</td>\n",
       "      <td>55</td>\n",
       "      <td>Male</td>\n",
       "      <td>78602</td>\n",
       "      <td>Not Hispanic or Latino</td>\n",
       "      <td>White</td>\n",
       "      <td>White Non Hispanic</td>\n",
       "      <td>...</td>\n",
       "      <td>84725</td>\n",
       "      <td>15345</td>\n",
       "      <td>1</td>\n",
       "      <td>2020-03-31 14:14:00</td>\n",
       "      <td>2020-04-17 17:20:00</td>\n",
       "      <td>2020-04-07 08:40:00</td>\n",
       "      <td>2020-04-17 15:56:00</td>\n",
       "      <td>6.0</td>\n",
       "      <td>17.0</td>\n",
       "      <td>10.0</td>\n",
       "    </tr>\n",
       "    <tr>\n",
       "      <th>18</th>\n",
       "      <td>2020-03-31 21:23:00</td>\n",
       "      <td>2020-04-08 14:40:00</td>\n",
       "      <td>Medical Center</td>\n",
       "      <td>IP Private/Semi Private room</td>\n",
       "      <td>40</td>\n",
       "      <td>Female</td>\n",
       "      <td>78704</td>\n",
       "      <td>Unknown</td>\n",
       "      <td>White</td>\n",
       "      <td>White Unknown Ethnicity</td>\n",
       "      <td>...</td>\n",
       "      <td>74571</td>\n",
       "      <td>18447</td>\n",
       "      <td>0</td>\n",
       "      <td>2020-03-31 21:23:00</td>\n",
       "      <td>2020-04-08 14:40:00</td>\n",
       "      <td>NaT</td>\n",
       "      <td>NaT</td>\n",
       "      <td>NaN</td>\n",
       "      <td>NaN</td>\n",
       "      <td>NaN</td>\n",
       "    </tr>\n",
       "    <tr>\n",
       "      <th>...</th>\n",
       "      <td>...</td>\n",
       "      <td>...</td>\n",
       "      <td>...</td>\n",
       "      <td>...</td>\n",
       "      <td>...</td>\n",
       "      <td>...</td>\n",
       "      <td>...</td>\n",
       "      <td>...</td>\n",
       "      <td>...</td>\n",
       "      <td>...</td>\n",
       "      <td>...</td>\n",
       "      <td>...</td>\n",
       "      <td>...</td>\n",
       "      <td>...</td>\n",
       "      <td>...</td>\n",
       "      <td>...</td>\n",
       "      <td>...</td>\n",
       "      <td>...</td>\n",
       "      <td>...</td>\n",
       "      <td>...</td>\n",
       "      <td>...</td>\n",
       "    </tr>\n",
       "    <tr>\n",
       "      <th>2432</th>\n",
       "      <td>2020-11-15 18:38:00</td>\n",
       "      <td>2020-11-18 15:09:00</td>\n",
       "      <td>Williamson</td>\n",
       "      <td>IP Private/Semi Private room</td>\n",
       "      <td>74</td>\n",
       "      <td>Female</td>\n",
       "      <td>78664</td>\n",
       "      <td>Not Hispanic or Latino</td>\n",
       "      <td>White</td>\n",
       "      <td>White Non Hispanic</td>\n",
       "      <td>...</td>\n",
       "      <td>80870</td>\n",
       "      <td>31833</td>\n",
       "      <td>0</td>\n",
       "      <td>2020-11-15 18:38:00</td>\n",
       "      <td>2020-11-18 15:09:00</td>\n",
       "      <td>NaT</td>\n",
       "      <td>NaT</td>\n",
       "      <td>NaN</td>\n",
       "      <td>NaN</td>\n",
       "      <td>NaN</td>\n",
       "    </tr>\n",
       "    <tr>\n",
       "      <th>2433</th>\n",
       "      <td>2020-11-15 18:49:00</td>\n",
       "      <td>NaN</td>\n",
       "      <td>Hays</td>\n",
       "      <td>IP Private/Semi Private room</td>\n",
       "      <td>55</td>\n",
       "      <td>Female</td>\n",
       "      <td>78644</td>\n",
       "      <td>Hispanic or Latino</td>\n",
       "      <td>White</td>\n",
       "      <td>White Hispanic</td>\n",
       "      <td>...</td>\n",
       "      <td>62391</td>\n",
       "      <td>16897</td>\n",
       "      <td>0</td>\n",
       "      <td>2020-11-15 18:49:00</td>\n",
       "      <td>NaT</td>\n",
       "      <td>NaT</td>\n",
       "      <td>NaT</td>\n",
       "      <td>NaN</td>\n",
       "      <td>NaN</td>\n",
       "      <td>NaN</td>\n",
       "    </tr>\n",
       "    <tr>\n",
       "      <th>2437</th>\n",
       "      <td>2020-11-16 10:04:00</td>\n",
       "      <td>2020-11-18 18:10:00</td>\n",
       "      <td>Hays</td>\n",
       "      <td>IP Private/Semi Private room</td>\n",
       "      <td>70</td>\n",
       "      <td>Male</td>\n",
       "      <td>78610</td>\n",
       "      <td>Hispanic or Latino</td>\n",
       "      <td>White</td>\n",
       "      <td>White Hispanic</td>\n",
       "      <td>...</td>\n",
       "      <td>61246</td>\n",
       "      <td>41967</td>\n",
       "      <td>0</td>\n",
       "      <td>2020-11-16 10:04:00</td>\n",
       "      <td>2020-11-18 18:10:00</td>\n",
       "      <td>NaT</td>\n",
       "      <td>NaT</td>\n",
       "      <td>NaN</td>\n",
       "      <td>NaN</td>\n",
       "      <td>NaN</td>\n",
       "    </tr>\n",
       "    <tr>\n",
       "      <th>2450</th>\n",
       "      <td>2020-11-18 17:25:00</td>\n",
       "      <td>2020-11-19 18:10:00</td>\n",
       "      <td>Williamson</td>\n",
       "      <td>IP ICU</td>\n",
       "      <td>66</td>\n",
       "      <td>Male</td>\n",
       "      <td>78665</td>\n",
       "      <td>Unknown</td>\n",
       "      <td>White</td>\n",
       "      <td>White Unknown Ethnicity</td>\n",
       "      <td>...</td>\n",
       "      <td>67825</td>\n",
       "      <td>30836</td>\n",
       "      <td>0</td>\n",
       "      <td>2020-11-18 17:25:00</td>\n",
       "      <td>2020-11-19 18:10:00</td>\n",
       "      <td>NaT</td>\n",
       "      <td>NaT</td>\n",
       "      <td>NaN</td>\n",
       "      <td>NaN</td>\n",
       "      <td>NaN</td>\n",
       "    </tr>\n",
       "    <tr>\n",
       "      <th>2459</th>\n",
       "      <td>2020-11-20 01:47:00</td>\n",
       "      <td>NaN</td>\n",
       "      <td>Williamson</td>\n",
       "      <td>IP ICU</td>\n",
       "      <td>59</td>\n",
       "      <td>Female</td>\n",
       "      <td>78609</td>\n",
       "      <td>Not Hispanic or Latino</td>\n",
       "      <td>White</td>\n",
       "      <td>White Non Hispanic</td>\n",
       "      <td>...</td>\n",
       "      <td>72100</td>\n",
       "      <td>41226</td>\n",
       "      <td>0</td>\n",
       "      <td>2020-11-20 01:47:00</td>\n",
       "      <td>NaT</td>\n",
       "      <td>NaT</td>\n",
       "      <td>NaT</td>\n",
       "      <td>NaN</td>\n",
       "      <td>NaN</td>\n",
       "      <td>NaN</td>\n",
       "    </tr>\n",
       "  </tbody>\n",
       "</table>\n",
       "<p>716 rows × 78 columns</p>\n",
       "</div>"
      ],
      "text/plain": [
       "              admit_dt_tm      discharge_dt_tm        facility  \\\n",
       "1     2020-03-24 00:07:00  2020-03-26 18:30:00  Medical Center   \n",
       "6     2020-03-26 15:21:00  2020-04-08 13:15:00  Medical Center   \n",
       "11    2020-03-28 18:59:00  2020-06-01 15:15:00  Medical Center   \n",
       "17    2020-03-31 14:14:00  2020-04-17 17:20:00  Medical Center   \n",
       "18    2020-03-31 21:23:00  2020-04-08 14:40:00  Medical Center   \n",
       "...                   ...                  ...             ...   \n",
       "2432  2020-11-15 18:38:00  2020-11-18 15:09:00      Williamson   \n",
       "2433  2020-11-15 18:49:00                  NaN            Hays   \n",
       "2437  2020-11-16 10:04:00  2020-11-18 18:10:00            Hays   \n",
       "2450  2020-11-18 17:25:00  2020-11-19 18:10:00      Williamson   \n",
       "2459  2020-11-20 01:47:00                  NaN      Williamson   \n",
       "\n",
       "            encounter_type_display  age_at_admit  gender zip_cust_table  \\\n",
       "1                           IP ICU            44    Male          78130   \n",
       "6     IP Private/Semi Private room            49  Female          78612   \n",
       "11                          IP ICU            24    Male          78753   \n",
       "17                          IP ICU            55    Male          78602   \n",
       "18    IP Private/Semi Private room            40  Female          78704   \n",
       "...                            ...           ...     ...            ...   \n",
       "2432  IP Private/Semi Private room            74  Female          78664   \n",
       "2433  IP Private/Semi Private room            55  Female          78644   \n",
       "2437  IP Private/Semi Private room            70    Male          78610   \n",
       "2450                        IP ICU            66    Male          78665   \n",
       "2459                        IP ICU            59  Female          78609   \n",
       "\n",
       "           ethnicity_display race_display            race_eth_comb  ...  \\\n",
       "1         Hispanic or Latino        White           White Hispanic  ...   \n",
       "6     Not Hispanic or Latino        White       White Non Hispanic  ...   \n",
       "11    Not Hispanic or Latino        White       White Non Hispanic  ...   \n",
       "17    Not Hispanic or Latino        White       White Non Hispanic  ...   \n",
       "18                   Unknown        White  White Unknown Ethnicity  ...   \n",
       "...                      ...          ...                      ...  ...   \n",
       "2432  Not Hispanic or Latino        White       White Non Hispanic  ...   \n",
       "2433      Hispanic or Latino        White           White Hispanic  ...   \n",
       "2437      Hispanic or Latino        White           White Hispanic  ...   \n",
       "2450                 Unknown        White  White Unknown Ethnicity  ...   \n",
       "2459  Not Hispanic or Latino        White       White Non Hispanic  ...   \n",
       "\n",
       "      deid_mrn_encounter deid_fin_encounter on_vent            beg_date  \\\n",
       "1                  84969              27818       1 2020-03-24 00:07:00   \n",
       "6                  80030              23744       1 2020-03-26 15:21:00   \n",
       "11                 84794              37705       1 2020-03-28 18:59:00   \n",
       "17                 84725              15345       1 2020-03-31 14:14:00   \n",
       "18                 74571              18447       0 2020-03-31 21:23:00   \n",
       "...                  ...                ...     ...                 ...   \n",
       "2432               80870              31833       0 2020-11-15 18:38:00   \n",
       "2433               62391              16897       0 2020-11-15 18:49:00   \n",
       "2437               61246              41967       0 2020-11-16 10:04:00   \n",
       "2450               67825              30836       0 2020-11-18 17:25:00   \n",
       "2459               72100              41226       0 2020-11-20 01:47:00   \n",
       "\n",
       "                end_date          vent_start            vent_end  \\\n",
       "1    2020-03-26 18:30:00 2020-03-24 05:55:00 2020-03-26 16:22:00   \n",
       "6    2020-04-08 13:15:00 2020-03-28 11:14:00 2020-04-03 14:31:00   \n",
       "11   2020-06-01 15:15:00 2020-03-28 22:09:00 2020-05-27 04:53:00   \n",
       "17   2020-04-17 17:20:00 2020-04-07 08:40:00 2020-04-17 15:56:00   \n",
       "18   2020-04-08 14:40:00                 NaT                 NaT   \n",
       "...                  ...                 ...                 ...   \n",
       "2432 2020-11-18 15:09:00                 NaT                 NaT   \n",
       "2433                 NaT                 NaT                 NaT   \n",
       "2437 2020-11-18 18:10:00                 NaT                 NaT   \n",
       "2450 2020-11-19 18:10:00                 NaT                 NaT   \n",
       "2459                 NaT                 NaT                 NaT   \n",
       "\n",
       "     admit_time_to_vent  admit_time_to_vent_end vent_duration  \n",
       "1                   0.0                     2.0           2.0  \n",
       "6                   1.0                     7.0           6.0  \n",
       "11                  0.0                    59.0          59.0  \n",
       "17                  6.0                    17.0          10.0  \n",
       "18                  NaN                     NaN           NaN  \n",
       "...                 ...                     ...           ...  \n",
       "2432                NaN                     NaN           NaN  \n",
       "2433                NaN                     NaN           NaN  \n",
       "2437                NaN                     NaN           NaN  \n",
       "2450                NaN                     NaN           NaN  \n",
       "2459                NaN                     NaN           NaN  \n",
       "\n",
       "[716 rows x 78 columns]"
      ]
     },
     "execution_count": 76,
     "metadata": {},
     "output_type": "execute_result"
    }
   ],
   "source": [
    "icu_df = qsofa_df[~qsofa_df['icu_hours_summed'].isnull()]\n",
    "icu_df"
   ]
  },
  {
   "cell_type": "code",
   "execution_count": null,
   "metadata": {
    "id": "1ItpCw2DfUo6"
   },
   "outputs": [],
   "source": [
    "testing_df = icu_df[['on_vent', 'qSOFA_score', 'length_of_stay', 'admit_time_to_vent', 'admit_time_to_vent_end', 'vent_duration']]"
   ]
  },
  {
   "cell_type": "code",
   "execution_count": null,
   "metadata": {
    "id": "z-gB_uujfUo6",
    "outputId": "6b1478bb-df0d-4682-f829-4ac35b256fc1"
   },
   "outputs": [
    {
     "data": {
      "text/plain": [
       "Index(['admit_dt_tm', 'discharge_dt_tm', 'facility', 'encounter_type_display',\n",
       "       'age_at_admit', 'gender', 'zip_cust_table', 'ethnicity_display',\n",
       "       'race_display', 'race_eth_comb', 'length_of_stay', 'icd_prim',\n",
       "       'deceased_dt_tm', 'discharge_disposition_display', 'dc_dispo_cat',\n",
       "       'insured_uninsured', 'admit_source', 'arrival_mode',\n",
       "       'vent_hours_summed', 'vent_first_order_start_time',\n",
       "       'vent_last_order_end_time', 'icu_hours_summed', 'icu_first_begin_time',\n",
       "       'icu_last_end_time', 'occupation', 'occ_cat', 'emp_yn', 'Creatinine',\n",
       "       'Abs_Lymph', 'ALT', 'AST', 'Bili_Total', 'D-Dimer',\n",
       "       'Diastolic_Blood_Pressure', 'Dosing_Weight_(kg)', 'FiO2/Percent',\n",
       "       'Glasgow_Coma_Score', 'Lymph_Auto', 'Oxygen_Delivery_Method',\n",
       "       'Oxygen_Saturation', 'Platelet', 'pO2_Art', 'Procalcitonin',\n",
       "       'Respiratory_Rate', 'Systolic_Blood_Pressure', 'Troponin-I', 'WBC',\n",
       "       'Oxygen_Flow_Rate', 'Patient_Smoking_Status', 'Visit_Reason',\n",
       "       'Height_(in)', 'Mean_Arterial_Pressure', 'SARSCOV2', 'SARSCOV2_Source',\n",
       "       'heart_pulse_comb', 'temp_oral_degC', 'calc_pulled_BMI', 'no_dx_data',\n",
       "       'COPD_com_flag', 'asthma_com_flag', 'diabetes_com_flag',\n",
       "       'hypertension_com_flag', 'CAD_com_flag', 'heartfailure_com_flag',\n",
       "       'CKD_com_flag', 'cancer_com_flag', 'qSOFA_score', 'deid_empi_encounter',\n",
       "       'deid_mrn_encounter', 'deid_fin_encounter', 'on_vent', 'beg_date',\n",
       "       'end_date', 'vent_start', 'vent_end', 'admit_time_to_vent',\n",
       "       'admit_time_to_vent_end', 'vent_duration'],\n",
       "      dtype='object')"
      ]
     },
     "execution_count": 78,
     "metadata": {},
     "output_type": "execute_result"
    }
   ],
   "source": [
    "#Creatinine\tAbs_Lymph\tALT\tAST\tBili_Total\tD-Dimer\tDiastolic_Blood_Pressure\tDosing_Weight_(kg)\tFiO2/Percent\tGlasgow_Coma_Score\tLymph_Auto\tOxygen_Delivery_Method\tOxygen_Saturation\tPlatelet\tpO2_Art\tProcalcitonin\tRespiratory_Rate\tSystolic_Blood_Pressure\tTroponin-I\tWBC\tOxygen_Flow_Rate\tPatient_Smoking_Status\n",
    "icu_df.columns"
   ]
  },
  {
   "cell_type": "code",
   "execution_count": null,
   "metadata": {
    "id": "kmp7CBglfUo6"
   },
   "outputs": [],
   "source": [
    "vitals_vent_df = icu_df[['Creatinine',\n",
    "       'Abs_Lymph', 'ALT', 'AST', 'Bili_Total', 'D-Dimer',\n",
    "       'Diastolic_Blood_Pressure', 'Dosing_Weight_(kg)', 'FiO2/Percent',\n",
    "       'Glasgow_Coma_Score', 'Lymph_Auto',\n",
    "       'Oxygen_Saturation', 'Platelet', 'pO2_Art', 'Procalcitonin',\n",
    "       'Respiratory_Rate', 'Systolic_Blood_Pressure', 'Troponin-I', 'WBC',\n",
    "       'Oxygen_Flow_Rate','Mean_Arterial_Pressure', 'heart_pulse_comb', 'temp_oral_degC', 'calc_pulled_BMI', 'qSOFA_score', 'on_vent']]"
   ]
  },
  {
   "cell_type": "code",
   "execution_count": null,
   "metadata": {
    "id": "9L8GF1uMfUo6"
   },
   "outputs": [],
   "source": [
    "\n",
    "vitals_length_stay_df = icu_df[['Creatinine',\n",
    "       'Abs_Lymph', 'ALT', 'AST', 'Bili_Total', 'D-Dimer',\n",
    "       'Diastolic_Blood_Pressure', 'Dosing_Weight_(kg)', 'FiO2/Percent',\n",
    "       'Glasgow_Coma_Score', 'Lymph_Auto',\n",
    "       'Oxygen_Saturation', 'Platelet', 'pO2_Art', 'Procalcitonin',\n",
    "       'Respiratory_Rate', 'Systolic_Blood_Pressure', 'Troponin-I', 'WBC',\n",
    "       'Oxygen_Flow_Rate','Mean_Arterial_Pressure', 'heart_pulse_comb', 'temp_oral_degC', 'calc_pulled_BMI', 'qSOFA_score', 'length_of_stay']]"
   ]
  },
  {
   "cell_type": "code",
   "execution_count": null,
   "metadata": {
    "id": "3arAMPlGfUo6",
    "outputId": "26f94dfc-fa62-47fc-ef52-5c1fcbfb352a"
   },
   "outputs": [
    {
     "data": {
      "text/html": [
       "<div>\n",
       "<style scoped>\n",
       "    .dataframe tbody tr th:only-of-type {\n",
       "        vertical-align: middle;\n",
       "    }\n",
       "\n",
       "    .dataframe tbody tr th {\n",
       "        vertical-align: top;\n",
       "    }\n",
       "\n",
       "    .dataframe thead th {\n",
       "        text-align: right;\n",
       "    }\n",
       "</style>\n",
       "<table border=\"1\" class=\"dataframe\">\n",
       "  <thead>\n",
       "    <tr style=\"text-align: right;\">\n",
       "      <th></th>\n",
       "      <th>Creatinine</th>\n",
       "      <th>Abs_Lymph</th>\n",
       "      <th>ALT</th>\n",
       "      <th>AST</th>\n",
       "      <th>Bili_Total</th>\n",
       "      <th>D-Dimer</th>\n",
       "      <th>Diastolic_Blood_Pressure</th>\n",
       "      <th>Dosing_Weight_(kg)</th>\n",
       "      <th>FiO2/Percent</th>\n",
       "      <th>Glasgow_Coma_Score</th>\n",
       "      <th>...</th>\n",
       "      <th>Systolic_Blood_Pressure</th>\n",
       "      <th>Troponin-I</th>\n",
       "      <th>WBC</th>\n",
       "      <th>Oxygen_Flow_Rate</th>\n",
       "      <th>Mean_Arterial_Pressure</th>\n",
       "      <th>heart_pulse_comb</th>\n",
       "      <th>temp_oral_degC</th>\n",
       "      <th>calc_pulled_BMI</th>\n",
       "      <th>qSOFA_score</th>\n",
       "      <th>on_vent</th>\n",
       "    </tr>\n",
       "  </thead>\n",
       "  <tbody>\n",
       "    <tr>\n",
       "      <th>1</th>\n",
       "      <td>2.9</td>\n",
       "      <td>2.00</td>\n",
       "      <td>94</td>\n",
       "      <td>253.0</td>\n",
       "      <td>3.1</td>\n",
       "      <td>&gt;5250</td>\n",
       "      <td>21.0</td>\n",
       "      <td>99.200</td>\n",
       "      <td>50.0</td>\n",
       "      <td>3.0</td>\n",
       "      <td>...</td>\n",
       "      <td>36.0</td>\n",
       "      <td>0.73</td>\n",
       "      <td>35.1</td>\n",
       "      <td>NaN</td>\n",
       "      <td>NaN</td>\n",
       "      <td>97.0</td>\n",
       "      <td>NaN</td>\n",
       "      <td>30.620000</td>\n",
       "      <td>3.0</td>\n",
       "      <td>1</td>\n",
       "    </tr>\n",
       "    <tr>\n",
       "      <th>6</th>\n",
       "      <td>0.9</td>\n",
       "      <td>0.80</td>\n",
       "      <td>43</td>\n",
       "      <td>48.0</td>\n",
       "      <td>0.5</td>\n",
       "      <td>599</td>\n",
       "      <td>79.0</td>\n",
       "      <td>123.200</td>\n",
       "      <td>100.0</td>\n",
       "      <td>15.0</td>\n",
       "      <td>...</td>\n",
       "      <td>115.0</td>\n",
       "      <td>0.02</td>\n",
       "      <td>12.1</td>\n",
       "      <td>4.0</td>\n",
       "      <td>91.0</td>\n",
       "      <td>99.0</td>\n",
       "      <td>37.4</td>\n",
       "      <td>44.890000</td>\n",
       "      <td>1.0</td>\n",
       "      <td>1</td>\n",
       "    </tr>\n",
       "    <tr>\n",
       "      <th>11</th>\n",
       "      <td>1.5</td>\n",
       "      <td>4.20</td>\n",
       "      <td>69</td>\n",
       "      <td>146.0</td>\n",
       "      <td>0.4</td>\n",
       "      <td>&gt;5250</td>\n",
       "      <td>68.0</td>\n",
       "      <td>116.000</td>\n",
       "      <td>80.0</td>\n",
       "      <td>3.0</td>\n",
       "      <td>...</td>\n",
       "      <td>102.0</td>\n",
       "      <td>0.07</td>\n",
       "      <td>19.4</td>\n",
       "      <td>50.0</td>\n",
       "      <td>NaN</td>\n",
       "      <td>143.0</td>\n",
       "      <td>37.1</td>\n",
       "      <td>34.540000</td>\n",
       "      <td>2.0</td>\n",
       "      <td>1</td>\n",
       "    </tr>\n",
       "    <tr>\n",
       "      <th>17</th>\n",
       "      <td>1.2</td>\n",
       "      <td>1.00</td>\n",
       "      <td>20</td>\n",
       "      <td>36.0</td>\n",
       "      <td>0.6</td>\n",
       "      <td>224</td>\n",
       "      <td>76.0</td>\n",
       "      <td>90.718</td>\n",
       "      <td>100.0</td>\n",
       "      <td>15.0</td>\n",
       "      <td>...</td>\n",
       "      <td>122.0</td>\n",
       "      <td>NaN</td>\n",
       "      <td>4.6</td>\n",
       "      <td>2.0</td>\n",
       "      <td>91.3</td>\n",
       "      <td>80.0</td>\n",
       "      <td>38.9</td>\n",
       "      <td>27.893795</td>\n",
       "      <td>0.0</td>\n",
       "      <td>1</td>\n",
       "    </tr>\n",
       "    <tr>\n",
       "      <th>18</th>\n",
       "      <td>0.7</td>\n",
       "      <td>NaN</td>\n",
       "      <td>44</td>\n",
       "      <td>45.0</td>\n",
       "      <td>0.3</td>\n",
       "      <td>264</td>\n",
       "      <td>82.0</td>\n",
       "      <td>136.078</td>\n",
       "      <td>45.0</td>\n",
       "      <td>15.0</td>\n",
       "      <td>...</td>\n",
       "      <td>133.0</td>\n",
       "      <td>&lt;0.01</td>\n",
       "      <td>2.8</td>\n",
       "      <td>2.0</td>\n",
       "      <td>99.0</td>\n",
       "      <td>104.0</td>\n",
       "      <td>37.6</td>\n",
       "      <td>54.350000</td>\n",
       "      <td>1.0</td>\n",
       "      <td>0</td>\n",
       "    </tr>\n",
       "    <tr>\n",
       "      <th>...</th>\n",
       "      <td>...</td>\n",
       "      <td>...</td>\n",
       "      <td>...</td>\n",
       "      <td>...</td>\n",
       "      <td>...</td>\n",
       "      <td>...</td>\n",
       "      <td>...</td>\n",
       "      <td>...</td>\n",
       "      <td>...</td>\n",
       "      <td>...</td>\n",
       "      <td>...</td>\n",
       "      <td>...</td>\n",
       "      <td>...</td>\n",
       "      <td>...</td>\n",
       "      <td>...</td>\n",
       "      <td>...</td>\n",
       "      <td>...</td>\n",
       "      <td>...</td>\n",
       "      <td>...</td>\n",
       "      <td>...</td>\n",
       "      <td>...</td>\n",
       "    </tr>\n",
       "    <tr>\n",
       "      <th>2432</th>\n",
       "      <td>1.1</td>\n",
       "      <td>0.87</td>\n",
       "      <td>24</td>\n",
       "      <td>39.0</td>\n",
       "      <td>0.5</td>\n",
       "      <td>1465</td>\n",
       "      <td>80.0</td>\n",
       "      <td>99.790</td>\n",
       "      <td>NaN</td>\n",
       "      <td>15.0</td>\n",
       "      <td>...</td>\n",
       "      <td>172.0</td>\n",
       "      <td>0.01</td>\n",
       "      <td>6.9</td>\n",
       "      <td>4.0</td>\n",
       "      <td>110.7</td>\n",
       "      <td>86.0</td>\n",
       "      <td>37.2</td>\n",
       "      <td>35.890000</td>\n",
       "      <td>0.0</td>\n",
       "      <td>0</td>\n",
       "    </tr>\n",
       "    <tr>\n",
       "      <th>2433</th>\n",
       "      <td>1.0</td>\n",
       "      <td>2.19</td>\n",
       "      <td>51</td>\n",
       "      <td>35.0</td>\n",
       "      <td>0.4</td>\n",
       "      <td>3338</td>\n",
       "      <td>87.0</td>\n",
       "      <td>91.000</td>\n",
       "      <td>NaN</td>\n",
       "      <td>15.0</td>\n",
       "      <td>...</td>\n",
       "      <td>154.0</td>\n",
       "      <td>&lt;0.01</td>\n",
       "      <td>8.1</td>\n",
       "      <td>6.0</td>\n",
       "      <td>109.3</td>\n",
       "      <td>65.0</td>\n",
       "      <td>37.1</td>\n",
       "      <td>31.421189</td>\n",
       "      <td>0.0</td>\n",
       "      <td>0</td>\n",
       "    </tr>\n",
       "    <tr>\n",
       "      <th>2437</th>\n",
       "      <td>1.2</td>\n",
       "      <td>1.07</td>\n",
       "      <td>34</td>\n",
       "      <td>19.0</td>\n",
       "      <td>1.1</td>\n",
       "      <td>NaN</td>\n",
       "      <td>76.0</td>\n",
       "      <td>113.398</td>\n",
       "      <td>93.0</td>\n",
       "      <td>15.0</td>\n",
       "      <td>...</td>\n",
       "      <td>176.0</td>\n",
       "      <td>0.02</td>\n",
       "      <td>11.6</td>\n",
       "      <td>NaN</td>\n",
       "      <td>109.3</td>\n",
       "      <td>79.0</td>\n",
       "      <td>36.7</td>\n",
       "      <td>36.917990</td>\n",
       "      <td>0.0</td>\n",
       "      <td>0</td>\n",
       "    </tr>\n",
       "    <tr>\n",
       "      <th>2450</th>\n",
       "      <td>0.9</td>\n",
       "      <td>2.83</td>\n",
       "      <td>18</td>\n",
       "      <td>25.0</td>\n",
       "      <td>0.4</td>\n",
       "      <td>NaN</td>\n",
       "      <td>82.0</td>\n",
       "      <td>101.605</td>\n",
       "      <td>NaN</td>\n",
       "      <td>15.0</td>\n",
       "      <td>...</td>\n",
       "      <td>161.0</td>\n",
       "      <td>0.01</td>\n",
       "      <td>10.2</td>\n",
       "      <td>NaN</td>\n",
       "      <td>108.3</td>\n",
       "      <td>76.0</td>\n",
       "      <td>36.7</td>\n",
       "      <td>32.390000</td>\n",
       "      <td>0.0</td>\n",
       "      <td>0</td>\n",
       "    </tr>\n",
       "    <tr>\n",
       "      <th>2459</th>\n",
       "      <td>0.5</td>\n",
       "      <td>0.56</td>\n",
       "      <td>22</td>\n",
       "      <td>25.0</td>\n",
       "      <td>0.8</td>\n",
       "      <td>965</td>\n",
       "      <td>77.0</td>\n",
       "      <td>81.400</td>\n",
       "      <td>50.0</td>\n",
       "      <td>15.0</td>\n",
       "      <td>...</td>\n",
       "      <td>110.0</td>\n",
       "      <td>0.03</td>\n",
       "      <td>3.2</td>\n",
       "      <td>3.0</td>\n",
       "      <td>NaN</td>\n",
       "      <td>102.0</td>\n",
       "      <td>36.4</td>\n",
       "      <td>NaN</td>\n",
       "      <td>0.0</td>\n",
       "      <td>0</td>\n",
       "    </tr>\n",
       "  </tbody>\n",
       "</table>\n",
       "<p>716 rows × 26 columns</p>\n",
       "</div>"
      ],
      "text/plain": [
       "      Creatinine  Abs_Lymph ALT    AST Bili_Total D-Dimer  \\\n",
       "1            2.9       2.00  94  253.0        3.1   >5250   \n",
       "6            0.9       0.80  43   48.0        0.5     599   \n",
       "11           1.5       4.20  69  146.0        0.4   >5250   \n",
       "17           1.2       1.00  20   36.0        0.6     224   \n",
       "18           0.7        NaN  44   45.0        0.3     264   \n",
       "...          ...        ...  ..    ...        ...     ...   \n",
       "2432         1.1       0.87  24   39.0        0.5    1465   \n",
       "2433         1.0       2.19  51   35.0        0.4    3338   \n",
       "2437         1.2       1.07  34   19.0        1.1     NaN   \n",
       "2450         0.9       2.83  18   25.0        0.4     NaN   \n",
       "2459         0.5       0.56  22   25.0        0.8     965   \n",
       "\n",
       "      Diastolic_Blood_Pressure  Dosing_Weight_(kg)  FiO2/Percent  \\\n",
       "1                         21.0              99.200          50.0   \n",
       "6                         79.0             123.200         100.0   \n",
       "11                        68.0             116.000          80.0   \n",
       "17                        76.0              90.718         100.0   \n",
       "18                        82.0             136.078          45.0   \n",
       "...                        ...                 ...           ...   \n",
       "2432                      80.0              99.790           NaN   \n",
       "2433                      87.0              91.000           NaN   \n",
       "2437                      76.0             113.398          93.0   \n",
       "2450                      82.0             101.605           NaN   \n",
       "2459                      77.0              81.400          50.0   \n",
       "\n",
       "      Glasgow_Coma_Score  ...  Systolic_Blood_Pressure  Troponin-I   WBC  \\\n",
       "1                    3.0  ...                     36.0        0.73  35.1   \n",
       "6                   15.0  ...                    115.0        0.02  12.1   \n",
       "11                   3.0  ...                    102.0        0.07  19.4   \n",
       "17                  15.0  ...                    122.0         NaN   4.6   \n",
       "18                  15.0  ...                    133.0       <0.01   2.8   \n",
       "...                  ...  ...                      ...         ...   ...   \n",
       "2432                15.0  ...                    172.0        0.01   6.9   \n",
       "2433                15.0  ...                    154.0       <0.01   8.1   \n",
       "2437                15.0  ...                    176.0        0.02  11.6   \n",
       "2450                15.0  ...                    161.0        0.01  10.2   \n",
       "2459                15.0  ...                    110.0        0.03   3.2   \n",
       "\n",
       "      Oxygen_Flow_Rate Mean_Arterial_Pressure  heart_pulse_comb  \\\n",
       "1                  NaN                    NaN              97.0   \n",
       "6                  4.0                   91.0              99.0   \n",
       "11                50.0                    NaN             143.0   \n",
       "17                 2.0                   91.3              80.0   \n",
       "18                 2.0                   99.0             104.0   \n",
       "...                ...                    ...               ...   \n",
       "2432               4.0                  110.7              86.0   \n",
       "2433               6.0                  109.3              65.0   \n",
       "2437               NaN                  109.3              79.0   \n",
       "2450               NaN                  108.3              76.0   \n",
       "2459               3.0                    NaN             102.0   \n",
       "\n",
       "      temp_oral_degC calc_pulled_BMI  qSOFA_score  on_vent  \n",
       "1                NaN       30.620000          3.0        1  \n",
       "6               37.4       44.890000          1.0        1  \n",
       "11              37.1       34.540000          2.0        1  \n",
       "17              38.9       27.893795          0.0        1  \n",
       "18              37.6       54.350000          1.0        0  \n",
       "...              ...             ...          ...      ...  \n",
       "2432            37.2       35.890000          0.0        0  \n",
       "2433            37.1       31.421189          0.0        0  \n",
       "2437            36.7       36.917990          0.0        0  \n",
       "2450            36.7       32.390000          0.0        0  \n",
       "2459            36.4             NaN          0.0        0  \n",
       "\n",
       "[716 rows x 26 columns]"
      ]
     },
     "execution_count": 81,
     "metadata": {},
     "output_type": "execute_result"
    }
   ],
   "source": [
    "vitals_vent_df"
   ]
  },
  {
   "cell_type": "code",
   "execution_count": null,
   "metadata": {
    "id": "w_pCipfdfUo6"
   },
   "outputs": [],
   "source": [
    "non_empty = vitals_vent_df.dropna()\n",
    "non_empty_length = vitals_length_stay_df.dropna()"
   ]
  },
  {
   "cell_type": "code",
   "execution_count": null,
   "metadata": {
    "id": "HdPXebyLfUo7",
    "outputId": "8635bb24-28ea-457f-bc63-28c04a4378e0"
   },
   "outputs": [
    {
     "data": {
      "text/html": [
       "<div>\n",
       "<style scoped>\n",
       "    .dataframe tbody tr th:only-of-type {\n",
       "        vertical-align: middle;\n",
       "    }\n",
       "\n",
       "    .dataframe tbody tr th {\n",
       "        vertical-align: top;\n",
       "    }\n",
       "\n",
       "    .dataframe thead th {\n",
       "        text-align: right;\n",
       "    }\n",
       "</style>\n",
       "<table border=\"1\" class=\"dataframe\">\n",
       "  <thead>\n",
       "    <tr style=\"text-align: right;\">\n",
       "      <th></th>\n",
       "      <th>on_vent</th>\n",
       "      <th>qSOFA_score</th>\n",
       "      <th>length_of_stay</th>\n",
       "      <th>admit_time_to_vent</th>\n",
       "      <th>admit_time_to_vent_end</th>\n",
       "      <th>vent_duration</th>\n",
       "    </tr>\n",
       "  </thead>\n",
       "  <tbody>\n",
       "    <tr>\n",
       "      <th>on_vent</th>\n",
       "      <td>1.000000</td>\n",
       "      <td>0.226020</td>\n",
       "      <td>0.478201</td>\n",
       "      <td>NaN</td>\n",
       "      <td>NaN</td>\n",
       "      <td>NaN</td>\n",
       "    </tr>\n",
       "    <tr>\n",
       "      <th>qSOFA_score</th>\n",
       "      <td>0.226020</td>\n",
       "      <td>1.000000</td>\n",
       "      <td>0.077169</td>\n",
       "      <td>-0.293053</td>\n",
       "      <td>-0.068538</td>\n",
       "      <td>0.012558</td>\n",
       "    </tr>\n",
       "    <tr>\n",
       "      <th>length_of_stay</th>\n",
       "      <td>0.478201</td>\n",
       "      <td>0.077169</td>\n",
       "      <td>1.000000</td>\n",
       "      <td>0.246015</td>\n",
       "      <td>0.924668</td>\n",
       "      <td>0.903446</td>\n",
       "    </tr>\n",
       "    <tr>\n",
       "      <th>admit_time_to_vent</th>\n",
       "      <td>NaN</td>\n",
       "      <td>-0.293053</td>\n",
       "      <td>0.246015</td>\n",
       "      <td>1.000000</td>\n",
       "      <td>0.302299</td>\n",
       "      <td>0.043700</td>\n",
       "    </tr>\n",
       "    <tr>\n",
       "      <th>admit_time_to_vent_end</th>\n",
       "      <td>NaN</td>\n",
       "      <td>-0.068538</td>\n",
       "      <td>0.924668</td>\n",
       "      <td>0.302299</td>\n",
       "      <td>1.000000</td>\n",
       "      <td>0.965177</td>\n",
       "    </tr>\n",
       "    <tr>\n",
       "      <th>vent_duration</th>\n",
       "      <td>NaN</td>\n",
       "      <td>0.012558</td>\n",
       "      <td>0.903446</td>\n",
       "      <td>0.043700</td>\n",
       "      <td>0.965177</td>\n",
       "      <td>1.000000</td>\n",
       "    </tr>\n",
       "  </tbody>\n",
       "</table>\n",
       "</div>"
      ],
      "text/plain": [
       "                         on_vent  qSOFA_score  length_of_stay  \\\n",
       "on_vent                 1.000000     0.226020        0.478201   \n",
       "qSOFA_score             0.226020     1.000000        0.077169   \n",
       "length_of_stay          0.478201     0.077169        1.000000   \n",
       "admit_time_to_vent           NaN    -0.293053        0.246015   \n",
       "admit_time_to_vent_end       NaN    -0.068538        0.924668   \n",
       "vent_duration                NaN     0.012558        0.903446   \n",
       "\n",
       "                        admit_time_to_vent  admit_time_to_vent_end  \\\n",
       "on_vent                                NaN                     NaN   \n",
       "qSOFA_score                      -0.293053               -0.068538   \n",
       "length_of_stay                    0.246015                0.924668   \n",
       "admit_time_to_vent                1.000000                0.302299   \n",
       "admit_time_to_vent_end            0.302299                1.000000   \n",
       "vent_duration                     0.043700                0.965177   \n",
       "\n",
       "                        vent_duration  \n",
       "on_vent                           NaN  \n",
       "qSOFA_score                  0.012558  \n",
       "length_of_stay               0.903446  \n",
       "admit_time_to_vent           0.043700  \n",
       "admit_time_to_vent_end       0.965177  \n",
       "vent_duration                1.000000  "
      ]
     },
     "execution_count": 83,
     "metadata": {},
     "output_type": "execute_result"
    }
   ],
   "source": [
    "testing_df.corr()"
   ]
  },
  {
   "cell_type": "code",
   "execution_count": null,
   "metadata": {
    "id": "xBbHDkmDfUo7"
   },
   "outputs": [],
   "source": [
    "vent_testing_df = testing_df[testing_df['on_vent'] == 1]\n",
    "#filter_df[filter_df['admit_time_to_vent'] <= timedelta(0)][['admit_dt_tm', 'vent_first_order_start_time']]\n",
    "#vent_testing_df[['length_of_stay', 'admit_time_to_vent', 'admit_time_to_vent_end', 'vent_duration']] = vent_testing_df[['length_of_stay', 'admit_time_to_vent', 'admit_time_to_vent_end', 'vent_duration']].astype(int)"
   ]
  },
  {
   "cell_type": "code",
   "execution_count": null,
   "metadata": {
    "id": "xGyb0v3PfUo7",
    "outputId": "d70a2fe3-5d30-4d25-d191-8c6368f53c6a"
   },
   "outputs": [
    {
     "data": {
      "text/html": [
       "<div>\n",
       "<style scoped>\n",
       "    .dataframe tbody tr th:only-of-type {\n",
       "        vertical-align: middle;\n",
       "    }\n",
       "\n",
       "    .dataframe tbody tr th {\n",
       "        vertical-align: top;\n",
       "    }\n",
       "\n",
       "    .dataframe thead th {\n",
       "        text-align: right;\n",
       "    }\n",
       "</style>\n",
       "<table border=\"1\" class=\"dataframe\">\n",
       "  <thead>\n",
       "    <tr style=\"text-align: right;\">\n",
       "      <th></th>\n",
       "      <th>on_vent</th>\n",
       "      <th>qSOFA_score</th>\n",
       "      <th>length_of_stay</th>\n",
       "      <th>admit_time_to_vent</th>\n",
       "      <th>admit_time_to_vent_end</th>\n",
       "      <th>vent_duration</th>\n",
       "    </tr>\n",
       "  </thead>\n",
       "  <tbody>\n",
       "    <tr>\n",
       "      <th>on_vent</th>\n",
       "      <td>NaN</td>\n",
       "      <td>NaN</td>\n",
       "      <td>NaN</td>\n",
       "      <td>NaN</td>\n",
       "      <td>NaN</td>\n",
       "      <td>NaN</td>\n",
       "    </tr>\n",
       "    <tr>\n",
       "      <th>qSOFA_score</th>\n",
       "      <td>NaN</td>\n",
       "      <td>1.000000</td>\n",
       "      <td>-0.067797</td>\n",
       "      <td>-0.293053</td>\n",
       "      <td>-0.068538</td>\n",
       "      <td>0.012558</td>\n",
       "    </tr>\n",
       "    <tr>\n",
       "      <th>length_of_stay</th>\n",
       "      <td>NaN</td>\n",
       "      <td>-0.067797</td>\n",
       "      <td>1.000000</td>\n",
       "      <td>0.246015</td>\n",
       "      <td>0.924668</td>\n",
       "      <td>0.903446</td>\n",
       "    </tr>\n",
       "    <tr>\n",
       "      <th>admit_time_to_vent</th>\n",
       "      <td>NaN</td>\n",
       "      <td>-0.293053</td>\n",
       "      <td>0.246015</td>\n",
       "      <td>1.000000</td>\n",
       "      <td>0.302299</td>\n",
       "      <td>0.043700</td>\n",
       "    </tr>\n",
       "    <tr>\n",
       "      <th>admit_time_to_vent_end</th>\n",
       "      <td>NaN</td>\n",
       "      <td>-0.068538</td>\n",
       "      <td>0.924668</td>\n",
       "      <td>0.302299</td>\n",
       "      <td>1.000000</td>\n",
       "      <td>0.965177</td>\n",
       "    </tr>\n",
       "    <tr>\n",
       "      <th>vent_duration</th>\n",
       "      <td>NaN</td>\n",
       "      <td>0.012558</td>\n",
       "      <td>0.903446</td>\n",
       "      <td>0.043700</td>\n",
       "      <td>0.965177</td>\n",
       "      <td>1.000000</td>\n",
       "    </tr>\n",
       "  </tbody>\n",
       "</table>\n",
       "</div>"
      ],
      "text/plain": [
       "                        on_vent  qSOFA_score  length_of_stay  \\\n",
       "on_vent                     NaN          NaN             NaN   \n",
       "qSOFA_score                 NaN     1.000000       -0.067797   \n",
       "length_of_stay              NaN    -0.067797        1.000000   \n",
       "admit_time_to_vent          NaN    -0.293053        0.246015   \n",
       "admit_time_to_vent_end      NaN    -0.068538        0.924668   \n",
       "vent_duration               NaN     0.012558        0.903446   \n",
       "\n",
       "                        admit_time_to_vent  admit_time_to_vent_end  \\\n",
       "on_vent                                NaN                     NaN   \n",
       "qSOFA_score                      -0.293053               -0.068538   \n",
       "length_of_stay                    0.246015                0.924668   \n",
       "admit_time_to_vent                1.000000                0.302299   \n",
       "admit_time_to_vent_end            0.302299                1.000000   \n",
       "vent_duration                     0.043700                0.965177   \n",
       "\n",
       "                        vent_duration  \n",
       "on_vent                           NaN  \n",
       "qSOFA_score                  0.012558  \n",
       "length_of_stay               0.903446  \n",
       "admit_time_to_vent           0.043700  \n",
       "admit_time_to_vent_end       0.965177  \n",
       "vent_duration                1.000000  "
      ]
     },
     "execution_count": 85,
     "metadata": {},
     "output_type": "execute_result"
    }
   ],
   "source": [
    "vent_testing_df.corr()"
   ]
  },
  {
   "cell_type": "code",
   "execution_count": null,
   "metadata": {
    "id": "RjMztv19fUo7",
    "outputId": "1133dae1-3225-4814-c473-f942a7a69208"
   },
   "outputs": [
    {
     "name": "stderr",
     "output_type": "stream",
     "text": [
      "/home/joel/anaconda3/lib/python3.7/site-packages/seaborn/_decorators.py:43: FutureWarning: Pass the following variables as keyword args: x, y. From version 0.12, the only valid positional argument will be `data`, and passing other arguments without an explicit keyword will result in an error or misinterpretation.\n",
      "  FutureWarning\n"
     ]
    },
    {
     "data": {
      "text/plain": [
       "<AxesSubplot:xlabel='qSOFA_score', ylabel='length_of_stay'>"
      ]
     },
     "execution_count": 86,
     "metadata": {},
     "output_type": "execute_result"
    },
    {
     "data": {
      "image/png": "[encoded data removed]",
      "text/plain": [
       "<Figure size 432x288 with 1 Axes>"
      ]
     },
     "metadata": {
      "needs_background": "light"
     },
     "output_type": "display_data"
    }
   ],
   "source": [
    "sn.scatterplot(vent_testing_df['qSOFA_score'], vent_testing_df['length_of_stay'] )"
   ]
  },
  {
   "cell_type": "code",
   "execution_count": null,
   "metadata": {
    "id": "LHPYkGuGfUo7",
    "outputId": "7b236562-7358-4c24-d5a8-c1963b5eace6"
   },
   "outputs": [
    {
     "name": "stderr",
     "output_type": "stream",
     "text": [
      "/home/joel/anaconda3/lib/python3.7/site-packages/seaborn/_decorators.py:43: FutureWarning: Pass the following variables as keyword args: x, y. From version 0.12, the only valid positional argument will be `data`, and passing other arguments without an explicit keyword will result in an error or misinterpretation.\n",
      "  FutureWarning\n"
     ]
    },
    {
     "data": {
      "text/plain": [
       "<AxesSubplot:xlabel='qSOFA_score', ylabel='admit_time_to_vent'>"
      ]
     },
     "execution_count": 87,
     "metadata": {},
     "output_type": "execute_result"
    },
    {
     "data": {
      "image/png": "[encoded data removed]",
      "text/plain": [
       "<Figure size 432x288 with 1 Axes>"
      ]
     },
     "metadata": {
      "needs_background": "light"
     },
     "output_type": "display_data"
    }
   ],
   "source": [
    "sn.scatterplot(vent_testing_df['qSOFA_score'], vent_testing_df['admit_time_to_vent'] )"
   ]
  },
  {
   "cell_type": "code",
   "execution_count": null,
   "metadata": {
    "id": "mIuaEYJ8fUo7",
    "outputId": "320dbb79-b274-44de-9836-196c02f45e3f"
   },
   "outputs": [
    {
     "name": "stderr",
     "output_type": "stream",
     "text": [
      "/home/joel/anaconda3/lib/python3.7/site-packages/seaborn/_decorators.py:43: FutureWarning: Pass the following variables as keyword args: x, y. From version 0.12, the only valid positional argument will be `data`, and passing other arguments without an explicit keyword will result in an error or misinterpretation.\n",
      "  FutureWarning\n"
     ]
    },
    {
     "data": {
      "text/plain": [
       "<AxesSubplot:xlabel='qSOFA_score', ylabel='admit_time_to_vent_end'>"
      ]
     },
     "execution_count": 88,
     "metadata": {},
     "output_type": "execute_result"
    },
    {
     "data": {
      "image/png": "[encoded data removed]",
      "text/plain": [
       "<Figure size 432x288 with 1 Axes>"
      ]
     },
     "metadata": {
      "needs_background": "light"
     },
     "output_type": "display_data"
    }
   ],
   "source": [
    "sn.scatterplot(vent_testing_df['qSOFA_score'], vent_testing_df['admit_time_to_vent_end'] )"
   ]
  },
  {
   "cell_type": "code",
   "execution_count": null,
   "metadata": {
    "id": "j82ahznhfUo7",
    "outputId": "1ed93096-5cc4-4eef-b33f-ed3936216ef0"
   },
   "outputs": [
    {
     "name": "stderr",
     "output_type": "stream",
     "text": [
      "/home/joel/anaconda3/lib/python3.7/site-packages/seaborn/_decorators.py:43: FutureWarning: Pass the following variables as keyword args: x, y. From version 0.12, the only valid positional argument will be `data`, and passing other arguments without an explicit keyword will result in an error or misinterpretation.\n",
      "  FutureWarning\n"
     ]
    },
    {
     "data": {
      "text/plain": [
       "<AxesSubplot:xlabel='qSOFA_score', ylabel='vent_duration'>"
      ]
     },
     "execution_count": 89,
     "metadata": {},
     "output_type": "execute_result"
    },
    {
     "data": {
      "image/png": "[encoded data removed]",
      "text/plain": [
       "<Figure size 432x288 with 1 Axes>"
      ]
     },
     "metadata": {
      "needs_background": "light"
     },
     "output_type": "display_data"
    }
   ],
   "source": [
    "sn.scatterplot(vent_testing_df['qSOFA_score'], vent_testing_df['vent_duration'] )"
   ]
  },
  {
   "cell_type": "code",
   "execution_count": null,
   "metadata": {
    "id": "YQjH0NdIfUo8",
    "outputId": "5a3f67df-692b-4a3b-d266-07b35bbd81d2"
   },
   "outputs": [
    {
     "name": "stdout",
     "output_type": "stream",
     "text": [
      "Optimization terminated successfully.\n",
      "         Current function value: 0.693022\n",
      "         Iterations 3\n"
     ]
    },
    {
     "data": {
      "text/html": [
       "<table class=\"simpletable\">\n",
       "<caption>Logit Regression Results</caption>\n",
       "<tr>\n",
       "  <th>Dep. Variable:</th>        <td>on_vent</td>     <th>  No. Observations:  </th>  <td>   716</td> \n",
       "</tr>\n",
       "<tr>\n",
       "  <th>Model:</th>                 <td>Logit</td>      <th>  Df Residuals:      </th>  <td>   715</td> \n",
       "</tr>\n",
       "<tr>\n",
       "  <th>Method:</th>                 <td>MLE</td>       <th>  Df Model:          </th>  <td>     0</td> \n",
       "</tr>\n",
       "<tr>\n",
       "  <th>Date:</th>            <td>Mon, 26 Apr 2021</td> <th>  Pseudo R-squ.:     </th> <td>-0.02753</td>\n",
       "</tr>\n",
       "<tr>\n",
       "  <th>Time:</th>                <td>21:18:18</td>     <th>  Log-Likelihood:    </th> <td> -496.20</td>\n",
       "</tr>\n",
       "<tr>\n",
       "  <th>converged:</th>             <td>True</td>       <th>  LL-Null:           </th> <td> -482.91</td>\n",
       "</tr>\n",
       "<tr>\n",
       "  <th>Covariance Type:</th>     <td>nonrobust</td>    <th>  LLR p-value:       </th>  <td>   nan</td> \n",
       "</tr>\n",
       "</table>\n",
       "<table class=\"simpletable\">\n",
       "<tr>\n",
       "       <td></td>          <th>coef</th>     <th>std err</th>      <th>z</th>      <th>P>|z|</th>  <th>[0.025</th>    <th>0.975]</th>  \n",
       "</tr>\n",
       "<tr>\n",
       "  <th>qSOFA_score</th> <td>   -0.0275</td> <td>    0.065</td> <td>   -0.423</td> <td> 0.672</td> <td>   -0.155</td> <td>    0.100</td>\n",
       "</tr>\n",
       "</table>"
      ],
      "text/plain": [
       "<class 'statsmodels.iolib.summary.Summary'>\n",
       "\"\"\"\n",
       "                           Logit Regression Results                           \n",
       "==============================================================================\n",
       "Dep. Variable:                on_vent   No. Observations:                  716\n",
       "Model:                          Logit   Df Residuals:                      715\n",
       "Method:                           MLE   Df Model:                            0\n",
       "Date:                Mon, 26 Apr 2021   Pseudo R-squ.:                -0.02753\n",
       "Time:                        21:18:18   Log-Likelihood:                -496.20\n",
       "converged:                       True   LL-Null:                       -482.91\n",
       "Covariance Type:            nonrobust   LLR p-value:                       nan\n",
       "===============================================================================\n",
       "                  coef    std err          z      P>|z|      [0.025      0.975]\n",
       "-------------------------------------------------------------------------------\n",
       "qSOFA_score    -0.0275      0.065     -0.423      0.672      -0.155       0.100\n",
       "===============================================================================\n",
       "\"\"\""
      ]
     },
     "execution_count": 90,
     "metadata": {},
     "output_type": "execute_result"
    }
   ],
   "source": [
    "# logistiic regression model for qSOFA on vent\n",
    "model = stats.Logit(icu_df['on_vent'], icu_df['qSOFA_score'])\n",
    "res = model.fit()\n",
    "res.summary()"
   ]
  },
  {
   "cell_type": "code",
   "execution_count": null,
   "metadata": {
    "id": "HZ4o-AldfUo8",
    "outputId": "9d234da7-8dca-4653-ea39-751be0a1ed0d"
   },
   "outputs": [
    {
     "name": "stdout",
     "output_type": "stream",
     "text": [
      "\\begin{center}\n",
      "\\begin{tabular}{lclc}\n",
      "\\toprule\n",
      "\\textbf{Dep. Variable:}   &     on\\_vent     & \\textbf{  No. Observations:  } &     716   \\\\\n",
      "\\textbf{Model:}           &      Logit       & \\textbf{  Df Residuals:      } &     715   \\\\\n",
      "\\textbf{Method:}          &       MLE        & \\textbf{  Df Model:          } &       0   \\\\\n",
      "\\textbf{Date:}            & Mon, 26 Apr 2021 & \\textbf{  Pseudo R-squ.:     } & -0.02753  \\\\\n",
      "\\textbf{Time:}            &     21:18:18     & \\textbf{  Log-Likelihood:    } &  -496.20  \\\\\n",
      "\\textbf{converged:}       &       True       & \\textbf{  LL-Null:           } &  -482.91  \\\\\n",
      "\\textbf{Covariance Type:} &    nonrobust     & \\textbf{  LLR p-value:       } &     nan   \\\\\n",
      "\\bottomrule\n",
      "\\end{tabular}\n",
      "%\\caption{Logit Regression Results}\n",
      "\\end{center}\n",
      "\\begin{center}\n",
      "\\begin{tabular}{lcccccc}\n",
      "\\toprule\n",
      "                      & \\textbf{coef} & \\textbf{std err} & \\textbf{z} & \\textbf{P$> |$z$|$} & \\textbf{[0.025} & \\textbf{0.975]}  \\\\\n",
      "\\midrule\n",
      "\\textbf{qSOFA\\_score} &      -0.0275  &        0.065     &    -0.423  &         0.672        &       -0.155    &        0.100     \\\\\n",
      "\\bottomrule\n",
      "\\end{tabular}\n",
      "\\end{center}\n"
     ]
    }
   ],
   "source": [
    "for table in res.summary().tables:\n",
    "    print(table.as_latex_tabular())"
   ]
  },
  {
   "cell_type": "code",
   "execution_count": null,
   "metadata": {
    "id": "BLysIlFGfUo8",
    "outputId": "dafb022b-b784-4074-e2ae-66a4e9bb68c4"
   },
   "outputs": [
    {
     "data": {
      "text/plain": [
       "0.3832767436772202"
      ]
     },
     "execution_count": 92,
     "metadata": {},
     "output_type": "execute_result"
    }
   ],
   "source": [
    "# auc score \n",
    "roc_auc_score(icu_df['on_vent'], res.predict(icu_df['qSOFA_score']))"
   ]
  },
  {
   "cell_type": "code",
   "execution_count": null,
   "metadata": {
    "id": "Ru9m0TC4fUo8"
   },
   "outputs": [],
   "source": [
    "temp_df = icu_df[['length_of_stay', 'qSOFA_score']].dropna()"
   ]
  },
  {
   "cell_type": "code",
   "execution_count": null,
   "metadata": {
    "id": "NjpDqB4LfUo8",
    "outputId": "54531ca8-d7e8-4f2e-bed4-fdd5863e6ec2"
   },
   "outputs": [
    {
     "data": {
      "text/html": [
       "<table class=\"simpletable\">\n",
       "<caption>OLS Regression Results</caption>\n",
       "<tr>\n",
       "  <th>Dep. Variable:</th>     <td>length_of_stay</td>  <th>  R-squared (uncentered):</th>      <td>   0.337</td>\n",
       "</tr>\n",
       "<tr>\n",
       "  <th>Model:</th>                   <td>OLS</td>       <th>  Adj. R-squared (uncentered):</th> <td>   0.336</td>\n",
       "</tr>\n",
       "<tr>\n",
       "  <th>Method:</th>             <td>Least Squares</td>  <th>  F-statistic:       </th>          <td>   345.1</td>\n",
       "</tr>\n",
       "<tr>\n",
       "  <th>Date:</th>             <td>Mon, 26 Apr 2021</td> <th>  Prob (F-statistic):</th>          <td>1.28e-62</td>\n",
       "</tr>\n",
       "<tr>\n",
       "  <th>Time:</th>                 <td>21:18:18</td>     <th>  Log-Likelihood:    </th>          <td> -2930.5</td>\n",
       "</tr>\n",
       "<tr>\n",
       "  <th>No. Observations:</th>      <td>   681</td>      <th>  AIC:               </th>          <td>   5863.</td>\n",
       "</tr>\n",
       "<tr>\n",
       "  <th>Df Residuals:</th>          <td>   680</td>      <th>  BIC:               </th>          <td>   5868.</td>\n",
       "</tr>\n",
       "<tr>\n",
       "  <th>Df Model:</th>              <td>     1</td>      <th>                     </th>              <td> </td>   \n",
       "</tr>\n",
       "<tr>\n",
       "  <th>Covariance Type:</th>      <td>nonrobust</td>    <th>                     </th>              <td> </td>   \n",
       "</tr>\n",
       "</table>\n",
       "<table class=\"simpletable\">\n",
       "<tr>\n",
       "       <td></td>          <th>coef</th>     <th>std err</th>      <th>t</th>      <th>P>|t|</th>  <th>[0.025</th>    <th>0.975]</th>  \n",
       "</tr>\n",
       "<tr>\n",
       "  <th>qSOFA_score</th> <td>   11.1002</td> <td>    0.597</td> <td>   18.578</td> <td> 0.000</td> <td>    9.927</td> <td>   12.273</td>\n",
       "</tr>\n",
       "</table>\n",
       "<table class=\"simpletable\">\n",
       "<tr>\n",
       "  <th>Omnibus:</th>       <td>225.571</td> <th>  Durbin-Watson:     </th> <td>   1.755</td> \n",
       "</tr>\n",
       "<tr>\n",
       "  <th>Prob(Omnibus):</th> <td> 0.000</td>  <th>  Jarque-Bera (JB):  </th> <td> 840.156</td> \n",
       "</tr>\n",
       "<tr>\n",
       "  <th>Skew:</th>          <td> 1.525</td>  <th>  Prob(JB):          </th> <td>3.65e-183</td>\n",
       "</tr>\n",
       "<tr>\n",
       "  <th>Kurtosis:</th>      <td> 7.507</td>  <th>  Cond. No.          </th> <td>    1.00</td> \n",
       "</tr>\n",
       "</table><br/><br/>Warnings:<br/>[1] Standard Errors assume that the covariance matrix of the errors is correctly specified."
      ],
      "text/plain": [
       "<class 'statsmodels.iolib.summary.Summary'>\n",
       "\"\"\"\n",
       "                                 OLS Regression Results                                \n",
       "=======================================================================================\n",
       "Dep. Variable:         length_of_stay   R-squared (uncentered):                   0.337\n",
       "Model:                            OLS   Adj. R-squared (uncentered):              0.336\n",
       "Method:                 Least Squares   F-statistic:                              345.1\n",
       "Date:                Mon, 26 Apr 2021   Prob (F-statistic):                    1.28e-62\n",
       "Time:                        21:18:18   Log-Likelihood:                         -2930.5\n",
       "No. Observations:                 681   AIC:                                      5863.\n",
       "Df Residuals:                     680   BIC:                                      5868.\n",
       "Df Model:                           1                                                  \n",
       "Covariance Type:            nonrobust                                                  \n",
       "===============================================================================\n",
       "                  coef    std err          t      P>|t|      [0.025      0.975]\n",
       "-------------------------------------------------------------------------------\n",
       "qSOFA_score    11.1002      0.597     18.578      0.000       9.927      12.273\n",
       "==============================================================================\n",
       "Omnibus:                      225.571   Durbin-Watson:                   1.755\n",
       "Prob(Omnibus):                  0.000   Jarque-Bera (JB):              840.156\n",
       "Skew:                           1.525   Prob(JB):                    3.65e-183\n",
       "Kurtosis:                       7.507   Cond. No.                         1.00\n",
       "==============================================================================\n",
       "\n",
       "Warnings:\n",
       "[1] Standard Errors assume that the covariance matrix of the errors is correctly specified.\n",
       "\"\"\""
      ]
     },
     "execution_count": 94,
     "metadata": {},
     "output_type": "execute_result"
    }
   ],
   "source": [
    "# linear regression model for qSOFA and length of stay\n",
    "model = stats.OLS(temp_df['length_of_stay'], temp_df['qSOFA_score'])\n",
    "res = model.fit()\n",
    "res.summary()"
   ]
  },
  {
   "cell_type": "code",
   "execution_count": null,
   "metadata": {
    "id": "knunBk2kfUo8",
    "outputId": "aadcefd0-4b3b-45bc-ed66-fdd9c29690b8"
   },
   "outputs": [
    {
     "name": "stdout",
     "output_type": "stream",
     "text": [
      "\\begin{center}\n",
      "\\begin{tabular}{lclc}\n",
      "\\toprule\n",
      "\\textbf{Dep. Variable:}    & length\\_of\\_stay & \\textbf{  R-squared (uncentered):}      &    0.337  \\\\\n",
      "\\textbf{Model:}            &       OLS        & \\textbf{  Adj. R-squared (uncentered):} &    0.336  \\\\\n",
      "\\textbf{Method:}           &  Least Squares   & \\textbf{  F-statistic:       }          &    345.1  \\\\\n",
      "\\textbf{Date:}             & Mon, 26 Apr 2021 & \\textbf{  Prob (F-statistic):}          & 1.28e-62  \\\\\n",
      "\\textbf{Time:}             &     21:18:18     & \\textbf{  Log-Likelihood:    }          &  -2930.5  \\\\\n",
      "\\textbf{No. Observations:} &         681      & \\textbf{  AIC:               }          &    5863.  \\\\\n",
      "\\textbf{Df Residuals:}     &         680      & \\textbf{  BIC:               }          &    5868.  \\\\\n",
      "\\textbf{Df Model:}         &           1      & \\textbf{                     }          &           \\\\\n",
      "\\textbf{Covariance Type:}  &    nonrobust     & \\textbf{                     }          &           \\\\\n",
      "\\bottomrule\n",
      "\\end{tabular}\n",
      "%\\caption{OLS Regression Results}\n",
      "\\end{center}\n",
      "\\begin{center}\n",
      "\\begin{tabular}{lcccccc}\n",
      "\\toprule\n",
      "                      & \\textbf{coef} & \\textbf{std err} & \\textbf{t} & \\textbf{P$> |$t$|$} & \\textbf{[0.025} & \\textbf{0.975]}  \\\\\n",
      "\\midrule\n",
      "\\textbf{qSOFA\\_score} &      11.1002  &        0.597     &    18.578  &         0.000        &        9.927    &       12.273     \\\\\n",
      "\\bottomrule\n",
      "\\end{tabular}\n",
      "\\end{center}\n",
      "\\begin{center}\n",
      "\\begin{tabular}{lclc}\n",
      "\\toprule\n",
      "\\textbf{Omnibus:}       & 225.571 & \\textbf{  Durbin-Watson:     } &     1.755  \\\\\n",
      "\\textbf{Prob(Omnibus):} &   0.000 & \\textbf{  Jarque-Bera (JB):  } &   840.156  \\\\\n",
      "\\textbf{Skew:}          &   1.525 & \\textbf{  Prob(JB):          } & 3.65e-183  \\\\\n",
      "\\textbf{Kurtosis:}      &   7.507 & \\textbf{  Cond. No.          } &      1.00  \\\\\n",
      "\\bottomrule\n",
      "\\end{tabular}\n",
      "\\end{center}\n"
     ]
    }
   ],
   "source": [
    "for table in res.summary().tables:\n",
    "    print(table.as_latex_tabular())"
   ]
  },
  {
   "cell_type": "code",
   "execution_count": null,
   "metadata": {
    "id": "BUa51B79fUo8"
   },
   "outputs": [],
   "source": [
    "# logistiic regression model for qSOFA and vitals on vent\n",
    "X = non_empty[['Creatinine',\n",
    "       'Abs_Lymph', 'AST',\n",
    "       'Diastolic_Blood_Pressure', 'Dosing_Weight_(kg)', 'FiO2/Percent',\n",
    "       'Glasgow_Coma_Score', 'Lymph_Auto',\n",
    "       'Oxygen_Saturation', 'Platelet', 'pO2_Art',\n",
    "       'Respiratory_Rate', 'Systolic_Blood_Pressure', 'WBC',\n",
    "       'Oxygen_Flow_Rate','Mean_Arterial_Pressure', 'heart_pulse_comb', 'temp_oral_degC', 'calc_pulled_BMI', 'qSOFA_score']]\n",
    "\n",
    "y = non_empty['on_vent']\n",
    "\n",
    "X2 = non_empty_length[['Creatinine',\n",
    "       'Abs_Lymph', 'AST',\n",
    "       'Diastolic_Blood_Pressure', 'Dosing_Weight_(kg)', 'FiO2/Percent',\n",
    "       'Glasgow_Coma_Score', 'Lymph_Auto',\n",
    "       'Oxygen_Saturation', 'Platelet', 'pO2_Art',\n",
    "       'Respiratory_Rate', 'Systolic_Blood_Pressure', 'WBC',\n",
    "       'Oxygen_Flow_Rate','Mean_Arterial_Pressure', 'heart_pulse_comb', 'temp_oral_degC', 'calc_pulled_BMI', 'qSOFA_score']]\n",
    "\n",
    "y2 = non_empty_length['length_of_stay']\n"
   ]
  },
  {
   "cell_type": "code",
   "execution_count": null,
   "metadata": {
    "id": "yvXWVkvBfUo9",
    "outputId": "334904f1-d3e7-4228-f7c2-104bc4056bd5"
   },
   "outputs": [
    {
     "name": "stdout",
     "output_type": "stream",
     "text": [
      "Optimization terminated successfully.\n",
      "         Current function value: 0.464392\n",
      "         Iterations 7\n"
     ]
    },
    {
     "data": {
      "text/html": [
       "<table class=\"simpletable\">\n",
       "<caption>Logit Regression Results</caption>\n",
       "<tr>\n",
       "  <th>Dep. Variable:</th>        <td>on_vent</td>     <th>  No. Observations:  </th>  <td>   143</td> \n",
       "</tr>\n",
       "<tr>\n",
       "  <th>Model:</th>                 <td>Logit</td>      <th>  Df Residuals:      </th>  <td>   123</td> \n",
       "</tr>\n",
       "<tr>\n",
       "  <th>Method:</th>                 <td>MLE</td>       <th>  Df Model:          </th>  <td>    19</td> \n",
       "</tr>\n",
       "<tr>\n",
       "  <th>Date:</th>            <td>Mon, 26 Apr 2021</td> <th>  Pseudo R-squ.:     </th>  <td>0.1770</td> \n",
       "</tr>\n",
       "<tr>\n",
       "  <th>Time:</th>                <td>21:18:18</td>     <th>  Log-Likelihood:    </th> <td> -66.408</td>\n",
       "</tr>\n",
       "<tr>\n",
       "  <th>converged:</th>             <td>True</td>       <th>  LL-Null:           </th> <td> -80.687</td>\n",
       "</tr>\n",
       "<tr>\n",
       "  <th>Covariance Type:</th>     <td>nonrobust</td>    <th>  LLR p-value:       </th>  <td>0.07325</td>\n",
       "</tr>\n",
       "</table>\n",
       "<table class=\"simpletable\">\n",
       "<tr>\n",
       "              <td></td>                <th>coef</th>     <th>std err</th>      <th>z</th>      <th>P>|z|</th>  <th>[0.025</th>    <th>0.975]</th>  \n",
       "</tr>\n",
       "<tr>\n",
       "  <th>Creatinine</th>               <td>    0.2578</td> <td>    0.211</td> <td>    1.221</td> <td> 0.222</td> <td>   -0.156</td> <td>    0.672</td>\n",
       "</tr>\n",
       "<tr>\n",
       "  <th>Abs_Lymph</th>                <td>   -0.7744</td> <td>    0.699</td> <td>   -1.108</td> <td> 0.268</td> <td>   -2.144</td> <td>    0.595</td>\n",
       "</tr>\n",
       "<tr>\n",
       "  <th>AST</th>                      <td>    0.0013</td> <td>    0.004</td> <td>    0.346</td> <td> 0.730</td> <td>   -0.006</td> <td>    0.009</td>\n",
       "</tr>\n",
       "<tr>\n",
       "  <th>Diastolic_Blood_Pressure</th> <td>   -0.0407</td> <td>    0.031</td> <td>   -1.296</td> <td> 0.195</td> <td>   -0.102</td> <td>    0.021</td>\n",
       "</tr>\n",
       "<tr>\n",
       "  <th>Dosing_Weight_(kg)</th>       <td>    0.0263</td> <td>    0.015</td> <td>    1.703</td> <td> 0.089</td> <td>   -0.004</td> <td>    0.057</td>\n",
       "</tr>\n",
       "<tr>\n",
       "  <th>FiO2/Percent</th>             <td>    0.0094</td> <td>    0.012</td> <td>    0.816</td> <td> 0.414</td> <td>   -0.013</td> <td>    0.032</td>\n",
       "</tr>\n",
       "<tr>\n",
       "  <th>Glasgow_Coma_Score</th>       <td>   -0.1399</td> <td>    0.184</td> <td>   -0.759</td> <td> 0.448</td> <td>   -0.501</td> <td>    0.221</td>\n",
       "</tr>\n",
       "<tr>\n",
       "  <th>Lymph_Auto</th>               <td>    0.0199</td> <td>    0.063</td> <td>    0.317</td> <td> 0.751</td> <td>   -0.103</td> <td>    0.143</td>\n",
       "</tr>\n",
       "<tr>\n",
       "  <th>Oxygen_Saturation</th>        <td>   -0.0314</td> <td>    0.028</td> <td>   -1.109</td> <td> 0.267</td> <td>   -0.087</td> <td>    0.024</td>\n",
       "</tr>\n",
       "<tr>\n",
       "  <th>Platelet</th>                 <td>   -0.0005</td> <td>    0.003</td> <td>   -0.160</td> <td> 0.873</td> <td>   -0.006</td> <td>    0.005</td>\n",
       "</tr>\n",
       "<tr>\n",
       "  <th>pO2_Art</th>                  <td>    0.0038</td> <td>    0.004</td> <td>    0.861</td> <td> 0.389</td> <td>   -0.005</td> <td>    0.013</td>\n",
       "</tr>\n",
       "<tr>\n",
       "  <th>Respiratory_Rate</th>         <td>    0.0233</td> <td>    0.044</td> <td>    0.533</td> <td> 0.594</td> <td>   -0.062</td> <td>    0.109</td>\n",
       "</tr>\n",
       "<tr>\n",
       "  <th>Systolic_Blood_Pressure</th>  <td>   -0.0056</td> <td>    0.017</td> <td>   -0.320</td> <td> 0.749</td> <td>   -0.040</td> <td>    0.029</td>\n",
       "</tr>\n",
       "<tr>\n",
       "  <th>WBC</th>                      <td>    0.1383</td> <td>    0.103</td> <td>    1.337</td> <td> 0.181</td> <td>   -0.064</td> <td>    0.341</td>\n",
       "</tr>\n",
       "<tr>\n",
       "  <th>Oxygen_Flow_Rate</th>         <td>   -0.0035</td> <td>    0.018</td> <td>   -0.189</td> <td> 0.850</td> <td>   -0.040</td> <td>    0.033</td>\n",
       "</tr>\n",
       "<tr>\n",
       "  <th>Mean_Arterial_Pressure</th>   <td>    0.0496</td> <td>    0.038</td> <td>    1.293</td> <td> 0.196</td> <td>   -0.026</td> <td>    0.125</td>\n",
       "</tr>\n",
       "<tr>\n",
       "  <th>heart_pulse_comb</th>         <td>    0.0199</td> <td>    0.014</td> <td>    1.423</td> <td> 0.155</td> <td>   -0.008</td> <td>    0.047</td>\n",
       "</tr>\n",
       "<tr>\n",
       "  <th>temp_oral_degC</th>           <td>   -0.0146</td> <td>    0.129</td> <td>   -0.113</td> <td> 0.910</td> <td>   -0.267</td> <td>    0.238</td>\n",
       "</tr>\n",
       "<tr>\n",
       "  <th>calc_pulled_BMI</th>          <td>   -0.0444</td> <td>    0.040</td> <td>   -1.115</td> <td> 0.265</td> <td>   -0.122</td> <td>    0.034</td>\n",
       "</tr>\n",
       "<tr>\n",
       "  <th>qSOFA_score</th>              <td>    0.3848</td> <td>    0.486</td> <td>    0.791</td> <td> 0.429</td> <td>   -0.569</td> <td>    1.338</td>\n",
       "</tr>\n",
       "</table>"
      ],
      "text/plain": [
       "<class 'statsmodels.iolib.summary.Summary'>\n",
       "\"\"\"\n",
       "                           Logit Regression Results                           \n",
       "==============================================================================\n",
       "Dep. Variable:                on_vent   No. Observations:                  143\n",
       "Model:                          Logit   Df Residuals:                      123\n",
       "Method:                           MLE   Df Model:                           19\n",
       "Date:                Mon, 26 Apr 2021   Pseudo R-squ.:                  0.1770\n",
       "Time:                        21:18:18   Log-Likelihood:                -66.408\n",
       "converged:                       True   LL-Null:                       -80.687\n",
       "Covariance Type:            nonrobust   LLR p-value:                   0.07325\n",
       "============================================================================================\n",
       "                               coef    std err          z      P>|z|      [0.025      0.975]\n",
       "--------------------------------------------------------------------------------------------\n",
       "Creatinine                   0.2578      0.211      1.221      0.222      -0.156       0.672\n",
       "Abs_Lymph                   -0.7744      0.699     -1.108      0.268      -2.144       0.595\n",
       "AST                          0.0013      0.004      0.346      0.730      -0.006       0.009\n",
       "Diastolic_Blood_Pressure    -0.0407      0.031     -1.296      0.195      -0.102       0.021\n",
       "Dosing_Weight_(kg)           0.0263      0.015      1.703      0.089      -0.004       0.057\n",
       "FiO2/Percent                 0.0094      0.012      0.816      0.414      -0.013       0.032\n",
       "Glasgow_Coma_Score          -0.1399      0.184     -0.759      0.448      -0.501       0.221\n",
       "Lymph_Auto                   0.0199      0.063      0.317      0.751      -0.103       0.143\n",
       "Oxygen_Saturation           -0.0314      0.028     -1.109      0.267      -0.087       0.024\n",
       "Platelet                    -0.0005      0.003     -0.160      0.873      -0.006       0.005\n",
       "pO2_Art                      0.0038      0.004      0.861      0.389      -0.005       0.013\n",
       "Respiratory_Rate             0.0233      0.044      0.533      0.594      -0.062       0.109\n",
       "Systolic_Blood_Pressure     -0.0056      0.017     -0.320      0.749      -0.040       0.029\n",
       "WBC                          0.1383      0.103      1.337      0.181      -0.064       0.341\n",
       "Oxygen_Flow_Rate            -0.0035      0.018     -0.189      0.850      -0.040       0.033\n",
       "Mean_Arterial_Pressure       0.0496      0.038      1.293      0.196      -0.026       0.125\n",
       "heart_pulse_comb             0.0199      0.014      1.423      0.155      -0.008       0.047\n",
       "temp_oral_degC              -0.0146      0.129     -0.113      0.910      -0.267       0.238\n",
       "calc_pulled_BMI             -0.0444      0.040     -1.115      0.265      -0.122       0.034\n",
       "qSOFA_score                  0.3848      0.486      0.791      0.429      -0.569       1.338\n",
       "============================================================================================\n",
       "\"\"\""
      ]
     },
     "execution_count": 97,
     "metadata": {},
     "output_type": "execute_result"
    }
   ],
   "source": [
    "\n",
    "\n",
    "model = stats.Logit(y, X)\n",
    "res = model.fit()\n",
    "res.summary()"
   ]
  },
  {
   "cell_type": "code",
   "execution_count": null,
   "metadata": {
    "id": "SsDbtcqqfUo9",
    "outputId": "b63d61bb-725a-4e7d-848e-a770ddf31b5d"
   },
   "outputs": [
    {
     "name": "stdout",
     "output_type": "stream",
     "text": [
      "\\begin{center}\n",
      "\\begin{tabular}{lclc}\n",
      "\\toprule\n",
      "\\textbf{Dep. Variable:}   &     on\\_vent     & \\textbf{  No. Observations:  } &     143   \\\\\n",
      "\\textbf{Model:}           &      Logit       & \\textbf{  Df Residuals:      } &     123   \\\\\n",
      "\\textbf{Method:}          &       MLE        & \\textbf{  Df Model:          } &      19   \\\\\n",
      "\\textbf{Date:}            & Mon, 26 Apr 2021 & \\textbf{  Pseudo R-squ.:     } &  0.1770   \\\\\n",
      "\\textbf{Time:}            &     21:18:18     & \\textbf{  Log-Likelihood:    } &  -66.408  \\\\\n",
      "\\textbf{converged:}       &       True       & \\textbf{  LL-Null:           } &  -80.687  \\\\\n",
      "\\textbf{Covariance Type:} &    nonrobust     & \\textbf{  LLR p-value:       } & 0.07325   \\\\\n",
      "\\bottomrule\n",
      "\\end{tabular}\n",
      "%\\caption{Logit Regression Results}\n",
      "\\end{center}\n",
      "\\begin{center}\n",
      "\\begin{tabular}{lcccccc}\n",
      "\\toprule\n",
      "                                    & \\textbf{coef} & \\textbf{std err} & \\textbf{z} & \\textbf{P$> |$z$|$} & \\textbf{[0.025} & \\textbf{0.975]}  \\\\\n",
      "\\midrule\n",
      "\\textbf{Creatinine}                 &       0.2578  &        0.211     &     1.221  &         0.222        &       -0.156    &        0.672     \\\\\n",
      "\\textbf{Abs\\_Lymph}                 &      -0.7744  &        0.699     &    -1.108  &         0.268        &       -2.144    &        0.595     \\\\\n",
      "\\textbf{AST}                        &       0.0013  &        0.004     &     0.346  &         0.730        &       -0.006    &        0.009     \\\\\n",
      "\\textbf{Diastolic\\_Blood\\_Pressure} &      -0.0407  &        0.031     &    -1.296  &         0.195        &       -0.102    &        0.021     \\\\\n",
      "\\textbf{Dosing\\_Weight\\_(kg)}       &       0.0263  &        0.015     &     1.703  &         0.089        &       -0.004    &        0.057     \\\\\n",
      "\\textbf{FiO2/Percent}               &       0.0094  &        0.012     &     0.816  &         0.414        &       -0.013    &        0.032     \\\\\n",
      "\\textbf{Glasgow\\_Coma\\_Score}       &      -0.1399  &        0.184     &    -0.759  &         0.448        &       -0.501    &        0.221     \\\\\n",
      "\\textbf{Lymph\\_Auto}                &       0.0199  &        0.063     &     0.317  &         0.751        &       -0.103    &        0.143     \\\\\n",
      "\\textbf{Oxygen\\_Saturation}         &      -0.0314  &        0.028     &    -1.109  &         0.267        &       -0.087    &        0.024     \\\\\n",
      "\\textbf{Platelet}                   &      -0.0005  &        0.003     &    -0.160  &         0.873        &       -0.006    &        0.005     \\\\\n",
      "\\textbf{pO2\\_Art}                   &       0.0038  &        0.004     &     0.861  &         0.389        &       -0.005    &        0.013     \\\\\n",
      "\\textbf{Respiratory\\_Rate}          &       0.0233  &        0.044     &     0.533  &         0.594        &       -0.062    &        0.109     \\\\\n",
      "\\textbf{Systolic\\_Blood\\_Pressure}  &      -0.0056  &        0.017     &    -0.320  &         0.749        &       -0.040    &        0.029     \\\\\n",
      "\\textbf{WBC}                        &       0.1383  &        0.103     &     1.337  &         0.181        &       -0.064    &        0.341     \\\\\n",
      "\\textbf{Oxygen\\_Flow\\_Rate}         &      -0.0035  &        0.018     &    -0.189  &         0.850        &       -0.040    &        0.033     \\\\\n",
      "\\textbf{Mean\\_Arterial\\_Pressure}   &       0.0496  &        0.038     &     1.293  &         0.196        &       -0.026    &        0.125     \\\\\n",
      "\\textbf{heart\\_pulse\\_comb}         &       0.0199  &        0.014     &     1.423  &         0.155        &       -0.008    &        0.047     \\\\\n",
      "\\textbf{temp\\_oral\\_degC}           &      -0.0146  &        0.129     &    -0.113  &         0.910        &       -0.267    &        0.238     \\\\\n",
      "\\textbf{calc\\_pulled\\_BMI}          &      -0.0444  &        0.040     &    -1.115  &         0.265        &       -0.122    &        0.034     \\\\\n",
      "\\textbf{qSOFA\\_score}               &       0.3848  &        0.486     &     0.791  &         0.429        &       -0.569    &        1.338     \\\\\n",
      "\\bottomrule\n",
      "\\end{tabular}\n",
      "\\end{center}\n"
     ]
    }
   ],
   "source": [
    "for table in res.summary().tables:\n",
    "    print(table.as_latex_tabular())"
   ]
  },
  {
   "cell_type": "code",
   "execution_count": null,
   "metadata": {
    "id": "ggEVVzbHfUo9",
    "outputId": "6a021aca-0ee9-4aa4-e8be-3b3e37c2e0a4"
   },
   "outputs": [
    {
     "data": {
      "text/plain": [
       "0.7847871235721704"
      ]
     },
     "execution_count": 99,
     "metadata": {},
     "output_type": "execute_result"
    }
   ],
   "source": [
    "# auc score \n",
    "roc_auc_score(non_empty['on_vent'], res.predict(X))"
   ]
  },
  {
   "cell_type": "code",
   "execution_count": null,
   "metadata": {
    "id": "18mR4cYnfUo9",
    "outputId": "eb56202b-73ce-419d-ec53-6caa6dc3fd8c"
   },
   "outputs": [
    {
     "data": {
      "text/html": [
       "<table class=\"simpletable\">\n",
       "<caption>OLS Regression Results</caption>\n",
       "<tr>\n",
       "  <th>Dep. Variable:</th>     <td>length_of_stay</td>  <th>  R-squared (uncentered):</th>      <td>   0.727</td>\n",
       "</tr>\n",
       "<tr>\n",
       "  <th>Model:</th>                   <td>OLS</td>       <th>  Adj. R-squared (uncentered):</th> <td>   0.681</td>\n",
       "</tr>\n",
       "<tr>\n",
       "  <th>Method:</th>             <td>Least Squares</td>  <th>  F-statistic:       </th>          <td>   15.97</td>\n",
       "</tr>\n",
       "<tr>\n",
       "  <th>Date:</th>             <td>Mon, 26 Apr 2021</td> <th>  Prob (F-statistic):</th>          <td>5.20e-25</td>\n",
       "</tr>\n",
       "<tr>\n",
       "  <th>Time:</th>                 <td>21:18:18</td>     <th>  Log-Likelihood:    </th>          <td> -582.94</td>\n",
       "</tr>\n",
       "<tr>\n",
       "  <th>No. Observations:</th>      <td>   140</td>      <th>  AIC:               </th>          <td>   1206.</td>\n",
       "</tr>\n",
       "<tr>\n",
       "  <th>Df Residuals:</th>          <td>   120</td>      <th>  BIC:               </th>          <td>   1265.</td>\n",
       "</tr>\n",
       "<tr>\n",
       "  <th>Df Model:</th>              <td>    20</td>      <th>                     </th>              <td> </td>   \n",
       "</tr>\n",
       "<tr>\n",
       "  <th>Covariance Type:</th>      <td>nonrobust</td>    <th>                     </th>              <td> </td>   \n",
       "</tr>\n",
       "</table>\n",
       "<table class=\"simpletable\">\n",
       "<tr>\n",
       "              <td></td>                <th>coef</th>     <th>std err</th>      <th>t</th>      <th>P>|t|</th>  <th>[0.025</th>    <th>0.975]</th>  \n",
       "</tr>\n",
       "<tr>\n",
       "  <th>Creatinine</th>               <td>   -0.6180</td> <td>    1.066</td> <td>   -0.580</td> <td> 0.563</td> <td>   -2.729</td> <td>    1.493</td>\n",
       "</tr>\n",
       "<tr>\n",
       "  <th>Abs_Lymph</th>                <td>   -4.7119</td> <td>    4.298</td> <td>   -1.096</td> <td> 0.275</td> <td>  -13.222</td> <td>    3.798</td>\n",
       "</tr>\n",
       "<tr>\n",
       "  <th>AST</th>                      <td>   -0.0488</td> <td>    0.024</td> <td>   -2.012</td> <td> 0.046</td> <td>   -0.097</td> <td>   -0.001</td>\n",
       "</tr>\n",
       "<tr>\n",
       "  <th>Diastolic_Blood_Pressure</th> <td>   -0.3492</td> <td>    0.227</td> <td>   -1.537</td> <td> 0.127</td> <td>   -0.799</td> <td>    0.101</td>\n",
       "</tr>\n",
       "<tr>\n",
       "  <th>Dosing_Weight_(kg)</th>       <td>   -0.0922</td> <td>    0.098</td> <td>   -0.938</td> <td> 0.350</td> <td>   -0.287</td> <td>    0.102</td>\n",
       "</tr>\n",
       "<tr>\n",
       "  <th>FiO2/Percent</th>             <td>    0.0026</td> <td>    0.074</td> <td>    0.035</td> <td> 0.972</td> <td>   -0.143</td> <td>    0.149</td>\n",
       "</tr>\n",
       "<tr>\n",
       "  <th>Glasgow_Coma_Score</th>       <td>    0.5897</td> <td>    0.694</td> <td>    0.850</td> <td> 0.397</td> <td>   -0.784</td> <td>    1.964</td>\n",
       "</tr>\n",
       "<tr>\n",
       "  <th>Lymph_Auto</th>               <td>    0.2861</td> <td>    0.413</td> <td>    0.692</td> <td> 0.490</td> <td>   -0.533</td> <td>    1.105</td>\n",
       "</tr>\n",
       "<tr>\n",
       "  <th>Oxygen_Saturation</th>        <td>   -0.1435</td> <td>    0.145</td> <td>   -0.987</td> <td> 0.325</td> <td>   -0.431</td> <td>    0.144</td>\n",
       "</tr>\n",
       "<tr>\n",
       "  <th>Platelet</th>                 <td>    0.0132</td> <td>    0.018</td> <td>    0.747</td> <td> 0.456</td> <td>   -0.022</td> <td>    0.048</td>\n",
       "</tr>\n",
       "<tr>\n",
       "  <th>pO2_Art</th>                  <td>   -0.0206</td> <td>    0.029</td> <td>   -0.709</td> <td> 0.480</td> <td>   -0.078</td> <td>    0.037</td>\n",
       "</tr>\n",
       "<tr>\n",
       "  <th>Respiratory_Rate</th>         <td>    0.1116</td> <td>    0.236</td> <td>    0.473</td> <td> 0.637</td> <td>   -0.355</td> <td>    0.578</td>\n",
       "</tr>\n",
       "<tr>\n",
       "  <th>Systolic_Blood_Pressure</th>  <td>   -0.0428</td> <td>    0.121</td> <td>   -0.355</td> <td> 0.723</td> <td>   -0.281</td> <td>    0.196</td>\n",
       "</tr>\n",
       "<tr>\n",
       "  <th>WBC</th>                      <td>    0.2919</td> <td>    0.524</td> <td>    0.557</td> <td> 0.579</td> <td>   -0.746</td> <td>    1.330</td>\n",
       "</tr>\n",
       "<tr>\n",
       "  <th>Oxygen_Flow_Rate</th>         <td>   -0.0385</td> <td>    0.106</td> <td>   -0.364</td> <td> 0.717</td> <td>   -0.248</td> <td>    0.171</td>\n",
       "</tr>\n",
       "<tr>\n",
       "  <th>Mean_Arterial_Pressure</th>   <td>    0.1602</td> <td>    0.289</td> <td>    0.554</td> <td> 0.580</td> <td>   -0.412</td> <td>    0.732</td>\n",
       "</tr>\n",
       "<tr>\n",
       "  <th>heart_pulse_comb</th>         <td>    0.0868</td> <td>    0.089</td> <td>    0.971</td> <td> 0.334</td> <td>   -0.090</td> <td>    0.264</td>\n",
       "</tr>\n",
       "<tr>\n",
       "  <th>temp_oral_degC</th>           <td>    1.0453</td> <td>    0.675</td> <td>    1.549</td> <td> 0.124</td> <td>   -0.290</td> <td>    2.381</td>\n",
       "</tr>\n",
       "<tr>\n",
       "  <th>calc_pulled_BMI</th>          <td>    0.1394</td> <td>    0.279</td> <td>    0.500</td> <td> 0.618</td> <td>   -0.412</td> <td>    0.691</td>\n",
       "</tr>\n",
       "<tr>\n",
       "  <th>qSOFA_score</th>              <td>    1.8064</td> <td>    3.104</td> <td>    0.582</td> <td> 0.562</td> <td>   -4.339</td> <td>    7.952</td>\n",
       "</tr>\n",
       "</table>\n",
       "<table class=\"simpletable\">\n",
       "<tr>\n",
       "  <th>Omnibus:</th>       <td>26.408</td> <th>  Durbin-Watson:     </th> <td>   2.394</td>\n",
       "</tr>\n",
       "<tr>\n",
       "  <th>Prob(Omnibus):</th> <td> 0.000</td> <th>  Jarque-Bera (JB):  </th> <td>  35.483</td>\n",
       "</tr>\n",
       "<tr>\n",
       "  <th>Skew:</th>          <td> 1.054</td> <th>  Prob(JB):          </th> <td>1.97e-08</td>\n",
       "</tr>\n",
       "<tr>\n",
       "  <th>Kurtosis:</th>      <td> 4.280</td> <th>  Cond. No.          </th> <td>1.13e+03</td>\n",
       "</tr>\n",
       "</table><br/><br/>Warnings:<br/>[1] Standard Errors assume that the covariance matrix of the errors is correctly specified.<br/>[2] The condition number is large, 1.13e+03. This might indicate that there are<br/>strong multicollinearity or other numerical problems."
      ],
      "text/plain": [
       "<class 'statsmodels.iolib.summary.Summary'>\n",
       "\"\"\"\n",
       "                                 OLS Regression Results                                \n",
       "=======================================================================================\n",
       "Dep. Variable:         length_of_stay   R-squared (uncentered):                   0.727\n",
       "Model:                            OLS   Adj. R-squared (uncentered):              0.681\n",
       "Method:                 Least Squares   F-statistic:                              15.97\n",
       "Date:                Mon, 26 Apr 2021   Prob (F-statistic):                    5.20e-25\n",
       "Time:                        21:18:18   Log-Likelihood:                         -582.94\n",
       "No. Observations:                 140   AIC:                                      1206.\n",
       "Df Residuals:                     120   BIC:                                      1265.\n",
       "Df Model:                          20                                                  \n",
       "Covariance Type:            nonrobust                                                  \n",
       "============================================================================================\n",
       "                               coef    std err          t      P>|t|      [0.025      0.975]\n",
       "--------------------------------------------------------------------------------------------\n",
       "Creatinine                  -0.6180      1.066     -0.580      0.563      -2.729       1.493\n",
       "Abs_Lymph                   -4.7119      4.298     -1.096      0.275     -13.222       3.798\n",
       "AST                         -0.0488      0.024     -2.012      0.046      -0.097      -0.001\n",
       "Diastolic_Blood_Pressure    -0.3492      0.227     -1.537      0.127      -0.799       0.101\n",
       "Dosing_Weight_(kg)          -0.0922      0.098     -0.938      0.350      -0.287       0.102\n",
       "FiO2/Percent                 0.0026      0.074      0.035      0.972      -0.143       0.149\n",
       "Glasgow_Coma_Score           0.5897      0.694      0.850      0.397      -0.784       1.964\n",
       "Lymph_Auto                   0.2861      0.413      0.692      0.490      -0.533       1.105\n",
       "Oxygen_Saturation           -0.1435      0.145     -0.987      0.325      -0.431       0.144\n",
       "Platelet                     0.0132      0.018      0.747      0.456      -0.022       0.048\n",
       "pO2_Art                     -0.0206      0.029     -0.709      0.480      -0.078       0.037\n",
       "Respiratory_Rate             0.1116      0.236      0.473      0.637      -0.355       0.578\n",
       "Systolic_Blood_Pressure     -0.0428      0.121     -0.355      0.723      -0.281       0.196\n",
       "WBC                          0.2919      0.524      0.557      0.579      -0.746       1.330\n",
       "Oxygen_Flow_Rate            -0.0385      0.106     -0.364      0.717      -0.248       0.171\n",
       "Mean_Arterial_Pressure       0.1602      0.289      0.554      0.580      -0.412       0.732\n",
       "heart_pulse_comb             0.0868      0.089      0.971      0.334      -0.090       0.264\n",
       "temp_oral_degC               1.0453      0.675      1.549      0.124      -0.290       2.381\n",
       "calc_pulled_BMI              0.1394      0.279      0.500      0.618      -0.412       0.691\n",
       "qSOFA_score                  1.8064      3.104      0.582      0.562      -4.339       7.952\n",
       "==============================================================================\n",
       "Omnibus:                       26.408   Durbin-Watson:                   2.394\n",
       "Prob(Omnibus):                  0.000   Jarque-Bera (JB):               35.483\n",
       "Skew:                           1.054   Prob(JB):                     1.97e-08\n",
       "Kurtosis:                       4.280   Cond. No.                     1.13e+03\n",
       "==============================================================================\n",
       "\n",
       "Warnings:\n",
       "[1] Standard Errors assume that the covariance matrix of the errors is correctly specified.\n",
       "[2] The condition number is large, 1.13e+03. This might indicate that there are\n",
       "strong multicollinearity or other numerical problems.\n",
       "\"\"\""
      ]
     },
     "execution_count": 100,
     "metadata": {},
     "output_type": "execute_result"
    }
   ],
   "source": [
    "model = stats.OLS(y2, X2)\n",
    "res = model.fit()\n",
    "res.summary()"
   ]
  },
  {
   "cell_type": "code",
   "execution_count": null,
   "metadata": {
    "id": "5hdEazdSfUo9",
    "outputId": "f59696ed-5ffd-47ec-f1d4-7556259940a3"
   },
   "outputs": [
    {
     "name": "stdout",
     "output_type": "stream",
     "text": [
      "\\begin{center}\n",
      "\\begin{tabular}{lclc}\n",
      "\\toprule\n",
      "\\textbf{Dep. Variable:}    & length\\_of\\_stay & \\textbf{  R-squared (uncentered):}      &    0.727  \\\\\n",
      "\\textbf{Model:}            &       OLS        & \\textbf{  Adj. R-squared (uncentered):} &    0.681  \\\\\n",
      "\\textbf{Method:}           &  Least Squares   & \\textbf{  F-statistic:       }          &    15.97  \\\\\n",
      "\\textbf{Date:}             & Mon, 26 Apr 2021 & \\textbf{  Prob (F-statistic):}          & 5.20e-25  \\\\\n",
      "\\textbf{Time:}             &     21:18:18     & \\textbf{  Log-Likelihood:    }          &  -582.94  \\\\\n",
      "\\textbf{No. Observations:} &         140      & \\textbf{  AIC:               }          &    1206.  \\\\\n",
      "\\textbf{Df Residuals:}     &         120      & \\textbf{  BIC:               }          &    1265.  \\\\\n",
      "\\textbf{Df Model:}         &          20      & \\textbf{                     }          &           \\\\\n",
      "\\textbf{Covariance Type:}  &    nonrobust     & \\textbf{                     }          &           \\\\\n",
      "\\bottomrule\n",
      "\\end{tabular}\n",
      "%\\caption{OLS Regression Results}\n",
      "\\end{center}\n",
      "\\begin{center}\n",
      "\\begin{tabular}{lcccccc}\n",
      "\\toprule\n",
      "                                    & \\textbf{coef} & \\textbf{std err} & \\textbf{t} & \\textbf{P$> |$t$|$} & \\textbf{[0.025} & \\textbf{0.975]}  \\\\\n",
      "\\midrule\n",
      "\\textbf{Creatinine}                 &      -0.6180  &        1.066     &    -0.580  &         0.563        &       -2.729    &        1.493     \\\\\n",
      "\\textbf{Abs\\_Lymph}                 &      -4.7119  &        4.298     &    -1.096  &         0.275        &      -13.222    &        3.798     \\\\\n",
      "\\textbf{AST}                        &      -0.0488  &        0.024     &    -2.012  &         0.046        &       -0.097    &       -0.001     \\\\\n",
      "\\textbf{Diastolic\\_Blood\\_Pressure} &      -0.3492  &        0.227     &    -1.537  &         0.127        &       -0.799    &        0.101     \\\\\n",
      "\\textbf{Dosing\\_Weight\\_(kg)}       &      -0.0922  &        0.098     &    -0.938  &         0.350        &       -0.287    &        0.102     \\\\\n",
      "\\textbf{FiO2/Percent}               &       0.0026  &        0.074     &     0.035  &         0.972        &       -0.143    &        0.149     \\\\\n",
      "\\textbf{Glasgow\\_Coma\\_Score}       &       0.5897  &        0.694     &     0.850  &         0.397        &       -0.784    &        1.964     \\\\\n",
      "\\textbf{Lymph\\_Auto}                &       0.2861  &        0.413     &     0.692  &         0.490        &       -0.533    &        1.105     \\\\\n",
      "\\textbf{Oxygen\\_Saturation}         &      -0.1435  &        0.145     &    -0.987  &         0.325        &       -0.431    &        0.144     \\\\\n",
      "\\textbf{Platelet}                   &       0.0132  &        0.018     &     0.747  &         0.456        &       -0.022    &        0.048     \\\\\n",
      "\\textbf{pO2\\_Art}                   &      -0.0206  &        0.029     &    -0.709  &         0.480        &       -0.078    &        0.037     \\\\\n",
      "\\textbf{Respiratory\\_Rate}          &       0.1116  &        0.236     &     0.473  &         0.637        &       -0.355    &        0.578     \\\\\n",
      "\\textbf{Systolic\\_Blood\\_Pressure}  &      -0.0428  &        0.121     &    -0.355  &         0.723        &       -0.281    &        0.196     \\\\\n",
      "\\textbf{WBC}                        &       0.2919  &        0.524     &     0.557  &         0.579        &       -0.746    &        1.330     \\\\\n",
      "\\textbf{Oxygen\\_Flow\\_Rate}         &      -0.0385  &        0.106     &    -0.364  &         0.717        &       -0.248    &        0.171     \\\\\n",
      "\\textbf{Mean\\_Arterial\\_Pressure}   &       0.1602  &        0.289     &     0.554  &         0.580        &       -0.412    &        0.732     \\\\\n",
      "\\textbf{heart\\_pulse\\_comb}         &       0.0868  &        0.089     &     0.971  &         0.334        &       -0.090    &        0.264     \\\\\n",
      "\\textbf{temp\\_oral\\_degC}           &       1.0453  &        0.675     &     1.549  &         0.124        &       -0.290    &        2.381     \\\\\n",
      "\\textbf{calc\\_pulled\\_BMI}          &       0.1394  &        0.279     &     0.500  &         0.618        &       -0.412    &        0.691     \\\\\n",
      "\\textbf{qSOFA\\_score}               &       1.8064  &        3.104     &     0.582  &         0.562        &       -4.339    &        7.952     \\\\\n",
      "\\bottomrule\n",
      "\\end{tabular}\n",
      "\\end{center}\n",
      "\\begin{center}\n",
      "\\begin{tabular}{lclc}\n",
      "\\toprule\n",
      "\\textbf{Omnibus:}       & 26.408 & \\textbf{  Durbin-Watson:     } &    2.394  \\\\\n",
      "\\textbf{Prob(Omnibus):} &  0.000 & \\textbf{  Jarque-Bera (JB):  } &   35.483  \\\\\n",
      "\\textbf{Skew:}          &  1.054 & \\textbf{  Prob(JB):          } & 1.97e-08  \\\\\n",
      "\\textbf{Kurtosis:}      &  4.280 & \\textbf{  Cond. No.          } & 1.13e+03  \\\\\n",
      "\\bottomrule\n",
      "\\end{tabular}\n",
      "\\end{center}\n"
     ]
    }
   ],
   "source": [
    "for table in res.summary().tables:\n",
    "    print(table.as_latex_tabular())"
   ]
  },
  {
   "cell_type": "code",
   "execution_count": null,
   "metadata": {
    "id": "8FoYLecjfUo9"
   },
   "outputs": [],
   "source": []
  }
 ],
 "metadata": {
  "colab": {
   "name": "Simulation Scarcity 1.0.ipynb",
   "provenance": []
  },
  "kernelspec": {
   "display_name": "Python 3",
   "language": "python",
   "name": "python3"
  },
  "language_info": {
   "codemirror_mode": {
    "name": "ipython",
    "version": 3
   },
   "file_extension": ".py",
   "mimetype": "text/x-python",
   "name": "python",
   "nbconvert_exporter": "python",
   "pygments_lexer": "ipython3",
   "version": "3.8.8"
  }
 },
 "nbformat": 4,
 "nbformat_minor": 1
}
