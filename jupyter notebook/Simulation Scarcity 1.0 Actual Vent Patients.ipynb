{
 "cells": [
  {
   "cell_type": "code",
   "execution_count": 1,
   "metadata": {},
   "outputs": [
    {
     "name": "stderr",
     "output_type": "stream",
     "text": [
      "/home/joel/anaconda3/lib/python3.7/site-packages/statsmodels/tools/_testing.py:19: FutureWarning: pandas.util.testing is deprecated. Use the functions in the public API at pandas.testing instead.\n",
      "  import pandas.util.testing as tm\n"
     ]
    }
   ],
   "source": [
    "import os \n",
    "import pandas as pd\n",
    "\n",
    "from pandas_profiling import ProfileReport\n",
    "from pandas_profiling.utils.cache import cache_file\n",
    "from collections import Counter\n",
    "import seaborn as sn\n",
    "import random\n",
    "import statistics \n",
    "import statsmodels.api as stats\n",
    "from sklearn.metrics import roc_auc_score\n",
    "from collections import Counter\n",
    "\n",
    "import numpy as np"
   ]
  },
  {
   "cell_type": "code",
   "execution_count": 2,
   "metadata": {},
   "outputs": [],
   "source": [
    "box_file_dir = os.path.join(os.getcwd(), \"..\", \"..\", \"Box\")\n",
    "file_path_csv = os.path.join(box_file_dir, \"covid_pts_enc_level_labs_dx_2021-02-02_deid.csv\")"
   ]
  },
  {
   "cell_type": "code",
   "execution_count": 3,
   "metadata": {},
   "outputs": [],
   "source": [
    "df = pd.read_csv(file_path_csv, index_col=False)"
   ]
  },
  {
   "cell_type": "code",
   "execution_count": 4,
   "metadata": {},
   "outputs": [
    {
     "data": {
      "text/html": [
       "<div>\n",
       "<style scoped>\n",
       "    .dataframe tbody tr th:only-of-type {\n",
       "        vertical-align: middle;\n",
       "    }\n",
       "\n",
       "    .dataframe tbody tr th {\n",
       "        vertical-align: top;\n",
       "    }\n",
       "\n",
       "    .dataframe thead th {\n",
       "        text-align: right;\n",
       "    }\n",
       "</style>\n",
       "<table border=\"1\" class=\"dataframe\">\n",
       "  <thead>\n",
       "    <tr style=\"text-align: right;\">\n",
       "      <th></th>\n",
       "      <th>admit_dt_tm</th>\n",
       "      <th>discharge_dt_tm</th>\n",
       "      <th>facility</th>\n",
       "      <th>encounter_type_display</th>\n",
       "      <th>age_at_admit</th>\n",
       "      <th>gender</th>\n",
       "      <th>zip_cust_table</th>\n",
       "      <th>ethnicity_display</th>\n",
       "      <th>race_display</th>\n",
       "      <th>race_eth_comb</th>\n",
       "      <th>...</th>\n",
       "      <th>diabetes_com_flag</th>\n",
       "      <th>hypertension_com_flag</th>\n",
       "      <th>CAD_com_flag</th>\n",
       "      <th>heartfailure_com_flag</th>\n",
       "      <th>CKD_com_flag</th>\n",
       "      <th>cancer_com_flag</th>\n",
       "      <th>qSOFA_score</th>\n",
       "      <th>deid_empi_encounter</th>\n",
       "      <th>deid_mrn_encounter</th>\n",
       "      <th>deid_fin_encounter</th>\n",
       "    </tr>\n",
       "  </thead>\n",
       "  <tbody>\n",
       "    <tr>\n",
       "      <th>0</th>\n",
       "      <td>2020-08-25 20:51:00</td>\n",
       "      <td>2020-09-01 14:30:00</td>\n",
       "      <td>Shoal Creek</td>\n",
       "      <td>IP Private/Semi Private room</td>\n",
       "      <td>49</td>\n",
       "      <td>Male</td>\n",
       "      <td>Unknown</td>\n",
       "      <td>Hispanic or Latino</td>\n",
       "      <td>White</td>\n",
       "      <td>White Hispanic</td>\n",
       "      <td>...</td>\n",
       "      <td>False</td>\n",
       "      <td>False</td>\n",
       "      <td>False</td>\n",
       "      <td>False</td>\n",
       "      <td>False</td>\n",
       "      <td>False</td>\n",
       "      <td>NaN</td>\n",
       "      <td>4dMaH</td>\n",
       "      <td>61003</td>\n",
       "      <td>10650</td>\n",
       "    </tr>\n",
       "    <tr>\n",
       "      <th>1</th>\n",
       "      <td>2020-03-24 00:07:00</td>\n",
       "      <td>2020-03-26 18:30:00</td>\n",
       "      <td>Medical Center</td>\n",
       "      <td>IP ICU</td>\n",
       "      <td>44</td>\n",
       "      <td>Male</td>\n",
       "      <td>78130</td>\n",
       "      <td>Hispanic or Latino</td>\n",
       "      <td>White</td>\n",
       "      <td>White Hispanic</td>\n",
       "      <td>...</td>\n",
       "      <td>False</td>\n",
       "      <td>False</td>\n",
       "      <td>False</td>\n",
       "      <td>False</td>\n",
       "      <td>False</td>\n",
       "      <td>False</td>\n",
       "      <td>3.0</td>\n",
       "      <td>8wQnr</td>\n",
       "      <td>84969</td>\n",
       "      <td>27818</td>\n",
       "    </tr>\n",
       "    <tr>\n",
       "      <th>2</th>\n",
       "      <td>2020-03-25 13:25:00</td>\n",
       "      <td>2020-03-30 03:48:00</td>\n",
       "      <td>Medical Center</td>\n",
       "      <td>IP Private/Semi Private room</td>\n",
       "      <td>80</td>\n",
       "      <td>Female</td>\n",
       "      <td>78758</td>\n",
       "      <td>Not Hispanic or Latino</td>\n",
       "      <td>Black or African American</td>\n",
       "      <td>Other race Non Hispanic</td>\n",
       "      <td>...</td>\n",
       "      <td>True</td>\n",
       "      <td>False</td>\n",
       "      <td>True</td>\n",
       "      <td>True</td>\n",
       "      <td>True</td>\n",
       "      <td>False</td>\n",
       "      <td>1.0</td>\n",
       "      <td>6YGuu</td>\n",
       "      <td>69112</td>\n",
       "      <td>34412</td>\n",
       "    </tr>\n",
       "    <tr>\n",
       "      <th>3</th>\n",
       "      <td>2020-03-25 13:36:00</td>\n",
       "      <td>2020-03-27 13:15:00</td>\n",
       "      <td>Medical Center</td>\n",
       "      <td>IP Private/Semi Private room</td>\n",
       "      <td>56</td>\n",
       "      <td>Male</td>\n",
       "      <td>78746</td>\n",
       "      <td>Not Hispanic or Latino</td>\n",
       "      <td>White</td>\n",
       "      <td>White Non Hispanic</td>\n",
       "      <td>...</td>\n",
       "      <td>False</td>\n",
       "      <td>False</td>\n",
       "      <td>False</td>\n",
       "      <td>False</td>\n",
       "      <td>False</td>\n",
       "      <td>False</td>\n",
       "      <td>1.0</td>\n",
       "      <td>P1Tjg</td>\n",
       "      <td>84820</td>\n",
       "      <td>37981</td>\n",
       "    </tr>\n",
       "    <tr>\n",
       "      <th>4</th>\n",
       "      <td>2020-03-25 13:43:00</td>\n",
       "      <td>2020-03-27 12:44:00</td>\n",
       "      <td>Medical Center</td>\n",
       "      <td>IP Private/Semi Private room</td>\n",
       "      <td>46</td>\n",
       "      <td>Female</td>\n",
       "      <td>78757</td>\n",
       "      <td>Not Hispanic or Latino</td>\n",
       "      <td>White</td>\n",
       "      <td>White Non Hispanic</td>\n",
       "      <td>...</td>\n",
       "      <td>False</td>\n",
       "      <td>False</td>\n",
       "      <td>False</td>\n",
       "      <td>False</td>\n",
       "      <td>False</td>\n",
       "      <td>False</td>\n",
       "      <td>0.0</td>\n",
       "      <td>iouKO</td>\n",
       "      <td>76686</td>\n",
       "      <td>41152</td>\n",
       "    </tr>\n",
       "  </tbody>\n",
       "</table>\n",
       "<p>5 rows × 70 columns</p>\n",
       "</div>"
      ],
      "text/plain": [
       "           admit_dt_tm      discharge_dt_tm        facility  \\\n",
       "0  2020-08-25 20:51:00  2020-09-01 14:30:00     Shoal Creek   \n",
       "1  2020-03-24 00:07:00  2020-03-26 18:30:00  Medical Center   \n",
       "2  2020-03-25 13:25:00  2020-03-30 03:48:00  Medical Center   \n",
       "3  2020-03-25 13:36:00  2020-03-27 13:15:00  Medical Center   \n",
       "4  2020-03-25 13:43:00  2020-03-27 12:44:00  Medical Center   \n",
       "\n",
       "         encounter_type_display  age_at_admit  gender zip_cust_table  \\\n",
       "0  IP Private/Semi Private room            49    Male        Unknown   \n",
       "1                        IP ICU            44    Male          78130   \n",
       "2  IP Private/Semi Private room            80  Female          78758   \n",
       "3  IP Private/Semi Private room            56    Male          78746   \n",
       "4  IP Private/Semi Private room            46  Female          78757   \n",
       "\n",
       "        ethnicity_display               race_display            race_eth_comb  \\\n",
       "0      Hispanic or Latino                      White           White Hispanic   \n",
       "1      Hispanic or Latino                      White           White Hispanic   \n",
       "2  Not Hispanic or Latino  Black or African American  Other race Non Hispanic   \n",
       "3  Not Hispanic or Latino                      White       White Non Hispanic   \n",
       "4  Not Hispanic or Latino                      White       White Non Hispanic   \n",
       "\n",
       "   ...  diabetes_com_flag hypertension_com_flag CAD_com_flag  \\\n",
       "0  ...              False                 False        False   \n",
       "1  ...              False                 False        False   \n",
       "2  ...               True                 False         True   \n",
       "3  ...              False                 False        False   \n",
       "4  ...              False                 False        False   \n",
       "\n",
       "  heartfailure_com_flag CKD_com_flag cancer_com_flag qSOFA_score  \\\n",
       "0                 False        False           False         NaN   \n",
       "1                 False        False           False         3.0   \n",
       "2                  True         True           False         1.0   \n",
       "3                 False        False           False         1.0   \n",
       "4                 False        False           False         0.0   \n",
       "\n",
       "  deid_empi_encounter  deid_mrn_encounter deid_fin_encounter  \n",
       "0               4dMaH               61003              10650  \n",
       "1               8wQnr               84969              27818  \n",
       "2               6YGuu               69112              34412  \n",
       "3               P1Tjg               84820              37981  \n",
       "4               iouKO               76686              41152  \n",
       "\n",
       "[5 rows x 70 columns]"
      ]
     },
     "execution_count": 4,
     "metadata": {},
     "output_type": "execute_result"
    }
   ],
   "source": [
    "df.head()"
   ]
  },
  {
   "cell_type": "code",
   "execution_count": 5,
   "metadata": {},
   "outputs": [],
   "source": [
    "vent_df = df[~df['vent_hours_summed'].isnull()]"
   ]
  },
  {
   "cell_type": "code",
   "execution_count": 6,
   "metadata": {},
   "outputs": [
    {
     "data": {
      "text/plain": [
       "303"
      ]
     },
     "execution_count": 6,
     "metadata": {},
     "output_type": "execute_result"
    }
   ],
   "source": [
    "len(vent_df)"
   ]
  },
  {
   "cell_type": "code",
   "execution_count": 7,
   "metadata": {},
   "outputs": [],
   "source": [
    "died_vent = vent_df[vent_df['discharge_disposition_display'] == 'Expired']\n",
    "survived_vent = vent_df[vent_df['discharge_disposition_display'] != 'Expired']"
   ]
  },
  {
   "cell_type": "code",
   "execution_count": 8,
   "metadata": {},
   "outputs": [
    {
     "data": {
      "text/plain": [
       "117"
      ]
     },
     "execution_count": 8,
     "metadata": {},
     "output_type": "execute_result"
    }
   ],
   "source": [
    "len(died_vent)"
   ]
  },
  {
   "cell_type": "code",
   "execution_count": 9,
   "metadata": {},
   "outputs": [
    {
     "data": {
      "text/plain": [
       "186"
      ]
     },
     "execution_count": 9,
     "metadata": {},
     "output_type": "execute_result"
    }
   ],
   "source": [
    "len(survived_vent)"
   ]
  },
  {
   "cell_type": "code",
   "execution_count": 10,
   "metadata": {},
   "outputs": [
    {
     "data": {
      "text/plain": [
       "<AxesSubplot:>"
      ]
     },
     "execution_count": 10,
     "metadata": {},
     "output_type": "execute_result"
    },
    {
     "data": {
      "image/png": "[encoded data removed]",
      "text/plain": [
       "<Figure size 432x288 with 1 Axes>"
      ]
     },
     "metadata": {
      "needs_background": "light"
     },
     "output_type": "display_data"
    }
   ],
   "source": [
    "died_vent['qSOFA_score'].hist()"
   ]
  },
  {
   "cell_type": "code",
   "execution_count": 11,
   "metadata": {},
   "outputs": [
    {
     "data": {
      "text/plain": [
       "<AxesSubplot:>"
      ]
     },
     "execution_count": 11,
     "metadata": {},
     "output_type": "execute_result"
    },
    {
     "data": {
      "image/png": "[encoded data removed]",
      "text/plain": [
       "<Figure size 432x288 with 1 Axes>"
      ]
     },
     "metadata": {
      "needs_background": "light"
     },
     "output_type": "display_data"
    }
   ],
   "source": [
    "survived_vent['qSOFA_score'].hist()"
   ]
  },
  {
   "cell_type": "code",
   "execution_count": 12,
   "metadata": {},
   "outputs": [
    {
     "data": {
      "text/plain": [
       "Counter({3.0: 4, 0.0: 26, 2.0: 32, 1.0: 52, nan: 1, nan: 1, nan: 1})"
      ]
     },
     "execution_count": 12,
     "metadata": {},
     "output_type": "execute_result"
    }
   ],
   "source": [
    "Counter(died_vent['qSOFA_score'])"
   ]
  },
  {
   "cell_type": "code",
   "execution_count": 13,
   "metadata": {},
   "outputs": [
    {
     "data": {
      "text/plain": [
       "Counter({1.0: 112, 2.0: 33, 0.0: 32, 3.0: 6, nan: 1, nan: 1, nan: 1})"
      ]
     },
     "execution_count": 13,
     "metadata": {},
     "output_type": "execute_result"
    }
   ],
   "source": [
    "Counter(survived_vent['qSOFA_score'])"
   ]
  },
  {
   "cell_type": "markdown",
   "metadata": {},
   "source": [
    "### Lottery "
   ]
  },
  {
   "cell_type": "code",
   "execution_count": 14,
   "metadata": {},
   "outputs": [],
   "source": [
    "lot_df = pd.read_csv('sim_results/lottery_1.0.csv', index_col=False)"
   ]
  },
  {
   "cell_type": "code",
   "execution_count": 15,
   "metadata": {},
   "outputs": [],
   "source": [
    "expired_df = lot_df[lot_df['death'] == 1]\n",
    "expired_df = expired_df[~expired_df['vent_hours_summed'].isnull()]"
   ]
  },
  {
   "cell_type": "code",
   "execution_count": 16,
   "metadata": {},
   "outputs": [
    {
     "data": {
      "text/plain": [
       "32        yes\n",
       "112       yes\n",
       "120       yes\n",
       "124       yes\n",
       "181       yes\n",
       "         ... \n",
       "651891    yes\n",
       "651943    yes\n",
       "651966    yes\n",
       "651993    yes\n",
       "651994    yes\n",
       "Name: allocated_vent, Length: 16734, dtype: object"
      ]
     },
     "execution_count": 16,
     "metadata": {},
     "output_type": "execute_result"
    }
   ],
   "source": [
    "expired_df['allocated_vent']"
   ]
  },
  {
   "cell_type": "code",
   "execution_count": 17,
   "metadata": {},
   "outputs": [
    {
     "data": {
      "text/plain": [
       "2.566564417177914"
      ]
     },
     "execution_count": 17,
     "metadata": {},
     "output_type": "execute_result"
    }
   ],
   "source": [
    "# percentage died\n",
    "(len(expired_df) / len(lot_df) ) * 100"
   ]
  },
  {
   "cell_type": "code",
   "execution_count": 18,
   "metadata": {},
   "outputs": [
    {
     "data": {
      "text/plain": [
       "Counter({2.0: 6310, 1.0: 7709, 3.0: 2429, 0.0: 286})"
      ]
     },
     "execution_count": 18,
     "metadata": {},
     "output_type": "execute_result"
    }
   ],
   "source": [
    "Counter(expired_df['qSOFA_score'])"
   ]
  },
  {
   "cell_type": "code",
   "execution_count": 19,
   "metadata": {},
   "outputs": [
    {
     "data": {
      "text/plain": [
       "Counter({'White': 4779,\n",
       "         'Hispanic': 7903,\n",
       "         'Other Race': 1275,\n",
       "         'Black or African American': 1931,\n",
       "         'Unknown': 743,\n",
       "         'Decline to Specify': 97,\n",
       "         'Asian': 6})"
      ]
     },
     "execution_count": 19,
     "metadata": {},
     "output_type": "execute_result"
    }
   ],
   "source": [
    "# to get means divide by iterations \n",
    "death_counts = Counter(expired_df['race_display'])\n",
    "death_counts"
   ]
  },
  {
   "cell_type": "code",
   "execution_count": 20,
   "metadata": {},
   "outputs": [
    {
     "data": {
      "text/plain": [
       "Counter({'Hispanic': 3435,\n",
       "         'White': 2587,\n",
       "         'Black or African American': 852,\n",
       "         'Other Race': 447,\n",
       "         'Decline to Specify': 90,\n",
       "         'Unknown': 298})"
      ]
     },
     "execution_count": 20,
     "metadata": {},
     "output_type": "execute_result"
    }
   ],
   "source": [
    "counts = Counter(expired_df[expired_df['qSOFA_score'] == 1.0]['race_display'])\n",
    "counts"
   ]
  },
  {
   "cell_type": "code",
   "execution_count": 21,
   "metadata": {},
   "outputs": [
    {
     "data": {
      "text/plain": [
       "{'Hispanic': 43.46450714918386,\n",
       " 'White': 54.132663737183506,\n",
       " 'Black or African American': 44.122216468151215,\n",
       " 'Other Race': 35.05882352941177,\n",
       " 'Decline to Specify': 92.78350515463917,\n",
       " 'Unknown': 40.107671601615074}"
      ]
     },
     "execution_count": 21,
     "metadata": {},
     "output_type": "execute_result"
    }
   ],
   "source": [
    "# Proportion of patients with score of 1\n",
    "counts = Counter(expired_df[expired_df['qSOFA_score'] == 1.0]['race_display'])\n",
    "prop_dict = {}\n",
    "\n",
    "for key in counts: \n",
    "    prop_dict[key] = (counts[key] / death_counts[key]) * 100 \n",
    "\n",
    "prop_dict"
   ]
  },
  {
   "cell_type": "code",
   "execution_count": 22,
   "metadata": {},
   "outputs": [
    {
     "data": {
      "text/plain": [
       "{'White': 33.31240845365139,\n",
       " 'Hispanic': 45.931924585600406,\n",
       " 'Other Race': 24.784313725490197,\n",
       " 'Unknown': 26.917900403768506,\n",
       " 'Black or African American': 29.621957534955985}"
      ]
     },
     "execution_count": 22,
     "metadata": {},
     "output_type": "execute_result"
    }
   ],
   "source": [
    "# Proportion of patients with score of 2\n",
    "counts = Counter(expired_df[expired_df['qSOFA_score'] == 2.0]['race_display'])\n",
    "\n",
    "\n",
    "prop_dict = {}\n",
    "\n",
    "for key in counts: \n",
    "    prop_dict[key] = (counts[key] / death_counts[key]) * 100 \n",
    "\n",
    "prop_dict"
   ]
  },
  {
   "cell_type": "code",
   "execution_count": 23,
   "metadata": {},
   "outputs": [
    {
     "data": {
      "text/plain": [
       "{'Black or African American': 24.754013464526153,\n",
       " 'Hispanic': 8.983930153106416,\n",
       " 'Other Race': 39.05882352941176,\n",
       " 'White': 10.65076375810839,\n",
       " 'Unknown': 31.493943472409153}"
      ]
     },
     "execution_count": 23,
     "metadata": {},
     "output_type": "execute_result"
    }
   ],
   "source": [
    "# Proportion of patients with score of 3\n",
    "counts = Counter(expired_df[expired_df['qSOFA_score'] == 3.0]['race_display'])\n",
    "\n",
    "prop_dict = {}\n",
    "\n",
    "for key in counts: \n",
    "    prop_dict[key] = (counts[key] / death_counts[key]) * 100 \n",
    "\n",
    "prop_dict"
   ]
  },
  {
   "cell_type": "code",
   "execution_count": 24,
   "metadata": {},
   "outputs": [
    {
     "data": {
      "text/plain": [
       "<AxesSubplot:>"
      ]
     },
     "execution_count": 24,
     "metadata": {},
     "output_type": "execute_result"
    },
    {
     "data": {
      "image/png": "[encoded data removed]",
      "text/plain": [
       "<Figure size 432x288 with 1 Axes>"
      ]
     },
     "metadata": {
      "needs_background": "light"
     },
     "output_type": "display_data"
    }
   ],
   "source": [
    "expired_df[expired_df['race_display'] == 'Hispanic']['qSOFA_score'].hist()"
   ]
  },
  {
   "cell_type": "code",
   "execution_count": 25,
   "metadata": {},
   "outputs": [
    {
     "data": {
      "text/plain": [
       "<AxesSubplot:>"
      ]
     },
     "execution_count": 25,
     "metadata": {},
     "output_type": "execute_result"
    },
    {
     "data": {
      "image/png": "[encoded data removed]",
      "text/plain": [
       "<Figure size 432x288 with 1 Axes>"
      ]
     },
     "metadata": {
      "needs_background": "light"
     },
     "output_type": "display_data"
    }
   ],
   "source": [
    "expired_df[expired_df['race_display'] == 'White']['qSOFA_score'].hist()"
   ]
  },
  {
   "cell_type": "code",
   "execution_count": 26,
   "metadata": {},
   "outputs": [
    {
     "data": {
      "text/plain": [
       "<AxesSubplot:>"
      ]
     },
     "execution_count": 26,
     "metadata": {},
     "output_type": "execute_result"
    },
    {
     "data": {
      "image/png": "[encoded data removed]",
      "text/plain": [
       "<Figure size 432x288 with 1 Axes>"
      ]
     },
     "metadata": {
      "needs_background": "light"
     },
     "output_type": "display_data"
    }
   ],
   "source": [
    "expired_df[expired_df['race_display'] == 'Black or African American']['qSOFA_score'].hist()"
   ]
  },
  {
   "cell_type": "markdown",
   "metadata": {},
   "source": [
    "### New York"
   ]
  },
  {
   "cell_type": "code",
   "execution_count": 27,
   "metadata": {},
   "outputs": [
    {
     "data": {
      "text/plain": [
       "Counter({'Black or African American': 1915,\n",
       "         'Hispanic': 7930,\n",
       "         'Other Race': 1217,\n",
       "         'White': 4714,\n",
       "         'Unknown': 789,\n",
       "         'Decline to Specify': 101,\n",
       "         'Asian': 5})"
      ]
     },
     "execution_count": 27,
     "metadata": {},
     "output_type": "execute_result"
    }
   ],
   "source": [
    "lot_df = pd.read_csv('sim_results/new_york_1.0.csv', index_col=False)\n",
    "expired_df = lot_df[lot_df['death'] == 1]\n",
    "expired_df = expired_df[~expired_df['vent_hours_summed'].isnull()]\n",
    "death_counts = Counter(expired_df['race_display'])\n",
    "death_counts"
   ]
  },
  {
   "cell_type": "code",
   "execution_count": 28,
   "metadata": {},
   "outputs": [
    {
     "data": {
      "text/plain": [
       "2.5569018404907973"
      ]
     },
     "execution_count": 28,
     "metadata": {},
     "output_type": "execute_result"
    }
   ],
   "source": [
    "# percentage died \n",
    "(len(expired_df) / len(lot_df) ) * 100"
   ]
  },
  {
   "cell_type": "code",
   "execution_count": 29,
   "metadata": {},
   "outputs": [
    {
     "data": {
      "text/plain": [
       "{'Black or African American': 1.4099216710182767,\n",
       " 'White': 2.248621128553246,\n",
       " 'Hispanic': 2.257250945775536,\n",
       " 'Other Race': 0.8216926869350863,\n",
       " 'Unknown': 1.0139416983523446,\n",
       " 'Asian': 100.0,\n",
       " 'Decline to Specify': 1.9801980198019802}"
      ]
     },
     "execution_count": 29,
     "metadata": {},
     "output_type": "execute_result"
    }
   ],
   "source": [
    "counts = Counter(expired_df[expired_df['qSOFA_score'] == 0.0]['race_display'])\n",
    "prop_dict = {}\n",
    "\n",
    "for key in counts: \n",
    "    prop_dict[key] = (counts[key] / death_counts[key]) * 100 \n",
    "\n",
    "prop_dict"
   ]
  },
  {
   "cell_type": "code",
   "execution_count": 30,
   "metadata": {},
   "outputs": [
    {
     "data": {
      "text/plain": [
       "{'Black or African American': 41.14882506527415,\n",
       " 'Hispanic': 41.70239596469105,\n",
       " 'Other Race': 35.41495480690222,\n",
       " 'White': 53.478998727195595,\n",
       " 'Unknown': 40.937896070975924,\n",
       " 'Decline to Specify': 98.01980198019803}"
      ]
     },
     "execution_count": 30,
     "metadata": {},
     "output_type": "execute_result"
    }
   ],
   "source": [
    "counts = Counter(expired_df[expired_df['qSOFA_score'] == 1.0]['race_display'])\n",
    "prop_dict = {}\n",
    "\n",
    "for key in counts: \n",
    "    prop_dict[key] = (counts[key] / death_counts[key]) * 100 \n",
    "\n",
    "prop_dict"
   ]
  },
  {
   "cell_type": "code",
   "execution_count": 31,
   "metadata": {},
   "outputs": [
    {
     "data": {
      "text/plain": [
       "{'White': 34.51421298260501,\n",
       " 'Other Race': 23.8290879211175,\n",
       " 'Hispanic': 47.07440100882724,\n",
       " 'Unknown': 26.362484157160964,\n",
       " 'Black or African American': 32.637075718015666}"
      ]
     },
     "execution_count": 31,
     "metadata": {},
     "output_type": "execute_result"
    }
   ],
   "source": [
    "counts = Counter(expired_df[expired_df['qSOFA_score'] == 2.0]['race_display'])\n",
    "prop_dict = {}\n",
    "\n",
    "for key in counts: \n",
    "    prop_dict[key] = (counts[key] / death_counts[key]) * 100 \n",
    "\n",
    "prop_dict"
   ]
  },
  {
   "cell_type": "code",
   "execution_count": 32,
   "metadata": {},
   "outputs": [
    {
     "data": {
      "text/plain": [
       "{'White': 9.75816716164616,\n",
       " 'Black or African American': 24.804177545691903,\n",
       " 'Hispanic': 8.96595208070618,\n",
       " 'Unknown': 31.685678073510775,\n",
       " 'Other Race': 39.93426458504519}"
      ]
     },
     "execution_count": 32,
     "metadata": {},
     "output_type": "execute_result"
    }
   ],
   "source": [
    "counts = Counter(expired_df[expired_df['qSOFA_score'] == 3.0]['race_display'])\n",
    "prop_dict = {}\n",
    "\n",
    "for key in counts: \n",
    "    prop_dict[key] = (counts[key] / death_counts[key]) * 100 \n",
    "\n",
    "prop_dict"
   ]
  },
  {
   "cell_type": "code",
   "execution_count": 33,
   "metadata": {},
   "outputs": [
    {
     "name": "stdout",
     "output_type": "stream",
     "text": [
      "AxesSubplot(0.125,0.125;0.775x0.755)\n"
     ]
    },
    {
     "data": {
      "image/png": "[encoded data removed]",
      "text/plain": [
       "<Figure size 432x288 with 1 Axes>"
      ]
     },
     "metadata": {
      "needs_background": "light"
     },
     "output_type": "display_data"
    }
   ],
   "source": [
    "print(expired_df[expired_df['race_display'] == 'Hispanic']['qSOFA_score'].hist())"
   ]
  },
  {
   "cell_type": "code",
   "execution_count": 34,
   "metadata": {},
   "outputs": [
    {
     "name": "stdout",
     "output_type": "stream",
     "text": [
      "AxesSubplot(0.125,0.125;0.775x0.755)\n"
     ]
    },
    {
     "data": {
      "image/png": "[encoded data removed]",
      "text/plain": [
       "<Figure size 432x288 with 1 Axes>"
      ]
     },
     "metadata": {
      "needs_background": "light"
     },
     "output_type": "display_data"
    }
   ],
   "source": [
    "print(expired_df[expired_df['race_display'] == 'White']['qSOFA_score'].hist())"
   ]
  },
  {
   "cell_type": "code",
   "execution_count": 35,
   "metadata": {},
   "outputs": [
    {
     "name": "stdout",
     "output_type": "stream",
     "text": [
      "AxesSubplot(0.125,0.125;0.775x0.755)\n"
     ]
    },
    {
     "data": {
      "image/png": "[encoded data removed]",
      "text/plain": [
       "<Figure size 432x288 with 1 Axes>"
      ]
     },
     "metadata": {
      "needs_background": "light"
     },
     "output_type": "display_data"
    }
   ],
   "source": [
    "print(expired_df[expired_df['race_display'] == 'Black or African American']['qSOFA_score'].hist())"
   ]
  },
  {
   "cell_type": "markdown",
   "metadata": {},
   "source": [
    "### Maryland "
   ]
  },
  {
   "cell_type": "code",
   "execution_count": 36,
   "metadata": {},
   "outputs": [
    {
     "data": {
      "text/plain": [
       "Counter({'Hispanic': 7913,\n",
       "         'Unknown': 801,\n",
       "         'White': 4693,\n",
       "         'Other Race': 1243,\n",
       "         'Black or African American': 1959,\n",
       "         'Asian': 6,\n",
       "         'Decline to Specify': 113})"
      ]
     },
     "execution_count": 36,
     "metadata": {},
     "output_type": "execute_result"
    }
   ],
   "source": [
    "lot_df = pd.read_csv('sim_results/maryland_1.0.csv', index_col=False)\n",
    "expired_df = lot_df[lot_df['death'] == 1]\n",
    "expired_df = expired_df[~expired_df['vent_hours_summed'].isnull()]\n",
    "death_counts = Counter(expired_df['race_display'])\n",
    "death_counts"
   ]
  },
  {
   "cell_type": "code",
   "execution_count": 37,
   "metadata": {},
   "outputs": [
    {
     "data": {
      "text/plain": [
       "{'Asian': 100.0,\n",
       " 'Hispanic': 2.0851762921774295,\n",
       " 'White': 1.9390581717451523,\n",
       " 'Unknown': 1.4981273408239701,\n",
       " 'Black or African American': 0.7656967840735069,\n",
       " 'Decline to Specify': 3.5398230088495577,\n",
       " 'Other Race': 1.1263073209975865}"
      ]
     },
     "execution_count": 37,
     "metadata": {},
     "output_type": "execute_result"
    }
   ],
   "source": [
    "counts = Counter(expired_df[expired_df['qSOFA_score'] == 0.0]['race_display'])\n",
    "prop_dict = {}\n",
    "\n",
    "for key in counts: \n",
    "    prop_dict[key] = (counts[key] / death_counts[key]) * 100 \n",
    "\n",
    "prop_dict"
   ]
  },
  {
   "cell_type": "code",
   "execution_count": 38,
   "metadata": {},
   "outputs": [
    {
     "data": {
      "text/plain": [
       "{'Hispanic': 42.423859471755335,\n",
       " 'Black or African American': 43.49157733537519,\n",
       " 'White': 54.20839548263371,\n",
       " 'Unknown': 37.95255930087391,\n",
       " 'Other Race': 35.80048270313757,\n",
       " 'Decline to Specify': 96.46017699115043}"
      ]
     },
     "execution_count": 38,
     "metadata": {},
     "output_type": "execute_result"
    }
   ],
   "source": [
    "counts = Counter(expired_df[expired_df['qSOFA_score'] == 1.0]['race_display'])\n",
    "prop_dict = {}\n",
    "\n",
    "for key in counts: \n",
    "    prop_dict[key] = (counts[key] / death_counts[key]) * 100 \n",
    "\n",
    "prop_dict"
   ]
  },
  {
   "cell_type": "code",
   "execution_count": 39,
   "metadata": {},
   "outputs": [
    {
     "data": {
      "text/plain": [
       "{'Unknown': 26.34207240948814,\n",
       " 'Hispanic': 46.80904840136485,\n",
       " 'White': 33.70978052418496,\n",
       " 'Other Race': 23.49155269509252,\n",
       " 'Black or African American': 29.402756508422666}"
      ]
     },
     "execution_count": 39,
     "metadata": {},
     "output_type": "execute_result"
    }
   ],
   "source": [
    "counts = Counter(expired_df[expired_df['qSOFA_score'] == 2.0]['race_display'])\n",
    "prop_dict = {}\n",
    "\n",
    "for key in counts: \n",
    "    prop_dict[key] = (counts[key] / death_counts[key]) * 100 \n",
    "\n",
    "prop_dict"
   ]
  },
  {
   "cell_type": "code",
   "execution_count": 40,
   "metadata": {},
   "outputs": [
    {
     "data": {
      "text/plain": [
       "{'Black or African American': 26.339969372128635,\n",
       " 'White': 10.14276582143618,\n",
       " 'Unknown': 34.20724094881398,\n",
       " 'Other Race': 39.581657280772326,\n",
       " 'Hispanic': 8.681915834702389}"
      ]
     },
     "execution_count": 40,
     "metadata": {},
     "output_type": "execute_result"
    }
   ],
   "source": [
    "counts = Counter(expired_df[expired_df['qSOFA_score'] == 3.0]['race_display'])\n",
    "prop_dict = {}\n",
    "\n",
    "for key in counts: \n",
    "    prop_dict[key] = (counts[key] / death_counts[key]) * 100 \n",
    "\n",
    "prop_dict"
   ]
  },
  {
   "cell_type": "code",
   "execution_count": 41,
   "metadata": {},
   "outputs": [
    {
     "name": "stdout",
     "output_type": "stream",
     "text": [
      "AxesSubplot(0.125,0.125;0.775x0.755)\n"
     ]
    },
    {
     "data": {
      "image/png": "[encoded data removed]",
      "text/plain": [
       "<Figure size 432x288 with 1 Axes>"
      ]
     },
     "metadata": {
      "needs_background": "light"
     },
     "output_type": "display_data"
    }
   ],
   "source": [
    "print(expired_df[expired_df['race_display'] == 'Hispanic']['qSOFA_score'].hist())"
   ]
  },
  {
   "cell_type": "code",
   "execution_count": 42,
   "metadata": {},
   "outputs": [
    {
     "name": "stdout",
     "output_type": "stream",
     "text": [
      "AxesSubplot(0.125,0.125;0.775x0.755)\n"
     ]
    },
    {
     "data": {
      "image/png": "[encoded data removed]",
      "text/plain": [
       "<Figure size 432x288 with 1 Axes>"
      ]
     },
     "metadata": {
      "needs_background": "light"
     },
     "output_type": "display_data"
    }
   ],
   "source": [
    "print(expired_df[expired_df['race_display'] == 'White']['qSOFA_score'].hist())"
   ]
  },
  {
   "cell_type": "code",
   "execution_count": 43,
   "metadata": {},
   "outputs": [
    {
     "name": "stdout",
     "output_type": "stream",
     "text": [
      "AxesSubplot(0.125,0.125;0.775x0.755)\n"
     ]
    },
    {
     "data": {
      "image/png": "[encoded data removed]",
      "text/plain": [
       "<Figure size 432x288 with 1 Axes>"
      ]
     },
     "metadata": {
      "needs_background": "light"
     },
     "output_type": "display_data"
    }
   ],
   "source": [
    "print(expired_df[expired_df['race_display'] == 'Black or African American']['qSOFA_score'].hist())"
   ]
  },
  {
   "cell_type": "markdown",
   "metadata": {},
   "source": [
    "### Youngest"
   ]
  },
  {
   "cell_type": "code",
   "execution_count": 44,
   "metadata": {},
   "outputs": [
    {
     "data": {
      "text/plain": [
       "Counter({'Unknown': 719,\n",
       "         'Hispanic': 7852,\n",
       "         'White': 4739,\n",
       "         'Black or African American': 2026,\n",
       "         'Other Race': 1201,\n",
       "         'Decline to Specify': 108,\n",
       "         'Asian': 4})"
      ]
     },
     "execution_count": 44,
     "metadata": {},
     "output_type": "execute_result"
    }
   ],
   "source": [
    "lot_df = pd.read_csv('sim_results/youngest_1.0.csv', index_col=False)\n",
    "expired_df = lot_df[lot_df['death'] == 1]\n",
    "expired_df = expired_df[~expired_df['vent_hours_summed'].isnull()]\n",
    "death_counts = Counter(expired_df['race_display'])\n",
    "death_counts"
   ]
  },
  {
   "cell_type": "code",
   "execution_count": 45,
   "metadata": {},
   "outputs": [
    {
     "data": {
      "text/plain": [
       "2.553527607361963"
      ]
     },
     "execution_count": 45,
     "metadata": {},
     "output_type": "execute_result"
    }
   ],
   "source": [
    "# percentage died \n",
    "(len(expired_df) / len(lot_df) ) * 100"
   ]
  },
  {
   "cell_type": "code",
   "execution_count": 46,
   "metadata": {},
   "outputs": [
    {
     "data": {
      "text/plain": [
       "{'White': 1.519307870858831,\n",
       " 'Other Race': 0.9991673605328892,\n",
       " 'Hispanic': 1.9612837493632196,\n",
       " 'Black or African American': 1.4313919052319843,\n",
       " 'Decline to Specify': 10.185185185185185,\n",
       " 'Unknown': 1.1126564673157162,\n",
       " 'Asian': 100.0}"
      ]
     },
     "execution_count": 46,
     "metadata": {},
     "output_type": "execute_result"
    }
   ],
   "source": [
    "counts = Counter(expired_df[expired_df['qSOFA_score'] == 0.0]['race_display'])\n",
    "prop_dict = {}\n",
    "\n",
    "for key in counts: \n",
    "    prop_dict[key] = (counts[key] / death_counts[key]) * 100 \n",
    "\n",
    "prop_dict"
   ]
  },
  {
   "cell_type": "code",
   "execution_count": 47,
   "metadata": {},
   "outputs": [
    {
     "data": {
      "text/plain": [
       "{'Hispanic': 41.479877738155885,\n",
       " 'White': 54.56847436167968,\n",
       " 'Black or African American': 42.941757156959525,\n",
       " 'Other Race': 33.22231473771857,\n",
       " 'Unknown': 39.63838664812239,\n",
       " 'Decline to Specify': 89.81481481481481}"
      ]
     },
     "execution_count": 47,
     "metadata": {},
     "output_type": "execute_result"
    }
   ],
   "source": [
    "counts = Counter(expired_df[expired_df['qSOFA_score'] == 1.0]['race_display'])\n",
    "prop_dict = {}\n",
    "\n",
    "for key in counts: \n",
    "    prop_dict[key] = (counts[key] / death_counts[key]) * 100 \n",
    "\n",
    "prop_dict"
   ]
  },
  {
   "cell_type": "code",
   "execution_count": 48,
   "metadata": {},
   "outputs": [
    {
     "data": {
      "text/plain": [
       "{'Unknown': 29.346314325452017,\n",
       " 'Hispanic': 47.42740703005603,\n",
       " 'Black or African American': 29.56564659427443,\n",
       " 'White': 33.40367166068791,\n",
       " 'Other Race': 24.812656119900083}"
      ]
     },
     "execution_count": 48,
     "metadata": {},
     "output_type": "execute_result"
    }
   ],
   "source": [
    "counts = Counter(expired_df[expired_df['qSOFA_score'] == 2.0]['race_display'])\n",
    "prop_dict = {}\n",
    "\n",
    "for key in counts: \n",
    "    prop_dict[key] = (counts[key] / death_counts[key]) * 100 \n",
    "\n",
    "prop_dict"
   ]
  },
  {
   "cell_type": "code",
   "execution_count": 49,
   "metadata": {},
   "outputs": [
    {
     "data": {
      "text/plain": [
       "{'White': 10.508546106773581,\n",
       " 'Hispanic': 9.13143148242486,\n",
       " 'Other Race': 40.96586178184846,\n",
       " 'Black or African American': 26.061204343534055,\n",
       " 'Unknown': 29.902642559109875}"
      ]
     },
     "execution_count": 49,
     "metadata": {},
     "output_type": "execute_result"
    }
   ],
   "source": [
    "counts = Counter(expired_df[expired_df['qSOFA_score'] == 3.0]['race_display'])\n",
    "prop_dict = {}\n",
    "\n",
    "for key in counts: \n",
    "    prop_dict[key] = (counts[key] / death_counts[key]) * 100 \n",
    "\n",
    "prop_dict"
   ]
  },
  {
   "cell_type": "code",
   "execution_count": 50,
   "metadata": {},
   "outputs": [
    {
     "name": "stdout",
     "output_type": "stream",
     "text": [
      "AxesSubplot(0.125,0.125;0.775x0.755)\n"
     ]
    },
    {
     "data": {
      "image/png": "[encoded data removed]",
      "text/plain": [
       "<Figure size 432x288 with 1 Axes>"
      ]
     },
     "metadata": {
      "needs_background": "light"
     },
     "output_type": "display_data"
    }
   ],
   "source": [
    "print(expired_df[expired_df['race_display'] == 'Hispanic']['qSOFA_score'].hist())"
   ]
  },
  {
   "cell_type": "code",
   "execution_count": 51,
   "metadata": {},
   "outputs": [
    {
     "name": "stdout",
     "output_type": "stream",
     "text": [
      "AxesSubplot(0.125,0.125;0.775x0.755)\n"
     ]
    },
    {
     "data": {
      "image/png": "[encoded data removed]",
      "text/plain": [
       "<Figure size 432x288 with 1 Axes>"
      ]
     },
     "metadata": {
      "needs_background": "light"
     },
     "output_type": "display_data"
    }
   ],
   "source": [
    "print(expired_df[expired_df['race_display'] == 'White']['qSOFA_score'].hist())"
   ]
  },
  {
   "cell_type": "code",
   "execution_count": 52,
   "metadata": {},
   "outputs": [
    {
     "name": "stdout",
     "output_type": "stream",
     "text": [
      "AxesSubplot(0.125,0.125;0.775x0.755)\n"
     ]
    },
    {
     "data": {
      "image/png": "[encoded data removed]",
      "text/plain": [
       "<Figure size 432x288 with 1 Axes>"
      ]
     },
     "metadata": {
      "needs_background": "light"
     },
     "output_type": "display_data"
    }
   ],
   "source": [
    "print(expired_df[expired_df['race_display'] == 'Black or African American']['qSOFA_score'].hist())"
   ]
  },
  {
   "cell_type": "markdown",
   "metadata": {},
   "source": [
    "### Sickest "
   ]
  },
  {
   "cell_type": "code",
   "execution_count": 53,
   "metadata": {},
   "outputs": [
    {
     "data": {
      "text/plain": [
       "Counter({'Black or African American': 1912,\n",
       "         'Hispanic': 7972,\n",
       "         'Other Race': 1253,\n",
       "         'Unknown': 757,\n",
       "         'White': 4514,\n",
       "         'Decline to Specify': 113,\n",
       "         'Asian': 6})"
      ]
     },
     "execution_count": 53,
     "metadata": {},
     "output_type": "execute_result"
    }
   ],
   "source": [
    "lot_df = pd.read_csv('sim_results/sickest_first_1.0.csv', index_col=False)\n",
    "expired_df = lot_df[lot_df['death'] == 1]\n",
    "expired_df = expired_df[~expired_df['vent_hours_summed'].isnull()]\n",
    "death_counts = Counter(expired_df['race_display'])\n",
    "death_counts"
   ]
  },
  {
   "cell_type": "code",
   "execution_count": 54,
   "metadata": {},
   "outputs": [
    {
     "data": {
      "text/plain": [
       "2.5348159509202453"
      ]
     },
     "execution_count": 54,
     "metadata": {},
     "output_type": "execute_result"
    }
   ],
   "source": [
    "# percentage died\n",
    "(len(expired_df) / len(lot_df) ) * 100"
   ]
  },
  {
   "cell_type": "code",
   "execution_count": 55,
   "metadata": {},
   "outputs": [
    {
     "data": {
      "text/plain": [
       "{'Hispanic': 1.9192172604114401,\n",
       " 'Black or African American': 1.0983263598326358,\n",
       " 'Unknown': 2.1136063408190227,\n",
       " 'Decline to Specify': 7.079646017699115,\n",
       " 'White': 1.6171909614532565,\n",
       " 'Asian': 100.0,\n",
       " 'Other Race': 0.8778930566640064}"
      ]
     },
     "execution_count": 55,
     "metadata": {},
     "output_type": "execute_result"
    }
   ],
   "source": [
    "counts = Counter(expired_df[expired_df['qSOFA_score'] == 0.0]['race_display'])\n",
    "prop_dict = {}\n",
    "\n",
    "\n",
    "for key in counts: \n",
    "    prop_dict[key] = (counts[key] / death_counts[key]) * 100 \n",
    "\n",
    "prop_dict"
   ]
  },
  {
   "cell_type": "code",
   "execution_count": 56,
   "metadata": {},
   "outputs": [
    {
     "data": {
      "text/plain": [
       "{'Black or African American': 45.92050209205021,\n",
       " 'Hispanic': 43.08830908178625,\n",
       " 'White': 53.278688524590166,\n",
       " 'Other Race': 35.51476456504389,\n",
       " 'Decline to Specify': 92.92035398230088,\n",
       " 'Unknown': 41.21532364597093}"
      ]
     },
     "execution_count": 56,
     "metadata": {},
     "output_type": "execute_result"
    }
   ],
   "source": [
    "counts = Counter(expired_df[expired_df['qSOFA_score'] == 1.0]['race_display'])\n",
    "prop_dict = {}\n",
    "\n",
    "for key in counts: \n",
    "    prop_dict[key] = (counts[key] / death_counts[key]) * 100 \n",
    "\n",
    "prop_dict"
   ]
  },
  {
   "cell_type": "code",
   "execution_count": 57,
   "metadata": {},
   "outputs": [
    {
     "data": {
      "text/plain": [
       "{'Other Race': 24.421388667198723,\n",
       " 'Hispanic': 46.2117410938284,\n",
       " 'White': 34.337616304829425,\n",
       " 'Unknown': 24.702774108322327,\n",
       " 'Black or African American': 29.654811715481173}"
      ]
     },
     "execution_count": 57,
     "metadata": {},
     "output_type": "execute_result"
    }
   ],
   "source": [
    "counts = Counter(expired_df[expired_df['qSOFA_score'] == 2.0]['race_display'])\n",
    "prop_dict = {}\n",
    "\n",
    "for key in counts: \n",
    "    prop_dict[key] = (counts[key] / death_counts[key]) * 100 \n",
    "\n",
    "prop_dict"
   ]
  },
  {
   "cell_type": "code",
   "execution_count": 58,
   "metadata": {},
   "outputs": [
    {
     "data": {
      "text/plain": [
       "{'Black or African American': 23.326359832635983,\n",
       " 'Hispanic': 8.780732563973908,\n",
       " 'Other Race': 39.185953711093376,\n",
       " 'Unknown': 31.968295904887718,\n",
       " 'White': 10.766504209127161}"
      ]
     },
     "execution_count": 58,
     "metadata": {},
     "output_type": "execute_result"
    }
   ],
   "source": [
    "counts = Counter(expired_df[expired_df['qSOFA_score'] == 3.0]['race_display'])\n",
    "prop_dict = {}\n",
    "\n",
    "for key in counts: \n",
    "    prop_dict[key] = (counts[key] / death_counts[key]) * 100 \n",
    "\n",
    "prop_dict"
   ]
  },
  {
   "cell_type": "code",
   "execution_count": 59,
   "metadata": {},
   "outputs": [
    {
     "name": "stdout",
     "output_type": "stream",
     "text": [
      "AxesSubplot(0.125,0.125;0.775x0.755)\n"
     ]
    },
    {
     "data": {
      "image/png": "[encoded data removed]",
      "text/plain": [
       "<Figure size 432x288 with 1 Axes>"
      ]
     },
     "metadata": {
      "needs_background": "light"
     },
     "output_type": "display_data"
    }
   ],
   "source": [
    "print(expired_df[expired_df['race_display'] == 'Hispanic']['qSOFA_score'].hist())"
   ]
  },
  {
   "cell_type": "code",
   "execution_count": 60,
   "metadata": {},
   "outputs": [
    {
     "name": "stdout",
     "output_type": "stream",
     "text": [
      "AxesSubplot(0.125,0.125;0.775x0.755)\n"
     ]
    },
    {
     "data": {
      "image/png": "[encoded data removed]",
      "text/plain": [
       "<Figure size 432x288 with 1 Axes>"
      ]
     },
     "metadata": {
      "needs_background": "light"
     },
     "output_type": "display_data"
    }
   ],
   "source": [
    "print(expired_df[expired_df['race_display'] == 'White']['qSOFA_score'].hist())"
   ]
  },
  {
   "cell_type": "code",
   "execution_count": 61,
   "metadata": {},
   "outputs": [
    {
     "name": "stdout",
     "output_type": "stream",
     "text": [
      "AxesSubplot(0.125,0.125;0.775x0.755)\n"
     ]
    },
    {
     "data": {
      "image/png": "[encoded data removed]",
      "text/plain": [
       "<Figure size 432x288 with 1 Axes>"
      ]
     },
     "metadata": {
      "needs_background": "light"
     },
     "output_type": "display_data"
    }
   ],
   "source": [
    "print(expired_df[expired_df['race_display'] == 'Black or African American']['qSOFA_score'].hist())"
   ]
  },
  {
   "cell_type": "markdown",
   "metadata": {},
   "source": [
    "### Max Life Years"
   ]
  },
  {
   "cell_type": "code",
   "execution_count": 62,
   "metadata": {},
   "outputs": [
    {
     "data": {
      "text/plain": [
       "Counter({'Other Race': 1249,\n",
       "         'White': 4682,\n",
       "         'Hispanic': 7888,\n",
       "         'Black or African American': 1946,\n",
       "         'Decline to Specify': 110,\n",
       "         'Unknown': 683,\n",
       "         'Asian': 4})"
      ]
     },
     "execution_count": 62,
     "metadata": {},
     "output_type": "execute_result"
    }
   ],
   "source": [
    "lot_df = pd.read_csv('sim_results/max_life_years_1.0.csv', index_col=False)\n",
    "expired_df = lot_df[lot_df['death'] == 1]\n",
    "expired_df = expired_df[~expired_df['vent_hours_summed'].isnull()]\n",
    "death_counts = Counter(expired_df['race_display'])\n",
    "death_counts "
   ]
  },
  {
   "cell_type": "code",
   "execution_count": 63,
   "metadata": {},
   "outputs": [
    {
     "data": {
      "text/plain": [
       "2.5401840490797545"
      ]
     },
     "execution_count": 63,
     "metadata": {},
     "output_type": "execute_result"
    }
   ],
   "source": [
    "# percentage died \n",
    "(len(expired_df) / len(lot_df) ) * 100"
   ]
  },
  {
   "cell_type": "code",
   "execution_count": 64,
   "metadata": {},
   "outputs": [
    {
     "data": {
      "text/plain": [
       "{'Other Race': 0.9607686148919135,\n",
       " 'White': 2.1571977787270398,\n",
       " 'Hispanic': 1.8509127789046655,\n",
       " 'Black or African American': 1.1305241521068858,\n",
       " 'Unknown': 2.049780380673499,\n",
       " 'Decline to Specify': 2.727272727272727,\n",
       " 'Asian': 100.0}"
      ]
     },
     "execution_count": 64,
     "metadata": {},
     "output_type": "execute_result"
    }
   ],
   "source": [
    "counts = Counter(expired_df[expired_df['qSOFA_score'] == 0.0]['race_display'])\n",
    "prop_dict = {}\n",
    "\n",
    "for key in counts: \n",
    "    prop_dict[key] = (counts[key] / death_counts[key]) * 100 \n",
    "\n",
    "prop_dict"
   ]
  },
  {
   "cell_type": "code",
   "execution_count": 65,
   "metadata": {},
   "outputs": [
    {
     "data": {
      "text/plain": [
       "{'Other Race': 36.74939951961569,\n",
       " 'White': 53.353267834258865,\n",
       " 'Hispanic': 41.64553752535497,\n",
       " 'Black or African American': 42.54881808838643,\n",
       " 'Decline to Specify': 97.27272727272728,\n",
       " 'Unknown': 41.288433382137626}"
      ]
     },
     "execution_count": 65,
     "metadata": {},
     "output_type": "execute_result"
    }
   ],
   "source": [
    "counts = Counter(expired_df[expired_df['qSOFA_score'] == 1.0]['race_display'])\n",
    "prop_dict = {}\n",
    "\n",
    "for key in counts: \n",
    "    prop_dict[key] = (counts[key] / death_counts[key]) * 100 \n",
    "\n",
    "prop_dict"
   ]
  },
  {
   "cell_type": "code",
   "execution_count": 66,
   "metadata": {},
   "outputs": [
    {
     "data": {
      "text/plain": [
       "{'White': 33.8316958564716,\n",
       " 'Hispanic': 47.43914807302232,\n",
       " 'Black or African American': 29.958890030832475,\n",
       " 'Other Race': 24.579663730984787,\n",
       " 'Unknown': 26.500732064421666}"
      ]
     },
     "execution_count": 66,
     "metadata": {},
     "output_type": "execute_result"
    }
   ],
   "source": [
    "counts = Counter(expired_df[expired_df['qSOFA_score'] == 2.0]['race_display'])\n",
    "prop_dict = {}\n",
    "\n",
    "for key in counts: \n",
    "    prop_dict[key] = (counts[key] / death_counts[key]) * 100 \n",
    "\n",
    "prop_dict"
   ]
  },
  {
   "cell_type": "code",
   "execution_count": 67,
   "metadata": {},
   "outputs": [
    {
     "data": {
      "text/plain": [
       "{'Black or African American': 26.361767728674202,\n",
       " 'White': 10.657838530542502,\n",
       " 'Hispanic': 9.064401622718053,\n",
       " 'Unknown': 30.161054172767205,\n",
       " 'Other Race': 37.710168134507605}"
      ]
     },
     "execution_count": 67,
     "metadata": {},
     "output_type": "execute_result"
    }
   ],
   "source": [
    "counts = Counter(expired_df[expired_df['qSOFA_score'] == 3.0]['race_display'])\n",
    "prop_dict = {}\n",
    "\n",
    "for key in counts: \n",
    "    prop_dict[key] = (counts[key] / death_counts[key]) * 100 \n",
    "\n",
    "prop_dict"
   ]
  },
  {
   "cell_type": "code",
   "execution_count": 68,
   "metadata": {},
   "outputs": [
    {
     "name": "stdout",
     "output_type": "stream",
     "text": [
      "AxesSubplot(0.125,0.125;0.775x0.755)\n"
     ]
    },
    {
     "data": {
      "image/png": "[encoded data removed]",
      "text/plain": [
       "<Figure size 432x288 with 1 Axes>"
      ]
     },
     "metadata": {
      "needs_background": "light"
     },
     "output_type": "display_data"
    }
   ],
   "source": [
    "print(expired_df[expired_df['race_display'] == 'Hispanic']['qSOFA_score'].hist())"
   ]
  },
  {
   "cell_type": "code",
   "execution_count": 69,
   "metadata": {},
   "outputs": [
    {
     "name": "stdout",
     "output_type": "stream",
     "text": [
      "AxesSubplot(0.125,0.125;0.775x0.755)\n"
     ]
    },
    {
     "data": {
      "image/png": "[encoded data removed]",
      "text/plain": [
       "<Figure size 432x288 with 1 Axes>"
      ]
     },
     "metadata": {
      "needs_background": "light"
     },
     "output_type": "display_data"
    }
   ],
   "source": [
    "print(expired_df[expired_df['race_display'] == 'White']['qSOFA_score'].hist())"
   ]
  },
  {
   "cell_type": "code",
   "execution_count": 70,
   "metadata": {},
   "outputs": [
    {
     "name": "stdout",
     "output_type": "stream",
     "text": [
      "AxesSubplot(0.125,0.125;0.775x0.755)\n"
     ]
    },
    {
     "data": {
      "image/png": "[encoded data removed]",
      "text/plain": [
       "<Figure size 432x288 with 1 Axes>"
      ]
     },
     "metadata": {
      "needs_background": "light"
     },
     "output_type": "display_data"
    }
   ],
   "source": [
    "print(expired_df[expired_df['race_display'] == 'Black or African American']['qSOFA_score'].hist())"
   ]
  },
  {
   "cell_type": "markdown",
   "metadata": {},
   "source": [
    "### qSOFA predictor on vent"
   ]
  },
  {
   "cell_type": "code",
   "execution_count": 71,
   "metadata": {},
   "outputs": [],
   "source": [
    "qsofa_df = df[~df['qSOFA_score'].isnull()]"
   ]
  },
  {
   "cell_type": "code",
   "execution_count": 72,
   "metadata": {},
   "outputs": [
    {
     "name": "stderr",
     "output_type": "stream",
     "text": [
      "/home/joel/anaconda3/lib/python3.7/site-packages/ipykernel_launcher.py:2: SettingWithCopyWarning: \n",
      "A value is trying to be set on a copy of a slice from a DataFrame.\n",
      "Try using .loc[row_indexer,col_indexer] = value instead\n",
      "\n",
      "See the caveats in the documentation: https://pandas.pydata.org/pandas-docs/stable/user_guide/indexing.html#returning-a-view-versus-a-copy\n",
      "  \n"
     ]
    }
   ],
   "source": [
    "vent_func = lambda x: 0 if pd.isnull(x) else 1\n",
    "qsofa_df['on_vent'] = qsofa_df.vent_hours_summed.apply(lambda row: vent_func(row))"
   ]
  },
  {
   "cell_type": "code",
   "execution_count": 73,
   "metadata": {},
   "outputs": [
    {
     "name": "stderr",
     "output_type": "stream",
     "text": [
      "/home/joel/anaconda3/lib/python3.7/site-packages/ipykernel_launcher.py:1: SettingWithCopyWarning: \n",
      "A value is trying to be set on a copy of a slice from a DataFrame.\n",
      "Try using .loc[row_indexer,col_indexer] = value instead\n",
      "\n",
      "See the caveats in the documentation: https://pandas.pydata.org/pandas-docs/stable/user_guide/indexing.html#returning-a-view-versus-a-copy\n",
      "  \"\"\"Entry point for launching an IPython kernel.\n",
      "/home/joel/anaconda3/lib/python3.7/site-packages/ipykernel_launcher.py:2: SettingWithCopyWarning: \n",
      "A value is trying to be set on a copy of a slice from a DataFrame.\n",
      "Try using .loc[row_indexer,col_indexer] = value instead\n",
      "\n",
      "See the caveats in the documentation: https://pandas.pydata.org/pandas-docs/stable/user_guide/indexing.html#returning-a-view-versus-a-copy\n",
      "  \n",
      "/home/joel/anaconda3/lib/python3.7/site-packages/ipykernel_launcher.py:3: SettingWithCopyWarning: \n",
      "A value is trying to be set on a copy of a slice from a DataFrame.\n",
      "Try using .loc[row_indexer,col_indexer] = value instead\n",
      "\n",
      "See the caveats in the documentation: https://pandas.pydata.org/pandas-docs/stable/user_guide/indexing.html#returning-a-view-versus-a-copy\n",
      "  This is separate from the ipykernel package so we can avoid doing imports until\n",
      "/home/joel/anaconda3/lib/python3.7/site-packages/ipykernel_launcher.py:4: SettingWithCopyWarning: \n",
      "A value is trying to be set on a copy of a slice from a DataFrame.\n",
      "Try using .loc[row_indexer,col_indexer] = value instead\n",
      "\n",
      "See the caveats in the documentation: https://pandas.pydata.org/pandas-docs/stable/user_guide/indexing.html#returning-a-view-versus-a-copy\n",
      "  after removing the cwd from sys.path.\n",
      "/home/joel/anaconda3/lib/python3.7/site-packages/ipykernel_launcher.py:5: SettingWithCopyWarning: \n",
      "A value is trying to be set on a copy of a slice from a DataFrame.\n",
      "Try using .loc[row_indexer,col_indexer] = value instead\n",
      "\n",
      "See the caveats in the documentation: https://pandas.pydata.org/pandas-docs/stable/user_guide/indexing.html#returning-a-view-versus-a-copy\n",
      "  \"\"\"\n"
     ]
    }
   ],
   "source": [
    "qsofa_df['beg_date'] = pd.to_datetime(qsofa_df['admit_dt_tm'])\n",
    "qsofa_df['end_date'] = pd.to_datetime(qsofa_df['discharge_dt_tm'])\n",
    "qsofa_df['vent_start'] = pd.to_datetime(qsofa_df['vent_first_order_start_time'])\n",
    "qsofa_df['vent_end'] = pd.to_datetime(qsofa_df['vent_last_order_end_time'])\n",
    "qsofa_df['length_of_stay'] = (qsofa_df['end_date'] - qsofa_df['beg_date']).dt.days"
   ]
  },
  {
   "cell_type": "code",
   "execution_count": 74,
   "metadata": {},
   "outputs": [
    {
     "name": "stderr",
     "output_type": "stream",
     "text": [
      "/home/joel/anaconda3/lib/python3.7/site-packages/ipykernel_launcher.py:1: SettingWithCopyWarning: \n",
      "A value is trying to be set on a copy of a slice from a DataFrame.\n",
      "Try using .loc[row_indexer,col_indexer] = value instead\n",
      "\n",
      "See the caveats in the documentation: https://pandas.pydata.org/pandas-docs/stable/user_guide/indexing.html#returning-a-view-versus-a-copy\n",
      "  \"\"\"Entry point for launching an IPython kernel.\n",
      "/home/joel/anaconda3/lib/python3.7/site-packages/ipykernel_launcher.py:2: SettingWithCopyWarning: \n",
      "A value is trying to be set on a copy of a slice from a DataFrame.\n",
      "Try using .loc[row_indexer,col_indexer] = value instead\n",
      "\n",
      "See the caveats in the documentation: https://pandas.pydata.org/pandas-docs/stable/user_guide/indexing.html#returning-a-view-versus-a-copy\n",
      "  \n",
      "/home/joel/anaconda3/lib/python3.7/site-packages/ipykernel_launcher.py:3: SettingWithCopyWarning: \n",
      "A value is trying to be set on a copy of a slice from a DataFrame.\n",
      "Try using .loc[row_indexer,col_indexer] = value instead\n",
      "\n",
      "See the caveats in the documentation: https://pandas.pydata.org/pandas-docs/stable/user_guide/indexing.html#returning-a-view-versus-a-copy\n",
      "  This is separate from the ipykernel package so we can avoid doing imports until\n"
     ]
    }
   ],
   "source": [
    "qsofa_df['admit_time_to_vent'] = (qsofa_df['vent_start'] - qsofa_df['beg_date']).dt.days\n",
    "qsofa_df['admit_time_to_vent_end'] = (qsofa_df['vent_end'] - qsofa_df['beg_date']).dt.days\n",
    "qsofa_df['vent_duration'] = (qsofa_df['vent_end'] - qsofa_df['vent_start']).dt.days"
   ]
  },
  {
   "cell_type": "code",
   "execution_count": 75,
   "metadata": {},
   "outputs": [
    {
     "data": {
      "text/plain": [
       "Counter({1: 297, 0: 1305})"
      ]
     },
     "execution_count": 75,
     "metadata": {},
     "output_type": "execute_result"
    }
   ],
   "source": [
    "Counter(qsofa_df['on_vent'])"
   ]
  },
  {
   "cell_type": "code",
   "execution_count": 76,
   "metadata": {},
   "outputs": [
    {
     "data": {
      "text/html": [
       "<div>\n",
       "<style scoped>\n",
       "    .dataframe tbody tr th:only-of-type {\n",
       "        vertical-align: middle;\n",
       "    }\n",
       "\n",
       "    .dataframe tbody tr th {\n",
       "        vertical-align: top;\n",
       "    }\n",
       "\n",
       "    .dataframe thead th {\n",
       "        text-align: right;\n",
       "    }\n",
       "</style>\n",
       "<table border=\"1\" class=\"dataframe\">\n",
       "  <thead>\n",
       "    <tr style=\"text-align: right;\">\n",
       "      <th></th>\n",
       "      <th>admit_dt_tm</th>\n",
       "      <th>discharge_dt_tm</th>\n",
       "      <th>facility</th>\n",
       "      <th>encounter_type_display</th>\n",
       "      <th>age_at_admit</th>\n",
       "      <th>gender</th>\n",
       "      <th>zip_cust_table</th>\n",
       "      <th>ethnicity_display</th>\n",
       "      <th>race_display</th>\n",
       "      <th>race_eth_comb</th>\n",
       "      <th>...</th>\n",
       "      <th>deid_mrn_encounter</th>\n",
       "      <th>deid_fin_encounter</th>\n",
       "      <th>on_vent</th>\n",
       "      <th>beg_date</th>\n",
       "      <th>end_date</th>\n",
       "      <th>vent_start</th>\n",
       "      <th>vent_end</th>\n",
       "      <th>admit_time_to_vent</th>\n",
       "      <th>admit_time_to_vent_end</th>\n",
       "      <th>vent_duration</th>\n",
       "    </tr>\n",
       "  </thead>\n",
       "  <tbody>\n",
       "    <tr>\n",
       "      <th>1</th>\n",
       "      <td>2020-03-24 00:07:00</td>\n",
       "      <td>2020-03-26 18:30:00</td>\n",
       "      <td>Medical Center</td>\n",
       "      <td>IP ICU</td>\n",
       "      <td>44</td>\n",
       "      <td>Male</td>\n",
       "      <td>78130</td>\n",
       "      <td>Hispanic or Latino</td>\n",
       "      <td>White</td>\n",
       "      <td>White Hispanic</td>\n",
       "      <td>...</td>\n",
       "      <td>84969</td>\n",
       "      <td>27818</td>\n",
       "      <td>1</td>\n",
       "      <td>2020-03-24 00:07:00</td>\n",
       "      <td>2020-03-26 18:30:00</td>\n",
       "      <td>2020-03-24 05:55:00</td>\n",
       "      <td>2020-03-26 16:22:00</td>\n",
       "      <td>0.0</td>\n",
       "      <td>2.0</td>\n",
       "      <td>2.0</td>\n",
       "    </tr>\n",
       "    <tr>\n",
       "      <th>6</th>\n",
       "      <td>2020-03-26 15:21:00</td>\n",
       "      <td>2020-04-08 13:15:00</td>\n",
       "      <td>Medical Center</td>\n",
       "      <td>IP Private/Semi Private room</td>\n",
       "      <td>49</td>\n",
       "      <td>Female</td>\n",
       "      <td>78612</td>\n",
       "      <td>Not Hispanic or Latino</td>\n",
       "      <td>White</td>\n",
       "      <td>White Non Hispanic</td>\n",
       "      <td>...</td>\n",
       "      <td>80030</td>\n",
       "      <td>23744</td>\n",
       "      <td>1</td>\n",
       "      <td>2020-03-26 15:21:00</td>\n",
       "      <td>2020-04-08 13:15:00</td>\n",
       "      <td>2020-03-28 11:14:00</td>\n",
       "      <td>2020-04-03 14:31:00</td>\n",
       "      <td>1.0</td>\n",
       "      <td>7.0</td>\n",
       "      <td>6.0</td>\n",
       "    </tr>\n",
       "    <tr>\n",
       "      <th>11</th>\n",
       "      <td>2020-03-28 18:59:00</td>\n",
       "      <td>2020-06-01 15:15:00</td>\n",
       "      <td>Medical Center</td>\n",
       "      <td>IP ICU</td>\n",
       "      <td>24</td>\n",
       "      <td>Male</td>\n",
       "      <td>78753</td>\n",
       "      <td>Not Hispanic or Latino</td>\n",
       "      <td>White</td>\n",
       "      <td>White Non Hispanic</td>\n",
       "      <td>...</td>\n",
       "      <td>84794</td>\n",
       "      <td>37705</td>\n",
       "      <td>1</td>\n",
       "      <td>2020-03-28 18:59:00</td>\n",
       "      <td>2020-06-01 15:15:00</td>\n",
       "      <td>2020-03-28 22:09:00</td>\n",
       "      <td>2020-05-27 04:53:00</td>\n",
       "      <td>0.0</td>\n",
       "      <td>59.0</td>\n",
       "      <td>59.0</td>\n",
       "    </tr>\n",
       "    <tr>\n",
       "      <th>17</th>\n",
       "      <td>2020-03-31 14:14:00</td>\n",
       "      <td>2020-04-17 17:20:00</td>\n",
       "      <td>Medical Center</td>\n",
       "      <td>IP ICU</td>\n",
       "      <td>55</td>\n",
       "      <td>Male</td>\n",
       "      <td>78602</td>\n",
       "      <td>Not Hispanic or Latino</td>\n",
       "      <td>White</td>\n",
       "      <td>White Non Hispanic</td>\n",
       "      <td>...</td>\n",
       "      <td>84725</td>\n",
       "      <td>15345</td>\n",
       "      <td>1</td>\n",
       "      <td>2020-03-31 14:14:00</td>\n",
       "      <td>2020-04-17 17:20:00</td>\n",
       "      <td>2020-04-07 08:40:00</td>\n",
       "      <td>2020-04-17 15:56:00</td>\n",
       "      <td>6.0</td>\n",
       "      <td>17.0</td>\n",
       "      <td>10.0</td>\n",
       "    </tr>\n",
       "    <tr>\n",
       "      <th>18</th>\n",
       "      <td>2020-03-31 21:23:00</td>\n",
       "      <td>2020-04-08 14:40:00</td>\n",
       "      <td>Medical Center</td>\n",
       "      <td>IP Private/Semi Private room</td>\n",
       "      <td>40</td>\n",
       "      <td>Female</td>\n",
       "      <td>78704</td>\n",
       "      <td>Unknown</td>\n",
       "      <td>White</td>\n",
       "      <td>White Unknown Ethnicity</td>\n",
       "      <td>...</td>\n",
       "      <td>74571</td>\n",
       "      <td>18447</td>\n",
       "      <td>0</td>\n",
       "      <td>2020-03-31 21:23:00</td>\n",
       "      <td>2020-04-08 14:40:00</td>\n",
       "      <td>NaT</td>\n",
       "      <td>NaT</td>\n",
       "      <td>NaN</td>\n",
       "      <td>NaN</td>\n",
       "      <td>NaN</td>\n",
       "    </tr>\n",
       "    <tr>\n",
       "      <th>...</th>\n",
       "      <td>...</td>\n",
       "      <td>...</td>\n",
       "      <td>...</td>\n",
       "      <td>...</td>\n",
       "      <td>...</td>\n",
       "      <td>...</td>\n",
       "      <td>...</td>\n",
       "      <td>...</td>\n",
       "      <td>...</td>\n",
       "      <td>...</td>\n",
       "      <td>...</td>\n",
       "      <td>...</td>\n",
       "      <td>...</td>\n",
       "      <td>...</td>\n",
       "      <td>...</td>\n",
       "      <td>...</td>\n",
       "      <td>...</td>\n",
       "      <td>...</td>\n",
       "      <td>...</td>\n",
       "      <td>...</td>\n",
       "      <td>...</td>\n",
       "    </tr>\n",
       "    <tr>\n",
       "      <th>2432</th>\n",
       "      <td>2020-11-15 18:38:00</td>\n",
       "      <td>2020-11-18 15:09:00</td>\n",
       "      <td>Williamson</td>\n",
       "      <td>IP Private/Semi Private room</td>\n",
       "      <td>74</td>\n",
       "      <td>Female</td>\n",
       "      <td>78664</td>\n",
       "      <td>Not Hispanic or Latino</td>\n",
       "      <td>White</td>\n",
       "      <td>White Non Hispanic</td>\n",
       "      <td>...</td>\n",
       "      <td>80870</td>\n",
       "      <td>31833</td>\n",
       "      <td>0</td>\n",
       "      <td>2020-11-15 18:38:00</td>\n",
       "      <td>2020-11-18 15:09:00</td>\n",
       "      <td>NaT</td>\n",
       "      <td>NaT</td>\n",
       "      <td>NaN</td>\n",
       "      <td>NaN</td>\n",
       "      <td>NaN</td>\n",
       "    </tr>\n",
       "    <tr>\n",
       "      <th>2433</th>\n",
       "      <td>2020-11-15 18:49:00</td>\n",
       "      <td>NaN</td>\n",
       "      <td>Hays</td>\n",
       "      <td>IP Private/Semi Private room</td>\n",
       "      <td>55</td>\n",
       "      <td>Female</td>\n",
       "      <td>78644</td>\n",
       "      <td>Hispanic or Latino</td>\n",
       "      <td>White</td>\n",
       "      <td>White Hispanic</td>\n",
       "      <td>...</td>\n",
       "      <td>62391</td>\n",
       "      <td>16897</td>\n",
       "      <td>0</td>\n",
       "      <td>2020-11-15 18:49:00</td>\n",
       "      <td>NaT</td>\n",
       "      <td>NaT</td>\n",
       "      <td>NaT</td>\n",
       "      <td>NaN</td>\n",
       "      <td>NaN</td>\n",
       "      <td>NaN</td>\n",
       "    </tr>\n",
       "    <tr>\n",
       "      <th>2437</th>\n",
       "      <td>2020-11-16 10:04:00</td>\n",
       "      <td>2020-11-18 18:10:00</td>\n",
       "      <td>Hays</td>\n",
       "      <td>IP Private/Semi Private room</td>\n",
       "      <td>70</td>\n",
       "      <td>Male</td>\n",
       "      <td>78610</td>\n",
       "      <td>Hispanic or Latino</td>\n",
       "      <td>White</td>\n",
       "      <td>White Hispanic</td>\n",
       "      <td>...</td>\n",
       "      <td>61246</td>\n",
       "      <td>41967</td>\n",
       "      <td>0</td>\n",
       "      <td>2020-11-16 10:04:00</td>\n",
       "      <td>2020-11-18 18:10:00</td>\n",
       "      <td>NaT</td>\n",
       "      <td>NaT</td>\n",
       "      <td>NaN</td>\n",
       "      <td>NaN</td>\n",
       "      <td>NaN</td>\n",
       "    </tr>\n",
       "    <tr>\n",
       "      <th>2450</th>\n",
       "      <td>2020-11-18 17:25:00</td>\n",
       "      <td>2020-11-19 18:10:00</td>\n",
       "      <td>Williamson</td>\n",
       "      <td>IP ICU</td>\n",
       "      <td>66</td>\n",
       "      <td>Male</td>\n",
       "      <td>78665</td>\n",
       "      <td>Unknown</td>\n",
       "      <td>White</td>\n",
       "      <td>White Unknown Ethnicity</td>\n",
       "      <td>...</td>\n",
       "      <td>67825</td>\n",
       "      <td>30836</td>\n",
       "      <td>0</td>\n",
       "      <td>2020-11-18 17:25:00</td>\n",
       "      <td>2020-11-19 18:10:00</td>\n",
       "      <td>NaT</td>\n",
       "      <td>NaT</td>\n",
       "      <td>NaN</td>\n",
       "      <td>NaN</td>\n",
       "      <td>NaN</td>\n",
       "    </tr>\n",
       "    <tr>\n",
       "      <th>2459</th>\n",
       "      <td>2020-11-20 01:47:00</td>\n",
       "      <td>NaN</td>\n",
       "      <td>Williamson</td>\n",
       "      <td>IP ICU</td>\n",
       "      <td>59</td>\n",
       "      <td>Female</td>\n",
       "      <td>78609</td>\n",
       "      <td>Not Hispanic or Latino</td>\n",
       "      <td>White</td>\n",
       "      <td>White Non Hispanic</td>\n",
       "      <td>...</td>\n",
       "      <td>72100</td>\n",
       "      <td>41226</td>\n",
       "      <td>0</td>\n",
       "      <td>2020-11-20 01:47:00</td>\n",
       "      <td>NaT</td>\n",
       "      <td>NaT</td>\n",
       "      <td>NaT</td>\n",
       "      <td>NaN</td>\n",
       "      <td>NaN</td>\n",
       "      <td>NaN</td>\n",
       "    </tr>\n",
       "  </tbody>\n",
       "</table>\n",
       "<p>716 rows × 78 columns</p>\n",
       "</div>"
      ],
      "text/plain": [
       "              admit_dt_tm      discharge_dt_tm        facility  \\\n",
       "1     2020-03-24 00:07:00  2020-03-26 18:30:00  Medical Center   \n",
       "6     2020-03-26 15:21:00  2020-04-08 13:15:00  Medical Center   \n",
       "11    2020-03-28 18:59:00  2020-06-01 15:15:00  Medical Center   \n",
       "17    2020-03-31 14:14:00  2020-04-17 17:20:00  Medical Center   \n",
       "18    2020-03-31 21:23:00  2020-04-08 14:40:00  Medical Center   \n",
       "...                   ...                  ...             ...   \n",
       "2432  2020-11-15 18:38:00  2020-11-18 15:09:00      Williamson   \n",
       "2433  2020-11-15 18:49:00                  NaN            Hays   \n",
       "2437  2020-11-16 10:04:00  2020-11-18 18:10:00            Hays   \n",
       "2450  2020-11-18 17:25:00  2020-11-19 18:10:00      Williamson   \n",
       "2459  2020-11-20 01:47:00                  NaN      Williamson   \n",
       "\n",
       "            encounter_type_display  age_at_admit  gender zip_cust_table  \\\n",
       "1                           IP ICU            44    Male          78130   \n",
       "6     IP Private/Semi Private room            49  Female          78612   \n",
       "11                          IP ICU            24    Male          78753   \n",
       "17                          IP ICU            55    Male          78602   \n",
       "18    IP Private/Semi Private room            40  Female          78704   \n",
       "...                            ...           ...     ...            ...   \n",
       "2432  IP Private/Semi Private room            74  Female          78664   \n",
       "2433  IP Private/Semi Private room            55  Female          78644   \n",
       "2437  IP Private/Semi Private room            70    Male          78610   \n",
       "2450                        IP ICU            66    Male          78665   \n",
       "2459                        IP ICU            59  Female          78609   \n",
       "\n",
       "           ethnicity_display race_display            race_eth_comb  ...  \\\n",
       "1         Hispanic or Latino        White           White Hispanic  ...   \n",
       "6     Not Hispanic or Latino        White       White Non Hispanic  ...   \n",
       "11    Not Hispanic or Latino        White       White Non Hispanic  ...   \n",
       "17    Not Hispanic or Latino        White       White Non Hispanic  ...   \n",
       "18                   Unknown        White  White Unknown Ethnicity  ...   \n",
       "...                      ...          ...                      ...  ...   \n",
       "2432  Not Hispanic or Latino        White       White Non Hispanic  ...   \n",
       "2433      Hispanic or Latino        White           White Hispanic  ...   \n",
       "2437      Hispanic or Latino        White           White Hispanic  ...   \n",
       "2450                 Unknown        White  White Unknown Ethnicity  ...   \n",
       "2459  Not Hispanic or Latino        White       White Non Hispanic  ...   \n",
       "\n",
       "      deid_mrn_encounter deid_fin_encounter on_vent            beg_date  \\\n",
       "1                  84969              27818       1 2020-03-24 00:07:00   \n",
       "6                  80030              23744       1 2020-03-26 15:21:00   \n",
       "11                 84794              37705       1 2020-03-28 18:59:00   \n",
       "17                 84725              15345       1 2020-03-31 14:14:00   \n",
       "18                 74571              18447       0 2020-03-31 21:23:00   \n",
       "...                  ...                ...     ...                 ...   \n",
       "2432               80870              31833       0 2020-11-15 18:38:00   \n",
       "2433               62391              16897       0 2020-11-15 18:49:00   \n",
       "2437               61246              41967       0 2020-11-16 10:04:00   \n",
       "2450               67825              30836       0 2020-11-18 17:25:00   \n",
       "2459               72100              41226       0 2020-11-20 01:47:00   \n",
       "\n",
       "                end_date          vent_start            vent_end  \\\n",
       "1    2020-03-26 18:30:00 2020-03-24 05:55:00 2020-03-26 16:22:00   \n",
       "6    2020-04-08 13:15:00 2020-03-28 11:14:00 2020-04-03 14:31:00   \n",
       "11   2020-06-01 15:15:00 2020-03-28 22:09:00 2020-05-27 04:53:00   \n",
       "17   2020-04-17 17:20:00 2020-04-07 08:40:00 2020-04-17 15:56:00   \n",
       "18   2020-04-08 14:40:00                 NaT                 NaT   \n",
       "...                  ...                 ...                 ...   \n",
       "2432 2020-11-18 15:09:00                 NaT                 NaT   \n",
       "2433                 NaT                 NaT                 NaT   \n",
       "2437 2020-11-18 18:10:00                 NaT                 NaT   \n",
       "2450 2020-11-19 18:10:00                 NaT                 NaT   \n",
       "2459                 NaT                 NaT                 NaT   \n",
       "\n",
       "     admit_time_to_vent  admit_time_to_vent_end vent_duration  \n",
       "1                   0.0                     2.0           2.0  \n",
       "6                   1.0                     7.0           6.0  \n",
       "11                  0.0                    59.0          59.0  \n",
       "17                  6.0                    17.0          10.0  \n",
       "18                  NaN                     NaN           NaN  \n",
       "...                 ...                     ...           ...  \n",
       "2432                NaN                     NaN           NaN  \n",
       "2433                NaN                     NaN           NaN  \n",
       "2437                NaN                     NaN           NaN  \n",
       "2450                NaN                     NaN           NaN  \n",
       "2459                NaN                     NaN           NaN  \n",
       "\n",
       "[716 rows x 78 columns]"
      ]
     },
     "execution_count": 76,
     "metadata": {},
     "output_type": "execute_result"
    }
   ],
   "source": [
    "icu_df = qsofa_df[~qsofa_df['icu_hours_summed'].isnull()]\n",
    "icu_df"
   ]
  },
  {
   "cell_type": "code",
   "execution_count": 77,
   "metadata": {},
   "outputs": [],
   "source": [
    "testing_df = icu_df[['on_vent', 'qSOFA_score', 'length_of_stay', 'admit_time_to_vent', 'admit_time_to_vent_end', 'vent_duration']]"
   ]
  },
  {
   "cell_type": "code",
   "execution_count": 78,
   "metadata": {},
   "outputs": [
    {
     "data": {
      "text/plain": [
       "Index(['admit_dt_tm', 'discharge_dt_tm', 'facility', 'encounter_type_display',\n",
       "       'age_at_admit', 'gender', 'zip_cust_table', 'ethnicity_display',\n",
       "       'race_display', 'race_eth_comb', 'length_of_stay', 'icd_prim',\n",
       "       'deceased_dt_tm', 'discharge_disposition_display', 'dc_dispo_cat',\n",
       "       'insured_uninsured', 'admit_source', 'arrival_mode',\n",
       "       'vent_hours_summed', 'vent_first_order_start_time',\n",
       "       'vent_last_order_end_time', 'icu_hours_summed', 'icu_first_begin_time',\n",
       "       'icu_last_end_time', 'occupation', 'occ_cat', 'emp_yn', 'Creatinine',\n",
       "       'Abs_Lymph', 'ALT', 'AST', 'Bili_Total', 'D-Dimer',\n",
       "       'Diastolic_Blood_Pressure', 'Dosing_Weight_(kg)', 'FiO2/Percent',\n",
       "       'Glasgow_Coma_Score', 'Lymph_Auto', 'Oxygen_Delivery_Method',\n",
       "       'Oxygen_Saturation', 'Platelet', 'pO2_Art', 'Procalcitonin',\n",
       "       'Respiratory_Rate', 'Systolic_Blood_Pressure', 'Troponin-I', 'WBC',\n",
       "       'Oxygen_Flow_Rate', 'Patient_Smoking_Status', 'Visit_Reason',\n",
       "       'Height_(in)', 'Mean_Arterial_Pressure', 'SARSCOV2', 'SARSCOV2_Source',\n",
       "       'heart_pulse_comb', 'temp_oral_degC', 'calc_pulled_BMI', 'no_dx_data',\n",
       "       'COPD_com_flag', 'asthma_com_flag', 'diabetes_com_flag',\n",
       "       'hypertension_com_flag', 'CAD_com_flag', 'heartfailure_com_flag',\n",
       "       'CKD_com_flag', 'cancer_com_flag', 'qSOFA_score', 'deid_empi_encounter',\n",
       "       'deid_mrn_encounter', 'deid_fin_encounter', 'on_vent', 'beg_date',\n",
       "       'end_date', 'vent_start', 'vent_end', 'admit_time_to_vent',\n",
       "       'admit_time_to_vent_end', 'vent_duration'],\n",
       "      dtype='object')"
      ]
     },
     "execution_count": 78,
     "metadata": {},
     "output_type": "execute_result"
    }
   ],
   "source": [
    "#Creatinine\tAbs_Lymph\tALT\tAST\tBili_Total\tD-Dimer\tDiastolic_Blood_Pressure\tDosing_Weight_(kg)\tFiO2/Percent\tGlasgow_Coma_Score\tLymph_Auto\tOxygen_Delivery_Method\tOxygen_Saturation\tPlatelet\tpO2_Art\tProcalcitonin\tRespiratory_Rate\tSystolic_Blood_Pressure\tTroponin-I\tWBC\tOxygen_Flow_Rate\tPatient_Smoking_Status\n",
    "icu_df.columns"
   ]
  },
  {
   "cell_type": "code",
   "execution_count": 79,
   "metadata": {},
   "outputs": [],
   "source": [
    "vitals_vent_df = icu_df[['Creatinine',\n",
    "       'Abs_Lymph', 'ALT', 'AST', 'Bili_Total', 'D-Dimer',\n",
    "       'Diastolic_Blood_Pressure', 'Dosing_Weight_(kg)', 'FiO2/Percent',\n",
    "       'Glasgow_Coma_Score', 'Lymph_Auto',\n",
    "       'Oxygen_Saturation', 'Platelet', 'pO2_Art', 'Procalcitonin',\n",
    "       'Respiratory_Rate', 'Systolic_Blood_Pressure', 'Troponin-I', 'WBC',\n",
    "       'Oxygen_Flow_Rate','Mean_Arterial_Pressure', 'heart_pulse_comb', 'temp_oral_degC', 'calc_pulled_BMI', 'qSOFA_score', 'on_vent']]"
   ]
  },
  {
   "cell_type": "code",
   "execution_count": 80,
   "metadata": {},
   "outputs": [],
   "source": [
    "\n",
    "vitals_length_stay_df = icu_df[['Creatinine',\n",
    "       'Abs_Lymph', 'ALT', 'AST', 'Bili_Total', 'D-Dimer',\n",
    "       'Diastolic_Blood_Pressure', 'Dosing_Weight_(kg)', 'FiO2/Percent',\n",
    "       'Glasgow_Coma_Score', 'Lymph_Auto',\n",
    "       'Oxygen_Saturation', 'Platelet', 'pO2_Art', 'Procalcitonin',\n",
    "       'Respiratory_Rate', 'Systolic_Blood_Pressure', 'Troponin-I', 'WBC',\n",
    "       'Oxygen_Flow_Rate','Mean_Arterial_Pressure', 'heart_pulse_comb', 'temp_oral_degC', 'calc_pulled_BMI', 'qSOFA_score', 'length_of_stay']]"
   ]
  },
  {
   "cell_type": "code",
   "execution_count": 81,
   "metadata": {},
   "outputs": [
    {
     "data": {
      "text/html": [
       "<div>\n",
       "<style scoped>\n",
       "    .dataframe tbody tr th:only-of-type {\n",
       "        vertical-align: middle;\n",
       "    }\n",
       "\n",
       "    .dataframe tbody tr th {\n",
       "        vertical-align: top;\n",
       "    }\n",
       "\n",
       "    .dataframe thead th {\n",
       "        text-align: right;\n",
       "    }\n",
       "</style>\n",
       "<table border=\"1\" class=\"dataframe\">\n",
       "  <thead>\n",
       "    <tr style=\"text-align: right;\">\n",
       "      <th></th>\n",
       "      <th>Creatinine</th>\n",
       "      <th>Abs_Lymph</th>\n",
       "      <th>ALT</th>\n",
       "      <th>AST</th>\n",
       "      <th>Bili_Total</th>\n",
       "      <th>D-Dimer</th>\n",
       "      <th>Diastolic_Blood_Pressure</th>\n",
       "      <th>Dosing_Weight_(kg)</th>\n",
       "      <th>FiO2/Percent</th>\n",
       "      <th>Glasgow_Coma_Score</th>\n",
       "      <th>...</th>\n",
       "      <th>Systolic_Blood_Pressure</th>\n",
       "      <th>Troponin-I</th>\n",
       "      <th>WBC</th>\n",
       "      <th>Oxygen_Flow_Rate</th>\n",
       "      <th>Mean_Arterial_Pressure</th>\n",
       "      <th>heart_pulse_comb</th>\n",
       "      <th>temp_oral_degC</th>\n",
       "      <th>calc_pulled_BMI</th>\n",
       "      <th>qSOFA_score</th>\n",
       "      <th>on_vent</th>\n",
       "    </tr>\n",
       "  </thead>\n",
       "  <tbody>\n",
       "    <tr>\n",
       "      <th>1</th>\n",
       "      <td>2.9</td>\n",
       "      <td>2.00</td>\n",
       "      <td>94</td>\n",
       "      <td>253.0</td>\n",
       "      <td>3.1</td>\n",
       "      <td>&gt;5250</td>\n",
       "      <td>21.0</td>\n",
       "      <td>99.200</td>\n",
       "      <td>50.0</td>\n",
       "      <td>3.0</td>\n",
       "      <td>...</td>\n",
       "      <td>36.0</td>\n",
       "      <td>0.73</td>\n",
       "      <td>35.1</td>\n",
       "      <td>NaN</td>\n",
       "      <td>NaN</td>\n",
       "      <td>97.0</td>\n",
       "      <td>NaN</td>\n",
       "      <td>30.620000</td>\n",
       "      <td>3.0</td>\n",
       "      <td>1</td>\n",
       "    </tr>\n",
       "    <tr>\n",
       "      <th>6</th>\n",
       "      <td>0.9</td>\n",
       "      <td>0.80</td>\n",
       "      <td>43</td>\n",
       "      <td>48.0</td>\n",
       "      <td>0.5</td>\n",
       "      <td>599</td>\n",
       "      <td>79.0</td>\n",
       "      <td>123.200</td>\n",
       "      <td>100.0</td>\n",
       "      <td>15.0</td>\n",
       "      <td>...</td>\n",
       "      <td>115.0</td>\n",
       "      <td>0.02</td>\n",
       "      <td>12.1</td>\n",
       "      <td>4.0</td>\n",
       "      <td>91.0</td>\n",
       "      <td>99.0</td>\n",
       "      <td>37.4</td>\n",
       "      <td>44.890000</td>\n",
       "      <td>1.0</td>\n",
       "      <td>1</td>\n",
       "    </tr>\n",
       "    <tr>\n",
       "      <th>11</th>\n",
       "      <td>1.5</td>\n",
       "      <td>4.20</td>\n",
       "      <td>69</td>\n",
       "      <td>146.0</td>\n",
       "      <td>0.4</td>\n",
       "      <td>&gt;5250</td>\n",
       "      <td>68.0</td>\n",
       "      <td>116.000</td>\n",
       "      <td>80.0</td>\n",
       "      <td>3.0</td>\n",
       "      <td>...</td>\n",
       "      <td>102.0</td>\n",
       "      <td>0.07</td>\n",
       "      <td>19.4</td>\n",
       "      <td>50.0</td>\n",
       "      <td>NaN</td>\n",
       "      <td>143.0</td>\n",
       "      <td>37.1</td>\n",
       "      <td>34.540000</td>\n",
       "      <td>2.0</td>\n",
       "      <td>1</td>\n",
       "    </tr>\n",
       "    <tr>\n",
       "      <th>17</th>\n",
       "      <td>1.2</td>\n",
       "      <td>1.00</td>\n",
       "      <td>20</td>\n",
       "      <td>36.0</td>\n",
       "      <td>0.6</td>\n",
       "      <td>224</td>\n",
       "      <td>76.0</td>\n",
       "      <td>90.718</td>\n",
       "      <td>100.0</td>\n",
       "      <td>15.0</td>\n",
       "      <td>...</td>\n",
       "      <td>122.0</td>\n",
       "      <td>NaN</td>\n",
       "      <td>4.6</td>\n",
       "      <td>2.0</td>\n",
       "      <td>91.3</td>\n",
       "      <td>80.0</td>\n",
       "      <td>38.9</td>\n",
       "      <td>27.893795</td>\n",
       "      <td>0.0</td>\n",
       "      <td>1</td>\n",
       "    </tr>\n",
       "    <tr>\n",
       "      <th>18</th>\n",
       "      <td>0.7</td>\n",
       "      <td>NaN</td>\n",
       "      <td>44</td>\n",
       "      <td>45.0</td>\n",
       "      <td>0.3</td>\n",
       "      <td>264</td>\n",
       "      <td>82.0</td>\n",
       "      <td>136.078</td>\n",
       "      <td>45.0</td>\n",
       "      <td>15.0</td>\n",
       "      <td>...</td>\n",
       "      <td>133.0</td>\n",
       "      <td>&lt;0.01</td>\n",
       "      <td>2.8</td>\n",
       "      <td>2.0</td>\n",
       "      <td>99.0</td>\n",
       "      <td>104.0</td>\n",
       "      <td>37.6</td>\n",
       "      <td>54.350000</td>\n",
       "      <td>1.0</td>\n",
       "      <td>0</td>\n",
       "    </tr>\n",
       "    <tr>\n",
       "      <th>...</th>\n",
       "      <td>...</td>\n",
       "      <td>...</td>\n",
       "      <td>...</td>\n",
       "      <td>...</td>\n",
       "      <td>...</td>\n",
       "      <td>...</td>\n",
       "      <td>...</td>\n",
       "      <td>...</td>\n",
       "      <td>...</td>\n",
       "      <td>...</td>\n",
       "      <td>...</td>\n",
       "      <td>...</td>\n",
       "      <td>...</td>\n",
       "      <td>...</td>\n",
       "      <td>...</td>\n",
       "      <td>...</td>\n",
       "      <td>...</td>\n",
       "      <td>...</td>\n",
       "      <td>...</td>\n",
       "      <td>...</td>\n",
       "      <td>...</td>\n",
       "    </tr>\n",
       "    <tr>\n",
       "      <th>2432</th>\n",
       "      <td>1.1</td>\n",
       "      <td>0.87</td>\n",
       "      <td>24</td>\n",
       "      <td>39.0</td>\n",
       "      <td>0.5</td>\n",
       "      <td>1465</td>\n",
       "      <td>80.0</td>\n",
       "      <td>99.790</td>\n",
       "      <td>NaN</td>\n",
       "      <td>15.0</td>\n",
       "      <td>...</td>\n",
       "      <td>172.0</td>\n",
       "      <td>0.01</td>\n",
       "      <td>6.9</td>\n",
       "      <td>4.0</td>\n",
       "      <td>110.7</td>\n",
       "      <td>86.0</td>\n",
       "      <td>37.2</td>\n",
       "      <td>35.890000</td>\n",
       "      <td>0.0</td>\n",
       "      <td>0</td>\n",
       "    </tr>\n",
       "    <tr>\n",
       "      <th>2433</th>\n",
       "      <td>1.0</td>\n",
       "      <td>2.19</td>\n",
       "      <td>51</td>\n",
       "      <td>35.0</td>\n",
       "      <td>0.4</td>\n",
       "      <td>3338</td>\n",
       "      <td>87.0</td>\n",
       "      <td>91.000</td>\n",
       "      <td>NaN</td>\n",
       "      <td>15.0</td>\n",
       "      <td>...</td>\n",
       "      <td>154.0</td>\n",
       "      <td>&lt;0.01</td>\n",
       "      <td>8.1</td>\n",
       "      <td>6.0</td>\n",
       "      <td>109.3</td>\n",
       "      <td>65.0</td>\n",
       "      <td>37.1</td>\n",
       "      <td>31.421189</td>\n",
       "      <td>0.0</td>\n",
       "      <td>0</td>\n",
       "    </tr>\n",
       "    <tr>\n",
       "      <th>2437</th>\n",
       "      <td>1.2</td>\n",
       "      <td>1.07</td>\n",
       "      <td>34</td>\n",
       "      <td>19.0</td>\n",
       "      <td>1.1</td>\n",
       "      <td>NaN</td>\n",
       "      <td>76.0</td>\n",
       "      <td>113.398</td>\n",
       "      <td>93.0</td>\n",
       "      <td>15.0</td>\n",
       "      <td>...</td>\n",
       "      <td>176.0</td>\n",
       "      <td>0.02</td>\n",
       "      <td>11.6</td>\n",
       "      <td>NaN</td>\n",
       "      <td>109.3</td>\n",
       "      <td>79.0</td>\n",
       "      <td>36.7</td>\n",
       "      <td>36.917990</td>\n",
       "      <td>0.0</td>\n",
       "      <td>0</td>\n",
       "    </tr>\n",
       "    <tr>\n",
       "      <th>2450</th>\n",
       "      <td>0.9</td>\n",
       "      <td>2.83</td>\n",
       "      <td>18</td>\n",
       "      <td>25.0</td>\n",
       "      <td>0.4</td>\n",
       "      <td>NaN</td>\n",
       "      <td>82.0</td>\n",
       "      <td>101.605</td>\n",
       "      <td>NaN</td>\n",
       "      <td>15.0</td>\n",
       "      <td>...</td>\n",
       "      <td>161.0</td>\n",
       "      <td>0.01</td>\n",
       "      <td>10.2</td>\n",
       "      <td>NaN</td>\n",
       "      <td>108.3</td>\n",
       "      <td>76.0</td>\n",
       "      <td>36.7</td>\n",
       "      <td>32.390000</td>\n",
       "      <td>0.0</td>\n",
       "      <td>0</td>\n",
       "    </tr>\n",
       "    <tr>\n",
       "      <th>2459</th>\n",
       "      <td>0.5</td>\n",
       "      <td>0.56</td>\n",
       "      <td>22</td>\n",
       "      <td>25.0</td>\n",
       "      <td>0.8</td>\n",
       "      <td>965</td>\n",
       "      <td>77.0</td>\n",
       "      <td>81.400</td>\n",
       "      <td>50.0</td>\n",
       "      <td>15.0</td>\n",
       "      <td>...</td>\n",
       "      <td>110.0</td>\n",
       "      <td>0.03</td>\n",
       "      <td>3.2</td>\n",
       "      <td>3.0</td>\n",
       "      <td>NaN</td>\n",
       "      <td>102.0</td>\n",
       "      <td>36.4</td>\n",
       "      <td>NaN</td>\n",
       "      <td>0.0</td>\n",
       "      <td>0</td>\n",
       "    </tr>\n",
       "  </tbody>\n",
       "</table>\n",
       "<p>716 rows × 26 columns</p>\n",
       "</div>"
      ],
      "text/plain": [
       "      Creatinine  Abs_Lymph ALT    AST Bili_Total D-Dimer  \\\n",
       "1            2.9       2.00  94  253.0        3.1   >5250   \n",
       "6            0.9       0.80  43   48.0        0.5     599   \n",
       "11           1.5       4.20  69  146.0        0.4   >5250   \n",
       "17           1.2       1.00  20   36.0        0.6     224   \n",
       "18           0.7        NaN  44   45.0        0.3     264   \n",
       "...          ...        ...  ..    ...        ...     ...   \n",
       "2432         1.1       0.87  24   39.0        0.5    1465   \n",
       "2433         1.0       2.19  51   35.0        0.4    3338   \n",
       "2437         1.2       1.07  34   19.0        1.1     NaN   \n",
       "2450         0.9       2.83  18   25.0        0.4     NaN   \n",
       "2459         0.5       0.56  22   25.0        0.8     965   \n",
       "\n",
       "      Diastolic_Blood_Pressure  Dosing_Weight_(kg)  FiO2/Percent  \\\n",
       "1                         21.0              99.200          50.0   \n",
       "6                         79.0             123.200         100.0   \n",
       "11                        68.0             116.000          80.0   \n",
       "17                        76.0              90.718         100.0   \n",
       "18                        82.0             136.078          45.0   \n",
       "...                        ...                 ...           ...   \n",
       "2432                      80.0              99.790           NaN   \n",
       "2433                      87.0              91.000           NaN   \n",
       "2437                      76.0             113.398          93.0   \n",
       "2450                      82.0             101.605           NaN   \n",
       "2459                      77.0              81.400          50.0   \n",
       "\n",
       "      Glasgow_Coma_Score  ...  Systolic_Blood_Pressure  Troponin-I   WBC  \\\n",
       "1                    3.0  ...                     36.0        0.73  35.1   \n",
       "6                   15.0  ...                    115.0        0.02  12.1   \n",
       "11                   3.0  ...                    102.0        0.07  19.4   \n",
       "17                  15.0  ...                    122.0         NaN   4.6   \n",
       "18                  15.0  ...                    133.0       <0.01   2.8   \n",
       "...                  ...  ...                      ...         ...   ...   \n",
       "2432                15.0  ...                    172.0        0.01   6.9   \n",
       "2433                15.0  ...                    154.0       <0.01   8.1   \n",
       "2437                15.0  ...                    176.0        0.02  11.6   \n",
       "2450                15.0  ...                    161.0        0.01  10.2   \n",
       "2459                15.0  ...                    110.0        0.03   3.2   \n",
       "\n",
       "      Oxygen_Flow_Rate Mean_Arterial_Pressure  heart_pulse_comb  \\\n",
       "1                  NaN                    NaN              97.0   \n",
       "6                  4.0                   91.0              99.0   \n",
       "11                50.0                    NaN             143.0   \n",
       "17                 2.0                   91.3              80.0   \n",
       "18                 2.0                   99.0             104.0   \n",
       "...                ...                    ...               ...   \n",
       "2432               4.0                  110.7              86.0   \n",
       "2433               6.0                  109.3              65.0   \n",
       "2437               NaN                  109.3              79.0   \n",
       "2450               NaN                  108.3              76.0   \n",
       "2459               3.0                    NaN             102.0   \n",
       "\n",
       "      temp_oral_degC calc_pulled_BMI  qSOFA_score  on_vent  \n",
       "1                NaN       30.620000          3.0        1  \n",
       "6               37.4       44.890000          1.0        1  \n",
       "11              37.1       34.540000          2.0        1  \n",
       "17              38.9       27.893795          0.0        1  \n",
       "18              37.6       54.350000          1.0        0  \n",
       "...              ...             ...          ...      ...  \n",
       "2432            37.2       35.890000          0.0        0  \n",
       "2433            37.1       31.421189          0.0        0  \n",
       "2437            36.7       36.917990          0.0        0  \n",
       "2450            36.7       32.390000          0.0        0  \n",
       "2459            36.4             NaN          0.0        0  \n",
       "\n",
       "[716 rows x 26 columns]"
      ]
     },
     "execution_count": 81,
     "metadata": {},
     "output_type": "execute_result"
    }
   ],
   "source": [
    "vitals_vent_df"
   ]
  },
  {
   "cell_type": "code",
   "execution_count": 82,
   "metadata": {},
   "outputs": [],
   "source": [
    "non_empty = vitals_vent_df.dropna()\n",
    "non_empty_length = vitals_length_stay_df.dropna()"
   ]
  },
  {
   "cell_type": "code",
   "execution_count": 83,
   "metadata": {},
   "outputs": [
    {
     "data": {
      "text/html": [
       "<div>\n",
       "<style scoped>\n",
       "    .dataframe tbody tr th:only-of-type {\n",
       "        vertical-align: middle;\n",
       "    }\n",
       "\n",
       "    .dataframe tbody tr th {\n",
       "        vertical-align: top;\n",
       "    }\n",
       "\n",
       "    .dataframe thead th {\n",
       "        text-align: right;\n",
       "    }\n",
       "</style>\n",
       "<table border=\"1\" class=\"dataframe\">\n",
       "  <thead>\n",
       "    <tr style=\"text-align: right;\">\n",
       "      <th></th>\n",
       "      <th>on_vent</th>\n",
       "      <th>qSOFA_score</th>\n",
       "      <th>length_of_stay</th>\n",
       "      <th>admit_time_to_vent</th>\n",
       "      <th>admit_time_to_vent_end</th>\n",
       "      <th>vent_duration</th>\n",
       "    </tr>\n",
       "  </thead>\n",
       "  <tbody>\n",
       "    <tr>\n",
       "      <th>on_vent</th>\n",
       "      <td>1.000000</td>\n",
       "      <td>0.226020</td>\n",
       "      <td>0.478201</td>\n",
       "      <td>NaN</td>\n",
       "      <td>NaN</td>\n",
       "      <td>NaN</td>\n",
       "    </tr>\n",
       "    <tr>\n",
       "      <th>qSOFA_score</th>\n",
       "      <td>0.226020</td>\n",
       "      <td>1.000000</td>\n",
       "      <td>0.077169</td>\n",
       "      <td>-0.293053</td>\n",
       "      <td>-0.068538</td>\n",
       "      <td>0.012558</td>\n",
       "    </tr>\n",
       "    <tr>\n",
       "      <th>length_of_stay</th>\n",
       "      <td>0.478201</td>\n",
       "      <td>0.077169</td>\n",
       "      <td>1.000000</td>\n",
       "      <td>0.246015</td>\n",
       "      <td>0.924668</td>\n",
       "      <td>0.903446</td>\n",
       "    </tr>\n",
       "    <tr>\n",
       "      <th>admit_time_to_vent</th>\n",
       "      <td>NaN</td>\n",
       "      <td>-0.293053</td>\n",
       "      <td>0.246015</td>\n",
       "      <td>1.000000</td>\n",
       "      <td>0.302299</td>\n",
       "      <td>0.043700</td>\n",
       "    </tr>\n",
       "    <tr>\n",
       "      <th>admit_time_to_vent_end</th>\n",
       "      <td>NaN</td>\n",
       "      <td>-0.068538</td>\n",
       "      <td>0.924668</td>\n",
       "      <td>0.302299</td>\n",
       "      <td>1.000000</td>\n",
       "      <td>0.965177</td>\n",
       "    </tr>\n",
       "    <tr>\n",
       "      <th>vent_duration</th>\n",
       "      <td>NaN</td>\n",
       "      <td>0.012558</td>\n",
       "      <td>0.903446</td>\n",
       "      <td>0.043700</td>\n",
       "      <td>0.965177</td>\n",
       "      <td>1.000000</td>\n",
       "    </tr>\n",
       "  </tbody>\n",
       "</table>\n",
       "</div>"
      ],
      "text/plain": [
       "                         on_vent  qSOFA_score  length_of_stay  \\\n",
       "on_vent                 1.000000     0.226020        0.478201   \n",
       "qSOFA_score             0.226020     1.000000        0.077169   \n",
       "length_of_stay          0.478201     0.077169        1.000000   \n",
       "admit_time_to_vent           NaN    -0.293053        0.246015   \n",
       "admit_time_to_vent_end       NaN    -0.068538        0.924668   \n",
       "vent_duration                NaN     0.012558        0.903446   \n",
       "\n",
       "                        admit_time_to_vent  admit_time_to_vent_end  \\\n",
       "on_vent                                NaN                     NaN   \n",
       "qSOFA_score                      -0.293053               -0.068538   \n",
       "length_of_stay                    0.246015                0.924668   \n",
       "admit_time_to_vent                1.000000                0.302299   \n",
       "admit_time_to_vent_end            0.302299                1.000000   \n",
       "vent_duration                     0.043700                0.965177   \n",
       "\n",
       "                        vent_duration  \n",
       "on_vent                           NaN  \n",
       "qSOFA_score                  0.012558  \n",
       "length_of_stay               0.903446  \n",
       "admit_time_to_vent           0.043700  \n",
       "admit_time_to_vent_end       0.965177  \n",
       "vent_duration                1.000000  "
      ]
     },
     "execution_count": 83,
     "metadata": {},
     "output_type": "execute_result"
    }
   ],
   "source": [
    "testing_df.corr()"
   ]
  },
  {
   "cell_type": "code",
   "execution_count": 84,
   "metadata": {},
   "outputs": [],
   "source": [
    "vent_testing_df = testing_df[testing_df['on_vent'] == 1]\n",
    "#filter_df[filter_df['admit_time_to_vent'] <= timedelta(0)][['admit_dt_tm', 'vent_first_order_start_time']]\n",
    "#vent_testing_df[['length_of_stay', 'admit_time_to_vent', 'admit_time_to_vent_end', 'vent_duration']] = vent_testing_df[['length_of_stay', 'admit_time_to_vent', 'admit_time_to_vent_end', 'vent_duration']].astype(int)"
   ]
  },
  {
   "cell_type": "code",
   "execution_count": 85,
   "metadata": {},
   "outputs": [
    {
     "data": {
      "text/html": [
       "<div>\n",
       "<style scoped>\n",
       "    .dataframe tbody tr th:only-of-type {\n",
       "        vertical-align: middle;\n",
       "    }\n",
       "\n",
       "    .dataframe tbody tr th {\n",
       "        vertical-align: top;\n",
       "    }\n",
       "\n",
       "    .dataframe thead th {\n",
       "        text-align: right;\n",
       "    }\n",
       "</style>\n",
       "<table border=\"1\" class=\"dataframe\">\n",
       "  <thead>\n",
       "    <tr style=\"text-align: right;\">\n",
       "      <th></th>\n",
       "      <th>on_vent</th>\n",
       "      <th>qSOFA_score</th>\n",
       "      <th>length_of_stay</th>\n",
       "      <th>admit_time_to_vent</th>\n",
       "      <th>admit_time_to_vent_end</th>\n",
       "      <th>vent_duration</th>\n",
       "    </tr>\n",
       "  </thead>\n",
       "  <tbody>\n",
       "    <tr>\n",
       "      <th>on_vent</th>\n",
       "      <td>NaN</td>\n",
       "      <td>NaN</td>\n",
       "      <td>NaN</td>\n",
       "      <td>NaN</td>\n",
       "      <td>NaN</td>\n",
       "      <td>NaN</td>\n",
       "    </tr>\n",
       "    <tr>\n",
       "      <th>qSOFA_score</th>\n",
       "      <td>NaN</td>\n",
       "      <td>1.000000</td>\n",
       "      <td>-0.067797</td>\n",
       "      <td>-0.293053</td>\n",
       "      <td>-0.068538</td>\n",
       "      <td>0.012558</td>\n",
       "    </tr>\n",
       "    <tr>\n",
       "      <th>length_of_stay</th>\n",
       "      <td>NaN</td>\n",
       "      <td>-0.067797</td>\n",
       "      <td>1.000000</td>\n",
       "      <td>0.246015</td>\n",
       "      <td>0.924668</td>\n",
       "      <td>0.903446</td>\n",
       "    </tr>\n",
       "    <tr>\n",
       "      <th>admit_time_to_vent</th>\n",
       "      <td>NaN</td>\n",
       "      <td>-0.293053</td>\n",
       "      <td>0.246015</td>\n",
       "      <td>1.000000</td>\n",
       "      <td>0.302299</td>\n",
       "      <td>0.043700</td>\n",
       "    </tr>\n",
       "    <tr>\n",
       "      <th>admit_time_to_vent_end</th>\n",
       "      <td>NaN</td>\n",
       "      <td>-0.068538</td>\n",
       "      <td>0.924668</td>\n",
       "      <td>0.302299</td>\n",
       "      <td>1.000000</td>\n",
       "      <td>0.965177</td>\n",
       "    </tr>\n",
       "    <tr>\n",
       "      <th>vent_duration</th>\n",
       "      <td>NaN</td>\n",
       "      <td>0.012558</td>\n",
       "      <td>0.903446</td>\n",
       "      <td>0.043700</td>\n",
       "      <td>0.965177</td>\n",
       "      <td>1.000000</td>\n",
       "    </tr>\n",
       "  </tbody>\n",
       "</table>\n",
       "</div>"
      ],
      "text/plain": [
       "                        on_vent  qSOFA_score  length_of_stay  \\\n",
       "on_vent                     NaN          NaN             NaN   \n",
       "qSOFA_score                 NaN     1.000000       -0.067797   \n",
       "length_of_stay              NaN    -0.067797        1.000000   \n",
       "admit_time_to_vent          NaN    -0.293053        0.246015   \n",
       "admit_time_to_vent_end      NaN    -0.068538        0.924668   \n",
       "vent_duration               NaN     0.012558        0.903446   \n",
       "\n",
       "                        admit_time_to_vent  admit_time_to_vent_end  \\\n",
       "on_vent                                NaN                     NaN   \n",
       "qSOFA_score                      -0.293053               -0.068538   \n",
       "length_of_stay                    0.246015                0.924668   \n",
       "admit_time_to_vent                1.000000                0.302299   \n",
       "admit_time_to_vent_end            0.302299                1.000000   \n",
       "vent_duration                     0.043700                0.965177   \n",
       "\n",
       "                        vent_duration  \n",
       "on_vent                           NaN  \n",
       "qSOFA_score                  0.012558  \n",
       "length_of_stay               0.903446  \n",
       "admit_time_to_vent           0.043700  \n",
       "admit_time_to_vent_end       0.965177  \n",
       "vent_duration                1.000000  "
      ]
     },
     "execution_count": 85,
     "metadata": {},
     "output_type": "execute_result"
    }
   ],
   "source": [
    "vent_testing_df.corr()"
   ]
  },
  {
   "cell_type": "code",
   "execution_count": 86,
   "metadata": {},
   "outputs": [
    {
     "name": "stderr",
     "output_type": "stream",
     "text": [
      "/home/joel/anaconda3/lib/python3.7/site-packages/seaborn/_decorators.py:43: FutureWarning: Pass the following variables as keyword args: x, y. From version 0.12, the only valid positional argument will be `data`, and passing other arguments without an explicit keyword will result in an error or misinterpretation.\n",
      "  FutureWarning\n"
     ]
    },
    {
     "data": {
      "text/plain": [
       "<AxesSubplot:xlabel='qSOFA_score', ylabel='length_of_stay'>"
      ]
     },
     "execution_count": 86,
     "metadata": {},
     "output_type": "execute_result"
    },
    {
     "data": {
      "image/png": "[encoded data removed]",
      "text/plain": [
       "<Figure size 432x288 with 1 Axes>"
      ]
     },
     "metadata": {
      "needs_background": "light"
     },
     "output_type": "display_data"
    }
   ],
   "source": [
    "sn.scatterplot(vent_testing_df['qSOFA_score'], vent_testing_df['length_of_stay'] )"
   ]
  },
  {
   "cell_type": "code",
   "execution_count": 87,
   "metadata": {},
   "outputs": [
    {
     "name": "stderr",
     "output_type": "stream",
     "text": [
      "/home/joel/anaconda3/lib/python3.7/site-packages/seaborn/_decorators.py:43: FutureWarning: Pass the following variables as keyword args: x, y. From version 0.12, the only valid positional argument will be `data`, and passing other arguments without an explicit keyword will result in an error or misinterpretation.\n",
      "  FutureWarning\n"
     ]
    },
    {
     "data": {
      "text/plain": [
       "<AxesSubplot:xlabel='qSOFA_score', ylabel='admit_time_to_vent'>"
      ]
     },
     "execution_count": 87,
     "metadata": {},
     "output_type": "execute_result"
    },
    {
     "data": {
      "image/png": "[encoded data removed]",
      "text/plain": [
       "<Figure size 432x288 with 1 Axes>"
      ]
     },
     "metadata": {
      "needs_background": "light"
     },
     "output_type": "display_data"
    }
   ],
   "source": [
    "sn.scatterplot(vent_testing_df['qSOFA_score'], vent_testing_df['admit_time_to_vent'] )"
   ]
  },
  {
   "cell_type": "code",
   "execution_count": 88,
   "metadata": {},
   "outputs": [
    {
     "name": "stderr",
     "output_type": "stream",
     "text": [
      "/home/joel/anaconda3/lib/python3.7/site-packages/seaborn/_decorators.py:43: FutureWarning: Pass the following variables as keyword args: x, y. From version 0.12, the only valid positional argument will be `data`, and passing other arguments without an explicit keyword will result in an error or misinterpretation.\n",
      "  FutureWarning\n"
     ]
    },
    {
     "data": {
      "text/plain": [
       "<AxesSubplot:xlabel='qSOFA_score', ylabel='admit_time_to_vent_end'>"
      ]
     },
     "execution_count": 88,
     "metadata": {},
     "output_type": "execute_result"
    },
    {
     "data": {
      "image/png": "[encoded data removed]",
      "text/plain": [
       "<Figure size 432x288 with 1 Axes>"
      ]
     },
     "metadata": {
      "needs_background": "light"
     },
     "output_type": "display_data"
    }
   ],
   "source": [
    "sn.scatterplot(vent_testing_df['qSOFA_score'], vent_testing_df['admit_time_to_vent_end'] )"
   ]
  },
  {
   "cell_type": "code",
   "execution_count": 89,
   "metadata": {},
   "outputs": [
    {
     "name": "stderr",
     "output_type": "stream",
     "text": [
      "/home/joel/anaconda3/lib/python3.7/site-packages/seaborn/_decorators.py:43: FutureWarning: Pass the following variables as keyword args: x, y. From version 0.12, the only valid positional argument will be `data`, and passing other arguments without an explicit keyword will result in an error or misinterpretation.\n",
      "  FutureWarning\n"
     ]
    },
    {
     "data": {
      "text/plain": [
       "<AxesSubplot:xlabel='qSOFA_score', ylabel='vent_duration'>"
      ]
     },
     "execution_count": 89,
     "metadata": {},
     "output_type": "execute_result"
    },
    {
     "data": {
      "image/png": "[encoded data removed]",
      "text/plain": [
       "<Figure size 432x288 with 1 Axes>"
      ]
     },
     "metadata": {
      "needs_background": "light"
     },
     "output_type": "display_data"
    }
   ],
   "source": [
    "sn.scatterplot(vent_testing_df['qSOFA_score'], vent_testing_df['vent_duration'] )"
   ]
  },
  {
   "cell_type": "code",
   "execution_count": 90,
   "metadata": {},
   "outputs": [
    {
     "name": "stdout",
     "output_type": "stream",
     "text": [
      "Optimization terminated successfully.\n",
      "         Current function value: 0.693022\n",
      "         Iterations 3\n"
     ]
    },
    {
     "data": {
      "text/html": [
       "<table class=\"simpletable\">\n",
       "<caption>Logit Regression Results</caption>\n",
       "<tr>\n",
       "  <th>Dep. Variable:</th>        <td>on_vent</td>     <th>  No. Observations:  </th>  <td>   716</td> \n",
       "</tr>\n",
       "<tr>\n",
       "  <th>Model:</th>                 <td>Logit</td>      <th>  Df Residuals:      </th>  <td>   715</td> \n",
       "</tr>\n",
       "<tr>\n",
       "  <th>Method:</th>                 <td>MLE</td>       <th>  Df Model:          </th>  <td>     0</td> \n",
       "</tr>\n",
       "<tr>\n",
       "  <th>Date:</th>            <td>Mon, 26 Apr 2021</td> <th>  Pseudo R-squ.:     </th> <td>-0.02753</td>\n",
       "</tr>\n",
       "<tr>\n",
       "  <th>Time:</th>                <td>17:08:09</td>     <th>  Log-Likelihood:    </th> <td> -496.20</td>\n",
       "</tr>\n",
       "<tr>\n",
       "  <th>converged:</th>             <td>True</td>       <th>  LL-Null:           </th> <td> -482.91</td>\n",
       "</tr>\n",
       "<tr>\n",
       "  <th>Covariance Type:</th>     <td>nonrobust</td>    <th>  LLR p-value:       </th>  <td>   nan</td> \n",
       "</tr>\n",
       "</table>\n",
       "<table class=\"simpletable\">\n",
       "<tr>\n",
       "       <td></td>          <th>coef</th>     <th>std err</th>      <th>z</th>      <th>P>|z|</th>  <th>[0.025</th>    <th>0.975]</th>  \n",
       "</tr>\n",
       "<tr>\n",
       "  <th>qSOFA_score</th> <td>   -0.0275</td> <td>    0.065</td> <td>   -0.423</td> <td> 0.672</td> <td>   -0.155</td> <td>    0.100</td>\n",
       "</tr>\n",
       "</table>"
      ],
      "text/plain": [
       "<class 'statsmodels.iolib.summary.Summary'>\n",
       "\"\"\"\n",
       "                           Logit Regression Results                           \n",
       "==============================================================================\n",
       "Dep. Variable:                on_vent   No. Observations:                  716\n",
       "Model:                          Logit   Df Residuals:                      715\n",
       "Method:                           MLE   Df Model:                            0\n",
       "Date:                Mon, 26 Apr 2021   Pseudo R-squ.:                -0.02753\n",
       "Time:                        17:08:09   Log-Likelihood:                -496.20\n",
       "converged:                       True   LL-Null:                       -482.91\n",
       "Covariance Type:            nonrobust   LLR p-value:                       nan\n",
       "===============================================================================\n",
       "                  coef    std err          z      P>|z|      [0.025      0.975]\n",
       "-------------------------------------------------------------------------------\n",
       "qSOFA_score    -0.0275      0.065     -0.423      0.672      -0.155       0.100\n",
       "===============================================================================\n",
       "\"\"\""
      ]
     },
     "execution_count": 90,
     "metadata": {},
     "output_type": "execute_result"
    }
   ],
   "source": [
    "# logistiic regression model for qSOFA on vent\n",
    "model = stats.Logit(icu_df['on_vent'], icu_df['qSOFA_score'])\n",
    "res = model.fit()\n",
    "res.summary()"
   ]
  },
  {
   "cell_type": "code",
   "execution_count": 91,
   "metadata": {},
   "outputs": [
    {
     "data": {
      "text/plain": [
       "0.3832767436772202"
      ]
     },
     "execution_count": 91,
     "metadata": {},
     "output_type": "execute_result"
    }
   ],
   "source": [
    "# auc score \n",
    "roc_auc_score(icu_df['on_vent'], res.predict(icu_df['qSOFA_score']))"
   ]
  },
  {
   "cell_type": "code",
   "execution_count": 92,
   "metadata": {},
   "outputs": [],
   "source": [
    "temp_df = icu_df[['length_of_stay', 'qSOFA_score']].dropna()"
   ]
  },
  {
   "cell_type": "code",
   "execution_count": 93,
   "metadata": {},
   "outputs": [
    {
     "data": {
      "text/html": [
       "<table class=\"simpletable\">\n",
       "<caption>OLS Regression Results</caption>\n",
       "<tr>\n",
       "  <th>Dep. Variable:</th>     <td>length_of_stay</td>  <th>  R-squared (uncentered):</th>      <td>   0.337</td>\n",
       "</tr>\n",
       "<tr>\n",
       "  <th>Model:</th>                   <td>OLS</td>       <th>  Adj. R-squared (uncentered):</th> <td>   0.336</td>\n",
       "</tr>\n",
       "<tr>\n",
       "  <th>Method:</th>             <td>Least Squares</td>  <th>  F-statistic:       </th>          <td>   345.1</td>\n",
       "</tr>\n",
       "<tr>\n",
       "  <th>Date:</th>             <td>Mon, 26 Apr 2021</td> <th>  Prob (F-statistic):</th>          <td>1.28e-62</td>\n",
       "</tr>\n",
       "<tr>\n",
       "  <th>Time:</th>                 <td>17:08:09</td>     <th>  Log-Likelihood:    </th>          <td> -2930.5</td>\n",
       "</tr>\n",
       "<tr>\n",
       "  <th>No. Observations:</th>      <td>   681</td>      <th>  AIC:               </th>          <td>   5863.</td>\n",
       "</tr>\n",
       "<tr>\n",
       "  <th>Df Residuals:</th>          <td>   680</td>      <th>  BIC:               </th>          <td>   5868.</td>\n",
       "</tr>\n",
       "<tr>\n",
       "  <th>Df Model:</th>              <td>     1</td>      <th>                     </th>              <td> </td>   \n",
       "</tr>\n",
       "<tr>\n",
       "  <th>Covariance Type:</th>      <td>nonrobust</td>    <th>                     </th>              <td> </td>   \n",
       "</tr>\n",
       "</table>\n",
       "<table class=\"simpletable\">\n",
       "<tr>\n",
       "       <td></td>          <th>coef</th>     <th>std err</th>      <th>t</th>      <th>P>|t|</th>  <th>[0.025</th>    <th>0.975]</th>  \n",
       "</tr>\n",
       "<tr>\n",
       "  <th>qSOFA_score</th> <td>   11.1002</td> <td>    0.597</td> <td>   18.578</td> <td> 0.000</td> <td>    9.927</td> <td>   12.273</td>\n",
       "</tr>\n",
       "</table>\n",
       "<table class=\"simpletable\">\n",
       "<tr>\n",
       "  <th>Omnibus:</th>       <td>225.571</td> <th>  Durbin-Watson:     </th> <td>   1.755</td> \n",
       "</tr>\n",
       "<tr>\n",
       "  <th>Prob(Omnibus):</th> <td> 0.000</td>  <th>  Jarque-Bera (JB):  </th> <td> 840.156</td> \n",
       "</tr>\n",
       "<tr>\n",
       "  <th>Skew:</th>          <td> 1.525</td>  <th>  Prob(JB):          </th> <td>3.65e-183</td>\n",
       "</tr>\n",
       "<tr>\n",
       "  <th>Kurtosis:</th>      <td> 7.507</td>  <th>  Cond. No.          </th> <td>    1.00</td> \n",
       "</tr>\n",
       "</table><br/><br/>Warnings:<br/>[1] Standard Errors assume that the covariance matrix of the errors is correctly specified."
      ],
      "text/plain": [
       "<class 'statsmodels.iolib.summary.Summary'>\n",
       "\"\"\"\n",
       "                                 OLS Regression Results                                \n",
       "=======================================================================================\n",
       "Dep. Variable:         length_of_stay   R-squared (uncentered):                   0.337\n",
       "Model:                            OLS   Adj. R-squared (uncentered):              0.336\n",
       "Method:                 Least Squares   F-statistic:                              345.1\n",
       "Date:                Mon, 26 Apr 2021   Prob (F-statistic):                    1.28e-62\n",
       "Time:                        17:08:09   Log-Likelihood:                         -2930.5\n",
       "No. Observations:                 681   AIC:                                      5863.\n",
       "Df Residuals:                     680   BIC:                                      5868.\n",
       "Df Model:                           1                                                  \n",
       "Covariance Type:            nonrobust                                                  \n",
       "===============================================================================\n",
       "                  coef    std err          t      P>|t|      [0.025      0.975]\n",
       "-------------------------------------------------------------------------------\n",
       "qSOFA_score    11.1002      0.597     18.578      0.000       9.927      12.273\n",
       "==============================================================================\n",
       "Omnibus:                      225.571   Durbin-Watson:                   1.755\n",
       "Prob(Omnibus):                  0.000   Jarque-Bera (JB):              840.156\n",
       "Skew:                           1.525   Prob(JB):                    3.65e-183\n",
       "Kurtosis:                       7.507   Cond. No.                         1.00\n",
       "==============================================================================\n",
       "\n",
       "Warnings:\n",
       "[1] Standard Errors assume that the covariance matrix of the errors is correctly specified.\n",
       "\"\"\""
      ]
     },
     "execution_count": 93,
     "metadata": {},
     "output_type": "execute_result"
    }
   ],
   "source": [
    "# linear regression model for qSOFA and length of stay\n",
    "model = stats.OLS(temp_df['length_of_stay'], temp_df['qSOFA_score'])\n",
    "res = model.fit()\n",
    "res.summary()"
   ]
  },
  {
   "cell_type": "code",
   "execution_count": 94,
   "metadata": {},
   "outputs": [],
   "source": [
    "# logistiic regression model for qSOFA and vitals on vent\n",
    "X = non_empty[['Creatinine',\n",
    "       'Abs_Lymph', 'AST',\n",
    "       'Diastolic_Blood_Pressure', 'Dosing_Weight_(kg)', 'FiO2/Percent',\n",
    "       'Glasgow_Coma_Score', 'Lymph_Auto',\n",
    "       'Oxygen_Saturation', 'Platelet', 'pO2_Art',\n",
    "       'Respiratory_Rate', 'Systolic_Blood_Pressure', 'WBC',\n",
    "       'Oxygen_Flow_Rate','Mean_Arterial_Pressure', 'heart_pulse_comb', 'temp_oral_degC', 'calc_pulled_BMI', 'qSOFA_score']]\n",
    "\n",
    "y = non_empty['on_vent']\n",
    "\n",
    "X2 = non_empty_length[['Creatinine',\n",
    "       'Abs_Lymph', 'AST',\n",
    "       'Diastolic_Blood_Pressure', 'Dosing_Weight_(kg)', 'FiO2/Percent',\n",
    "       'Glasgow_Coma_Score', 'Lymph_Auto',\n",
    "       'Oxygen_Saturation', 'Platelet', 'pO2_Art',\n",
    "       'Respiratory_Rate', 'Systolic_Blood_Pressure', 'WBC',\n",
    "       'Oxygen_Flow_Rate','Mean_Arterial_Pressure', 'heart_pulse_comb', 'temp_oral_degC', 'calc_pulled_BMI', 'qSOFA_score']]\n",
    "\n",
    "y2 = non_empty_length['length_of_stay']\n"
   ]
  },
  {
   "cell_type": "code",
   "execution_count": 95,
   "metadata": {},
   "outputs": [
    {
     "name": "stdout",
     "output_type": "stream",
     "text": [
      "Optimization terminated successfully.\n",
      "         Current function value: 0.464392\n",
      "         Iterations 7\n"
     ]
    },
    {
     "data": {
      "text/html": [
       "<table class=\"simpletable\">\n",
       "<caption>Logit Regression Results</caption>\n",
       "<tr>\n",
       "  <th>Dep. Variable:</th>        <td>on_vent</td>     <th>  No. Observations:  </th>  <td>   143</td> \n",
       "</tr>\n",
       "<tr>\n",
       "  <th>Model:</th>                 <td>Logit</td>      <th>  Df Residuals:      </th>  <td>   123</td> \n",
       "</tr>\n",
       "<tr>\n",
       "  <th>Method:</th>                 <td>MLE</td>       <th>  Df Model:          </th>  <td>    19</td> \n",
       "</tr>\n",
       "<tr>\n",
       "  <th>Date:</th>            <td>Mon, 26 Apr 2021</td> <th>  Pseudo R-squ.:     </th>  <td>0.1770</td> \n",
       "</tr>\n",
       "<tr>\n",
       "  <th>Time:</th>                <td>17:08:09</td>     <th>  Log-Likelihood:    </th> <td> -66.408</td>\n",
       "</tr>\n",
       "<tr>\n",
       "  <th>converged:</th>             <td>True</td>       <th>  LL-Null:           </th> <td> -80.687</td>\n",
       "</tr>\n",
       "<tr>\n",
       "  <th>Covariance Type:</th>     <td>nonrobust</td>    <th>  LLR p-value:       </th>  <td>0.07325</td>\n",
       "</tr>\n",
       "</table>\n",
       "<table class=\"simpletable\">\n",
       "<tr>\n",
       "              <td></td>                <th>coef</th>     <th>std err</th>      <th>z</th>      <th>P>|z|</th>  <th>[0.025</th>    <th>0.975]</th>  \n",
       "</tr>\n",
       "<tr>\n",
       "  <th>Creatinine</th>               <td>    0.2578</td> <td>    0.211</td> <td>    1.221</td> <td> 0.222</td> <td>   -0.156</td> <td>    0.672</td>\n",
       "</tr>\n",
       "<tr>\n",
       "  <th>Abs_Lymph</th>                <td>   -0.7744</td> <td>    0.699</td> <td>   -1.108</td> <td> 0.268</td> <td>   -2.144</td> <td>    0.595</td>\n",
       "</tr>\n",
       "<tr>\n",
       "  <th>AST</th>                      <td>    0.0013</td> <td>    0.004</td> <td>    0.346</td> <td> 0.730</td> <td>   -0.006</td> <td>    0.009</td>\n",
       "</tr>\n",
       "<tr>\n",
       "  <th>Diastolic_Blood_Pressure</th> <td>   -0.0407</td> <td>    0.031</td> <td>   -1.296</td> <td> 0.195</td> <td>   -0.102</td> <td>    0.021</td>\n",
       "</tr>\n",
       "<tr>\n",
       "  <th>Dosing_Weight_(kg)</th>       <td>    0.0263</td> <td>    0.015</td> <td>    1.703</td> <td> 0.089</td> <td>   -0.004</td> <td>    0.057</td>\n",
       "</tr>\n",
       "<tr>\n",
       "  <th>FiO2/Percent</th>             <td>    0.0094</td> <td>    0.012</td> <td>    0.816</td> <td> 0.414</td> <td>   -0.013</td> <td>    0.032</td>\n",
       "</tr>\n",
       "<tr>\n",
       "  <th>Glasgow_Coma_Score</th>       <td>   -0.1399</td> <td>    0.184</td> <td>   -0.759</td> <td> 0.448</td> <td>   -0.501</td> <td>    0.221</td>\n",
       "</tr>\n",
       "<tr>\n",
       "  <th>Lymph_Auto</th>               <td>    0.0199</td> <td>    0.063</td> <td>    0.317</td> <td> 0.751</td> <td>   -0.103</td> <td>    0.143</td>\n",
       "</tr>\n",
       "<tr>\n",
       "  <th>Oxygen_Saturation</th>        <td>   -0.0314</td> <td>    0.028</td> <td>   -1.109</td> <td> 0.267</td> <td>   -0.087</td> <td>    0.024</td>\n",
       "</tr>\n",
       "<tr>\n",
       "  <th>Platelet</th>                 <td>   -0.0005</td> <td>    0.003</td> <td>   -0.160</td> <td> 0.873</td> <td>   -0.006</td> <td>    0.005</td>\n",
       "</tr>\n",
       "<tr>\n",
       "  <th>pO2_Art</th>                  <td>    0.0038</td> <td>    0.004</td> <td>    0.861</td> <td> 0.389</td> <td>   -0.005</td> <td>    0.013</td>\n",
       "</tr>\n",
       "<tr>\n",
       "  <th>Respiratory_Rate</th>         <td>    0.0233</td> <td>    0.044</td> <td>    0.533</td> <td> 0.594</td> <td>   -0.062</td> <td>    0.109</td>\n",
       "</tr>\n",
       "<tr>\n",
       "  <th>Systolic_Blood_Pressure</th>  <td>   -0.0056</td> <td>    0.017</td> <td>   -0.320</td> <td> 0.749</td> <td>   -0.040</td> <td>    0.029</td>\n",
       "</tr>\n",
       "<tr>\n",
       "  <th>WBC</th>                      <td>    0.1383</td> <td>    0.103</td> <td>    1.337</td> <td> 0.181</td> <td>   -0.064</td> <td>    0.341</td>\n",
       "</tr>\n",
       "<tr>\n",
       "  <th>Oxygen_Flow_Rate</th>         <td>   -0.0035</td> <td>    0.018</td> <td>   -0.189</td> <td> 0.850</td> <td>   -0.040</td> <td>    0.033</td>\n",
       "</tr>\n",
       "<tr>\n",
       "  <th>Mean_Arterial_Pressure</th>   <td>    0.0496</td> <td>    0.038</td> <td>    1.293</td> <td> 0.196</td> <td>   -0.026</td> <td>    0.125</td>\n",
       "</tr>\n",
       "<tr>\n",
       "  <th>heart_pulse_comb</th>         <td>    0.0199</td> <td>    0.014</td> <td>    1.423</td> <td> 0.155</td> <td>   -0.008</td> <td>    0.047</td>\n",
       "</tr>\n",
       "<tr>\n",
       "  <th>temp_oral_degC</th>           <td>   -0.0146</td> <td>    0.129</td> <td>   -0.113</td> <td> 0.910</td> <td>   -0.267</td> <td>    0.238</td>\n",
       "</tr>\n",
       "<tr>\n",
       "  <th>calc_pulled_BMI</th>          <td>   -0.0444</td> <td>    0.040</td> <td>   -1.115</td> <td> 0.265</td> <td>   -0.122</td> <td>    0.034</td>\n",
       "</tr>\n",
       "<tr>\n",
       "  <th>qSOFA_score</th>              <td>    0.3848</td> <td>    0.486</td> <td>    0.791</td> <td> 0.429</td> <td>   -0.569</td> <td>    1.338</td>\n",
       "</tr>\n",
       "</table>"
      ],
      "text/plain": [
       "<class 'statsmodels.iolib.summary.Summary'>\n",
       "\"\"\"\n",
       "                           Logit Regression Results                           \n",
       "==============================================================================\n",
       "Dep. Variable:                on_vent   No. Observations:                  143\n",
       "Model:                          Logit   Df Residuals:                      123\n",
       "Method:                           MLE   Df Model:                           19\n",
       "Date:                Mon, 26 Apr 2021   Pseudo R-squ.:                  0.1770\n",
       "Time:                        17:08:09   Log-Likelihood:                -66.408\n",
       "converged:                       True   LL-Null:                       -80.687\n",
       "Covariance Type:            nonrobust   LLR p-value:                   0.07325\n",
       "============================================================================================\n",
       "                               coef    std err          z      P>|z|      [0.025      0.975]\n",
       "--------------------------------------------------------------------------------------------\n",
       "Creatinine                   0.2578      0.211      1.221      0.222      -0.156       0.672\n",
       "Abs_Lymph                   -0.7744      0.699     -1.108      0.268      -2.144       0.595\n",
       "AST                          0.0013      0.004      0.346      0.730      -0.006       0.009\n",
       "Diastolic_Blood_Pressure    -0.0407      0.031     -1.296      0.195      -0.102       0.021\n",
       "Dosing_Weight_(kg)           0.0263      0.015      1.703      0.089      -0.004       0.057\n",
       "FiO2/Percent                 0.0094      0.012      0.816      0.414      -0.013       0.032\n",
       "Glasgow_Coma_Score          -0.1399      0.184     -0.759      0.448      -0.501       0.221\n",
       "Lymph_Auto                   0.0199      0.063      0.317      0.751      -0.103       0.143\n",
       "Oxygen_Saturation           -0.0314      0.028     -1.109      0.267      -0.087       0.024\n",
       "Platelet                    -0.0005      0.003     -0.160      0.873      -0.006       0.005\n",
       "pO2_Art                      0.0038      0.004      0.861      0.389      -0.005       0.013\n",
       "Respiratory_Rate             0.0233      0.044      0.533      0.594      -0.062       0.109\n",
       "Systolic_Blood_Pressure     -0.0056      0.017     -0.320      0.749      -0.040       0.029\n",
       "WBC                          0.1383      0.103      1.337      0.181      -0.064       0.341\n",
       "Oxygen_Flow_Rate            -0.0035      0.018     -0.189      0.850      -0.040       0.033\n",
       "Mean_Arterial_Pressure       0.0496      0.038      1.293      0.196      -0.026       0.125\n",
       "heart_pulse_comb             0.0199      0.014      1.423      0.155      -0.008       0.047\n",
       "temp_oral_degC              -0.0146      0.129     -0.113      0.910      -0.267       0.238\n",
       "calc_pulled_BMI             -0.0444      0.040     -1.115      0.265      -0.122       0.034\n",
       "qSOFA_score                  0.3848      0.486      0.791      0.429      -0.569       1.338\n",
       "============================================================================================\n",
       "\"\"\""
      ]
     },
     "execution_count": 95,
     "metadata": {},
     "output_type": "execute_result"
    }
   ],
   "source": [
    "\n",
    "\n",
    "model = stats.Logit(y, X)\n",
    "res = model.fit()\n",
    "res.summary()"
   ]
  },
  {
   "cell_type": "code",
   "execution_count": 96,
   "metadata": {},
   "outputs": [
    {
     "data": {
      "text/plain": [
       "0.7847871235721704"
      ]
     },
     "execution_count": 96,
     "metadata": {},
     "output_type": "execute_result"
    }
   ],
   "source": [
    "# auc score \n",
    "roc_auc_score(non_empty['on_vent'], res.predict(X))"
   ]
  },
  {
   "cell_type": "code",
   "execution_count": 97,
   "metadata": {},
   "outputs": [
    {
     "data": {
      "text/html": [
       "<table class=\"simpletable\">\n",
       "<caption>OLS Regression Results</caption>\n",
       "<tr>\n",
       "  <th>Dep. Variable:</th>     <td>length_of_stay</td>  <th>  R-squared (uncentered):</th>      <td>   0.727</td>\n",
       "</tr>\n",
       "<tr>\n",
       "  <th>Model:</th>                   <td>OLS</td>       <th>  Adj. R-squared (uncentered):</th> <td>   0.681</td>\n",
       "</tr>\n",
       "<tr>\n",
       "  <th>Method:</th>             <td>Least Squares</td>  <th>  F-statistic:       </th>          <td>   15.97</td>\n",
       "</tr>\n",
       "<tr>\n",
       "  <th>Date:</th>             <td>Mon, 26 Apr 2021</td> <th>  Prob (F-statistic):</th>          <td>5.20e-25</td>\n",
       "</tr>\n",
       "<tr>\n",
       "  <th>Time:</th>                 <td>17:08:09</td>     <th>  Log-Likelihood:    </th>          <td> -582.94</td>\n",
       "</tr>\n",
       "<tr>\n",
       "  <th>No. Observations:</th>      <td>   140</td>      <th>  AIC:               </th>          <td>   1206.</td>\n",
       "</tr>\n",
       "<tr>\n",
       "  <th>Df Residuals:</th>          <td>   120</td>      <th>  BIC:               </th>          <td>   1265.</td>\n",
       "</tr>\n",
       "<tr>\n",
       "  <th>Df Model:</th>              <td>    20</td>      <th>                     </th>              <td> </td>   \n",
       "</tr>\n",
       "<tr>\n",
       "  <th>Covariance Type:</th>      <td>nonrobust</td>    <th>                     </th>              <td> </td>   \n",
       "</tr>\n",
       "</table>\n",
       "<table class=\"simpletable\">\n",
       "<tr>\n",
       "              <td></td>                <th>coef</th>     <th>std err</th>      <th>t</th>      <th>P>|t|</th>  <th>[0.025</th>    <th>0.975]</th>  \n",
       "</tr>\n",
       "<tr>\n",
       "  <th>Creatinine</th>               <td>   -0.6180</td> <td>    1.066</td> <td>   -0.580</td> <td> 0.563</td> <td>   -2.729</td> <td>    1.493</td>\n",
       "</tr>\n",
       "<tr>\n",
       "  <th>Abs_Lymph</th>                <td>   -4.7119</td> <td>    4.298</td> <td>   -1.096</td> <td> 0.275</td> <td>  -13.222</td> <td>    3.798</td>\n",
       "</tr>\n",
       "<tr>\n",
       "  <th>AST</th>                      <td>   -0.0488</td> <td>    0.024</td> <td>   -2.012</td> <td> 0.046</td> <td>   -0.097</td> <td>   -0.001</td>\n",
       "</tr>\n",
       "<tr>\n",
       "  <th>Diastolic_Blood_Pressure</th> <td>   -0.3492</td> <td>    0.227</td> <td>   -1.537</td> <td> 0.127</td> <td>   -0.799</td> <td>    0.101</td>\n",
       "</tr>\n",
       "<tr>\n",
       "  <th>Dosing_Weight_(kg)</th>       <td>   -0.0922</td> <td>    0.098</td> <td>   -0.938</td> <td> 0.350</td> <td>   -0.287</td> <td>    0.102</td>\n",
       "</tr>\n",
       "<tr>\n",
       "  <th>FiO2/Percent</th>             <td>    0.0026</td> <td>    0.074</td> <td>    0.035</td> <td> 0.972</td> <td>   -0.143</td> <td>    0.149</td>\n",
       "</tr>\n",
       "<tr>\n",
       "  <th>Glasgow_Coma_Score</th>       <td>    0.5897</td> <td>    0.694</td> <td>    0.850</td> <td> 0.397</td> <td>   -0.784</td> <td>    1.964</td>\n",
       "</tr>\n",
       "<tr>\n",
       "  <th>Lymph_Auto</th>               <td>    0.2861</td> <td>    0.413</td> <td>    0.692</td> <td> 0.490</td> <td>   -0.533</td> <td>    1.105</td>\n",
       "</tr>\n",
       "<tr>\n",
       "  <th>Oxygen_Saturation</th>        <td>   -0.1435</td> <td>    0.145</td> <td>   -0.987</td> <td> 0.325</td> <td>   -0.431</td> <td>    0.144</td>\n",
       "</tr>\n",
       "<tr>\n",
       "  <th>Platelet</th>                 <td>    0.0132</td> <td>    0.018</td> <td>    0.747</td> <td> 0.456</td> <td>   -0.022</td> <td>    0.048</td>\n",
       "</tr>\n",
       "<tr>\n",
       "  <th>pO2_Art</th>                  <td>   -0.0206</td> <td>    0.029</td> <td>   -0.709</td> <td> 0.480</td> <td>   -0.078</td> <td>    0.037</td>\n",
       "</tr>\n",
       "<tr>\n",
       "  <th>Respiratory_Rate</th>         <td>    0.1116</td> <td>    0.236</td> <td>    0.473</td> <td> 0.637</td> <td>   -0.355</td> <td>    0.578</td>\n",
       "</tr>\n",
       "<tr>\n",
       "  <th>Systolic_Blood_Pressure</th>  <td>   -0.0428</td> <td>    0.121</td> <td>   -0.355</td> <td> 0.723</td> <td>   -0.281</td> <td>    0.196</td>\n",
       "</tr>\n",
       "<tr>\n",
       "  <th>WBC</th>                      <td>    0.2919</td> <td>    0.524</td> <td>    0.557</td> <td> 0.579</td> <td>   -0.746</td> <td>    1.330</td>\n",
       "</tr>\n",
       "<tr>\n",
       "  <th>Oxygen_Flow_Rate</th>         <td>   -0.0385</td> <td>    0.106</td> <td>   -0.364</td> <td> 0.717</td> <td>   -0.248</td> <td>    0.171</td>\n",
       "</tr>\n",
       "<tr>\n",
       "  <th>Mean_Arterial_Pressure</th>   <td>    0.1602</td> <td>    0.289</td> <td>    0.554</td> <td> 0.580</td> <td>   -0.412</td> <td>    0.732</td>\n",
       "</tr>\n",
       "<tr>\n",
       "  <th>heart_pulse_comb</th>         <td>    0.0868</td> <td>    0.089</td> <td>    0.971</td> <td> 0.334</td> <td>   -0.090</td> <td>    0.264</td>\n",
       "</tr>\n",
       "<tr>\n",
       "  <th>temp_oral_degC</th>           <td>    1.0453</td> <td>    0.675</td> <td>    1.549</td> <td> 0.124</td> <td>   -0.290</td> <td>    2.381</td>\n",
       "</tr>\n",
       "<tr>\n",
       "  <th>calc_pulled_BMI</th>          <td>    0.1394</td> <td>    0.279</td> <td>    0.500</td> <td> 0.618</td> <td>   -0.412</td> <td>    0.691</td>\n",
       "</tr>\n",
       "<tr>\n",
       "  <th>qSOFA_score</th>              <td>    1.8064</td> <td>    3.104</td> <td>    0.582</td> <td> 0.562</td> <td>   -4.339</td> <td>    7.952</td>\n",
       "</tr>\n",
       "</table>\n",
       "<table class=\"simpletable\">\n",
       "<tr>\n",
       "  <th>Omnibus:</th>       <td>26.408</td> <th>  Durbin-Watson:     </th> <td>   2.394</td>\n",
       "</tr>\n",
       "<tr>\n",
       "  <th>Prob(Omnibus):</th> <td> 0.000</td> <th>  Jarque-Bera (JB):  </th> <td>  35.483</td>\n",
       "</tr>\n",
       "<tr>\n",
       "  <th>Skew:</th>          <td> 1.054</td> <th>  Prob(JB):          </th> <td>1.97e-08</td>\n",
       "</tr>\n",
       "<tr>\n",
       "  <th>Kurtosis:</th>      <td> 4.280</td> <th>  Cond. No.          </th> <td>1.13e+03</td>\n",
       "</tr>\n",
       "</table><br/><br/>Warnings:<br/>[1] Standard Errors assume that the covariance matrix of the errors is correctly specified.<br/>[2] The condition number is large, 1.13e+03. This might indicate that there are<br/>strong multicollinearity or other numerical problems."
      ],
      "text/plain": [
       "<class 'statsmodels.iolib.summary.Summary'>\n",
       "\"\"\"\n",
       "                                 OLS Regression Results                                \n",
       "=======================================================================================\n",
       "Dep. Variable:         length_of_stay   R-squared (uncentered):                   0.727\n",
       "Model:                            OLS   Adj. R-squared (uncentered):              0.681\n",
       "Method:                 Least Squares   F-statistic:                              15.97\n",
       "Date:                Mon, 26 Apr 2021   Prob (F-statistic):                    5.20e-25\n",
       "Time:                        17:08:09   Log-Likelihood:                         -582.94\n",
       "No. Observations:                 140   AIC:                                      1206.\n",
       "Df Residuals:                     120   BIC:                                      1265.\n",
       "Df Model:                          20                                                  \n",
       "Covariance Type:            nonrobust                                                  \n",
       "============================================================================================\n",
       "                               coef    std err          t      P>|t|      [0.025      0.975]\n",
       "--------------------------------------------------------------------------------------------\n",
       "Creatinine                  -0.6180      1.066     -0.580      0.563      -2.729       1.493\n",
       "Abs_Lymph                   -4.7119      4.298     -1.096      0.275     -13.222       3.798\n",
       "AST                         -0.0488      0.024     -2.012      0.046      -0.097      -0.001\n",
       "Diastolic_Blood_Pressure    -0.3492      0.227     -1.537      0.127      -0.799       0.101\n",
       "Dosing_Weight_(kg)          -0.0922      0.098     -0.938      0.350      -0.287       0.102\n",
       "FiO2/Percent                 0.0026      0.074      0.035      0.972      -0.143       0.149\n",
       "Glasgow_Coma_Score           0.5897      0.694      0.850      0.397      -0.784       1.964\n",
       "Lymph_Auto                   0.2861      0.413      0.692      0.490      -0.533       1.105\n",
       "Oxygen_Saturation           -0.1435      0.145     -0.987      0.325      -0.431       0.144\n",
       "Platelet                     0.0132      0.018      0.747      0.456      -0.022       0.048\n",
       "pO2_Art                     -0.0206      0.029     -0.709      0.480      -0.078       0.037\n",
       "Respiratory_Rate             0.1116      0.236      0.473      0.637      -0.355       0.578\n",
       "Systolic_Blood_Pressure     -0.0428      0.121     -0.355      0.723      -0.281       0.196\n",
       "WBC                          0.2919      0.524      0.557      0.579      -0.746       1.330\n",
       "Oxygen_Flow_Rate            -0.0385      0.106     -0.364      0.717      -0.248       0.171\n",
       "Mean_Arterial_Pressure       0.1602      0.289      0.554      0.580      -0.412       0.732\n",
       "heart_pulse_comb             0.0868      0.089      0.971      0.334      -0.090       0.264\n",
       "temp_oral_degC               1.0453      0.675      1.549      0.124      -0.290       2.381\n",
       "calc_pulled_BMI              0.1394      0.279      0.500      0.618      -0.412       0.691\n",
       "qSOFA_score                  1.8064      3.104      0.582      0.562      -4.339       7.952\n",
       "==============================================================================\n",
       "Omnibus:                       26.408   Durbin-Watson:                   2.394\n",
       "Prob(Omnibus):                  0.000   Jarque-Bera (JB):               35.483\n",
       "Skew:                           1.054   Prob(JB):                     1.97e-08\n",
       "Kurtosis:                       4.280   Cond. No.                     1.13e+03\n",
       "==============================================================================\n",
       "\n",
       "Warnings:\n",
       "[1] Standard Errors assume that the covariance matrix of the errors is correctly specified.\n",
       "[2] The condition number is large, 1.13e+03. This might indicate that there are\n",
       "strong multicollinearity or other numerical problems.\n",
       "\"\"\""
      ]
     },
     "execution_count": 97,
     "metadata": {},
     "output_type": "execute_result"
    }
   ],
   "source": [
    "model = stats.OLS(y2, X2)\n",
    "res = model.fit()\n",
    "res.summary()"
   ]
  },
  {
   "cell_type": "code",
   "execution_count": null,
   "metadata": {},
   "outputs": [],
   "source": []
  }
 ],
 "metadata": {
  "kernelspec": {
   "display_name": "Python 3",
   "language": "python",
   "name": "python3"
  },
  "language_info": {
   "codemirror_mode": {
    "name": "ipython",
    "version": 3
   },
   "file_extension": ".py",
   "mimetype": "text/x-python",
   "name": "python",
   "nbconvert_exporter": "python",
   "pygments_lexer": "ipython3",
   "version": "3.8.5"
  }
 },
 "nbformat": 4,
 "nbformat_minor": 4
}
