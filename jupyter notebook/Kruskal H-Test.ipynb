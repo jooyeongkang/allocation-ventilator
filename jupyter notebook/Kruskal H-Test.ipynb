{
 "cells": [
  {
   "cell_type": "code",
   "execution_count": 1,
   "metadata": {},
   "outputs": [],
   "source": [
    "import os \n",
    "import pandas as pd\n",
    "\n",
    "from pandas_profiling import ProfileReport\n",
    "from pandas_profiling.utils.cache import cache_file\n",
    "from collections import Counter\n",
    "import seaborn as sn\n",
    "\n",
    "import scipy.stats as stats\n",
    "import numpy as np\n",
    "import matplotlib.pyplot as plt"
   ]
  },
  {
   "cell_type": "code",
   "execution_count": 2,
   "metadata": {},
   "outputs": [],
   "source": [
    "box_file_dir = os.path.join(os.getcwd(), \"..\", \"..\", \"Box\")\n",
    "file_path_csv = os.path.join(box_file_dir, \"covid_pts_enc_level_labs_dx_2021-02-02_deid.csv\")"
   ]
  },
  {
   "cell_type": "code",
   "execution_count": 3,
   "metadata": {},
   "outputs": [],
   "source": [
    "df = pd.read_csv(file_path_csv, index_col=False)"
   ]
  },
  {
   "cell_type": "code",
   "execution_count": 4,
   "metadata": {},
   "outputs": [
    {
     "data": {
      "text/plain": [
       "dtype('O')"
      ]
     },
     "execution_count": 4,
     "metadata": {},
     "output_type": "execute_result"
    }
   ],
   "source": [
    "df['zip_cust_table'].dtypes"
   ]
  },
  {
   "cell_type": "code",
   "execution_count": 5,
   "metadata": {},
   "outputs": [
    {
     "data": {
      "text/plain": [
       "admit_dt_tm                object\n",
       "discharge_dt_tm            object\n",
       "facility                   object\n",
       "encounter_type_display     object\n",
       "age_at_admit                int64\n",
       "                           ...   \n",
       "cancer_com_flag            object\n",
       "qSOFA_score               float64\n",
       "deid_empi_encounter        object\n",
       "deid_mrn_encounter          int64\n",
       "deid_fin_encounter          int64\n",
       "Length: 70, dtype: object"
      ]
     },
     "execution_count": 5,
     "metadata": {},
     "output_type": "execute_result"
    }
   ],
   "source": [
    "df.dtypes"
   ]
  },
  {
   "cell_type": "code",
   "execution_count": 6,
   "metadata": {},
   "outputs": [
    {
     "data": {
      "text/plain": [
       "Counter({'White': 2023,\n",
       "         'Black or African American': 242,\n",
       "         'Asian': 27,\n",
       "         'Unknown': 50,\n",
       "         'Other Race': 91,\n",
       "         'American Indian/Alaska Native': 12,\n",
       "         'Decline to Specify': 18,\n",
       "         'Hispanic': 1,\n",
       "         'Native Hawaiian or Other Pacific Islande': 5})"
      ]
     },
     "execution_count": 6,
     "metadata": {},
     "output_type": "execute_result"
    }
   ],
   "source": [
    "Counter(df['race_display'])"
   ]
  },
  {
   "cell_type": "code",
   "execution_count": 7,
   "metadata": {},
   "outputs": [],
   "source": [
    "def latinx(row):\n",
    "    if row.ethnicity_display == 'Hispanic or Latino' and row.race_display == 'White':\n",
    "        return \"Hispanic\"\n",
    "    elif row.ethnicity_display == 'Not Hispanic or Latino' and row.race_display == 'White': \n",
    "        return \"White\"\n",
    "    else:\n",
    "        return row.race_display\n",
    "        "
   ]
  },
  {
   "cell_type": "code",
   "execution_count": 8,
   "metadata": {},
   "outputs": [],
   "source": [
    "df['race_display'] = df.apply(lambda row: latinx(row), axis=1)"
   ]
  },
  {
   "cell_type": "code",
   "execution_count": 9,
   "metadata": {},
   "outputs": [
    {
     "data": {
      "text/plain": [
       "Counter({'Hispanic': 1197,\n",
       "         'Black or African American': 242,\n",
       "         'White': 827,\n",
       "         'Asian': 27,\n",
       "         'Unknown': 50,\n",
       "         'Other Race': 91,\n",
       "         'American Indian/Alaska Native': 12,\n",
       "         'Decline to Specify': 18,\n",
       "         'Native Hawaiian or Other Pacific Islande': 5})"
      ]
     },
     "execution_count": 9,
     "metadata": {},
     "output_type": "execute_result"
    }
   ],
   "source": [
    "Counter(df['race_display'])"
   ]
  },
  {
   "cell_type": "code",
   "execution_count": 10,
   "metadata": {},
   "outputs": [
    {
     "data": {
      "text/plain": [
       "0           Hispanic or Latino\n",
       "1           Hispanic or Latino\n",
       "2       Not Hispanic or Latino\n",
       "3       Not Hispanic or Latino\n",
       "4       Not Hispanic or Latino\n",
       "                 ...          \n",
       "2464                   Unknown\n",
       "2465    Not Hispanic or Latino\n",
       "2466    Not Hispanic or Latino\n",
       "2467        Hispanic or Latino\n",
       "2468                   Unknown\n",
       "Name: ethnicity_display, Length: 2469, dtype: object"
      ]
     },
     "execution_count": 10,
     "metadata": {},
     "output_type": "execute_result"
    }
   ],
   "source": [
    "df['ethnicity_display']"
   ]
  },
  {
   "cell_type": "code",
   "execution_count": 11,
   "metadata": {},
   "outputs": [],
   "source": [
    "zip_df = pd.read_csv('zip_code_data.csv', index_col=False)"
   ]
  },
  {
   "cell_type": "code",
   "execution_count": 12,
   "metadata": {},
   "outputs": [],
   "source": [
    "zip_df['zip_code'] = zip_df.zip_code.apply(lambda x: x.strip('ZCTA5 '))"
   ]
  },
  {
   "cell_type": "code",
   "execution_count": 13,
   "metadata": {},
   "outputs": [
    {
     "data": {
      "text/html": [
       "<div>\n",
       "<style scoped>\n",
       "    .dataframe tbody tr th:only-of-type {\n",
       "        vertical-align: middle;\n",
       "    }\n",
       "\n",
       "    .dataframe tbody tr th {\n",
       "        vertical-align: top;\n",
       "    }\n",
       "\n",
       "    .dataframe thead th {\n",
       "        text-align: right;\n",
       "    }\n",
       "</style>\n",
       "<table border=\"1\" class=\"dataframe\">\n",
       "  <thead>\n",
       "    <tr style=\"text-align: right;\">\n",
       "      <th></th>\n",
       "      <th>zip_code</th>\n",
       "      <th>male_poverty_rate</th>\n",
       "      <th>female_poverty_rate</th>\n",
       "      <th>median_income</th>\n",
       "      <th>mean_income</th>\n",
       "      <th>poverty_rate</th>\n",
       "    </tr>\n",
       "  </thead>\n",
       "  <tbody>\n",
       "    <tr>\n",
       "      <th>0</th>\n",
       "      <td>75001</td>\n",
       "      <td>3.8</td>\n",
       "      <td>11.4</td>\n",
       "      <td>72512</td>\n",
       "      <td>87472</td>\n",
       "      <td>10.9</td>\n",
       "    </tr>\n",
       "    <tr>\n",
       "      <th>1</th>\n",
       "      <td>75002</td>\n",
       "      <td>1.4</td>\n",
       "      <td>5.2</td>\n",
       "      <td>101429</td>\n",
       "      <td>125779</td>\n",
       "      <td>4.9</td>\n",
       "    </tr>\n",
       "    <tr>\n",
       "      <th>2</th>\n",
       "      <td>75006</td>\n",
       "      <td>2.1</td>\n",
       "      <td>12.3</td>\n",
       "      <td>64462</td>\n",
       "      <td>85788</td>\n",
       "      <td>10.8</td>\n",
       "    </tr>\n",
       "    <tr>\n",
       "      <th>3</th>\n",
       "      <td>75007</td>\n",
       "      <td>1.8</td>\n",
       "      <td>6.6</td>\n",
       "      <td>86648</td>\n",
       "      <td>102783</td>\n",
       "      <td>6.7</td>\n",
       "    </tr>\n",
       "    <tr>\n",
       "      <th>4</th>\n",
       "      <td>75009</td>\n",
       "      <td>1.2</td>\n",
       "      <td>6.1</td>\n",
       "      <td>111146</td>\n",
       "      <td>144513</td>\n",
       "      <td>4</td>\n",
       "    </tr>\n",
       "  </tbody>\n",
       "</table>\n",
       "</div>"
      ],
      "text/plain": [
       "  zip_code male_poverty_rate female_poverty_rate median_income mean_income  \\\n",
       "0    75001               3.8                11.4         72512       87472   \n",
       "1    75002               1.4                 5.2        101429      125779   \n",
       "2    75006               2.1                12.3         64462       85788   \n",
       "3    75007               1.8                 6.6         86648      102783   \n",
       "4    75009               1.2                 6.1        111146      144513   \n",
       "\n",
       "  poverty_rate  \n",
       "0         10.9  \n",
       "1          4.9  \n",
       "2         10.8  \n",
       "3          6.7  \n",
       "4            4  "
      ]
     },
     "execution_count": 13,
     "metadata": {},
     "output_type": "execute_result"
    }
   ],
   "source": [
    "zip_df.head()"
   ]
  },
  {
   "cell_type": "code",
   "execution_count": 14,
   "metadata": {},
   "outputs": [
    {
     "data": {
      "text/plain": [
       "Index(['admit_dt_tm', 'discharge_dt_tm', 'facility', 'encounter_type_display',\n",
       "       'age_at_admit', 'gender', 'zip_cust_table', 'ethnicity_display',\n",
       "       'race_display', 'race_eth_comb', 'length_of_stay', 'icd_prim',\n",
       "       'deceased_dt_tm', 'discharge_disposition_display', 'dc_dispo_cat',\n",
       "       'insured_uninsured', 'admit_source', 'arrival_mode',\n",
       "       'vent_hours_summed', 'vent_first_order_start_time',\n",
       "       'vent_last_order_end_time', 'icu_hours_summed', 'icu_first_begin_time',\n",
       "       'icu_last_end_time', 'occupation', 'occ_cat', 'emp_yn', 'Creatinine',\n",
       "       'Abs_Lymph', 'ALT', 'AST', 'Bili_Total', 'D-Dimer',\n",
       "       'Diastolic_Blood_Pressure', 'Dosing_Weight_(kg)', 'FiO2/Percent',\n",
       "       'Glasgow_Coma_Score', 'Lymph_Auto', 'Oxygen_Delivery_Method',\n",
       "       'Oxygen_Saturation', 'Platelet', 'pO2_Art', 'Procalcitonin',\n",
       "       'Respiratory_Rate', 'Systolic_Blood_Pressure', 'Troponin-I', 'WBC',\n",
       "       'Oxygen_Flow_Rate', 'Patient_Smoking_Status', 'Visit_Reason',\n",
       "       'Height_(in)', 'Mean_Arterial_Pressure', 'SARSCOV2', 'SARSCOV2_Source',\n",
       "       'heart_pulse_comb', 'temp_oral_degC', 'calc_pulled_BMI', 'no_dx_data',\n",
       "       'COPD_com_flag', 'asthma_com_flag', 'diabetes_com_flag',\n",
       "       'hypertension_com_flag', 'CAD_com_flag', 'heartfailure_com_flag',\n",
       "       'CKD_com_flag', 'cancer_com_flag', 'qSOFA_score', 'deid_empi_encounter',\n",
       "       'deid_mrn_encounter', 'deid_fin_encounter'],\n",
       "      dtype='object')"
      ]
     },
     "execution_count": 14,
     "metadata": {},
     "output_type": "execute_result"
    }
   ],
   "source": [
    "df.columns"
   ]
  },
  {
   "cell_type": "code",
   "execution_count": 15,
   "metadata": {},
   "outputs": [],
   "source": [
    "icu_df = df[~df['icu_hours_summed'].isnull()]"
   ]
  },
  {
   "cell_type": "code",
   "execution_count": 16,
   "metadata": {},
   "outputs": [],
   "source": [
    "demo_df = icu_df[['zip_cust_table', 'ethnicity_display', 'age_at_admit', 'discharge_disposition_display', 'race_display', 'race_eth_comb', 'heart_pulse_comb', 'temp_oral_degC', 'calc_pulled_BMI', 'no_dx_data',\n",
    "       'COPD_com_flag', 'asthma_com_flag', 'diabetes_com_flag',\n",
    "       'hypertension_com_flag', 'CAD_com_flag', 'heartfailure_com_flag',\n",
    "       'CKD_com_flag', 'cancer_com_flag', 'qSOFA_score' ]]"
   ]
  },
  {
   "cell_type": "code",
   "execution_count": 17,
   "metadata": {},
   "outputs": [],
   "source": [
    "all_df = pd.merge(demo_df, zip_df, left_on='zip_cust_table', right_on='zip_code', how='inner')"
   ]
  },
  {
   "cell_type": "code",
   "execution_count": 18,
   "metadata": {},
   "outputs": [
    {
     "data": {
      "text/plain": [
       "99"
      ]
     },
     "execution_count": 18,
     "metadata": {},
     "output_type": "execute_result"
    }
   ],
   "source": [
    "len(all_df['zip_cust_table'].unique())"
   ]
  },
  {
   "cell_type": "code",
   "execution_count": 19,
   "metadata": {},
   "outputs": [
    {
     "data": {
      "text/plain": [
       "Index(['zip_cust_table', 'ethnicity_display', 'age_at_admit',\n",
       "       'discharge_disposition_display', 'race_display', 'race_eth_comb',\n",
       "       'heart_pulse_comb', 'temp_oral_degC', 'calc_pulled_BMI', 'no_dx_data',\n",
       "       'COPD_com_flag', 'asthma_com_flag', 'diabetes_com_flag',\n",
       "       'hypertension_com_flag', 'CAD_com_flag', 'heartfailure_com_flag',\n",
       "       'CKD_com_flag', 'cancer_com_flag', 'qSOFA_score', 'zip_code',\n",
       "       'male_poverty_rate', 'female_poverty_rate', 'median_income',\n",
       "       'mean_income', 'poverty_rate'],\n",
       "      dtype='object')"
      ]
     },
     "execution_count": 19,
     "metadata": {},
     "output_type": "execute_result"
    }
   ],
   "source": [
    "all_df.columns"
   ]
  },
  {
   "cell_type": "code",
   "execution_count": 20,
   "metadata": {},
   "outputs": [],
   "source": [
    "all_df[['COPD_com_flag', 'asthma_com_flag', 'diabetes_com_flag',\n",
    "       'hypertension_com_flag', 'CAD_com_flag', 'heartfailure_com_flag',\n",
    "       'CKD_com_flag', 'cancer_com_flag']] = all_df[['COPD_com_flag', 'asthma_com_flag', 'diabetes_com_flag',\n",
    "       'hypertension_com_flag', 'CAD_com_flag', 'heartfailure_com_flag',\n",
    "       'CKD_com_flag', 'cancer_com_flag']].fillna(0)"
   ]
  },
  {
   "cell_type": "code",
   "execution_count": 21,
   "metadata": {},
   "outputs": [],
   "source": [
    "all_df[['COPD_com_flag', 'asthma_com_flag', 'diabetes_com_flag',\n",
    "       'hypertension_com_flag', 'CAD_com_flag', 'heartfailure_com_flag',\n",
    "       'CKD_com_flag', 'cancer_com_flag']] = all_df[['COPD_com_flag', 'asthma_com_flag', 'diabetes_com_flag',\n",
    "       'hypertension_com_flag', 'CAD_com_flag', 'heartfailure_com_flag',\n",
    "       'CKD_com_flag', 'cancer_com_flag']].astype(int)"
   ]
  },
  {
   "cell_type": "code",
   "execution_count": 22,
   "metadata": {},
   "outputs": [],
   "source": [
    "def comorbidity_count(row):\n",
    "    count = 0 \n",
    "    \n",
    "    if row.COPD_com_flag == 1:\n",
    "        count += 1 \n",
    "        \n",
    "    if row.asthma_com_flag == 1:\n",
    "        count += 1 \n",
    "        \n",
    "    if row.diabetes_com_flag == 1:\n",
    "        count += 1 \n",
    "        \n",
    "    if row.hypertension_com_flag == 1:\n",
    "        count += 1 \n",
    "        \n",
    "    if row.CAD_com_flag == 1:\n",
    "        count += 1 \n",
    "        \n",
    "    if row.heartfailure_com_flag == 1: \n",
    "        count += 1 \n",
    "        \n",
    "    if row.CKD_com_flag == 1:\n",
    "        count += 1 \n",
    "        \n",
    "    if row.cancer_com_flag == 1:\n",
    "        count += 1 \n",
    "        \n",
    "    return count"
   ]
  },
  {
   "cell_type": "code",
   "execution_count": 23,
   "metadata": {},
   "outputs": [],
   "source": [
    "all_df['total_comorbidities'] = all_df.apply(lambda row: comorbidity_count(row), axis=1)"
   ]
  },
  {
   "cell_type": "code",
   "execution_count": 24,
   "metadata": {},
   "outputs": [
    {
     "data": {
      "text/html": [
       "<div>\n",
       "<style scoped>\n",
       "    .dataframe tbody tr th:only-of-type {\n",
       "        vertical-align: middle;\n",
       "    }\n",
       "\n",
       "    .dataframe tbody tr th {\n",
       "        vertical-align: top;\n",
       "    }\n",
       "\n",
       "    .dataframe thead th {\n",
       "        text-align: right;\n",
       "    }\n",
       "</style>\n",
       "<table border=\"1\" class=\"dataframe\">\n",
       "  <thead>\n",
       "    <tr style=\"text-align: right;\">\n",
       "      <th></th>\n",
       "      <th>zip_cust_table</th>\n",
       "      <th>ethnicity_display</th>\n",
       "      <th>age_at_admit</th>\n",
       "      <th>discharge_disposition_display</th>\n",
       "      <th>race_display</th>\n",
       "      <th>race_eth_comb</th>\n",
       "      <th>heart_pulse_comb</th>\n",
       "      <th>temp_oral_degC</th>\n",
       "      <th>calc_pulled_BMI</th>\n",
       "      <th>no_dx_data</th>\n",
       "      <th>...</th>\n",
       "      <th>CKD_com_flag</th>\n",
       "      <th>cancer_com_flag</th>\n",
       "      <th>qSOFA_score</th>\n",
       "      <th>zip_code</th>\n",
       "      <th>male_poverty_rate</th>\n",
       "      <th>female_poverty_rate</th>\n",
       "      <th>median_income</th>\n",
       "      <th>mean_income</th>\n",
       "      <th>poverty_rate</th>\n",
       "      <th>total_comorbidities</th>\n",
       "    </tr>\n",
       "  </thead>\n",
       "  <tbody>\n",
       "    <tr>\n",
       "      <th>0</th>\n",
       "      <td>78130</td>\n",
       "      <td>Hispanic or Latino</td>\n",
       "      <td>44</td>\n",
       "      <td>Expired</td>\n",
       "      <td>Hispanic</td>\n",
       "      <td>White Hispanic</td>\n",
       "      <td>97.0</td>\n",
       "      <td>NaN</td>\n",
       "      <td>30.620000</td>\n",
       "      <td>False</td>\n",
       "      <td>...</td>\n",
       "      <td>0</td>\n",
       "      <td>0</td>\n",
       "      <td>3.0</td>\n",
       "      <td>78130</td>\n",
       "      <td>1.5</td>\n",
       "      <td>10</td>\n",
       "      <td>65627</td>\n",
       "      <td>84515</td>\n",
       "      <td>9.5</td>\n",
       "      <td>0</td>\n",
       "    </tr>\n",
       "    <tr>\n",
       "      <th>1</th>\n",
       "      <td>78130</td>\n",
       "      <td>Hispanic or Latino</td>\n",
       "      <td>71</td>\n",
       "      <td>Rehab Care</td>\n",
       "      <td>Hispanic</td>\n",
       "      <td>White Hispanic</td>\n",
       "      <td>101.0</td>\n",
       "      <td>37.2</td>\n",
       "      <td>27.760000</td>\n",
       "      <td>False</td>\n",
       "      <td>...</td>\n",
       "      <td>1</td>\n",
       "      <td>0</td>\n",
       "      <td>2.0</td>\n",
       "      <td>78130</td>\n",
       "      <td>1.5</td>\n",
       "      <td>10</td>\n",
       "      <td>65627</td>\n",
       "      <td>84515</td>\n",
       "      <td>9.5</td>\n",
       "      <td>2</td>\n",
       "    </tr>\n",
       "    <tr>\n",
       "      <th>2</th>\n",
       "      <td>78130</td>\n",
       "      <td>Hispanic or Latino</td>\n",
       "      <td>71</td>\n",
       "      <td>Skilled Nursing Care</td>\n",
       "      <td>Hispanic</td>\n",
       "      <td>White Hispanic</td>\n",
       "      <td>98.0</td>\n",
       "      <td>36.9</td>\n",
       "      <td>NaN</td>\n",
       "      <td>False</td>\n",
       "      <td>...</td>\n",
       "      <td>0</td>\n",
       "      <td>0</td>\n",
       "      <td>1.0</td>\n",
       "      <td>78130</td>\n",
       "      <td>1.5</td>\n",
       "      <td>10</td>\n",
       "      <td>65627</td>\n",
       "      <td>84515</td>\n",
       "      <td>9.5</td>\n",
       "      <td>3</td>\n",
       "    </tr>\n",
       "    <tr>\n",
       "      <th>3</th>\n",
       "      <td>78130</td>\n",
       "      <td>Unknown</td>\n",
       "      <td>47</td>\n",
       "      <td>Still a patient</td>\n",
       "      <td>White</td>\n",
       "      <td>White Unknown Ethnicity</td>\n",
       "      <td>98.0</td>\n",
       "      <td>36.7</td>\n",
       "      <td>NaN</td>\n",
       "      <td>False</td>\n",
       "      <td>...</td>\n",
       "      <td>0</td>\n",
       "      <td>0</td>\n",
       "      <td>0.0</td>\n",
       "      <td>78130</td>\n",
       "      <td>1.5</td>\n",
       "      <td>10</td>\n",
       "      <td>65627</td>\n",
       "      <td>84515</td>\n",
       "      <td>9.5</td>\n",
       "      <td>0</td>\n",
       "    </tr>\n",
       "    <tr>\n",
       "      <th>4</th>\n",
       "      <td>78612</td>\n",
       "      <td>Not Hispanic or Latino</td>\n",
       "      <td>49</td>\n",
       "      <td>Home</td>\n",
       "      <td>White</td>\n",
       "      <td>White Non Hispanic</td>\n",
       "      <td>99.0</td>\n",
       "      <td>37.4</td>\n",
       "      <td>44.890000</td>\n",
       "      <td>False</td>\n",
       "      <td>...</td>\n",
       "      <td>0</td>\n",
       "      <td>0</td>\n",
       "      <td>1.0</td>\n",
       "      <td>78612</td>\n",
       "      <td>6.3</td>\n",
       "      <td>10.9</td>\n",
       "      <td>69213</td>\n",
       "      <td>80458</td>\n",
       "      <td>10.6</td>\n",
       "      <td>0</td>\n",
       "    </tr>\n",
       "    <tr>\n",
       "      <th>...</th>\n",
       "      <td>...</td>\n",
       "      <td>...</td>\n",
       "      <td>...</td>\n",
       "      <td>...</td>\n",
       "      <td>...</td>\n",
       "      <td>...</td>\n",
       "      <td>...</td>\n",
       "      <td>...</td>\n",
       "      <td>...</td>\n",
       "      <td>...</td>\n",
       "      <td>...</td>\n",
       "      <td>...</td>\n",
       "      <td>...</td>\n",
       "      <td>...</td>\n",
       "      <td>...</td>\n",
       "      <td>...</td>\n",
       "      <td>...</td>\n",
       "      <td>...</td>\n",
       "      <td>...</td>\n",
       "      <td>...</td>\n",
       "      <td>...</td>\n",
       "    </tr>\n",
       "    <tr>\n",
       "      <th>671</th>\n",
       "      <td>78207</td>\n",
       "      <td>Not Hispanic or Latino</td>\n",
       "      <td>5</td>\n",
       "      <td>Expired</td>\n",
       "      <td>Black or African American</td>\n",
       "      <td>Other race Non Hispanic</td>\n",
       "      <td>122.0</td>\n",
       "      <td>NaN</td>\n",
       "      <td>18.312818</td>\n",
       "      <td>False</td>\n",
       "      <td>...</td>\n",
       "      <td>0</td>\n",
       "      <td>0</td>\n",
       "      <td>NaN</td>\n",
       "      <td>78207</td>\n",
       "      <td>3.1</td>\n",
       "      <td>44.2</td>\n",
       "      <td>27205</td>\n",
       "      <td>37257</td>\n",
       "      <td>38.7</td>\n",
       "      <td>0</td>\n",
       "    </tr>\n",
       "    <tr>\n",
       "      <th>672</th>\n",
       "      <td>79762</td>\n",
       "      <td>Hispanic or Latino</td>\n",
       "      <td>42</td>\n",
       "      <td>Home</td>\n",
       "      <td>Other Race</td>\n",
       "      <td>Other Race Hispanic</td>\n",
       "      <td>91.0</td>\n",
       "      <td>36.9</td>\n",
       "      <td>49.153355</td>\n",
       "      <td>False</td>\n",
       "      <td>...</td>\n",
       "      <td>0</td>\n",
       "      <td>0</td>\n",
       "      <td>0.0</td>\n",
       "      <td>79762</td>\n",
       "      <td>2</td>\n",
       "      <td>9.5</td>\n",
       "      <td>66584</td>\n",
       "      <td>88737</td>\n",
       "      <td>9.1</td>\n",
       "      <td>0</td>\n",
       "    </tr>\n",
       "    <tr>\n",
       "      <th>673</th>\n",
       "      <td>78132</td>\n",
       "      <td>Not Hispanic or Latino</td>\n",
       "      <td>22</td>\n",
       "      <td>Home</td>\n",
       "      <td>White</td>\n",
       "      <td>White Non Hispanic</td>\n",
       "      <td>87.0</td>\n",
       "      <td>37.4</td>\n",
       "      <td>19.280000</td>\n",
       "      <td>False</td>\n",
       "      <td>...</td>\n",
       "      <td>0</td>\n",
       "      <td>0</td>\n",
       "      <td>1.0</td>\n",
       "      <td>78132</td>\n",
       "      <td>2</td>\n",
       "      <td>4.2</td>\n",
       "      <td>106523</td>\n",
       "      <td>135706</td>\n",
       "      <td>3.9</td>\n",
       "      <td>0</td>\n",
       "    </tr>\n",
       "    <tr>\n",
       "      <th>674</th>\n",
       "      <td>76527</td>\n",
       "      <td>Unknown</td>\n",
       "      <td>51</td>\n",
       "      <td>Home</td>\n",
       "      <td>White</td>\n",
       "      <td>White Unknown Ethnicity</td>\n",
       "      <td>88.0</td>\n",
       "      <td>37.7</td>\n",
       "      <td>33.163386</td>\n",
       "      <td>False</td>\n",
       "      <td>...</td>\n",
       "      <td>0</td>\n",
       "      <td>0</td>\n",
       "      <td>1.0</td>\n",
       "      <td>76527</td>\n",
       "      <td>6.2</td>\n",
       "      <td>14</td>\n",
       "      <td>54940</td>\n",
       "      <td>80699</td>\n",
       "      <td>13.6</td>\n",
       "      <td>3</td>\n",
       "    </tr>\n",
       "    <tr>\n",
       "      <th>675</th>\n",
       "      <td>78609</td>\n",
       "      <td>Not Hispanic or Latino</td>\n",
       "      <td>59</td>\n",
       "      <td>NaN</td>\n",
       "      <td>White</td>\n",
       "      <td>White Non Hispanic</td>\n",
       "      <td>102.0</td>\n",
       "      <td>36.4</td>\n",
       "      <td>NaN</td>\n",
       "      <td>False</td>\n",
       "      <td>...</td>\n",
       "      <td>0</td>\n",
       "      <td>1</td>\n",
       "      <td>0.0</td>\n",
       "      <td>78609</td>\n",
       "      <td>5</td>\n",
       "      <td>10.8</td>\n",
       "      <td>55221</td>\n",
       "      <td>78640</td>\n",
       "      <td>9.8</td>\n",
       "      <td>3</td>\n",
       "    </tr>\n",
       "  </tbody>\n",
       "</table>\n",
       "<p>676 rows × 26 columns</p>\n",
       "</div>"
      ],
      "text/plain": [
       "    zip_cust_table       ethnicity_display  age_at_admit  \\\n",
       "0            78130      Hispanic or Latino            44   \n",
       "1            78130      Hispanic or Latino            71   \n",
       "2            78130      Hispanic or Latino            71   \n",
       "3            78130                 Unknown            47   \n",
       "4            78612  Not Hispanic or Latino            49   \n",
       "..             ...                     ...           ...   \n",
       "671          78207  Not Hispanic or Latino             5   \n",
       "672          79762      Hispanic or Latino            42   \n",
       "673          78132  Not Hispanic or Latino            22   \n",
       "674          76527                 Unknown            51   \n",
       "675          78609  Not Hispanic or Latino            59   \n",
       "\n",
       "    discharge_disposition_display               race_display  \\\n",
       "0                         Expired                   Hispanic   \n",
       "1                      Rehab Care                   Hispanic   \n",
       "2            Skilled Nursing Care                   Hispanic   \n",
       "3                 Still a patient                      White   \n",
       "4                            Home                      White   \n",
       "..                            ...                        ...   \n",
       "671                       Expired  Black or African American   \n",
       "672                          Home                 Other Race   \n",
       "673                          Home                      White   \n",
       "674                          Home                      White   \n",
       "675                           NaN                      White   \n",
       "\n",
       "               race_eth_comb  heart_pulse_comb  temp_oral_degC  \\\n",
       "0             White Hispanic              97.0             NaN   \n",
       "1             White Hispanic             101.0            37.2   \n",
       "2             White Hispanic              98.0            36.9   \n",
       "3    White Unknown Ethnicity              98.0            36.7   \n",
       "4         White Non Hispanic              99.0            37.4   \n",
       "..                       ...               ...             ...   \n",
       "671  Other race Non Hispanic             122.0             NaN   \n",
       "672      Other Race Hispanic              91.0            36.9   \n",
       "673       White Non Hispanic              87.0            37.4   \n",
       "674  White Unknown Ethnicity              88.0            37.7   \n",
       "675       White Non Hispanic             102.0            36.4   \n",
       "\n",
       "     calc_pulled_BMI  no_dx_data  ...  CKD_com_flag  cancer_com_flag  \\\n",
       "0          30.620000       False  ...             0                0   \n",
       "1          27.760000       False  ...             1                0   \n",
       "2                NaN       False  ...             0                0   \n",
       "3                NaN       False  ...             0                0   \n",
       "4          44.890000       False  ...             0                0   \n",
       "..               ...         ...  ...           ...              ...   \n",
       "671        18.312818       False  ...             0                0   \n",
       "672        49.153355       False  ...             0                0   \n",
       "673        19.280000       False  ...             0                0   \n",
       "674        33.163386       False  ...             0                0   \n",
       "675              NaN       False  ...             0                1   \n",
       "\n",
       "     qSOFA_score  zip_code  male_poverty_rate  female_poverty_rate  \\\n",
       "0            3.0     78130                1.5                   10   \n",
       "1            2.0     78130                1.5                   10   \n",
       "2            1.0     78130                1.5                   10   \n",
       "3            0.0     78130                1.5                   10   \n",
       "4            1.0     78612                6.3                 10.9   \n",
       "..           ...       ...                ...                  ...   \n",
       "671          NaN     78207                3.1                 44.2   \n",
       "672          0.0     79762                  2                  9.5   \n",
       "673          1.0     78132                  2                  4.2   \n",
       "674          1.0     76527                6.2                   14   \n",
       "675          0.0     78609                  5                 10.8   \n",
       "\n",
       "     median_income  mean_income  poverty_rate total_comorbidities  \n",
       "0            65627        84515           9.5                   0  \n",
       "1            65627        84515           9.5                   2  \n",
       "2            65627        84515           9.5                   3  \n",
       "3            65627        84515           9.5                   0  \n",
       "4            69213        80458          10.6                   0  \n",
       "..             ...          ...           ...                 ...  \n",
       "671          27205        37257          38.7                   0  \n",
       "672          66584        88737           9.1                   0  \n",
       "673         106523       135706           3.9                   0  \n",
       "674          54940        80699          13.6                   3  \n",
       "675          55221        78640           9.8                   3  \n",
       "\n",
       "[676 rows x 26 columns]"
      ]
     },
     "execution_count": 24,
     "metadata": {},
     "output_type": "execute_result"
    }
   ],
   "source": [
    "all_df"
   ]
  },
  {
   "cell_type": "code",
   "execution_count": 25,
   "metadata": {},
   "outputs": [],
   "source": [
    "all_df['has_comorbidity'] = all_df.total_comorbidities.apply(lambda x: 1 if x >= 1 else 0)\n",
    "all_df['death'] = all_df.discharge_disposition_display.apply(lambda x: 1 if x == 'Expired' else 0)"
   ]
  },
  {
   "cell_type": "code",
   "execution_count": 26,
   "metadata": {},
   "outputs": [
    {
     "data": {
      "text/plain": [
       "Counter({'Hispanic': 342,\n",
       "         'White': 226,\n",
       "         'Other Race': 26,\n",
       "         'Decline to Specify': 4,\n",
       "         'Black or African American': 53,\n",
       "         'American Indian/Alaska Native': 4,\n",
       "         'Asian': 5,\n",
       "         'Unknown': 15,\n",
       "         'Native Hawaiian or Other Pacific Islande': 1})"
      ]
     },
     "execution_count": 26,
     "metadata": {},
     "output_type": "execute_result"
    }
   ],
   "source": [
    "Counter(all_df['race_display'])"
   ]
  },
  {
   "cell_type": "code",
   "execution_count": 27,
   "metadata": {},
   "outputs": [],
   "source": [
    "temp_df = all_df[~all_df['qSOFA_score'].isnull()]"
   ]
  },
  {
   "cell_type": "markdown",
   "metadata": {},
   "source": [
    "## Race"
   ]
  },
  {
   "cell_type": "code",
   "execution_count": 28,
   "metadata": {},
   "outputs": [
    {
     "data": {
      "text/plain": [
       "KruskalResult(statistic=20.81544413380237, pvalue=0.0019800496501617523)"
      ]
     },
     "execution_count": 28,
     "metadata": {},
     "output_type": "execute_result"
    }
   ],
   "source": [
    "# H-Test to test if racial group means are statistically different against average prediction of death\n",
    "stats.kruskal(all_df['death'][all_df['race_display'] == 'Hispanic'],\n",
    "               all_df['death'][all_df['race_display'] == 'White'],\n",
    "               all_df['death'][all_df['race_display'] == 'Other Race'],\n",
    "               all_df['death'][all_df['race_display'] == 'Decline to Specify'],\n",
    "               all_df['death'][all_df['race_display'] == 'Black or African American'],\n",
    "               all_df['death'][all_df['race_display'] == 'Asian'],\n",
    "               all_df['death'][all_df['race_display'] == 'Unknown'],              \n",
    "               )"
   ]
  },
  {
   "cell_type": "code",
   "execution_count": 29,
   "metadata": {},
   "outputs": [
    {
     "data": {
      "text/plain": [
       "KruskalResult(statistic=16.011796889041392, pvalue=0.013690788958323891)"
      ]
     },
     "execution_count": 29,
     "metadata": {},
     "output_type": "execute_result"
    }
   ],
   "source": [
    "# H-Test to test if racial group means are statistically different against average prediction of qSOFA_score\n",
    "stats.kruskal(temp_df['qSOFA_score'][temp_df['race_display'] == 'Hispanic'],\n",
    "               temp_df['qSOFA_score'][temp_df['race_display'] == 'White'],\n",
    "               temp_df['qSOFA_score'][temp_df['race_display'] == 'Other Race'],\n",
    "               temp_df['qSOFA_score'][temp_df['race_display'] == 'Decline to Specify'],\n",
    "               temp_df['qSOFA_score'][temp_df['race_display'] == 'Black or African American'],\n",
    "               temp_df['qSOFA_score'][temp_df['race_display'] == 'Asian'],\n",
    "               temp_df['qSOFA_score'][temp_df['race_display'] == 'Unknown'],              \n",
    "               )"
   ]
  },
  {
   "cell_type": "code",
   "execution_count": 30,
   "metadata": {},
   "outputs": [
    {
     "name": "stdout",
     "output_type": "stream",
     "text": [
      "0.9395770392749244\n",
      "0.9166666666666666\n",
      "0.4\n",
      "1.0588235294117647\n"
     ]
    }
   ],
   "source": [
    "# Means for qSOFA\n",
    "print(temp_df['qSOFA_score'][temp_df['race_display'] == 'Hispanic'].mean())\n",
    "print(temp_df['qSOFA_score'][temp_df['race_display'] == 'White'].mean())\n",
    "print(temp_df['qSOFA_score'][temp_df['race_display'] == 'Asian'].mean())\n",
    "print(temp_df['qSOFA_score'][temp_df['race_display'] == 'Black or African American'].mean())"
   ]
  },
  {
   "cell_type": "code",
   "execution_count": 31,
   "metadata": {},
   "outputs": [
    {
     "data": {
      "text/plain": [
       "KruskalResult(statistic=12.37936907021303, pvalue=0.054021327631416635)"
      ]
     },
     "execution_count": 31,
     "metadata": {},
     "output_type": "execute_result"
    }
   ],
   "source": [
    "# H-Test to test if racial group means are statistically different against average prediction of total_comorbidities \n",
    "stats.kruskal(all_df['total_comorbidities'][all_df['race_display'] == 'Hispanic'],\n",
    "               all_df['total_comorbidities'][all_df['race_display'] == 'White'],\n",
    "               all_df['total_comorbidities'][all_df['race_display'] == 'Other Race'],\n",
    "               all_df['total_comorbidities'][all_df['race_display'] == 'Decline to Specify'],\n",
    "               all_df['total_comorbidities'][all_df['race_display'] == 'Black or African American'],\n",
    "               all_df['total_comorbidities'][all_df['race_display'] == 'Asian'],\n",
    "               all_df['total_comorbidities'][all_df['race_display'] == 'Unknown'],              \n",
    "               )"
   ]
  },
  {
   "cell_type": "code",
   "execution_count": 32,
   "metadata": {},
   "outputs": [
    {
     "data": {
      "text/plain": [
       "KruskalResult(statistic=6.786705746255251, pvalue=0.3410238570614818)"
      ]
     },
     "execution_count": 32,
     "metadata": {},
     "output_type": "execute_result"
    }
   ],
   "source": [
    "# H-Test to test if racial group means are statistically different against average prediction of has_comorbidities \n",
    "stats.kruskal(all_df['has_comorbidity'][all_df['race_display'] == 'Hispanic'],\n",
    "               all_df['has_comorbidity'][all_df['race_display'] == 'White'],\n",
    "               all_df['has_comorbidity'][all_df['race_display'] == 'Other Race'],\n",
    "               all_df['has_comorbidity'][all_df['race_display'] == 'Decline to Specify'],\n",
    "               all_df['has_comorbidity'][all_df['race_display'] == 'Black or African American'],\n",
    "               all_df['has_comorbidity'][all_df['race_display'] == 'Asian'],\n",
    "               all_df['has_comorbidity'][all_df['race_display'] == 'Unknown'],              \n",
    "               )"
   ]
  },
  {
   "cell_type": "code",
   "execution_count": 33,
   "metadata": {},
   "outputs": [
    {
     "data": {
      "text/plain": [
       "KruskalResult(statistic=15.541128357125427, pvalue=0.016440741000557372)"
      ]
     },
     "execution_count": 33,
     "metadata": {},
     "output_type": "execute_result"
    }
   ],
   "source": [
    "stats.kruskal(all_df['age_at_admit'][all_df['race_display'] == 'Hispanic'],\n",
    "               all_df['age_at_admit'][all_df['race_display'] == 'White'],\n",
    "               all_df['age_at_admit'][all_df['race_display'] == 'Other Race'],\n",
    "               all_df['age_at_admit'][all_df['race_display'] == 'Decline to Specify'],\n",
    "               all_df['age_at_admit'][all_df['race_display'] == 'Black or African American'],\n",
    "               all_df['age_at_admit'][all_df['race_display'] == 'Asian'],\n",
    "               all_df['age_at_admit'][all_df['race_display'] == 'Unknown'],              \n",
    "               )"
   ]
  },
  {
   "cell_type": "code",
   "execution_count": 34,
   "metadata": {},
   "outputs": [
    {
     "data": {
      "text/plain": [
       "KruskalResult(statistic=24.215337710829054, pvalue=0.0004767026562436333)"
      ]
     },
     "execution_count": 34,
     "metadata": {},
     "output_type": "execute_result"
    }
   ],
   "source": [
    "stats.kruskal(all_df['COPD_com_flag'][all_df['race_display'] == 'Hispanic'],\n",
    "               all_df['COPD_com_flag'][all_df['race_display'] == 'White'],\n",
    "               all_df['COPD_com_flag'][all_df['race_display'] == 'Other Race'],\n",
    "               all_df['COPD_com_flag'][all_df['race_display'] == 'Decline to Specify'],\n",
    "               all_df['COPD_com_flag'][all_df['race_display'] == 'Black or African American'],\n",
    "               all_df['COPD_com_flag'][all_df['race_display'] == 'Asian'],\n",
    "               all_df['COPD_com_flag'][all_df['race_display'] == 'Unknown'],              \n",
    "               )"
   ]
  },
  {
   "cell_type": "code",
   "execution_count": 35,
   "metadata": {},
   "outputs": [
    {
     "data": {
      "text/plain": [
       "KruskalResult(statistic=2.977168606676161, pvalue=0.8117069144658652)"
      ]
     },
     "execution_count": 35,
     "metadata": {},
     "output_type": "execute_result"
    }
   ],
   "source": [
    "\n",
    "stats.kruskal(all_df['asthma_com_flag'][all_df['race_display'] == 'Hispanic'],\n",
    "               all_df['asthma_com_flag'][all_df['race_display'] == 'White'],\n",
    "               all_df['asthma_com_flag'][all_df['race_display'] == 'Other Race'],\n",
    "               all_df['asthma_com_flag'][all_df['race_display'] == 'Decline to Specify'],\n",
    "               all_df['asthma_com_flag'][all_df['race_display'] == 'Black or African American'],\n",
    "               all_df['asthma_com_flag'][all_df['race_display'] == 'Asian'],\n",
    "               all_df['asthma_com_flag'][all_df['race_display'] == 'Unknown'],              \n",
    "               )"
   ]
  },
  {
   "cell_type": "code",
   "execution_count": 36,
   "metadata": {},
   "outputs": [
    {
     "data": {
      "text/plain": [
       "KruskalResult(statistic=10.730366556501991, pvalue=0.09707589281200577)"
      ]
     },
     "execution_count": 36,
     "metadata": {},
     "output_type": "execute_result"
    }
   ],
   "source": [
    "stats.kruskal(all_df['diabetes_com_flag'][all_df['race_display'] == 'Hispanic'],\n",
    "               all_df['diabetes_com_flag'][all_df['race_display'] == 'White'],\n",
    "               all_df['diabetes_com_flag'][all_df['race_display'] == 'Other Race'],\n",
    "               all_df['diabetes_com_flag'][all_df['race_display'] == 'Decline to Specify'],\n",
    "               all_df['diabetes_com_flag'][all_df['race_display'] == 'Black or African American'],\n",
    "               all_df['diabetes_com_flag'][all_df['race_display'] == 'Asian'],\n",
    "               all_df['diabetes_com_flag'][all_df['race_display'] == 'Unknown'],              \n",
    "               )"
   ]
  },
  {
   "cell_type": "code",
   "execution_count": 37,
   "metadata": {},
   "outputs": [
    {
     "data": {
      "text/plain": [
       "KruskalResult(statistic=13.64358671299326, pvalue=0.033881034538052794)"
      ]
     },
     "execution_count": 37,
     "metadata": {},
     "output_type": "execute_result"
    }
   ],
   "source": [
    "stats.kruskal(all_df['hypertension_com_flag'][all_df['race_display'] == 'Hispanic'],\n",
    "               all_df['hypertension_com_flag'][all_df['race_display'] == 'White'],\n",
    "               all_df['hypertension_com_flag'][all_df['race_display'] == 'Other Race'],\n",
    "               all_df['hypertension_com_flag'][all_df['race_display'] == 'Decline to Specify'],\n",
    "               all_df['hypertension_com_flag'][all_df['race_display'] == 'Black or African American'],\n",
    "               all_df['hypertension_com_flag'][all_df['race_display'] == 'Asian'],\n",
    "               all_df['hypertension_com_flag'][all_df['race_display'] == 'Unknown'],              \n",
    "               )"
   ]
  },
  {
   "cell_type": "code",
   "execution_count": 38,
   "metadata": {},
   "outputs": [
    {
     "data": {
      "text/plain": [
       "KruskalResult(statistic=16.115331764078974, pvalue=0.013148141607662759)"
      ]
     },
     "execution_count": 38,
     "metadata": {},
     "output_type": "execute_result"
    }
   ],
   "source": [
    "stats.kruskal(all_df['CAD_com_flag'][all_df['race_display'] == 'Hispanic'],\n",
    "               all_df['CAD_com_flag'][all_df['race_display'] == 'White'],\n",
    "               all_df['CAD_com_flag'][all_df['race_display'] == 'Other Race'],\n",
    "               all_df['CAD_com_flag'][all_df['race_display'] == 'Decline to Specify'],\n",
    "               all_df['CAD_com_flag'][all_df['race_display'] == 'Black or African American'],\n",
    "               all_df['CAD_com_flag'][all_df['race_display'] == 'Asian'],\n",
    "               all_df['CAD_com_flag'][all_df['race_display'] == 'Unknown'],              \n",
    "               )"
   ]
  },
  {
   "cell_type": "code",
   "execution_count": 39,
   "metadata": {},
   "outputs": [
    {
     "data": {
      "text/plain": [
       "KruskalResult(statistic=10.6415314745222, pvalue=0.10010753435214559)"
      ]
     },
     "execution_count": 39,
     "metadata": {},
     "output_type": "execute_result"
    }
   ],
   "source": [
    "stats.kruskal(all_df['heartfailure_com_flag'][all_df['race_display'] == 'Hispanic'],\n",
    "               all_df['heartfailure_com_flag'][all_df['race_display'] == 'White'],\n",
    "               all_df['heartfailure_com_flag'][all_df['race_display'] == 'Other Race'],\n",
    "               all_df['heartfailure_com_flag'][all_df['race_display'] == 'Decline to Specify'],\n",
    "               all_df['heartfailure_com_flag'][all_df['race_display'] == 'Black or African American'],\n",
    "               all_df['heartfailure_com_flag'][all_df['race_display'] == 'Asian'],\n",
    "               all_df['heartfailure_com_flag'][all_df['race_display'] == 'Unknown'],              \n",
    "               )"
   ]
  },
  {
   "cell_type": "code",
   "execution_count": 40,
   "metadata": {},
   "outputs": [
    {
     "data": {
      "text/plain": [
       "KruskalResult(statistic=37.026473993973525, pvalue=1.7400873812220481e-06)"
      ]
     },
     "execution_count": 40,
     "metadata": {},
     "output_type": "execute_result"
    }
   ],
   "source": [
    "\n",
    "stats.kruskal(all_df['CKD_com_flag'][all_df['race_display'] == 'Hispanic'],\n",
    "               all_df['CKD_com_flag'][all_df['race_display'] == 'White'],\n",
    "               all_df['CKD_com_flag'][all_df['race_display'] == 'Other Race'],\n",
    "               all_df['CKD_com_flag'][all_df['race_display'] == 'Decline to Specify'],\n",
    "               all_df['CKD_com_flag'][all_df['race_display'] == 'Black or African American'],\n",
    "               all_df['CKD_com_flag'][all_df['race_display'] == 'Asian'],\n",
    "               all_df['CKD_com_flag'][all_df['race_display'] == 'Unknown'],              \n",
    "               )"
   ]
  },
  {
   "cell_type": "code",
   "execution_count": 41,
   "metadata": {},
   "outputs": [
    {
     "data": {
      "text/plain": [
       "KruskalResult(statistic=3.1499691192727175, pvalue=0.7898024677065297)"
      ]
     },
     "execution_count": 41,
     "metadata": {},
     "output_type": "execute_result"
    }
   ],
   "source": [
    "\n",
    "stats.kruskal(all_df['cancer_com_flag'][all_df['race_display'] == 'Hispanic'],\n",
    "               all_df['cancer_com_flag'][all_df['race_display'] == 'White'],\n",
    "               all_df['cancer_com_flag'][all_df['race_display'] == 'Other Race'],\n",
    "               all_df['cancer_com_flag'][all_df['race_display'] == 'Decline to Specify'],\n",
    "               all_df['cancer_com_flag'][all_df['race_display'] == 'Black or African American'],\n",
    "               all_df['cancer_com_flag'][all_df['race_display'] == 'Asian'],\n",
    "               all_df['cancer_com_flag'][all_df['race_display'] == 'Unknown'],              \n",
    "               )"
   ]
  },
  {
   "cell_type": "markdown",
   "metadata": {},
   "source": [
    "## Age"
   ]
  },
  {
   "cell_type": "code",
   "execution_count": 42,
   "metadata": {},
   "outputs": [
    {
     "name": "stderr",
     "output_type": "stream",
     "text": [
      "/home/joel/anaconda3/lib/python3.7/site-packages/ipykernel_launcher.py:6: SettingWithCopyWarning: \n",
      "A value is trying to be set on a copy of a slice from a DataFrame.\n",
      "Try using .loc[row_indexer,col_indexer] = value instead\n",
      "\n",
      "See the caveats in the documentation: https://pandas.pydata.org/pandas-docs/stable/user_guide/indexing.html#returning-a-view-versus-a-copy\n",
      "  \n"
     ]
    }
   ],
   "source": [
    "import numpy as np\n",
    "\n",
    "bins = [0, 1, 5, 15,25,35,45,55,65,75, 85]\n",
    "bin_conv = [i+1 for i in range(len(bins))]\n",
    "all_df['age_binned'] = np.searchsorted(bins, all_df['age_at_admit'].values)\n",
    "temp_df['age_binned'] = np.searchsorted(bins, temp_df['age_at_admit'].values)"
   ]
  },
  {
   "cell_type": "code",
   "execution_count": 43,
   "metadata": {},
   "outputs": [
    {
     "data": {
      "text/plain": [
       "[0, 2, 3, 4, 5, 6, 7, 8, 9, 10, 11]"
      ]
     },
     "execution_count": 43,
     "metadata": {},
     "output_type": "execute_result"
    }
   ],
   "source": [
    "sorted(all_df['age_binned'].unique())"
   ]
  },
  {
   "cell_type": "code",
   "execution_count": 44,
   "metadata": {},
   "outputs": [
    {
     "data": {
      "text/plain": [
       "KruskalResult(statistic=72.28374509493054, pvalue=1.6031807174729563e-11)"
      ]
     },
     "execution_count": 44,
     "metadata": {},
     "output_type": "execute_result"
    }
   ],
   "source": [
    "# H-Test to test if binned age group means are statistically different against average prediction of death\n",
    "stats.kruskal(all_df['death'][all_df['age_binned'] == 0],\n",
    "               all_df['death'][all_df['age_binned'] == 2],\n",
    "               all_df['death'][all_df['age_binned'] == 3],\n",
    "               all_df['death'][all_df['age_binned'] == 4],\n",
    "               all_df['death'][all_df['age_binned'] == 5],\n",
    "               all_df['death'][all_df['age_binned'] == 6],\n",
    "               all_df['death'][all_df['age_binned'] == 7],  \n",
    "                all_df['death'][all_df['age_binned'] == 8], \n",
    "              all_df['death'][all_df['age_binned'] == 9], \n",
    "              all_df['death'][all_df['age_binned'] == 10], \n",
    "              all_df['death'][all_df['age_binned'] == 11], \n",
    "               )"
   ]
  },
  {
   "cell_type": "code",
   "execution_count": 45,
   "metadata": {},
   "outputs": [
    {
     "data": {
      "text/plain": [
       "[3, 4, 5, 6, 7, 8, 9, 10, 11]"
      ]
     },
     "execution_count": 45,
     "metadata": {},
     "output_type": "execute_result"
    }
   ],
   "source": [
    "sorted(temp_df['age_binned'].unique())"
   ]
  },
  {
   "cell_type": "code",
   "execution_count": 46,
   "metadata": {},
   "outputs": [
    {
     "data": {
      "text/plain": [
       "KruskalResult(statistic=16.042528988163937, pvalue=0.04177542082395755)"
      ]
     },
     "execution_count": 46,
     "metadata": {},
     "output_type": "execute_result"
    }
   ],
   "source": [
    "# H-Test to test if binned age group means are statistically different against average prediction of death\n",
    "stats.kruskal(\n",
    "               temp_df['qSOFA_score'][temp_df['age_binned'] == 3],\n",
    "               temp_df['qSOFA_score'][temp_df['age_binned'] == 4],\n",
    "               temp_df['qSOFA_score'][temp_df['age_binned'] == 5],\n",
    "               temp_df['qSOFA_score'][temp_df['age_binned'] == 6],\n",
    "               temp_df['qSOFA_score'][temp_df['age_binned'] == 7],  \n",
    "                temp_df['qSOFA_score'][temp_df['age_binned'] == 8], \n",
    "              temp_df['qSOFA_score'][temp_df['age_binned'] == 9], \n",
    "              temp_df['qSOFA_score'][temp_df['age_binned'] == 10], \n",
    "              temp_df['qSOFA_score'][temp_df['age_binned'] == 11], \n",
    "               )"
   ]
  },
  {
   "cell_type": "code",
   "execution_count": 47,
   "metadata": {},
   "outputs": [
    {
     "data": {
      "text/plain": [
       "KruskalResult(statistic=128.38453645099958, pvalue=9.973570829207671e-23)"
      ]
     },
     "execution_count": 47,
     "metadata": {},
     "output_type": "execute_result"
    }
   ],
   "source": [
    "# H-Test to test if binned age group means are statistically different against average prediction of death\n",
    "stats.kruskal(all_df['total_comorbidities'][all_df['age_binned'] == 0],\n",
    "               all_df['total_comorbidities'][all_df['age_binned'] == 2],\n",
    "               all_df['total_comorbidities'][all_df['age_binned'] == 3],\n",
    "               all_df['total_comorbidities'][all_df['age_binned'] == 4],\n",
    "               all_df['total_comorbidities'][all_df['age_binned'] == 5],\n",
    "               all_df['total_comorbidities'][all_df['age_binned'] == 6],\n",
    "               all_df['total_comorbidities'][all_df['age_binned'] == 7],  \n",
    "                all_df['total_comorbidities'][all_df['age_binned'] == 8], \n",
    "              all_df['total_comorbidities'][all_df['age_binned'] == 9], \n",
    "              all_df['total_comorbidities'][all_df['age_binned'] == 10], \n",
    "              all_df['total_comorbidities'][all_df['age_binned'] == 11], \n",
    "               )"
   ]
  },
  {
   "cell_type": "code",
   "execution_count": 48,
   "metadata": {},
   "outputs": [
    {
     "data": {
      "text/plain": [
       "KruskalResult(statistic=102.32585342095894, pvalue=1.8639805177985975e-17)"
      ]
     },
     "execution_count": 48,
     "metadata": {},
     "output_type": "execute_result"
    }
   ],
   "source": [
    "# H-Test to test if binned age group means are statistically different against average prediction of death\n",
    "stats.kruskal(all_df['has_comorbidity'][all_df['age_binned'] == 0],\n",
    "               all_df['has_comorbidity'][all_df['age_binned'] == 2],\n",
    "               all_df['has_comorbidity'][all_df['age_binned'] == 3],\n",
    "               all_df['has_comorbidity'][all_df['age_binned'] == 4],\n",
    "               all_df['has_comorbidity'][all_df['age_binned'] == 5],\n",
    "               all_df['has_comorbidity'][all_df['age_binned'] == 6],\n",
    "               all_df['has_comorbidity'][all_df['age_binned'] == 7],  \n",
    "                all_df['has_comorbidity'][all_df['age_binned'] == 8], \n",
    "              all_df['has_comorbidity'][all_df['age_binned'] == 9], \n",
    "              all_df['has_comorbidity'][all_df['age_binned'] == 10], \n",
    "              all_df['has_comorbidity'][all_df['age_binned'] == 11], \n",
    "               )"
   ]
  },
  {
   "cell_type": "code",
   "execution_count": 49,
   "metadata": {},
   "outputs": [
    {
     "data": {
      "text/plain": [
       "KruskalResult(statistic=42.603208866629465, pvalue=5.854593555324175e-06)"
      ]
     },
     "execution_count": 49,
     "metadata": {},
     "output_type": "execute_result"
    }
   ],
   "source": [
    "# H-Test to test if binned age group means are statistically different against average prediction of death\n",
    "stats.kruskal(all_df['COPD_com_flag'][all_df['age_binned'] == 0],\n",
    "               all_df['COPD_com_flag'][all_df['age_binned'] == 2],\n",
    "               all_df['COPD_com_flag'][all_df['age_binned'] == 3],\n",
    "               all_df['COPD_com_flag'][all_df['age_binned'] == 4],\n",
    "               all_df['COPD_com_flag'][all_df['age_binned'] == 5],\n",
    "               all_df['COPD_com_flag'][all_df['age_binned'] == 6],\n",
    "               all_df['COPD_com_flag'][all_df['age_binned'] == 7],  \n",
    "                all_df['COPD_com_flag'][all_df['age_binned'] == 8], \n",
    "              all_df['COPD_com_flag'][all_df['age_binned'] == 9], \n",
    "              all_df['COPD_com_flag'][all_df['age_binned'] == 10], \n",
    "              all_df['COPD_com_flag'][all_df['age_binned'] == 11], \n",
    "               )"
   ]
  },
  {
   "cell_type": "code",
   "execution_count": 50,
   "metadata": {},
   "outputs": [
    {
     "data": {
      "text/plain": [
       "KruskalResult(statistic=12.927144891263305, pvalue=0.22777380902310246)"
      ]
     },
     "execution_count": 50,
     "metadata": {},
     "output_type": "execute_result"
    }
   ],
   "source": [
    "# H-Test to test if binned age group means are statistically different against average prediction of death\n",
    "stats.kruskal(all_df['asthma_com_flag'][all_df['age_binned'] == 0],\n",
    "               all_df['asthma_com_flag'][all_df['age_binned'] == 2],\n",
    "               all_df['asthma_com_flag'][all_df['age_binned'] == 3],\n",
    "               all_df['asthma_com_flag'][all_df['age_binned'] == 4],\n",
    "               all_df['asthma_com_flag'][all_df['age_binned'] == 5],\n",
    "               all_df['asthma_com_flag'][all_df['age_binned'] == 6],\n",
    "               all_df['asthma_com_flag'][all_df['age_binned'] == 7],  \n",
    "                all_df['asthma_com_flag'][all_df['age_binned'] == 8], \n",
    "              all_df['asthma_com_flag'][all_df['age_binned'] == 9], \n",
    "              all_df['asthma_com_flag'][all_df['age_binned'] == 10], \n",
    "              all_df['asthma_com_flag'][all_df['age_binned'] == 11], \n",
    "               )"
   ]
  },
  {
   "cell_type": "code",
   "execution_count": 51,
   "metadata": {},
   "outputs": [
    {
     "data": {
      "text/plain": [
       "KruskalResult(statistic=57.81087629089091, pvalue=9.38328550969883e-09)"
      ]
     },
     "execution_count": 51,
     "metadata": {},
     "output_type": "execute_result"
    }
   ],
   "source": [
    "# H-Test to test if binned age group means are statistically different against average prediction of death\n",
    "stats.kruskal(all_df['diabetes_com_flag'][all_df['age_binned'] == 0],\n",
    "               all_df['diabetes_com_flag'][all_df['age_binned'] == 2],\n",
    "               all_df['diabetes_com_flag'][all_df['age_binned'] == 3],\n",
    "               all_df['diabetes_com_flag'][all_df['age_binned'] == 4],\n",
    "               all_df['diabetes_com_flag'][all_df['age_binned'] == 5],\n",
    "               all_df['diabetes_com_flag'][all_df['age_binned'] == 6],\n",
    "               all_df['diabetes_com_flag'][all_df['age_binned'] == 7],  \n",
    "                all_df['diabetes_com_flag'][all_df['age_binned'] == 8], \n",
    "              all_df['diabetes_com_flag'][all_df['age_binned'] == 9], \n",
    "              all_df['diabetes_com_flag'][all_df['age_binned'] == 10], \n",
    "              all_df['diabetes_com_flag'][all_df['age_binned'] == 11], \n",
    "               )"
   ]
  },
  {
   "cell_type": "code",
   "execution_count": 52,
   "metadata": {},
   "outputs": [
    {
     "data": {
      "text/plain": [
       "KruskalResult(statistic=50.80185654089459, pvalue=1.8997663494907538e-07)"
      ]
     },
     "execution_count": 52,
     "metadata": {},
     "output_type": "execute_result"
    }
   ],
   "source": [
    "# H-Test to test if binned age group means are statistically different against average prediction of death\n",
    "stats.kruskal(all_df['hypertension_com_flag'][all_df['age_binned'] == 0],\n",
    "               all_df['hypertension_com_flag'][all_df['age_binned'] == 2],\n",
    "               all_df['hypertension_com_flag'][all_df['age_binned'] == 3],\n",
    "               all_df['hypertension_com_flag'][all_df['age_binned'] == 4],\n",
    "               all_df['hypertension_com_flag'][all_df['age_binned'] == 5],\n",
    "               all_df['hypertension_com_flag'][all_df['age_binned'] == 6],\n",
    "               all_df['hypertension_com_flag'][all_df['age_binned'] == 7],  \n",
    "                all_df['hypertension_com_flag'][all_df['age_binned'] == 8], \n",
    "              all_df['hypertension_com_flag'][all_df['age_binned'] == 9], \n",
    "              all_df['hypertension_com_flag'][all_df['age_binned'] == 10], \n",
    "              all_df['hypertension_com_flag'][all_df['age_binned'] == 11], \n",
    "               )"
   ]
  },
  {
   "cell_type": "code",
   "execution_count": 53,
   "metadata": {},
   "outputs": [
    {
     "data": {
      "text/plain": [
       "KruskalResult(statistic=44.68274622348136, pvalue=2.4808421275574227e-06)"
      ]
     },
     "execution_count": 53,
     "metadata": {},
     "output_type": "execute_result"
    }
   ],
   "source": [
    "# H-Test to test if binned age group means are statistically different against average prediction of death\n",
    "stats.kruskal(all_df['CAD_com_flag'][all_df['age_binned'] == 0],\n",
    "               all_df['CAD_com_flag'][all_df['age_binned'] == 2],\n",
    "               all_df['CAD_com_flag'][all_df['age_binned'] == 3],\n",
    "               all_df['CAD_com_flag'][all_df['age_binned'] == 4],\n",
    "               all_df['CAD_com_flag'][all_df['age_binned'] == 5],\n",
    "               all_df['CAD_com_flag'][all_df['age_binned'] == 6],\n",
    "               all_df['CAD_com_flag'][all_df['age_binned'] == 7],  \n",
    "                all_df['CAD_com_flag'][all_df['age_binned'] == 8], \n",
    "              all_df['CAD_com_flag'][all_df['age_binned'] == 9], \n",
    "              all_df['CAD_com_flag'][all_df['age_binned'] == 10], \n",
    "              all_df['CAD_com_flag'][all_df['age_binned'] == 11], \n",
    "               )"
   ]
  },
  {
   "cell_type": "code",
   "execution_count": 54,
   "metadata": {},
   "outputs": [
    {
     "data": {
      "text/plain": [
       "KruskalResult(statistic=33.29987410359622, pvalue=0.00024251004381790642)"
      ]
     },
     "execution_count": 54,
     "metadata": {},
     "output_type": "execute_result"
    }
   ],
   "source": [
    "stats.kruskal(all_df['heartfailure_com_flag'][all_df['age_binned'] == 0],\n",
    "               all_df['heartfailure_com_flag'][all_df['age_binned'] == 2],\n",
    "               all_df['heartfailure_com_flag'][all_df['age_binned'] == 3],\n",
    "               all_df['heartfailure_com_flag'][all_df['age_binned'] == 4],\n",
    "               all_df['heartfailure_com_flag'][all_df['age_binned'] == 5],\n",
    "               all_df['heartfailure_com_flag'][all_df['age_binned'] == 6],\n",
    "               all_df['heartfailure_com_flag'][all_df['age_binned'] == 7],  \n",
    "                all_df['heartfailure_com_flag'][all_df['age_binned'] == 8], \n",
    "              all_df['heartfailure_com_flag'][all_df['age_binned'] == 9], \n",
    "              all_df['heartfailure_com_flag'][all_df['age_binned'] == 10], \n",
    "              all_df['heartfailure_com_flag'][all_df['age_binned'] == 11], \n",
    "               )"
   ]
  },
  {
   "cell_type": "code",
   "execution_count": 55,
   "metadata": {},
   "outputs": [
    {
     "data": {
      "text/plain": [
       "KruskalResult(statistic=33.23352766780328, pvalue=0.00024883029293754316)"
      ]
     },
     "execution_count": 55,
     "metadata": {},
     "output_type": "execute_result"
    }
   ],
   "source": [
    "stats.kruskal(all_df['CKD_com_flag'][all_df['age_binned'] == 0],\n",
    "               all_df['CKD_com_flag'][all_df['age_binned'] == 2],\n",
    "               all_df['CKD_com_flag'][all_df['age_binned'] == 3],\n",
    "               all_df['CKD_com_flag'][all_df['age_binned'] == 4],\n",
    "               all_df['CKD_com_flag'][all_df['age_binned'] == 5],\n",
    "               all_df['CKD_com_flag'][all_df['age_binned'] == 6],\n",
    "               all_df['CKD_com_flag'][all_df['age_binned'] == 7],  \n",
    "                all_df['CKD_com_flag'][all_df['age_binned'] == 8], \n",
    "              all_df['CKD_com_flag'][all_df['age_binned'] == 9], \n",
    "              all_df['CKD_com_flag'][all_df['age_binned'] == 10], \n",
    "              all_df['CKD_com_flag'][all_df['age_binned'] == 11], \n",
    "               )"
   ]
  },
  {
   "cell_type": "code",
   "execution_count": 56,
   "metadata": {},
   "outputs": [
    {
     "data": {
      "text/plain": [
       "KruskalResult(statistic=8.365078726579448, pvalue=0.5932231545339637)"
      ]
     },
     "execution_count": 56,
     "metadata": {},
     "output_type": "execute_result"
    }
   ],
   "source": [
    "stats.kruskal(all_df['cancer_com_flag'][all_df['age_binned'] == 0],\n",
    "               all_df['cancer_com_flag'][all_df['age_binned'] == 2],\n",
    "               all_df['cancer_com_flag'][all_df['age_binned'] == 3],\n",
    "               all_df['cancer_com_flag'][all_df['age_binned'] == 4],\n",
    "               all_df['cancer_com_flag'][all_df['age_binned'] == 5],\n",
    "               all_df['cancer_com_flag'][all_df['age_binned'] == 6],\n",
    "               all_df['cancer_com_flag'][all_df['age_binned'] == 7],  \n",
    "                all_df['cancer_com_flag'][all_df['age_binned'] == 8], \n",
    "              all_df['cancer_com_flag'][all_df['age_binned'] == 9], \n",
    "              all_df['cancer_com_flag'][all_df['age_binned'] == 10], \n",
    "              all_df['cancer_com_flag'][all_df['age_binned'] == 11], \n",
    "               )"
   ]
  },
  {
   "cell_type": "markdown",
   "metadata": {},
   "source": [
    "## Zip Code"
   ]
  },
  {
   "cell_type": "code",
   "execution_count": 57,
   "metadata": {},
   "outputs": [
    {
     "name": "stderr",
     "output_type": "stream",
     "text": [
      "/home/joel/anaconda3/lib/python3.7/site-packages/statsmodels/tools/_testing.py:19: FutureWarning: pandas.util.testing is deprecated. Use the functions in the public API at pandas.testing instead.\n",
      "  import pandas.util.testing as tm\n"
     ]
    }
   ],
   "source": [
    "from statsmodels.stats.multicomp import pairwise_tukeyhsd"
   ]
  },
  {
   "cell_type": "code",
   "execution_count": 58,
   "metadata": {},
   "outputs": [
    {
     "data": {
      "text/plain": [
       "KruskalResult(statistic=8.365078726579448, pvalue=0.5932231545339637)"
      ]
     },
     "execution_count": 58,
     "metadata": {},
     "output_type": "execute_result"
    }
   ],
   "source": [
    "stats.kruskal(all_df['cancer_com_flag'][all_df['age_binned'] == 0],\n",
    "               all_df['cancer_com_flag'][all_df['age_binned'] == 2],\n",
    "               all_df['cancer_com_flag'][all_df['age_binned'] == 3],\n",
    "               all_df['cancer_com_flag'][all_df['age_binned'] == 4],\n",
    "               all_df['cancer_com_flag'][all_df['age_binned'] == 5],\n",
    "               all_df['cancer_com_flag'][all_df['age_binned'] == 6],\n",
    "               all_df['cancer_com_flag'][all_df['age_binned'] == 7],  \n",
    "                all_df['cancer_com_flag'][all_df['age_binned'] == 8], \n",
    "              all_df['cancer_com_flag'][all_df['age_binned'] == 9], \n",
    "              all_df['cancer_com_flag'][all_df['age_binned'] == 10], \n",
    "              all_df['cancer_com_flag'][all_df['age_binned'] == 11], \n",
    "               )"
   ]
  },
  {
   "cell_type": "code",
   "execution_count": 59,
   "metadata": {},
   "outputs": [
    {
     "name": "stderr",
     "output_type": "stream",
     "text": [
      "/home/joel/anaconda3/lib/python3.7/site-packages/seaborn/_decorators.py:43: FutureWarning: Pass the following variable as a keyword arg: x. From version 0.12, the only valid positional argument will be `data`, and passing other arguments without an explicit keyword will result in an error or misinterpretation.\n",
      "  FutureWarning\n"
     ]
    },
    {
     "data": {
      "text/plain": [
       "<AxesSubplot:xlabel='median_income'>"
      ]
     },
     "execution_count": 59,
     "metadata": {},
     "output_type": "execute_result"
    },
    {
     "data": {
      "image/png": "[encoded data removed]",
      "text/plain": [
       "<Figure size 432x288 with 1 Axes>"
      ]
     },
     "metadata": {
      "needs_background": "light"
     },
     "output_type": "display_data"
    }
   ],
   "source": [
    "sn.boxenplot(all_df['median_income'].astype(float))"
   ]
  },
  {
   "cell_type": "code",
   "execution_count": 60,
   "metadata": {},
   "outputs": [
    {
     "data": {
      "text/plain": [
       "Text(0.5, 1.0, 'Median Income Distribution')"
      ]
     },
     "execution_count": 60,
     "metadata": {},
     "output_type": "execute_result"
    },
    {
     "data": {
      "image/png": "[encoded data removed]",
      "text/plain": [
       "<Figure size 432x288 with 1 Axes>"
      ]
     },
     "metadata": {
      "needs_background": "light"
     },
     "output_type": "display_data"
    }
   ],
   "source": [
    "all_df['median_income'].astype(float).hist()\n",
    "plt.xlabel('Median Income Bins')\n",
    "plt.title('Median Income Distribution')"
   ]
  },
  {
   "cell_type": "code",
   "execution_count": 61,
   "metadata": {},
   "outputs": [],
   "source": [
    "all_df['median_income'] = all_df['median_income'].astype(float) "
   ]
  },
  {
   "cell_type": "code",
   "execution_count": 62,
   "metadata": {},
   "outputs": [
    {
     "name": "stderr",
     "output_type": "stream",
     "text": [
      "/home/joel/anaconda3/lib/python3.7/site-packages/ipykernel_launcher.py:1: SettingWithCopyWarning: \n",
      "A value is trying to be set on a copy of a slice from a DataFrame.\n",
      "Try using .loc[row_indexer,col_indexer] = value instead\n",
      "\n",
      "See the caveats in the documentation: https://pandas.pydata.org/pandas-docs/stable/user_guide/indexing.html#returning-a-view-versus-a-copy\n",
      "  \"\"\"Entry point for launching an IPython kernel.\n"
     ]
    }
   ],
   "source": [
    "temp_df['median_income'] = temp_df['median_income'].astype(float) "
   ]
  },
  {
   "cell_type": "code",
   "execution_count": 63,
   "metadata": {},
   "outputs": [
    {
     "data": {
      "text/plain": [
       "count       676.000000\n",
       "mean      66941.738166\n",
       "std       20219.824816\n",
       "min       27205.000000\n",
       "25%       51053.000000\n",
       "50%       59911.000000\n",
       "75%       75766.000000\n",
       "max      184500.000000\n",
       "Name: median_income, dtype: float64"
      ]
     },
     "execution_count": 63,
     "metadata": {},
     "output_type": "execute_result"
    }
   ],
   "source": [
    "all_df['median_income'].describe()"
   ]
  },
  {
   "cell_type": "code",
   "execution_count": 64,
   "metadata": {},
   "outputs": [
    {
     "name": "stderr",
     "output_type": "stream",
     "text": [
      "/home/joel/anaconda3/lib/python3.7/site-packages/ipykernel_launcher.py:6: SettingWithCopyWarning: \n",
      "A value is trying to be set on a copy of a slice from a DataFrame.\n",
      "Try using .loc[row_indexer,col_indexer] = value instead\n",
      "\n",
      "See the caveats in the documentation: https://pandas.pydata.org/pandas-docs/stable/user_guide/indexing.html#returning-a-view-versus-a-copy\n",
      "  \n"
     ]
    }
   ],
   "source": [
    "import numpy as np\n",
    "\n",
    "bins = [20000, 40000, 60000, 80000,100000]\n",
    "bin_conv = [i+1 for i in range(len(bins))]\n",
    "all_df['zip_binned_by_income'] = np.searchsorted(bins, all_df['median_income'].values)\n",
    "temp_df['zip_binned_by_income'] = np.searchsorted(bins, temp_df['median_income'].values)"
   ]
  },
  {
   "cell_type": "code",
   "execution_count": 65,
   "metadata": {},
   "outputs": [
    {
     "data": {
      "text/html": [
       "<div>\n",
       "<style scoped>\n",
       "    .dataframe tbody tr th:only-of-type {\n",
       "        vertical-align: middle;\n",
       "    }\n",
       "\n",
       "    .dataframe tbody tr th {\n",
       "        vertical-align: top;\n",
       "    }\n",
       "\n",
       "    .dataframe thead th {\n",
       "        text-align: right;\n",
       "    }\n",
       "</style>\n",
       "<table border=\"1\" class=\"dataframe\">\n",
       "  <thead>\n",
       "    <tr style=\"text-align: right;\">\n",
       "      <th></th>\n",
       "      <th>zip_binned_by_income</th>\n",
       "      <th>median_income</th>\n",
       "    </tr>\n",
       "  </thead>\n",
       "  <tbody>\n",
       "    <tr>\n",
       "      <th>0</th>\n",
       "      <td>3</td>\n",
       "      <td>65627.0</td>\n",
       "    </tr>\n",
       "    <tr>\n",
       "      <th>1</th>\n",
       "      <td>3</td>\n",
       "      <td>65627.0</td>\n",
       "    </tr>\n",
       "    <tr>\n",
       "      <th>2</th>\n",
       "      <td>3</td>\n",
       "      <td>65627.0</td>\n",
       "    </tr>\n",
       "    <tr>\n",
       "      <th>3</th>\n",
       "      <td>3</td>\n",
       "      <td>65627.0</td>\n",
       "    </tr>\n",
       "    <tr>\n",
       "      <th>4</th>\n",
       "      <td>3</td>\n",
       "      <td>69213.0</td>\n",
       "    </tr>\n",
       "    <tr>\n",
       "      <th>...</th>\n",
       "      <td>...</td>\n",
       "      <td>...</td>\n",
       "    </tr>\n",
       "    <tr>\n",
       "      <th>671</th>\n",
       "      <td>1</td>\n",
       "      <td>27205.0</td>\n",
       "    </tr>\n",
       "    <tr>\n",
       "      <th>672</th>\n",
       "      <td>3</td>\n",
       "      <td>66584.0</td>\n",
       "    </tr>\n",
       "    <tr>\n",
       "      <th>673</th>\n",
       "      <td>5</td>\n",
       "      <td>106523.0</td>\n",
       "    </tr>\n",
       "    <tr>\n",
       "      <th>674</th>\n",
       "      <td>2</td>\n",
       "      <td>54940.0</td>\n",
       "    </tr>\n",
       "    <tr>\n",
       "      <th>675</th>\n",
       "      <td>2</td>\n",
       "      <td>55221.0</td>\n",
       "    </tr>\n",
       "  </tbody>\n",
       "</table>\n",
       "<p>676 rows × 2 columns</p>\n",
       "</div>"
      ],
      "text/plain": [
       "     zip_binned_by_income  median_income\n",
       "0                       3        65627.0\n",
       "1                       3        65627.0\n",
       "2                       3        65627.0\n",
       "3                       3        65627.0\n",
       "4                       3        69213.0\n",
       "..                    ...            ...\n",
       "671                     1        27205.0\n",
       "672                     3        66584.0\n",
       "673                     5       106523.0\n",
       "674                     2        54940.0\n",
       "675                     2        55221.0\n",
       "\n",
       "[676 rows x 2 columns]"
      ]
     },
     "execution_count": 65,
     "metadata": {},
     "output_type": "execute_result"
    }
   ],
   "source": [
    "all_df[['zip_binned_by_income', 'median_income']]"
   ]
  },
  {
   "cell_type": "code",
   "execution_count": 66,
   "metadata": {},
   "outputs": [
    {
     "data": {
      "text/plain": [
       "array([3, 2, 4, 5, 1])"
      ]
     },
     "execution_count": 66,
     "metadata": {},
     "output_type": "execute_result"
    }
   ],
   "source": [
    "all_df['zip_binned_by_income'].unique()"
   ]
  },
  {
   "cell_type": "code",
   "execution_count": 67,
   "metadata": {},
   "outputs": [
    {
     "data": {
      "text/plain": [
       "array([3, 2, 4, 5, 1])"
      ]
     },
     "execution_count": 67,
     "metadata": {},
     "output_type": "execute_result"
    }
   ],
   "source": [
    "temp_df['zip_binned_by_income'].unique()"
   ]
  },
  {
   "cell_type": "code",
   "execution_count": 68,
   "metadata": {},
   "outputs": [
    {
     "data": {
      "text/plain": [
       "<AxesSubplot:>"
      ]
     },
     "execution_count": 68,
     "metadata": {},
     "output_type": "execute_result"
    },
    {
     "data": {
      "image/png": "[encoded data removed]",
      "text/plain": [
       "<Figure size 432x288 with 1 Axes>"
      ]
     },
     "metadata": {
      "needs_background": "light"
     },
     "output_type": "display_data"
    }
   ],
   "source": [
    "# histogram for counts for zipped bin by median income \n",
    "all_df['zip_binned_by_income'].hist()"
   ]
  },
  {
   "cell_type": "code",
   "execution_count": 69,
   "metadata": {},
   "outputs": [
    {
     "data": {
      "text/html": [
       "<div>\n",
       "<style scoped>\n",
       "    .dataframe tbody tr th:only-of-type {\n",
       "        vertical-align: middle;\n",
       "    }\n",
       "\n",
       "    .dataframe tbody tr th {\n",
       "        vertical-align: top;\n",
       "    }\n",
       "\n",
       "    .dataframe thead th {\n",
       "        text-align: right;\n",
       "    }\n",
       "</style>\n",
       "<table border=\"1\" class=\"dataframe\">\n",
       "  <thead>\n",
       "    <tr style=\"text-align: right;\">\n",
       "      <th></th>\n",
       "      <th>zip_cust_table</th>\n",
       "      <th>ethnicity_display</th>\n",
       "      <th>age_at_admit</th>\n",
       "      <th>discharge_disposition_display</th>\n",
       "      <th>race_display</th>\n",
       "      <th>race_eth_comb</th>\n",
       "      <th>heart_pulse_comb</th>\n",
       "      <th>temp_oral_degC</th>\n",
       "      <th>calc_pulled_BMI</th>\n",
       "      <th>no_dx_data</th>\n",
       "      <th>...</th>\n",
       "      <th>male_poverty_rate</th>\n",
       "      <th>female_poverty_rate</th>\n",
       "      <th>median_income</th>\n",
       "      <th>mean_income</th>\n",
       "      <th>poverty_rate</th>\n",
       "      <th>total_comorbidities</th>\n",
       "      <th>has_comorbidity</th>\n",
       "      <th>death</th>\n",
       "      <th>age_binned</th>\n",
       "      <th>zip_binned_by_income</th>\n",
       "    </tr>\n",
       "  </thead>\n",
       "  <tbody>\n",
       "    <tr>\n",
       "      <th>0</th>\n",
       "      <td>78130</td>\n",
       "      <td>Hispanic or Latino</td>\n",
       "      <td>44</td>\n",
       "      <td>Expired</td>\n",
       "      <td>Hispanic</td>\n",
       "      <td>White Hispanic</td>\n",
       "      <td>97.0</td>\n",
       "      <td>NaN</td>\n",
       "      <td>30.62</td>\n",
       "      <td>False</td>\n",
       "      <td>...</td>\n",
       "      <td>1.5</td>\n",
       "      <td>10</td>\n",
       "      <td>65627.0</td>\n",
       "      <td>84515</td>\n",
       "      <td>9.5</td>\n",
       "      <td>0</td>\n",
       "      <td>0</td>\n",
       "      <td>1</td>\n",
       "      <td>6</td>\n",
       "      <td>3</td>\n",
       "    </tr>\n",
       "    <tr>\n",
       "      <th>1</th>\n",
       "      <td>78130</td>\n",
       "      <td>Hispanic or Latino</td>\n",
       "      <td>71</td>\n",
       "      <td>Rehab Care</td>\n",
       "      <td>Hispanic</td>\n",
       "      <td>White Hispanic</td>\n",
       "      <td>101.0</td>\n",
       "      <td>37.2</td>\n",
       "      <td>27.76</td>\n",
       "      <td>False</td>\n",
       "      <td>...</td>\n",
       "      <td>1.5</td>\n",
       "      <td>10</td>\n",
       "      <td>65627.0</td>\n",
       "      <td>84515</td>\n",
       "      <td>9.5</td>\n",
       "      <td>2</td>\n",
       "      <td>1</td>\n",
       "      <td>0</td>\n",
       "      <td>9</td>\n",
       "      <td>3</td>\n",
       "    </tr>\n",
       "    <tr>\n",
       "      <th>2</th>\n",
       "      <td>78130</td>\n",
       "      <td>Hispanic or Latino</td>\n",
       "      <td>71</td>\n",
       "      <td>Skilled Nursing Care</td>\n",
       "      <td>Hispanic</td>\n",
       "      <td>White Hispanic</td>\n",
       "      <td>98.0</td>\n",
       "      <td>36.9</td>\n",
       "      <td>NaN</td>\n",
       "      <td>False</td>\n",
       "      <td>...</td>\n",
       "      <td>1.5</td>\n",
       "      <td>10</td>\n",
       "      <td>65627.0</td>\n",
       "      <td>84515</td>\n",
       "      <td>9.5</td>\n",
       "      <td>3</td>\n",
       "      <td>1</td>\n",
       "      <td>0</td>\n",
       "      <td>9</td>\n",
       "      <td>3</td>\n",
       "    </tr>\n",
       "    <tr>\n",
       "      <th>3</th>\n",
       "      <td>78130</td>\n",
       "      <td>Unknown</td>\n",
       "      <td>47</td>\n",
       "      <td>Still a patient</td>\n",
       "      <td>White</td>\n",
       "      <td>White Unknown Ethnicity</td>\n",
       "      <td>98.0</td>\n",
       "      <td>36.7</td>\n",
       "      <td>NaN</td>\n",
       "      <td>False</td>\n",
       "      <td>...</td>\n",
       "      <td>1.5</td>\n",
       "      <td>10</td>\n",
       "      <td>65627.0</td>\n",
       "      <td>84515</td>\n",
       "      <td>9.5</td>\n",
       "      <td>0</td>\n",
       "      <td>0</td>\n",
       "      <td>0</td>\n",
       "      <td>7</td>\n",
       "      <td>3</td>\n",
       "    </tr>\n",
       "    <tr>\n",
       "      <th>4</th>\n",
       "      <td>78612</td>\n",
       "      <td>Not Hispanic or Latino</td>\n",
       "      <td>49</td>\n",
       "      <td>Home</td>\n",
       "      <td>White</td>\n",
       "      <td>White Non Hispanic</td>\n",
       "      <td>99.0</td>\n",
       "      <td>37.4</td>\n",
       "      <td>44.89</td>\n",
       "      <td>False</td>\n",
       "      <td>...</td>\n",
       "      <td>6.3</td>\n",
       "      <td>10.9</td>\n",
       "      <td>69213.0</td>\n",
       "      <td>80458</td>\n",
       "      <td>10.6</td>\n",
       "      <td>0</td>\n",
       "      <td>0</td>\n",
       "      <td>0</td>\n",
       "      <td>7</td>\n",
       "      <td>3</td>\n",
       "    </tr>\n",
       "    <tr>\n",
       "      <th>5</th>\n",
       "      <td>78612</td>\n",
       "      <td>Hispanic or Latino</td>\n",
       "      <td>59</td>\n",
       "      <td>Long Term Care Hospital</td>\n",
       "      <td>Other Race</td>\n",
       "      <td>Other Race Hispanic</td>\n",
       "      <td>107.0</td>\n",
       "      <td>36.6</td>\n",
       "      <td>37.05</td>\n",
       "      <td>False</td>\n",
       "      <td>...</td>\n",
       "      <td>6.3</td>\n",
       "      <td>10.9</td>\n",
       "      <td>69213.0</td>\n",
       "      <td>80458</td>\n",
       "      <td>10.6</td>\n",
       "      <td>2</td>\n",
       "      <td>1</td>\n",
       "      <td>0</td>\n",
       "      <td>8</td>\n",
       "      <td>3</td>\n",
       "    </tr>\n",
       "    <tr>\n",
       "      <th>6</th>\n",
       "      <td>78612</td>\n",
       "      <td>Hispanic or Latino</td>\n",
       "      <td>26</td>\n",
       "      <td>Home</td>\n",
       "      <td>Hispanic</td>\n",
       "      <td>White Hispanic</td>\n",
       "      <td>61.0</td>\n",
       "      <td>36.9</td>\n",
       "      <td>30.90</td>\n",
       "      <td>False</td>\n",
       "      <td>...</td>\n",
       "      <td>6.3</td>\n",
       "      <td>10.9</td>\n",
       "      <td>69213.0</td>\n",
       "      <td>80458</td>\n",
       "      <td>10.6</td>\n",
       "      <td>0</td>\n",
       "      <td>0</td>\n",
       "      <td>0</td>\n",
       "      <td>5</td>\n",
       "      <td>3</td>\n",
       "    </tr>\n",
       "    <tr>\n",
       "      <th>7</th>\n",
       "      <td>78612</td>\n",
       "      <td>Hispanic or Latino</td>\n",
       "      <td>70</td>\n",
       "      <td>Expired</td>\n",
       "      <td>Hispanic</td>\n",
       "      <td>White Hispanic</td>\n",
       "      <td>97.0</td>\n",
       "      <td>37.2</td>\n",
       "      <td>NaN</td>\n",
       "      <td>False</td>\n",
       "      <td>...</td>\n",
       "      <td>6.3</td>\n",
       "      <td>10.9</td>\n",
       "      <td>69213.0</td>\n",
       "      <td>80458</td>\n",
       "      <td>10.6</td>\n",
       "      <td>2</td>\n",
       "      <td>1</td>\n",
       "      <td>1</td>\n",
       "      <td>9</td>\n",
       "      <td>3</td>\n",
       "    </tr>\n",
       "    <tr>\n",
       "      <th>8</th>\n",
       "      <td>78612</td>\n",
       "      <td>Hispanic or Latino</td>\n",
       "      <td>63</td>\n",
       "      <td>Expired</td>\n",
       "      <td>Hispanic</td>\n",
       "      <td>White Hispanic</td>\n",
       "      <td>67.0</td>\n",
       "      <td>37.0</td>\n",
       "      <td>24.76</td>\n",
       "      <td>False</td>\n",
       "      <td>...</td>\n",
       "      <td>6.3</td>\n",
       "      <td>10.9</td>\n",
       "      <td>69213.0</td>\n",
       "      <td>80458</td>\n",
       "      <td>10.6</td>\n",
       "      <td>1</td>\n",
       "      <td>1</td>\n",
       "      <td>1</td>\n",
       "      <td>8</td>\n",
       "      <td>3</td>\n",
       "    </tr>\n",
       "    <tr>\n",
       "      <th>9</th>\n",
       "      <td>78753</td>\n",
       "      <td>Not Hispanic or Latino</td>\n",
       "      <td>24</td>\n",
       "      <td>Long Term Care Hospital</td>\n",
       "      <td>White</td>\n",
       "      <td>White Non Hispanic</td>\n",
       "      <td>143.0</td>\n",
       "      <td>37.1</td>\n",
       "      <td>34.54</td>\n",
       "      <td>False</td>\n",
       "      <td>...</td>\n",
       "      <td>2</td>\n",
       "      <td>19.3</td>\n",
       "      <td>51053.0</td>\n",
       "      <td>68301</td>\n",
       "      <td>17.6</td>\n",
       "      <td>0</td>\n",
       "      <td>0</td>\n",
       "      <td>0</td>\n",
       "      <td>4</td>\n",
       "      <td>2</td>\n",
       "    </tr>\n",
       "    <tr>\n",
       "      <th>10</th>\n",
       "      <td>78753</td>\n",
       "      <td>Unknown</td>\n",
       "      <td>57</td>\n",
       "      <td>Home Care with Home Health</td>\n",
       "      <td>White</td>\n",
       "      <td>White Unknown Ethnicity</td>\n",
       "      <td>112.0</td>\n",
       "      <td>37.6</td>\n",
       "      <td>34.89</td>\n",
       "      <td>False</td>\n",
       "      <td>...</td>\n",
       "      <td>2</td>\n",
       "      <td>19.3</td>\n",
       "      <td>51053.0</td>\n",
       "      <td>68301</td>\n",
       "      <td>17.6</td>\n",
       "      <td>2</td>\n",
       "      <td>1</td>\n",
       "      <td>0</td>\n",
       "      <td>8</td>\n",
       "      <td>2</td>\n",
       "    </tr>\n",
       "    <tr>\n",
       "      <th>11</th>\n",
       "      <td>78753</td>\n",
       "      <td>Unknown</td>\n",
       "      <td>53</td>\n",
       "      <td>Home</td>\n",
       "      <td>White</td>\n",
       "      <td>White Unknown Ethnicity</td>\n",
       "      <td>57.0</td>\n",
       "      <td>36.6</td>\n",
       "      <td>37.98</td>\n",
       "      <td>False</td>\n",
       "      <td>...</td>\n",
       "      <td>2</td>\n",
       "      <td>19.3</td>\n",
       "      <td>51053.0</td>\n",
       "      <td>68301</td>\n",
       "      <td>17.6</td>\n",
       "      <td>4</td>\n",
       "      <td>1</td>\n",
       "      <td>0</td>\n",
       "      <td>7</td>\n",
       "      <td>2</td>\n",
       "    </tr>\n",
       "    <tr>\n",
       "      <th>12</th>\n",
       "      <td>78753</td>\n",
       "      <td>Hispanic or Latino</td>\n",
       "      <td>36</td>\n",
       "      <td>Home</td>\n",
       "      <td>Hispanic</td>\n",
       "      <td>White Hispanic</td>\n",
       "      <td>80.0</td>\n",
       "      <td>36.7</td>\n",
       "      <td>24.91</td>\n",
       "      <td>False</td>\n",
       "      <td>...</td>\n",
       "      <td>2</td>\n",
       "      <td>19.3</td>\n",
       "      <td>51053.0</td>\n",
       "      <td>68301</td>\n",
       "      <td>17.6</td>\n",
       "      <td>0</td>\n",
       "      <td>0</td>\n",
       "      <td>0</td>\n",
       "      <td>6</td>\n",
       "      <td>2</td>\n",
       "    </tr>\n",
       "    <tr>\n",
       "      <th>13</th>\n",
       "      <td>78753</td>\n",
       "      <td>Hispanic or Latino</td>\n",
       "      <td>35</td>\n",
       "      <td>Home</td>\n",
       "      <td>Hispanic</td>\n",
       "      <td>White Hispanic</td>\n",
       "      <td>129.0</td>\n",
       "      <td>37.7</td>\n",
       "      <td>NaN</td>\n",
       "      <td>False</td>\n",
       "      <td>...</td>\n",
       "      <td>2</td>\n",
       "      <td>19.3</td>\n",
       "      <td>51053.0</td>\n",
       "      <td>68301</td>\n",
       "      <td>17.6</td>\n",
       "      <td>0</td>\n",
       "      <td>0</td>\n",
       "      <td>0</td>\n",
       "      <td>5</td>\n",
       "      <td>2</td>\n",
       "    </tr>\n",
       "    <tr>\n",
       "      <th>14</th>\n",
       "      <td>78753</td>\n",
       "      <td>Not Hispanic or Latino</td>\n",
       "      <td>79</td>\n",
       "      <td>Expired</td>\n",
       "      <td>White</td>\n",
       "      <td>White Non Hispanic</td>\n",
       "      <td>93.0</td>\n",
       "      <td>37.4</td>\n",
       "      <td>NaN</td>\n",
       "      <td>False</td>\n",
       "      <td>...</td>\n",
       "      <td>2</td>\n",
       "      <td>19.3</td>\n",
       "      <td>51053.0</td>\n",
       "      <td>68301</td>\n",
       "      <td>17.6</td>\n",
       "      <td>1</td>\n",
       "      <td>1</td>\n",
       "      <td>1</td>\n",
       "      <td>10</td>\n",
       "      <td>2</td>\n",
       "    </tr>\n",
       "    <tr>\n",
       "      <th>15</th>\n",
       "      <td>78753</td>\n",
       "      <td>Not Hispanic or Latino</td>\n",
       "      <td>83</td>\n",
       "      <td>Expired</td>\n",
       "      <td>White</td>\n",
       "      <td>White Non Hispanic</td>\n",
       "      <td>80.0</td>\n",
       "      <td>37.5</td>\n",
       "      <td>29.98</td>\n",
       "      <td>False</td>\n",
       "      <td>...</td>\n",
       "      <td>2</td>\n",
       "      <td>19.3</td>\n",
       "      <td>51053.0</td>\n",
       "      <td>68301</td>\n",
       "      <td>17.6</td>\n",
       "      <td>2</td>\n",
       "      <td>1</td>\n",
       "      <td>1</td>\n",
       "      <td>10</td>\n",
       "      <td>2</td>\n",
       "    </tr>\n",
       "    <tr>\n",
       "      <th>16</th>\n",
       "      <td>78753</td>\n",
       "      <td>Hispanic or Latino</td>\n",
       "      <td>27</td>\n",
       "      <td>Home Care with Home Health</td>\n",
       "      <td>Hispanic</td>\n",
       "      <td>White Hispanic</td>\n",
       "      <td>95.0</td>\n",
       "      <td>36.8</td>\n",
       "      <td>28.27</td>\n",
       "      <td>False</td>\n",
       "      <td>...</td>\n",
       "      <td>2</td>\n",
       "      <td>19.3</td>\n",
       "      <td>51053.0</td>\n",
       "      <td>68301</td>\n",
       "      <td>17.6</td>\n",
       "      <td>0</td>\n",
       "      <td>0</td>\n",
       "      <td>0</td>\n",
       "      <td>5</td>\n",
       "      <td>2</td>\n",
       "    </tr>\n",
       "    <tr>\n",
       "      <th>17</th>\n",
       "      <td>78753</td>\n",
       "      <td>Hispanic or Latino</td>\n",
       "      <td>70</td>\n",
       "      <td>Long Term Care Hospital</td>\n",
       "      <td>Hispanic</td>\n",
       "      <td>White Hispanic</td>\n",
       "      <td>80.0</td>\n",
       "      <td>36.9</td>\n",
       "      <td>28.51</td>\n",
       "      <td>False</td>\n",
       "      <td>...</td>\n",
       "      <td>2</td>\n",
       "      <td>19.3</td>\n",
       "      <td>51053.0</td>\n",
       "      <td>68301</td>\n",
       "      <td>17.6</td>\n",
       "      <td>0</td>\n",
       "      <td>0</td>\n",
       "      <td>0</td>\n",
       "      <td>9</td>\n",
       "      <td>2</td>\n",
       "    </tr>\n",
       "    <tr>\n",
       "      <th>18</th>\n",
       "      <td>78753</td>\n",
       "      <td>Hispanic or Latino</td>\n",
       "      <td>73</td>\n",
       "      <td>Expired</td>\n",
       "      <td>Other Race</td>\n",
       "      <td>Other Race Hispanic</td>\n",
       "      <td>74.0</td>\n",
       "      <td>35.4</td>\n",
       "      <td>31.48</td>\n",
       "      <td>False</td>\n",
       "      <td>...</td>\n",
       "      <td>2</td>\n",
       "      <td>19.3</td>\n",
       "      <td>51053.0</td>\n",
       "      <td>68301</td>\n",
       "      <td>17.6</td>\n",
       "      <td>1</td>\n",
       "      <td>1</td>\n",
       "      <td>1</td>\n",
       "      <td>9</td>\n",
       "      <td>2</td>\n",
       "    </tr>\n",
       "    <tr>\n",
       "      <th>19</th>\n",
       "      <td>78753</td>\n",
       "      <td>Hispanic or Latino</td>\n",
       "      <td>42</td>\n",
       "      <td>Home</td>\n",
       "      <td>Hispanic</td>\n",
       "      <td>White Hispanic</td>\n",
       "      <td>82.0</td>\n",
       "      <td>37.4</td>\n",
       "      <td>31.00</td>\n",
       "      <td>False</td>\n",
       "      <td>...</td>\n",
       "      <td>2</td>\n",
       "      <td>19.3</td>\n",
       "      <td>51053.0</td>\n",
       "      <td>68301</td>\n",
       "      <td>17.6</td>\n",
       "      <td>0</td>\n",
       "      <td>0</td>\n",
       "      <td>0</td>\n",
       "      <td>6</td>\n",
       "      <td>2</td>\n",
       "    </tr>\n",
       "  </tbody>\n",
       "</table>\n",
       "<p>20 rows × 30 columns</p>\n",
       "</div>"
      ],
      "text/plain": [
       "   zip_cust_table       ethnicity_display  age_at_admit  \\\n",
       "0           78130      Hispanic or Latino            44   \n",
       "1           78130      Hispanic or Latino            71   \n",
       "2           78130      Hispanic or Latino            71   \n",
       "3           78130                 Unknown            47   \n",
       "4           78612  Not Hispanic or Latino            49   \n",
       "5           78612      Hispanic or Latino            59   \n",
       "6           78612      Hispanic or Latino            26   \n",
       "7           78612      Hispanic or Latino            70   \n",
       "8           78612      Hispanic or Latino            63   \n",
       "9           78753  Not Hispanic or Latino            24   \n",
       "10          78753                 Unknown            57   \n",
       "11          78753                 Unknown            53   \n",
       "12          78753      Hispanic or Latino            36   \n",
       "13          78753      Hispanic or Latino            35   \n",
       "14          78753  Not Hispanic or Latino            79   \n",
       "15          78753  Not Hispanic or Latino            83   \n",
       "16          78753      Hispanic or Latino            27   \n",
       "17          78753      Hispanic or Latino            70   \n",
       "18          78753      Hispanic or Latino            73   \n",
       "19          78753      Hispanic or Latino            42   \n",
       "\n",
       "   discharge_disposition_display race_display            race_eth_comb  \\\n",
       "0                        Expired     Hispanic           White Hispanic   \n",
       "1                     Rehab Care     Hispanic           White Hispanic   \n",
       "2           Skilled Nursing Care     Hispanic           White Hispanic   \n",
       "3                Still a patient        White  White Unknown Ethnicity   \n",
       "4                           Home        White       White Non Hispanic   \n",
       "5        Long Term Care Hospital   Other Race      Other Race Hispanic   \n",
       "6                           Home     Hispanic           White Hispanic   \n",
       "7                        Expired     Hispanic           White Hispanic   \n",
       "8                        Expired     Hispanic           White Hispanic   \n",
       "9        Long Term Care Hospital        White       White Non Hispanic   \n",
       "10    Home Care with Home Health        White  White Unknown Ethnicity   \n",
       "11                          Home        White  White Unknown Ethnicity   \n",
       "12                          Home     Hispanic           White Hispanic   \n",
       "13                          Home     Hispanic           White Hispanic   \n",
       "14                       Expired        White       White Non Hispanic   \n",
       "15                       Expired        White       White Non Hispanic   \n",
       "16    Home Care with Home Health     Hispanic           White Hispanic   \n",
       "17       Long Term Care Hospital     Hispanic           White Hispanic   \n",
       "18                       Expired   Other Race      Other Race Hispanic   \n",
       "19                          Home     Hispanic           White Hispanic   \n",
       "\n",
       "    heart_pulse_comb  temp_oral_degC  calc_pulled_BMI  no_dx_data  ...  \\\n",
       "0               97.0             NaN            30.62       False  ...   \n",
       "1              101.0            37.2            27.76       False  ...   \n",
       "2               98.0            36.9              NaN       False  ...   \n",
       "3               98.0            36.7              NaN       False  ...   \n",
       "4               99.0            37.4            44.89       False  ...   \n",
       "5              107.0            36.6            37.05       False  ...   \n",
       "6               61.0            36.9            30.90       False  ...   \n",
       "7               97.0            37.2              NaN       False  ...   \n",
       "8               67.0            37.0            24.76       False  ...   \n",
       "9              143.0            37.1            34.54       False  ...   \n",
       "10             112.0            37.6            34.89       False  ...   \n",
       "11              57.0            36.6            37.98       False  ...   \n",
       "12              80.0            36.7            24.91       False  ...   \n",
       "13             129.0            37.7              NaN       False  ...   \n",
       "14              93.0            37.4              NaN       False  ...   \n",
       "15              80.0            37.5            29.98       False  ...   \n",
       "16              95.0            36.8            28.27       False  ...   \n",
       "17              80.0            36.9            28.51       False  ...   \n",
       "18              74.0            35.4            31.48       False  ...   \n",
       "19              82.0            37.4            31.00       False  ...   \n",
       "\n",
       "    male_poverty_rate  female_poverty_rate  median_income  mean_income  \\\n",
       "0                 1.5                   10        65627.0        84515   \n",
       "1                 1.5                   10        65627.0        84515   \n",
       "2                 1.5                   10        65627.0        84515   \n",
       "3                 1.5                   10        65627.0        84515   \n",
       "4                 6.3                 10.9        69213.0        80458   \n",
       "5                 6.3                 10.9        69213.0        80458   \n",
       "6                 6.3                 10.9        69213.0        80458   \n",
       "7                 6.3                 10.9        69213.0        80458   \n",
       "8                 6.3                 10.9        69213.0        80458   \n",
       "9                   2                 19.3        51053.0        68301   \n",
       "10                  2                 19.3        51053.0        68301   \n",
       "11                  2                 19.3        51053.0        68301   \n",
       "12                  2                 19.3        51053.0        68301   \n",
       "13                  2                 19.3        51053.0        68301   \n",
       "14                  2                 19.3        51053.0        68301   \n",
       "15                  2                 19.3        51053.0        68301   \n",
       "16                  2                 19.3        51053.0        68301   \n",
       "17                  2                 19.3        51053.0        68301   \n",
       "18                  2                 19.3        51053.0        68301   \n",
       "19                  2                 19.3        51053.0        68301   \n",
       "\n",
       "    poverty_rate  total_comorbidities  has_comorbidity  death  age_binned  \\\n",
       "0            9.5                    0                0      1           6   \n",
       "1            9.5                    2                1      0           9   \n",
       "2            9.5                    3                1      0           9   \n",
       "3            9.5                    0                0      0           7   \n",
       "4           10.6                    0                0      0           7   \n",
       "5           10.6                    2                1      0           8   \n",
       "6           10.6                    0                0      0           5   \n",
       "7           10.6                    2                1      1           9   \n",
       "8           10.6                    1                1      1           8   \n",
       "9           17.6                    0                0      0           4   \n",
       "10          17.6                    2                1      0           8   \n",
       "11          17.6                    4                1      0           7   \n",
       "12          17.6                    0                0      0           6   \n",
       "13          17.6                    0                0      0           5   \n",
       "14          17.6                    1                1      1          10   \n",
       "15          17.6                    2                1      1          10   \n",
       "16          17.6                    0                0      0           5   \n",
       "17          17.6                    0                0      0           9   \n",
       "18          17.6                    1                1      1           9   \n",
       "19          17.6                    0                0      0           6   \n",
       "\n",
       "   zip_binned_by_income  \n",
       "0                     3  \n",
       "1                     3  \n",
       "2                     3  \n",
       "3                     3  \n",
       "4                     3  \n",
       "5                     3  \n",
       "6                     3  \n",
       "7                     3  \n",
       "8                     3  \n",
       "9                     2  \n",
       "10                    2  \n",
       "11                    2  \n",
       "12                    2  \n",
       "13                    2  \n",
       "14                    2  \n",
       "15                    2  \n",
       "16                    2  \n",
       "17                    2  \n",
       "18                    2  \n",
       "19                    2  \n",
       "\n",
       "[20 rows x 30 columns]"
      ]
     },
     "execution_count": 69,
     "metadata": {},
     "output_type": "execute_result"
    }
   ],
   "source": [
    "all_df.head(20)"
   ]
  },
  {
   "cell_type": "markdown",
   "metadata": {},
   "source": [
    "### Mortality per binned income"
   ]
  },
  {
   "cell_type": "code",
   "execution_count": 70,
   "metadata": {},
   "outputs": [
    {
     "data": {
      "text/plain": [
       "array([3, 2, 4, 5, 1])"
      ]
     },
     "execution_count": 70,
     "metadata": {},
     "output_type": "execute_result"
    }
   ],
   "source": [
    "all_df['zip_binned_by_income'].unique()"
   ]
  },
  {
   "cell_type": "code",
   "execution_count": 71,
   "metadata": {},
   "outputs": [
    {
     "data": {
      "text/plain": [
       "Counter({3: 48, 2: 69, 4: 21, 5: 10, 1: 3})"
      ]
     },
     "execution_count": 71,
     "metadata": {},
     "output_type": "execute_result"
    }
   ],
   "source": [
    "death_zip_df = all_df[all_df['death'] == 1]\n",
    "death_zip_count = Counter(death_zip_df['zip_binned_by_income'])\n",
    "death_zip_count"
   ]
  },
  {
   "cell_type": "code",
   "execution_count": 72,
   "metadata": {},
   "outputs": [
    {
     "data": {
      "text/plain": [
       "48"
      ]
     },
     "execution_count": 72,
     "metadata": {},
     "output_type": "execute_result"
    }
   ],
   "source": [
    "death_zip_count[3]"
   ]
  },
  {
   "cell_type": "code",
   "execution_count": 73,
   "metadata": {},
   "outputs": [],
   "source": [
    "for key in death_zip_count:\n",
    "    death_zip_count[key] = round((death_zip_count[key] / sum(all_df['death'])), 4) * 100"
   ]
  },
  {
   "cell_type": "code",
   "execution_count": 74,
   "metadata": {},
   "outputs": [
    {
     "data": {
      "text/plain": [
       "Counter({3: 31.790000000000003,\n",
       "         2: 45.7,\n",
       "         4: 13.91,\n",
       "         5: 6.619999999999999,\n",
       "         1: 1.9900000000000002})"
      ]
     },
     "execution_count": 74,
     "metadata": {},
     "output_type": "execute_result"
    }
   ],
   "source": [
    "death_zip_count"
   ]
  },
  {
   "cell_type": "code",
   "execution_count": 75,
   "metadata": {},
   "outputs": [],
   "source": [
    "age_bins = ['$0 - $19,999', '$20,000 - $39,999', '$40,000 - $59,999', '$60,000 - $79,999', '$80,000 - $99,999', '$100,000+']"
   ]
  },
  {
   "cell_type": "code",
   "execution_count": 76,
   "metadata": {},
   "outputs": [],
   "source": [
    "conv_age_bins = []\n",
    "for key in death_zip_count:\n",
    "    conv_age_bins.append(age_bins[key])\n",
    "\n"
   ]
  },
  {
   "cell_type": "code",
   "execution_count": 77,
   "metadata": {},
   "outputs": [
    {
     "data": {
      "text/plain": [
       "Text(0.5, 1.0, 'Mortality Percentages for Binned Median Income')"
      ]
     },
     "execution_count": 77,
     "metadata": {},
     "output_type": "execute_result"
    },
    {
     "data": {
      "image/png": "[encoded data removed]",
      "text/plain": [
       "<Figure size 432x288 with 1 Axes>"
      ]
     },
     "metadata": {
      "needs_background": "light"
     },
     "output_type": "display_data"
    }
   ],
   "source": [
    "import matplotlib.pyplot as plt\n",
    "keys= list(death_zip_count.keys())\n",
    "vals = [death_zip_count[k] for k in keys]\n",
    "\n",
    "sn.barplot(x=keys, y=vals, hue=conv_age_bins)\n",
    "plt.legend(loc='upper right')\n",
    "plt.xlabel('Binned Median Income')\n",
    "plt.xlabel('Mortality Percentage')\n",
    "plt.title('Mortality Percentages for Binned Median Income')"
   ]
  },
  {
   "cell_type": "code",
   "execution_count": 78,
   "metadata": {},
   "outputs": [
    {
     "data": {
      "text/plain": [
       "151"
      ]
     },
     "execution_count": 78,
     "metadata": {},
     "output_type": "execute_result"
    }
   ],
   "source": [
    "sum(all_df['death'])"
   ]
  },
  {
   "cell_type": "code",
   "execution_count": 79,
   "metadata": {},
   "outputs": [
    {
     "data": {
      "text/plain": [
       "KruskalResult(statistic=6.48111868033658, pvalue=0.1659839536969566)"
      ]
     },
     "execution_count": 79,
     "metadata": {},
     "output_type": "execute_result"
    }
   ],
   "source": [
    "# H-Test to test if binned age group means are statistically different against average prediction of death\n",
    "stats.kruskal(\n",
    "               all_df['death'][all_df['zip_binned_by_income'] == 1],\n",
    "               all_df['death'][all_df['zip_binned_by_income'] == 2],\n",
    "               all_df['death'][all_df['zip_binned_by_income'] == 3],\n",
    "               all_df['death'][all_df['zip_binned_by_income'] == 4],\n",
    "               all_df['death'][all_df['zip_binned_by_income'] == 5]\n",
    "               )"
   ]
  },
  {
   "cell_type": "code",
   "execution_count": 80,
   "metadata": {},
   "outputs": [
    {
     "data": {
      "text/plain": [
       "KruskalResult(statistic=6.156530854114128, pvalue=0.18775944760589286)"
      ]
     },
     "execution_count": 80,
     "metadata": {},
     "output_type": "execute_result"
    }
   ],
   "source": [
    "# H-Test to test if binned age group means are statistically different against average prediction of death\n",
    "stats.kruskal(\n",
    "               temp_df['qSOFA_score'][temp_df['zip_binned_by_income'] == 1],\n",
    "               temp_df['qSOFA_score'][temp_df['zip_binned_by_income'] == 2],\n",
    "               temp_df['qSOFA_score'][temp_df['zip_binned_by_income'] == 3],\n",
    "               temp_df['qSOFA_score'][temp_df['zip_binned_by_income'] == 4],\n",
    "               temp_df['qSOFA_score'][temp_df['zip_binned_by_income'] == 5]\n",
    "               )"
   ]
  },
  {
   "cell_type": "code",
   "execution_count": 81,
   "metadata": {},
   "outputs": [
    {
     "data": {
      "text/plain": [
       "KruskalResult(statistic=7.329074090514673, pvalue=0.1194869096948559)"
      ]
     },
     "execution_count": 81,
     "metadata": {},
     "output_type": "execute_result"
    }
   ],
   "source": [
    "stats.kruskal(\n",
    "               all_df['total_comorbidities'][all_df['zip_binned_by_income'] == 1],\n",
    "               all_df['total_comorbidities'][all_df['zip_binned_by_income'] == 2],\n",
    "               all_df['total_comorbidities'][all_df['zip_binned_by_income'] == 3],\n",
    "               all_df['total_comorbidities'][all_df['zip_binned_by_income'] == 4],\n",
    "               all_df['total_comorbidities'][all_df['zip_binned_by_income'] == 5]\n",
    "               )"
   ]
  },
  {
   "cell_type": "code",
   "execution_count": 83,
   "metadata": {},
   "outputs": [
    {
     "data": {
      "text/plain": [
       "KruskalResult(statistic=11.76833273793827, pvalue=0.019159773587864914)"
      ]
     },
     "execution_count": 83,
     "metadata": {},
     "output_type": "execute_result"
    }
   ],
   "source": [
    "stats.kruskal(\n",
    "               all_df['has_comorbidity'][all_df['zip_binned_by_income'] == 1],\n",
    "               all_df['has_comorbidity'][all_df['zip_binned_by_income'] == 2],\n",
    "               all_df['has_comorbidity'][all_df['zip_binned_by_income'] == 3],\n",
    "               all_df['has_comorbidity'][all_df['zip_binned_by_income'] == 4],\n",
    "               all_df['has_comorbidity'][all_df['zip_binned_by_income'] == 5]\n",
    "               )"
   ]
  },
  {
   "cell_type": "code",
   "execution_count": 85,
   "metadata": {},
   "outputs": [
    {
     "data": {
      "text/plain": [
       "KruskalResult(statistic=25.960769832810314, pvalue=3.22262362560103e-05)"
      ]
     },
     "execution_count": 85,
     "metadata": {},
     "output_type": "execute_result"
    }
   ],
   "source": [
    "stats.kruskal(\n",
    "               all_df['COPD_com_flag'][all_df['zip_binned_by_income'] == 1],\n",
    "               all_df['COPD_com_flag'][all_df['zip_binned_by_income'] == 2],\n",
    "               all_df['COPD_com_flag'][all_df['zip_binned_by_income'] == 3],\n",
    "               all_df['COPD_com_flag'][all_df['zip_binned_by_income'] == 4],\n",
    "               all_df['COPD_com_flag'][all_df['zip_binned_by_income'] == 5]\n",
    "               )"
   ]
  },
  {
   "cell_type": "code",
   "execution_count": 86,
   "metadata": {},
   "outputs": [
    {
     "data": {
      "text/plain": [
       "KruskalResult(statistic=3.844763328290256, pvalue=0.4274223083771791)"
      ]
     },
     "execution_count": 86,
     "metadata": {},
     "output_type": "execute_result"
    }
   ],
   "source": [
    "stats.kruskal(\n",
    "               all_df['asthma_com_flag'][all_df['zip_binned_by_income'] == 1],\n",
    "               all_df['asthma_com_flag'][all_df['zip_binned_by_income'] == 2],\n",
    "               all_df['asthma_com_flag'][all_df['zip_binned_by_income'] == 3],\n",
    "               all_df['asthma_com_flag'][all_df['zip_binned_by_income'] == 4],\n",
    "               all_df['asthma_com_flag'][all_df['zip_binned_by_income'] == 5]\n",
    "               )"
   ]
  },
  {
   "cell_type": "code",
   "execution_count": 93,
   "metadata": {},
   "outputs": [
    {
     "data": {
      "text/plain": [
       "KruskalResult(statistic=20.766274619559017, pvalue=0.0003523081874814849)"
      ]
     },
     "execution_count": 93,
     "metadata": {},
     "output_type": "execute_result"
    }
   ],
   "source": [
    "stats.kruskal(\n",
    "               all_df['diabetes_com_flag'][all_df['zip_binned_by_income'] == 1],\n",
    "               all_df['diabetes_com_flag'][all_df['zip_binned_by_income'] == 2],\n",
    "               all_df['diabetes_com_flag'][all_df['zip_binned_by_income'] == 3],\n",
    "               all_df['diabetes_com_flag'][all_df['zip_binned_by_income'] == 4],\n",
    "               all_df['diabetes_com_flag'][all_df['zip_binned_by_income'] == 5]\n",
    "               )"
   ]
  },
  {
   "cell_type": "code",
   "execution_count": 88,
   "metadata": {},
   "outputs": [
    {
     "data": {
      "text/plain": [
       "KruskalResult(statistic=6.448219448990421, pvalue=0.16808235657539575)"
      ]
     },
     "execution_count": 88,
     "metadata": {},
     "output_type": "execute_result"
    }
   ],
   "source": [
    "stats.kruskal(\n",
    "               all_df['hypertension_com_flag'][all_df['zip_binned_by_income'] == 1],\n",
    "               all_df['hypertension_com_flag'][all_df['zip_binned_by_income'] == 2],\n",
    "               all_df['hypertension_com_flag'][all_df['zip_binned_by_income'] == 3],\n",
    "               all_df['hypertension_com_flag'][all_df['zip_binned_by_income'] == 4],\n",
    "               all_df['hypertension_com_flag'][all_df['zip_binned_by_income'] == 5]\n",
    "               )"
   ]
  },
  {
   "cell_type": "code",
   "execution_count": 89,
   "metadata": {},
   "outputs": [
    {
     "data": {
      "text/plain": [
       "KruskalResult(statistic=4.516512732656148, pvalue=0.340593984976224)"
      ]
     },
     "execution_count": 89,
     "metadata": {},
     "output_type": "execute_result"
    }
   ],
   "source": [
    "stats.kruskal(\n",
    "               all_df['CAD_com_flag'][all_df['zip_binned_by_income'] == 1],\n",
    "               all_df['CAD_com_flag'][all_df['zip_binned_by_income'] == 2],\n",
    "               all_df['CAD_com_flag'][all_df['zip_binned_by_income'] == 3],\n",
    "               all_df['CAD_com_flag'][all_df['zip_binned_by_income'] == 4],\n",
    "               all_df['CAD_com_flag'][all_df['zip_binned_by_income'] == 5]\n",
    "               )"
   ]
  },
  {
   "cell_type": "code",
   "execution_count": 90,
   "metadata": {},
   "outputs": [
    {
     "data": {
      "text/plain": [
       "KruskalResult(statistic=6.686637153647336, pvalue=0.1534040679427804)"
      ]
     },
     "execution_count": 90,
     "metadata": {},
     "output_type": "execute_result"
    }
   ],
   "source": [
    "stats.kruskal(\n",
    "               all_df['heartfailure_com_flag'][all_df['zip_binned_by_income'] == 1],\n",
    "               all_df['heartfailure_com_flag'][all_df['zip_binned_by_income'] == 2],\n",
    "               all_df['heartfailure_com_flag'][all_df['zip_binned_by_income'] == 3],\n",
    "               all_df['heartfailure_com_flag'][all_df['zip_binned_by_income'] == 4],\n",
    "               all_df['heartfailure_com_flag'][all_df['zip_binned_by_income'] == 5]\n",
    "               )"
   ]
  },
  {
   "cell_type": "code",
   "execution_count": 91,
   "metadata": {},
   "outputs": [
    {
     "data": {
      "text/plain": [
       "KruskalResult(statistic=4.9694368514691805, pvalue=0.2904478662745302)"
      ]
     },
     "execution_count": 91,
     "metadata": {},
     "output_type": "execute_result"
    }
   ],
   "source": [
    "stats.kruskal(\n",
    "               all_df['CKD_com_flag'][all_df['zip_binned_by_income'] == 1],\n",
    "               all_df['CKD_com_flag'][all_df['zip_binned_by_income'] == 2],\n",
    "               all_df['CKD_com_flag'][all_df['zip_binned_by_income'] == 3],\n",
    "               all_df['CKD_com_flag'][all_df['zip_binned_by_income'] == 4],\n",
    "               all_df['CKD_com_flag'][all_df['zip_binned_by_income'] == 5]\n",
    "               )"
   ]
  },
  {
   "cell_type": "code",
   "execution_count": 92,
   "metadata": {},
   "outputs": [
    {
     "data": {
      "text/plain": [
       "KruskalResult(statistic=9.290109732376834, pvalue=0.05424334595981443)"
      ]
     },
     "execution_count": 92,
     "metadata": {},
     "output_type": "execute_result"
    }
   ],
   "source": [
    "stats.kruskal(\n",
    "               all_df['cancer_com_flag'][all_df['zip_binned_by_income'] == 1],\n",
    "               all_df['cancer_com_flag'][all_df['zip_binned_by_income'] == 2],\n",
    "               all_df['cancer_com_flag'][all_df['zip_binned_by_income'] == 3],\n",
    "               all_df['cancer_com_flag'][all_df['zip_binned_by_income'] == 4],\n",
    "               all_df['cancer_com_flag'][all_df['zip_binned_by_income'] == 5]\n",
    "               )"
   ]
  },
  {
   "cell_type": "code",
   "execution_count": null,
   "metadata": {},
   "outputs": [],
   "source": []
  },
  {
   "cell_type": "code",
   "execution_count": 73,
   "metadata": {},
   "outputs": [],
   "source": [
    "pairwise_tukeyhsd?"
   ]
  },
  {
   "cell_type": "code",
   "execution_count": 95,
   "metadata": {},
   "outputs": [
    {
     "name": "stdout",
     "output_type": "stream",
     "text": [
      "Multiple Comparison of Means - Tukey HSD, FWER=0.05\n",
      "===================================================\n",
      "group1 group2 meandiff p-adj   lower  upper  reject\n",
      "---------------------------------------------------\n",
      "     1      2  -0.3928 0.2232 -0.9055 0.1199  False\n",
      "     1      3  -0.3635 0.3023 -0.8787 0.1516  False\n",
      "     1      4  -0.3308 0.4219 -0.8557 0.1942  False\n",
      "     1      5  -0.4246 0.1854 -0.9553 0.1062  False\n",
      "     2      3   0.0292    0.9 -0.0721 0.1306  False\n",
      "     2      4    0.062 0.7328 -0.0811 0.2052  False\n",
      "     2      5  -0.0318    0.9 -0.1949 0.1313  False\n",
      "     3      4   0.0328    0.9 -0.1188 0.1844  False\n",
      "     3      5   -0.061   0.85 -0.2316 0.1096  False\n",
      "     4      5  -0.0938 0.6713 -0.2921 0.1045  False\n",
      "---------------------------------------------------\n"
     ]
    }
   ],
   "source": [
    "print(pairwise_tukeyhsd(all_df['death'], all_df['zip_binned_by_income']))"
   ]
  },
  {
   "cell_type": "code",
   "execution_count": 96,
   "metadata": {},
   "outputs": [
    {
     "name": "stdout",
     "output_type": "stream",
     "text": [
      "Multiple Comparison of Means - Tukey HSD, FWER=0.05\n",
      "===================================================\n",
      "group1 group2 meandiff p-adj   lower  upper  reject\n",
      "---------------------------------------------------\n",
      "     1      2   -0.357 0.8348 -1.3288 0.6147  False\n",
      "     1      3  -0.3605 0.8318 -1.3365 0.6154  False\n",
      "     1      4  -0.3019    0.9 -1.2925 0.6887  False\n",
      "     1      5  -0.0648    0.9 -1.0658 0.9361  False\n",
      "     2      3  -0.0035    0.9 -0.1797 0.1727  False\n",
      "     2      4   0.0551    0.9 -0.1896 0.2998  False\n",
      "     2      5   0.2922 0.0399  0.0085  0.576   True\n",
      "     3      4   0.0586    0.9 -0.2024 0.3195  False\n",
      "     3      5   0.2957 0.0528 -0.0022 0.5936  False\n",
      "     4      5   0.2371 0.3226 -0.1057   0.58  False\n",
      "---------------------------------------------------\n"
     ]
    }
   ],
   "source": [
    "print(pairwise_tukeyhsd(temp_df['qSOFA_score'], temp_df['zip_binned_by_income']))"
   ]
  },
  {
   "cell_type": "code",
   "execution_count": 97,
   "metadata": {},
   "outputs": [
    {
     "name": "stdout",
     "output_type": "stream",
     "text": [
      "Multiple Comparison of Means - Tukey HSD, FWER=0.05\n",
      "===================================================\n",
      "group1 group2 meandiff p-adj   lower  upper  reject\n",
      "---------------------------------------------------\n",
      "     1      2   0.1736    0.9 -1.3467 1.6938  False\n",
      "     1      3   0.3192    0.9 -1.2082 1.8466  False\n",
      "     1      4   0.4462    0.9 -1.1104 2.0027  False\n",
      "     1      5  -0.0316    0.9 -1.6053 1.5421  False\n",
      "     2      3   0.1456 0.6531 -0.1548 0.4461  False\n",
      "     2      4   0.2726 0.4015 -0.1519  0.697  False\n",
      "     2      5  -0.2052 0.7469 -0.6888 0.2785  False\n",
      "     3      4   0.1269    0.9 -0.3225 0.5764  False\n",
      "     3      5  -0.3508 0.3198 -0.8566  0.155  False\n",
      "     4      5  -0.4777 0.1728 -1.0657 0.1102  False\n",
      "---------------------------------------------------\n"
     ]
    }
   ],
   "source": [
    "print(pairwise_tukeyhsd(all_df['total_comorbidities'], all_df['zip_binned_by_income']))"
   ]
  },
  {
   "cell_type": "markdown",
   "metadata": {},
   "source": [
    "### Poverty Rate "
   ]
  },
  {
   "cell_type": "code",
   "execution_count": 98,
   "metadata": {},
   "outputs": [
    {
     "name": "stderr",
     "output_type": "stream",
     "text": [
      "/home/joel/anaconda3/lib/python3.7/site-packages/ipykernel_launcher.py:2: SettingWithCopyWarning: \n",
      "A value is trying to be set on a copy of a slice from a DataFrame.\n",
      "Try using .loc[row_indexer,col_indexer] = value instead\n",
      "\n",
      "See the caveats in the documentation: https://pandas.pydata.org/pandas-docs/stable/user_guide/indexing.html#returning-a-view-versus-a-copy\n",
      "  \n"
     ]
    }
   ],
   "source": [
    "all_df['poverty_rate'] = all_df['poverty_rate'].astype(float)\n",
    "temp_df['poverty_rate'] = temp_df['poverty_rate'].astype(float)"
   ]
  },
  {
   "cell_type": "code",
   "execution_count": 99,
   "metadata": {},
   "outputs": [
    {
     "data": {
      "text/plain": [
       "count    676.000000\n",
       "mean      14.031509\n",
       "std        6.435137\n",
       "min        2.300000\n",
       "25%        9.100000\n",
       "50%       12.700000\n",
       "75%       18.400000\n",
       "max       38.700000\n",
       "Name: poverty_rate, dtype: float64"
      ]
     },
     "execution_count": 99,
     "metadata": {},
     "output_type": "execute_result"
    }
   ],
   "source": [
    "all_df['poverty_rate'].describe()"
   ]
  },
  {
   "cell_type": "code",
   "execution_count": 100,
   "metadata": {},
   "outputs": [
    {
     "name": "stderr",
     "output_type": "stream",
     "text": [
      "/home/joel/anaconda3/lib/python3.7/site-packages/seaborn/_decorators.py:43: FutureWarning: Pass the following variable as a keyword arg: x. From version 0.12, the only valid positional argument will be `data`, and passing other arguments without an explicit keyword will result in an error or misinterpretation.\n",
      "  FutureWarning\n"
     ]
    },
    {
     "data": {
      "text/plain": [
       "<AxesSubplot:xlabel='poverty_rate'>"
      ]
     },
     "execution_count": 100,
     "metadata": {},
     "output_type": "execute_result"
    },
    {
     "data": {
      "image/png": "[encoded data removed]",
      "text/plain": [
       "<Figure size 432x288 with 1 Axes>"
      ]
     },
     "metadata": {
      "needs_background": "light"
     },
     "output_type": "display_data"
    }
   ],
   "source": [
    "sn.boxplot(all_df['poverty_rate'])"
   ]
  },
  {
   "cell_type": "code",
   "execution_count": 101,
   "metadata": {},
   "outputs": [
    {
     "name": "stderr",
     "output_type": "stream",
     "text": [
      "/home/joel/anaconda3/lib/python3.7/site-packages/ipykernel_launcher.py:4: SettingWithCopyWarning: \n",
      "A value is trying to be set on a copy of a slice from a DataFrame.\n",
      "Try using .loc[row_indexer,col_indexer] = value instead\n",
      "\n",
      "See the caveats in the documentation: https://pandas.pydata.org/pandas-docs/stable/user_guide/indexing.html#returning-a-view-versus-a-copy\n",
      "  after removing the cwd from sys.path.\n"
     ]
    }
   ],
   "source": [
    "bins = [0, 6, 12, 18,24,30,36,40]\n",
    "bin_conv = [i+1 for i in range(len(bins))]\n",
    "all_df['zip_binned_by_poverty'] = np.searchsorted(bins, all_df['poverty_rate'].values)\n",
    "temp_df['zip_binned_by_poverty'] = np.searchsorted(bins, temp_df['poverty_rate'].values)"
   ]
  },
  {
   "cell_type": "code",
   "execution_count": 102,
   "metadata": {},
   "outputs": [
    {
     "data": {
      "text/plain": [
       "array([2, 3, 4, 1, 5, 7])"
      ]
     },
     "execution_count": 102,
     "metadata": {},
     "output_type": "execute_result"
    }
   ],
   "source": [
    "all_df['zip_binned_by_poverty'].unique()"
   ]
  },
  {
   "cell_type": "code",
   "execution_count": 104,
   "metadata": {},
   "outputs": [
    {
     "name": "stdout",
     "output_type": "stream",
     "text": [
      "KruskalResult(statistic=5.294010966158078, pvalue=0.3810620392163848)\n",
      "KruskalResult(statistic=12.921979195974854, pvalue=0.011663376751185534)\n",
      "KruskalResult(statistic=8.819989093672229, pvalue=0.11646321653179063)\n",
      "KruskalResult(statistic=13.336028104209433, pvalue=0.020425289995059055)\n",
      "KruskalResult(statistic=20.1673502515982, pvalue=0.0011625027257898854)\n",
      "KruskalResult(statistic=4.263107542213047, pvalue=0.5121896335862659)\n",
      "KruskalResult(statistic=17.860409219958687, pvalue=0.003126535573859939)\n",
      "KruskalResult(statistic=8.525939475301348, pvalue=0.12953354862951563)\n",
      "KruskalResult(statistic=5.7756428633403845, pvalue=0.3286655829972444)\n",
      "KruskalResult(statistic=2.125984148253519, pvalue=0.8314524385645052)\n",
      "KruskalResult(statistic=5.058501524420044, pvalue=0.40878241816731403)\n",
      "KruskalResult(statistic=9.290109732376834, pvalue=0.05424334595981443)\n"
     ]
    }
   ],
   "source": [
    "# H-Test to test if binned age group means are statistically different against average prediction of death\n",
    "print(stats.kruskal(\n",
    "               all_df['death'][all_df['zip_binned_by_poverty'] == 1],\n",
    "               all_df['death'][all_df['zip_binned_by_poverty'] == 2],\n",
    "               all_df['death'][all_df['zip_binned_by_poverty'] == 3],\n",
    "               all_df['death'][all_df['zip_binned_by_poverty'] == 4],\n",
    "               all_df['death'][all_df['zip_binned_by_poverty'] == 5],\n",
    "                all_df['death'][all_df['zip_binned_by_poverty'] == 7],\n",
    "               ))\n",
    "\n",
    "# H-Test to test if binned age group means are statistically different against average prediction of death\n",
    "print(stats.kruskal(\n",
    "               temp_df['qSOFA_score'][temp_df['zip_binned_by_poverty'] == 1],\n",
    "               temp_df['qSOFA_score'][temp_df['zip_binned_by_poverty'] == 2],\n",
    "               temp_df['qSOFA_score'][temp_df['zip_binned_by_poverty'] == 3],\n",
    "               temp_df['qSOFA_score'][temp_df['zip_binned_by_poverty'] == 4],\n",
    "               temp_df['qSOFA_score'][temp_df['zip_binned_by_poverty'] == 5],\n",
    "               ))\n",
    "\n",
    "\n",
    "\n",
    "print(stats.kruskal(\n",
    "               all_df['total_comorbidities'][all_df['zip_binned_by_poverty'] == 1],\n",
    "               all_df['total_comorbidities'][all_df['zip_binned_by_poverty'] == 2],\n",
    "               all_df['total_comorbidities'][all_df['zip_binned_by_poverty'] == 3],\n",
    "               all_df['total_comorbidities'][all_df['zip_binned_by_poverty'] == 4],\n",
    "               all_df['total_comorbidities'][all_df['zip_binned_by_poverty'] == 5],\n",
    "                all_df['total_comorbidities'][all_df['zip_binned_by_poverty'] == 7],\n",
    "               ))\n",
    "\n",
    "\n",
    "print(stats.kruskal(\n",
    "               all_df['has_comorbidity'][all_df['zip_binned_by_poverty'] == 1],\n",
    "               all_df['has_comorbidity'][all_df['zip_binned_by_poverty'] == 2],\n",
    "               all_df['has_comorbidity'][all_df['zip_binned_by_poverty'] == 3],\n",
    "               all_df['has_comorbidity'][all_df['zip_binned_by_poverty'] == 4],\n",
    "               all_df['has_comorbidity'][all_df['zip_binned_by_poverty'] == 5],\n",
    "                all_df['has_comorbidity'][all_df['zip_binned_by_poverty'] == 7],\n",
    "               ))\n",
    "\n",
    "print(stats.kruskal(\n",
    "               all_df['COPD_com_flag'][all_df['zip_binned_by_poverty'] == 1],\n",
    "               all_df['COPD_com_flag'][all_df['zip_binned_by_poverty'] == 2],\n",
    "               all_df['COPD_com_flag'][all_df['zip_binned_by_poverty'] == 3],\n",
    "               all_df['COPD_com_flag'][all_df['zip_binned_by_poverty'] == 4],\n",
    "               all_df['COPD_com_flag'][all_df['zip_binned_by_poverty'] == 5],\n",
    "                all_df['COPD_com_flag'][all_df['zip_binned_by_poverty'] == 7],\n",
    "               ))\n",
    "\n",
    "print(stats.kruskal(\n",
    "               all_df['asthma_com_flag'][all_df['zip_binned_by_poverty'] == 1],\n",
    "               all_df['asthma_com_flag'][all_df['zip_binned_by_poverty'] == 2],\n",
    "               all_df['asthma_com_flag'][all_df['zip_binned_by_poverty'] == 3],\n",
    "               all_df['asthma_com_flag'][all_df['zip_binned_by_poverty'] == 4],\n",
    "               all_df['asthma_com_flag'][all_df['zip_binned_by_poverty'] == 5],\n",
    "                all_df['asthma_com_flag'][all_df['zip_binned_by_poverty'] == 7],\n",
    "               ))\n",
    "\n",
    "print(stats.kruskal(\n",
    "               all_df['diabetes_com_flag'][all_df['zip_binned_by_poverty'] == 1],\n",
    "               all_df['diabetes_com_flag'][all_df['zip_binned_by_poverty'] == 2],\n",
    "               all_df['diabetes_com_flag'][all_df['zip_binned_by_poverty'] == 3],\n",
    "               all_df['diabetes_com_flag'][all_df['zip_binned_by_poverty'] == 4],\n",
    "               all_df['diabetes_com_flag'][all_df['zip_binned_by_poverty'] == 5],\n",
    "                all_df['diabetes_com_flag'][all_df['zip_binned_by_poverty'] == 7],\n",
    "               ))\n",
    "\n",
    "print(stats.kruskal(\n",
    "               all_df['CAD_com_flag'][all_df['zip_binned_by_poverty'] == 1],\n",
    "               all_df['CAD_com_flag'][all_df['zip_binned_by_poverty'] == 2],\n",
    "               all_df['CAD_com_flag'][all_df['zip_binned_by_poverty'] == 3],\n",
    "               all_df['CAD_com_flag'][all_df['zip_binned_by_poverty'] == 4],\n",
    "               all_df['CAD_com_flag'][all_df['zip_binned_by_poverty'] == 5],\n",
    "                all_df['CAD_com_flag'][all_df['zip_binned_by_poverty'] == 7],\n",
    "               ))\n",
    "\n",
    "print(stats.kruskal(\n",
    "               all_df['heartfailure_com_flag'][all_df['zip_binned_by_poverty'] == 1],\n",
    "               all_df['heartfailure_com_flag'][all_df['zip_binned_by_poverty'] == 2],\n",
    "               all_df['heartfailure_com_flag'][all_df['zip_binned_by_poverty'] == 3],\n",
    "               all_df['heartfailure_com_flag'][all_df['zip_binned_by_poverty'] == 4],\n",
    "               all_df['heartfailure_com_flag'][all_df['zip_binned_by_poverty'] == 5],\n",
    "                all_df['heartfailure_com_flag'][all_df['zip_binned_by_poverty'] == 7],\n",
    "               ))\n",
    "\n",
    "\n",
    "print(stats.kruskal(\n",
    "               all_df['CKD_com_flag'][all_df['zip_binned_by_poverty'] == 1],\n",
    "               all_df['CKD_com_flag'][all_df['zip_binned_by_poverty'] == 2],\n",
    "               all_df['CKD_com_flag'][all_df['zip_binned_by_poverty'] == 3],\n",
    "               all_df['CKD_com_flag'][all_df['zip_binned_by_poverty'] == 4],\n",
    "               all_df['CKD_com_flag'][all_df['zip_binned_by_poverty'] == 5],\n",
    "                all_df['CKD_com_flag'][all_df['zip_binned_by_poverty'] == 7],\n",
    "               ))\n",
    "\n",
    "\n",
    "print(stats.kruskal(\n",
    "               all_df['cancer_com_flag'][all_df['zip_binned_by_poverty'] == 1],\n",
    "               all_df['cancer_com_flag'][all_df['zip_binned_by_poverty'] == 2],\n",
    "               all_df['cancer_com_flag'][all_df['zip_binned_by_poverty'] == 3],\n",
    "               all_df['cancer_com_flag'][all_df['zip_binned_by_poverty'] == 4],\n",
    "               all_df['cancer_com_flag'][all_df['zip_binned_by_poverty'] == 5],\n",
    "                all_df['cancer_com_flag'][all_df['zip_binned_by_poverty'] == 7],\n",
    "               ))\n",
    "\n",
    "print(stats.kruskal(\n",
    "               all_df['cancer_com_flag'][all_df['zip_binned_by_income'] == 1],\n",
    "               all_df['cancer_com_flag'][all_df['zip_binned_by_income'] == 2],\n",
    "               all_df['cancer_com_flag'][all_df['zip_binned_by_income'] == 3],\n",
    "               all_df['cancer_com_flag'][all_df['zip_binned_by_income'] == 4],\n",
    "               all_df['cancer_com_flag'][all_df['zip_binned_by_income'] == 5]\n",
    "               ))"
   ]
  },
  {
   "cell_type": "code",
   "execution_count": 82,
   "metadata": {},
   "outputs": [
    {
     "data": {
      "text/plain": [
       "KruskalResult(statistic=5.294010966158078, pvalue=0.3810620392163848)"
      ]
     },
     "execution_count": 82,
     "metadata": {},
     "output_type": "execute_result"
    }
   ],
   "source": [
    "stats.kruskal(\n",
    "               all_df['death'][all_df['zip_binned_by_poverty'] == 1],\n",
    "               all_df['death'][all_df['zip_binned_by_poverty'] == 2],\n",
    "               all_df['death'][all_df['zip_binned_by_poverty'] == 3],\n",
    "               all_df['death'][all_df['zip_binned_by_poverty'] == 4],\n",
    "               all_df['death'][all_df['zip_binned_by_poverty'] == 5],\n",
    "                all_df['death'][all_df['zip_binned_by_poverty'] == 7],\n",
    "               )"
   ]
  },
  {
   "cell_type": "code",
   "execution_count": 83,
   "metadata": {},
   "outputs": [
    {
     "data": {
      "text/plain": [
       "array([2, 3, 4, 1, 5])"
      ]
     },
     "execution_count": 83,
     "metadata": {},
     "output_type": "execute_result"
    }
   ],
   "source": [
    "temp_df['zip_binned_by_poverty'].unique()33.23"
   ]
  },
  {
   "cell_type": "code",
   "execution_count": 84,
   "metadata": {},
   "outputs": [
    {
     "data": {
      "text/plain": [
       "KruskalResult(statistic=12.921979195974854, pvalue=0.011663376751185534)"
      ]
     },
     "execution_count": 84,
     "metadata": {},
     "output_type": "execute_result"
    }
   ],
   "source": [
    "stats.kruskal(\n",
    "               temp_df['qSOFA_score'][temp_df['zip_binned_by_poverty'] == 1],\n",
    "               temp_df['qSOFA_score'][temp_df['zip_binned_by_poverty'] == 2],\n",
    "               temp_df['qSOFA_score'][temp_df['zip_binned_by_poverty'] == 3],\n",
    "               temp_df['qSOFA_score'][temp_df['zip_binned_by_poverty'] == 4],\n",
    "               temp_df['qSOFA_score'][temp_df['zip_binned_by_poverty'] == 5],\n",
    "               )"
   ]
  },
  {
   "cell_type": "code",
   "execution_count": 85,
   "metadata": {},
   "outputs": [
    {
     "data": {
      "text/plain": [
       "KruskalResult(statistic=8.819989093672229, pvalue=0.11646321653179063)"
      ]
     },
     "execution_count": 85,
     "metadata": {},
     "output_type": "execute_result"
    }
   ],
   "source": [
    "stats.kruskal(\n",
    "               all_df['total_comorbidities'][all_df['zip_binned_by_poverty'] == 1],\n",
    "               all_df['total_comorbidities'][all_df['zip_binned_by_poverty'] == 2],\n",
    "               all_df['total_comorbidities'][all_df['zip_binned_by_poverty'] == 3],\n",
    "               all_df['total_comorbidities'][all_df['zip_binned_by_poverty'] == 4],\n",
    "               all_df['total_comorbidities'][all_df['zip_binned_by_poverty'] == 5],\n",
    "                all_df['total_comorbidities'][all_df['zip_binned_by_poverty'] == 7],\n",
    "               )"
   ]
  },
  {
   "cell_type": "code",
   "execution_count": 86,
   "metadata": {},
   "outputs": [
    {
     "name": "stdout",
     "output_type": "stream",
     "text": [
      "Multiple Comparison of Means - Tukey HSD, FWER=0.05\n",
      "===================================================\n",
      "group1 group2 meandiff p-adj   lower  upper  reject\n",
      "---------------------------------------------------\n",
      "     1      2   0.0128    0.9 -0.1384 0.1639  False\n",
      "     1      3   0.0058    0.9 -0.1463 0.1578  False\n",
      "     1      4  -0.0351    0.9  -0.193 0.1227  False\n",
      "     1      5    0.048    0.9 -0.1845 0.2806  False\n",
      "     1      7   0.7778 0.4324 -0.4198 1.9754  False\n",
      "     2      3   -0.007    0.9 -0.1272 0.1132  False\n",
      "     2      4  -0.0479 0.8882 -0.1754 0.0795  False\n",
      "     2      5   0.0353    0.9 -0.1779 0.2484  False\n",
      "     2      7    0.765 0.4482  -0.429  1.959  False\n",
      "     3      4  -0.0409    0.9 -0.1693 0.0876  False\n",
      "     3      5   0.0423    0.9 -0.1715  0.256  False\n",
      "     3      7    0.772 0.4377  -0.422 1.9661  False\n",
      "     4      5   0.0832 0.8786 -0.1347 0.3011  False\n",
      "     4      7   0.8129 0.3771 -0.3819 2.0077  False\n",
      "     5      7   0.7297 0.5115 -0.4772 1.9367  False\n",
      "---------------------------------------------------\n"
     ]
    }
   ],
   "source": [
    "print(pairwise_tukeyhsd(all_df['death'], all_df['zip_binned_by_poverty']))"
   ]
  },
  {
   "cell_type": "code",
   "execution_count": 87,
   "metadata": {},
   "outputs": [
    {
     "name": "stdout",
     "output_type": "stream",
     "text": [
      "Multiple Comparison of Means - Tukey HSD, FWER=0.05 \n",
      "====================================================\n",
      "group1 group2 meandiff p-adj   lower   upper  reject\n",
      "----------------------------------------------------\n",
      "     1      2  -0.3252 0.0036 -0.5748 -0.0756   True\n",
      "     1      3  -0.3292  0.003 -0.5784 -0.0801   True\n",
      "     1      4  -0.3303 0.0044  -0.588 -0.0726   True\n",
      "     1      5   -0.288 0.2262 -0.6651  0.0892  False\n",
      "     2      3  -0.0041    0.9 -0.2028  0.1947  False\n",
      "     2      4  -0.0051    0.9 -0.2145  0.2043  False\n",
      "     2      5   0.0372    0.9 -0.3087  0.3831  False\n",
      "     3      4   -0.001    0.9 -0.2099  0.2078  False\n",
      "     3      5   0.0413    0.9 -0.3043  0.3869  False\n",
      "     4      5   0.0423    0.9 -0.3095  0.3941  False\n",
      "----------------------------------------------------\n"
     ]
    }
   ],
   "source": [
    "# Interesting note about poverty rate \n",
    "# poverty rate bands were created by looking at the std of poverty rate counts \n",
    "# having qSOFA that is not based on presenting labs and vitals might be interesting \n",
    "# to suss out whether or not there are clear differences in means for poverty rate \n",
    "print(pairwise_tukeyhsd(temp_df['qSOFA_score'], temp_df['zip_binned_by_poverty']))"
   ]
  },
  {
   "cell_type": "code",
   "execution_count": 88,
   "metadata": {},
   "outputs": [
    {
     "name": "stdout",
     "output_type": "stream",
     "text": [
      "Multiple Comparison of Means - Tukey HSD, FWER=0.05\n",
      "===================================================\n",
      "group1 group2 meandiff p-adj   lower  upper  reject\n",
      "---------------------------------------------------\n",
      "     1      2   0.1278    0.9 -0.3196 0.5752  False\n",
      "     1      3  -0.0782    0.9 -0.5281 0.3717  False\n",
      "     1      4  -0.0996    0.9 -0.5668 0.3675  False\n",
      "     1      5   0.3237 0.7326 -0.3646 1.0121  False\n",
      "     1      7  -1.6222 0.7534 -5.1665  1.922  False\n",
      "     2      3   -0.206 0.5535 -0.5616 0.1497  False\n",
      "     2      4  -0.2274 0.5142 -0.6046 0.1498  False\n",
      "     2      5   0.1959    0.9 -0.4348 0.8267  False\n",
      "     2      7    -1.75 0.6915 -5.2835 1.7835  False\n",
      "     3      4  -0.0215    0.9 -0.4016 0.3587  False\n",
      "     3      5   0.4019 0.4579 -0.2307 1.0345  False\n",
      "     3      7   -1.544 0.7876 -5.0779 1.9898  False\n",
      "     4      5   0.4234 0.4198 -0.2216 1.0683  False\n",
      "     4      7  -1.5226  0.798 -5.0587 2.0135  False\n",
      "     5      7  -1.9459   0.61  -5.518 1.6261  False\n",
      "---------------------------------------------------\n"
     ]
    }
   ],
   "source": [
    "print(pairwise_tukeyhsd(all_df['total_comorbidities'], all_df['zip_binned_by_poverty']))"
   ]
  },
  {
   "cell_type": "code",
   "execution_count": 89,
   "metadata": {},
   "outputs": [
    {
     "data": {
      "text/plain": [
       "count       676.000000\n",
       "mean      66941.738166\n",
       "std       20219.824816\n",
       "min       27205.000000\n",
       "25%       51053.000000\n",
       "50%       59911.000000\n",
       "75%       75766.000000\n",
       "max      184500.000000\n",
       "Name: median_income, dtype: float64"
      ]
     },
     "execution_count": 89,
     "metadata": {},
     "output_type": "execute_result"
    }
   ],
   "source": [
    "# mean income \n",
    "all_df['median_income'].describe()"
   ]
  },
  {
   "cell_type": "code",
   "execution_count": 90,
   "metadata": {},
   "outputs": [
    {
     "data": {
      "text/plain": [
       "count    676.000000\n",
       "mean      14.031509\n",
       "std        6.435137\n",
       "min        2.300000\n",
       "25%        9.100000\n",
       "50%       12.700000\n",
       "75%       18.400000\n",
       "max       38.700000\n",
       "Name: poverty_rate, dtype: float64"
      ]
     },
     "execution_count": 90,
     "metadata": {},
     "output_type": "execute_result"
    }
   ],
   "source": [
    "all_df['poverty_rate'].describe()"
   ]
  },
  {
   "cell_type": "code",
   "execution_count": 91,
   "metadata": {},
   "outputs": [
    {
     "name": "stderr",
     "output_type": "stream",
     "text": [
      "/home/joel/anaconda3/lib/python3.7/site-packages/seaborn/_decorators.py:43: FutureWarning: Pass the following variable as a keyword arg: x. From version 0.12, the only valid positional argument will be `data`, and passing other arguments without an explicit keyword will result in an error or misinterpretation.\n",
      "  FutureWarning\n"
     ]
    },
    {
     "data": {
      "text/plain": [
       "<AxesSubplot:xlabel='poverty_rate'>"
      ]
     },
     "execution_count": 91,
     "metadata": {},
     "output_type": "execute_result"
    },
    {
     "data": {
      "image/png": "[encoded data removed]",
      "text/plain": [
       "<Figure size 432x288 with 1 Axes>"
      ]
     },
     "metadata": {
      "needs_background": "light"
     },
     "output_type": "display_data"
    }
   ],
   "source": [
    "sn.boxplot(all_df['poverty_rate'])"
   ]
  },
  {
   "cell_type": "code",
   "execution_count": 92,
   "metadata": {},
   "outputs": [
    {
     "data": {
      "text/plain": [
       "Counter({3: 203, 2: 333, 4: 78, 5: 57, 1: 5})"
      ]
     },
     "execution_count": 92,
     "metadata": {},
     "output_type": "execute_result"
    }
   ],
   "source": [
    "Counter(all_df['zip_binned_by_income'])"
   ]
  },
  {
   "cell_type": "code",
   "execution_count": 93,
   "metadata": {},
   "outputs": [
    {
     "data": {
      "text/plain": [
       "Counter({2: 200, 3: 193, 4: 155, 1: 90, 5: 37, 7: 1})"
      ]
     },
     "execution_count": 93,
     "metadata": {},
     "output_type": "execute_result"
    }
   ],
   "source": [
    "Counter(all_df['zip_binned_by_poverty'])"
   ]
  },
  {
   "cell_type": "code",
   "execution_count": 94,
   "metadata": {},
   "outputs": [],
   "source": [
    "bins = [0, 6, 12, 18,24,30,36,40]"
   ]
  },
  {
   "cell_type": "code",
   "execution_count": 95,
   "metadata": {},
   "outputs": [
    {
     "name": "stderr",
     "output_type": "stream",
     "text": [
      "/home/joel/anaconda3/lib/python3.7/site-packages/seaborn/distributions.py:2551: FutureWarning: `distplot` is a deprecated function and will be removed in a future version. Please adapt your code to use either `displot` (a figure-level function with similar flexibility) or `histplot` (an axes-level function for histograms).\n",
      "  warnings.warn(msg, FutureWarning)\n"
     ]
    },
    {
     "data": {
      "text/plain": [
       "<AxesSubplot:xlabel='zip_binned_by_poverty', ylabel='Density'>"
      ]
     },
     "execution_count": 95,
     "metadata": {},
     "output_type": "execute_result"
    },
    {
     "data": {
      "image/png": "[encoded data removed]",
      "text/plain": [
       "<Figure size 432x288 with 1 Axes>"
      ]
     },
     "metadata": {
      "needs_background": "light"
     },
     "output_type": "display_data"
    }
   ],
   "source": [
    "sn.distplot(all_df['zip_binned_by_poverty'])"
   ]
  },
  {
   "cell_type": "code",
   "execution_count": 96,
   "metadata": {},
   "outputs": [
    {
     "name": "stderr",
     "output_type": "stream",
     "text": [
      "/home/joel/anaconda3/lib/python3.7/site-packages/seaborn/distributions.py:2551: FutureWarning: `distplot` is a deprecated function and will be removed in a future version. Please adapt your code to use either `displot` (a figure-level function with similar flexibility) or `histplot` (an axes-level function for histograms).\n",
      "  warnings.warn(msg, FutureWarning)\n"
     ]
    },
    {
     "data": {
      "text/plain": [
       "<AxesSubplot:xlabel='zip_binned_by_income', ylabel='Density'>"
      ]
     },
     "execution_count": 96,
     "metadata": {},
     "output_type": "execute_result"
    },
    {
     "data": {
      "image/png": "[encoded data removed]",
      "text/plain": [
       "<Figure size 432x288 with 1 Axes>"
      ]
     },
     "metadata": {
      "needs_background": "light"
     },
     "output_type": "display_data"
    }
   ],
   "source": [
    "sn.distplot(all_df['zip_binned_by_income'])"
   ]
  },
  {
   "cell_type": "code",
   "execution_count": 111,
   "metadata": {},
   "outputs": [],
   "source": [
    "group_df = pd.read_csv('group_means.csv')"
   ]
  },
  {
   "cell_type": "code",
   "execution_count": 112,
   "metadata": {},
   "outputs": [
    {
     "data": {
      "text/html": [
       "<div>\n",
       "<style scoped>\n",
       "    .dataframe tbody tr th:only-of-type {\n",
       "        vertical-align: middle;\n",
       "    }\n",
       "\n",
       "    .dataframe tbody tr th {\n",
       "        vertical-align: top;\n",
       "    }\n",
       "\n",
       "    .dataframe thead th {\n",
       "        text-align: right;\n",
       "    }\n",
       "</style>\n",
       "<table border=\"1\" class=\"dataframe\">\n",
       "  <thead>\n",
       "    <tr style=\"text-align: right;\">\n",
       "      <th></th>\n",
       "      <th>Category Being Tested</th>\n",
       "      <th>Group Mean Outcome</th>\n",
       "      <th>H Statistic</th>\n",
       "      <th>P-Values</th>\n",
       "    </tr>\n",
       "  </thead>\n",
       "  <tbody>\n",
       "    <tr>\n",
       "      <th>0</th>\n",
       "      <td>Race</td>\n",
       "      <td>Mortality</td>\n",
       "      <td>20.82</td>\n",
       "      <td>0.0020</td>\n",
       "    </tr>\n",
       "    <tr>\n",
       "      <th>1</th>\n",
       "      <td>Race</td>\n",
       "      <td>qSOFA Score</td>\n",
       "      <td>16.01</td>\n",
       "      <td>0.0140</td>\n",
       "    </tr>\n",
       "    <tr>\n",
       "      <th>2</th>\n",
       "      <td>Race</td>\n",
       "      <td>Total Number of Comorbidities</td>\n",
       "      <td>12.38</td>\n",
       "      <td>0.0540</td>\n",
       "    </tr>\n",
       "    <tr>\n",
       "      <th>3</th>\n",
       "      <td>Race</td>\n",
       "      <td>Has at least one Comorbiditiy</td>\n",
       "      <td>6.79</td>\n",
       "      <td>0.3410</td>\n",
       "    </tr>\n",
       "    <tr>\n",
       "      <th>4</th>\n",
       "      <td>Race</td>\n",
       "      <td>Has COPD</td>\n",
       "      <td>24.22</td>\n",
       "      <td>0.0005</td>\n",
       "    </tr>\n",
       "  </tbody>\n",
       "</table>\n",
       "</div>"
      ],
      "text/plain": [
       "  Category Being Tested              Group Mean Outcome  H Statistic  P-Values\n",
       "0                  Race                       Mortality        20.82    0.0020\n",
       "1                  Race                     qSOFA Score        16.01    0.0140\n",
       "2                  Race   Total Number of Comorbidities        12.38    0.0540\n",
       "3                  Race  Has at least one Comorbiditiy          6.79    0.3410\n",
       "4                  Race                        Has COPD        24.22    0.0005"
      ]
     },
     "execution_count": 112,
     "metadata": {},
     "output_type": "execute_result"
    }
   ],
   "source": [
    "group_df.head()"
   ]
  },
  {
   "cell_type": "code",
   "execution_count": null,
   "metadata": {},
   "outputs": [],
   "source": [
    "group_df.columns"
   ]
  },
  {
   "cell_type": "code",
   "execution_count": 109,
   "metadata": {},
   "outputs": [
    {
     "data": {
      "text/plain": [
       "Index(['Category Being Tested', 'Group Mean Outcome', 'H Statistic',\n",
       "       'P-Values'],\n",
       "      dtype='object')"
      ]
     },
     "execution_count": 109,
     "metadata": {},
     "output_type": "execute_result"
    }
   ],
   "source": [
    "group_df.columns"
   ]
  },
  {
   "cell_type": "code",
   "execution_count": 120,
   "metadata": {
    "scrolled": true
   },
   "outputs": [
    {
     "data": {
      "text/html": [
       "<div>\n",
       "<style scoped>\n",
       "    .dataframe tbody tr th:only-of-type {\n",
       "        vertical-align: middle;\n",
       "    }\n",
       "\n",
       "    .dataframe tbody tr th {\n",
       "        vertical-align: top;\n",
       "    }\n",
       "\n",
       "    .dataframe thead th {\n",
       "        text-align: right;\n",
       "    }\n",
       "</style>\n",
       "<table border=\"1\" class=\"dataframe\">\n",
       "  <thead>\n",
       "    <tr style=\"text-align: right;\">\n",
       "      <th></th>\n",
       "      <th>Category Being Tested</th>\n",
       "      <th>Group Mean Outcome</th>\n",
       "      <th>H Statistic</th>\n",
       "      <th>P-Values</th>\n",
       "    </tr>\n",
       "  </thead>\n",
       "  <tbody>\n",
       "    <tr>\n",
       "      <th>0</th>\n",
       "      <td>Age</td>\n",
       "      <td>Has Asthma</td>\n",
       "      <td>12.930</td>\n",
       "      <td>0.2280</td>\n",
       "    </tr>\n",
       "    <tr>\n",
       "      <th>1</th>\n",
       "      <td>Age</td>\n",
       "      <td>Has CAD</td>\n",
       "      <td>44.680</td>\n",
       "      <td>2.4800</td>\n",
       "    </tr>\n",
       "    <tr>\n",
       "      <th>2</th>\n",
       "      <td>Age</td>\n",
       "      <td>Has CKD</td>\n",
       "      <td>33.230</td>\n",
       "      <td>0.0002</td>\n",
       "    </tr>\n",
       "    <tr>\n",
       "      <th>3</th>\n",
       "      <td>Age</td>\n",
       "      <td>Has COPD</td>\n",
       "      <td>42.600</td>\n",
       "      <td>5.8550</td>\n",
       "    </tr>\n",
       "    <tr>\n",
       "      <th>4</th>\n",
       "      <td>Age</td>\n",
       "      <td>Has Cancer</td>\n",
       "      <td>8.360</td>\n",
       "      <td>0.5900</td>\n",
       "    </tr>\n",
       "    <tr>\n",
       "      <th>5</th>\n",
       "      <td>Age</td>\n",
       "      <td>Has Diabetes</td>\n",
       "      <td>57.810</td>\n",
       "      <td>9.3800</td>\n",
       "    </tr>\n",
       "    <tr>\n",
       "      <th>6</th>\n",
       "      <td>Age</td>\n",
       "      <td>Has Heartfailure</td>\n",
       "      <td>33.300</td>\n",
       "      <td>0.0002</td>\n",
       "    </tr>\n",
       "    <tr>\n",
       "      <th>7</th>\n",
       "      <td>Age</td>\n",
       "      <td>Has Hyptertension</td>\n",
       "      <td>50.800</td>\n",
       "      <td>1.9000</td>\n",
       "    </tr>\n",
       "    <tr>\n",
       "      <th>8</th>\n",
       "      <td>Age</td>\n",
       "      <td>Has at least one Comorbiditiy</td>\n",
       "      <td>102.000</td>\n",
       "      <td>1.8640</td>\n",
       "    </tr>\n",
       "    <tr>\n",
       "      <th>9</th>\n",
       "      <td>Age</td>\n",
       "      <td>Mortality</td>\n",
       "      <td>72.280</td>\n",
       "      <td>1.6000</td>\n",
       "    </tr>\n",
       "    <tr>\n",
       "      <th>10</th>\n",
       "      <td>Age</td>\n",
       "      <td>Total Number of Comorbidities</td>\n",
       "      <td>128.380</td>\n",
       "      <td>9.9730</td>\n",
       "    </tr>\n",
       "    <tr>\n",
       "      <th>11</th>\n",
       "      <td>Age</td>\n",
       "      <td>qSOFA Score</td>\n",
       "      <td>16.040</td>\n",
       "      <td>0.4180</td>\n",
       "    </tr>\n",
       "    <tr>\n",
       "      <th>12</th>\n",
       "      <td>Median Income</td>\n",
       "      <td>Has Asthma</td>\n",
       "      <td>3.844</td>\n",
       "      <td>0.4270</td>\n",
       "    </tr>\n",
       "    <tr>\n",
       "      <th>13</th>\n",
       "      <td>Median Income</td>\n",
       "      <td>Has CAD</td>\n",
       "      <td>4.520</td>\n",
       "      <td>0.3400</td>\n",
       "    </tr>\n",
       "    <tr>\n",
       "      <th>14</th>\n",
       "      <td>Median Income</td>\n",
       "      <td>Has CKD</td>\n",
       "      <td>4.970</td>\n",
       "      <td>0.2900</td>\n",
       "    </tr>\n",
       "    <tr>\n",
       "      <th>15</th>\n",
       "      <td>Median Income</td>\n",
       "      <td>Has COPD</td>\n",
       "      <td>25.960</td>\n",
       "      <td>3.2200</td>\n",
       "    </tr>\n",
       "    <tr>\n",
       "      <th>16</th>\n",
       "      <td>Median Income</td>\n",
       "      <td>Has Cancer</td>\n",
       "      <td>9.290</td>\n",
       "      <td>0.0540</td>\n",
       "    </tr>\n",
       "    <tr>\n",
       "      <th>17</th>\n",
       "      <td>Median Income</td>\n",
       "      <td>Has Diabetes</td>\n",
       "      <td>20.770</td>\n",
       "      <td>0.0004</td>\n",
       "    </tr>\n",
       "    <tr>\n",
       "      <th>18</th>\n",
       "      <td>Median Income</td>\n",
       "      <td>Has Heartfailure</td>\n",
       "      <td>6.690</td>\n",
       "      <td>0.1530</td>\n",
       "    </tr>\n",
       "    <tr>\n",
       "      <th>19</th>\n",
       "      <td>Median Income</td>\n",
       "      <td>Has Hyptertension</td>\n",
       "      <td>6.450</td>\n",
       "      <td>0.1680</td>\n",
       "    </tr>\n",
       "    <tr>\n",
       "      <th>20</th>\n",
       "      <td>Median Income</td>\n",
       "      <td>Has at least one Comorbiditiy</td>\n",
       "      <td>11.770</td>\n",
       "      <td>0.0192</td>\n",
       "    </tr>\n",
       "    <tr>\n",
       "      <th>21</th>\n",
       "      <td>Median Income</td>\n",
       "      <td>Mortality</td>\n",
       "      <td>6.480</td>\n",
       "      <td>0.1660</td>\n",
       "    </tr>\n",
       "    <tr>\n",
       "      <th>22</th>\n",
       "      <td>Median Income</td>\n",
       "      <td>Total Number of Comorbidities</td>\n",
       "      <td>7.330</td>\n",
       "      <td>0.1200</td>\n",
       "    </tr>\n",
       "    <tr>\n",
       "      <th>23</th>\n",
       "      <td>Median Income</td>\n",
       "      <td>qSOFA Score</td>\n",
       "      <td>6.150</td>\n",
       "      <td>0.1880</td>\n",
       "    </tr>\n",
       "    <tr>\n",
       "      <th>24</th>\n",
       "      <td>Poverty Rate</td>\n",
       "      <td>Has Asthma</td>\n",
       "      <td>4.260</td>\n",
       "      <td>0.5120</td>\n",
       "    </tr>\n",
       "    <tr>\n",
       "      <th>25</th>\n",
       "      <td>Poverty Rate</td>\n",
       "      <td>Has CAD</td>\n",
       "      <td>5.780</td>\n",
       "      <td>0.3300</td>\n",
       "    </tr>\n",
       "    <tr>\n",
       "      <th>26</th>\n",
       "      <td>Poverty Rate</td>\n",
       "      <td>Has CKD</td>\n",
       "      <td>5.060</td>\n",
       "      <td>0.4090</td>\n",
       "    </tr>\n",
       "    <tr>\n",
       "      <th>27</th>\n",
       "      <td>Poverty Rate</td>\n",
       "      <td>Has COPD</td>\n",
       "      <td>20.170</td>\n",
       "      <td>0.0010</td>\n",
       "    </tr>\n",
       "    <tr>\n",
       "      <th>28</th>\n",
       "      <td>Poverty Rate</td>\n",
       "      <td>Has Diabetes</td>\n",
       "      <td>17.860</td>\n",
       "      <td>0.0030</td>\n",
       "    </tr>\n",
       "    <tr>\n",
       "      <th>29</th>\n",
       "      <td>Poverty Rate</td>\n",
       "      <td>Has Heartfailure</td>\n",
       "      <td>2.130</td>\n",
       "      <td>0.8310</td>\n",
       "    </tr>\n",
       "    <tr>\n",
       "      <th>30</th>\n",
       "      <td>Poverty Rate</td>\n",
       "      <td>Has Hyptertension</td>\n",
       "      <td>8.530</td>\n",
       "      <td>0.1300</td>\n",
       "    </tr>\n",
       "    <tr>\n",
       "      <th>31</th>\n",
       "      <td>Poverty Rate</td>\n",
       "      <td>Has at least one Comorbiditiy</td>\n",
       "      <td>13.340</td>\n",
       "      <td>0.0200</td>\n",
       "    </tr>\n",
       "    <tr>\n",
       "      <th>32</th>\n",
       "      <td>Poverty Rate</td>\n",
       "      <td>Mortality</td>\n",
       "      <td>5.290</td>\n",
       "      <td>0.3810</td>\n",
       "    </tr>\n",
       "    <tr>\n",
       "      <th>33</th>\n",
       "      <td>Poverty Rate</td>\n",
       "      <td>Total Number of Comorbidities</td>\n",
       "      <td>8.820</td>\n",
       "      <td>0.0110</td>\n",
       "    </tr>\n",
       "    <tr>\n",
       "      <th>34</th>\n",
       "      <td>Poverty Rate</td>\n",
       "      <td>qSOFA Score</td>\n",
       "      <td>12.920</td>\n",
       "      <td>0.0110</td>\n",
       "    </tr>\n",
       "    <tr>\n",
       "      <th>35</th>\n",
       "      <td>Race</td>\n",
       "      <td>Has Asthma</td>\n",
       "      <td>2.980</td>\n",
       "      <td>0.8120</td>\n",
       "    </tr>\n",
       "    <tr>\n",
       "      <th>36</th>\n",
       "      <td>Race</td>\n",
       "      <td>Has CAD</td>\n",
       "      <td>16.120</td>\n",
       "      <td>0.0130</td>\n",
       "    </tr>\n",
       "    <tr>\n",
       "      <th>37</th>\n",
       "      <td>Race</td>\n",
       "      <td>Has CKD</td>\n",
       "      <td>37.030</td>\n",
       "      <td>1.7400</td>\n",
       "    </tr>\n",
       "    <tr>\n",
       "      <th>38</th>\n",
       "      <td>Race</td>\n",
       "      <td>Has COPD</td>\n",
       "      <td>24.220</td>\n",
       "      <td>0.0005</td>\n",
       "    </tr>\n",
       "    <tr>\n",
       "      <th>39</th>\n",
       "      <td>Race</td>\n",
       "      <td>Has Cancer</td>\n",
       "      <td>3.150</td>\n",
       "      <td>0.7900</td>\n",
       "    </tr>\n",
       "    <tr>\n",
       "      <th>40</th>\n",
       "      <td>Race</td>\n",
       "      <td>Has Diabetes</td>\n",
       "      <td>10.730</td>\n",
       "      <td>0.0970</td>\n",
       "    </tr>\n",
       "    <tr>\n",
       "      <th>41</th>\n",
       "      <td>Race</td>\n",
       "      <td>Has Heartfailure</td>\n",
       "      <td>10.640</td>\n",
       "      <td>0.1000</td>\n",
       "    </tr>\n",
       "    <tr>\n",
       "      <th>42</th>\n",
       "      <td>Race</td>\n",
       "      <td>Has Hyptertension</td>\n",
       "      <td>13.640</td>\n",
       "      <td>0.0340</td>\n",
       "    </tr>\n",
       "    <tr>\n",
       "      <th>43</th>\n",
       "      <td>Race</td>\n",
       "      <td>Has at least one Comorbiditiy</td>\n",
       "      <td>6.790</td>\n",
       "      <td>0.3410</td>\n",
       "    </tr>\n",
       "    <tr>\n",
       "      <th>44</th>\n",
       "      <td>Race</td>\n",
       "      <td>Mortality</td>\n",
       "      <td>20.820</td>\n",
       "      <td>0.0020</td>\n",
       "    </tr>\n",
       "    <tr>\n",
       "      <th>45</th>\n",
       "      <td>Race</td>\n",
       "      <td>Total Number of Comorbidities</td>\n",
       "      <td>12.380</td>\n",
       "      <td>0.0540</td>\n",
       "    </tr>\n",
       "    <tr>\n",
       "      <th>46</th>\n",
       "      <td>Race</td>\n",
       "      <td>qSOFA Score</td>\n",
       "      <td>16.010</td>\n",
       "      <td>0.0140</td>\n",
       "    </tr>\n",
       "  </tbody>\n",
       "</table>\n",
       "</div>"
      ],
      "text/plain": [
       "   Category Being Tested              Group Mean Outcome  H Statistic  \\\n",
       "0                    Age                      Has Asthma       12.930   \n",
       "1                    Age                        Has CAD        44.680   \n",
       "2                    Age                         Has CKD       33.230   \n",
       "3                    Age                        Has COPD       42.600   \n",
       "4                    Age                      Has Cancer        8.360   \n",
       "5                    Age                    Has Diabetes       57.810   \n",
       "6                    Age                Has Heartfailure       33.300   \n",
       "7                    Age               Has Hyptertension       50.800   \n",
       "8                    Age  Has at least one Comorbiditiy       102.000   \n",
       "9                    Age                       Mortality       72.280   \n",
       "10                   Age   Total Number of Comorbidities      128.380   \n",
       "11                   Age                     qSOFA Score       16.040   \n",
       "12         Median Income                      Has Asthma        3.844   \n",
       "13         Median Income                        Has CAD         4.520   \n",
       "14         Median Income                         Has CKD        4.970   \n",
       "15         Median Income                        Has COPD       25.960   \n",
       "16         Median Income                      Has Cancer        9.290   \n",
       "17         Median Income                    Has Diabetes       20.770   \n",
       "18         Median Income                Has Heartfailure        6.690   \n",
       "19         Median Income               Has Hyptertension        6.450   \n",
       "20         Median Income  Has at least one Comorbiditiy        11.770   \n",
       "21         Median Income                       Mortality        6.480   \n",
       "22         Median Income   Total Number of Comorbidities        7.330   \n",
       "23         Median Income                     qSOFA Score        6.150   \n",
       "24          Poverty Rate                      Has Asthma        4.260   \n",
       "25          Poverty Rate                        Has CAD         5.780   \n",
       "26          Poverty Rate                         Has CKD        5.060   \n",
       "27          Poverty Rate                        Has COPD       20.170   \n",
       "28          Poverty Rate                    Has Diabetes       17.860   \n",
       "29          Poverty Rate                Has Heartfailure        2.130   \n",
       "30          Poverty Rate               Has Hyptertension        8.530   \n",
       "31          Poverty Rate  Has at least one Comorbiditiy        13.340   \n",
       "32          Poverty Rate                       Mortality        5.290   \n",
       "33          Poverty Rate   Total Number of Comorbidities        8.820   \n",
       "34          Poverty Rate                     qSOFA Score       12.920   \n",
       "35                  Race                      Has Asthma        2.980   \n",
       "36                  Race                        Has CAD        16.120   \n",
       "37                  Race                         Has CKD       37.030   \n",
       "38                  Race                        Has COPD       24.220   \n",
       "39                  Race                      Has Cancer        3.150   \n",
       "40                  Race                    Has Diabetes       10.730   \n",
       "41                  Race                Has Heartfailure       10.640   \n",
       "42                  Race               Has Hyptertension       13.640   \n",
       "43                  Race  Has at least one Comorbiditiy         6.790   \n",
       "44                  Race                       Mortality       20.820   \n",
       "45                  Race   Total Number of Comorbidities       12.380   \n",
       "46                  Race                     qSOFA Score       16.010   \n",
       "\n",
       "    P-Values  \n",
       "0     0.2280  \n",
       "1     2.4800  \n",
       "2     0.0002  \n",
       "3     5.8550  \n",
       "4     0.5900  \n",
       "5     9.3800  \n",
       "6     0.0002  \n",
       "7     1.9000  \n",
       "8     1.8640  \n",
       "9     1.6000  \n",
       "10    9.9730  \n",
       "11    0.4180  \n",
       "12    0.4270  \n",
       "13    0.3400  \n",
       "14    0.2900  \n",
       "15    3.2200  \n",
       "16    0.0540  \n",
       "17    0.0004  \n",
       "18    0.1530  \n",
       "19    0.1680  \n",
       "20    0.0192  \n",
       "21    0.1660  \n",
       "22    0.1200  \n",
       "23    0.1880  \n",
       "24    0.5120  \n",
       "25    0.3300  \n",
       "26    0.4090  \n",
       "27    0.0010  \n",
       "28    0.0030  \n",
       "29    0.8310  \n",
       "30    0.1300  \n",
       "31    0.0200  \n",
       "32    0.3810  \n",
       "33    0.0110  \n",
       "34    0.0110  \n",
       "35    0.8120  \n",
       "36    0.0130  \n",
       "37    1.7400  \n",
       "38    0.0005  \n",
       "39    0.7900  \n",
       "40    0.0970  \n",
       "41    0.1000  \n",
       "42    0.0340  \n",
       "43    0.3410  \n",
       "44    0.0020  \n",
       "45    0.0540  \n",
       "46    0.0140  "
      ]
     },
     "execution_count": 120,
     "metadata": {},
     "output_type": "execute_result"
    }
   ],
   "source": [
    "df = group_df.groupby(['Category Being Tested', 'Group Mean Outcome', 'H Statistic',\n",
    "       'P-Values']).count()\n",
    "df.reset_index()"
   ]
  },
  {
   "cell_type": "code",
   "execution_count": 121,
   "metadata": {},
   "outputs": [
    {
     "name": "stdout",
     "output_type": "stream",
     "text": [
      "\\begin{tabular}{llrr}\n",
      "\\toprule\n",
      "Category Being Tested &              Group Mean Outcome &  H Statistic &  P-Values \\\\\n",
      "\\midrule\n",
      "                  Age &                      Has Asthma &        12.93 &      0.23 \\\\\n",
      "                  Age &                        Has CAD  &        44.68 &      2.48 \\\\\n",
      "                  Age &                         Has CKD &        33.23 &      0.00 \\\\\n",
      "                  Age &                        Has COPD &        42.60 &      5.86 \\\\\n",
      "                  Age &                      Has Cancer &         8.36 &      0.59 \\\\\n",
      "                  Age &                    Has Diabetes &        57.81 &      9.38 \\\\\n",
      "                  Age &                Has Heartfailure &        33.30 &      0.00 \\\\\n",
      "                  Age &               Has Hyptertension &        50.80 &      1.90 \\\\\n",
      "                  Age &  Has at least one Comorbiditiy  &       102.00 &      1.86 \\\\\n",
      "                  Age &                       Mortality &        72.28 &      1.60 \\\\\n",
      "                  Age &   Total Number of Comorbidities &       128.38 &      9.97 \\\\\n",
      "                  Age &                     qSOFA Score &        16.04 &      0.42 \\\\\n",
      "        Median Income &                      Has Asthma &         3.84 &      0.43 \\\\\n",
      "        Median Income &                        Has CAD  &         4.52 &      0.34 \\\\\n",
      "        Median Income &                         Has CKD &         4.97 &      0.29 \\\\\n",
      "        Median Income &                        Has COPD &        25.96 &      3.22 \\\\\n",
      "        Median Income &                      Has Cancer &         9.29 &      0.05 \\\\\n",
      "        Median Income &                    Has Diabetes &        20.77 &      0.00 \\\\\n",
      "        Median Income &                Has Heartfailure &         6.69 &      0.15 \\\\\n",
      "        Median Income &               Has Hyptertension &         6.45 &      0.17 \\\\\n",
      "        Median Income &  Has at least one Comorbiditiy  &        11.77 &      0.02 \\\\\n",
      "        Median Income &                       Mortality &         6.48 &      0.17 \\\\\n",
      "        Median Income &   Total Number of Comorbidities &         7.33 &      0.12 \\\\\n",
      "        Median Income &                     qSOFA Score &         6.15 &      0.19 \\\\\n",
      "         Poverty Rate &                      Has Asthma &         4.26 &      0.51 \\\\\n",
      "         Poverty Rate &                        Has CAD  &         5.78 &      0.33 \\\\\n",
      "         Poverty Rate &                         Has CKD &         5.06 &      0.41 \\\\\n",
      "         Poverty Rate &                        Has COPD &        20.17 &      0.00 \\\\\n",
      "         Poverty Rate &                    Has Diabetes &        17.86 &      0.00 \\\\\n",
      "         Poverty Rate &                Has Heartfailure &         2.13 &      0.83 \\\\\n",
      "         Poverty Rate &               Has Hyptertension &         8.53 &      0.13 \\\\\n",
      "         Poverty Rate &  Has at least one Comorbiditiy  &        13.34 &      0.02 \\\\\n",
      "         Poverty Rate &                       Mortality &         5.29 &      0.38 \\\\\n",
      "         Poverty Rate &   Total Number of Comorbidities &         8.82 &      0.01 \\\\\n",
      "         Poverty Rate &                     qSOFA Score &        12.92 &      0.01 \\\\\n",
      "                 Race &                      Has Asthma &         2.98 &      0.81 \\\\\n",
      "                 Race &                        Has CAD  &        16.12 &      0.01 \\\\\n",
      "                 Race &                         Has CKD &        37.03 &      1.74 \\\\\n",
      "                 Race &                        Has COPD &        24.22 &      0.00 \\\\\n",
      "                 Race &                      Has Cancer &         3.15 &      0.79 \\\\\n",
      "                 Race &                    Has Diabetes &        10.73 &      0.10 \\\\\n",
      "                 Race &                Has Heartfailure &        10.64 &      0.10 \\\\\n",
      "                 Race &               Has Hyptertension &        13.64 &      0.03 \\\\\n",
      "                 Race &  Has at least one Comorbiditiy  &         6.79 &      0.34 \\\\\n",
      "                 Race &                       Mortality &        20.82 &      0.00 \\\\\n",
      "                 Race &   Total Number of Comorbidities &        12.38 &      0.05 \\\\\n",
      "                 Race &                     qSOFA Score &        16.01 &      0.01 \\\\\n",
      "\\bottomrule\n",
      "\\end{tabular}\n",
      "\n"
     ]
    }
   ],
   "source": [
    "print(df.reset_index().round(2).to_latex(index=False))  "
   ]
  },
  {
   "cell_type": "code",
   "execution_count": null,
   "metadata": {},
   "outputs": [],
   "source": []
  }
 ],
 "metadata": {
  "kernelspec": {
   "display_name": "Python 3",
   "language": "python",
   "name": "python3"
  },
  "language_info": {
   "codemirror_mode": {
    "name": "ipython",
    "version": 3
   },
   "file_extension": ".py",
   "mimetype": "text/x-python",
   "name": "python",
   "nbconvert_exporter": "python",
   "pygments_lexer": "ipython3",
   "version": "3.8.5"
  }
 },
 "nbformat": 4,
 "nbformat_minor": 4
}
