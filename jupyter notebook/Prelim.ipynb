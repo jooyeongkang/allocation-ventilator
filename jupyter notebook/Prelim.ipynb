{
 "cells": [
  {
   "cell_type": "code",
   "execution_count": 1,
   "metadata": {},
   "outputs": [],
   "source": [
    "import os \n",
    "import pandas as pd\n",
    "\n",
    "from pandas_profiling import ProfileReport\n",
    "from pandas_profiling.utils.cache import cache_file\n",
    "from collections import Counter\n",
    "import seaborn as sn\n",
    "\n",
    "\n",
    "import numpy as np"
   ]
  },
  {
   "cell_type": "code",
   "execution_count": 2,
   "metadata": {},
   "outputs": [],
   "source": [
    "box_file_dir = os.path.join(os.getcwd(), \"..\", \"..\", \"Box\")\n",
    "file_path_csv = os.path.join(box_file_dir, \"covid_pts_enc_level_labs_dx_2021-02-02_deid.csv\")"
   ]
  },
  {
   "cell_type": "code",
   "execution_count": 3,
   "metadata": {},
   "outputs": [],
   "source": [
    "df = pd.read_csv(file_path_csv, index_col=False)"
   ]
  },
  {
   "cell_type": "code",
   "execution_count": 4,
   "metadata": {},
   "outputs": [
    {
     "data": {
      "text/plain": [
       "dtype('O')"
      ]
     },
     "execution_count": 4,
     "metadata": {},
     "output_type": "execute_result"
    }
   ],
   "source": [
    "df['zip_cust_table'].dtypes"
   ]
  },
  {
   "cell_type": "code",
   "execution_count": 5,
   "metadata": {},
   "outputs": [],
   "source": [
    "def latinx(row):\n",
    "    if row.ethnicity_display == 'Hispanic or Latino' and row.race_display == 'White':\n",
    "        return \"Hispanic\"\n",
    "    elif row.ethnicity_display == 'Not Hispanic or Latino' and row.race_display == 'White': \n",
    "        return \"White\"\n",
    "    else:\n",
    "        return row.race_display"
   ]
  },
  {
   "cell_type": "code",
   "execution_count": 6,
   "metadata": {},
   "outputs": [
    {
     "data": {
      "text/plain": [
       "admit_dt_tm                object\n",
       "discharge_dt_tm            object\n",
       "facility                   object\n",
       "encounter_type_display     object\n",
       "age_at_admit                int64\n",
       "                           ...   \n",
       "cancer_com_flag            object\n",
       "qSOFA_score               float64\n",
       "deid_empi_encounter        object\n",
       "deid_mrn_encounter          int64\n",
       "deid_fin_encounter          int64\n",
       "Length: 70, dtype: object"
      ]
     },
     "execution_count": 6,
     "metadata": {},
     "output_type": "execute_result"
    }
   ],
   "source": [
    "df.dtypes"
   ]
  },
  {
   "cell_type": "code",
   "execution_count": 7,
   "metadata": {},
   "outputs": [],
   "source": [
    "df['race_display'] = df.apply(lambda row: latinx(row), axis=1)"
   ]
  },
  {
   "cell_type": "code",
   "execution_count": 8,
   "metadata": {},
   "outputs": [],
   "source": [
    "zip_df = pd.read_csv('zip_code_data.csv', index_col=False)"
   ]
  },
  {
   "cell_type": "code",
   "execution_count": 9,
   "metadata": {},
   "outputs": [],
   "source": [
    "zip_df['zip_code'] = zip_df.zip_code.apply(lambda x: x.strip('ZCTA5 '))"
   ]
  },
  {
   "cell_type": "code",
   "execution_count": 10,
   "metadata": {},
   "outputs": [
    {
     "data": {
      "text/html": [
       "<div>\n",
       "<style scoped>\n",
       "    .dataframe tbody tr th:only-of-type {\n",
       "        vertical-align: middle;\n",
       "    }\n",
       "\n",
       "    .dataframe tbody tr th {\n",
       "        vertical-align: top;\n",
       "    }\n",
       "\n",
       "    .dataframe thead th {\n",
       "        text-align: right;\n",
       "    }\n",
       "</style>\n",
       "<table border=\"1\" class=\"dataframe\">\n",
       "  <thead>\n",
       "    <tr style=\"text-align: right;\">\n",
       "      <th></th>\n",
       "      <th>zip_code</th>\n",
       "      <th>male_poverty_rate</th>\n",
       "      <th>female_poverty_rate</th>\n",
       "      <th>median_income</th>\n",
       "      <th>mean_income</th>\n",
       "      <th>poverty_rate</th>\n",
       "    </tr>\n",
       "  </thead>\n",
       "  <tbody>\n",
       "    <tr>\n",
       "      <th>0</th>\n",
       "      <td>75001</td>\n",
       "      <td>3.8</td>\n",
       "      <td>11.4</td>\n",
       "      <td>72512</td>\n",
       "      <td>87472</td>\n",
       "      <td>10.9</td>\n",
       "    </tr>\n",
       "    <tr>\n",
       "      <th>1</th>\n",
       "      <td>75002</td>\n",
       "      <td>1.4</td>\n",
       "      <td>5.2</td>\n",
       "      <td>101429</td>\n",
       "      <td>125779</td>\n",
       "      <td>4.9</td>\n",
       "    </tr>\n",
       "    <tr>\n",
       "      <th>2</th>\n",
       "      <td>75006</td>\n",
       "      <td>2.1</td>\n",
       "      <td>12.3</td>\n",
       "      <td>64462</td>\n",
       "      <td>85788</td>\n",
       "      <td>10.8</td>\n",
       "    </tr>\n",
       "    <tr>\n",
       "      <th>3</th>\n",
       "      <td>75007</td>\n",
       "      <td>1.8</td>\n",
       "      <td>6.6</td>\n",
       "      <td>86648</td>\n",
       "      <td>102783</td>\n",
       "      <td>6.7</td>\n",
       "    </tr>\n",
       "    <tr>\n",
       "      <th>4</th>\n",
       "      <td>75009</td>\n",
       "      <td>1.2</td>\n",
       "      <td>6.1</td>\n",
       "      <td>111146</td>\n",
       "      <td>144513</td>\n",
       "      <td>4</td>\n",
       "    </tr>\n",
       "  </tbody>\n",
       "</table>\n",
       "</div>"
      ],
      "text/plain": [
       "  zip_code male_poverty_rate female_poverty_rate median_income mean_income  \\\n",
       "0    75001               3.8                11.4         72512       87472   \n",
       "1    75002               1.4                 5.2        101429      125779   \n",
       "2    75006               2.1                12.3         64462       85788   \n",
       "3    75007               1.8                 6.6         86648      102783   \n",
       "4    75009               1.2                 6.1        111146      144513   \n",
       "\n",
       "  poverty_rate  \n",
       "0         10.9  \n",
       "1          4.9  \n",
       "2         10.8  \n",
       "3          6.7  \n",
       "4            4  "
      ]
     },
     "execution_count": 10,
     "metadata": {},
     "output_type": "execute_result"
    }
   ],
   "source": [
    "zip_df.head()"
   ]
  },
  {
   "cell_type": "code",
   "execution_count": 11,
   "metadata": {},
   "outputs": [
    {
     "data": {
      "text/plain": [
       "Index(['admit_dt_tm', 'discharge_dt_tm', 'facility', 'encounter_type_display',\n",
       "       'age_at_admit', 'gender', 'zip_cust_table', 'ethnicity_display',\n",
       "       'race_display', 'race_eth_comb', 'length_of_stay', 'icd_prim',\n",
       "       'deceased_dt_tm', 'discharge_disposition_display', 'dc_dispo_cat',\n",
       "       'insured_uninsured', 'admit_source', 'arrival_mode',\n",
       "       'vent_hours_summed', 'vent_first_order_start_time',\n",
       "       'vent_last_order_end_time', 'icu_hours_summed', 'icu_first_begin_time',\n",
       "       'icu_last_end_time', 'occupation', 'occ_cat', 'emp_yn', 'Creatinine',\n",
       "       'Abs_Lymph', 'ALT', 'AST', 'Bili_Total', 'D-Dimer',\n",
       "       'Diastolic_Blood_Pressure', 'Dosing_Weight_(kg)', 'FiO2/Percent',\n",
       "       'Glasgow_Coma_Score', 'Lymph_Auto', 'Oxygen_Delivery_Method',\n",
       "       'Oxygen_Saturation', 'Platelet', 'pO2_Art', 'Procalcitonin',\n",
       "       'Respiratory_Rate', 'Systolic_Blood_Pressure', 'Troponin-I', 'WBC',\n",
       "       'Oxygen_Flow_Rate', 'Patient_Smoking_Status', 'Visit_Reason',\n",
       "       'Height_(in)', 'Mean_Arterial_Pressure', 'SARSCOV2', 'SARSCOV2_Source',\n",
       "       'heart_pulse_comb', 'temp_oral_degC', 'calc_pulled_BMI', 'no_dx_data',\n",
       "       'COPD_com_flag', 'asthma_com_flag', 'diabetes_com_flag',\n",
       "       'hypertension_com_flag', 'CAD_com_flag', 'heartfailure_com_flag',\n",
       "       'CKD_com_flag', 'cancer_com_flag', 'qSOFA_score', 'deid_empi_encounter',\n",
       "       'deid_mrn_encounter', 'deid_fin_encounter'],\n",
       "      dtype='object')"
      ]
     },
     "execution_count": 11,
     "metadata": {},
     "output_type": "execute_result"
    }
   ],
   "source": [
    "df.columns"
   ]
  },
  {
   "cell_type": "code",
   "execution_count": 12,
   "metadata": {},
   "outputs": [],
   "source": [
    "icu_df = df[~df['icu_hours_summed'].isnull()]"
   ]
  },
  {
   "cell_type": "code",
   "execution_count": 13,
   "metadata": {},
   "outputs": [],
   "source": [
    "icu_df= icu_df[~icu_df['qSOFA_score'].isnull()]"
   ]
  },
  {
   "cell_type": "code",
   "execution_count": 14,
   "metadata": {},
   "outputs": [
    {
     "data": {
      "text/plain": [
       "716"
      ]
     },
     "execution_count": 14,
     "metadata": {},
     "output_type": "execute_result"
    }
   ],
   "source": [
    "len(icu_df)"
   ]
  },
  {
   "cell_type": "code",
   "execution_count": 15,
   "metadata": {},
   "outputs": [],
   "source": [
    "demo_df = icu_df[['zip_cust_table', 'ethnicity_display', 'discharge_disposition_display', 'race_display', 'race_eth_comb', 'heart_pulse_comb', 'temp_oral_degC', 'calc_pulled_BMI', 'no_dx_data',\n",
    "       'COPD_com_flag', 'asthma_com_flag', 'diabetes_com_flag',\n",
    "       'hypertension_com_flag', 'CAD_com_flag', 'heartfailure_com_flag',\n",
    "       'CKD_com_flag', 'cancer_com_flag', 'qSOFA_score' ]]"
   ]
  },
  {
   "cell_type": "code",
   "execution_count": 16,
   "metadata": {},
   "outputs": [],
   "source": [
    "all_df = pd.merge(demo_df, zip_df, left_on='zip_cust_table', right_on='zip_code', how='inner')"
   ]
  },
  {
   "cell_type": "code",
   "execution_count": 17,
   "metadata": {},
   "outputs": [
    {
     "data": {
      "text/plain": [
       "97"
      ]
     },
     "execution_count": 17,
     "metadata": {},
     "output_type": "execute_result"
    }
   ],
   "source": [
    "len(all_df['zip_cust_table'].unique())"
   ]
  },
  {
   "cell_type": "code",
   "execution_count": 18,
   "metadata": {},
   "outputs": [
    {
     "data": {
      "text/plain": [
       "Index(['zip_cust_table', 'ethnicity_display', 'discharge_disposition_display',\n",
       "       'race_display', 'race_eth_comb', 'heart_pulse_comb', 'temp_oral_degC',\n",
       "       'calc_pulled_BMI', 'no_dx_data', 'COPD_com_flag', 'asthma_com_flag',\n",
       "       'diabetes_com_flag', 'hypertension_com_flag', 'CAD_com_flag',\n",
       "       'heartfailure_com_flag', 'CKD_com_flag', 'cancer_com_flag',\n",
       "       'qSOFA_score', 'zip_code', 'male_poverty_rate', 'female_poverty_rate',\n",
       "       'median_income', 'mean_income', 'poverty_rate'],\n",
       "      dtype='object')"
      ]
     },
     "execution_count": 18,
     "metadata": {},
     "output_type": "execute_result"
    }
   ],
   "source": [
    "all_df.columns"
   ]
  },
  {
   "cell_type": "code",
   "execution_count": 19,
   "metadata": {},
   "outputs": [],
   "source": [
    "all_df[['COPD_com_flag', 'asthma_com_flag', 'diabetes_com_flag',\n",
    "       'hypertension_com_flag', 'CAD_com_flag', 'heartfailure_com_flag',\n",
    "       'CKD_com_flag', 'cancer_com_flag']] = all_df[['COPD_com_flag', 'asthma_com_flag', 'diabetes_com_flag',\n",
    "       'hypertension_com_flag', 'CAD_com_flag', 'heartfailure_com_flag',\n",
    "       'CKD_com_flag', 'cancer_com_flag']].fillna(0)"
   ]
  },
  {
   "cell_type": "code",
   "execution_count": 20,
   "metadata": {},
   "outputs": [],
   "source": [
    "all_df[['COPD_com_flag', 'asthma_com_flag', 'diabetes_com_flag',\n",
    "       'hypertension_com_flag', 'CAD_com_flag', 'heartfailure_com_flag',\n",
    "       'CKD_com_flag', 'cancer_com_flag']] = all_df[['COPD_com_flag', 'asthma_com_flag', 'diabetes_com_flag',\n",
    "       'hypertension_com_flag', 'CAD_com_flag', 'heartfailure_com_flag',\n",
    "       'CKD_com_flag', 'cancer_com_flag']].astype(int)"
   ]
  },
  {
   "cell_type": "code",
   "execution_count": 21,
   "metadata": {},
   "outputs": [],
   "source": [
    "def comorbidity_count(row):\n",
    "    count = 0 \n",
    "    \n",
    "    if row.COPD_com_flag == 1:\n",
    "        count += 1 \n",
    "        \n",
    "    if row.asthma_com_flag == 1:\n",
    "        count += 1 \n",
    "        \n",
    "    if row.diabetes_com_flag == 1:\n",
    "        count += 1 \n",
    "        \n",
    "    if row.hypertension_com_flag == 1:\n",
    "        count += 1 \n",
    "        \n",
    "    if row.CAD_com_flag == 1:\n",
    "        count += 1 \n",
    "        \n",
    "    if row.heartfailure_com_flag == 1: \n",
    "        count += 1 \n",
    "        \n",
    "    if row.CKD_com_flag == 1:\n",
    "        count += 1 \n",
    "        \n",
    "    if row.cancer_com_flag == 1:\n",
    "        count += 1 \n",
    "        \n",
    "    return count"
   ]
  },
  {
   "cell_type": "code",
   "execution_count": 22,
   "metadata": {},
   "outputs": [],
   "source": [
    "all_df['total_comorbidities'] = all_df.apply(lambda row: comorbidity_count(row), axis=1)"
   ]
  },
  {
   "cell_type": "code",
   "execution_count": 23,
   "metadata": {},
   "outputs": [
    {
     "data": {
      "text/html": [
       "<div>\n",
       "<style scoped>\n",
       "    .dataframe tbody tr th:only-of-type {\n",
       "        vertical-align: middle;\n",
       "    }\n",
       "\n",
       "    .dataframe tbody tr th {\n",
       "        vertical-align: top;\n",
       "    }\n",
       "\n",
       "    .dataframe thead th {\n",
       "        text-align: right;\n",
       "    }\n",
       "</style>\n",
       "<table border=\"1\" class=\"dataframe\">\n",
       "  <thead>\n",
       "    <tr style=\"text-align: right;\">\n",
       "      <th></th>\n",
       "      <th>zip_cust_table</th>\n",
       "      <th>ethnicity_display</th>\n",
       "      <th>discharge_disposition_display</th>\n",
       "      <th>race_display</th>\n",
       "      <th>race_eth_comb</th>\n",
       "      <th>heart_pulse_comb</th>\n",
       "      <th>temp_oral_degC</th>\n",
       "      <th>calc_pulled_BMI</th>\n",
       "      <th>no_dx_data</th>\n",
       "      <th>COPD_com_flag</th>\n",
       "      <th>...</th>\n",
       "      <th>CKD_com_flag</th>\n",
       "      <th>cancer_com_flag</th>\n",
       "      <th>qSOFA_score</th>\n",
       "      <th>zip_code</th>\n",
       "      <th>male_poverty_rate</th>\n",
       "      <th>female_poverty_rate</th>\n",
       "      <th>median_income</th>\n",
       "      <th>mean_income</th>\n",
       "      <th>poverty_rate</th>\n",
       "      <th>total_comorbidities</th>\n",
       "    </tr>\n",
       "  </thead>\n",
       "  <tbody>\n",
       "    <tr>\n",
       "      <th>0</th>\n",
       "      <td>78130</td>\n",
       "      <td>Hispanic or Latino</td>\n",
       "      <td>Expired</td>\n",
       "      <td>Hispanic</td>\n",
       "      <td>White Hispanic</td>\n",
       "      <td>97.0</td>\n",
       "      <td>NaN</td>\n",
       "      <td>30.620000</td>\n",
       "      <td>False</td>\n",
       "      <td>0</td>\n",
       "      <td>...</td>\n",
       "      <td>0</td>\n",
       "      <td>0</td>\n",
       "      <td>3.0</td>\n",
       "      <td>78130</td>\n",
       "      <td>1.5</td>\n",
       "      <td>10</td>\n",
       "      <td>65627</td>\n",
       "      <td>84515</td>\n",
       "      <td>9.5</td>\n",
       "      <td>0</td>\n",
       "    </tr>\n",
       "    <tr>\n",
       "      <th>1</th>\n",
       "      <td>78130</td>\n",
       "      <td>Hispanic or Latino</td>\n",
       "      <td>Rehab Care</td>\n",
       "      <td>Hispanic</td>\n",
       "      <td>White Hispanic</td>\n",
       "      <td>101.0</td>\n",
       "      <td>37.2</td>\n",
       "      <td>27.760000</td>\n",
       "      <td>False</td>\n",
       "      <td>0</td>\n",
       "      <td>...</td>\n",
       "      <td>1</td>\n",
       "      <td>0</td>\n",
       "      <td>2.0</td>\n",
       "      <td>78130</td>\n",
       "      <td>1.5</td>\n",
       "      <td>10</td>\n",
       "      <td>65627</td>\n",
       "      <td>84515</td>\n",
       "      <td>9.5</td>\n",
       "      <td>2</td>\n",
       "    </tr>\n",
       "    <tr>\n",
       "      <th>2</th>\n",
       "      <td>78130</td>\n",
       "      <td>Hispanic or Latino</td>\n",
       "      <td>Skilled Nursing Care</td>\n",
       "      <td>Hispanic</td>\n",
       "      <td>White Hispanic</td>\n",
       "      <td>98.0</td>\n",
       "      <td>36.9</td>\n",
       "      <td>NaN</td>\n",
       "      <td>False</td>\n",
       "      <td>0</td>\n",
       "      <td>...</td>\n",
       "      <td>0</td>\n",
       "      <td>0</td>\n",
       "      <td>1.0</td>\n",
       "      <td>78130</td>\n",
       "      <td>1.5</td>\n",
       "      <td>10</td>\n",
       "      <td>65627</td>\n",
       "      <td>84515</td>\n",
       "      <td>9.5</td>\n",
       "      <td>3</td>\n",
       "    </tr>\n",
       "    <tr>\n",
       "      <th>3</th>\n",
       "      <td>78130</td>\n",
       "      <td>Unknown</td>\n",
       "      <td>Still a patient</td>\n",
       "      <td>White</td>\n",
       "      <td>White Unknown Ethnicity</td>\n",
       "      <td>98.0</td>\n",
       "      <td>36.7</td>\n",
       "      <td>NaN</td>\n",
       "      <td>False</td>\n",
       "      <td>0</td>\n",
       "      <td>...</td>\n",
       "      <td>0</td>\n",
       "      <td>0</td>\n",
       "      <td>0.0</td>\n",
       "      <td>78130</td>\n",
       "      <td>1.5</td>\n",
       "      <td>10</td>\n",
       "      <td>65627</td>\n",
       "      <td>84515</td>\n",
       "      <td>9.5</td>\n",
       "      <td>0</td>\n",
       "    </tr>\n",
       "    <tr>\n",
       "      <th>4</th>\n",
       "      <td>78612</td>\n",
       "      <td>Not Hispanic or Latino</td>\n",
       "      <td>Home</td>\n",
       "      <td>White</td>\n",
       "      <td>White Non Hispanic</td>\n",
       "      <td>99.0</td>\n",
       "      <td>37.4</td>\n",
       "      <td>44.890000</td>\n",
       "      <td>False</td>\n",
       "      <td>0</td>\n",
       "      <td>...</td>\n",
       "      <td>0</td>\n",
       "      <td>0</td>\n",
       "      <td>1.0</td>\n",
       "      <td>78612</td>\n",
       "      <td>6.3</td>\n",
       "      <td>10.9</td>\n",
       "      <td>69213</td>\n",
       "      <td>80458</td>\n",
       "      <td>10.6</td>\n",
       "      <td>0</td>\n",
       "    </tr>\n",
       "    <tr>\n",
       "      <th>...</th>\n",
       "      <td>...</td>\n",
       "      <td>...</td>\n",
       "      <td>...</td>\n",
       "      <td>...</td>\n",
       "      <td>...</td>\n",
       "      <td>...</td>\n",
       "      <td>...</td>\n",
       "      <td>...</td>\n",
       "      <td>...</td>\n",
       "      <td>...</td>\n",
       "      <td>...</td>\n",
       "      <td>...</td>\n",
       "      <td>...</td>\n",
       "      <td>...</td>\n",
       "      <td>...</td>\n",
       "      <td>...</td>\n",
       "      <td>...</td>\n",
       "      <td>...</td>\n",
       "      <td>...</td>\n",
       "      <td>...</td>\n",
       "      <td>...</td>\n",
       "    </tr>\n",
       "    <tr>\n",
       "      <th>647</th>\n",
       "      <td>78940</td>\n",
       "      <td>Not Hispanic or Latino</td>\n",
       "      <td>Home</td>\n",
       "      <td>Black or African American</td>\n",
       "      <td>Other race Non Hispanic</td>\n",
       "      <td>66.0</td>\n",
       "      <td>36.8</td>\n",
       "      <td>32.830000</td>\n",
       "      <td>False</td>\n",
       "      <td>0</td>\n",
       "      <td>...</td>\n",
       "      <td>0</td>\n",
       "      <td>0</td>\n",
       "      <td>1.0</td>\n",
       "      <td>78940</td>\n",
       "      <td>5</td>\n",
       "      <td>14.3</td>\n",
       "      <td>57500</td>\n",
       "      <td>80110</td>\n",
       "      <td>12</td>\n",
       "      <td>2</td>\n",
       "    </tr>\n",
       "    <tr>\n",
       "      <th>648</th>\n",
       "      <td>79762</td>\n",
       "      <td>Hispanic or Latino</td>\n",
       "      <td>Home</td>\n",
       "      <td>Other Race</td>\n",
       "      <td>Other Race Hispanic</td>\n",
       "      <td>91.0</td>\n",
       "      <td>36.9</td>\n",
       "      <td>49.153355</td>\n",
       "      <td>False</td>\n",
       "      <td>0</td>\n",
       "      <td>...</td>\n",
       "      <td>0</td>\n",
       "      <td>0</td>\n",
       "      <td>0.0</td>\n",
       "      <td>79762</td>\n",
       "      <td>2</td>\n",
       "      <td>9.5</td>\n",
       "      <td>66584</td>\n",
       "      <td>88737</td>\n",
       "      <td>9.1</td>\n",
       "      <td>0</td>\n",
       "    </tr>\n",
       "    <tr>\n",
       "      <th>649</th>\n",
       "      <td>78132</td>\n",
       "      <td>Not Hispanic or Latino</td>\n",
       "      <td>Home</td>\n",
       "      <td>White</td>\n",
       "      <td>White Non Hispanic</td>\n",
       "      <td>87.0</td>\n",
       "      <td>37.4</td>\n",
       "      <td>19.280000</td>\n",
       "      <td>False</td>\n",
       "      <td>0</td>\n",
       "      <td>...</td>\n",
       "      <td>0</td>\n",
       "      <td>0</td>\n",
       "      <td>1.0</td>\n",
       "      <td>78132</td>\n",
       "      <td>2</td>\n",
       "      <td>4.2</td>\n",
       "      <td>106523</td>\n",
       "      <td>135706</td>\n",
       "      <td>3.9</td>\n",
       "      <td>0</td>\n",
       "    </tr>\n",
       "    <tr>\n",
       "      <th>650</th>\n",
       "      <td>76527</td>\n",
       "      <td>Unknown</td>\n",
       "      <td>Home</td>\n",
       "      <td>White</td>\n",
       "      <td>White Unknown Ethnicity</td>\n",
       "      <td>88.0</td>\n",
       "      <td>37.7</td>\n",
       "      <td>33.163386</td>\n",
       "      <td>False</td>\n",
       "      <td>0</td>\n",
       "      <td>...</td>\n",
       "      <td>0</td>\n",
       "      <td>0</td>\n",
       "      <td>1.0</td>\n",
       "      <td>76527</td>\n",
       "      <td>6.2</td>\n",
       "      <td>14</td>\n",
       "      <td>54940</td>\n",
       "      <td>80699</td>\n",
       "      <td>13.6</td>\n",
       "      <td>3</td>\n",
       "    </tr>\n",
       "    <tr>\n",
       "      <th>651</th>\n",
       "      <td>78609</td>\n",
       "      <td>Not Hispanic or Latino</td>\n",
       "      <td>NaN</td>\n",
       "      <td>White</td>\n",
       "      <td>White Non Hispanic</td>\n",
       "      <td>102.0</td>\n",
       "      <td>36.4</td>\n",
       "      <td>NaN</td>\n",
       "      <td>False</td>\n",
       "      <td>0</td>\n",
       "      <td>...</td>\n",
       "      <td>0</td>\n",
       "      <td>1</td>\n",
       "      <td>0.0</td>\n",
       "      <td>78609</td>\n",
       "      <td>5</td>\n",
       "      <td>10.8</td>\n",
       "      <td>55221</td>\n",
       "      <td>78640</td>\n",
       "      <td>9.8</td>\n",
       "      <td>3</td>\n",
       "    </tr>\n",
       "  </tbody>\n",
       "</table>\n",
       "<p>652 rows × 25 columns</p>\n",
       "</div>"
      ],
      "text/plain": [
       "    zip_cust_table       ethnicity_display discharge_disposition_display  \\\n",
       "0            78130      Hispanic or Latino                       Expired   \n",
       "1            78130      Hispanic or Latino                    Rehab Care   \n",
       "2            78130      Hispanic or Latino          Skilled Nursing Care   \n",
       "3            78130                 Unknown               Still a patient   \n",
       "4            78612  Not Hispanic or Latino                          Home   \n",
       "..             ...                     ...                           ...   \n",
       "647          78940  Not Hispanic or Latino                          Home   \n",
       "648          79762      Hispanic or Latino                          Home   \n",
       "649          78132  Not Hispanic or Latino                          Home   \n",
       "650          76527                 Unknown                          Home   \n",
       "651          78609  Not Hispanic or Latino                           NaN   \n",
       "\n",
       "                  race_display            race_eth_comb  heart_pulse_comb  \\\n",
       "0                     Hispanic           White Hispanic              97.0   \n",
       "1                     Hispanic           White Hispanic             101.0   \n",
       "2                     Hispanic           White Hispanic              98.0   \n",
       "3                        White  White Unknown Ethnicity              98.0   \n",
       "4                        White       White Non Hispanic              99.0   \n",
       "..                         ...                      ...               ...   \n",
       "647  Black or African American  Other race Non Hispanic              66.0   \n",
       "648                 Other Race      Other Race Hispanic              91.0   \n",
       "649                      White       White Non Hispanic              87.0   \n",
       "650                      White  White Unknown Ethnicity              88.0   \n",
       "651                      White       White Non Hispanic             102.0   \n",
       "\n",
       "     temp_oral_degC  calc_pulled_BMI  no_dx_data  COPD_com_flag  ...  \\\n",
       "0               NaN        30.620000       False              0  ...   \n",
       "1              37.2        27.760000       False              0  ...   \n",
       "2              36.9              NaN       False              0  ...   \n",
       "3              36.7              NaN       False              0  ...   \n",
       "4              37.4        44.890000       False              0  ...   \n",
       "..              ...              ...         ...            ...  ...   \n",
       "647            36.8        32.830000       False              0  ...   \n",
       "648            36.9        49.153355       False              0  ...   \n",
       "649            37.4        19.280000       False              0  ...   \n",
       "650            37.7        33.163386       False              0  ...   \n",
       "651            36.4              NaN       False              0  ...   \n",
       "\n",
       "     CKD_com_flag  cancer_com_flag  qSOFA_score  zip_code  male_poverty_rate  \\\n",
       "0               0                0          3.0     78130                1.5   \n",
       "1               1                0          2.0     78130                1.5   \n",
       "2               0                0          1.0     78130                1.5   \n",
       "3               0                0          0.0     78130                1.5   \n",
       "4               0                0          1.0     78612                6.3   \n",
       "..            ...              ...          ...       ...                ...   \n",
       "647             0                0          1.0     78940                  5   \n",
       "648             0                0          0.0     79762                  2   \n",
       "649             0                0          1.0     78132                  2   \n",
       "650             0                0          1.0     76527                6.2   \n",
       "651             0                1          0.0     78609                  5   \n",
       "\n",
       "     female_poverty_rate  median_income  mean_income poverty_rate  \\\n",
       "0                     10          65627        84515          9.5   \n",
       "1                     10          65627        84515          9.5   \n",
       "2                     10          65627        84515          9.5   \n",
       "3                     10          65627        84515          9.5   \n",
       "4                   10.9          69213        80458         10.6   \n",
       "..                   ...            ...          ...          ...   \n",
       "647                 14.3          57500        80110           12   \n",
       "648                  9.5          66584        88737          9.1   \n",
       "649                  4.2         106523       135706          3.9   \n",
       "650                   14          54940        80699         13.6   \n",
       "651                 10.8          55221        78640          9.8   \n",
       "\n",
       "    total_comorbidities  \n",
       "0                     0  \n",
       "1                     2  \n",
       "2                     3  \n",
       "3                     0  \n",
       "4                     0  \n",
       "..                  ...  \n",
       "647                   2  \n",
       "648                   0  \n",
       "649                   0  \n",
       "650                   3  \n",
       "651                   3  \n",
       "\n",
       "[652 rows x 25 columns]"
      ]
     },
     "execution_count": 23,
     "metadata": {},
     "output_type": "execute_result"
    }
   ],
   "source": [
    "all_df"
   ]
  },
  {
   "cell_type": "code",
   "execution_count": 24,
   "metadata": {},
   "outputs": [],
   "source": [
    "#zip_df['median_income'] = zip_df['median_income'].apply(lambda x: x.replace('-','00').replace('+', ''))"
   ]
  },
  {
   "cell_type": "code",
   "execution_count": 25,
   "metadata": {},
   "outputs": [],
   "source": [
    "#zip_df['median_income'] = zip_df['median_income'].astype(int)"
   ]
  },
  {
   "cell_type": "code",
   "execution_count": null,
   "metadata": {},
   "outputs": [],
   "source": []
  },
  {
   "cell_type": "code",
   "execution_count": 26,
   "metadata": {},
   "outputs": [],
   "source": [
    "out_df = all_df.value_counts(subset=['zip_cust_table', 'total_comorbidities'], sort=True).reset_index().rename(columns={0: 'count'})\n",
    "new_out_df = pd.merge(out_df, zip_df[['zip_code','median_income', 'mean_income', 'poverty_rate']], left_on='zip_cust_table', right_on='zip_code', how='inner')\n",
    "\n",
    "new_out_df = new_out_df[['zip_cust_table', 'total_comorbidities', 'count', 'median_income',\n",
    "       'mean_income', 'poverty_rate']].astype(float)\n",
    "\n",
    "new_out_df['below_state_median_income'] = new_out_df.median_income.apply(lambda x: 'yes' if x < 64034 else 'no')\n",
    "\n",
    "new_out_df.sort_values(by=['total_comorbidities']).to_csv('tot_com_zip_dist.csv')\n",
    "new_out_df.sort_values(by=['total_comorbidities', 'count'], ascending=[False, False]).to_csv('tot_com_zip_dist_high.csv')\n",
    "new_out_df.sort_values(by=['median_income', 'total_comorbidities','count'], ascending=[True, False, False]).to_csv('tot_com_zip_dist_income.csv')\n",
    "\n"
   ]
  },
  {
   "cell_type": "code",
   "execution_count": 27,
   "metadata": {},
   "outputs": [
    {
     "name": "stderr",
     "output_type": "stream",
     "text": [
      "/home/joel/anaconda3/lib/python3.7/site-packages/ipykernel_launcher.py:1: FutureWarning: Indexing with multiple keys (implicitly converted to a tuple of keys) will be deprecated, use a list instead.\n",
      "  \"\"\"Entry point for launching an IPython kernel.\n"
     ]
    }
   ],
   "source": [
    "out_df = all_df.groupby(['race_display'])['COPD_com_flag', 'asthma_com_flag', 'diabetes_com_flag',\n",
    "       'hypertension_com_flag', 'CAD_com_flag', 'heartfailure_com_flag',\n",
    "       'CKD_com_flag', 'cancer_com_flag'].apply(lambda x : x.astype(int).sum()).reset_index()\n",
    "#new_out_df = pd.merge(out_df, zip_df[['zip_code','median_income', 'mean_income', 'poverty_rate']], left_on='zip_cust_table', right_on='zip_code', how='inner')\n",
    "\n",
    "#new_out_df = new_out_df[['zip_cust_table', 'total_comorbidities', 'count', 'median_income',\n",
    "#       'mean_income', 'poverty_rate']].astype(float)\n",
    "\n",
    "#new_out_df['below_state_median_income'] = new_out_df.median_income.apply(lambda x: 'yes' if x < 64034 else 'no')\n",
    "\n",
    "out_df.to_csv('com_race.csv')\n",
    "#new_out_df.sort_values(by=['total_comorbidities', 'count'], ascending=[False, False]).to_csv('tot_com_zip_dist_high.csv')\n",
    "#new_out_df.sort_values(by=['median_income', 'total_comorbidities','count'], ascending=[True, False, False]).to_csv('tot_com_zip_dist_income.csv')\n"
   ]
  },
  {
   "cell_type": "code",
   "execution_count": 28,
   "metadata": {},
   "outputs": [],
   "source": [
    "# number of patients reported comorbidity "
   ]
  },
  {
   "cell_type": "code",
   "execution_count": 50,
   "metadata": {},
   "outputs": [],
   "source": [
    "all_df['has_comorbidity'] = all_df.total_comorbidities.apply(lambda x: 1 if x >= 1 else 0)\n",
    "all_df['has_comorbidity2'] = all_df.total_comorbidities.apply(lambda x: 1 if x >= 2 else 0)\n",
    "all_df['death'] = all_df.discharge_disposition_display.apply(lambda x: 1 if x == 'Expired' else 0)"
   ]
  },
  {
   "cell_type": "code",
   "execution_count": 51,
   "metadata": {},
   "outputs": [],
   "source": [
    "c = Counter(all_df['race_display'])"
   ]
  },
  {
   "cell_type": "code",
   "execution_count": 52,
   "metadata": {},
   "outputs": [
    {
     "data": {
      "text/plain": [
       "Counter({'Hispanic': 331,\n",
       "         'White': 216,\n",
       "         'Other Race': 25,\n",
       "         'Decline to Specify': 4,\n",
       "         'Black or African American': 51,\n",
       "         'American Indian/Alaska Native': 4,\n",
       "         'Asian': 5,\n",
       "         'Unknown': 15,\n",
       "         'Native Hawaiian or Other Pacific Islande': 1})"
      ]
     },
     "execution_count": 52,
     "metadata": {},
     "output_type": "execute_result"
    }
   ],
   "source": [
    "c"
   ]
  },
  {
   "cell_type": "code",
   "execution_count": 53,
   "metadata": {},
   "outputs": [],
   "source": [
    "race_df = pd.DataFrame(c.items(), columns=['race_display', 'number_of_patients'])"
   ]
  },
  {
   "cell_type": "code",
   "execution_count": 54,
   "metadata": {},
   "outputs": [
    {
     "data": {
      "text/html": [
       "<div>\n",
       "<style scoped>\n",
       "    .dataframe tbody tr th:only-of-type {\n",
       "        vertical-align: middle;\n",
       "    }\n",
       "\n",
       "    .dataframe tbody tr th {\n",
       "        vertical-align: top;\n",
       "    }\n",
       "\n",
       "    .dataframe thead th {\n",
       "        text-align: right;\n",
       "    }\n",
       "</style>\n",
       "<table border=\"1\" class=\"dataframe\">\n",
       "  <thead>\n",
       "    <tr style=\"text-align: right;\">\n",
       "      <th></th>\n",
       "      <th>race_display</th>\n",
       "      <th>number_of_patients</th>\n",
       "    </tr>\n",
       "  </thead>\n",
       "  <tbody>\n",
       "    <tr>\n",
       "      <th>0</th>\n",
       "      <td>Hispanic</td>\n",
       "      <td>331</td>\n",
       "    </tr>\n",
       "    <tr>\n",
       "      <th>1</th>\n",
       "      <td>White</td>\n",
       "      <td>216</td>\n",
       "    </tr>\n",
       "    <tr>\n",
       "      <th>2</th>\n",
       "      <td>Other Race</td>\n",
       "      <td>25</td>\n",
       "    </tr>\n",
       "    <tr>\n",
       "      <th>3</th>\n",
       "      <td>Decline to Specify</td>\n",
       "      <td>4</td>\n",
       "    </tr>\n",
       "    <tr>\n",
       "      <th>4</th>\n",
       "      <td>Black or African American</td>\n",
       "      <td>51</td>\n",
       "    </tr>\n",
       "    <tr>\n",
       "      <th>5</th>\n",
       "      <td>American Indian/Alaska Native</td>\n",
       "      <td>4</td>\n",
       "    </tr>\n",
       "    <tr>\n",
       "      <th>6</th>\n",
       "      <td>Asian</td>\n",
       "      <td>5</td>\n",
       "    </tr>\n",
       "    <tr>\n",
       "      <th>7</th>\n",
       "      <td>Unknown</td>\n",
       "      <td>15</td>\n",
       "    </tr>\n",
       "    <tr>\n",
       "      <th>8</th>\n",
       "      <td>Native Hawaiian or Other Pacific Islande</td>\n",
       "      <td>1</td>\n",
       "    </tr>\n",
       "  </tbody>\n",
       "</table>\n",
       "</div>"
      ],
      "text/plain": [
       "                               race_display  number_of_patients\n",
       "0                                  Hispanic                 331\n",
       "1                                     White                 216\n",
       "2                                Other Race                  25\n",
       "3                        Decline to Specify                   4\n",
       "4                 Black or African American                  51\n",
       "5             American Indian/Alaska Native                   4\n",
       "6                                     Asian                   5\n",
       "7                                   Unknown                  15\n",
       "8  Native Hawaiian or Other Pacific Islande                   1"
      ]
     },
     "execution_count": 54,
     "metadata": {},
     "output_type": "execute_result"
    }
   ],
   "source": [
    "race_df"
   ]
  },
  {
   "cell_type": "code",
   "execution_count": 55,
   "metadata": {},
   "outputs": [
    {
     "data": {
      "text/plain": [
       "652"
      ]
     },
     "execution_count": 55,
     "metadata": {},
     "output_type": "execute_result"
    }
   ],
   "source": [
    "race_df['number_of_patients'].sum()"
   ]
  },
  {
   "cell_type": "code",
   "execution_count": 56,
   "metadata": {},
   "outputs": [],
   "source": [
    "death_df = all_df.groupby(['race_display'])['death'].apply(lambda x : x.astype(int).sum()).reset_index()"
   ]
  },
  {
   "cell_type": "code",
   "execution_count": 36,
   "metadata": {},
   "outputs": [
    {
     "data": {
      "text/html": [
       "<div>\n",
       "<style scoped>\n",
       "    .dataframe tbody tr th:only-of-type {\n",
       "        vertical-align: middle;\n",
       "    }\n",
       "\n",
       "    .dataframe tbody tr th {\n",
       "        vertical-align: top;\n",
       "    }\n",
       "\n",
       "    .dataframe thead th {\n",
       "        text-align: right;\n",
       "    }\n",
       "</style>\n",
       "<table border=\"1\" class=\"dataframe\">\n",
       "  <thead>\n",
       "    <tr style=\"text-align: right;\">\n",
       "      <th></th>\n",
       "      <th>race_display</th>\n",
       "      <th>death</th>\n",
       "    </tr>\n",
       "  </thead>\n",
       "  <tbody>\n",
       "    <tr>\n",
       "      <th>0</th>\n",
       "      <td>American Indian/Alaska Native</td>\n",
       "      <td>1</td>\n",
       "    </tr>\n",
       "    <tr>\n",
       "      <th>1</th>\n",
       "      <td>Asian</td>\n",
       "      <td>3</td>\n",
       "    </tr>\n",
       "    <tr>\n",
       "      <th>2</th>\n",
       "      <td>Black or African American</td>\n",
       "      <td>15</td>\n",
       "    </tr>\n",
       "    <tr>\n",
       "      <th>3</th>\n",
       "      <td>Decline to Specify</td>\n",
       "      <td>3</td>\n",
       "    </tr>\n",
       "    <tr>\n",
       "      <th>4</th>\n",
       "      <td>Hispanic</td>\n",
       "      <td>76</td>\n",
       "    </tr>\n",
       "    <tr>\n",
       "      <th>5</th>\n",
       "      <td>Native Hawaiian or Other Pacific Islande</td>\n",
       "      <td>0</td>\n",
       "    </tr>\n",
       "    <tr>\n",
       "      <th>6</th>\n",
       "      <td>Other Race</td>\n",
       "      <td>6</td>\n",
       "    </tr>\n",
       "    <tr>\n",
       "      <th>7</th>\n",
       "      <td>Unknown</td>\n",
       "      <td>7</td>\n",
       "    </tr>\n",
       "    <tr>\n",
       "      <th>8</th>\n",
       "      <td>White</td>\n",
       "      <td>37</td>\n",
       "    </tr>\n",
       "  </tbody>\n",
       "</table>\n",
       "</div>"
      ],
      "text/plain": [
       "                               race_display  death\n",
       "0             American Indian/Alaska Native      1\n",
       "1                                     Asian      3\n",
       "2                 Black or African American     15\n",
       "3                        Decline to Specify      3\n",
       "4                                  Hispanic     76\n",
       "5  Native Hawaiian or Other Pacific Islande      0\n",
       "6                                Other Race      6\n",
       "7                                   Unknown      7\n",
       "8                                     White     37"
      ]
     },
     "execution_count": 36,
     "metadata": {},
     "output_type": "execute_result"
    }
   ],
   "source": [
    "death_df"
   ]
  },
  {
   "cell_type": "code",
   "execution_count": 57,
   "metadata": {},
   "outputs": [],
   "source": [
    "como_df = all_df.groupby(['race_display'])['has_comorbidity'].apply(lambda x : x.astype(int).sum()).reset_index()"
   ]
  },
  {
   "cell_type": "code",
   "execution_count": 58,
   "metadata": {},
   "outputs": [],
   "source": [
    "como_race_df = pd.merge(como_df, race_df)"
   ]
  },
  {
   "cell_type": "code",
   "execution_count": 59,
   "metadata": {},
   "outputs": [],
   "source": [
    "como_race_df['percentage_with_como'] = como_race_df.apply(lambda row: (row.has_comorbidity / row.number_of_patients) * 100, axis=1)"
   ]
  },
  {
   "cell_type": "code",
   "execution_count": 60,
   "metadata": {},
   "outputs": [],
   "source": [
    "como_df2 = all_df.groupby(['race_display'])['has_comorbidity2'].apply(lambda x : x.astype(int).sum()).reset_index()\n",
    "como_race_df2 = pd.merge(como_df2, race_df)\n",
    "como_race_df2['percentage_with_como'] = como_race_df2.apply(lambda row: (row.has_comorbidity2 / row.number_of_patients) * 100, axis=1)"
   ]
  },
  {
   "cell_type": "code",
   "execution_count": 61,
   "metadata": {},
   "outputs": [],
   "source": [
    "death_race_df = pd.merge(death_df, race_df)"
   ]
  },
  {
   "cell_type": "code",
   "execution_count": 62,
   "metadata": {},
   "outputs": [],
   "source": [
    "death_race_df['percentage_death'] = death_race_df.apply(lambda row: (row.death / row.number_of_patients) * 100, axis=1)"
   ]
  },
  {
   "cell_type": "code",
   "execution_count": 63,
   "metadata": {},
   "outputs": [],
   "source": [
    "death_race_df = death_race_df.sort_values(by=['percentage_death'], ascending = False)"
   ]
  },
  {
   "cell_type": "code",
   "execution_count": 64,
   "metadata": {},
   "outputs": [
    {
     "data": {
      "text/plain": [
       "Index(['race_display', 'death', 'number_of_patients', 'percentage_death'], dtype='object')"
      ]
     },
     "execution_count": 64,
     "metadata": {},
     "output_type": "execute_result"
    }
   ],
   "source": [
    "death_race_df.columns"
   ]
  },
  {
   "cell_type": "code",
   "execution_count": 65,
   "metadata": {
    "scrolled": true
   },
   "outputs": [
    {
     "data": {
      "text/html": [
       "<div>\n",
       "<style scoped>\n",
       "    .dataframe tbody tr th:only-of-type {\n",
       "        vertical-align: middle;\n",
       "    }\n",
       "\n",
       "    .dataframe tbody tr th {\n",
       "        vertical-align: top;\n",
       "    }\n",
       "\n",
       "    .dataframe thead th {\n",
       "        text-align: right;\n",
       "    }\n",
       "</style>\n",
       "<table border=\"1\" class=\"dataframe\">\n",
       "  <thead>\n",
       "    <tr style=\"text-align: right;\">\n",
       "      <th></th>\n",
       "      <th>race_display</th>\n",
       "      <th>death</th>\n",
       "      <th>number_of_patients</th>\n",
       "      <th>percentage_death</th>\n",
       "    </tr>\n",
       "  </thead>\n",
       "  <tbody>\n",
       "    <tr>\n",
       "      <th>3</th>\n",
       "      <td>Decline to Specify</td>\n",
       "      <td>3</td>\n",
       "      <td>4</td>\n",
       "      <td>75.000000</td>\n",
       "    </tr>\n",
       "    <tr>\n",
       "      <th>1</th>\n",
       "      <td>Asian</td>\n",
       "      <td>3</td>\n",
       "      <td>5</td>\n",
       "      <td>60.000000</td>\n",
       "    </tr>\n",
       "    <tr>\n",
       "      <th>7</th>\n",
       "      <td>Unknown</td>\n",
       "      <td>7</td>\n",
       "      <td>15</td>\n",
       "      <td>46.666667</td>\n",
       "    </tr>\n",
       "    <tr>\n",
       "      <th>2</th>\n",
       "      <td>Black or African American</td>\n",
       "      <td>15</td>\n",
       "      <td>51</td>\n",
       "      <td>29.411765</td>\n",
       "    </tr>\n",
       "    <tr>\n",
       "      <th>0</th>\n",
       "      <td>American Indian/Alaska Native</td>\n",
       "      <td>1</td>\n",
       "      <td>4</td>\n",
       "      <td>25.000000</td>\n",
       "    </tr>\n",
       "    <tr>\n",
       "      <th>6</th>\n",
       "      <td>Other Race</td>\n",
       "      <td>6</td>\n",
       "      <td>25</td>\n",
       "      <td>24.000000</td>\n",
       "    </tr>\n",
       "    <tr>\n",
       "      <th>4</th>\n",
       "      <td>Hispanic</td>\n",
       "      <td>76</td>\n",
       "      <td>331</td>\n",
       "      <td>22.960725</td>\n",
       "    </tr>\n",
       "    <tr>\n",
       "      <th>8</th>\n",
       "      <td>White</td>\n",
       "      <td>37</td>\n",
       "      <td>216</td>\n",
       "      <td>17.129630</td>\n",
       "    </tr>\n",
       "    <tr>\n",
       "      <th>5</th>\n",
       "      <td>Native Hawaiian or Other Pacific Islande</td>\n",
       "      <td>0</td>\n",
       "      <td>1</td>\n",
       "      <td>0.000000</td>\n",
       "    </tr>\n",
       "  </tbody>\n",
       "</table>\n",
       "</div>"
      ],
      "text/plain": [
       "                               race_display  death  number_of_patients  \\\n",
       "3                        Decline to Specify      3                   4   \n",
       "1                                     Asian      3                   5   \n",
       "7                                   Unknown      7                  15   \n",
       "2                 Black or African American     15                  51   \n",
       "0             American Indian/Alaska Native      1                   4   \n",
       "6                                Other Race      6                  25   \n",
       "4                                  Hispanic     76                 331   \n",
       "8                                     White     37                 216   \n",
       "5  Native Hawaiian or Other Pacific Islande      0                   1   \n",
       "\n",
       "   percentage_death  \n",
       "3         75.000000  \n",
       "1         60.000000  \n",
       "7         46.666667  \n",
       "2         29.411765  \n",
       "0         25.000000  \n",
       "6         24.000000  \n",
       "4         22.960725  \n",
       "8         17.129630  \n",
       "5          0.000000  "
      ]
     },
     "execution_count": 65,
     "metadata": {},
     "output_type": "execute_result"
    }
   ],
   "source": [
    "death_race_df[['race_display', 'death', 'number_of_patients',\n",
    "       'percentage_death']]"
   ]
  },
  {
   "cell_type": "code",
   "execution_count": 66,
   "metadata": {},
   "outputs": [],
   "source": [
    "como_race_df = como_race_df.sort_values(by=['percentage_with_como'], ascending = False)"
   ]
  },
  {
   "cell_type": "code",
   "execution_count": 67,
   "metadata": {},
   "outputs": [],
   "source": [
    "como_race_df2 = como_race_df2.sort_values(by=['percentage_with_como'], ascending = False)"
   ]
  },
  {
   "cell_type": "code",
   "execution_count": 46,
   "metadata": {},
   "outputs": [],
   "source": [
    "# From Min statistically test means of the groups \n",
    "# feature engineer race and ethnicty for Latinx (phenotypically shown white)\n",
    "# test difference for white hispanic and non white hispanic \n",
    "# stats testing should showcase the differences (or not) as the data is large to just observe\n",
    "# qualitatively \n"
   ]
  },
  {
   "cell_type": "code",
   "execution_count": 68,
   "metadata": {},
   "outputs": [
    {
     "data": {
      "text/html": [
       "<div>\n",
       "<style scoped>\n",
       "    .dataframe tbody tr th:only-of-type {\n",
       "        vertical-align: middle;\n",
       "    }\n",
       "\n",
       "    .dataframe tbody tr th {\n",
       "        vertical-align: top;\n",
       "    }\n",
       "\n",
       "    .dataframe thead th {\n",
       "        text-align: right;\n",
       "    }\n",
       "</style>\n",
       "<table border=\"1\" class=\"dataframe\">\n",
       "  <thead>\n",
       "    <tr style=\"text-align: right;\">\n",
       "      <th></th>\n",
       "      <th>race_display</th>\n",
       "      <th>has_comorbidity</th>\n",
       "      <th>number_of_patients</th>\n",
       "      <th>percentage_with_como</th>\n",
       "    </tr>\n",
       "  </thead>\n",
       "  <tbody>\n",
       "    <tr>\n",
       "      <th>1</th>\n",
       "      <td>Asian</td>\n",
       "      <td>5</td>\n",
       "      <td>5</td>\n",
       "      <td>100.000000</td>\n",
       "    </tr>\n",
       "    <tr>\n",
       "      <th>2</th>\n",
       "      <td>Black or African American</td>\n",
       "      <td>46</td>\n",
       "      <td>51</td>\n",
       "      <td>90.196078</td>\n",
       "    </tr>\n",
       "    <tr>\n",
       "      <th>7</th>\n",
       "      <td>Unknown</td>\n",
       "      <td>13</td>\n",
       "      <td>15</td>\n",
       "      <td>86.666667</td>\n",
       "    </tr>\n",
       "    <tr>\n",
       "      <th>6</th>\n",
       "      <td>Other Race</td>\n",
       "      <td>21</td>\n",
       "      <td>25</td>\n",
       "      <td>84.000000</td>\n",
       "    </tr>\n",
       "    <tr>\n",
       "      <th>8</th>\n",
       "      <td>White</td>\n",
       "      <td>169</td>\n",
       "      <td>216</td>\n",
       "      <td>78.240741</td>\n",
       "    </tr>\n",
       "    <tr>\n",
       "      <th>4</th>\n",
       "      <td>Hispanic</td>\n",
       "      <td>253</td>\n",
       "      <td>331</td>\n",
       "      <td>76.435045</td>\n",
       "    </tr>\n",
       "    <tr>\n",
       "      <th>0</th>\n",
       "      <td>American Indian/Alaska Native</td>\n",
       "      <td>3</td>\n",
       "      <td>4</td>\n",
       "      <td>75.000000</td>\n",
       "    </tr>\n",
       "    <tr>\n",
       "      <th>3</th>\n",
       "      <td>Decline to Specify</td>\n",
       "      <td>3</td>\n",
       "      <td>4</td>\n",
       "      <td>75.000000</td>\n",
       "    </tr>\n",
       "    <tr>\n",
       "      <th>5</th>\n",
       "      <td>Native Hawaiian or Other Pacific Islande</td>\n",
       "      <td>0</td>\n",
       "      <td>1</td>\n",
       "      <td>0.000000</td>\n",
       "    </tr>\n",
       "  </tbody>\n",
       "</table>\n",
       "</div>"
      ],
      "text/plain": [
       "                               race_display  has_comorbidity  \\\n",
       "1                                     Asian                5   \n",
       "2                 Black or African American               46   \n",
       "7                                   Unknown               13   \n",
       "6                                Other Race               21   \n",
       "8                                     White              169   \n",
       "4                                  Hispanic              253   \n",
       "0             American Indian/Alaska Native                3   \n",
       "3                        Decline to Specify                3   \n",
       "5  Native Hawaiian or Other Pacific Islande                0   \n",
       "\n",
       "   number_of_patients  percentage_with_como  \n",
       "1                   5            100.000000  \n",
       "2                  51             90.196078  \n",
       "7                  15             86.666667  \n",
       "6                  25             84.000000  \n",
       "8                 216             78.240741  \n",
       "4                 331             76.435045  \n",
       "0                   4             75.000000  \n",
       "3                   4             75.000000  \n",
       "5                   1              0.000000  "
      ]
     },
     "execution_count": 68,
     "metadata": {},
     "output_type": "execute_result"
    }
   ],
   "source": [
    "como_race_df"
   ]
  },
  {
   "cell_type": "code",
   "execution_count": 69,
   "metadata": {},
   "outputs": [
    {
     "data": {
      "text/html": [
       "<div>\n",
       "<style scoped>\n",
       "    .dataframe tbody tr th:only-of-type {\n",
       "        vertical-align: middle;\n",
       "    }\n",
       "\n",
       "    .dataframe tbody tr th {\n",
       "        vertical-align: top;\n",
       "    }\n",
       "\n",
       "    .dataframe thead th {\n",
       "        text-align: right;\n",
       "    }\n",
       "</style>\n",
       "<table border=\"1\" class=\"dataframe\">\n",
       "  <thead>\n",
       "    <tr style=\"text-align: right;\">\n",
       "      <th></th>\n",
       "      <th>race_display</th>\n",
       "      <th>has_comorbidity2</th>\n",
       "      <th>number_of_patients</th>\n",
       "      <th>percentage_with_como</th>\n",
       "    </tr>\n",
       "  </thead>\n",
       "  <tbody>\n",
       "    <tr>\n",
       "      <th>2</th>\n",
       "      <td>Black or African American</td>\n",
       "      <td>36</td>\n",
       "      <td>51</td>\n",
       "      <td>70.588235</td>\n",
       "    </tr>\n",
       "    <tr>\n",
       "      <th>1</th>\n",
       "      <td>Asian</td>\n",
       "      <td>3</td>\n",
       "      <td>5</td>\n",
       "      <td>60.000000</td>\n",
       "    </tr>\n",
       "    <tr>\n",
       "      <th>7</th>\n",
       "      <td>Unknown</td>\n",
       "      <td>9</td>\n",
       "      <td>15</td>\n",
       "      <td>60.000000</td>\n",
       "    </tr>\n",
       "    <tr>\n",
       "      <th>8</th>\n",
       "      <td>White</td>\n",
       "      <td>120</td>\n",
       "      <td>216</td>\n",
       "      <td>55.555556</td>\n",
       "    </tr>\n",
       "    <tr>\n",
       "      <th>6</th>\n",
       "      <td>Other Race</td>\n",
       "      <td>13</td>\n",
       "      <td>25</td>\n",
       "      <td>52.000000</td>\n",
       "    </tr>\n",
       "    <tr>\n",
       "      <th>4</th>\n",
       "      <td>Hispanic</td>\n",
       "      <td>170</td>\n",
       "      <td>331</td>\n",
       "      <td>51.359517</td>\n",
       "    </tr>\n",
       "    <tr>\n",
       "      <th>0</th>\n",
       "      <td>American Indian/Alaska Native</td>\n",
       "      <td>2</td>\n",
       "      <td>4</td>\n",
       "      <td>50.000000</td>\n",
       "    </tr>\n",
       "    <tr>\n",
       "      <th>3</th>\n",
       "      <td>Decline to Specify</td>\n",
       "      <td>2</td>\n",
       "      <td>4</td>\n",
       "      <td>50.000000</td>\n",
       "    </tr>\n",
       "    <tr>\n",
       "      <th>5</th>\n",
       "      <td>Native Hawaiian or Other Pacific Islande</td>\n",
       "      <td>0</td>\n",
       "      <td>1</td>\n",
       "      <td>0.000000</td>\n",
       "    </tr>\n",
       "  </tbody>\n",
       "</table>\n",
       "</div>"
      ],
      "text/plain": [
       "                               race_display  has_comorbidity2  \\\n",
       "2                 Black or African American                36   \n",
       "1                                     Asian                 3   \n",
       "7                                   Unknown                 9   \n",
       "8                                     White               120   \n",
       "6                                Other Race                13   \n",
       "4                                  Hispanic               170   \n",
       "0             American Indian/Alaska Native                 2   \n",
       "3                        Decline to Specify                 2   \n",
       "5  Native Hawaiian or Other Pacific Islande                 0   \n",
       "\n",
       "   number_of_patients  percentage_with_como  \n",
       "2                  51             70.588235  \n",
       "1                   5             60.000000  \n",
       "7                  15             60.000000  \n",
       "8                 216             55.555556  \n",
       "6                  25             52.000000  \n",
       "4                 331             51.359517  \n",
       "0                   4             50.000000  \n",
       "3                   4             50.000000  \n",
       "5                   1              0.000000  "
      ]
     },
     "execution_count": 69,
     "metadata": {},
     "output_type": "execute_result"
    }
   ],
   "source": [
    "como_race_df2"
   ]
  },
  {
   "cell_type": "code",
   "execution_count": 48,
   "metadata": {},
   "outputs": [
    {
     "data": {
      "text/plain": [
       "race_display\n",
       "American Indian/Alaska Native                 3\n",
       "Asian                                         5\n",
       "Black or African American                    46\n",
       "Decline to Specify                            3\n",
       "Hispanic                                    253\n",
       "Native Hawaiian or Other Pacific Islande      0\n",
       "Other Race                                   21\n",
       "Unknown                                      13\n",
       "White                                       169\n",
       "Name: has_comorbidity, dtype: int64"
      ]
     },
     "execution_count": 48,
     "metadata": {},
     "output_type": "execute_result"
    }
   ],
   "source": [
    "all_df.groupby(['race_display'])['has_comorbidity'].apply(lambda x : x.astype(int).sum())"
   ]
  },
  {
   "cell_type": "code",
   "execution_count": 49,
   "metadata": {},
   "outputs": [
    {
     "name": "stderr",
     "output_type": "stream",
     "text": [
      "/home/joel/anaconda3/lib/python3.7/site-packages/ipykernel_launcher.py:1: FutureWarning: Indexing with multiple keys (implicitly converted to a tuple of keys) will be deprecated, use a list instead.\n",
      "  \"\"\"Entry point for launching an IPython kernel.\n"
     ]
    },
    {
     "data": {
      "text/html": [
       "<div>\n",
       "<style scoped>\n",
       "    .dataframe tbody tr th:only-of-type {\n",
       "        vertical-align: middle;\n",
       "    }\n",
       "\n",
       "    .dataframe tbody tr th {\n",
       "        vertical-align: top;\n",
       "    }\n",
       "\n",
       "    .dataframe thead th {\n",
       "        text-align: right;\n",
       "    }\n",
       "</style>\n",
       "<table border=\"1\" class=\"dataframe\">\n",
       "  <thead>\n",
       "    <tr style=\"text-align: right;\">\n",
       "      <th></th>\n",
       "      <th>race_display</th>\n",
       "      <th>COPD_com_flag</th>\n",
       "      <th>asthma_com_flag</th>\n",
       "      <th>diabetes_com_flag</th>\n",
       "      <th>hypertension_com_flag</th>\n",
       "      <th>CAD_com_flag</th>\n",
       "      <th>heartfailure_com_flag</th>\n",
       "      <th>CKD_com_flag</th>\n",
       "      <th>cancer_com_flag</th>\n",
       "      <th>number_of_patients</th>\n",
       "    </tr>\n",
       "  </thead>\n",
       "  <tbody>\n",
       "    <tr>\n",
       "      <th>0</th>\n",
       "      <td>American Indian/Alaska Native</td>\n",
       "      <td>0</td>\n",
       "      <td>0</td>\n",
       "      <td>1</td>\n",
       "      <td>1</td>\n",
       "      <td>0</td>\n",
       "      <td>0</td>\n",
       "      <td>1</td>\n",
       "      <td>2</td>\n",
       "      <td>4</td>\n",
       "    </tr>\n",
       "    <tr>\n",
       "      <th>1</th>\n",
       "      <td>Asian</td>\n",
       "      <td>1</td>\n",
       "      <td>0</td>\n",
       "      <td>4</td>\n",
       "      <td>1</td>\n",
       "      <td>0</td>\n",
       "      <td>1</td>\n",
       "      <td>3</td>\n",
       "      <td>0</td>\n",
       "      <td>5</td>\n",
       "    </tr>\n",
       "    <tr>\n",
       "      <th>2</th>\n",
       "      <td>Black or African American</td>\n",
       "      <td>6</td>\n",
       "      <td>5</td>\n",
       "      <td>31</td>\n",
       "      <td>20</td>\n",
       "      <td>11</td>\n",
       "      <td>15</td>\n",
       "      <td>22</td>\n",
       "      <td>3</td>\n",
       "      <td>51</td>\n",
       "    </tr>\n",
       "    <tr>\n",
       "      <th>3</th>\n",
       "      <td>Decline to Specify</td>\n",
       "      <td>0</td>\n",
       "      <td>0</td>\n",
       "      <td>2</td>\n",
       "      <td>3</td>\n",
       "      <td>0</td>\n",
       "      <td>0</td>\n",
       "      <td>0</td>\n",
       "      <td>0</td>\n",
       "      <td>4</td>\n",
       "    </tr>\n",
       "    <tr>\n",
       "      <th>4</th>\n",
       "      <td>Hispanic</td>\n",
       "      <td>11</td>\n",
       "      <td>19</td>\n",
       "      <td>180</td>\n",
       "      <td>154</td>\n",
       "      <td>29</td>\n",
       "      <td>42</td>\n",
       "      <td>55</td>\n",
       "      <td>24</td>\n",
       "      <td>331</td>\n",
       "    </tr>\n",
       "    <tr>\n",
       "      <th>5</th>\n",
       "      <td>Native Hawaiian or Other Pacific Islande</td>\n",
       "      <td>0</td>\n",
       "      <td>0</td>\n",
       "      <td>0</td>\n",
       "      <td>0</td>\n",
       "      <td>0</td>\n",
       "      <td>0</td>\n",
       "      <td>0</td>\n",
       "      <td>0</td>\n",
       "      <td>1</td>\n",
       "    </tr>\n",
       "    <tr>\n",
       "      <th>6</th>\n",
       "      <td>Other Race</td>\n",
       "      <td>0</td>\n",
       "      <td>2</td>\n",
       "      <td>12</td>\n",
       "      <td>20</td>\n",
       "      <td>1</td>\n",
       "      <td>2</td>\n",
       "      <td>0</td>\n",
       "      <td>0</td>\n",
       "      <td>25</td>\n",
       "    </tr>\n",
       "    <tr>\n",
       "      <th>7</th>\n",
       "      <td>Unknown</td>\n",
       "      <td>0</td>\n",
       "      <td>1</td>\n",
       "      <td>9</td>\n",
       "      <td>7</td>\n",
       "      <td>3</td>\n",
       "      <td>2</td>\n",
       "      <td>6</td>\n",
       "      <td>1</td>\n",
       "      <td>15</td>\n",
       "    </tr>\n",
       "    <tr>\n",
       "      <th>8</th>\n",
       "      <td>White</td>\n",
       "      <td>26</td>\n",
       "      <td>20</td>\n",
       "      <td>93</td>\n",
       "      <td>96</td>\n",
       "      <td>37</td>\n",
       "      <td>33</td>\n",
       "      <td>36</td>\n",
       "      <td>17</td>\n",
       "      <td>216</td>\n",
       "    </tr>\n",
       "  </tbody>\n",
       "</table>\n",
       "</div>"
      ],
      "text/plain": [
       "                               race_display  COPD_com_flag  asthma_com_flag  \\\n",
       "0             American Indian/Alaska Native              0                0   \n",
       "1                                     Asian              1                0   \n",
       "2                 Black or African American              6                5   \n",
       "3                        Decline to Specify              0                0   \n",
       "4                                  Hispanic             11               19   \n",
       "5  Native Hawaiian or Other Pacific Islande              0                0   \n",
       "6                                Other Race              0                2   \n",
       "7                                   Unknown              0                1   \n",
       "8                                     White             26               20   \n",
       "\n",
       "   diabetes_com_flag  hypertension_com_flag  CAD_com_flag  \\\n",
       "0                  1                      1             0   \n",
       "1                  4                      1             0   \n",
       "2                 31                     20            11   \n",
       "3                  2                      3             0   \n",
       "4                180                    154            29   \n",
       "5                  0                      0             0   \n",
       "6                 12                     20             1   \n",
       "7                  9                      7             3   \n",
       "8                 93                     96            37   \n",
       "\n",
       "   heartfailure_com_flag  CKD_com_flag  cancer_com_flag  number_of_patients  \n",
       "0                      0             1                2                   4  \n",
       "1                      1             3                0                   5  \n",
       "2                     15            22                3                  51  \n",
       "3                      0             0                0                   4  \n",
       "4                     42            55               24                 331  \n",
       "5                      0             0                0                   1  \n",
       "6                      2             0                0                  25  \n",
       "7                      2             6                1                  15  \n",
       "8                     33            36               17                 216  "
      ]
     },
     "execution_count": 49,
     "metadata": {},
     "output_type": "execute_result"
    }
   ],
   "source": [
    "all_como = all_df.groupby(['race_display'])['COPD_com_flag', 'asthma_com_flag', 'diabetes_com_flag',\n",
    "       'hypertension_com_flag', 'CAD_com_flag', 'heartfailure_com_flag',\n",
    "       'CKD_com_flag', 'cancer_com_flag'].apply(lambda x : x.astype(int).sum()).reset_index()\n",
    "pd.merge(all_como, race_df)"
   ]
  },
  {
   "cell_type": "code",
   "execution_count": 50,
   "metadata": {},
   "outputs": [],
   "source": [
    "out_df = all_df.value_counts(subset=['race_display', 'total_comorbidities'], sort=True).reset_index().rename(columns={0: 'count'})\n",
    "#new_out_df = pd.merge(out_df, zip_df[['zip_code','median_income', 'mean_income', 'poverty_rate']], left_on='zip_cust_table', right_on='zip_code', how='inner')\n",
    "\n",
    "#new_out_df = new_out_df[['zip_cust_table', 'total_comorbidities', 'count', 'median_income',\n",
    "#       'mean_income', 'poverty_rate']].astype(float)\n",
    "\n",
    "#new_out_df['below_state_median_income'] = new_out_df.median_income.apply(lambda x: 'yes' if x < 64034 else 'no')\n",
    "\n",
    "out_df.sort_values(by=['total_comorbidities'], ascending=False).to_csv('tot_com_race.csv')\n",
    "#new_out_df.sort_values(by=['total_comorbidities', 'count'], ascending=[False, False]).to_csv('tot_com_zip_dist_high.csv')\n",
    "#new_out_df.sort_values(by=['median_income', 'total_comorbidities','count'], ascending=[True, False, False]).to_csv('tot_com_zip_dist_income.csv')\n",
    "\n"
   ]
  },
  {
   "cell_type": "code",
   "execution_count": 51,
   "metadata": {},
   "outputs": [],
   "source": [
    "out_df = all_df.value_counts(subset=['zip_cust_table', 'qSOFA_score'], sort=True).reset_index().rename(columns={0: 'count'})"
   ]
  },
  {
   "cell_type": "code",
   "execution_count": 52,
   "metadata": {},
   "outputs": [],
   "source": [
    "new_out_df = pd.merge(out_df, zip_df[['zip_code','median_income', 'mean_income', 'poverty_rate']], left_on='zip_cust_table', right_on='zip_code', how='inner')"
   ]
  },
  {
   "cell_type": "code",
   "execution_count": 53,
   "metadata": {},
   "outputs": [
    {
     "data": {
      "text/plain": [
       "Index(['zip_cust_table', 'qSOFA_score', 'count', 'zip_code', 'median_income',\n",
       "       'mean_income', 'poverty_rate'],\n",
       "      dtype='object')"
      ]
     },
     "execution_count": 53,
     "metadata": {},
     "output_type": "execute_result"
    }
   ],
   "source": [
    "new_out_df.columns"
   ]
  },
  {
   "cell_type": "code",
   "execution_count": 54,
   "metadata": {},
   "outputs": [],
   "source": [
    "new_out_df = new_out_df[['zip_cust_table', 'qSOFA_score', 'count', 'median_income',\n",
    "       'mean_income', 'poverty_rate']].astype(float)"
   ]
  },
  {
   "cell_type": "code",
   "execution_count": 55,
   "metadata": {},
   "outputs": [],
   "source": [
    "new_out_df['below_state_median_income'] = new_out_df.median_income.apply(lambda x: 'yes' if x < 64034 else 'no')"
   ]
  },
  {
   "cell_type": "code",
   "execution_count": 56,
   "metadata": {},
   "outputs": [],
   "source": [
    "out_df2 = all_df.value_counts(subset=['race_display', 'qSOFA_score'], sort=True).reset_index().rename(columns={0: 'count'})"
   ]
  },
  {
   "cell_type": "code",
   "execution_count": 57,
   "metadata": {},
   "outputs": [
    {
     "data": {
      "text/html": [
       "<div>\n",
       "<style scoped>\n",
       "    .dataframe tbody tr th:only-of-type {\n",
       "        vertical-align: middle;\n",
       "    }\n",
       "\n",
       "    .dataframe tbody tr th {\n",
       "        vertical-align: top;\n",
       "    }\n",
       "\n",
       "    .dataframe thead th {\n",
       "        text-align: right;\n",
       "    }\n",
       "</style>\n",
       "<table border=\"1\" class=\"dataframe\">\n",
       "  <thead>\n",
       "    <tr style=\"text-align: right;\">\n",
       "      <th></th>\n",
       "      <th>race_display</th>\n",
       "      <th>qSOFA_score</th>\n",
       "      <th>count</th>\n",
       "    </tr>\n",
       "  </thead>\n",
       "  <tbody>\n",
       "    <tr>\n",
       "      <th>12</th>\n",
       "      <td>Hispanic</td>\n",
       "      <td>3.0</td>\n",
       "      <td>8</td>\n",
       "    </tr>\n",
       "    <tr>\n",
       "      <th>13</th>\n",
       "      <td>White</td>\n",
       "      <td>3.0</td>\n",
       "      <td>6</td>\n",
       "    </tr>\n",
       "    <tr>\n",
       "      <th>4</th>\n",
       "      <td>Hispanic</td>\n",
       "      <td>2.0</td>\n",
       "      <td>56</td>\n",
       "    </tr>\n",
       "    <tr>\n",
       "      <th>6</th>\n",
       "      <td>White</td>\n",
       "      <td>2.0</td>\n",
       "      <td>28</td>\n",
       "    </tr>\n",
       "    <tr>\n",
       "      <th>9</th>\n",
       "      <td>Black or African American</td>\n",
       "      <td>2.0</td>\n",
       "      <td>11</td>\n",
       "    </tr>\n",
       "    <tr>\n",
       "      <th>15</th>\n",
       "      <td>Unknown</td>\n",
       "      <td>2.0</td>\n",
       "      <td>4</td>\n",
       "    </tr>\n",
       "    <tr>\n",
       "      <th>0</th>\n",
       "      <td>Hispanic</td>\n",
       "      <td>1.0</td>\n",
       "      <td>175</td>\n",
       "    </tr>\n",
       "    <tr>\n",
       "      <th>17</th>\n",
       "      <td>American Indian/Alaska Native</td>\n",
       "      <td>1.0</td>\n",
       "      <td>3</td>\n",
       "    </tr>\n",
       "    <tr>\n",
       "      <th>20</th>\n",
       "      <td>Native Hawaiian or Other Pacific Islande</td>\n",
       "      <td>1.0</td>\n",
       "      <td>1</td>\n",
       "    </tr>\n",
       "    <tr>\n",
       "      <th>19</th>\n",
       "      <td>Asian</td>\n",
       "      <td>1.0</td>\n",
       "      <td>2</td>\n",
       "    </tr>\n",
       "    <tr>\n",
       "      <th>5</th>\n",
       "      <td>Black or African American</td>\n",
       "      <td>1.0</td>\n",
       "      <td>32</td>\n",
       "    </tr>\n",
       "    <tr>\n",
       "      <th>7</th>\n",
       "      <td>Other Race</td>\n",
       "      <td>1.0</td>\n",
       "      <td>13</td>\n",
       "    </tr>\n",
       "    <tr>\n",
       "      <th>10</th>\n",
       "      <td>Unknown</td>\n",
       "      <td>1.0</td>\n",
       "      <td>9</td>\n",
       "    </tr>\n",
       "    <tr>\n",
       "      <th>1</th>\n",
       "      <td>White</td>\n",
       "      <td>1.0</td>\n",
       "      <td>124</td>\n",
       "    </tr>\n",
       "    <tr>\n",
       "      <th>14</th>\n",
       "      <td>Decline to Specify</td>\n",
       "      <td>1.0</td>\n",
       "      <td>4</td>\n",
       "    </tr>\n",
       "    <tr>\n",
       "      <th>18</th>\n",
       "      <td>Unknown</td>\n",
       "      <td>0.0</td>\n",
       "      <td>2</td>\n",
       "    </tr>\n",
       "    <tr>\n",
       "      <th>11</th>\n",
       "      <td>Black or African American</td>\n",
       "      <td>0.0</td>\n",
       "      <td>8</td>\n",
       "    </tr>\n",
       "    <tr>\n",
       "      <th>16</th>\n",
       "      <td>Asian</td>\n",
       "      <td>0.0</td>\n",
       "      <td>3</td>\n",
       "    </tr>\n",
       "    <tr>\n",
       "      <th>8</th>\n",
       "      <td>Other Race</td>\n",
       "      <td>0.0</td>\n",
       "      <td>12</td>\n",
       "    </tr>\n",
       "    <tr>\n",
       "      <th>3</th>\n",
       "      <td>White</td>\n",
       "      <td>0.0</td>\n",
       "      <td>58</td>\n",
       "    </tr>\n",
       "    <tr>\n",
       "      <th>2</th>\n",
       "      <td>Hispanic</td>\n",
       "      <td>0.0</td>\n",
       "      <td>92</td>\n",
       "    </tr>\n",
       "    <tr>\n",
       "      <th>21</th>\n",
       "      <td>American Indian/Alaska Native</td>\n",
       "      <td>0.0</td>\n",
       "      <td>1</td>\n",
       "    </tr>\n",
       "  </tbody>\n",
       "</table>\n",
       "</div>"
      ],
      "text/plain": [
       "                                race_display  qSOFA_score  count\n",
       "12                                  Hispanic          3.0      8\n",
       "13                                     White          3.0      6\n",
       "4                                   Hispanic          2.0     56\n",
       "6                                      White          2.0     28\n",
       "9                  Black or African American          2.0     11\n",
       "15                                   Unknown          2.0      4\n",
       "0                                   Hispanic          1.0    175\n",
       "17             American Indian/Alaska Native          1.0      3\n",
       "20  Native Hawaiian or Other Pacific Islande          1.0      1\n",
       "19                                     Asian          1.0      2\n",
       "5                  Black or African American          1.0     32\n",
       "7                                 Other Race          1.0     13\n",
       "10                                   Unknown          1.0      9\n",
       "1                                      White          1.0    124\n",
       "14                        Decline to Specify          1.0      4\n",
       "18                                   Unknown          0.0      2\n",
       "11                 Black or African American          0.0      8\n",
       "16                                     Asian          0.0      3\n",
       "8                                 Other Race          0.0     12\n",
       "3                                      White          0.0     58\n",
       "2                                   Hispanic          0.0     92\n",
       "21             American Indian/Alaska Native          0.0      1"
      ]
     },
     "execution_count": 57,
     "metadata": {},
     "output_type": "execute_result"
    }
   ],
   "source": [
    "out_df2.sort_values(by=['qSOFA_score'], ascending=False)"
   ]
  },
  {
   "cell_type": "code",
   "execution_count": 58,
   "metadata": {},
   "outputs": [],
   "source": [
    "new_out_df.sort_values(by=['qSOFA_score']).to_csv('qSOFA_zip_dist.csv')"
   ]
  },
  {
   "cell_type": "code",
   "execution_count": 59,
   "metadata": {},
   "outputs": [],
   "source": [
    "new_out_df.sort_values(by=['qSOFA_score', 'count'], ascending=[False, False]).to_csv('qSOFA_zip_dist_high.csv')"
   ]
  },
  {
   "cell_type": "code",
   "execution_count": 60,
   "metadata": {},
   "outputs": [],
   "source": [
    "new_out_df.sort_values(by=['median_income', 'qSOFA_score','count'], ascending=[True, False, False]).to_csv('qSOFA_zip_dist_income.csv')"
   ]
  },
  {
   "cell_type": "code",
   "execution_count": 61,
   "metadata": {},
   "outputs": [
    {
     "ename": "TypeError",
     "evalue": "Can only count levels on hierarchical index.",
     "output_type": "error",
     "traceback": [
      "\u001b[0;31m---------------------------------------------------------------------------\u001b[0m",
      "\u001b[0;31mTypeError\u001b[0m                                 Traceback (most recent call last)",
      "\u001b[0;32m<ipython-input-61-44b32bb27f9d>\u001b[0m in \u001b[0;36m<module>\u001b[0;34m\u001b[0m\n\u001b[0;32m----> 1\u001b[0;31m \u001b[0mall_df\u001b[0m\u001b[0;34m[\u001b[0m\u001b[0;34m[\u001b[0m\u001b[0;34m'zip_cust_table'\u001b[0m\u001b[0;34m,\u001b[0m \u001b[0;34m'qSOFA_score'\u001b[0m\u001b[0;34m]\u001b[0m\u001b[0;34m]\u001b[0m\u001b[0;34m.\u001b[0m\u001b[0mset_index\u001b[0m\u001b[0;34m(\u001b[0m\u001b[0;34m[\u001b[0m\u001b[0;34m'zip_cust_table'\u001b[0m\u001b[0;34m]\u001b[0m\u001b[0;34m)\u001b[0m\u001b[0;34m.\u001b[0m\u001b[0mcount\u001b[0m\u001b[0;34m(\u001b[0m\u001b[0mlevel\u001b[0m\u001b[0;34m=\u001b[0m\u001b[0;34m\"zip_cust_table\"\u001b[0m\u001b[0;34m)\u001b[0m\u001b[0;34m\u001b[0m\u001b[0;34m\u001b[0m\u001b[0m\n\u001b[0m",
      "\u001b[0;32m~/anaconda3/lib/python3.7/site-packages/pandas/core/frame.py\u001b[0m in \u001b[0;36mcount\u001b[0;34m(self, axis, level, numeric_only)\u001b[0m\n\u001b[1;32m   8459\u001b[0m         \u001b[0maxis\u001b[0m \u001b[0;34m=\u001b[0m \u001b[0mself\u001b[0m\u001b[0;34m.\u001b[0m\u001b[0m_get_axis_number\u001b[0m\u001b[0;34m(\u001b[0m\u001b[0maxis\u001b[0m\u001b[0;34m)\u001b[0m\u001b[0;34m\u001b[0m\u001b[0;34m\u001b[0m\u001b[0m\n\u001b[1;32m   8460\u001b[0m         \u001b[0;32mif\u001b[0m \u001b[0mlevel\u001b[0m \u001b[0;32mis\u001b[0m \u001b[0;32mnot\u001b[0m \u001b[0;32mNone\u001b[0m\u001b[0;34m:\u001b[0m\u001b[0;34m\u001b[0m\u001b[0;34m\u001b[0m\u001b[0m\n\u001b[0;32m-> 8461\u001b[0;31m             \u001b[0;32mreturn\u001b[0m \u001b[0mself\u001b[0m\u001b[0;34m.\u001b[0m\u001b[0m_count_level\u001b[0m\u001b[0;34m(\u001b[0m\u001b[0mlevel\u001b[0m\u001b[0;34m,\u001b[0m \u001b[0maxis\u001b[0m\u001b[0;34m=\u001b[0m\u001b[0maxis\u001b[0m\u001b[0;34m,\u001b[0m \u001b[0mnumeric_only\u001b[0m\u001b[0;34m=\u001b[0m\u001b[0mnumeric_only\u001b[0m\u001b[0;34m)\u001b[0m\u001b[0;34m\u001b[0m\u001b[0;34m\u001b[0m\u001b[0m\n\u001b[0m\u001b[1;32m   8462\u001b[0m \u001b[0;34m\u001b[0m\u001b[0m\n\u001b[1;32m   8463\u001b[0m         \u001b[0;32mif\u001b[0m \u001b[0mnumeric_only\u001b[0m\u001b[0;34m:\u001b[0m\u001b[0;34m\u001b[0m\u001b[0;34m\u001b[0m\u001b[0m\n",
      "\u001b[0;32m~/anaconda3/lib/python3.7/site-packages/pandas/core/frame.py\u001b[0m in \u001b[0;36m_count_level\u001b[0;34m(self, level, axis, numeric_only)\u001b[0m\n\u001b[1;32m   8495\u001b[0m         \u001b[0;32mif\u001b[0m \u001b[0;32mnot\u001b[0m \u001b[0misinstance\u001b[0m\u001b[0;34m(\u001b[0m\u001b[0mcount_axis\u001b[0m\u001b[0;34m,\u001b[0m \u001b[0mMultiIndex\u001b[0m\u001b[0;34m)\u001b[0m\u001b[0;34m:\u001b[0m\u001b[0;34m\u001b[0m\u001b[0;34m\u001b[0m\u001b[0m\n\u001b[1;32m   8496\u001b[0m             raise TypeError(\n\u001b[0;32m-> 8497\u001b[0;31m                 \u001b[0;34mf\"Can only count levels on hierarchical {self._get_axis_name(axis)}.\"\u001b[0m\u001b[0;34m\u001b[0m\u001b[0;34m\u001b[0m\u001b[0m\n\u001b[0m\u001b[1;32m   8498\u001b[0m             )\n\u001b[1;32m   8499\u001b[0m \u001b[0;34m\u001b[0m\u001b[0m\n",
      "\u001b[0;31mTypeError\u001b[0m: Can only count levels on hierarchical index."
     ]
    }
   ],
   "source": [
    "all_df[['zip_cust_table', 'qSOFA_score']].set_index(['zip_cust_table']).count(level=\"zip_cust_table\")"
   ]
  },
  {
   "cell_type": "code",
   "execution_count": null,
   "metadata": {},
   "outputs": [],
   "source": [
    "all_df[['zip_cust_table', 'qSOFA_score']].groupby(['zip_cust_table', 'qSOFA_score']).agg(['count'])"
   ]
  },
  {
   "cell_type": "code",
   "execution_count": null,
   "metadata": {},
   "outputs": [],
   "source": [
    "#fig = df.hist(figsize=(50, 30))\n",
    "import matplotlib\n",
    "import matplotlib.pyplot as plt\n",
    "\n",
    "params = {'axes.titlesize':'24',\n",
    "          'xtick.labelsize':'24',\n",
    "          'ytick.labelsize':'24'}\n",
    "matplotlib.rcParams.update(params)\n",
    "\n",
    "\n",
    "fig = all_df.qSOFA_score.hist(by=all_df.zip_cust_table, figsize=(50, 30))\n",
    "[x.title.set_size(24) for x in fig.ravel()]\n",
    "\n",
    "plt.savefig('example.pdf')  "
   ]
  },
  {
   "cell_type": "code",
   "execution_count": null,
   "metadata": {},
   "outputs": [],
   "source": [
    "Counter(all_df['zip_cust_table'])"
   ]
  },
  {
   "cell_type": "code",
   "execution_count": null,
   "metadata": {},
   "outputs": [],
   "source": [
    "df.head()"
   ]
  },
  {
   "cell_type": "code",
   "execution_count": null,
   "metadata": {},
   "outputs": [],
   "source": [
    "icu_df = df[~df['icu_hours_summed'].isnull()]"
   ]
  },
  {
   "cell_type": "code",
   "execution_count": null,
   "metadata": {},
   "outputs": [],
   "source": [
    "Counter(icu_df['qSOFA_score'])"
   ]
  },
  {
   "cell_type": "code",
   "execution_count": null,
   "metadata": {},
   "outputs": [],
   "source": [
    "Counter(icu_df['pO2_Art'].values)"
   ]
  },
  {
   "cell_type": "code",
   "execution_count": null,
   "metadata": {},
   "outputs": [],
   "source": [
    "sorted(icu_df.columns)"
   ]
  },
  {
   "cell_type": "code",
   "execution_count": null,
   "metadata": {},
   "outputs": [],
   "source": [
    "working_df = icu_df[~icu_df['qSOFA_score'].isnull()] \n",
    "working_df"
   ]
  },
  {
   "cell_type": "code",
   "execution_count": null,
   "metadata": {},
   "outputs": [],
   "source": [
    "data = icu_df[['age_at_admit', 'pO2_Art', \n",
    "               'qSOFA_score','race_display',\n",
    "              'vent_hours_summed', 'zip_cust_table', 'heartfailure_com_flag',\n",
    "              'cancer_com_flag','gender','WBC','Mean_Arterial_Pressure',\n",
    "              'Bili_Total','CAD_com_flag','CKD_com_flag','COPD_com_flag',\n",
    " 'Creatinine', 'FiO2/Percent','Glasgow_Coma_Score','diabetes_com_flag',\n",
    " 'hypertension_com_flag','length_of_stay','discharge_disposition_display','Platelet', 'deid_empi_encounter']]"
   ]
  },
  {
   "cell_type": "code",
   "execution_count": null,
   "metadata": {},
   "outputs": [],
   "source": [
    "data.head()"
   ]
  },
  {
   "cell_type": "code",
   "execution_count": null,
   "metadata": {},
   "outputs": [],
   "source": [
    "# only 236 patients with all tests\n",
    "allo_df = data[['pO2_Art', 'Creatinine', 'FiO2/Percent', \n",
    "      'Glasgow_Coma_Score', 'Platelet', 'Mean_Arterial_Pressure',\n",
    "     'Bili_Total', 'deid_empi_encounter']].dropna()"
   ]
  },
  {
   "cell_type": "code",
   "execution_count": null,
   "metadata": {},
   "outputs": [],
   "source": [
    "list_of_patients = list(allo_df['deid_empi_encounter'])"
   ]
  },
  {
   "cell_type": "code",
   "execution_count": null,
   "metadata": {},
   "outputs": [],
   "source": [
    "adjusted_patients = data[data['deid_empi_encounter'].isin(list_of_patients)]"
   ]
  },
  {
   "cell_type": "code",
   "execution_count": null,
   "metadata": {},
   "outputs": [],
   "source": [
    "def calculate_sofa(row):\n",
    "    count = 0\n",
    "    \n",
    "    # need to implement Fi02/po2\n",
    "    \n",
    "    if row.Platelet >= 100 and row.Platelet <= 149:\n",
    "        count += 1 \n",
    "        \n",
    "    elif row.Platelet >= 50 and row.Platelet <= 99:\n",
    "        count += 2\n",
    "        \n",
    "    elif row.Platelet >= 20 and row.Platelet <= 49:\n",
    "        count += 3\n",
    "        \n",
    "    elif row.Platelet < 20:\n",
    "        count += 4\n",
    "       \n",
    "    # Glasgow\n",
    "    if row.Glasgow_Coma_Score == 13 or row.Glasgow_Coma_Score == 14:\n",
    "        count += 1 \n",
    "        \n",
    "    elif row.Glasgow_Coma_Score >= 10 and row.Glasgow_Coma_Score <= 12:\n",
    "        count += 2\n",
    "        \n",
    "    elif row.Glasgow_Coma_Score >= 6 and row.Glasgow_Coma_Score <= 9:\n",
    "        count += 3\n",
    "        \n",
    "    elif row.Glasgow_Coma_Score < 6:\n",
    "        count += 4\n",
    "        \n",
    "    # Bilirubin \n",
    "    \n",
    "    if float(row.Bili_Total) >= 1.2 and float(row.Bili_Total) <= 1.9:\n",
    "        count += 1 \n",
    "        \n",
    "    elif float(row.Bili_Total) >= 2.0 and float(row.Bili_Total) <= 5.9:\n",
    "        count += 2\n",
    "        \n",
    "    elif float(row.Bili_Total) >= 6.0 and float(row.Bili_Total) <= 11.9:\n",
    "        count += 3\n",
    "        \n",
    "    elif float(row.Bili_Total) >= 12.0:\n",
    "        count += 4 \n",
    "        \n",
    "    # Need to implement Mean artieral pressure later \n",
    "    \n",
    "    # Creatinine \n",
    "    \n",
    "    if row.Creatinine >= 1.2 and row.Creatinine <= 1.9:\n",
    "        count += 1 \n",
    "        \n",
    "    elif row.Creatinine >= 2.0 and row.Creatinine <= 3.4:\n",
    "        count += 2\n",
    "        \n",
    "    elif row.Creatinine >= 3.5 and row.Creatinine <= 4.9:\n",
    "        count += 3\n",
    "        \n",
    "    elif row.Creatinine >= 5.0:\n",
    "        count += 4 \n",
    "        \n",
    "    return count "
   ]
  },
  {
   "cell_type": "code",
   "execution_count": null,
   "metadata": {},
   "outputs": [],
   "source": [
    "allo_df['sofa'] = allo_df.apply(lambda row: calculate_sofa(row), axis = 1)"
   ]
  },
  {
   "cell_type": "code",
   "execution_count": null,
   "metadata": {},
   "outputs": [],
   "source": [
    "adjusted_patients['sofa'] = allo_df.apply(lambda row: calculate_sofa(row), axis = 1)"
   ]
  },
  {
   "cell_type": "code",
   "execution_count": null,
   "metadata": {},
   "outputs": [],
   "source": [
    "allo_df['sofa'].describe()"
   ]
  },
  {
   "cell_type": "code",
   "execution_count": null,
   "metadata": {},
   "outputs": [],
   "source": [
    "adjusted_patients['sofa'].describe()"
   ]
  },
  {
   "cell_type": "code",
   "execution_count": null,
   "metadata": {},
   "outputs": [],
   "source": [
    "#https://www.mdcalc.com/sequential-organ-failure-assessment-sofa-score#evidence\n",
    "sofa_mortality_calibration = {\n",
    "    0: 0,\n",
    "    1: 0 ,\n",
    "    2: 6.4,\n",
    "    3: 6.4,\n",
    "    4: 20.2,\n",
    "    5: 20.2,\n",
    "    6: 21.5,\n",
    "    7: 21.5,\n",
    "    8: 33.3,\n",
    "    9: 33.3 ,\n",
    "    10: 50.0,\n",
    "    11: 50.0 ,\n",
    "    12: 95.2,\n",
    "    13: 95.2 ,\n",
    "    14: 95.2  , \n",
    "    \n",
    "}"
   ]
  },
  {
   "cell_type": "code",
   "execution_count": null,
   "metadata": {},
   "outputs": [],
   "source": [
    "qsofa_mortality_calibration = {\n",
    "    0: 0.6,\n",
    "    1: 5 ,\n",
    "    2: 10,\n",
    "    3: 24,\n",
    "    \n",
    "}"
   ]
  },
  {
   "cell_type": "code",
   "execution_count": null,
   "metadata": {},
   "outputs": [],
   "source": [
    "working_df.dtypes"
   ]
  },
  {
   "cell_type": "code",
   "execution_count": null,
   "metadata": {},
   "outputs": [],
   "source": [
    "def comorbidity_count(row):\n",
    "    count = 0 \n",
    "    \n",
    "    if row.COPD_com_flag == 'TRUE':\n",
    "        count += 1 \n",
    "        \n",
    "    if row.asthma_com_flag == 'TRUE':\n",
    "        count += 1 \n",
    "        \n",
    "    if row.diabetes_com_flag == 'TRUE':\n",
    "        count += 1 \n",
    "        \n",
    "    if row.hypertension_com_flag == 'TRUE':\n",
    "        count += 1 \n",
    "        \n",
    "    if row.CAD_com_flag == 'TRUE':\n",
    "        count += 1 \n",
    "        \n",
    "    if row.heartfailure_com_flag == 'TRUE': \n",
    "        count += 1 \n",
    "        \n",
    "    if row.CKD_com_flag == 'TRUE':\n",
    "        count += 1 \n",
    "        \n",
    "    if row.cancer_com_flag == 'TRUE':\n",
    "        count += 1 \n",
    "        \n",
    "    return count"
   ]
  },
  {
   "cell_type": "code",
   "execution_count": null,
   "metadata": {},
   "outputs": [],
   "source": [
    "working_df['comorbidity_count'] = working_df.apply(lambda row: comorbidity_count(row), axis=1)"
   ]
  },
  {
   "cell_type": "code",
   "execution_count": null,
   "metadata": {},
   "outputs": [],
   "source": [
    "working_df['cancer_com_flag'].dtype"
   ]
  },
  {
   "cell_type": "code",
   "execution_count": null,
   "metadata": {},
   "outputs": [],
   "source": [
    "working_df['life_years'] = working_df.age_at_admit.apply(lambda x: 100 - x)"
   ]
  },
  {
   "cell_type": "code",
   "execution_count": null,
   "metadata": {},
   "outputs": [],
   "source": [
    "Counter(adjusted_patients['discharge_disposition_display'])"
   ]
  },
  {
   "cell_type": "code",
   "execution_count": null,
   "metadata": {},
   "outputs": [],
   "source": [
    "np.nan"
   ]
  },
  {
   "cell_type": "code",
   "execution_count": null,
   "metadata": {},
   "outputs": [],
   "source": [
    "class Allocation(object):\n",
    "    # Code will be adjusted for SOFA. Currently using qSOFA \n",
    "    # Only looking at State Level CSC for vent allocation \n",
    "    def __init__(self, patients, scarcity, sofa_calibration):\n",
    "        self.patients = patients.copy() \n",
    "        self.patients['death'] = [0 for _ in range(len(self.patients))]\n",
    "        self.patients['allocated_vent'] = [\"no\" for _ in range(len(self.patients))]\n",
    "        \n",
    "        self.num_vents = int(len(patients) * scarcity) \n",
    "        \n",
    "        self.mortality_model = sofa_calibration\n",
    "        \n",
    "    def allocate(self, row):\n",
    "        prob = self.mortality_model[row.qSOFA_score]\n",
    "    \n",
    "        \n",
    "        death = np.random.binomial(size=1, n=1, p=prob*.01)[0]\n",
    "        #print(death)\n",
    "        \n",
    "        if death == 1 or row.discharge_disposition_display == 'Expired':\n",
    "            return death, 'yes'\n",
    "        \n",
    "        else:\n",
    "            #print('yup yup')\n",
    "            return death, 'yes'\n",
    "    \n",
    "    def check_expiration(self, df):\n",
    "\n",
    "        temp_df = df.copy()\n",
    "        for i, row in df.iterrows():\n",
    "            row = row.copy()\n",
    "            if (pd.isna(row.vent_hours_summed)) or row.discharge_disposition_display == 'Expired':\n",
    "        \n",
    "                temp_df.loc[i, 'death'] = 1\n",
    "\n",
    "            else:\n",
    "                \n",
    "                temp_df.loc[i, 'death'] = 0\n",
    "                \n",
    "                \n",
    "        return temp_df\n",
    "    \n",
    "    def __run_allocation(self, df2):\n",
    "        \n",
    "        for i, row in df2.iterrows():\n",
    "            row = row.copy()\n",
    "            if self.num_vents == 0:\n",
    "                #print('out')\n",
    "                break\n",
    "            \n",
    "            mortality, allocate_cond = self.allocate(row)\n",
    "            \n",
    "            df2.loc[i, 'death'] = mortality\n",
    "                \n",
    "            df2.loc[i, 'allocated_vent'] = allocate_cond\n",
    "            \n",
    "            self.num_vents -= 1 \n",
    "        \n",
    "        non_allocated = df2[df2['allocated_vent']=='no']\n",
    "        allocated = df2[df2['allocated_vent']=='yes']\n",
    "        \n",
    "        #print(len(allocated))\n",
    "        #print(Counter(allocated['death']))\n",
    "        adj_df = self.check_expiration(non_allocated)\n",
    "        #print(len(adj_df))\n",
    "        #print(Counter(adj_df['death']))\n",
    "        #adj_df = self.check_expiration(non_allocated)\n",
    "        \n",
    "        return pd.concat([allocated, adj_df])\n",
    "        \n",
    "                    \n",
    "    def lottery(self):\n",
    "        temp_patients = self.patients.copy()\n",
    "        \n",
    "        temp_patients.sample(frac=1)\n",
    "        \n",
    "        out_df = self.__run_allocation(temp_patients)\n",
    "        return out_df \n",
    "    \n",
    "    def youngest(self):\n",
    "        temp_patients = self.patients.copy()\n",
    "        \n",
    "        temp_patients.sort_values(by=['age_at_admit'], ascending=True, inplace=True)\n",
    "        \n",
    "        out_df = self.__run_allocation(temp_patients)\n",
    "        return out_df \n",
    "            \n",
    "        \n",
    "    def maryland(self):\n",
    "        temp_patients = self.patients.copy()\n",
    "        \n",
    "        temp_patients.sort_values(by=['qSOFA_score', 'comorbidity_count'], \n",
    "                                      ascending=[False, False], inplace=True)\n",
    "        \n",
    "        out_df = self.__run_allocation(temp_patients)\n",
    "        return out_df \n",
    "            \n",
    "    def new_york(self):\n",
    "        temp_patients = self.patients.copy()\n",
    "        grouped = temp_patients.groupby('qSOFA_score').sum().reset_index()\n",
    "        grouped.sort_values('qSOFA_score', ascending=False)\n",
    "        \n",
    "        out_df = self.__run_allocation(grouped)\n",
    "        return out_df \n",
    "            \n",
    "    \n",
    "    def max_lives_saved(self):\n",
    "        temp_patients = self.patients.copy()\n",
    "        \n",
    "        temp_patients.sort_values(by=['qSOFA_score'], ascending=False, inplace=True)\n",
    "        \n",
    "        out_df = self.__run_allocation(temp_patients)\n",
    "        return out_df \n",
    "    \n",
    "    def max_life_years(self):\n",
    "        temp_patients = self.patients.copy()\n",
    "\n",
    "        temp_patients.sort_values(by=['qSOFA_score', 'life_years'], ascending=[False,False], inplace=True)\n",
    "\n",
    "        out_df = self.__run_allocation(temp_patients)\n",
    "        return out_df \n",
    "        \n",
    "    def sickest_first(self):\n",
    "        temp_patients = self.patients.copy()\n",
    "        \n",
    "        temp_patients.sort_values(by=['qSOFA_score'], ascending=False, inplace=True)\n",
    "        \n",
    "        out_df = self.__run_allocation(temp_patients)\n",
    "        return out_df \n",
    "        "
   ]
  },
  {
   "cell_type": "code",
   "execution_count": null,
   "metadata": {},
   "outputs": [],
   "source": [
    "working_df"
   ]
  },
  {
   "cell_type": "code",
   "execution_count": null,
   "metadata": {},
   "outputs": [],
   "source": [
    "iters = 10 \n",
    "sums = 0\n",
    "for _ in range(iters):\n",
    "    allocate = Allocation(working_df, .50, qsofa_mortality_calibration)\n",
    "    testing_df_lot = allocate.lottery()\n",
    "    sums += testing_df['death'].sum()\n",
    "    \n",
    "avg_deaths = sums/iters\n",
    "avg_deaths"
   ]
  },
  {
   "cell_type": "code",
   "execution_count": null,
   "metadata": {},
   "outputs": [],
   "source": [
    "iters = 10 \n",
    "sums = 0\n",
    "for _ in range(iters):\n",
    "    allocate = Allocation(working_df, .50, qsofa_mortality_calibration)\n",
    "    testing_df_life_years = allocate.max_life_years()\n",
    "    sums += testing_df['death'].sum()\n",
    "    \n",
    "avg_deaths = sums/iters\n",
    "avg_deaths"
   ]
  },
  {
   "cell_type": "code",
   "execution_count": null,
   "metadata": {},
   "outputs": [],
   "source": [
    "iters = 10 \n",
    "sums = 0\n",
    "for _ in range(iters):\n",
    "    allocate = Allocation(working_df, .50, qsofa_mortality_calibration)\n",
    "    testing_df_youngest = allocate.youngest()\n",
    "    sums += testing_df['death'].sum()\n",
    "    \n",
    "avg_deaths = sums/iters\n",
    "avg_deaths"
   ]
  },
  {
   "cell_type": "code",
   "execution_count": null,
   "metadata": {},
   "outputs": [],
   "source": [
    "iters = 10 \n",
    "sums = 0\n",
    "for _ in range(iters):\n",
    "    allocate = Allocation(working_df, .50, qsofa_mortality_calibration)\n",
    "    testing_df_mar = allocate.maryland()\n",
    "    sums += testing_df['death'].sum()\n",
    "    \n",
    "avg_deaths = sums/iters\n",
    "avg_deaths"
   ]
  },
  {
   "cell_type": "code",
   "execution_count": null,
   "metadata": {},
   "outputs": [],
   "source": [
    "iters = 10 \n",
    "sums = 0\n",
    "for _ in range(iters):\n",
    "    allocate = Allocation(working_df, .50, qsofa_mortality_calibration)\n",
    "    testing_df_ny = allocate.new_york()\n",
    "    sums += testing_df['death'].sum()\n",
    "    \n",
    "avg_deaths = sums/iters\n",
    "avg_deaths"
   ]
  },
  {
   "cell_type": "code",
   "execution_count": null,
   "metadata": {},
   "outputs": [],
   "source": [
    "iters = 10 \n",
    "sums = 0\n",
    "for _ in range(iters):\n",
    "    allocate = Allocation(working_df, .50, qsofa_mortality_calibration)\n",
    "    testing_df_lives = allocate.max_lives_saved()\n",
    "    sums += testing_df['death'].sum()\n",
    "    \n",
    "avg_deaths = sums/iters\n",
    "avg_deaths"
   ]
  },
  {
   "cell_type": "code",
   "execution_count": null,
   "metadata": {},
   "outputs": [],
   "source": [
    "iters = 10 \n",
    "sums = 0\n",
    "for _ in range(iters):\n",
    "    allocate = Allocation(working_df, .50, qsofa_mortality_calibration)\n",
    "    testing_df_sickest = allocate.sickest_first()\n",
    "    sums += testing_df['death'].sum()\n",
    "    \n",
    "avg_deaths = sums/iters\n",
    "avg_deaths"
   ]
  },
  {
   "cell_type": "code",
   "execution_count": null,
   "metadata": {},
   "outputs": [],
   "source": [
    "deaths_df_sick = testing_df_sickest[testing_df_sickest['death'] == 1]"
   ]
  },
  {
   "cell_type": "code",
   "execution_count": null,
   "metadata": {},
   "outputs": [],
   "source": [
    "Counter(deaths_df_sick['ethnicity_display'])"
   ]
  },
  {
   "cell_type": "code",
   "execution_count": null,
   "metadata": {},
   "outputs": [],
   "source": [
    "working_df"
   ]
  },
  {
   "cell_type": "code",
   "execution_count": null,
   "metadata": {},
   "outputs": [],
   "source": [
    "Counter(working_df['qSOFA_score'])"
   ]
  },
  {
   "cell_type": "code",
   "execution_count": null,
   "metadata": {},
   "outputs": [],
   "source": [
    "Counter(deaths_df_sick['zip_cust_table'])"
   ]
  },
  {
   "cell_type": "code",
   "execution_count": null,
   "metadata": {},
   "outputs": [],
   "source": [
    "deaths_df= testing_df_sickest[testing_df_sickest['death'] == 1]"
   ]
  },
  {
   "cell_type": "code",
   "execution_count": null,
   "metadata": {},
   "outputs": [],
   "source": [
    "Counter(deaths_df['ethnicity_display'])"
   ]
  },
  {
   "cell_type": "code",
   "execution_count": null,
   "metadata": {},
   "outputs": [],
   "source": [
    "Counter(deaths_df['zip_cust_table'])"
   ]
  },
  {
   "cell_type": "code",
   "execution_count": null,
   "metadata": {},
   "outputs": [],
   "source": [
    "deaths_df['age_at_admit'].hist()"
   ]
  },
  {
   "cell_type": "code",
   "execution_count": null,
   "metadata": {},
   "outputs": [],
   "source": [
    "testing_df"
   ]
  },
  {
   "cell_type": "code",
   "execution_count": null,
   "metadata": {},
   "outputs": [],
   "source": [
    "allocate = Allocation(working_df, .50, qsofa_mortality_calibration)\n",
    "testing_df = allocate.max_life_years()"
   ]
  },
  {
   "cell_type": "code",
   "execution_count": null,
   "metadata": {},
   "outputs": [],
   "source": [
    "Counter(testing_df['comorbidity_count'])"
   ]
  },
  {
   "cell_type": "code",
   "execution_count": null,
   "metadata": {},
   "outputs": [],
   "source": [
    "testing_df.head()"
   ]
  },
  {
   "cell_type": "code",
   "execution_count": null,
   "metadata": {},
   "outputs": [],
   "source": [
    "check = testing_df[testing_df['allocated_vent'] == 'no']"
   ]
  },
  {
   "cell_type": "code",
   "execution_count": null,
   "metadata": {},
   "outputs": [],
   "source": [
    "testing_df[testing_df['death'] == 1]"
   ]
  },
  {
   "cell_type": "code",
   "execution_count": null,
   "metadata": {},
   "outputs": [],
   "source": [
    "testing_df[testing_df['death'] == 1][['vent_hours_summed','discharge_disposition_display', 'death']]"
   ]
  },
  {
   "cell_type": "code",
   "execution_count": null,
   "metadata": {},
   "outputs": [],
   "source": [
    "testing_df['death'].unique()"
   ]
  },
  {
   "cell_type": "code",
   "execution_count": null,
   "metadata": {},
   "outputs": [],
   "source": [
    "temp = check[['discharge_disposition_display', 'qSOFA_score', 'death']]\n",
    "temp"
   ]
  },
  {
   "cell_type": "code",
   "execution_count": null,
   "metadata": {},
   "outputs": [],
   "source": [
    "temp[temp['death'] == 1]"
   ]
  },
  {
   "cell_type": "code",
   "execution_count": null,
   "metadata": {},
   "outputs": [],
   "source": [
    "Counter(temp['discharge_disposition_display'])"
   ]
  },
  {
   "cell_type": "code",
   "execution_count": null,
   "metadata": {},
   "outputs": [],
   "source": [
    "Counter(testing_df['allocated_vent'])"
   ]
  },
  {
   "cell_type": "code",
   "execution_count": null,
   "metadata": {},
   "outputs": [],
   "source": [
    "Counter(testing_df['death'])"
   ]
  },
  {
   "cell_type": "code",
   "execution_count": null,
   "metadata": {},
   "outputs": [],
   "source": []
  },
  {
   "cell_type": "code",
   "execution_count": null,
   "metadata": {},
   "outputs": [],
   "source": []
  }
 ],
 "metadata": {
  "kernelspec": {
   "display_name": "Python 3",
   "language": "python",
   "name": "python3"
  },
  "language_info": {
   "codemirror_mode": {
    "name": "ipython",
    "version": 3
   },
   "file_extension": ".py",
   "mimetype": "text/x-python",
   "name": "python",
   "nbconvert_exporter": "python",
   "pygments_lexer": "ipython3",
   "version": "3.7.4"
  }
 },
 "nbformat": 4,
 "nbformat_minor": 2
}
