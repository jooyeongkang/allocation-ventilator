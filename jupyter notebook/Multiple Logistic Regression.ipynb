{
 "cells": [
  {
   "cell_type": "code",
   "execution_count": 1,
   "metadata": {},
   "outputs": [
    {
     "name": "stderr",
     "output_type": "stream",
     "text": [
      "/home/joel/anaconda3/lib/python3.7/site-packages/statsmodels/tools/_testing.py:19: FutureWarning: pandas.util.testing is deprecated. Use the functions in the public API at pandas.testing instead.\n",
      "  import pandas.util.testing as tm\n"
     ]
    }
   ],
   "source": [
    "import os \n",
    "import pandas as pd\n",
    "\n",
    "from pandas_profiling import ProfileReport\n",
    "from pandas_profiling.utils.cache import cache_file\n",
    "from collections import Counter\n",
    "import seaborn as sn\n",
    "import random\n",
    "import statistics \n",
    "import statsmodels.api as sm\n",
    "\n",
    "import numpy as np"
   ]
  },
  {
   "cell_type": "code",
   "execution_count": 2,
   "metadata": {},
   "outputs": [],
   "source": [
    "box_file_dir = os.path.join(os.getcwd(), \"..\", \"..\", \"Box\")\n",
    "file_path_csv = os.path.join(box_file_dir, \"covid_pts_enc_level_labs_dx_2021-02-02_deid.csv\")"
   ]
  },
  {
   "cell_type": "code",
   "execution_count": 3,
   "metadata": {},
   "outputs": [],
   "source": [
    "df = pd.read_csv(file_path_csv, index_col=False)"
   ]
  },
  {
   "cell_type": "code",
   "execution_count": 4,
   "metadata": {},
   "outputs": [
    {
     "data": {
      "text/html": [
       "<div>\n",
       "<style scoped>\n",
       "    .dataframe tbody tr th:only-of-type {\n",
       "        vertical-align: middle;\n",
       "    }\n",
       "\n",
       "    .dataframe tbody tr th {\n",
       "        vertical-align: top;\n",
       "    }\n",
       "\n",
       "    .dataframe thead th {\n",
       "        text-align: right;\n",
       "    }\n",
       "</style>\n",
       "<table border=\"1\" class=\"dataframe\">\n",
       "  <thead>\n",
       "    <tr style=\"text-align: right;\">\n",
       "      <th></th>\n",
       "      <th>admit_dt_tm</th>\n",
       "      <th>discharge_dt_tm</th>\n",
       "      <th>facility</th>\n",
       "      <th>encounter_type_display</th>\n",
       "      <th>age_at_admit</th>\n",
       "      <th>gender</th>\n",
       "      <th>zip_cust_table</th>\n",
       "      <th>ethnicity_display</th>\n",
       "      <th>race_display</th>\n",
       "      <th>race_eth_comb</th>\n",
       "      <th>...</th>\n",
       "      <th>diabetes_com_flag</th>\n",
       "      <th>hypertension_com_flag</th>\n",
       "      <th>CAD_com_flag</th>\n",
       "      <th>heartfailure_com_flag</th>\n",
       "      <th>CKD_com_flag</th>\n",
       "      <th>cancer_com_flag</th>\n",
       "      <th>qSOFA_score</th>\n",
       "      <th>deid_empi_encounter</th>\n",
       "      <th>deid_mrn_encounter</th>\n",
       "      <th>deid_fin_encounter</th>\n",
       "    </tr>\n",
       "  </thead>\n",
       "  <tbody>\n",
       "    <tr>\n",
       "      <th>0</th>\n",
       "      <td>2020-08-25 20:51:00</td>\n",
       "      <td>2020-09-01 14:30:00</td>\n",
       "      <td>Shoal Creek</td>\n",
       "      <td>IP Private/Semi Private room</td>\n",
       "      <td>49</td>\n",
       "      <td>Male</td>\n",
       "      <td>Unknown</td>\n",
       "      <td>Hispanic or Latino</td>\n",
       "      <td>White</td>\n",
       "      <td>White Hispanic</td>\n",
       "      <td>...</td>\n",
       "      <td>False</td>\n",
       "      <td>False</td>\n",
       "      <td>False</td>\n",
       "      <td>False</td>\n",
       "      <td>False</td>\n",
       "      <td>False</td>\n",
       "      <td>NaN</td>\n",
       "      <td>4dMaH</td>\n",
       "      <td>61003</td>\n",
       "      <td>10650</td>\n",
       "    </tr>\n",
       "    <tr>\n",
       "      <th>1</th>\n",
       "      <td>2020-03-24 00:07:00</td>\n",
       "      <td>2020-03-26 18:30:00</td>\n",
       "      <td>Medical Center</td>\n",
       "      <td>IP ICU</td>\n",
       "      <td>44</td>\n",
       "      <td>Male</td>\n",
       "      <td>78130</td>\n",
       "      <td>Hispanic or Latino</td>\n",
       "      <td>White</td>\n",
       "      <td>White Hispanic</td>\n",
       "      <td>...</td>\n",
       "      <td>False</td>\n",
       "      <td>False</td>\n",
       "      <td>False</td>\n",
       "      <td>False</td>\n",
       "      <td>False</td>\n",
       "      <td>False</td>\n",
       "      <td>3.0</td>\n",
       "      <td>8wQnr</td>\n",
       "      <td>84969</td>\n",
       "      <td>27818</td>\n",
       "    </tr>\n",
       "    <tr>\n",
       "      <th>2</th>\n",
       "      <td>2020-03-25 13:25:00</td>\n",
       "      <td>2020-03-30 03:48:00</td>\n",
       "      <td>Medical Center</td>\n",
       "      <td>IP Private/Semi Private room</td>\n",
       "      <td>80</td>\n",
       "      <td>Female</td>\n",
       "      <td>78758</td>\n",
       "      <td>Not Hispanic or Latino</td>\n",
       "      <td>Black or African American</td>\n",
       "      <td>Other race Non Hispanic</td>\n",
       "      <td>...</td>\n",
       "      <td>True</td>\n",
       "      <td>False</td>\n",
       "      <td>True</td>\n",
       "      <td>True</td>\n",
       "      <td>True</td>\n",
       "      <td>False</td>\n",
       "      <td>1.0</td>\n",
       "      <td>6YGuu</td>\n",
       "      <td>69112</td>\n",
       "      <td>34412</td>\n",
       "    </tr>\n",
       "    <tr>\n",
       "      <th>3</th>\n",
       "      <td>2020-03-25 13:36:00</td>\n",
       "      <td>2020-03-27 13:15:00</td>\n",
       "      <td>Medical Center</td>\n",
       "      <td>IP Private/Semi Private room</td>\n",
       "      <td>56</td>\n",
       "      <td>Male</td>\n",
       "      <td>78746</td>\n",
       "      <td>Not Hispanic or Latino</td>\n",
       "      <td>White</td>\n",
       "      <td>White Non Hispanic</td>\n",
       "      <td>...</td>\n",
       "      <td>False</td>\n",
       "      <td>False</td>\n",
       "      <td>False</td>\n",
       "      <td>False</td>\n",
       "      <td>False</td>\n",
       "      <td>False</td>\n",
       "      <td>1.0</td>\n",
       "      <td>P1Tjg</td>\n",
       "      <td>84820</td>\n",
       "      <td>37981</td>\n",
       "    </tr>\n",
       "    <tr>\n",
       "      <th>4</th>\n",
       "      <td>2020-03-25 13:43:00</td>\n",
       "      <td>2020-03-27 12:44:00</td>\n",
       "      <td>Medical Center</td>\n",
       "      <td>IP Private/Semi Private room</td>\n",
       "      <td>46</td>\n",
       "      <td>Female</td>\n",
       "      <td>78757</td>\n",
       "      <td>Not Hispanic or Latino</td>\n",
       "      <td>White</td>\n",
       "      <td>White Non Hispanic</td>\n",
       "      <td>...</td>\n",
       "      <td>False</td>\n",
       "      <td>False</td>\n",
       "      <td>False</td>\n",
       "      <td>False</td>\n",
       "      <td>False</td>\n",
       "      <td>False</td>\n",
       "      <td>0.0</td>\n",
       "      <td>iouKO</td>\n",
       "      <td>76686</td>\n",
       "      <td>41152</td>\n",
       "    </tr>\n",
       "  </tbody>\n",
       "</table>\n",
       "<p>5 rows × 70 columns</p>\n",
       "</div>"
      ],
      "text/plain": [
       "           admit_dt_tm      discharge_dt_tm        facility  \\\n",
       "0  2020-08-25 20:51:00  2020-09-01 14:30:00     Shoal Creek   \n",
       "1  2020-03-24 00:07:00  2020-03-26 18:30:00  Medical Center   \n",
       "2  2020-03-25 13:25:00  2020-03-30 03:48:00  Medical Center   \n",
       "3  2020-03-25 13:36:00  2020-03-27 13:15:00  Medical Center   \n",
       "4  2020-03-25 13:43:00  2020-03-27 12:44:00  Medical Center   \n",
       "\n",
       "         encounter_type_display  age_at_admit  gender zip_cust_table  \\\n",
       "0  IP Private/Semi Private room            49    Male        Unknown   \n",
       "1                        IP ICU            44    Male          78130   \n",
       "2  IP Private/Semi Private room            80  Female          78758   \n",
       "3  IP Private/Semi Private room            56    Male          78746   \n",
       "4  IP Private/Semi Private room            46  Female          78757   \n",
       "\n",
       "        ethnicity_display               race_display            race_eth_comb  \\\n",
       "0      Hispanic or Latino                      White           White Hispanic   \n",
       "1      Hispanic or Latino                      White           White Hispanic   \n",
       "2  Not Hispanic or Latino  Black or African American  Other race Non Hispanic   \n",
       "3  Not Hispanic or Latino                      White       White Non Hispanic   \n",
       "4  Not Hispanic or Latino                      White       White Non Hispanic   \n",
       "\n",
       "   ...  diabetes_com_flag hypertension_com_flag CAD_com_flag  \\\n",
       "0  ...              False                 False        False   \n",
       "1  ...              False                 False        False   \n",
       "2  ...               True                 False         True   \n",
       "3  ...              False                 False        False   \n",
       "4  ...              False                 False        False   \n",
       "\n",
       "  heartfailure_com_flag CKD_com_flag cancer_com_flag qSOFA_score  \\\n",
       "0                 False        False           False         NaN   \n",
       "1                 False        False           False         3.0   \n",
       "2                  True         True           False         1.0   \n",
       "3                 False        False           False         1.0   \n",
       "4                 False        False           False         0.0   \n",
       "\n",
       "  deid_empi_encounter  deid_mrn_encounter deid_fin_encounter  \n",
       "0               4dMaH               61003              10650  \n",
       "1               8wQnr               84969              27818  \n",
       "2               6YGuu               69112              34412  \n",
       "3               P1Tjg               84820              37981  \n",
       "4               iouKO               76686              41152  \n",
       "\n",
       "[5 rows x 70 columns]"
      ]
     },
     "execution_count": 4,
     "metadata": {},
     "output_type": "execute_result"
    }
   ],
   "source": [
    "df.head()"
   ]
  },
  {
   "cell_type": "code",
   "execution_count": 5,
   "metadata": {},
   "outputs": [],
   "source": [
    "def latinx(row):\n",
    "    if row.ethnicity_display == 'Hispanic or Latino' and row.race_display == 'White':\n",
    "        return \"Hispanic\"\n",
    "    elif row.ethnicity_display == 'Not Hispanic or Latino' and row.race_display == 'White': \n",
    "        return \"White\"\n",
    "    else:\n",
    "        return row.race_display\n",
    "        "
   ]
  },
  {
   "cell_type": "code",
   "execution_count": 6,
   "metadata": {},
   "outputs": [],
   "source": [
    "df['race_display'] = df.apply(lambda row: latinx(row), axis=1)"
   ]
  },
  {
   "cell_type": "code",
   "execution_count": 7,
   "metadata": {},
   "outputs": [],
   "source": [
    "vent_df = df[~df['vent_hours_summed'].isnull()]"
   ]
  },
  {
   "cell_type": "code",
   "execution_count": 8,
   "metadata": {},
   "outputs": [
    {
     "data": {
      "text/plain": [
       "303"
      ]
     },
     "execution_count": 8,
     "metadata": {},
     "output_type": "execute_result"
    }
   ],
   "source": [
    "len(vent_df)"
   ]
  },
  {
   "cell_type": "code",
   "execution_count": 9,
   "metadata": {},
   "outputs": [
    {
     "data": {
      "text/plain": [
       "Counter({'Hispanic': 161,\n",
       "         'White': 86,\n",
       "         'Black or African American': 26,\n",
       "         'Asian': 4,\n",
       "         'Other Race': 12,\n",
       "         'Unknown': 8,\n",
       "         'Decline to Specify': 4,\n",
       "         'American Indian/Alaska Native': 2})"
      ]
     },
     "execution_count": 9,
     "metadata": {},
     "output_type": "execute_result"
    }
   ],
   "source": [
    "Counter(vent_df['race_display'])"
   ]
  },
  {
   "cell_type": "code",
   "execution_count": 10,
   "metadata": {},
   "outputs": [],
   "source": [
    "icu_df = df[~df['icu_hours_summed'].isnull()]"
   ]
  },
  {
   "cell_type": "code",
   "execution_count": 11,
   "metadata": {},
   "outputs": [
    {
     "data": {
      "text/plain": [
       "Counter({'Hispanic': 369,\n",
       "         'White': 252,\n",
       "         'Black or African American': 61,\n",
       "         'Unknown': 16,\n",
       "         'American Indian/Alaska Native': 4,\n",
       "         'Asian': 7,\n",
       "         'Other Race': 27,\n",
       "         'Decline to Specify': 4,\n",
       "         'Native Hawaiian or Other Pacific Islande': 1})"
      ]
     },
     "execution_count": 11,
     "metadata": {},
     "output_type": "execute_result"
    }
   ],
   "source": [
    "Counter(icu_df['race_display'])"
   ]
  },
  {
   "cell_type": "code",
   "execution_count": 12,
   "metadata": {},
   "outputs": [
    {
     "data": {
      "text/plain": [
       "Counter({'Hispanic': 357,\n",
       "         'White': 242,\n",
       "         'Black or African American': 59,\n",
       "         'Unknown': 16,\n",
       "         'American Indian/Alaska Native': 4,\n",
       "         'Asian': 7,\n",
       "         'Other Race': 26,\n",
       "         'Decline to Specify': 4,\n",
       "         'Native Hawaiian or Other Pacific Islande': 1})"
      ]
     },
     "execution_count": 12,
     "metadata": {},
     "output_type": "execute_result"
    }
   ],
   "source": [
    "working_df = icu_df[~icu_df['qSOFA_score'].isnull()] \n",
    "Counter(working_df['race_display'])"
   ]
  },
  {
   "cell_type": "code",
   "execution_count": 13,
   "metadata": {},
   "outputs": [],
   "source": [
    "data = icu_df[['age_at_admit', 'pO2_Art', \n",
    "               'qSOFA_score','race_display',\n",
    "              'vent_hours_summed', 'zip_cust_table', 'heartfailure_com_flag',\n",
    "              'cancer_com_flag','gender','WBC','Mean_Arterial_Pressure',\n",
    "              'Bili_Total','CAD_com_flag','CKD_com_flag','COPD_com_flag',\n",
    " 'Creatinine', 'FiO2/Percent','Glasgow_Coma_Score','diabetes_com_flag',\n",
    " 'hypertension_com_flag','length_of_stay','discharge_disposition_display','Platelet', 'deid_empi_encounter']]"
   ]
  },
  {
   "cell_type": "code",
   "execution_count": 14,
   "metadata": {},
   "outputs": [
    {
     "data": {
      "text/html": [
       "<div>\n",
       "<style scoped>\n",
       "    .dataframe tbody tr th:only-of-type {\n",
       "        vertical-align: middle;\n",
       "    }\n",
       "\n",
       "    .dataframe tbody tr th {\n",
       "        vertical-align: top;\n",
       "    }\n",
       "\n",
       "    .dataframe thead th {\n",
       "        text-align: right;\n",
       "    }\n",
       "</style>\n",
       "<table border=\"1\" class=\"dataframe\">\n",
       "  <thead>\n",
       "    <tr style=\"text-align: right;\">\n",
       "      <th></th>\n",
       "      <th>age_at_admit</th>\n",
       "      <th>pO2_Art</th>\n",
       "      <th>qSOFA_score</th>\n",
       "      <th>race_display</th>\n",
       "      <th>vent_hours_summed</th>\n",
       "      <th>zip_cust_table</th>\n",
       "      <th>heartfailure_com_flag</th>\n",
       "      <th>cancer_com_flag</th>\n",
       "      <th>gender</th>\n",
       "      <th>WBC</th>\n",
       "      <th>...</th>\n",
       "      <th>COPD_com_flag</th>\n",
       "      <th>Creatinine</th>\n",
       "      <th>FiO2/Percent</th>\n",
       "      <th>Glasgow_Coma_Score</th>\n",
       "      <th>diabetes_com_flag</th>\n",
       "      <th>hypertension_com_flag</th>\n",
       "      <th>length_of_stay</th>\n",
       "      <th>discharge_disposition_display</th>\n",
       "      <th>Platelet</th>\n",
       "      <th>deid_empi_encounter</th>\n",
       "    </tr>\n",
       "  </thead>\n",
       "  <tbody>\n",
       "    <tr>\n",
       "      <th>0</th>\n",
       "      <td>49</td>\n",
       "      <td>NaN</td>\n",
       "      <td>NaN</td>\n",
       "      <td>Hispanic</td>\n",
       "      <td>NaN</td>\n",
       "      <td>Unknown</td>\n",
       "      <td>False</td>\n",
       "      <td>False</td>\n",
       "      <td>Male</td>\n",
       "      <td>NaN</td>\n",
       "      <td>...</td>\n",
       "      <td>False</td>\n",
       "      <td>1.1</td>\n",
       "      <td>NaN</td>\n",
       "      <td>NaN</td>\n",
       "      <td>False</td>\n",
       "      <td>False</td>\n",
       "      <td>6.75</td>\n",
       "      <td>Home</td>\n",
       "      <td>NaN</td>\n",
       "      <td>4dMaH</td>\n",
       "    </tr>\n",
       "    <tr>\n",
       "      <th>1</th>\n",
       "      <td>44</td>\n",
       "      <td>470.8</td>\n",
       "      <td>3.0</td>\n",
       "      <td>Hispanic</td>\n",
       "      <td>58.45</td>\n",
       "      <td>78130</td>\n",
       "      <td>False</td>\n",
       "      <td>False</td>\n",
       "      <td>Male</td>\n",
       "      <td>35.1</td>\n",
       "      <td>...</td>\n",
       "      <td>False</td>\n",
       "      <td>2.9</td>\n",
       "      <td>50.0</td>\n",
       "      <td>3.0</td>\n",
       "      <td>False</td>\n",
       "      <td>False</td>\n",
       "      <td>2.75</td>\n",
       "      <td>Expired</td>\n",
       "      <td>42.0</td>\n",
       "      <td>8wQnr</td>\n",
       "    </tr>\n",
       "    <tr>\n",
       "      <th>6</th>\n",
       "      <td>49</td>\n",
       "      <td>250.1</td>\n",
       "      <td>1.0</td>\n",
       "      <td>White</td>\n",
       "      <td>293.02</td>\n",
       "      <td>78612</td>\n",
       "      <td>False</td>\n",
       "      <td>False</td>\n",
       "      <td>Female</td>\n",
       "      <td>12.1</td>\n",
       "      <td>...</td>\n",
       "      <td>False</td>\n",
       "      <td>0.9</td>\n",
       "      <td>100.0</td>\n",
       "      <td>15.0</td>\n",
       "      <td>False</td>\n",
       "      <td>False</td>\n",
       "      <td>12.92</td>\n",
       "      <td>Home</td>\n",
       "      <td>355.0</td>\n",
       "      <td>P9yRo</td>\n",
       "    </tr>\n",
       "    <tr>\n",
       "      <th>11</th>\n",
       "      <td>24</td>\n",
       "      <td>56.4</td>\n",
       "      <td>2.0</td>\n",
       "      <td>White</td>\n",
       "      <td>1423.18</td>\n",
       "      <td>78753</td>\n",
       "      <td>False</td>\n",
       "      <td>False</td>\n",
       "      <td>Male</td>\n",
       "      <td>19.4</td>\n",
       "      <td>...</td>\n",
       "      <td>False</td>\n",
       "      <td>1.5</td>\n",
       "      <td>80.0</td>\n",
       "      <td>3.0</td>\n",
       "      <td>False</td>\n",
       "      <td>False</td>\n",
       "      <td>64.88</td>\n",
       "      <td>Long Term Care Hospital</td>\n",
       "      <td>370.0</td>\n",
       "      <td>23f5M</td>\n",
       "    </tr>\n",
       "    <tr>\n",
       "      <th>17</th>\n",
       "      <td>55</td>\n",
       "      <td>102.6</td>\n",
       "      <td>0.0</td>\n",
       "      <td>White</td>\n",
       "      <td>327.77</td>\n",
       "      <td>78602</td>\n",
       "      <td>False</td>\n",
       "      <td>False</td>\n",
       "      <td>Male</td>\n",
       "      <td>4.6</td>\n",
       "      <td>...</td>\n",
       "      <td>False</td>\n",
       "      <td>1.2</td>\n",
       "      <td>100.0</td>\n",
       "      <td>15.0</td>\n",
       "      <td>False</td>\n",
       "      <td>True</td>\n",
       "      <td>17.13</td>\n",
       "      <td>Expired</td>\n",
       "      <td>199.0</td>\n",
       "      <td>mNyVy</td>\n",
       "    </tr>\n",
       "  </tbody>\n",
       "</table>\n",
       "<p>5 rows × 24 columns</p>\n",
       "</div>"
      ],
      "text/plain": [
       "    age_at_admit  pO2_Art  qSOFA_score race_display  vent_hours_summed  \\\n",
       "0             49      NaN          NaN     Hispanic                NaN   \n",
       "1             44    470.8          3.0     Hispanic              58.45   \n",
       "6             49    250.1          1.0        White             293.02   \n",
       "11            24     56.4          2.0        White            1423.18   \n",
       "17            55    102.6          0.0        White             327.77   \n",
       "\n",
       "   zip_cust_table heartfailure_com_flag cancer_com_flag  gender   WBC  ...  \\\n",
       "0         Unknown                 False           False    Male   NaN  ...   \n",
       "1           78130                 False           False    Male  35.1  ...   \n",
       "6           78612                 False           False  Female  12.1  ...   \n",
       "11          78753                 False           False    Male  19.4  ...   \n",
       "17          78602                 False           False    Male   4.6  ...   \n",
       "\n",
       "    COPD_com_flag Creatinine FiO2/Percent Glasgow_Coma_Score  \\\n",
       "0           False        1.1          NaN                NaN   \n",
       "1           False        2.9         50.0                3.0   \n",
       "6           False        0.9        100.0               15.0   \n",
       "11          False        1.5         80.0                3.0   \n",
       "17          False        1.2        100.0               15.0   \n",
       "\n",
       "   diabetes_com_flag  hypertension_com_flag  length_of_stay  \\\n",
       "0              False                  False            6.75   \n",
       "1              False                  False            2.75   \n",
       "6              False                  False           12.92   \n",
       "11             False                  False           64.88   \n",
       "17             False                   True           17.13   \n",
       "\n",
       "    discharge_disposition_display Platelet deid_empi_encounter  \n",
       "0                            Home      NaN               4dMaH  \n",
       "1                         Expired     42.0               8wQnr  \n",
       "6                            Home    355.0               P9yRo  \n",
       "11        Long Term Care Hospital    370.0               23f5M  \n",
       "17                        Expired    199.0               mNyVy  \n",
       "\n",
       "[5 rows x 24 columns]"
      ]
     },
     "execution_count": 14,
     "metadata": {},
     "output_type": "execute_result"
    }
   ],
   "source": [
    "data.head()"
   ]
  },
  {
   "cell_type": "code",
   "execution_count": 15,
   "metadata": {},
   "outputs": [
    {
     "data": {
      "text/html": [
       "<div>\n",
       "<style scoped>\n",
       "    .dataframe tbody tr th:only-of-type {\n",
       "        vertical-align: middle;\n",
       "    }\n",
       "\n",
       "    .dataframe tbody tr th {\n",
       "        vertical-align: top;\n",
       "    }\n",
       "\n",
       "    .dataframe thead tr th {\n",
       "        text-align: left;\n",
       "    }\n",
       "\n",
       "    .dataframe thead tr:last-of-type th {\n",
       "        text-align: right;\n",
       "    }\n",
       "</style>\n",
       "<table border=\"1\" class=\"dataframe\">\n",
       "  <thead>\n",
       "    <tr>\n",
       "      <th></th>\n",
       "      <th colspan=\"2\" halign=\"left\">age_at_admit</th>\n",
       "    </tr>\n",
       "    <tr>\n",
       "      <th></th>\n",
       "      <th>mean</th>\n",
       "      <th>count</th>\n",
       "    </tr>\n",
       "    <tr>\n",
       "      <th>race_display</th>\n",
       "      <th></th>\n",
       "      <th></th>\n",
       "    </tr>\n",
       "  </thead>\n",
       "  <tbody>\n",
       "    <tr>\n",
       "      <th>American Indian/Alaska Native</th>\n",
       "      <td>34.000000</td>\n",
       "      <td>4</td>\n",
       "    </tr>\n",
       "    <tr>\n",
       "      <th>Asian</th>\n",
       "      <td>50.714286</td>\n",
       "      <td>7</td>\n",
       "    </tr>\n",
       "    <tr>\n",
       "      <th>Black or African American</th>\n",
       "      <td>62.186441</td>\n",
       "      <td>59</td>\n",
       "    </tr>\n",
       "    <tr>\n",
       "      <th>Decline to Specify</th>\n",
       "      <td>53.250000</td>\n",
       "      <td>4</td>\n",
       "    </tr>\n",
       "    <tr>\n",
       "      <th>Hispanic</th>\n",
       "      <td>56.929972</td>\n",
       "      <td>357</td>\n",
       "    </tr>\n",
       "    <tr>\n",
       "      <th>Native Hawaiian or Other Pacific Islande</th>\n",
       "      <td>41.000000</td>\n",
       "      <td>1</td>\n",
       "    </tr>\n",
       "    <tr>\n",
       "      <th>Other Race</th>\n",
       "      <td>51.461538</td>\n",
       "      <td>26</td>\n",
       "    </tr>\n",
       "    <tr>\n",
       "      <th>Unknown</th>\n",
       "      <td>67.000000</td>\n",
       "      <td>16</td>\n",
       "    </tr>\n",
       "    <tr>\n",
       "      <th>White</th>\n",
       "      <td>59.913223</td>\n",
       "      <td>242</td>\n",
       "    </tr>\n",
       "  </tbody>\n",
       "</table>\n",
       "</div>"
      ],
      "text/plain": [
       "                                         age_at_admit      \n",
       "                                                 mean count\n",
       "race_display                                               \n",
       "American Indian/Alaska Native               34.000000     4\n",
       "Asian                                       50.714286     7\n",
       "Black or African American                   62.186441    59\n",
       "Decline to Specify                          53.250000     4\n",
       "Hispanic                                    56.929972   357\n",
       "Native Hawaiian or Other Pacific Islande    41.000000     1\n",
       "Other Race                                  51.461538    26\n",
       "Unknown                                     67.000000    16\n",
       "White                                       59.913223   242"
      ]
     },
     "execution_count": 15,
     "metadata": {},
     "output_type": "execute_result"
    }
   ],
   "source": [
    "working_df[['race_display', 'age_at_admit']].groupby('race_display').agg(['mean', 'count'])"
   ]
  },
  {
   "cell_type": "code",
   "execution_count": 16,
   "metadata": {},
   "outputs": [],
   "source": [
    "# only 236 patients with all tests\n",
    "allo_df = data[['pO2_Art', 'Creatinine', 'FiO2/Percent', \n",
    "      'Glasgow_Coma_Score', 'Platelet', 'Mean_Arterial_Pressure',\n",
    "     'Bili_Total', 'deid_empi_encounter']].dropna()"
   ]
  },
  {
   "cell_type": "code",
   "execution_count": 17,
   "metadata": {},
   "outputs": [],
   "source": [
    "list_of_patients = list(allo_df['deid_empi_encounter'])"
   ]
  },
  {
   "cell_type": "code",
   "execution_count": 18,
   "metadata": {},
   "outputs": [],
   "source": [
    "adjusted_patients = data[data['deid_empi_encounter'].isin(list_of_patients)]"
   ]
  },
  {
   "cell_type": "code",
   "execution_count": 19,
   "metadata": {},
   "outputs": [],
   "source": [
    "def calculate_sofa(row):\n",
    "    count = 0\n",
    "    \n",
    "    # need to implement Fi02/po2\n",
    "    \n",
    "    if row.Platelet >= 100 and row.Platelet <= 149:\n",
    "        count += 1 \n",
    "        \n",
    "    elif row.Platelet >= 50 and row.Platelet <= 99:\n",
    "        count += 2\n",
    "        \n",
    "    elif row.Platelet >= 20 and row.Platelet <= 49:\n",
    "        count += 3\n",
    "        \n",
    "    elif row.Platelet < 20:\n",
    "        count += 4\n",
    "       \n",
    "    # Glasgow\n",
    "    if row.Glasgow_Coma_Score == 13 or row.Glasgow_Coma_Score == 14:\n",
    "        count += 1 \n",
    "        \n",
    "    elif row.Glasgow_Coma_Score >= 10 and row.Glasgow_Coma_Score <= 12:\n",
    "        count += 2\n",
    "        \n",
    "    elif row.Glasgow_Coma_Score >= 6 and row.Glasgow_Coma_Score <= 9:\n",
    "        count += 3\n",
    "        \n",
    "    elif row.Glasgow_Coma_Score < 6:\n",
    "        count += 4\n",
    "        \n",
    "    # Bilirubin \n",
    "    \n",
    "    if float(row.Bili_Total) >= 1.2 and float(row.Bili_Total) <= 1.9:\n",
    "        count += 1 \n",
    "        \n",
    "    elif float(row.Bili_Total) >= 2.0 and float(row.Bili_Total) <= 5.9:\n",
    "        count += 2\n",
    "        \n",
    "    elif float(row.Bili_Total) >= 6.0 and float(row.Bili_Total) <= 11.9:\n",
    "        count += 3\n",
    "        \n",
    "    elif float(row.Bili_Total) >= 12.0:\n",
    "        count += 4 \n",
    "        \n",
    "    # Need to implement Mean artieral pressure later \n",
    "    \n",
    "    # Creatinine \n",
    "    \n",
    "    if row.Creatinine >= 1.2 and row.Creatinine <= 1.9:\n",
    "        count += 1 \n",
    "        \n",
    "    elif row.Creatinine >= 2.0 and row.Creatinine <= 3.4:\n",
    "        count += 2\n",
    "        \n",
    "    elif row.Creatinine >= 3.5 and row.Creatinine <= 4.9:\n",
    "        count += 3\n",
    "        \n",
    "    elif row.Creatinine >= 5.0:\n",
    "        count += 4 \n",
    "        \n",
    "    return count "
   ]
  },
  {
   "cell_type": "code",
   "execution_count": 20,
   "metadata": {},
   "outputs": [],
   "source": [
    "allo_df['sofa'] = allo_df.apply(lambda row: calculate_sofa(row), axis = 1)"
   ]
  },
  {
   "cell_type": "code",
   "execution_count": 21,
   "metadata": {},
   "outputs": [
    {
     "name": "stderr",
     "output_type": "stream",
     "text": [
      "/home/joel/anaconda3/lib/python3.7/site-packages/ipykernel_launcher.py:1: SettingWithCopyWarning: \n",
      "A value is trying to be set on a copy of a slice from a DataFrame.\n",
      "Try using .loc[row_indexer,col_indexer] = value instead\n",
      "\n",
      "See the caveats in the documentation: https://pandas.pydata.org/pandas-docs/stable/user_guide/indexing.html#returning-a-view-versus-a-copy\n",
      "  \"\"\"Entry point for launching an IPython kernel.\n"
     ]
    }
   ],
   "source": [
    "adjusted_patients['sofa'] = allo_df.apply(lambda row: calculate_sofa(row), axis = 1)"
   ]
  },
  {
   "cell_type": "code",
   "execution_count": 22,
   "metadata": {},
   "outputs": [
    {
     "data": {
      "text/plain": [
       "count    236.000000\n",
       "mean       1.716102\n",
       "std        1.982883\n",
       "min        0.000000\n",
       "25%        0.000000\n",
       "50%        1.000000\n",
       "75%        2.250000\n",
       "max       11.000000\n",
       "Name: sofa, dtype: float64"
      ]
     },
     "execution_count": 22,
     "metadata": {},
     "output_type": "execute_result"
    }
   ],
   "source": [
    "allo_df['sofa'].describe()"
   ]
  },
  {
   "cell_type": "code",
   "execution_count": 23,
   "metadata": {},
   "outputs": [
    {
     "data": {
      "text/plain": [
       "count    236.000000\n",
       "mean       1.716102\n",
       "std        1.982883\n",
       "min        0.000000\n",
       "25%        0.000000\n",
       "50%        1.000000\n",
       "75%        2.250000\n",
       "max       11.000000\n",
       "Name: sofa, dtype: float64"
      ]
     },
     "execution_count": 23,
     "metadata": {},
     "output_type": "execute_result"
    }
   ],
   "source": [
    "adjusted_patients['sofa'].describe()"
   ]
  },
  {
   "cell_type": "code",
   "execution_count": 24,
   "metadata": {},
   "outputs": [],
   "source": [
    "#https://www.mdcalc.com/sequential-organ-failure-assessment-sofa-score#evidence\n",
    "sofa_mortality_calibration = {\n",
    "    0: 0,\n",
    "    1: 0 ,\n",
    "    2: 6.4,\n",
    "    3: 6.4,\n",
    "    4: 20.2,\n",
    "    5: 20.2,\n",
    "    6: 21.5,\n",
    "    7: 21.5,\n",
    "    8: 33.3,\n",
    "    9: 33.3 ,\n",
    "    10: 50.0,\n",
    "    11: 50.0 ,\n",
    "    12: 95.2,\n",
    "    13: 95.2 ,\n",
    "    14: 95.2  , \n",
    "    \n",
    "}"
   ]
  },
  {
   "cell_type": "code",
   "execution_count": 25,
   "metadata": {},
   "outputs": [],
   "source": [
    "# still need to check corrobate \n",
    "# digging onto various studies on measuring qSOFA for different comorbidities \n",
    "# Min linked a paper about influenza \n",
    "# can use these values \n",
    "\n",
    "qsofa_mortality_calibration = {\n",
    "    0: 0.6,\n",
    "    1: 5 ,\n",
    "    2: 10,\n",
    "    3: 24,\n",
    "    \n",
    "}"
   ]
  },
  {
   "cell_type": "code",
   "execution_count": 26,
   "metadata": {},
   "outputs": [
    {
     "data": {
      "text/plain": [
       "admit_dt_tm                object\n",
       "discharge_dt_tm            object\n",
       "facility                   object\n",
       "encounter_type_display     object\n",
       "age_at_admit                int64\n",
       "                           ...   \n",
       "cancer_com_flag            object\n",
       "qSOFA_score               float64\n",
       "deid_empi_encounter        object\n",
       "deid_mrn_encounter          int64\n",
       "deid_fin_encounter          int64\n",
       "Length: 70, dtype: object"
      ]
     },
     "execution_count": 26,
     "metadata": {},
     "output_type": "execute_result"
    }
   ],
   "source": [
    "working_df.dtypes"
   ]
  },
  {
   "cell_type": "code",
   "execution_count": 27,
   "metadata": {},
   "outputs": [],
   "source": [
    "def comorbidity_count(row):\n",
    "    count = 0 \n",
    "    \n",
    "    if row.COPD_com_flag == 1:\n",
    "        count += 1 \n",
    "        \n",
    "    if row.asthma_com_flag == 1:\n",
    "        count += 1 \n",
    "        \n",
    "    if row.diabetes_com_flag == 1:\n",
    "        count += 1 \n",
    "        \n",
    "    if row.hypertension_com_flag == 1:\n",
    "        count += 1 \n",
    "        \n",
    "    if row.CAD_com_flag == 1:\n",
    "        count += 1 \n",
    "        \n",
    "    if row.heartfailure_com_flag == 1: \n",
    "        count += 1 \n",
    "        \n",
    "    if row.CKD_com_flag == 1:\n",
    "        count += 1 \n",
    "        \n",
    "    if row.cancer_com_flag == 1:\n",
    "        count += 1 \n",
    "        \n",
    "    return count"
   ]
  },
  {
   "cell_type": "code",
   "execution_count": 28,
   "metadata": {},
   "outputs": [
    {
     "name": "stderr",
     "output_type": "stream",
     "text": [
      "/home/joel/anaconda3/lib/python3.7/site-packages/pandas/core/frame.py:3069: SettingWithCopyWarning: \n",
      "A value is trying to be set on a copy of a slice from a DataFrame.\n",
      "Try using .loc[row_indexer,col_indexer] = value instead\n",
      "\n",
      "See the caveats in the documentation: https://pandas.pydata.org/pandas-docs/stable/user_guide/indexing.html#returning-a-view-versus-a-copy\n",
      "  self[k1] = value[k2]\n"
     ]
    }
   ],
   "source": [
    "working_df[['COPD_com_flag', 'asthma_com_flag', 'diabetes_com_flag',\n",
    "       'hypertension_com_flag', 'CAD_com_flag', 'heartfailure_com_flag',\n",
    "       'CKD_com_flag', 'cancer_com_flag']] = working_df[['COPD_com_flag', 'asthma_com_flag', 'diabetes_com_flag',\n",
    "       'hypertension_com_flag', 'CAD_com_flag', 'heartfailure_com_flag',\n",
    "       'CKD_com_flag', 'cancer_com_flag']].fillna(0)"
   ]
  },
  {
   "cell_type": "code",
   "execution_count": 29,
   "metadata": {},
   "outputs": [],
   "source": [
    "working_df[['COPD_com_flag', 'asthma_com_flag', 'diabetes_com_flag',\n",
    "       'hypertension_com_flag', 'CAD_com_flag', 'heartfailure_com_flag',\n",
    "       'CKD_com_flag', 'cancer_com_flag']] = working_df[['COPD_com_flag', 'asthma_com_flag', 'diabetes_com_flag',\n",
    "       'hypertension_com_flag', 'CAD_com_flag', 'heartfailure_com_flag',\n",
    "       'CKD_com_flag', 'cancer_com_flag']].astype(int)"
   ]
  },
  {
   "cell_type": "code",
   "execution_count": 30,
   "metadata": {},
   "outputs": [
    {
     "name": "stderr",
     "output_type": "stream",
     "text": [
      "/home/joel/anaconda3/lib/python3.7/site-packages/ipykernel_launcher.py:1: SettingWithCopyWarning: \n",
      "A value is trying to be set on a copy of a slice from a DataFrame.\n",
      "Try using .loc[row_indexer,col_indexer] = value instead\n",
      "\n",
      "See the caveats in the documentation: https://pandas.pydata.org/pandas-docs/stable/user_guide/indexing.html#returning-a-view-versus-a-copy\n",
      "  \"\"\"Entry point for launching an IPython kernel.\n"
     ]
    }
   ],
   "source": [
    "working_df['total_comorbidities'] = working_df.apply(lambda row: comorbidity_count(row), axis=1)"
   ]
  },
  {
   "cell_type": "code",
   "execution_count": 31,
   "metadata": {},
   "outputs": [
    {
     "data": {
      "text/plain": [
       "dtype('int64')"
      ]
     },
     "execution_count": 31,
     "metadata": {},
     "output_type": "execute_result"
    }
   ],
   "source": [
    "working_df['cancer_com_flag'].dtype"
   ]
  },
  {
   "cell_type": "code",
   "execution_count": 32,
   "metadata": {},
   "outputs": [
    {
     "name": "stderr",
     "output_type": "stream",
     "text": [
      "/home/joel/anaconda3/lib/python3.7/site-packages/ipykernel_launcher.py:1: SettingWithCopyWarning: \n",
      "A value is trying to be set on a copy of a slice from a DataFrame.\n",
      "Try using .loc[row_indexer,col_indexer] = value instead\n",
      "\n",
      "See the caveats in the documentation: https://pandas.pydata.org/pandas-docs/stable/user_guide/indexing.html#returning-a-view-versus-a-copy\n",
      "  \"\"\"Entry point for launching an IPython kernel.\n"
     ]
    }
   ],
   "source": [
    "working_df['has_comorbidity'] = working_df.total_comorbidities.apply(lambda x: 1 if x >= 1 else 0)"
   ]
  },
  {
   "cell_type": "code",
   "execution_count": 33,
   "metadata": {},
   "outputs": [
    {
     "name": "stderr",
     "output_type": "stream",
     "text": [
      "/home/joel/anaconda3/lib/python3.7/site-packages/ipykernel_launcher.py:1: SettingWithCopyWarning: \n",
      "A value is trying to be set on a copy of a slice from a DataFrame.\n",
      "Try using .loc[row_indexer,col_indexer] = value instead\n",
      "\n",
      "See the caveats in the documentation: https://pandas.pydata.org/pandas-docs/stable/user_guide/indexing.html#returning-a-view-versus-a-copy\n",
      "  \"\"\"Entry point for launching an IPython kernel.\n"
     ]
    }
   ],
   "source": [
    "working_df['has_comorbidity2'] = working_df.total_comorbidities.apply(lambda x: 1 if x >= 2 else 0)"
   ]
  },
  {
   "cell_type": "code",
   "execution_count": 34,
   "metadata": {},
   "outputs": [
    {
     "name": "stderr",
     "output_type": "stream",
     "text": [
      "/home/joel/anaconda3/lib/python3.7/site-packages/ipykernel_launcher.py:1: SettingWithCopyWarning: \n",
      "A value is trying to be set on a copy of a slice from a DataFrame.\n",
      "Try using .loc[row_indexer,col_indexer] = value instead\n",
      "\n",
      "See the caveats in the documentation: https://pandas.pydata.org/pandas-docs/stable/user_guide/indexing.html#returning-a-view-versus-a-copy\n",
      "  \"\"\"Entry point for launching an IPython kernel.\n"
     ]
    }
   ],
   "source": [
    "working_df['life_years'] = working_df.age_at_admit.apply(lambda x: 100 - x)"
   ]
  },
  {
   "cell_type": "code",
   "execution_count": 35,
   "metadata": {},
   "outputs": [
    {
     "data": {
      "text/plain": [
       "Counter({'Home': 67,\n",
       "         'Expired': 78,\n",
       "         'Home Care with Home Health': 19,\n",
       "         'Rehab Care': 8,\n",
       "         'Another Hospital': 9,\n",
       "         'Long Term Care Hospital': 30,\n",
       "         'Skilled Nursing Care': 21,\n",
       "         'Still a patient': 7,\n",
       "         'Home Hospice Care': 1,\n",
       "         nan: 4,\n",
       "         'Hospice Facility': 1})"
      ]
     },
     "execution_count": 35,
     "metadata": {},
     "output_type": "execute_result"
    }
   ],
   "source": [
    "Counter(adjusted_patients['discharge_disposition_display'])"
   ]
  },
  {
   "cell_type": "code",
   "execution_count": 36,
   "metadata": {},
   "outputs": [],
   "source": [
    "class Allocation(object):\n",
    "    # Code will be adjusted for SOFA. Currently using qSOFA \n",
    "    # Only looking at State Level CSC for vent allocation \n",
    "    def __init__(self, patients, scarcity, sofa_calibration):\n",
    "        self.patients = patients.copy() \n",
    "        self.patients['death'] = [0 for _ in range(len(self.patients))]\n",
    "        self.patients['allocated_vent'] = [\"no\" for _ in range(len(self.patients))]\n",
    "        \n",
    "        self.num_vents = int(len(patients) * scarcity) \n",
    "        \n",
    "        self.mortality_model = sofa_calibration\n",
    "        \n",
    "    def allocate(self, row):\n",
    "        prob = self.mortality_model[row.qSOFA_score]\n",
    "    \n",
    "        \n",
    "        death = np.random.binomial(size=1, n=1, p=prob*.01)[0]\n",
    "        #print(death)\n",
    "        \n",
    "        if death == 1 or row.discharge_disposition_display == 'Expired':\n",
    "            return death, 'yes'\n",
    "        \n",
    "        else:\n",
    "            #print('yup yup')\n",
    "            return death, 'yes'\n",
    "    \n",
    "    def check_expiration(self, df):\n",
    "\n",
    "        temp_df = df.copy()\n",
    "        for i, row in df.iterrows():\n",
    "            row = row.copy()\n",
    "            if (pd.isna(row.vent_hours_summed)) or row.discharge_disposition_display == 'Expired':\n",
    "        \n",
    "                temp_df.loc[i, 'death'] = 1\n",
    "\n",
    "            else:\n",
    "                \n",
    "                temp_df.loc[i, 'death'] = 0\n",
    "                \n",
    "                \n",
    "        return temp_df\n",
    "    \n",
    "    def __run_allocation(self, df2):\n",
    "        \n",
    "        for i, row in df2.iterrows():\n",
    "            row = row.copy()\n",
    "            if self.num_vents == 0:\n",
    "                #print('out')\n",
    "                break\n",
    "            \n",
    "            mortality, allocate_cond = self.allocate(row)\n",
    "            \n",
    "            df2.loc[i, 'death'] = mortality\n",
    "                \n",
    "            df2.loc[i, 'allocated_vent'] = allocate_cond\n",
    "            \n",
    "            self.num_vents -= 1 \n",
    "        \n",
    "        non_allocated = df2[df2['allocated_vent']=='no']\n",
    "        allocated = df2[df2['allocated_vent']=='yes']\n",
    "        \n",
    "        adj_df = self.check_expiration(non_allocated)\n",
    "        \n",
    "        return pd.concat([allocated, adj_df])\n",
    "        \n",
    "                    \n",
    "    def lottery(self):\n",
    "        temp_patients = self.patients.copy()\n",
    "        \n",
    "        temp_patients.sample(frac=1)\n",
    "        \n",
    "        out_df = self.__run_allocation(temp_patients)\n",
    "        return out_df \n",
    "    \n",
    "    def youngest(self):\n",
    "        temp_patients = self.patients.copy()\n",
    "        \n",
    "        temp_patients.sort_values(by=['age_at_admit'], ascending=True, inplace=True)\n",
    "        \n",
    "        out_df = self.__run_allocation(temp_patients)\n",
    "        return out_df \n",
    "    \n",
    "    # pandas function\n",
    "    def __age_categorization(self, row):\n",
    "        if row.age_at_admit < 50:\n",
    "            return 1 \n",
    "        elif row.age_at_admit < 70: \n",
    "            return 2 \n",
    "        elif row.age_at_admit < 85:\n",
    "            return 3 \n",
    "        else:\n",
    "            return 4\n",
    "        \n",
    "            \n",
    "        \n",
    "    def maryland(self):\n",
    "        temp_patients = self.patients.copy()\n",
    "        temp_patients['age_cat'] = temp_patients.apply(lambda row: self.__age_categorization(row)\n",
    "                                                       , axis=1)\n",
    "        \n",
    "        temp_patients.sort_values(by=['qSOFA_score', 'total_comorbidities', 'age_cat'], \n",
    "                                      ascending=[True, True, True], inplace=True)\n",
    "        \n",
    "        out_df = self.__run_allocation(temp_patients)\n",
    "        return out_df \n",
    "            \n",
    "    def new_york(self):\n",
    "        temp_patients = self.patients.copy()\n",
    "\n",
    "        groups = [df for _, df in temp_patients.groupby('qSOFA_score')]\n",
    "        random.shuffle(groups)\n",
    "\n",
    "        grouped = pd.concat(groups).reset_index(drop=True)\n",
    "        grouped = grouped.sort_values('qSOFA_score', ascending=True)\n",
    "        \n",
    "        out_df = self.__run_allocation(grouped)\n",
    "        return out_df \n",
    "            \n",
    "    \n",
    "    def max_lives_saved(self):\n",
    "        temp_patients = self.patients.copy()\n",
    "        \n",
    "        temp_patients.sort_values(by=['qSOFA_score'], ascending=True, inplace=True)\n",
    "        \n",
    "        out_df = self.__run_allocation(temp_patients)\n",
    "        return out_df \n",
    "    \n",
    "    def max_life_years(self):\n",
    "        temp_patients = self.patients.copy()\n",
    "\n",
    "        temp_patients.sort_values(by=['qSOFA_score', 'life_years'], ascending=[True,False], inplace=True)\n",
    "\n",
    "        out_df = self.__run_allocation(temp_patients)\n",
    "        return out_df \n",
    "        \n",
    "    def sickest_first(self):\n",
    "        temp_patients = self.patients.copy()\n",
    "        \n",
    "        temp_patients.sort_values(by=['qSOFA_score'], ascending=False, inplace=True)\n",
    "        \n",
    "        out_df = self.__run_allocation(temp_patients)\n",
    "        return out_df \n",
    "        "
   ]
  },
  {
   "cell_type": "code",
   "execution_count": 37,
   "metadata": {},
   "outputs": [],
   "source": [
    "zip_df = pd.read_csv('zip_code_data.csv', index_col=False)\n",
    "zip_df['zip_code'] = zip_df.zip_code.apply(lambda x: x.strip('ZCTA5 '))"
   ]
  },
  {
   "cell_type": "code",
   "execution_count": 38,
   "metadata": {},
   "outputs": [],
   "source": [
    "working_df = pd.merge(working_df, zip_df, left_on='zip_cust_table', right_on='zip_code', how='inner')"
   ]
  },
  {
   "cell_type": "markdown",
   "metadata": {},
   "source": [
    "### Baseline"
   ]
  },
  {
   "cell_type": "code",
   "execution_count": 39,
   "metadata": {},
   "outputs": [
    {
     "data": {
      "text/plain": [
       "Counter({'Expired': 148,\n",
       "         'Rehab Care': 19,\n",
       "         'Skilled Nursing Care': 50,\n",
       "         'Still a patient': 12,\n",
       "         'Home': 280,\n",
       "         'Long Term Care Hospital': 50,\n",
       "         'Home Care with Home Health': 48,\n",
       "         'Another Hospital': 12,\n",
       "         nan: 14,\n",
       "         'Home Hospice Care': 6,\n",
       "         'Hospice Facility': 4,\n",
       "         'Court/Law Enforcement': 1,\n",
       "         'Intermediate Care': 4,\n",
       "         'Psychiatric Hospital': 1,\n",
       "         'Against Medical Advice': 3})"
      ]
     },
     "execution_count": 39,
     "metadata": {},
     "output_type": "execute_result"
    }
   ],
   "source": [
    "Counter(working_df['discharge_disposition_display'])"
   ]
  },
  {
   "cell_type": "code",
   "execution_count": 40,
   "metadata": {},
   "outputs": [],
   "source": [
    "def latinx(row):\n",
    "    if row.ethnicity_display == 'Hispanic or Latino' and row.race_display == 'White':\n",
    "        return \"Hispanic\"\n",
    "    elif row.ethnicity_display == 'Not Hispanic or Latino' and row.race_display == 'White': \n",
    "        return \"White\"\n",
    "    else:\n",
    "        return row.race_display"
   ]
  },
  {
   "cell_type": "code",
   "execution_count": 41,
   "metadata": {},
   "outputs": [],
   "source": [
    "working_df['race_display'] = df.apply(lambda row: latinx(row), axis=1)"
   ]
  },
  {
   "cell_type": "code",
   "execution_count": 42,
   "metadata": {},
   "outputs": [],
   "source": [
    "# later think about the mortality rate as well \n",
    "# summarize what I'm going to do and send to Victoria "
   ]
  },
  {
   "cell_type": "code",
   "execution_count": 43,
   "metadata": {},
   "outputs": [
    {
     "data": {
      "text/plain": [
       "652"
      ]
     },
     "execution_count": 43,
     "metadata": {},
     "output_type": "execute_result"
    }
   ],
   "source": [
    "len(working_df)"
   ]
  },
  {
   "cell_type": "code",
   "execution_count": 44,
   "metadata": {},
   "outputs": [
    {
     "data": {
      "text/html": [
       "<div>\n",
       "<style scoped>\n",
       "    .dataframe tbody tr th:only-of-type {\n",
       "        vertical-align: middle;\n",
       "    }\n",
       "\n",
       "    .dataframe tbody tr th {\n",
       "        vertical-align: top;\n",
       "    }\n",
       "\n",
       "    .dataframe thead tr th {\n",
       "        text-align: left;\n",
       "    }\n",
       "\n",
       "    .dataframe thead tr:last-of-type th {\n",
       "        text-align: right;\n",
       "    }\n",
       "</style>\n",
       "<table border=\"1\" class=\"dataframe\">\n",
       "  <thead>\n",
       "    <tr>\n",
       "      <th></th>\n",
       "      <th colspan=\"3\" halign=\"left\">age_at_admit</th>\n",
       "    </tr>\n",
       "    <tr>\n",
       "      <th></th>\n",
       "      <th>mean</th>\n",
       "      <th>std</th>\n",
       "      <th>count</th>\n",
       "    </tr>\n",
       "    <tr>\n",
       "      <th>race_display</th>\n",
       "      <th></th>\n",
       "      <th></th>\n",
       "      <th></th>\n",
       "    </tr>\n",
       "  </thead>\n",
       "  <tbody>\n",
       "    <tr>\n",
       "      <th>American Indian/Alaska Native</th>\n",
       "      <td>59.67</td>\n",
       "      <td>12.74</td>\n",
       "      <td>3</td>\n",
       "    </tr>\n",
       "    <tr>\n",
       "      <th>Asian</th>\n",
       "      <td>59.14</td>\n",
       "      <td>20.31</td>\n",
       "      <td>7</td>\n",
       "    </tr>\n",
       "    <tr>\n",
       "      <th>Black or African American</th>\n",
       "      <td>61.68</td>\n",
       "      <td>16.85</td>\n",
       "      <td>65</td>\n",
       "    </tr>\n",
       "    <tr>\n",
       "      <th>Decline to Specify</th>\n",
       "      <td>57.22</td>\n",
       "      <td>17.90</td>\n",
       "      <td>9</td>\n",
       "    </tr>\n",
       "    <tr>\n",
       "      <th>Hispanic</th>\n",
       "      <td>57.51</td>\n",
       "      <td>17.36</td>\n",
       "      <td>309</td>\n",
       "    </tr>\n",
       "    <tr>\n",
       "      <th>Other Race</th>\n",
       "      <td>58.46</td>\n",
       "      <td>21.00</td>\n",
       "      <td>37</td>\n",
       "    </tr>\n",
       "    <tr>\n",
       "      <th>Unknown</th>\n",
       "      <td>55.21</td>\n",
       "      <td>18.16</td>\n",
       "      <td>24</td>\n",
       "    </tr>\n",
       "    <tr>\n",
       "      <th>White</th>\n",
       "      <td>56.75</td>\n",
       "      <td>17.45</td>\n",
       "      <td>198</td>\n",
       "    </tr>\n",
       "  </tbody>\n",
       "</table>\n",
       "</div>"
      ],
      "text/plain": [
       "                              age_at_admit             \n",
       "                                      mean    std count\n",
       "race_display                                           \n",
       "American Indian/Alaska Native        59.67  12.74     3\n",
       "Asian                                59.14  20.31     7\n",
       "Black or African American            61.68  16.85    65\n",
       "Decline to Specify                   57.22  17.90     9\n",
       "Hispanic                             57.51  17.36   309\n",
       "Other Race                           58.46  21.00    37\n",
       "Unknown                              55.21  18.16    24\n",
       "White                                56.75  17.45   198"
      ]
     },
     "execution_count": 44,
     "metadata": {},
     "output_type": "execute_result"
    }
   ],
   "source": [
    "# compute other descriptive stats for this groupby \n",
    "# final analysis \n",
    "working_df[['race_display', 'age_at_admit']].groupby('race_display').agg(['mean', 'std', 'count']).round(2)"
   ]
  },
  {
   "cell_type": "code",
   "execution_count": 45,
   "metadata": {},
   "outputs": [
    {
     "data": {
      "text/plain": [
       "Counter({3.0: 14, 2.0: 99, 1.0: 363, 0.0: 176})"
      ]
     },
     "execution_count": 45,
     "metadata": {},
     "output_type": "execute_result"
    }
   ],
   "source": [
    "Counter(working_df['qSOFA_score'])"
   ]
  },
  {
   "cell_type": "code",
   "execution_count": 46,
   "metadata": {},
   "outputs": [
    {
     "data": {
      "text/plain": [
       "97"
      ]
     },
     "execution_count": 46,
     "metadata": {},
     "output_type": "execute_result"
    }
   ],
   "source": [
    "len(working_df['zip_cust_table'].unique())"
   ]
  },
  {
   "cell_type": "code",
   "execution_count": 47,
   "metadata": {},
   "outputs": [
    {
     "name": "stdout",
     "output_type": "stream",
     "text": [
      "37\n"
     ]
    },
    {
     "data": {
      "text/plain": [
       "327"
      ]
     },
     "execution_count": 47,
     "metadata": {},
     "output_type": "execute_result"
    }
   ],
   "source": [
    "# zip code demo eda \n",
    "c = Counter(working_df['zip_cust_table'])\n",
    "alist = c.most_common()\n",
    "sum_patient = list(filter(lambda x: x[0][2] == '7', alist))\n",
    "\n",
    "print(len(sum_patient))\n",
    "num_p = 0 \n",
    "for x in sum_patient:\n",
    "    num_p += x[1]\n",
    "    \n",
    "num_p"
   ]
  },
  {
   "cell_type": "code",
   "execution_count": 48,
   "metadata": {},
   "outputs": [
    {
     "name": "stdout",
     "output_type": "stream",
     "text": [
      "60\n"
     ]
    }
   ],
   "source": [
    "c = Counter(working_df['zip_cust_table'])\n",
    "alist = c.most_common()\n",
    "n_alist = list(filter(lambda x: x[1] > 1, alist))\n",
    "print(len(n_alist))\n",
    "#n_alist"
   ]
  },
  {
   "cell_type": "code",
   "execution_count": 49,
   "metadata": {},
   "outputs": [
    {
     "name": "stderr",
     "output_type": "stream",
     "text": [
      "/home/joel/anaconda3/lib/python3.7/site-packages/seaborn/distributions.py:2551: FutureWarning: `distplot` is a deprecated function and will be removed in a future version. Please adapt your code to use either `displot` (a figure-level function with similar flexibility) or `histplot` (an axes-level function for histograms).\n",
      "  warnings.warn(msg, FutureWarning)\n"
     ]
    },
    {
     "data": {
      "text/plain": [
       "<AxesSubplot:xlabel='qSOFA_score', ylabel='Density'>"
      ]
     },
     "execution_count": 49,
     "metadata": {},
     "output_type": "execute_result"
    },
    {
     "data": {
      "image/png": "[encoded data removed]",
      "text/plain": [
       "<Figure size 432x288 with 1 Axes>"
      ]
     },
     "metadata": {
      "needs_background": "light"
     },
     "output_type": "display_data"
    }
   ],
   "source": [
    "sn.distplot(working_df['qSOFA_score'])"
   ]
  },
  {
   "cell_type": "code",
   "execution_count": 50,
   "metadata": {},
   "outputs": [
    {
     "data": {
      "text/plain": [
       "Counter({'Hispanic': 309,\n",
       "         'Black or African American': 65,\n",
       "         'White': 198,\n",
       "         'Asian': 7,\n",
       "         'Unknown': 24,\n",
       "         'Other Race': 37,\n",
       "         'American Indian/Alaska Native': 3,\n",
       "         'Decline to Specify': 9})"
      ]
     },
     "execution_count": 50,
     "metadata": {},
     "output_type": "execute_result"
    }
   ],
   "source": [
    "race_count = Counter(working_df['race_display'])\n",
    "race_count"
   ]
  },
  {
   "cell_type": "code",
   "execution_count": 51,
   "metadata": {},
   "outputs": [],
   "source": [
    "working_df['poverty_rate'] = working_df['poverty_rate'].astype(float)\n",
    "working_df['median_income'] = working_df['median_income'].astype(float)"
   ]
  },
  {
   "cell_type": "code",
   "execution_count": 52,
   "metadata": {},
   "outputs": [],
   "source": [
    "bins = [0, 6, 12, 18,24,30,36,40]\n",
    "bin_conv = [i+1 for i in range(len(bins))]\n",
    "working_df['zip_binned_by_poverty'] = np.searchsorted(bins, working_df['poverty_rate'].values)\n",
    "#temp_df['zip_binned_by_poverty'] = np.searchsorted(bins, temp_df['poverty_rate'].values)"
   ]
  },
  {
   "cell_type": "code",
   "execution_count": 53,
   "metadata": {},
   "outputs": [],
   "source": [
    "bins = [20000, 40000, 60000, 80000,100000]\n",
    "bin_conv = [i+1 for i in range(len(bins))]\n",
    "working_df['zip_binned_by_income'] = np.searchsorted(bins, working_df['median_income'].values)"
   ]
  },
  {
   "cell_type": "code",
   "execution_count": 54,
   "metadata": {},
   "outputs": [],
   "source": [
    "working_df['death'] = working_df.discharge_disposition_display.apply(lambda row: 1 if row == 'Expired' else 0)"
   ]
  },
  {
   "cell_type": "code",
   "execution_count": 55,
   "metadata": {},
   "outputs": [
    {
     "data": {
      "text/plain": [
       "Counter({1: 148, 0: 504})"
      ]
     },
     "execution_count": 55,
     "metadata": {},
     "output_type": "execute_result"
    }
   ],
   "source": [
    "Counter(working_df['death'])"
   ]
  },
  {
   "cell_type": "code",
   "execution_count": 56,
   "metadata": {},
   "outputs": [],
   "source": [
    "data_for_model_X = working_df[['zip_binned_by_income', \n",
    "                             'zip_binned_by_poverty', \n",
    "                            'race_display',\n",
    "                            'total_comorbidities', \n",
    "                            'has_comorbidity',\n",
    "                            'has_comorbidity2',\n",
    "                            'age_at_admit', \n",
    "                            'qSOFA_score', \n",
    "                            ]]\n",
    "updated_data_for_model_X = pd.get_dummies(data_for_model_X)\n",
    "data_for_model_y = working_df['death']"
   ]
  },
  {
   "cell_type": "code",
   "execution_count": 57,
   "metadata": {},
   "outputs": [
    {
     "data": {
      "text/plain": [
       "zip_binned_by_income       int64\n",
       "zip_binned_by_poverty      int64\n",
       "race_display              object\n",
       "total_comorbidities        int64\n",
       "has_comorbidity            int64\n",
       "has_comorbidity2           int64\n",
       "age_at_admit               int64\n",
       "qSOFA_score              float64\n",
       "dtype: object"
      ]
     },
     "execution_count": 57,
     "metadata": {},
     "output_type": "execute_result"
    }
   ],
   "source": [
    "data_for_model_X.dtypes"
   ]
  },
  {
   "cell_type": "code",
   "execution_count": 58,
   "metadata": {},
   "outputs": [
    {
     "name": "stdout",
     "output_type": "stream",
     "text": [
      "Warning: Maximum number of iterations has been exceeded.\n",
      "         Current function value: 0.456956\n",
      "         Iterations: 35\n"
     ]
    },
    {
     "name": "stderr",
     "output_type": "stream",
     "text": [
      "/home/joel/anaconda3/lib/python3.7/site-packages/statsmodels/base/model.py:512: ConvergenceWarning: Maximum Likelihood optimization failed to converge. Check mle_retvals\n",
      "  \"Check mle_retvals\", ConvergenceWarning)\n"
     ]
    }
   ],
   "source": [
    "log_reg = sm.Logit(data_for_model_y, updated_data_for_model_X).fit()"
   ]
  },
  {
   "cell_type": "code",
   "execution_count": 59,
   "metadata": {},
   "outputs": [
    {
     "name": "stdout",
     "output_type": "stream",
     "text": [
      "                           Logit Regression Results                           \n",
      "==============================================================================\n",
      "Dep. Variable:                  death   No. Observations:                  652\n",
      "Model:                          Logit   Df Residuals:                      637\n",
      "Method:                           MLE   Df Model:                           14\n",
      "Date:                Tue, 04 May 2021   Pseudo R-squ.:                  0.1469\n",
      "Time:                        15:46:59   Log-Likelihood:                -297.94\n",
      "converged:                      False   LL-Null:                       -349.22\n",
      "Covariance Type:            nonrobust   LLR p-value:                 1.519e-15\n",
      "==============================================================================================================\n",
      "                                                 coef    std err          z      P>|z|      [0.025      0.975]\n",
      "--------------------------------------------------------------------------------------------------------------\n",
      "zip_binned_by_income                          -0.1587      0.164     -0.970      0.332      -0.479       0.162\n",
      "zip_binned_by_poverty                         -0.0456      0.134     -0.340      0.734      -0.308       0.217\n",
      "total_comorbidities                            0.0175      0.151      0.116      0.908      -0.279       0.314\n",
      "has_comorbidity                                0.5008      0.404      1.241      0.215      -0.290       1.292\n",
      "has_comorbidity2                               0.2534      0.349      0.726      0.468      -0.430       0.937\n",
      "age_at_admit                                   0.0460      0.007      6.364      0.000       0.032       0.060\n",
      "qSOFA_score                                    0.5434      0.145      3.758      0.000       0.260       0.827\n",
      "race_display_American Indian/Alaska Native   -31.6672   7.87e+05  -4.03e-05      1.000   -1.54e+06    1.54e+06\n",
      "race_display_Asian                            -3.6108      1.269     -2.846      0.004      -6.098      -1.124\n",
      "race_display_Black or African American        -4.6172      0.973     -4.746      0.000      -6.524      -2.711\n",
      "race_display_Decline to Specify              -23.7085   6784.832     -0.003      0.997   -1.33e+04    1.33e+04\n",
      "race_display_Hispanic                         -4.6186      0.925     -4.993      0.000      -6.432      -2.806\n",
      "race_display_Other Race                       -4.3989      1.011     -4.349      0.000      -6.381      -2.417\n",
      "race_display_Unknown                          -5.5549      1.129     -4.920      0.000      -7.768      -3.342\n",
      "race_display_White                            -4.6257      0.929     -4.982      0.000      -6.446      -2.806\n",
      "==============================================================================================================\n"
     ]
    }
   ],
   "source": [
    "print(log_reg.summary())"
   ]
  },
  {
   "cell_type": "code",
   "execution_count": 60,
   "metadata": {},
   "outputs": [
    {
     "name": "stdout",
     "output_type": "stream",
     "text": [
      "\\begin{center}\n",
      "\\begin{tabular}{lclc}\n",
      "\\toprule\n",
      "\\textbf{Dep. Variable:}   &      death       & \\textbf{  No. Observations:  } &      652   \\\\\n",
      "\\textbf{Model:}           &      Logit       & \\textbf{  Df Residuals:      } &      637   \\\\\n",
      "\\textbf{Method:}          &       MLE        & \\textbf{  Df Model:          } &       14   \\\\\n",
      "\\textbf{Date:}            & Tue, 04 May 2021 & \\textbf{  Pseudo R-squ.:     } &   0.1469   \\\\\n",
      "\\textbf{Time:}            &     15:46:59     & \\textbf{  Log-Likelihood:    } &   -297.94  \\\\\n",
      "\\textbf{converged:}       &      False       & \\textbf{  LL-Null:           } &   -349.22  \\\\\n",
      "\\textbf{Covariance Type:} &    nonrobust     & \\textbf{  LLR p-value:       } & 1.519e-15  \\\\\n",
      "\\bottomrule\n",
      "\\end{tabular}\n",
      "%\\caption{Logit Regression Results}\n",
      "\\end{center}\n",
      "\\begin{center}\n",
      "\\begin{tabular}{lcccccc}\n",
      "\\toprule\n",
      "                                                      & \\textbf{coef} & \\textbf{std err} & \\textbf{z} & \\textbf{P$> |$z$|$} & \\textbf{[0.025} & \\textbf{0.975]}  \\\\\n",
      "\\midrule\n",
      "\\textbf{zip\\_binned\\_by\\_income}                      &      -0.1587  &        0.164     &    -0.970  &         0.332        &       -0.479    &        0.162     \\\\\n",
      "\\textbf{zip\\_binned\\_by\\_poverty}                     &      -0.0456  &        0.134     &    -0.340  &         0.734        &       -0.308    &        0.217     \\\\\n",
      "\\textbf{total\\_comorbidities}                         &       0.0175  &        0.151     &     0.116  &         0.908        &       -0.279    &        0.314     \\\\\n",
      "\\textbf{has\\_comorbidity}                             &       0.5008  &        0.404     &     1.241  &         0.215        &       -0.290    &        1.292     \\\\\n",
      "\\textbf{has\\_comorbidity2}                            &       0.2534  &        0.349     &     0.726  &         0.468        &       -0.430    &        0.937     \\\\\n",
      "\\textbf{age\\_at\\_admit}                               &       0.0460  &        0.007     &     6.364  &         0.000        &        0.032    &        0.060     \\\\\n",
      "\\textbf{qSOFA\\_score}                                 &       0.5434  &        0.145     &     3.758  &         0.000        &        0.260    &        0.827     \\\\\n",
      "\\textbf{race\\_display\\_American Indian/Alaska Native} &     -31.6672  &     7.87e+05     & -4.03e-05  &         1.000        &    -1.54e+06    &     1.54e+06     \\\\\n",
      "\\textbf{race\\_display\\_Asian}                         &      -3.6108  &        1.269     &    -2.846  &         0.004        &       -6.098    &       -1.124     \\\\\n",
      "\\textbf{race\\_display\\_Black or African American}     &      -4.6172  &        0.973     &    -4.746  &         0.000        &       -6.524    &       -2.711     \\\\\n",
      "\\textbf{race\\_display\\_Decline to Specify}            &     -23.7085  &     6784.832     &    -0.003  &         0.997        &    -1.33e+04    &     1.33e+04     \\\\\n",
      "\\textbf{race\\_display\\_Hispanic}                      &      -4.6186  &        0.925     &    -4.993  &         0.000        &       -6.432    &       -2.806     \\\\\n",
      "\\textbf{race\\_display\\_Other Race}                    &      -4.3989  &        1.011     &    -4.349  &         0.000        &       -6.381    &       -2.417     \\\\\n",
      "\\textbf{race\\_display\\_Unknown}                       &      -5.5549  &        1.129     &    -4.920  &         0.000        &       -7.768    &       -3.342     \\\\\n",
      "\\textbf{race\\_display\\_White}                         &      -4.6257  &        0.929     &    -4.982  &         0.000        &       -6.446    &       -2.806     \\\\\n",
      "\\bottomrule\n",
      "\\end{tabular}\n",
      "\\end{center}\n"
     ]
    }
   ],
   "source": [
    "for table in log_reg.summary().tables:\n",
    "    print(table.as_latex_tabular())"
   ]
  },
  {
   "cell_type": "code",
   "execution_count": 69,
   "metadata": {},
   "outputs": [
    {
     "name": "stdout",
     "output_type": "stream",
     "text": [
      "                                                  5%       95%    Odds Ratio\n",
      "zip_binned_by_income                        0.619255  1.175702  8.532643e-01\n",
      "zip_binned_by_poverty                       0.734656  1.242609  9.554528e-01\n",
      "total_comorbidities                         0.756419  1.369123  1.017660e+00\n",
      "has_comorbidity                             0.748006  3.639985  1.650070e+00\n",
      "has_comorbidity2                            0.650263  2.552781  1.288402e+00\n",
      "age_at_admit                                1.032313  1.061950  1.047026e+00\n",
      "qSOFA_score                                 1.296882  2.286150  1.721879e+00\n",
      "race_display_American Indian/Alaska Native  0.000000       inf  1.766573e-14\n",
      "race_display_Asian                          0.002248  0.325027  2.703084e-02\n",
      "race_display_Black or African American      0.001468  0.066494  9.879973e-03\n",
      "race_display_Decline to Specify             0.000000       inf  5.052744e-11\n",
      "race_display_Hispanic                       0.001610  0.060471  9.866908e-03\n",
      "race_display_Other Race                     0.001693  0.089224  1.229125e-02\n",
      "race_display_Unknown                        0.000423  0.035365  3.868562e-03\n",
      "race_display_White                          0.001587  0.060463  9.796797e-03\n"
     ]
    },
    {
     "name": "stderr",
     "output_type": "stream",
     "text": [
      "/home/joel/anaconda3/lib/python3.7/site-packages/ipykernel_launcher.py:5: RuntimeWarning: overflow encountered in exp\n",
      "  \"\"\"\n"
     ]
    }
   ],
   "source": [
    "params = log_reg.params\n",
    "conf = log_reg.conf_int()\n",
    "conf['Odds Ratio'] = params\n",
    "conf.columns = ['5%', '95%', 'Odds Ratio']\n",
    "print(np.exp(conf))"
   ]
  },
  {
   "cell_type": "code",
   "execution_count": 70,
   "metadata": {},
   "outputs": [
    {
     "name": "stderr",
     "output_type": "stream",
     "text": [
      "/home/joel/anaconda3/lib/python3.7/site-packages/ipykernel_launcher.py:1: RuntimeWarning: overflow encountered in exp\n",
      "  \"\"\"Entry point for launching an IPython kernel.\n"
     ]
    },
    {
     "data": {
      "text/html": [
       "<div>\n",
       "<style scoped>\n",
       "    .dataframe tbody tr th:only-of-type {\n",
       "        vertical-align: middle;\n",
       "    }\n",
       "\n",
       "    .dataframe tbody tr th {\n",
       "        vertical-align: top;\n",
       "    }\n",
       "\n",
       "    .dataframe thead th {\n",
       "        text-align: right;\n",
       "    }\n",
       "</style>\n",
       "<table border=\"1\" class=\"dataframe\">\n",
       "  <thead>\n",
       "    <tr style=\"text-align: right;\">\n",
       "      <th></th>\n",
       "      <th>5%</th>\n",
       "      <th>95%</th>\n",
       "      <th>Odds Ratio</th>\n",
       "    </tr>\n",
       "  </thead>\n",
       "  <tbody>\n",
       "    <tr>\n",
       "      <th>zip_binned_by_income</th>\n",
       "      <td>0.619255</td>\n",
       "      <td>1.175702</td>\n",
       "      <td>8.532643e-01</td>\n",
       "    </tr>\n",
       "    <tr>\n",
       "      <th>zip_binned_by_poverty</th>\n",
       "      <td>0.734656</td>\n",
       "      <td>1.242609</td>\n",
       "      <td>9.554528e-01</td>\n",
       "    </tr>\n",
       "    <tr>\n",
       "      <th>total_comorbidities</th>\n",
       "      <td>0.756419</td>\n",
       "      <td>1.369123</td>\n",
       "      <td>1.017660e+00</td>\n",
       "    </tr>\n",
       "    <tr>\n",
       "      <th>has_comorbidity</th>\n",
       "      <td>0.748006</td>\n",
       "      <td>3.639985</td>\n",
       "      <td>1.650070e+00</td>\n",
       "    </tr>\n",
       "    <tr>\n",
       "      <th>has_comorbidity2</th>\n",
       "      <td>0.650263</td>\n",
       "      <td>2.552781</td>\n",
       "      <td>1.288402e+00</td>\n",
       "    </tr>\n",
       "    <tr>\n",
       "      <th>age_at_admit</th>\n",
       "      <td>1.032313</td>\n",
       "      <td>1.061950</td>\n",
       "      <td>1.047026e+00</td>\n",
       "    </tr>\n",
       "    <tr>\n",
       "      <th>qSOFA_score</th>\n",
       "      <td>1.296882</td>\n",
       "      <td>2.286150</td>\n",
       "      <td>1.721879e+00</td>\n",
       "    </tr>\n",
       "    <tr>\n",
       "      <th>race_display_American Indian/Alaska Native</th>\n",
       "      <td>0.000000</td>\n",
       "      <td>inf</td>\n",
       "      <td>1.766573e-14</td>\n",
       "    </tr>\n",
       "    <tr>\n",
       "      <th>race_display_Asian</th>\n",
       "      <td>0.002248</td>\n",
       "      <td>0.325027</td>\n",
       "      <td>2.703084e-02</td>\n",
       "    </tr>\n",
       "    <tr>\n",
       "      <th>race_display_Black or African American</th>\n",
       "      <td>0.001468</td>\n",
       "      <td>0.066494</td>\n",
       "      <td>9.879973e-03</td>\n",
       "    </tr>\n",
       "    <tr>\n",
       "      <th>race_display_Decline to Specify</th>\n",
       "      <td>0.000000</td>\n",
       "      <td>inf</td>\n",
       "      <td>5.052744e-11</td>\n",
       "    </tr>\n",
       "    <tr>\n",
       "      <th>race_display_Hispanic</th>\n",
       "      <td>0.001610</td>\n",
       "      <td>0.060471</td>\n",
       "      <td>9.866908e-03</td>\n",
       "    </tr>\n",
       "    <tr>\n",
       "      <th>race_display_Other Race</th>\n",
       "      <td>0.001693</td>\n",
       "      <td>0.089224</td>\n",
       "      <td>1.229125e-02</td>\n",
       "    </tr>\n",
       "    <tr>\n",
       "      <th>race_display_Unknown</th>\n",
       "      <td>0.000423</td>\n",
       "      <td>0.035365</td>\n",
       "      <td>3.868562e-03</td>\n",
       "    </tr>\n",
       "    <tr>\n",
       "      <th>race_display_White</th>\n",
       "      <td>0.001587</td>\n",
       "      <td>0.060463</td>\n",
       "      <td>9.796797e-03</td>\n",
       "    </tr>\n",
       "  </tbody>\n",
       "</table>\n",
       "</div>"
      ],
      "text/plain": [
       "                                                  5%       95%    Odds Ratio\n",
       "zip_binned_by_income                        0.619255  1.175702  8.532643e-01\n",
       "zip_binned_by_poverty                       0.734656  1.242609  9.554528e-01\n",
       "total_comorbidities                         0.756419  1.369123  1.017660e+00\n",
       "has_comorbidity                             0.748006  3.639985  1.650070e+00\n",
       "has_comorbidity2                            0.650263  2.552781  1.288402e+00\n",
       "age_at_admit                                1.032313  1.061950  1.047026e+00\n",
       "qSOFA_score                                 1.296882  2.286150  1.721879e+00\n",
       "race_display_American Indian/Alaska Native  0.000000       inf  1.766573e-14\n",
       "race_display_Asian                          0.002248  0.325027  2.703084e-02\n",
       "race_display_Black or African American      0.001468  0.066494  9.879973e-03\n",
       "race_display_Decline to Specify             0.000000       inf  5.052744e-11\n",
       "race_display_Hispanic                       0.001610  0.060471  9.866908e-03\n",
       "race_display_Other Race                     0.001693  0.089224  1.229125e-02\n",
       "race_display_Unknown                        0.000423  0.035365  3.868562e-03\n",
       "race_display_White                          0.001587  0.060463  9.796797e-03"
      ]
     },
     "execution_count": 70,
     "metadata": {},
     "output_type": "execute_result"
    }
   ],
   "source": [
    "conf[['5%', '95%', 'Odds Ratio' ]] = np.exp(conf[['5%', '95%', 'Odds Ratio']])\n",
    "conf "
   ]
  },
  {
   "cell_type": "code",
   "execution_count": 71,
   "metadata": {},
   "outputs": [
    {
     "name": "stdout",
     "output_type": "stream",
     "text": [
      "\\begin{tabular}{lrrr}\n",
      "\\toprule\n",
      "{} &    5\\% &   95\\% &  Odds Ratio \\\\\n",
      "\\midrule\n",
      "zip\\_binned\\_by\\_income                       &  0.62 &  1.18 &        0.85 \\\\\n",
      "zip\\_binned\\_by\\_poverty                      &  0.73 &  1.24 &        0.96 \\\\\n",
      "total\\_comorbidities                        &  0.76 &  1.37 &        1.02 \\\\\n",
      "has\\_comorbidity                            &  0.75 &  3.64 &        1.65 \\\\\n",
      "has\\_comorbidity2                           &  0.65 &  2.55 &        1.29 \\\\\n",
      "age\\_at\\_admit                               &  1.03 &  1.06 &        1.05 \\\\\n",
      "qSOFA\\_score                                &  1.30 &  2.29 &        1.72 \\\\\n",
      "race\\_display\\_American Indian/Alaska Native &  0.00 &   inf &        0.00 \\\\\n",
      "race\\_display\\_Asian                         &  0.00 &  0.33 &        0.03 \\\\\n",
      "race\\_display\\_Black or African American     &  0.00 &  0.07 &        0.01 \\\\\n",
      "race\\_display\\_Decline to Specify            &  0.00 &   inf &        0.00 \\\\\n",
      "race\\_display\\_Hispanic                      &  0.00 &  0.06 &        0.01 \\\\\n",
      "race\\_display\\_Other Race                    &  0.00 &  0.09 &        0.01 \\\\\n",
      "race\\_display\\_Unknown                       &  0.00 &  0.04 &        0.00 \\\\\n",
      "race\\_display\\_White                         &  0.00 &  0.06 &        0.01 \\\\\n",
      "\\bottomrule\n",
      "\\end{tabular}\n",
      "\n"
     ]
    }
   ],
   "source": [
    "print(conf.round(2).to_latex(index=True))"
   ]
  },
  {
   "cell_type": "code",
   "execution_count": 64,
   "metadata": {},
   "outputs": [
    {
     "data": {
      "text/plain": [
       "0.7555904118404119"
      ]
     },
     "execution_count": 64,
     "metadata": {},
     "output_type": "execute_result"
    }
   ],
   "source": [
    "from sklearn.metrics import roc_auc_score\n",
    "roc_auc_score(data_for_model_y, log_reg.predict(updated_data_for_model_X))"
   ]
  },
  {
   "cell_type": "code",
   "execution_count": null,
   "metadata": {},
   "outputs": [],
   "source": []
  }
 ],
 "metadata": {
  "kernelspec": {
   "display_name": "Python 3",
   "language": "python",
   "name": "python3"
  },
  "language_info": {
   "codemirror_mode": {
    "name": "ipython",
    "version": 3
   },
   "file_extension": ".py",
   "mimetype": "text/x-python",
   "name": "python",
   "nbconvert_exporter": "python",
   "pygments_lexer": "ipython3",
   "version": "3.8.5"
  }
 },
 "nbformat": 4,
 "nbformat_minor": 4
}
