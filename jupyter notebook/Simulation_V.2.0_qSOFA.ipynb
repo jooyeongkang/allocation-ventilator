{
 "cells": [
  {
   "cell_type": "markdown",
   "source": [
    "# Load Library"
   ],
   "metadata": {}
  },
  {
   "cell_type": "code",
   "execution_count": 1,
   "source": [
    "import os \n",
    "import pandas as pd\n",
    "import numpy as np\n",
    "import seaborn as sns\n",
    "import matplotlib.pyplot as plt\n",
    "import random\n",
    "import statistics\n",
    "from collections import Counter"
   ],
   "outputs": [],
   "metadata": {}
  },
  {
   "cell_type": "markdown",
   "source": [
    "# Load Data"
   ],
   "metadata": {}
  },
  {
   "cell_type": "code",
   "execution_count": 5,
   "source": [
    "file_path_csv = \"Seton COVID Cohort Dataset Share SDH/covid_pts_enc_level_labs_dx_2021-02-02_deid.csv\"\n",
    "file_path_csv_extra = \"Seton COVID Cohort Dataset Share SDH/meds_admin_for_SOFA_COVID_cohort_SDH_share.csv\"\n",
    "\n",
    "# Read csv as a dataframe from the path\n",
    "df = pd.read_csv(file_path_csv, index_col=False)\n",
    "df_extra = pd.read_csv(file_path_csv_extra, index_col=False)"
   ],
   "outputs": [],
   "metadata": {}
  },
  {
   "cell_type": "markdown",
   "source": [
    "# Exploratory Data Anlaysis (EDA)"
   ],
   "metadata": {}
  },
  {
   "cell_type": "markdown",
   "source": [
    "## Main data"
   ],
   "metadata": {}
  },
  {
   "cell_type": "code",
   "execution_count": 17,
   "source": [
    "display(df.info())\n",
    "print(df.shape)\n",
    "df.head()"
   ],
   "outputs": [
    {
     "output_type": "stream",
     "name": "stdout",
     "text": [
      "<class 'pandas.core.frame.DataFrame'>\n",
      "RangeIndex: 2469 entries, 0 to 2468\n",
      "Data columns (total 70 columns):\n",
      " #   Column                         Non-Null Count  Dtype  \n",
      "---  ------                         --------------  -----  \n",
      " 0   admit_dt_tm                    2469 non-null   object \n",
      " 1   discharge_dt_tm                2384 non-null   object \n",
      " 2   facility                       2469 non-null   object \n",
      " 3   encounter_type_display         2469 non-null   object \n",
      " 4   age_at_admit                   2469 non-null   int64  \n",
      " 5   gender                         2469 non-null   object \n",
      " 6   zip_cust_table                 2469 non-null   object \n",
      " 7   ethnicity_display              2469 non-null   object \n",
      " 8   race_display                   2469 non-null   object \n",
      " 9   race_eth_comb                  2445 non-null   object \n",
      " 10  length_of_stay                 2384 non-null   float64\n",
      " 11  icd_prim                       2328 non-null   object \n",
      " 12  deceased_dt_tm                 216 non-null    object \n",
      " 13  discharge_disposition_display  2439 non-null   object \n",
      " 14  dc_dispo_cat                   2343 non-null   object \n",
      " 15  insured_uninsured              2469 non-null   object \n",
      " 16  admit_source                   2468 non-null   object \n",
      " 17  arrival_mode                   1284 non-null   object \n",
      " 18  vent_hours_summed              303 non-null    float64\n",
      " 19  vent_first_order_start_time    303 non-null    object \n",
      " 20  vent_last_order_end_time       292 non-null    object \n",
      " 21  icu_hours_summed               741 non-null    float64\n",
      " 22  icu_first_begin_time           753 non-null    object \n",
      " 23  icu_last_end_time              741 non-null    object \n",
      " 24  occupation                     132 non-null    object \n",
      " 25  occ_cat                        2469 non-null   object \n",
      " 26  emp_yn                         132 non-null    object \n",
      " 27  Creatinine                     2377 non-null   float64\n",
      " 28  Abs_Lymph                      2206 non-null   float64\n",
      " 29  ALT                            2239 non-null   object \n",
      " 30  AST                            2244 non-null   float64\n",
      " 31  Bili_Total                     2239 non-null   object \n",
      " 32  D-Dimer                        1937 non-null   object \n",
      " 33  Diastolic_Blood_Pressure       2462 non-null   float64\n",
      " 34  Dosing_Weight_(kg)             2343 non-null   float64\n",
      " 35  FiO2/Percent                   651 non-null    float64\n",
      " 36  Glasgow_Coma_Score             1605 non-null   float64\n",
      " 37  Lymph_Auto                     2206 non-null   float64\n",
      " 38  Oxygen_Delivery_Method         2458 non-null   object \n",
      " 39  Oxygen_Saturation              2464 non-null   float64\n",
      " 40  Platelet                       2390 non-null   float64\n",
      " 41  pO2_Art                        470 non-null    float64\n",
      " 42  Procalcitonin                  1212 non-null   object \n",
      " 43  Respiratory_Rate               2464 non-null   float64\n",
      " 44  Systolic_Blood_Pressure        2462 non-null   float64\n",
      " 45  Troponin-I                     1594 non-null   object \n",
      " 46  WBC                            2390 non-null   float64\n",
      " 47  Oxygen_Flow_Rate               1771 non-null   float64\n",
      " 48  Patient_Smoking_Status         999 non-null    object \n",
      " 49  Visit_Reason                   1568 non-null   object \n",
      " 50  Height_(in)                    1803 non-null   float64\n",
      " 51  Mean_Arterial_Pressure         1585 non-null   float64\n",
      " 52  SARSCOV2                       1180 non-null   object \n",
      " 53  SARSCOV2_Source                1180 non-null   object \n",
      " 54  heart_pulse_comb               2460 non-null   float64\n",
      " 55  temp_oral_degC                 2417 non-null   float64\n",
      " 56  calc_pulled_BMI                1952 non-null   float64\n",
      " 57  no_dx_data                     2469 non-null   bool   \n",
      " 58  COPD_com_flag                  2448 non-null   object \n",
      " 59  asthma_com_flag                2448 non-null   object \n",
      " 60  diabetes_com_flag              2448 non-null   object \n",
      " 61  hypertension_com_flag          2448 non-null   object \n",
      " 62  CAD_com_flag                   2448 non-null   object \n",
      " 63  heartfailure_com_flag          2448 non-null   object \n",
      " 64  CKD_com_flag                   2448 non-null   object \n",
      " 65  cancer_com_flag                2448 non-null   object \n",
      " 66  qSOFA_score                    1602 non-null   float64\n",
      " 67  deid_empi_encounter            2469 non-null   object \n",
      " 68  deid_mrn_encounter             2469 non-null   int64  \n",
      " 69  deid_fin_encounter             2469 non-null   int64  \n",
      "dtypes: bool(1), float64(24), int64(3), object(42)\n",
      "memory usage: 1.3+ MB\n"
     ]
    },
    {
     "output_type": "display_data",
     "data": {
      "text/plain": [
       "None"
      ]
     },
     "metadata": {}
    },
    {
     "output_type": "stream",
     "name": "stdout",
     "text": [
      "(2469, 70)\n"
     ]
    },
    {
     "output_type": "execute_result",
     "data": {
      "text/plain": [
       "           admit_dt_tm      discharge_dt_tm        facility  \\\n",
       "0  2020-08-25 20:51:00  2020-09-01 14:30:00     Shoal Creek   \n",
       "1  2020-03-24 00:07:00  2020-03-26 18:30:00  Medical Center   \n",
       "2  2020-03-25 13:25:00  2020-03-30 03:48:00  Medical Center   \n",
       "3  2020-03-25 13:36:00  2020-03-27 13:15:00  Medical Center   \n",
       "4  2020-03-25 13:43:00  2020-03-27 12:44:00  Medical Center   \n",
       "\n",
       "         encounter_type_display  age_at_admit  gender zip_cust_table  \\\n",
       "0  IP Private/Semi Private room            49    Male        Unknown   \n",
       "1                        IP ICU            44    Male          78130   \n",
       "2  IP Private/Semi Private room            80  Female          78758   \n",
       "3  IP Private/Semi Private room            56    Male          78746   \n",
       "4  IP Private/Semi Private room            46  Female          78757   \n",
       "\n",
       "        ethnicity_display               race_display            race_eth_comb  \\\n",
       "0      Hispanic or Latino                      White           White Hispanic   \n",
       "1      Hispanic or Latino                      White           White Hispanic   \n",
       "2  Not Hispanic or Latino  Black or African American  Other race Non Hispanic   \n",
       "3  Not Hispanic or Latino                      White       White Non Hispanic   \n",
       "4  Not Hispanic or Latino                      White       White Non Hispanic   \n",
       "\n",
       "   ...  diabetes_com_flag hypertension_com_flag CAD_com_flag  \\\n",
       "0  ...              False                 False        False   \n",
       "1  ...              False                 False        False   \n",
       "2  ...               True                 False         True   \n",
       "3  ...              False                 False        False   \n",
       "4  ...              False                 False        False   \n",
       "\n",
       "  heartfailure_com_flag CKD_com_flag cancer_com_flag qSOFA_score  \\\n",
       "0                 False        False           False         NaN   \n",
       "1                 False        False           False         3.0   \n",
       "2                  True         True           False         1.0   \n",
       "3                 False        False           False         1.0   \n",
       "4                 False        False           False         0.0   \n",
       "\n",
       "  deid_empi_encounter  deid_mrn_encounter deid_fin_encounter  \n",
       "0               4dMaH               61003              10650  \n",
       "1               8wQnr               84969              27818  \n",
       "2               6YGuu               69112              34412  \n",
       "3               P1Tjg               84820              37981  \n",
       "4               iouKO               76686              41152  \n",
       "\n",
       "[5 rows x 70 columns]"
      ],
      "text/html": [
       "<div>\n",
       "<style scoped>\n",
       "    .dataframe tbody tr th:only-of-type {\n",
       "        vertical-align: middle;\n",
       "    }\n",
       "\n",
       "    .dataframe tbody tr th {\n",
       "        vertical-align: top;\n",
       "    }\n",
       "\n",
       "    .dataframe thead th {\n",
       "        text-align: right;\n",
       "    }\n",
       "</style>\n",
       "<table border=\"1\" class=\"dataframe\">\n",
       "  <thead>\n",
       "    <tr style=\"text-align: right;\">\n",
       "      <th></th>\n",
       "      <th>admit_dt_tm</th>\n",
       "      <th>discharge_dt_tm</th>\n",
       "      <th>facility</th>\n",
       "      <th>encounter_type_display</th>\n",
       "      <th>age_at_admit</th>\n",
       "      <th>gender</th>\n",
       "      <th>zip_cust_table</th>\n",
       "      <th>ethnicity_display</th>\n",
       "      <th>race_display</th>\n",
       "      <th>race_eth_comb</th>\n",
       "      <th>...</th>\n",
       "      <th>diabetes_com_flag</th>\n",
       "      <th>hypertension_com_flag</th>\n",
       "      <th>CAD_com_flag</th>\n",
       "      <th>heartfailure_com_flag</th>\n",
       "      <th>CKD_com_flag</th>\n",
       "      <th>cancer_com_flag</th>\n",
       "      <th>qSOFA_score</th>\n",
       "      <th>deid_empi_encounter</th>\n",
       "      <th>deid_mrn_encounter</th>\n",
       "      <th>deid_fin_encounter</th>\n",
       "    </tr>\n",
       "  </thead>\n",
       "  <tbody>\n",
       "    <tr>\n",
       "      <th>0</th>\n",
       "      <td>2020-08-25 20:51:00</td>\n",
       "      <td>2020-09-01 14:30:00</td>\n",
       "      <td>Shoal Creek</td>\n",
       "      <td>IP Private/Semi Private room</td>\n",
       "      <td>49</td>\n",
       "      <td>Male</td>\n",
       "      <td>Unknown</td>\n",
       "      <td>Hispanic or Latino</td>\n",
       "      <td>White</td>\n",
       "      <td>White Hispanic</td>\n",
       "      <td>...</td>\n",
       "      <td>False</td>\n",
       "      <td>False</td>\n",
       "      <td>False</td>\n",
       "      <td>False</td>\n",
       "      <td>False</td>\n",
       "      <td>False</td>\n",
       "      <td>NaN</td>\n",
       "      <td>4dMaH</td>\n",
       "      <td>61003</td>\n",
       "      <td>10650</td>\n",
       "    </tr>\n",
       "    <tr>\n",
       "      <th>1</th>\n",
       "      <td>2020-03-24 00:07:00</td>\n",
       "      <td>2020-03-26 18:30:00</td>\n",
       "      <td>Medical Center</td>\n",
       "      <td>IP ICU</td>\n",
       "      <td>44</td>\n",
       "      <td>Male</td>\n",
       "      <td>78130</td>\n",
       "      <td>Hispanic or Latino</td>\n",
       "      <td>White</td>\n",
       "      <td>White Hispanic</td>\n",
       "      <td>...</td>\n",
       "      <td>False</td>\n",
       "      <td>False</td>\n",
       "      <td>False</td>\n",
       "      <td>False</td>\n",
       "      <td>False</td>\n",
       "      <td>False</td>\n",
       "      <td>3.0</td>\n",
       "      <td>8wQnr</td>\n",
       "      <td>84969</td>\n",
       "      <td>27818</td>\n",
       "    </tr>\n",
       "    <tr>\n",
       "      <th>2</th>\n",
       "      <td>2020-03-25 13:25:00</td>\n",
       "      <td>2020-03-30 03:48:00</td>\n",
       "      <td>Medical Center</td>\n",
       "      <td>IP Private/Semi Private room</td>\n",
       "      <td>80</td>\n",
       "      <td>Female</td>\n",
       "      <td>78758</td>\n",
       "      <td>Not Hispanic or Latino</td>\n",
       "      <td>Black or African American</td>\n",
       "      <td>Other race Non Hispanic</td>\n",
       "      <td>...</td>\n",
       "      <td>True</td>\n",
       "      <td>False</td>\n",
       "      <td>True</td>\n",
       "      <td>True</td>\n",
       "      <td>True</td>\n",
       "      <td>False</td>\n",
       "      <td>1.0</td>\n",
       "      <td>6YGuu</td>\n",
       "      <td>69112</td>\n",
       "      <td>34412</td>\n",
       "    </tr>\n",
       "    <tr>\n",
       "      <th>3</th>\n",
       "      <td>2020-03-25 13:36:00</td>\n",
       "      <td>2020-03-27 13:15:00</td>\n",
       "      <td>Medical Center</td>\n",
       "      <td>IP Private/Semi Private room</td>\n",
       "      <td>56</td>\n",
       "      <td>Male</td>\n",
       "      <td>78746</td>\n",
       "      <td>Not Hispanic or Latino</td>\n",
       "      <td>White</td>\n",
       "      <td>White Non Hispanic</td>\n",
       "      <td>...</td>\n",
       "      <td>False</td>\n",
       "      <td>False</td>\n",
       "      <td>False</td>\n",
       "      <td>False</td>\n",
       "      <td>False</td>\n",
       "      <td>False</td>\n",
       "      <td>1.0</td>\n",
       "      <td>P1Tjg</td>\n",
       "      <td>84820</td>\n",
       "      <td>37981</td>\n",
       "    </tr>\n",
       "    <tr>\n",
       "      <th>4</th>\n",
       "      <td>2020-03-25 13:43:00</td>\n",
       "      <td>2020-03-27 12:44:00</td>\n",
       "      <td>Medical Center</td>\n",
       "      <td>IP Private/Semi Private room</td>\n",
       "      <td>46</td>\n",
       "      <td>Female</td>\n",
       "      <td>78757</td>\n",
       "      <td>Not Hispanic or Latino</td>\n",
       "      <td>White</td>\n",
       "      <td>White Non Hispanic</td>\n",
       "      <td>...</td>\n",
       "      <td>False</td>\n",
       "      <td>False</td>\n",
       "      <td>False</td>\n",
       "      <td>False</td>\n",
       "      <td>False</td>\n",
       "      <td>False</td>\n",
       "      <td>0.0</td>\n",
       "      <td>iouKO</td>\n",
       "      <td>76686</td>\n",
       "      <td>41152</td>\n",
       "    </tr>\n",
       "  </tbody>\n",
       "</table>\n",
       "<p>5 rows × 70 columns</p>\n",
       "</div>"
      ]
     },
     "metadata": {},
     "execution_count": 17
    }
   ],
   "metadata": {}
  },
  {
   "cell_type": "code",
   "execution_count": 23,
   "source": [
    "# Convert datetime in object format into datetime format\n",
    "df['admit_dt_tm'] = pd.to_datetime(df['admit_dt_tm'])\n",
    "df['discharge_dt_tm'] = pd.to_datetime(df['discharge_dt_tm'])"
   ],
   "outputs": [],
   "metadata": {}
  },
  {
   "cell_type": "code",
   "execution_count": 36,
   "source": [
    "df['admit_dt_tm'].nunique()"
   ],
   "outputs": [
    {
     "output_type": "execute_result",
     "data": {
      "text/plain": [
       "2457"
      ]
     },
     "metadata": {},
     "execution_count": 36
    }
   ],
   "metadata": {}
  },
  {
   "cell_type": "code",
   "execution_count": 34,
   "source": [
    "df.loc[df.duplicated(subset=['admit_dt_tm'])==True]"
   ],
   "outputs": [
    {
     "output_type": "execute_result",
     "data": {
      "text/plain": [
       "             admit_dt_tm     discharge_dt_tm                facility  \\\n",
       "148  2020-06-04 20:15:00 2020-06-06 21:46:00          Medical Center   \n",
       "502  2020-07-07 14:49:00 2020-07-09 15:00:00          Medical Center   \n",
       "592  2020-07-13 02:15:00 2020-07-17 20:05:00          Medical Center   \n",
       "1055 2020-06-12 22:59:00 2020-06-13 13:30:00  Dell Seton Med Cntr UT   \n",
       "1098 2020-06-17 20:20:00 2020-06-19 16:00:00  Dell Seton Med Cntr UT   \n",
       "1142 2020-06-22 20:03:00 2020-06-26 17:00:00  Dell Seton Med Cntr UT   \n",
       "1227 2020-06-29 22:54:00 2020-07-17 21:28:00  Dell Seton Med Cntr UT   \n",
       "1317 2020-07-06 10:42:00 2020-07-09 16:15:00  Dell Seton Med Cntr UT   \n",
       "1341 2020-07-08 19:25:00 2020-07-10 21:10:00  Dell Seton Med Cntr UT   \n",
       "1416 2020-07-16 16:07:00 2020-08-06 13:59:00  Dell Seton Med Cntr UT   \n",
       "2382 2020-11-03 21:29:00 2020-11-05 12:30:00         Dell Children's   \n",
       "2391 2020-11-06 14:54:00 2020-11-17 17:14:00                    Hays   \n",
       "\n",
       "            encounter_type_display  age_at_admit  gender zip_cust_table  \\\n",
       "148   IP Private/Semi Private room            26  Female          78752   \n",
       "502   IP Private/Semi Private room            94  Female          78702   \n",
       "592   IP Private/Semi Private room            29    Male          78750   \n",
       "1055                   Observation            25  Female          78744   \n",
       "1098               IP Private Room            24    Male          78724   \n",
       "1142               IP Private Room            87  Female          78703   \n",
       "1227               IP Private Room            65    Male          78957   \n",
       "1317               IP Private Room            90  Female          78745   \n",
       "1341               IP Private Room            76  Female          78644   \n",
       "1416               IP Private Room            92    Male          78653   \n",
       "2382  IP Private/Semi Private room            12    Male          78729   \n",
       "2391                        IP ICU            93  Female          78747   \n",
       "\n",
       "           ethnicity_display               race_display  \\\n",
       "148       Hispanic or Latino                      White   \n",
       "502       Hispanic or Latino                      White   \n",
       "592   Not Hispanic or Latino                      White   \n",
       "1055      Hispanic or Latino                      White   \n",
       "1098      Hispanic or Latino                      White   \n",
       "1142  Not Hispanic or Latino                      White   \n",
       "1227  Not Hispanic or Latino                      White   \n",
       "1317      Hispanic or Latino                      White   \n",
       "1341      Hispanic or Latino                      White   \n",
       "1416      Hispanic or Latino                      White   \n",
       "2382                 Unknown  Black or African American   \n",
       "2391      Hispanic or Latino                      White   \n",
       "\n",
       "                     race_eth_comb  ...  diabetes_com_flag  \\\n",
       "148                 White Hispanic  ...              False   \n",
       "502                 White Hispanic  ...              False   \n",
       "592             White Non Hispanic  ...              False   \n",
       "1055                White Hispanic  ...              False   \n",
       "1098                White Hispanic  ...              False   \n",
       "1142            White Non Hispanic  ...               True   \n",
       "1227            White Non Hispanic  ...               True   \n",
       "1317                White Hispanic  ...               True   \n",
       "1341                White Hispanic  ...               True   \n",
       "1416                White Hispanic  ...               True   \n",
       "2382  Other Race Unknown Ethnicity  ...              False   \n",
       "2391                White Hispanic  ...              False   \n",
       "\n",
       "     hypertension_com_flag CAD_com_flag heartfailure_com_flag CKD_com_flag  \\\n",
       "148                  False        False                 False        False   \n",
       "502                  False        False                  True        False   \n",
       "592                  False        False                 False        False   \n",
       "1055                 False        False                 False        False   \n",
       "1098                 False        False                 False         True   \n",
       "1142                 False         True                  True         True   \n",
       "1227                  True        False                 False        False   \n",
       "1317                  True        False                 False        False   \n",
       "1341                  True         True                 False         True   \n",
       "1416                 False        False                  True        False   \n",
       "2382                 False        False                 False        False   \n",
       "2391                  True        False                 False        False   \n",
       "\n",
       "     cancer_com_flag qSOFA_score deid_empi_encounter  deid_mrn_encounter  \\\n",
       "148            False         0.0               Y5Kyb               79711   \n",
       "502            False         2.0               WH0SC               60001   \n",
       "592            False         0.0               mz2z3               88944   \n",
       "1055            True         0.0               oyH7D               85723   \n",
       "1098           False         0.0               1IeAk               60290   \n",
       "1142           False         0.0               2fQon               69131   \n",
       "1227           False         1.0               uilI1               61120   \n",
       "1317            True         0.0               6GnLB               78552   \n",
       "1341           False         NaN               SaLut               75088   \n",
       "1416           False         1.0               nqyHy               70819   \n",
       "2382           False         1.0               tiqdb               75198   \n",
       "2391           False         0.0               FM0rn               65774   \n",
       "\n",
       "     deid_fin_encounter  \n",
       "148               27492  \n",
       "502               36361  \n",
       "592               39021  \n",
       "1055              30518  \n",
       "1098              12366  \n",
       "1142              46774  \n",
       "1227              20647  \n",
       "1317              17749  \n",
       "1341              31102  \n",
       "1416              35077  \n",
       "2382              16794  \n",
       "2391              49276  \n",
       "\n",
       "[12 rows x 70 columns]"
      ],
      "text/html": [
       "<div>\n",
       "<style scoped>\n",
       "    .dataframe tbody tr th:only-of-type {\n",
       "        vertical-align: middle;\n",
       "    }\n",
       "\n",
       "    .dataframe tbody tr th {\n",
       "        vertical-align: top;\n",
       "    }\n",
       "\n",
       "    .dataframe thead th {\n",
       "        text-align: right;\n",
       "    }\n",
       "</style>\n",
       "<table border=\"1\" class=\"dataframe\">\n",
       "  <thead>\n",
       "    <tr style=\"text-align: right;\">\n",
       "      <th></th>\n",
       "      <th>admit_dt_tm</th>\n",
       "      <th>discharge_dt_tm</th>\n",
       "      <th>facility</th>\n",
       "      <th>encounter_type_display</th>\n",
       "      <th>age_at_admit</th>\n",
       "      <th>gender</th>\n",
       "      <th>zip_cust_table</th>\n",
       "      <th>ethnicity_display</th>\n",
       "      <th>race_display</th>\n",
       "      <th>race_eth_comb</th>\n",
       "      <th>...</th>\n",
       "      <th>diabetes_com_flag</th>\n",
       "      <th>hypertension_com_flag</th>\n",
       "      <th>CAD_com_flag</th>\n",
       "      <th>heartfailure_com_flag</th>\n",
       "      <th>CKD_com_flag</th>\n",
       "      <th>cancer_com_flag</th>\n",
       "      <th>qSOFA_score</th>\n",
       "      <th>deid_empi_encounter</th>\n",
       "      <th>deid_mrn_encounter</th>\n",
       "      <th>deid_fin_encounter</th>\n",
       "    </tr>\n",
       "  </thead>\n",
       "  <tbody>\n",
       "    <tr>\n",
       "      <th>148</th>\n",
       "      <td>2020-06-04 20:15:00</td>\n",
       "      <td>2020-06-06 21:46:00</td>\n",
       "      <td>Medical Center</td>\n",
       "      <td>IP Private/Semi Private room</td>\n",
       "      <td>26</td>\n",
       "      <td>Female</td>\n",
       "      <td>78752</td>\n",
       "      <td>Hispanic or Latino</td>\n",
       "      <td>White</td>\n",
       "      <td>White Hispanic</td>\n",
       "      <td>...</td>\n",
       "      <td>False</td>\n",
       "      <td>False</td>\n",
       "      <td>False</td>\n",
       "      <td>False</td>\n",
       "      <td>False</td>\n",
       "      <td>False</td>\n",
       "      <td>0.0</td>\n",
       "      <td>Y5Kyb</td>\n",
       "      <td>79711</td>\n",
       "      <td>27492</td>\n",
       "    </tr>\n",
       "    <tr>\n",
       "      <th>502</th>\n",
       "      <td>2020-07-07 14:49:00</td>\n",
       "      <td>2020-07-09 15:00:00</td>\n",
       "      <td>Medical Center</td>\n",
       "      <td>IP Private/Semi Private room</td>\n",
       "      <td>94</td>\n",
       "      <td>Female</td>\n",
       "      <td>78702</td>\n",
       "      <td>Hispanic or Latino</td>\n",
       "      <td>White</td>\n",
       "      <td>White Hispanic</td>\n",
       "      <td>...</td>\n",
       "      <td>False</td>\n",
       "      <td>False</td>\n",
       "      <td>False</td>\n",
       "      <td>True</td>\n",
       "      <td>False</td>\n",
       "      <td>False</td>\n",
       "      <td>2.0</td>\n",
       "      <td>WH0SC</td>\n",
       "      <td>60001</td>\n",
       "      <td>36361</td>\n",
       "    </tr>\n",
       "    <tr>\n",
       "      <th>592</th>\n",
       "      <td>2020-07-13 02:15:00</td>\n",
       "      <td>2020-07-17 20:05:00</td>\n",
       "      <td>Medical Center</td>\n",
       "      <td>IP Private/Semi Private room</td>\n",
       "      <td>29</td>\n",
       "      <td>Male</td>\n",
       "      <td>78750</td>\n",
       "      <td>Not Hispanic or Latino</td>\n",
       "      <td>White</td>\n",
       "      <td>White Non Hispanic</td>\n",
       "      <td>...</td>\n",
       "      <td>False</td>\n",
       "      <td>False</td>\n",
       "      <td>False</td>\n",
       "      <td>False</td>\n",
       "      <td>False</td>\n",
       "      <td>False</td>\n",
       "      <td>0.0</td>\n",
       "      <td>mz2z3</td>\n",
       "      <td>88944</td>\n",
       "      <td>39021</td>\n",
       "    </tr>\n",
       "    <tr>\n",
       "      <th>1055</th>\n",
       "      <td>2020-06-12 22:59:00</td>\n",
       "      <td>2020-06-13 13:30:00</td>\n",
       "      <td>Dell Seton Med Cntr UT</td>\n",
       "      <td>Observation</td>\n",
       "      <td>25</td>\n",
       "      <td>Female</td>\n",
       "      <td>78744</td>\n",
       "      <td>Hispanic or Latino</td>\n",
       "      <td>White</td>\n",
       "      <td>White Hispanic</td>\n",
       "      <td>...</td>\n",
       "      <td>False</td>\n",
       "      <td>False</td>\n",
       "      <td>False</td>\n",
       "      <td>False</td>\n",
       "      <td>False</td>\n",
       "      <td>True</td>\n",
       "      <td>0.0</td>\n",
       "      <td>oyH7D</td>\n",
       "      <td>85723</td>\n",
       "      <td>30518</td>\n",
       "    </tr>\n",
       "    <tr>\n",
       "      <th>1098</th>\n",
       "      <td>2020-06-17 20:20:00</td>\n",
       "      <td>2020-06-19 16:00:00</td>\n",
       "      <td>Dell Seton Med Cntr UT</td>\n",
       "      <td>IP Private Room</td>\n",
       "      <td>24</td>\n",
       "      <td>Male</td>\n",
       "      <td>78724</td>\n",
       "      <td>Hispanic or Latino</td>\n",
       "      <td>White</td>\n",
       "      <td>White Hispanic</td>\n",
       "      <td>...</td>\n",
       "      <td>False</td>\n",
       "      <td>False</td>\n",
       "      <td>False</td>\n",
       "      <td>False</td>\n",
       "      <td>True</td>\n",
       "      <td>False</td>\n",
       "      <td>0.0</td>\n",
       "      <td>1IeAk</td>\n",
       "      <td>60290</td>\n",
       "      <td>12366</td>\n",
       "    </tr>\n",
       "    <tr>\n",
       "      <th>1142</th>\n",
       "      <td>2020-06-22 20:03:00</td>\n",
       "      <td>2020-06-26 17:00:00</td>\n",
       "      <td>Dell Seton Med Cntr UT</td>\n",
       "      <td>IP Private Room</td>\n",
       "      <td>87</td>\n",
       "      <td>Female</td>\n",
       "      <td>78703</td>\n",
       "      <td>Not Hispanic or Latino</td>\n",
       "      <td>White</td>\n",
       "      <td>White Non Hispanic</td>\n",
       "      <td>...</td>\n",
       "      <td>True</td>\n",
       "      <td>False</td>\n",
       "      <td>True</td>\n",
       "      <td>True</td>\n",
       "      <td>True</td>\n",
       "      <td>False</td>\n",
       "      <td>0.0</td>\n",
       "      <td>2fQon</td>\n",
       "      <td>69131</td>\n",
       "      <td>46774</td>\n",
       "    </tr>\n",
       "    <tr>\n",
       "      <th>1227</th>\n",
       "      <td>2020-06-29 22:54:00</td>\n",
       "      <td>2020-07-17 21:28:00</td>\n",
       "      <td>Dell Seton Med Cntr UT</td>\n",
       "      <td>IP Private Room</td>\n",
       "      <td>65</td>\n",
       "      <td>Male</td>\n",
       "      <td>78957</td>\n",
       "      <td>Not Hispanic or Latino</td>\n",
       "      <td>White</td>\n",
       "      <td>White Non Hispanic</td>\n",
       "      <td>...</td>\n",
       "      <td>True</td>\n",
       "      <td>True</td>\n",
       "      <td>False</td>\n",
       "      <td>False</td>\n",
       "      <td>False</td>\n",
       "      <td>False</td>\n",
       "      <td>1.0</td>\n",
       "      <td>uilI1</td>\n",
       "      <td>61120</td>\n",
       "      <td>20647</td>\n",
       "    </tr>\n",
       "    <tr>\n",
       "      <th>1317</th>\n",
       "      <td>2020-07-06 10:42:00</td>\n",
       "      <td>2020-07-09 16:15:00</td>\n",
       "      <td>Dell Seton Med Cntr UT</td>\n",
       "      <td>IP Private Room</td>\n",
       "      <td>90</td>\n",
       "      <td>Female</td>\n",
       "      <td>78745</td>\n",
       "      <td>Hispanic or Latino</td>\n",
       "      <td>White</td>\n",
       "      <td>White Hispanic</td>\n",
       "      <td>...</td>\n",
       "      <td>True</td>\n",
       "      <td>True</td>\n",
       "      <td>False</td>\n",
       "      <td>False</td>\n",
       "      <td>False</td>\n",
       "      <td>True</td>\n",
       "      <td>0.0</td>\n",
       "      <td>6GnLB</td>\n",
       "      <td>78552</td>\n",
       "      <td>17749</td>\n",
       "    </tr>\n",
       "    <tr>\n",
       "      <th>1341</th>\n",
       "      <td>2020-07-08 19:25:00</td>\n",
       "      <td>2020-07-10 21:10:00</td>\n",
       "      <td>Dell Seton Med Cntr UT</td>\n",
       "      <td>IP Private Room</td>\n",
       "      <td>76</td>\n",
       "      <td>Female</td>\n",
       "      <td>78644</td>\n",
       "      <td>Hispanic or Latino</td>\n",
       "      <td>White</td>\n",
       "      <td>White Hispanic</td>\n",
       "      <td>...</td>\n",
       "      <td>True</td>\n",
       "      <td>True</td>\n",
       "      <td>True</td>\n",
       "      <td>False</td>\n",
       "      <td>True</td>\n",
       "      <td>False</td>\n",
       "      <td>NaN</td>\n",
       "      <td>SaLut</td>\n",
       "      <td>75088</td>\n",
       "      <td>31102</td>\n",
       "    </tr>\n",
       "    <tr>\n",
       "      <th>1416</th>\n",
       "      <td>2020-07-16 16:07:00</td>\n",
       "      <td>2020-08-06 13:59:00</td>\n",
       "      <td>Dell Seton Med Cntr UT</td>\n",
       "      <td>IP Private Room</td>\n",
       "      <td>92</td>\n",
       "      <td>Male</td>\n",
       "      <td>78653</td>\n",
       "      <td>Hispanic or Latino</td>\n",
       "      <td>White</td>\n",
       "      <td>White Hispanic</td>\n",
       "      <td>...</td>\n",
       "      <td>True</td>\n",
       "      <td>False</td>\n",
       "      <td>False</td>\n",
       "      <td>True</td>\n",
       "      <td>False</td>\n",
       "      <td>False</td>\n",
       "      <td>1.0</td>\n",
       "      <td>nqyHy</td>\n",
       "      <td>70819</td>\n",
       "      <td>35077</td>\n",
       "    </tr>\n",
       "    <tr>\n",
       "      <th>2382</th>\n",
       "      <td>2020-11-03 21:29:00</td>\n",
       "      <td>2020-11-05 12:30:00</td>\n",
       "      <td>Dell Children's</td>\n",
       "      <td>IP Private/Semi Private room</td>\n",
       "      <td>12</td>\n",
       "      <td>Male</td>\n",
       "      <td>78729</td>\n",
       "      <td>Unknown</td>\n",
       "      <td>Black or African American</td>\n",
       "      <td>Other Race Unknown Ethnicity</td>\n",
       "      <td>...</td>\n",
       "      <td>False</td>\n",
       "      <td>False</td>\n",
       "      <td>False</td>\n",
       "      <td>False</td>\n",
       "      <td>False</td>\n",
       "      <td>False</td>\n",
       "      <td>1.0</td>\n",
       "      <td>tiqdb</td>\n",
       "      <td>75198</td>\n",
       "      <td>16794</td>\n",
       "    </tr>\n",
       "    <tr>\n",
       "      <th>2391</th>\n",
       "      <td>2020-11-06 14:54:00</td>\n",
       "      <td>2020-11-17 17:14:00</td>\n",
       "      <td>Hays</td>\n",
       "      <td>IP ICU</td>\n",
       "      <td>93</td>\n",
       "      <td>Female</td>\n",
       "      <td>78747</td>\n",
       "      <td>Hispanic or Latino</td>\n",
       "      <td>White</td>\n",
       "      <td>White Hispanic</td>\n",
       "      <td>...</td>\n",
       "      <td>False</td>\n",
       "      <td>True</td>\n",
       "      <td>False</td>\n",
       "      <td>False</td>\n",
       "      <td>False</td>\n",
       "      <td>False</td>\n",
       "      <td>0.0</td>\n",
       "      <td>FM0rn</td>\n",
       "      <td>65774</td>\n",
       "      <td>49276</td>\n",
       "    </tr>\n",
       "  </tbody>\n",
       "</table>\n",
       "<p>12 rows × 70 columns</p>\n",
       "</div>"
      ]
     },
     "metadata": {},
     "execution_count": 34
    }
   ],
   "metadata": {}
  },
  {
   "cell_type": "markdown",
   "source": [
    "## Extra data"
   ],
   "metadata": {}
  },
  {
   "cell_type": "code",
   "execution_count": 18,
   "source": [
    "display(df_extra.info())\n",
    "print(df_extra.shape)\n",
    "df_extra.head()"
   ],
   "outputs": [
    {
     "output_type": "stream",
     "name": "stdout",
     "text": [
      "<class 'pandas.core.frame.DataFrame'>\n",
      "RangeIndex: 33892 entries, 0 to 33891\n",
      "Data columns (total 5 columns):\n",
      " #   Column                Non-Null Count  Dtype  \n",
      "---  ------                --------------  -----  \n",
      " 0   medication_name       33892 non-null  object \n",
      " 1   dose_of_medication    33892 non-null  object \n",
      " 2   administration_dt_tm  33892 non-null  object \n",
      " 3   SOFA                  0 non-null      float64\n",
      " 4   deid_fin_encounter    33892 non-null  int64  \n",
      "dtypes: float64(1), int64(1), object(3)\n",
      "memory usage: 1.3+ MB\n"
     ]
    },
    {
     "output_type": "display_data",
     "data": {
      "text/plain": [
       "None"
      ]
     },
     "metadata": {}
    },
    {
     "output_type": "stream",
     "name": "stdout",
     "text": [
      "(33892, 5)\n"
     ]
    },
    {
     "output_type": "execute_result",
     "data": {
      "text/plain": [
       "  medication_name dose_of_medication           administration_dt_tm  SOFA  \\\n",
       "0  norepinephrine        0.030122 mg  2020-08-03T09:59:59.000-05:00   NaN   \n",
       "1  norepinephrine         0.11296 mg  2020-08-02T23:59:59.000-05:00   NaN   \n",
       "2  norepinephrine        0.077088 mg  2020-08-02T22:59:59.000-05:00   NaN   \n",
       "3  norepinephrine         mcg/kg/min  2020-08-03T09:15:00.000-05:00   NaN   \n",
       "4  norepinephrine        0.080864 mg  2020-08-03T05:59:59.000-05:00   NaN   \n",
       "\n",
       "   deid_fin_encounter  \n",
       "0               35541  \n",
       "1               35541  \n",
       "2               35541  \n",
       "3               35541  \n",
       "4               35541  "
      ],
      "text/html": [
       "<div>\n",
       "<style scoped>\n",
       "    .dataframe tbody tr th:only-of-type {\n",
       "        vertical-align: middle;\n",
       "    }\n",
       "\n",
       "    .dataframe tbody tr th {\n",
       "        vertical-align: top;\n",
       "    }\n",
       "\n",
       "    .dataframe thead th {\n",
       "        text-align: right;\n",
       "    }\n",
       "</style>\n",
       "<table border=\"1\" class=\"dataframe\">\n",
       "  <thead>\n",
       "    <tr style=\"text-align: right;\">\n",
       "      <th></th>\n",
       "      <th>medication_name</th>\n",
       "      <th>dose_of_medication</th>\n",
       "      <th>administration_dt_tm</th>\n",
       "      <th>SOFA</th>\n",
       "      <th>deid_fin_encounter</th>\n",
       "    </tr>\n",
       "  </thead>\n",
       "  <tbody>\n",
       "    <tr>\n",
       "      <th>0</th>\n",
       "      <td>norepinephrine</td>\n",
       "      <td>0.030122 mg</td>\n",
       "      <td>2020-08-03T09:59:59.000-05:00</td>\n",
       "      <td>NaN</td>\n",
       "      <td>35541</td>\n",
       "    </tr>\n",
       "    <tr>\n",
       "      <th>1</th>\n",
       "      <td>norepinephrine</td>\n",
       "      <td>0.11296 mg</td>\n",
       "      <td>2020-08-02T23:59:59.000-05:00</td>\n",
       "      <td>NaN</td>\n",
       "      <td>35541</td>\n",
       "    </tr>\n",
       "    <tr>\n",
       "      <th>2</th>\n",
       "      <td>norepinephrine</td>\n",
       "      <td>0.077088 mg</td>\n",
       "      <td>2020-08-02T22:59:59.000-05:00</td>\n",
       "      <td>NaN</td>\n",
       "      <td>35541</td>\n",
       "    </tr>\n",
       "    <tr>\n",
       "      <th>3</th>\n",
       "      <td>norepinephrine</td>\n",
       "      <td>mcg/kg/min</td>\n",
       "      <td>2020-08-03T09:15:00.000-05:00</td>\n",
       "      <td>NaN</td>\n",
       "      <td>35541</td>\n",
       "    </tr>\n",
       "    <tr>\n",
       "      <th>4</th>\n",
       "      <td>norepinephrine</td>\n",
       "      <td>0.080864 mg</td>\n",
       "      <td>2020-08-03T05:59:59.000-05:00</td>\n",
       "      <td>NaN</td>\n",
       "      <td>35541</td>\n",
       "    </tr>\n",
       "  </tbody>\n",
       "</table>\n",
       "</div>"
      ]
     },
     "metadata": {},
     "execution_count": 18
    }
   ],
   "metadata": {}
  },
  {
   "cell_type": "code",
   "execution_count": 11,
   "source": [
    "# Total number of patients who have medication admin data to calculate SOFA score\n",
    "df_extra['deid_fin_encounter'].nunique()"
   ],
   "outputs": [
    {
     "output_type": "execute_result",
     "data": {
      "text/plain": [
       "115"
      ]
     },
     "metadata": {},
     "execution_count": 11
    }
   ],
   "metadata": {}
  },
  {
   "cell_type": "markdown",
   "source": [
    "# Preprocess Data"
   ],
   "metadata": {}
  },
  {
   "cell_type": "markdown",
   "source": [
    "## Functions"
   ],
   "metadata": {}
  },
  {
   "cell_type": "markdown",
   "source": [
    "### Calculate qSOFA scores"
   ],
   "metadata": {}
  },
  {
   "cell_type": "code",
   "execution_count": 173,
   "source": [
    "# https://link.springer.com/content/pdf/10.1186/s12879-020-05102-7.pdf\n",
    "# https://www.ncbi.nlm.nih.gov/pmc/articles/PMC4968574/#BX3\n",
    "# https://jamanetwork.com/journals/jama/fullarticle/2492875\n",
    "# https://qsofa.org/what.php\n",
    "\n",
    "# qSOFA socre == 0 or 1: Low risk\n",
    "# qSOFA score == 2 or 3: High risk\n",
    "calibration_qsofa_mortality = {\n",
    "    0: 0.6,\n",
    "    1: 5,\n",
    "    2: 10,\n",
    "    3: 24\n",
    "}"
   ],
   "outputs": [],
   "metadata": {}
  },
  {
   "cell_type": "markdown",
   "source": [
    "### Calculate comorbidity conditions"
   ],
   "metadata": {}
  },
  {
   "cell_type": "code",
   "execution_count": 174,
   "source": [
    "def count_comorbidity(patient):\n",
    "    count = 0 \n",
    "    \n",
    "    if patient.COPD_com_flag == 1:\n",
    "        count += 1 \n",
    "        \n",
    "    if patient.asthma_com_flag == 1:\n",
    "        count += 1 \n",
    "        \n",
    "    if patient.diabetes_com_flag == 1:\n",
    "        count += 1 \n",
    "        \n",
    "    if patient.hypertension_com_flag == 1:\n",
    "        count += 1 \n",
    "        \n",
    "    if patient.CAD_com_flag == 1:\n",
    "        count += 1 \n",
    "        \n",
    "    if patient.heartfailure_com_flag == 1: \n",
    "        count += 1 \n",
    "        \n",
    "    if patient.CKD_com_flag == 1:\n",
    "        count += 1 \n",
    "        \n",
    "    if patient.cancer_com_flag == 1:\n",
    "        count += 1 \n",
    "        \n",
    "    return count"
   ],
   "outputs": [],
   "metadata": {}
  },
  {
   "cell_type": "markdown",
   "source": [
    "### Calculate percentage of deaths for each race"
   ],
   "metadata": {}
  },
  {
   "cell_type": "code",
   "execution_count": 175,
   "source": [
    "def percentage_death(race):\n",
    "    count = count_race[race.race]# Number of patients in their racial groups\n",
    "\n",
    "    return (race.count_death / count) * 100"
   ],
   "outputs": [],
   "metadata": {}
  },
  {
   "cell_type": "markdown",
   "source": [
    "## Create sample"
   ],
   "metadata": {}
  },
  {
   "cell_type": "markdown",
   "source": [
    "### Generate dataframe of ICU patients"
   ],
   "metadata": {}
  },
  {
   "cell_type": "code",
   "execution_count": 176,
   "source": [
    "# Patients who were admitted to ICU, had qSOFA scores, and were in one of racial groups (White, Black or African American, Hispanic or Latino, Asian)\n",
    "df_icu = df.loc[(df['icu_hours_summed'].notnull()) &\n",
    "                (df['qSOFA_score'].notnull())]"
   ],
   "outputs": [],
   "metadata": {}
  },
  {
   "cell_type": "markdown",
   "source": [
    "### Extract necessary columns"
   ],
   "metadata": {}
  },
  {
   "cell_type": "code",
   "execution_count": 177,
   "source": [
    "cols_sample = ['age_at_admit', 'gender', 'zip_cust_table', 'ethnicity_display', 'race_display', 'discharge_disposition_display',\n",
    "               'vent_hours_summed', 'icu_hours_summed', 'COPD_com_flag', 'asthma_com_flag', 'diabetes_com_flag',\n",
    "               'hypertension_com_flag', 'CAD_com_flag', 'heartfailure_com_flag', 'CKD_com_flag', 'cancer_com_flag',\n",
    "               'qSOFA_score', 'deid_fin_encounter']\n",
    "\n",
    "df_sample = df_icu[cols_sample].copy()"
   ],
   "outputs": [],
   "metadata": {}
  },
  {
   "cell_type": "markdown",
   "source": [
    "### Ethnicity/Race\n",
    "Make a distinction between White and Hispanic/Latino"
   ],
   "metadata": {}
  },
  {
   "cell_type": "code",
   "execution_count": 178,
   "source": [
    "ls_race = ['White', 'Black or African American', 'Hispanic or Latino', 'Asian']\n",
    "\n",
    "def latinx(patient):\n",
    "    if patient.ethnicity_display == 'Hispanic or Latino' and patient.race_display == 'White':\n",
    "        return \"Hispanic or Latino\"\n",
    "    elif patient.ethnicity_display == 'Not Hispanic or Latino' and patient.race_display == 'White': \n",
    "        return \"White\"\n",
    "    elif patient.race_display == 'Hispanic':\n",
    "        return \"Hispanic or Latino\"\n",
    "    else:\n",
    "        return patient.race_display\n",
    "\n",
    "df_sample['race_display'] = df_sample.apply(lambda patient: latinx(patient), axis=1)\n",
    "#df_sample = df_sample.loc[df['race_display']!='Native Hawaiian or Other Pacific Islande']\n",
    "df_sample = df_sample.loc[df['race_display'].isin(ls_race)]\n",
    "Counter(df_sample['race_display'])"
   ],
   "outputs": [
    {
     "output_type": "execute_result",
     "data": {
      "text/plain": [
       "Counter({'Hispanic or Latino': 356,\n",
       "         'White': 242,\n",
       "         'Black or African American': 59,\n",
       "         'Asian': 7})"
      ]
     },
     "metadata": {},
     "execution_count": 178
    }
   ],
   "metadata": {}
  },
  {
   "cell_type": "markdown",
   "source": [
    "### Impute Missing Values"
   ],
   "metadata": {}
  },
  {
   "cell_type": "code",
   "execution_count": 179,
   "source": [
    "# Fill missing values in columns related to comorbodity conditions with 0\n",
    "cols_comorbidity = ['COPD_com_flag', 'asthma_com_flag', 'diabetes_com_flag',\n",
    "                    'hypertension_com_flag', 'CAD_com_flag', 'heartfailure_com_flag',\n",
    "                    'CKD_com_flag', 'cancer_com_flag']\n",
    "\n",
    "df_sample[cols_comorbidity] = df_sample[cols_comorbidity].fillna(0)\n",
    "df_sample[cols_comorbidity] = df_sample[cols_comorbidity].astype(int)"
   ],
   "outputs": [],
   "metadata": {}
  },
  {
   "cell_type": "markdown",
   "source": [
    "### Add new columns"
   ],
   "metadata": {}
  },
  {
   "cell_type": "code",
   "execution_count": 180,
   "source": [
    "df_sample['count_comorbidity'] = df_sample.apply(lambda patient: count_comorbidity(patient), axis=1)\n",
    "df_sample['has_comorbidity'] = df_sample['count_comorbidity'].apply(lambda count: 1 if count >= 1 else 0)\n",
    "df_sample['life_years'] = df_sample['age_at_admit'].apply(lambda age: 100 - age)\n",
    "\n",
    "# Merge df_sample with zip_df\n",
    "df_zip = pd.read_csv('zip_code_data.csv', index_col=False)\n",
    "df_zip['zip_code'] = df_zip.zip_code.apply(lambda row: row.strip('ZCTA5 '))\n",
    "df_sample = pd.merge(df_sample, df_zip, left_on='zip_cust_table', right_on='zip_code', how='inner')\n",
    "df_sample.drop(columns=['zip_cust_table'], axis=1, inplace=True)\n",
    "\n",
    "print(df_sample.shape)\n",
    "df_sample.head()"
   ],
   "outputs": [
    {
     "output_type": "stream",
     "name": "stdout",
     "text": [
      "(602, 26)\n"
     ]
    },
    {
     "output_type": "execute_result",
     "data": {
      "text/plain": [
       "   age_at_admit  gender       ethnicity_display        race_display  \\\n",
       "0            44    Male      Hispanic or Latino  Hispanic or Latino   \n",
       "1            71    Male      Hispanic or Latino  Hispanic or Latino   \n",
       "2            71    Male      Hispanic or Latino  Hispanic or Latino   \n",
       "3            47  Female                 Unknown               White   \n",
       "4            49  Female  Not Hispanic or Latino               White   \n",
       "\n",
       "  discharge_disposition_display  vent_hours_summed  icu_hours_summed  \\\n",
       "0                       Expired              58.45             69.48   \n",
       "1                    Rehab Care             352.62            598.51   \n",
       "2          Skilled Nursing Care                NaN             21.50   \n",
       "3               Still a patient                NaN             43.03   \n",
       "4                          Home             293.02            160.17   \n",
       "\n",
       "   COPD_com_flag  asthma_com_flag  diabetes_com_flag  ...  deid_fin_encounter  \\\n",
       "0              0                0                  0  ...               27818   \n",
       "1              0                0                  1  ...               43894   \n",
       "2              0                0                  1  ...               48974   \n",
       "3              0                0                  0  ...               17000   \n",
       "4              0                0                  0  ...               23744   \n",
       "\n",
       "   count_comorbidity  has_comorbidity  life_years  zip_code  \\\n",
       "0                  0                0          56     78130   \n",
       "1                  2                1          29     78130   \n",
       "2                  3                1          29     78130   \n",
       "3                  0                0          53     78130   \n",
       "4                  0                0          51     78612   \n",
       "\n",
       "   male_poverty_rate  female_poverty_rate  median_income  mean_income  \\\n",
       "0                1.5                   10          65627        84515   \n",
       "1                1.5                   10          65627        84515   \n",
       "2                1.5                   10          65627        84515   \n",
       "3                1.5                   10          65627        84515   \n",
       "4                6.3                 10.9          69213        80458   \n",
       "\n",
       "   poverty_rate  \n",
       "0           9.5  \n",
       "1           9.5  \n",
       "2           9.5  \n",
       "3           9.5  \n",
       "4          10.6  \n",
       "\n",
       "[5 rows x 26 columns]"
      ],
      "text/html": [
       "<div>\n",
       "<style scoped>\n",
       "    .dataframe tbody tr th:only-of-type {\n",
       "        vertical-align: middle;\n",
       "    }\n",
       "\n",
       "    .dataframe tbody tr th {\n",
       "        vertical-align: top;\n",
       "    }\n",
       "\n",
       "    .dataframe thead th {\n",
       "        text-align: right;\n",
       "    }\n",
       "</style>\n",
       "<table border=\"1\" class=\"dataframe\">\n",
       "  <thead>\n",
       "    <tr style=\"text-align: right;\">\n",
       "      <th></th>\n",
       "      <th>age_at_admit</th>\n",
       "      <th>gender</th>\n",
       "      <th>ethnicity_display</th>\n",
       "      <th>race_display</th>\n",
       "      <th>discharge_disposition_display</th>\n",
       "      <th>vent_hours_summed</th>\n",
       "      <th>icu_hours_summed</th>\n",
       "      <th>COPD_com_flag</th>\n",
       "      <th>asthma_com_flag</th>\n",
       "      <th>diabetes_com_flag</th>\n",
       "      <th>...</th>\n",
       "      <th>deid_fin_encounter</th>\n",
       "      <th>count_comorbidity</th>\n",
       "      <th>has_comorbidity</th>\n",
       "      <th>life_years</th>\n",
       "      <th>zip_code</th>\n",
       "      <th>male_poverty_rate</th>\n",
       "      <th>female_poverty_rate</th>\n",
       "      <th>median_income</th>\n",
       "      <th>mean_income</th>\n",
       "      <th>poverty_rate</th>\n",
       "    </tr>\n",
       "  </thead>\n",
       "  <tbody>\n",
       "    <tr>\n",
       "      <th>0</th>\n",
       "      <td>44</td>\n",
       "      <td>Male</td>\n",
       "      <td>Hispanic or Latino</td>\n",
       "      <td>Hispanic or Latino</td>\n",
       "      <td>Expired</td>\n",
       "      <td>58.45</td>\n",
       "      <td>69.48</td>\n",
       "      <td>0</td>\n",
       "      <td>0</td>\n",
       "      <td>0</td>\n",
       "      <td>...</td>\n",
       "      <td>27818</td>\n",
       "      <td>0</td>\n",
       "      <td>0</td>\n",
       "      <td>56</td>\n",
       "      <td>78130</td>\n",
       "      <td>1.5</td>\n",
       "      <td>10</td>\n",
       "      <td>65627</td>\n",
       "      <td>84515</td>\n",
       "      <td>9.5</td>\n",
       "    </tr>\n",
       "    <tr>\n",
       "      <th>1</th>\n",
       "      <td>71</td>\n",
       "      <td>Male</td>\n",
       "      <td>Hispanic or Latino</td>\n",
       "      <td>Hispanic or Latino</td>\n",
       "      <td>Rehab Care</td>\n",
       "      <td>352.62</td>\n",
       "      <td>598.51</td>\n",
       "      <td>0</td>\n",
       "      <td>0</td>\n",
       "      <td>1</td>\n",
       "      <td>...</td>\n",
       "      <td>43894</td>\n",
       "      <td>2</td>\n",
       "      <td>1</td>\n",
       "      <td>29</td>\n",
       "      <td>78130</td>\n",
       "      <td>1.5</td>\n",
       "      <td>10</td>\n",
       "      <td>65627</td>\n",
       "      <td>84515</td>\n",
       "      <td>9.5</td>\n",
       "    </tr>\n",
       "    <tr>\n",
       "      <th>2</th>\n",
       "      <td>71</td>\n",
       "      <td>Male</td>\n",
       "      <td>Hispanic or Latino</td>\n",
       "      <td>Hispanic or Latino</td>\n",
       "      <td>Skilled Nursing Care</td>\n",
       "      <td>NaN</td>\n",
       "      <td>21.50</td>\n",
       "      <td>0</td>\n",
       "      <td>0</td>\n",
       "      <td>1</td>\n",
       "      <td>...</td>\n",
       "      <td>48974</td>\n",
       "      <td>3</td>\n",
       "      <td>1</td>\n",
       "      <td>29</td>\n",
       "      <td>78130</td>\n",
       "      <td>1.5</td>\n",
       "      <td>10</td>\n",
       "      <td>65627</td>\n",
       "      <td>84515</td>\n",
       "      <td>9.5</td>\n",
       "    </tr>\n",
       "    <tr>\n",
       "      <th>3</th>\n",
       "      <td>47</td>\n",
       "      <td>Female</td>\n",
       "      <td>Unknown</td>\n",
       "      <td>White</td>\n",
       "      <td>Still a patient</td>\n",
       "      <td>NaN</td>\n",
       "      <td>43.03</td>\n",
       "      <td>0</td>\n",
       "      <td>0</td>\n",
       "      <td>0</td>\n",
       "      <td>...</td>\n",
       "      <td>17000</td>\n",
       "      <td>0</td>\n",
       "      <td>0</td>\n",
       "      <td>53</td>\n",
       "      <td>78130</td>\n",
       "      <td>1.5</td>\n",
       "      <td>10</td>\n",
       "      <td>65627</td>\n",
       "      <td>84515</td>\n",
       "      <td>9.5</td>\n",
       "    </tr>\n",
       "    <tr>\n",
       "      <th>4</th>\n",
       "      <td>49</td>\n",
       "      <td>Female</td>\n",
       "      <td>Not Hispanic or Latino</td>\n",
       "      <td>White</td>\n",
       "      <td>Home</td>\n",
       "      <td>293.02</td>\n",
       "      <td>160.17</td>\n",
       "      <td>0</td>\n",
       "      <td>0</td>\n",
       "      <td>0</td>\n",
       "      <td>...</td>\n",
       "      <td>23744</td>\n",
       "      <td>0</td>\n",
       "      <td>0</td>\n",
       "      <td>51</td>\n",
       "      <td>78612</td>\n",
       "      <td>6.3</td>\n",
       "      <td>10.9</td>\n",
       "      <td>69213</td>\n",
       "      <td>80458</td>\n",
       "      <td>10.6</td>\n",
       "    </tr>\n",
       "  </tbody>\n",
       "</table>\n",
       "<p>5 rows × 26 columns</p>\n",
       "</div>"
      ]
     },
     "metadata": {},
     "execution_count": 180
    }
   ],
   "metadata": {}
  },
  {
   "cell_type": "code",
   "execution_count": 181,
   "source": [
    "count_race = Counter(df_sample['race_display'])\n",
    "count_race"
   ],
   "outputs": [
    {
     "output_type": "execute_result",
     "data": {
      "text/plain": [
       "Counter({'Hispanic or Latino': 330,\n",
       "         'White': 216,\n",
       "         'Black or African American': 51,\n",
       "         'Asian': 5})"
      ]
     },
     "metadata": {},
     "execution_count": 181
    }
   ],
   "metadata": {}
  },
  {
   "cell_type": "markdown",
   "source": [
    "# Calculate Mortality Probability"
   ],
   "metadata": {}
  },
  {
   "cell_type": "markdown",
   "source": [
    "1. Mortality probabilities corresponding to SOFA scores are calculated within ICU patients in the sample."
   ],
   "metadata": {}
  },
  {
   "cell_type": "code",
   "execution_count": 182,
   "source": [
    "len(df_sample.loc[df_sample['discharge_disposition_display']=='Expired'])"
   ],
   "outputs": [
    {
     "output_type": "execute_result",
     "data": {
      "text/plain": [
       "131"
      ]
     },
     "metadata": {},
     "execution_count": 182
    }
   ],
   "metadata": {}
  },
  {
   "cell_type": "code",
   "execution_count": 183,
   "source": [
    "len(df_sample.loc[df_sample['discharge_disposition_display']!='Expired'])"
   ],
   "outputs": [
    {
     "output_type": "execute_result",
     "data": {
      "text/plain": [
       "471"
      ]
     },
     "metadata": {},
     "execution_count": 183
    }
   ],
   "metadata": {}
  },
  {
   "cell_type": "code",
   "execution_count": 184,
   "source": [
    "df_reg_logistic[['qSOFA_score', 'discharge_disposition_display']] = df_reg_logistic[['qSOFA_score', 'discharge_disposition_display']].astype(int)"
   ],
   "outputs": [
    {
     "output_type": "error",
     "ename": "NameError",
     "evalue": "name 'df_reg_logistic' is not defined",
     "traceback": [
      "\u001b[0;31m---------------------------------------------------------------------------\u001b[0m",
      "\u001b[0;31mNameError\u001b[0m                                 Traceback (most recent call last)",
      "\u001b[0;32m<ipython-input-184-2308a2fd081a>\u001b[0m in \u001b[0;36m<module>\u001b[0;34m\u001b[0m\n\u001b[0;32m----> 1\u001b[0;31m \u001b[0mdf_reg_logistic\u001b[0m\u001b[0;34m[\u001b[0m\u001b[0;34m[\u001b[0m\u001b[0;34m'qSOFA_score'\u001b[0m\u001b[0;34m,\u001b[0m \u001b[0;34m'discharge_disposition_display'\u001b[0m\u001b[0;34m]\u001b[0m\u001b[0;34m]\u001b[0m \u001b[0;34m=\u001b[0m \u001b[0mdf_reg_logistic\u001b[0m\u001b[0;34m[\u001b[0m\u001b[0;34m[\u001b[0m\u001b[0;34m'qSOFA_score'\u001b[0m\u001b[0;34m,\u001b[0m \u001b[0;34m'discharge_disposition_display'\u001b[0m\u001b[0;34m]\u001b[0m\u001b[0;34m]\u001b[0m\u001b[0;34m.\u001b[0m\u001b[0mastype\u001b[0m\u001b[0;34m(\u001b[0m\u001b[0mint\u001b[0m\u001b[0;34m)\u001b[0m\u001b[0;34m\u001b[0m\u001b[0;34m\u001b[0m\u001b[0m\n\u001b[0m",
      "\u001b[0;31mNameError\u001b[0m: name 'df_reg_logistic' is not defined"
     ]
    }
   ],
   "metadata": {}
  },
  {
   "cell_type": "code",
   "execution_count": null,
   "source": [
    "df_reg_logistic[['qSOFA_score', 'discharge_disposition_display']].dtypes"
   ],
   "outputs": [
    {
     "output_type": "execute_result",
     "data": {
      "text/plain": [
       "qSOFA_score                      int64\n",
       "discharge_disposition_display    int64\n",
       "dtype: object"
      ]
     },
     "metadata": {},
     "execution_count": 551
    }
   ],
   "metadata": {}
  },
  {
   "cell_type": "code",
   "execution_count": null,
   "source": [
    "df_reg_logistic_tmp = df_reg_logistic[['qSOFA_score', 'discharge_disposition_display']].groupby('qSOFA_score').agg(['count', 'sum', 'mean']).reset_index()\n",
    "df_reg_logistic_tmp.rename(columns={'count': 'count_patient', 'sum': 'count_death', 'mean': 'percentage_death'})"
   ],
   "outputs": [
    {
     "output_type": "execute_result",
     "data": {
      "text/plain": [
       "  qSOFA_score discharge_disposition_display                             \n",
       "                              count_patient count_death percentage_death\n",
       "0         0.0                           161          30         0.186335\n",
       "1         1.0                           333          55         0.165165\n",
       "2         2.0                            94          40         0.425532\n",
       "3         3.0                            14           6         0.428571"
      ],
      "text/html": [
       "<div>\n",
       "<style scoped>\n",
       "    .dataframe tbody tr th:only-of-type {\n",
       "        vertical-align: middle;\n",
       "    }\n",
       "\n",
       "    .dataframe tbody tr th {\n",
       "        vertical-align: top;\n",
       "    }\n",
       "\n",
       "    .dataframe thead tr th {\n",
       "        text-align: left;\n",
       "    }\n",
       "</style>\n",
       "<table border=\"1\" class=\"dataframe\">\n",
       "  <thead>\n",
       "    <tr>\n",
       "      <th></th>\n",
       "      <th>qSOFA_score</th>\n",
       "      <th colspan=\"3\" halign=\"left\">discharge_disposition_display</th>\n",
       "    </tr>\n",
       "    <tr>\n",
       "      <th></th>\n",
       "      <th></th>\n",
       "      <th>count_patient</th>\n",
       "      <th>count_death</th>\n",
       "      <th>percentage_death</th>\n",
       "    </tr>\n",
       "  </thead>\n",
       "  <tbody>\n",
       "    <tr>\n",
       "      <th>0</th>\n",
       "      <td>0.0</td>\n",
       "      <td>161</td>\n",
       "      <td>30</td>\n",
       "      <td>0.186335</td>\n",
       "    </tr>\n",
       "    <tr>\n",
       "      <th>1</th>\n",
       "      <td>1.0</td>\n",
       "      <td>333</td>\n",
       "      <td>55</td>\n",
       "      <td>0.165165</td>\n",
       "    </tr>\n",
       "    <tr>\n",
       "      <th>2</th>\n",
       "      <td>2.0</td>\n",
       "      <td>94</td>\n",
       "      <td>40</td>\n",
       "      <td>0.425532</td>\n",
       "    </tr>\n",
       "    <tr>\n",
       "      <th>3</th>\n",
       "      <td>3.0</td>\n",
       "      <td>14</td>\n",
       "      <td>6</td>\n",
       "      <td>0.428571</td>\n",
       "    </tr>\n",
       "  </tbody>\n",
       "</table>\n",
       "</div>"
      ]
     },
     "metadata": {},
     "execution_count": 321
    }
   ],
   "metadata": {}
  },
  {
   "cell_type": "code",
   "execution_count": null,
   "source": [
    "df_reg_logistic[['deid_fin_encounter', 'qSOFA_score', 'discharge_disposition_display']].groupby(['qSOFA_score', 'discharge_disposition_display']).count()\n",
    "#df_reg_logistic_tmp = df_reg_logistic[['qSOFA_score', 'discharge_disposition_display']].groupby(['qSOFA_score', 'discharge_disposition_display']).agg(['count', 'sum', 'mean']).reset_index()\n",
    "#df_reg_logistic_tmp.rename(columns={'count': 'count_patient', 'sum': 'count_death', 'mean': 'percentage_death'})"
   ],
   "outputs": [
    {
     "output_type": "execute_result",
     "data": {
      "text/plain": [
       "                                           deid_fin_encounter\n",
       "qSOFA_score discharge_disposition_display                    \n",
       "0           0                                             131\n",
       "            1                                              30\n",
       "1           0                                             278\n",
       "            1                                              55\n",
       "2           0                                              54\n",
       "            1                                              40\n",
       "3           0                                               8\n",
       "            1                                               6"
      ],
      "text/html": [
       "<div>\n",
       "<style scoped>\n",
       "    .dataframe tbody tr th:only-of-type {\n",
       "        vertical-align: middle;\n",
       "    }\n",
       "\n",
       "    .dataframe tbody tr th {\n",
       "        vertical-align: top;\n",
       "    }\n",
       "\n",
       "    .dataframe thead th {\n",
       "        text-align: right;\n",
       "    }\n",
       "</style>\n",
       "<table border=\"1\" class=\"dataframe\">\n",
       "  <thead>\n",
       "    <tr style=\"text-align: right;\">\n",
       "      <th></th>\n",
       "      <th></th>\n",
       "      <th>deid_fin_encounter</th>\n",
       "    </tr>\n",
       "    <tr>\n",
       "      <th>qSOFA_score</th>\n",
       "      <th>discharge_disposition_display</th>\n",
       "      <th></th>\n",
       "    </tr>\n",
       "  </thead>\n",
       "  <tbody>\n",
       "    <tr>\n",
       "      <th rowspan=\"2\" valign=\"top\">0</th>\n",
       "      <th>0</th>\n",
       "      <td>131</td>\n",
       "    </tr>\n",
       "    <tr>\n",
       "      <th>1</th>\n",
       "      <td>30</td>\n",
       "    </tr>\n",
       "    <tr>\n",
       "      <th rowspan=\"2\" valign=\"top\">1</th>\n",
       "      <th>0</th>\n",
       "      <td>278</td>\n",
       "    </tr>\n",
       "    <tr>\n",
       "      <th>1</th>\n",
       "      <td>55</td>\n",
       "    </tr>\n",
       "    <tr>\n",
       "      <th rowspan=\"2\" valign=\"top\">2</th>\n",
       "      <th>0</th>\n",
       "      <td>54</td>\n",
       "    </tr>\n",
       "    <tr>\n",
       "      <th>1</th>\n",
       "      <td>40</td>\n",
       "    </tr>\n",
       "    <tr>\n",
       "      <th rowspan=\"2\" valign=\"top\">3</th>\n",
       "      <th>0</th>\n",
       "      <td>8</td>\n",
       "    </tr>\n",
       "    <tr>\n",
       "      <th>1</th>\n",
       "      <td>6</td>\n",
       "    </tr>\n",
       "  </tbody>\n",
       "</table>\n",
       "</div>"
      ]
     },
     "metadata": {},
     "execution_count": 339
    }
   ],
   "metadata": {}
  },
  {
   "cell_type": "code",
   "execution_count": null,
   "source": [
    "131/602"
   ],
   "outputs": [
    {
     "output_type": "execute_result",
     "data": {
      "text/plain": [
       "0.21760797342192692"
      ]
     },
     "metadata": {},
     "execution_count": 324
    }
   ],
   "metadata": {}
  },
  {
   "cell_type": "code",
   "execution_count": null,
   "source": [
    "30/131"
   ],
   "outputs": [
    {
     "output_type": "execute_result",
     "data": {
      "text/plain": [
       "0.22900763358778625"
      ]
     },
     "metadata": {},
     "execution_count": 325
    }
   ],
   "metadata": {}
  },
  {
   "cell_type": "code",
   "execution_count": null,
   "source": [
    "55/131"
   ],
   "outputs": [
    {
     "output_type": "execute_result",
     "data": {
      "text/plain": [
       "0.4198473282442748"
      ]
     },
     "metadata": {},
     "execution_count": 326
    }
   ],
   "metadata": {}
  },
  {
   "cell_type": "code",
   "execution_count": null,
   "source": [
    "40/131"
   ],
   "outputs": [
    {
     "output_type": "execute_result",
     "data": {
      "text/plain": [
       "0.3053435114503817"
      ]
     },
     "metadata": {},
     "execution_count": 328
    }
   ],
   "metadata": {}
  },
  {
   "cell_type": "code",
   "execution_count": null,
   "source": [
    "6/131"
   ],
   "outputs": [
    {
     "output_type": "execute_result",
     "data": {
      "text/plain": [
       "0.04580152671755725"
      ]
     },
     "metadata": {},
     "execution_count": 329
    }
   ],
   "metadata": {}
  },
  {
   "cell_type": "code",
   "execution_count": null,
   "source": [
    "from sklearn.linear_model import LogisticRegression\n",
    "from sklearn.model_selection import train_test_split\n",
    "import statsmodels.api as sm\n",
    "\n",
    "df_reg_logistic = df_sample.copy()\n",
    "#df_reg_logistic.loc[df_reg_logistic['discharge_disposition_display']!='Expired', 'discharge_disposition_display'] = 'Not Expired'\n",
    "df_reg_logistic.loc[df_reg_logistic['discharge_disposition_display']!='Expired', 'discharge_disposition_display'] = 0\n",
    "df_reg_logistic.loc[df_reg_logistic['discharge_disposition_display']=='Expired', 'discharge_disposition_display'] = 1\n",
    "df_reg_logistic['discharge_disposition_display'] = df_reg_logistic['discharge_disposition_display'].astype(int)\n",
    "\n",
    "X = df_reg_logistic[['qSOFA_score']]                        # Dependent variable\n",
    "y = df_reg_logistic['discharge_disposition_display']       # Independent variable, and it is needed to be preprocessed to make binary category\n",
    "\n",
    "#X_train, X_test, y_train, y_test = train_test_split(X, y, test_size=.2, random_state=10)\n",
    "\n",
    "reg_logistic = LogisticRegression()\n",
    "reg_logistic.fit(X, y)\n",
    "#reg_logistic.fit(X_train, y_train)\n",
    "y_pred_prob = reg_logistic.predict_proba(X)\n",
    "#y_pred_prob = reg_logistic.predict(X_test)\n",
    "print(y_pred_prob)\n",
    "\n",
    "#for i in range(len(y_pred_prob)):   # For each patient, assign mortality probabilty\n",
    "#    df_sample['mortality_prob'] = y_pred_prob[i][1]\n",
    "\n",
    "#print(df_reg_logistic['mortality_prob'].groupby('qSOFA_score').agg('mean'))    # Display means of mortality probabilities in each SOFA score group\n",
    "#\n",
    "#reg_log = sm.Logit(y, X).fit()\n",
    "#print(reg_log.summary())"
   ],
   "outputs": [
    {
     "output_type": "stream",
     "name": "stdout",
     "text": [
      "[[0.54251046 0.45748954]\n",
      " [0.67454042 0.32545958]\n",
      " [0.78366157 0.21633843]\n",
      " ...\n",
      " [0.78366157 0.21633843]\n",
      " [0.78366157 0.21633843]\n",
      " [0.86359473 0.13640527]]\n"
     ]
    }
   ],
   "metadata": {}
  },
  {
   "cell_type": "code",
   "execution_count": null,
   "source": [
    "len(y_pred_prob)"
   ],
   "outputs": [
    {
     "output_type": "execute_result",
     "data": {
      "text/plain": [
       "602"
      ]
     },
     "metadata": {},
     "execution_count": 344
    }
   ],
   "metadata": {}
  },
  {
   "cell_type": "code",
   "execution_count": null,
   "source": [
    "cnt = 0\n",
    "for i in range(len(y_pred_prob)):\n",
    "    \n",
    "    if y_pred_prob[i][0] > y_pred_prob[i][1]:\n",
    "        #print(y_pred_prob[i])\n",
    "        cnt += 1\n",
    "        \n",
    "print(cnt)"
   ],
   "outputs": [
    {
     "output_type": "stream",
     "name": "stdout",
     "text": [
      "602\n"
     ]
    }
   ],
   "metadata": {}
  },
  {
   "cell_type": "markdown",
   "source": [
    "2. Moratlity probabilities corresponding to SOFA scores within the same racial group"
   ],
   "metadata": {}
  },
  {
   "cell_type": "code",
   "execution_count": null,
   "source": [
    "reg_logistic.classes_"
   ],
   "outputs": [
    {
     "output_type": "execute_result",
     "data": {
      "text/plain": [
       "array([0, 1])"
      ]
     },
     "metadata": {},
     "execution_count": 310
    }
   ],
   "metadata": {}
  },
  {
   "cell_type": "code",
   "execution_count": null,
   "source": [
    "for race in col_race:   # Iterate \n",
    "    X = df_sample.loc[df_sample['SOFA_score'] & df_sample['race_display']==race]                          # Dependent variable\n",
    "    y = df_sample.loc[df_sample['discharge_disposition_display'] & df_sample['race_display']==race]       # Independent variable\n",
    "\n",
    "    #X_train, X_test, y_train, y_test = train_test_split(X, y, test_size=.2, random_state=10)\n",
    "\n",
    "    reg_logistic = LogisticRegression()\n",
    "    reg_logistic.fit(X, y)\n",
    "    y_pred_prob = reg_logistic.predict_proba(X)\n",
    "    print(y_pred_prob)\n",
    "\n",
    "    for i in range(len(y_pred_prob)):   # For each patient, assign mortality probabilty\n",
    "        df_sample['mortality_prob'] = y_pred_prob[i][1]\n",
    "\n",
    "    print(df_sample['mortality_prob'].groupby('SOFA_score').agg('mean'))    # Display means of mortality probabilities in each SOFA score group\n",
    "\n",
    "    reg_log = sm.Logit(y, X).fit()\n",
    "    print(reg_log.summary())"
   ],
   "outputs": [],
   "metadata": {}
  },
  {
   "cell_type": "markdown",
   "source": [
    "3. Mortality probabilities corresponding to a specific subscore, respiratory failure, of SOFA scores"
   ],
   "metadata": {}
  },
  {
   "cell_type": "code",
   "execution_count": null,
   "source": [
    "X = df_sample.loc[df_sample['SOFA_score']=='respiratory']   # Dependent variable: Only respriatory failure\n",
    "y = df_sample['discharge_disposition_display']              #  Independent variable, and it is needed to be preprocessed to make binary category\n",
    "\n",
    "#X_train, X_test, y_train, y_test = train_test_split(X, y, test_size=.2, random_state=10)\n",
    "\n",
    "reg_logistic = LogisticRegression()\n",
    "reg_logistic.fit(X, y)\n",
    "y_pred_prob = reg_logistic.predict_proba(X)\n",
    "print(y_pred_prob)\n",
    "\n",
    "for i in range(len(y_pred_prob)):   # For each patient, assign mortality probabilty\n",
    "    df_sample['mortality_prob'] = y_pred_prob[i][1]\n",
    "\n",
    "print(df_sample['mortality_prob'].groupby('SOFA_score').agg('mean'))    # Display means of mortality probabilities in each SOFA score group\n",
    "\n",
    "reg_log = sm.Logit(y, X).fit()\n",
    "print(reg_log.summary())"
   ],
   "outputs": [],
   "metadata": {}
  },
  {
   "cell_type": "markdown",
   "source": [
    "# Develop allocation"
   ],
   "metadata": {}
  },
  {
   "cell_type": "code",
   "execution_count": 185,
   "source": [
    "# The number of simulations\n",
    "iter_simulation = 1000\n",
    "\n",
    "# Levels of ventilator scarcity\n",
    "scarcity_indicator_level = np.linspace(0,1,11)\n",
    "scarcity_indicator_level.round(1)\n",
    "scarcity_indicator_level"
   ],
   "outputs": [
    {
     "output_type": "execute_result",
     "data": {
      "text/plain": [
       "array([0. , 0.1, 0.2, 0.3, 0.4, 0.5, 0.6, 0.7, 0.8, 0.9, 1. ])"
      ]
     },
     "metadata": {},
     "execution_count": 185
    }
   ],
   "metadata": {}
  },
  {
   "cell_type": "code",
   "execution_count": 186,
   "source": [
    "class Allocation(object):\n",
    "  \n",
    "    def __init__(self, df, scarcity_level, calibration_qsofa_mortality):\n",
    "        self.patients = df.copy() \n",
    "        self.patients['death'] = [0 for _ in range(len(self.patients))]             # All patients are initially set to survive\n",
    "        self.patients['allocate_vent'] = [0 for _ in range(len(self.patients))]     # All patients are not initially allocated to ventilators  \n",
    "        self.num_vents = int(len(self.patients) * scarcity_level)                   # Number of ventilators available\n",
    "        self.model_mortality = calibration_qsofa_mortality\n",
    "        \n",
    "    def __run_allocation(self, df, flag_simulation):\n",
    "        df_patients_priotized = df.copy()\n",
    "\n",
    "        for i, patient in df_patients_priotized.iterrows():     # Allocate a patient to ventilator\n",
    "            if self.num_vents == 0:                             # If no ventialtors available, then stop allocating ventilators\n",
    "                break\n",
    "            \n",
    "            mortality, flag_alloc = self.allocate(patient, flag_simulation)\n",
    "                \n",
    "            df_patients_priotized.loc[i, 'death'] = mortality\n",
    "            df_patients_priotized.loc[i, 'allocate_vent'] = flag_alloc\n",
    "            \n",
    "            self.num_vents -= 1\n",
    "    \n",
    "        allocated = df_patients_priotized.loc[df_patients_priotized['allocate_vent']==1]\n",
    "        allocated_not = df_patients_priotized.loc[df_patients_priotized['allocate_vent']==0]\n",
    "        \n",
    "        allocated_not_adj = self.check_expiration(allocated_not)\n",
    "        \n",
    "        return pd.concat([allocated, allocated_not_adj]) \n",
    "    \n",
    "    def allocate(self, row, flag_simulation):\n",
    "        patient = row.copy()\n",
    "\n",
    "        prob_mortality = self.model_mortality[patient.qSOFA_score]      # Get mortality probability corresponding to a patient's qSOFA score\n",
    "        \n",
    "        if flag_simulation == 0:    # Analytical approach\n",
    "            if patient['vent_hours_summed']==np.nan and patient['discharge_disposition_display'] == 'Expired': # Need to research\n",
    "                return 1, 1\n",
    "            elif patient['vent_hours_summed']==np.nan and patient['discharge_disposition_display'] != 'Expired':\n",
    "                return 0, 1\n",
    "            elif patient['vent_hours_summed']!=np.nan and patient['discharge_disposition_display'] == 'Expired':\n",
    "                return 1, 1\n",
    "            elif patient['vent_hours_summed']!=np.nan and patient['discharge_disposition_display'] != 'Expired':\n",
    "                return 0, 1\n",
    "\n",
    "        elif flag_simulation == 1:  # Simulation approach\n",
    "            if patient['vent_hours_summed']==np.nan and patient['discharge_disposition_display'] == 'Expired': # Need to research\n",
    "                return 1, 1\n",
    "            elif patient['vent_hours_summed']==np.nan and patient['discharge_disposition_display'] != 'Expired':\n",
    "                return 0, 1\n",
    "            elif patient['vent_hours_summed']!=np.nan and patient['discharge_disposition_display'] == 'Expired':\n",
    "                return 1, 1\n",
    "            elif patient['vent_hours_summed']!=np.nan and patient['discharge_disposition_display'] != 'Expired':\n",
    "                return 0, 1\n",
    "            #death = np.random.binomial(size=1, n=1, p=prob_mortality*.01)[0]\n",
    "\n",
    "            #if death == 1 or patient.discharge_disposition_display == 'Expired':\n",
    "            #if patient.qSOFA_score >= 2 or patient.discharge_disposition_display == 'Expired': # High risk\n",
    "            '''if prob_mortality >= 10 or patient.discharge_disposition_display == 'Expired': # High risk\n",
    "                return 1, 1\n",
    "            else:\n",
    "                return 0, 1'''\n",
    "        \n",
    "        '''if flag_simulation == 0:    # Analytical approach\n",
    "            #if patient.qSOFA_score >= 2 or patient.discharge_disposition_display == 'Expired': # High risk\n",
    "            if prob_mortality >= 10 or patient.discharge_disposition_display == 'Expired': # High risk\n",
    "                return 1, 1\n",
    "            else:   # Low risk\n",
    "                return 0, 1\n",
    "        elif flag_simulation == 1:  # Simulation approach\n",
    "            #death = np.random.binomial(size=1, n=1, p=prob_mortality*.01)[0]\n",
    "\n",
    "            #if death == 1 or patient.discharge_disposition_display == 'Expired':\n",
    "            #if patient.qSOFA_score >= 2 or patient.discharge_disposition_display == 'Expired': # High risk\n",
    "            if prob_mortality >= 10 or patient.discharge_disposition_display == 'Expired': # High risk\n",
    "                return 1, 1\n",
    "            else:\n",
    "                return 0, 1'''\n",
    "    \n",
    "    def check_expiration(self, df): # Mortality for patients not admitted to ventilators\n",
    "        allocated_not = df.copy()\n",
    "\n",
    "        for i, patient in df.iterrows():\n",
    "            patient = patient.copy()\n",
    "\n",
    "            if patient['vent_hours_summed']==np.nan and patient['discharge_disposition_display'] == 'Expired':\n",
    "                allocated_not.loc[i, 'death'] = 1\n",
    "            elif patient['vent_hours_summed']==np.nan and patient['discharge_disposition_display'] != 'Expired':\n",
    "                allocated_not.loc[i, 'death'] = 0\n",
    "            elif patient['vent_hours_summed']!=np.nan and patient['discharge_disposition_display'] == 'Expired':\n",
    "                allocated_not.loc[i, 'death'] = 1\n",
    "            elif patient['vent_hours_summed']!=np.nan and patient['discharge_disposition_display'] != 'Expired':  # Need to research\n",
    "                allocated_not.loc[i, 'death'] = 1\n",
    "\n",
    "            '''if (pd.isna(patient.vent_hours_summed)) or patient.discharge_disposition_display == 'Expired':  # A patient did not receive a ventilator in the observed data and the simulation\n",
    "                allocated_not.loc[i, 'death'] = 1\n",
    "            else:\n",
    "                allocated_not.loc[i, 'death'] = 0'''\n",
    "                         \n",
    "        return allocated_not\n",
    "    \n",
    "    def __categorize_age(self, patient):    # Life-cycle consideration delineated in Maryland CSC\n",
    "        if patient.age_at_admit < 50:\n",
    "            return 1 \n",
    "        elif patient.age_at_admit < 70: \n",
    "            return 2 \n",
    "        elif patient.age_at_admit < 85:\n",
    "            return 3 \n",
    "        else:\n",
    "            return 4\n",
    "    \n",
    "    '''\n",
    "    State-level Crisis Standards of Care (CSC)\n",
    "    '''\n",
    "    def new_york(self):\n",
    "        df_patients = self.patients.copy()\n",
    "        flag_simulation = 0\n",
    "\n",
    "        # Prioritize patients by shuffling orders within patients having the same qSOFA scores\n",
    "        groups_qsofa = [df for _, df in df_patients.groupby('qSOFA_score')]      # Group patients based on qSOFA scores\n",
    "        random.shuffle(groups_qsofa)                                             # Shuffle patients in each qSOFA score group randomly\n",
    "        df_prioritized = pd.concat(groups_qsofa).reset_index(drop=True)             # Re-combine groups seperated by qSOFA scores\n",
    "        df_prioritized.sort_values('qSOFA_score', ascending=True, inplace=True)     # Sort patients by qSOFA scores in ascending order\n",
    "        \n",
    "        # Allocate ventilators to patients\n",
    "        df_allocated = self.__run_allocation(df_prioritized, flag_simulation)\n",
    "\n",
    "        return df_allocated\n",
    "    \n",
    "    def maryland(self):\n",
    "        df_patients = self.patients.copy()\n",
    "        flag_simulation = 0\n",
    "\n",
    "        # Assign patients into age catetory\n",
    "        df_patients['cat_age'] = df_patients.apply(lambda patient: self.__categorize_age(patient), axis=1)     # Categorize patients' age\n",
    "    \n",
    "        # Prioritize patients who have lower SOFA score first, then small amount of comorbidities, and finally are in youger age category first\n",
    "        df_patients.sort_values(by=['qSOFA_score', 'count_comorbidity', 'cat_age'], ascending=[True, True, True], inplace=True)\n",
    "        df_prioritized = df_patients.copy()\n",
    "        # Allocate ventilators to patients\n",
    "        df_allocated = self.__run_allocation(df_prioritized, flag_simulation)\n",
    "\n",
    "        return df_allocated \n",
    "    \n",
    "    '''\n",
    "    Non State-level Crisis Standards of Care (CSC)\n",
    "    '''\n",
    "    def max_lives_saved(self):\n",
    "        df_patients = self.patients.copy()\n",
    "        flag_simulation = 0\n",
    "        \n",
    "        # Prioritize patients who have lower SOFA scores first\n",
    "        df_patients.sort_values(by=['qSOFA_score'], ascending=True, inplace=True)\n",
    "        df_prioritized = df_patients.copy()\n",
    "        \n",
    "        # Allocate ventilators to patients\n",
    "        df_allocated = self.__run_allocation(df_prioritized, flag_simulation)\n",
    "\n",
    "        return df_allocated \n",
    "    \n",
    "    def max_life_years(self):\n",
    "        df_patients = self.patients.copy()\n",
    "        flag_simulation = 0\n",
    "\n",
    "        # Prioritize patients who have lower SOFA scores and then more life years to live\n",
    "        df_patients.sort_values(by=['qSOFA_score', 'life_years'], ascending=[True,False], inplace=True)\n",
    "        df_prioritized = df_patients.copy()\n",
    "\n",
    "        # Allocate ventilators to patients\n",
    "        df_allocated = self.__run_allocation(df_prioritized, flag_simulation)\n",
    "\n",
    "        return df_allocated \n",
    "    \n",
    "    def youngest(self):\n",
    "        df_patients = self.patients.copy()\n",
    "        flag_simulation = 0\n",
    "        \n",
    "        # Prioritize patients who are younger first\n",
    "        df_patients.sort_values(by=['age_at_admit'], ascending=True, inplace=True)\n",
    "        df_prioritized = df_patients.copy()\n",
    "        \n",
    "        # Allocate ventilators to patients\n",
    "        df_allocated = self.__run_allocation(df_prioritized, flag_simulation)\n",
    "\n",
    "        return df_allocated \n",
    "        \n",
    "    def sickest(self):\n",
    "        df_patients = self.patients.copy()\n",
    "        flag_simulation = 0\n",
    "        \n",
    "        # Prioritize patients who have higher SOFA scores first\n",
    "        df_patients.sort_values(by=['qSOFA_score'], ascending=False, inplace=True)\n",
    "        df_prioritized = df_patients.copy()\n",
    "        \n",
    "        # Allocate ventilators to patients\n",
    "        df_allocated = self.__run_allocation(df_prioritized, flag_simulation)\n",
    "\n",
    "        return df_allocated\n",
    "    \n",
    "    def lottery(self):\n",
    "        df_patients = self.patients.copy()\n",
    "        flag_simulation = 1\n",
    "        \n",
    "        # Prioritize patients by shuffling them and get a sample including all patients(frac=1)\n",
    "        df_patients.sample(frac=1)\n",
    "        df_prioritized = df_patients.copy()\n",
    "        \n",
    "        # Allocate ventilators to patients\n",
    "        df_allocated = self.__run_allocation(df_prioritized, flag_simulation)\n",
    "\n",
    "        return df_allocated \n",
    "        "
   ],
   "outputs": [],
   "metadata": {}
  },
  {
   "cell_type": "markdown",
   "source": [
    "# Allocate ventilators (Baseline)"
   ],
   "metadata": {}
  },
  {
   "cell_type": "code",
   "execution_count": 187,
   "source": [
    "death_race_baseline = Counter(df_sample.loc[df_sample['discharge_disposition_display']=='Expired']['race_display'])\n",
    "pd.DataFrame.from_dict(death_race_baseline, orient='index', columns=['count_death']).reset_index().rename(columns={'index': 'race'})"
   ],
   "outputs": [
    {
     "output_type": "execute_result",
     "data": {
      "text/plain": [
       "                        race  count_death\n",
       "0         Hispanic or Latino           76\n",
       "1                      White           37\n",
       "2  Black or African American           15\n",
       "3                      Asian            3"
      ],
      "text/html": [
       "<div>\n",
       "<style scoped>\n",
       "    .dataframe tbody tr th:only-of-type {\n",
       "        vertical-align: middle;\n",
       "    }\n",
       "\n",
       "    .dataframe tbody tr th {\n",
       "        vertical-align: top;\n",
       "    }\n",
       "\n",
       "    .dataframe thead th {\n",
       "        text-align: right;\n",
       "    }\n",
       "</style>\n",
       "<table border=\"1\" class=\"dataframe\">\n",
       "  <thead>\n",
       "    <tr style=\"text-align: right;\">\n",
       "      <th></th>\n",
       "      <th>race</th>\n",
       "      <th>count_death</th>\n",
       "    </tr>\n",
       "  </thead>\n",
       "  <tbody>\n",
       "    <tr>\n",
       "      <th>0</th>\n",
       "      <td>Hispanic or Latino</td>\n",
       "      <td>76</td>\n",
       "    </tr>\n",
       "    <tr>\n",
       "      <th>1</th>\n",
       "      <td>White</td>\n",
       "      <td>37</td>\n",
       "    </tr>\n",
       "    <tr>\n",
       "      <th>2</th>\n",
       "      <td>Black or African American</td>\n",
       "      <td>15</td>\n",
       "    </tr>\n",
       "    <tr>\n",
       "      <th>3</th>\n",
       "      <td>Asian</td>\n",
       "      <td>3</td>\n",
       "    </tr>\n",
       "  </tbody>\n",
       "</table>\n",
       "</div>"
      ]
     },
     "metadata": {},
     "execution_count": 187
    }
   ],
   "metadata": {}
  },
  {
   "cell_type": "code",
   "execution_count": 188,
   "source": [
    "avg_death_baseline = statistics.mean(death_race_baseline.values())  # Average of deaths for all racial groups\n",
    "death_race_baseline = pd.DataFrame(death_race_baseline.items(), columns=['race', 'count_death'])\n",
    "death_race_baseline['level'] = 2.0   # Nothing about scarcity level\n",
    "death_race_baseline['avg_death'] = avg_death_baseline\n",
    "death_race_baseline['percentage_death'] = death_race_baseline.apply(lambda row: percentage_death(row), axis=1)  # Ratio of death for each racial group from total deaths\n",
    "death_race_baseline['type_allocation'] = 'Baseline'\n",
    "death_race_baseline"
   ],
   "outputs": [
    {
     "output_type": "execute_result",
     "data": {
      "text/plain": [
       "                        race  count_death  level  avg_death  percentage_death  \\\n",
       "0         Hispanic or Latino           76    2.0      32.75         23.030303   \n",
       "1                      White           37    2.0      32.75         17.129630   \n",
       "2  Black or African American           15    2.0      32.75         29.411765   \n",
       "3                      Asian            3    2.0      32.75         60.000000   \n",
       "\n",
       "  type_allocation  \n",
       "0        Baseline  \n",
       "1        Baseline  \n",
       "2        Baseline  \n",
       "3        Baseline  "
      ],
      "text/html": [
       "<div>\n",
       "<style scoped>\n",
       "    .dataframe tbody tr th:only-of-type {\n",
       "        vertical-align: middle;\n",
       "    }\n",
       "\n",
       "    .dataframe tbody tr th {\n",
       "        vertical-align: top;\n",
       "    }\n",
       "\n",
       "    .dataframe thead th {\n",
       "        text-align: right;\n",
       "    }\n",
       "</style>\n",
       "<table border=\"1\" class=\"dataframe\">\n",
       "  <thead>\n",
       "    <tr style=\"text-align: right;\">\n",
       "      <th></th>\n",
       "      <th>race</th>\n",
       "      <th>count_death</th>\n",
       "      <th>level</th>\n",
       "      <th>avg_death</th>\n",
       "      <th>percentage_death</th>\n",
       "      <th>type_allocation</th>\n",
       "    </tr>\n",
       "  </thead>\n",
       "  <tbody>\n",
       "    <tr>\n",
       "      <th>0</th>\n",
       "      <td>Hispanic or Latino</td>\n",
       "      <td>76</td>\n",
       "      <td>2.0</td>\n",
       "      <td>32.75</td>\n",
       "      <td>23.030303</td>\n",
       "      <td>Baseline</td>\n",
       "    </tr>\n",
       "    <tr>\n",
       "      <th>1</th>\n",
       "      <td>White</td>\n",
       "      <td>37</td>\n",
       "      <td>2.0</td>\n",
       "      <td>32.75</td>\n",
       "      <td>17.129630</td>\n",
       "      <td>Baseline</td>\n",
       "    </tr>\n",
       "    <tr>\n",
       "      <th>2</th>\n",
       "      <td>Black or African American</td>\n",
       "      <td>15</td>\n",
       "      <td>2.0</td>\n",
       "      <td>32.75</td>\n",
       "      <td>29.411765</td>\n",
       "      <td>Baseline</td>\n",
       "    </tr>\n",
       "    <tr>\n",
       "      <th>3</th>\n",
       "      <td>Asian</td>\n",
       "      <td>3</td>\n",
       "      <td>2.0</td>\n",
       "      <td>32.75</td>\n",
       "      <td>60.000000</td>\n",
       "      <td>Baseline</td>\n",
       "    </tr>\n",
       "  </tbody>\n",
       "</table>\n",
       "</div>"
      ]
     },
     "metadata": {},
     "execution_count": 188
    }
   ],
   "metadata": {}
  },
  {
   "cell_type": "markdown",
   "source": [
    "# Allocate ventilators (Analytical approach)"
   ],
   "metadata": {}
  },
  {
   "cell_type": "markdown",
   "source": [
    "## New York"
   ],
   "metadata": {}
  },
  {
   "cell_type": "code",
   "execution_count": 189,
   "source": [
    "ls_df_alloc_level = []          # List of prioritized patients for each scarcity level\n",
    "ls_df_count_death_race = []\n",
    "sum_death = 0 # Number of deaths\n",
    "\n",
    "for level in scarcity_indicator_level:\n",
    "    \n",
    "    allocation = Allocation(df_sample, level, calibration_qsofa_mortality)   # Generate Allocation object\n",
    "    df_alloc = allocation.new_york()                                         # Prioritize patients following Maryland CSC\n",
    "    \n",
    "    ls_df_alloc_level.append(df_alloc)                                     # Make a list of allocated dataframes for every level of scarcity\n",
    "    sum_death += df_alloc['death'].sum()                                   # Sum of all deaths for every level of scarcity\n",
    "    df_death = df_alloc.loc[df_alloc['death']==1]                          # patients who died after ventilator allocation\n",
    "    \n",
    "    # Count of deaths for each racial group in each scarcity level\n",
    "    dict_count_death_race = Counter(df_death['race_display'])\n",
    "    df_count_death_race = pd.DataFrame.from_dict(dict_count_death_race, orient='index').reset_index()\n",
    "    df_count_death_race = df_count_death_race.rename(columns={'index': 'race', 0: 'count_death'})\n",
    "    df_count_death_race['level'] = round(level, 1)\n",
    "    df_count_death_race['avg_death'] = statistics.mean(dict_count_death_race.values())\n",
    "    df_count_death_race['percentage_death'] = df_count_death_race.apply(lambda row: percentage_death(row), axis=1)\n",
    "    \n",
    "    #ls_dict_count_death_race.append(dict_count_death_race)\n",
    "    ls_df_count_death_race.append(df_count_death_race)\n",
    "\n",
    "df_new_york = pd.concat(ls_df_count_death_race)\n",
    "df_new_york['type_allocation'] = 'New York'\n",
    "df_new_york_tmp = pd.concat([death_race_baseline, df_new_york])"
   ],
   "outputs": [],
   "metadata": {}
  },
  {
   "cell_type": "code",
   "execution_count": 190,
   "source": [
    "df_new_york_tmp = df_new_york_tmp.replace(to_replace=[2.0], value=['Observed'])\n",
    "x_val = list(df_new_york_tmp['level'].unique())\n",
    "x_val.append(x_val.pop(0))\n",
    "sns.catplot(x='level', y='count_death', hue='race', data=df_new_york_tmp, kind='bar', height=4, aspect=3, order=x_val)\n",
    "plt.title('Allocation Scheme (New York)')\n",
    "plt.show()\n",
    "sns_plot.savefig(\"figures_new/count_death_new_york.png\")"
   ],
   "outputs": [
    {
     "output_type": "display_data",
     "data": {
      "text/plain": [
       "<Figure size 1029.38x288 with 1 Axes>"
      ],
      "image/png": "[encoded data removed]"
     },
     "metadata": {
      "needs_background": "light"
     }
    }
   ],
   "metadata": {}
  },
  {
   "cell_type": "code",
   "execution_count": 191,
   "source": [
    "race_hue_labels = df_sample['race_display'].unique()\n",
    "df_new_york_tmp = df_new_york_tmp.replace(to_replace=[2.0], value=['Observed'])\n",
    "x_val = list(df_new_york_tmp['level'].unique())\n",
    "x_val.append(x_val.pop(0))\n",
    "\n",
    "sns_plot = sns.catplot(x='level', y='percentage_death', hue='race', hue_order=race_hue_labels, data=df_new_york_tmp, kind='bar', order=x_val, height=4, aspect=3)\n",
    "\n",
    "plt.title('New York Allocation Scheme Mortality Rate Across Scarcity Indicators')\n",
    "plt.xlabel('Scarcity Indicator')\n",
    "plt.ylabel('Mortality Rate')\n",
    "sns_plot._legend.set_title('Race')\n",
    "sns_plot.savefig(\"figures_new/percentage_death_new_york.png\")"
   ],
   "outputs": [
    {
     "output_type": "display_data",
     "data": {
      "text/plain": [
       "<Figure size 1029.38x288 with 1 Axes>"
      ],
      "image/png": "[encoded data removed]"
     },
     "metadata": {
      "needs_background": "light"
     }
    }
   ],
   "metadata": {}
  },
  {
   "cell_type": "markdown",
   "source": [
    "## Maryland"
   ],
   "metadata": {}
  },
  {
   "cell_type": "code",
   "execution_count": 192,
   "source": [
    "ls_df_alloc_level = []          # List of prioritized patients for each scarcity level\n",
    "ls_df_count_death_race = []\n",
    "sum_death = 0 # Number of deaths\n",
    "\n",
    "for level in scarcity_indicator_level:\n",
    "  \n",
    "    allocation = Allocation(df_sample, level, calibration_qsofa_mortality)   # Generate Allocation object\n",
    "    df_alloc = allocation.maryland()                                         # Prioritize patients following Maryland CSC\n",
    "    \n",
    "    ls_df_alloc_level.append(df_alloc)                                     # Make a list of allocated dataframes for every level of scarcity\n",
    "    sum_death += df_alloc['death'].sum()                                   # Sum of all deaths for every level of scarcity\n",
    "    df_death = df_alloc.loc[df_alloc['death']==1]                          # patients who died after ventilator allocation\n",
    "    \n",
    "    # Count of deaths for each racial group in each scarcity level\n",
    "    dict_count_death_race = Counter(df_death['race_display'])\n",
    "    df_count_death_race = pd.DataFrame.from_dict(dict_count_death_race, orient='index').reset_index()\n",
    "    df_count_death_race = df_count_death_race.rename(columns={'index': 'race', 0: 'count_death'})\n",
    "    df_count_death_race['level'] = round(level, 1)\n",
    "    df_count_death_race['avg_death'] = statistics.mean(dict_count_death_race.values())\n",
    "    df_count_death_race['percentage_death'] = df_count_death_race.apply(lambda row: percentage_death(row), axis=1)\n",
    "    \n",
    "    #ls_dict_count_death_race.append(dict_count_death_race)\n",
    "    ls_df_count_death_race.append(df_count_death_race)\n",
    "\n",
    "df_maryland = pd.concat(ls_df_count_death_race)\n",
    "df_maryland['type_allocation'] = 'Maryland'\n",
    "df_maryland_tmp = pd.concat([death_race_baseline, df_maryland])"
   ],
   "outputs": [],
   "metadata": {}
  },
  {
   "cell_type": "code",
   "execution_count": 193,
   "source": [
    "df_maryland_tmp = df_maryland_tmp.replace(to_replace=[2.0], value=['Observed'])\n",
    "x_val = list(df_maryland_tmp['level'].unique())\n",
    "x_val.append(x_val.pop(0))\n",
    "sns.catplot(x='level', y='count_death', hue='race', data=df_maryland_tmp, kind='bar', order=x_val, height=4, aspect=3)\n",
    "plt.title('Allocation Scheme (Maryland)')\n",
    "plt.show()\n",
    "sns_plot.savefig(\"figures_new/count_death_maryland.png\")"
   ],
   "outputs": [
    {
     "output_type": "display_data",
     "data": {
      "text/plain": [
       "<Figure size 1029.38x288 with 1 Axes>"
      ],
      "image/png": "[encoded data removed]"
     },
     "metadata": {
      "needs_background": "light"
     }
    }
   ],
   "metadata": {}
  },
  {
   "cell_type": "code",
   "execution_count": 194,
   "source": [
    "#%matplotlib qt\n",
    "race_hue_labels = df_sample['race_display'].unique()\n",
    "df_maryland_tmp = df_maryland_tmp.replace(to_replace=[2.0], value=['Observed'])\n",
    "x_val = list(df_maryland_tmp['level'].unique())\n",
    "x_val.append(x_val.pop(0))\n",
    "\n",
    "sns_plot = sns.catplot(x='level', y='percentage_death', hue='race', hue_order = race_hue_labels, data=df_maryland_tmp, kind='bar', order=x_val, height=4, aspect=3)\n",
    "\n",
    "plt.title('Maryland Allocation Scheme Mortality Rate Across Scarcity Indicators')\n",
    "plt.xlabel('Scarcity Indicator')\n",
    "plt.ylabel('Mortality Rate')\n",
    "sns_plot._legend.set_title('Race')\n",
    "sns_plot.savefig(\"figures_new/percentage_death_maryland.png\")"
   ],
   "outputs": [
    {
     "output_type": "display_data",
     "data": {
      "text/plain": [
       "<Figure size 1029.38x288 with 1 Axes>"
      ],
      "image/png": "[encoded data removed]"
     },
     "metadata": {
      "needs_background": "light"
     }
    }
   ],
   "metadata": {}
  },
  {
   "cell_type": "markdown",
   "source": [
    "## Max Lives Years"
   ],
   "metadata": {}
  },
  {
   "cell_type": "code",
   "execution_count": 195,
   "source": [
    "ls_df_alloc_level = []          # List of prioritized patients for each scarcity level\n",
    "ls_df_count_death_race = []\n",
    "sum_death = 0 # Number of deaths\n",
    "\n",
    "for level in scarcity_indicator_level:\n",
    "  \n",
    "    allocation = Allocation(df_sample, level, calibration_qsofa_mortality)   # Generate Allocation object\n",
    "    df_alloc = allocation.max_life_years()                                         # Prioritize patients following Maryland CSC\n",
    "    \n",
    "    ls_df_alloc_level.append(df_alloc)                                     # Make a list of allocated dataframes for every level of scarcity\n",
    "    sum_death += df_alloc['death'].sum()                                   # Sum of all deaths for every level of scarcity\n",
    "    df_death = df_alloc.loc[df_alloc['death']==1]                          # patients who died after ventilator allocation\n",
    "    \n",
    "    # Count of deaths for each racial group in each scarcity level\n",
    "    dict_count_death_race = Counter(df_death['race_display'])\n",
    "    df_count_death_race = pd.DataFrame.from_dict(dict_count_death_race, orient='index').reset_index()\n",
    "    df_count_death_race = df_count_death_race.rename(columns={'index': 'race', 0: 'count_death'})\n",
    "    df_count_death_race['level'] = round(level, 1)\n",
    "    df_count_death_race['avg_death'] = statistics.mean(dict_count_death_race.values())\n",
    "    df_count_death_race['percentage_death'] = df_count_death_race.apply(lambda row: percentage_death(row), axis=1)\n",
    "    \n",
    "    #ls_dict_count_death_race.append(dict_count_death_race)\n",
    "    ls_df_count_death_race.append(df_count_death_race)\n",
    "\n",
    "df_max_lives_years = pd.concat(ls_df_count_death_race)\n",
    "df_max_lives_years['type_allocation'] = 'Max Lives Years'\n",
    "df_max_lives_years_tmp = pd.concat([death_race_baseline, df_max_lives_years])"
   ],
   "outputs": [],
   "metadata": {}
  },
  {
   "cell_type": "code",
   "execution_count": 196,
   "source": [
    "df_max_lives_years_tmp = df_max_lives_years_tmp.replace(to_replace=[2.0], value=['Observed'])\n",
    "x_val = list(df_max_lives_years_tmp['level'].unique())\n",
    "x_val.append(x_val.pop(0))\n",
    "sns.catplot(x='level', y='count_death', hue='race', data=df_max_lives_years_tmp, kind='bar', order=x_val, height=4, aspect=3)\n",
    "plt.title('Allocation Scheme (Max Lives Years)')\n",
    "plt.show()\n",
    "sns_plot.savefig(\"figures_new/count_death_max_lives_years.png\")"
   ],
   "outputs": [
    {
     "output_type": "display_data",
     "data": {
      "text/plain": [
       "<Figure size 1029.38x288 with 1 Axes>"
      ],
      "image/png": "[encoded data removed]"
     },
     "metadata": {
      "needs_background": "light"
     }
    }
   ],
   "metadata": {}
  },
  {
   "cell_type": "code",
   "execution_count": 197,
   "source": [
    "#%matplotlib qt\n",
    "race_hue_labels = df_sample['race_display'].unique()\n",
    "df_max_lives_years_tmp = df_max_lives_years_tmp.replace(to_replace=[2.0], value=['Observed'])\n",
    "x_val = list(df_max_lives_years_tmp['level'].unique())\n",
    "x_val.append(x_val.pop(0))\n",
    "\n",
    "sns_plot = sns.catplot(x='level', y='percentage_death', hue='race', hue_order = race_hue_labels, data=df_max_lives_years_tmp, kind='bar', order=x_val, height=4, aspect=3)\n",
    "\n",
    "plt.title('Max Lives Years Allocation Scheme Mortality Rate Across Scarcity Indicators')\n",
    "plt.xlabel('Scarcity Indicator')\n",
    "plt.ylabel('Mortality Rate')\n",
    "sns_plot._legend.set_title('Race')\n",
    "sns_plot.savefig(\"figures_new/percentage_death_max_lives_years.png\")"
   ],
   "outputs": [
    {
     "output_type": "display_data",
     "data": {
      "text/plain": [
       "<Figure size 1029.38x288 with 1 Axes>"
      ],
      "image/png": "[encoded data removed]"
     },
     "metadata": {
      "needs_background": "light"
     }
    }
   ],
   "metadata": {}
  },
  {
   "cell_type": "markdown",
   "source": [
    "## Youngest First"
   ],
   "metadata": {}
  },
  {
   "cell_type": "code",
   "execution_count": 198,
   "source": [
    "ls_df_alloc_level = []          # List of prioritized patients for each scarcity level\n",
    "ls_df_count_death_race = []\n",
    "sum_death = 0 # Number of deaths\n",
    "\n",
    "for level in scarcity_indicator_level:\n",
    "  \n",
    "    allocation = Allocation(df_sample, level, calibration_qsofa_mortality)   # Generate Allocation object\n",
    "    df_alloc = allocation.youngest()                                         # Prioritize patients following Maryland CSC\n",
    "    \n",
    "    ls_df_alloc_level.append(df_alloc)                                     # Make a list of allocated dataframes for every level of scarcity\n",
    "    sum_death += df_alloc['death'].sum()                                   # Sum of all deaths for every level of scarcity\n",
    "    df_death = df_alloc.loc[df_alloc['death']==1]                          # patients who died after ventilator allocation\n",
    "    \n",
    "    # Count of deaths for each racial group in each scarcity level\n",
    "    dict_count_death_race = Counter(df_death['race_display'])\n",
    "    df_count_death_race = pd.DataFrame.from_dict(dict_count_death_race, orient='index').reset_index()\n",
    "    df_count_death_race = df_count_death_race.rename(columns={'index': 'race', 0: 'count_death'})\n",
    "    df_count_death_race['level'] = round(level, 1)\n",
    "    df_count_death_race['avg_death'] = statistics.mean(dict_count_death_race.values())\n",
    "    df_count_death_race['percentage_death'] = df_count_death_race.apply(lambda row: percentage_death(row), axis=1)\n",
    "    \n",
    "    #ls_dict_count_death_race.append(dict_count_death_race)\n",
    "    ls_df_count_death_race.append(df_count_death_race)\n",
    "\n",
    "df_youngest = pd.concat(ls_df_count_death_race)\n",
    "df_youngest['type_allocation'] = 'Youngest'\n",
    "df_youngest_tmp = pd.concat([death_race_baseline, df_youngest])"
   ],
   "outputs": [],
   "metadata": {}
  },
  {
   "cell_type": "code",
   "execution_count": 199,
   "source": [
    "df_youngest_tmp = df_youngest_tmp.replace(to_replace=[2.0], value=['Observed'])\n",
    "x_val = list(df_youngest_tmp['level'].unique())\n",
    "x_val.append(x_val.pop(0))\n",
    "sns.catplot(x='level', y='count_death', hue='race', data=df_youngest_tmp, kind='bar', order=x_val, height=4, aspect=3)\n",
    "plt.title('Allocation Scheme (Youngest)')\n",
    "plt.show()\n",
    "sns_plot.savefig(\"figures_new/count_death_youngest.png\")"
   ],
   "outputs": [
    {
     "output_type": "display_data",
     "data": {
      "text/plain": [
       "<Figure size 1029.38x288 with 1 Axes>"
      ],
      "image/png": "[encoded data removed]"
     },
     "metadata": {
      "needs_background": "light"
     }
    }
   ],
   "metadata": {}
  },
  {
   "cell_type": "code",
   "execution_count": 200,
   "source": [
    "#%matplotlib qt\n",
    "race_hue_labels = df_sample['race_display'].unique()\n",
    "df_youngest_tmp = df_youngest_tmp.replace(to_replace=[2.0], value=['Observed'])\n",
    "x_val = list(df_youngest_tmp['level'].unique())\n",
    "x_val.append(x_val.pop(0))\n",
    "\n",
    "sns_plot = sns.catplot(x='level', y='percentage_death', hue='race', hue_order = race_hue_labels, data=df_youngest_tmp, kind='bar', order=x_val, height=4, aspect=3)\n",
    "\n",
    "plt.title('Youngest Allocation Scheme Mortality Rate Across Scarcity Indicators')\n",
    "plt.xlabel('Scarcity Indicator')\n",
    "plt.ylabel('Mortality Rate')\n",
    "sns_plot._legend.set_title('Race')\n",
    "sns_plot.savefig(\"figures_new/percentage_death_youngest.png\")"
   ],
   "outputs": [
    {
     "output_type": "display_data",
     "data": {
      "text/plain": [
       "<Figure size 1029.38x288 with 1 Axes>"
      ],
      "image/png": "[encoded data removed]"
     },
     "metadata": {
      "needs_background": "light"
     }
    }
   ],
   "metadata": {}
  },
  {
   "cell_type": "markdown",
   "source": [
    "## Sickest First"
   ],
   "metadata": {}
  },
  {
   "cell_type": "code",
   "execution_count": 201,
   "source": [
    "ls_df_alloc_level = []          # List of prioritized patients for each scarcity level\n",
    "ls_df_count_death_race = []\n",
    "sum_death = 0 # Number of deaths\n",
    "\n",
    "for level in scarcity_indicator_level:\n",
    "  \n",
    "    allocation = Allocation(df_sample, level, calibration_qsofa_mortality)   # Generate Allocation object\n",
    "    df_alloc = allocation.sickest()                                         # Prioritize patients following Maryland CSC\n",
    "    \n",
    "    ls_df_alloc_level.append(df_alloc)                                     # Make a list of allocated dataframes for every level of scarcity\n",
    "    sum_death += df_alloc['death'].sum()                                   # Sum of all deaths for every level of scarcity\n",
    "    df_death = df_alloc.loc[df_alloc['death']==1]                          # patients who died after ventilator allocation\n",
    "    \n",
    "    # Count of deaths for each racial group in each scarcity level\n",
    "    dict_count_death_race = Counter(df_death['race_display'])\n",
    "    df_count_death_race = pd.DataFrame.from_dict(dict_count_death_race, orient='index').reset_index()\n",
    "    df_count_death_race = df_count_death_race.rename(columns={'index': 'race', 0: 'count_death'})\n",
    "    df_count_death_race['level'] = round(level, 1)\n",
    "    df_count_death_race['avg_death'] = statistics.mean(dict_count_death_race.values())\n",
    "    df_count_death_race['percentage_death'] = df_count_death_race.apply(lambda row: percentage_death(row), axis=1)\n",
    "    \n",
    "    #ls_dict_count_death_race.append(dict_count_death_race)\n",
    "    ls_df_count_death_race.append(df_count_death_race)\n",
    "\n",
    "df_sickest = pd.concat(ls_df_count_death_race)\n",
    "df_sickest['type_allocation'] = 'Sickest'\n",
    "df_sickest_tmp = pd.concat([death_race_baseline, df_sickest])"
   ],
   "outputs": [],
   "metadata": {}
  },
  {
   "cell_type": "code",
   "execution_count": 202,
   "source": [
    "df_sickest_tmp = df_sickest_tmp.replace(to_replace=[2.0], value=['Observed'])\n",
    "x_val = list(df_sickest_tmp['level'].unique())\n",
    "x_val.append(x_val.pop(0))\n",
    "sns.catplot(x='level', y='count_death', hue='race', data=df_sickest_tmp, kind='bar', order=x_val, height=4, aspect=3)\n",
    "plt.title('Sickest Allocation Scheme')\n",
    "plt.show()\n",
    "sns_plot.savefig(\"figures_new/count_death_sickest.png\")"
   ],
   "outputs": [
    {
     "output_type": "display_data",
     "data": {
      "text/plain": [
       "<Figure size 1029.38x288 with 1 Axes>"
      ],
      "image/png": "[encoded data removed]"
     },
     "metadata": {
      "needs_background": "light"
     }
    }
   ],
   "metadata": {}
  },
  {
   "cell_type": "code",
   "execution_count": 203,
   "source": [
    "#%matplotlib qt\n",
    "race_hue_labels = df_sample['race_display'].unique()\n",
    "df_sickest_tmp = df_sickest_tmp.replace(to_replace=[2.0], value=['Observed'])\n",
    "x_val = list(df_sickest_tmp['level'].unique())\n",
    "x_val.append(x_val.pop(0))\n",
    "\n",
    "sns_plot = sns.catplot(x='level', y='percentage_death', hue='race', hue_order = race_hue_labels, data=df_sickest_tmp, kind='bar', order=x_val, height=4, aspect=3)\n",
    "\n",
    "plt.title('Sickest Allocation Scheme Mortality Rate Across Scarcity Indicators')\n",
    "plt.xlabel('Scarcity Indicator')\n",
    "plt.ylabel('Mortality Rate')\n",
    "sns_plot._legend.set_title('Race')\n",
    "sns_plot.savefig(\"figures_new/percentage_death_sickest.png\")"
   ],
   "outputs": [
    {
     "output_type": "display_data",
     "data": {
      "text/plain": [
       "<Figure size 1029.38x288 with 1 Axes>"
      ],
      "image/png": "[encoded data removed]"
     },
     "metadata": {
      "needs_background": "light"
     }
    }
   ],
   "metadata": {}
  },
  {
   "cell_type": "markdown",
   "source": [
    "# Allocate ventilators (Simulation)"
   ],
   "metadata": {}
  },
  {
   "cell_type": "markdown",
   "source": [
    "## Lottery"
   ],
   "metadata": {}
  },
  {
   "cell_type": "code",
   "execution_count": 204,
   "source": [
    "ls_df_count_death_race_level = [] # Store dataframes for all scarcity levels\n",
    "ls_df_count_death_race_level.append(death_race_baseline)\n",
    "\n",
    "for level in scarcity_indicator_level:\n",
    "    sum_death = 0                       # Number of deaths \n",
    "    ls_df_alloc_iter = []               # Store allocated dataframes within iteration\n",
    "    ls_df_count_death_race_iter = []    # Store dataframes of racial death counts within iteration\n",
    "    ls_dict_count_death_race_iter = []  # Store dictionary of racial death counts within iteration\n",
    "\n",
    "    for _ in range(iter_simulation):    # Iterate 1000 times per scarcity level\n",
    "\n",
    "        # Allocate ventilators to patients\n",
    "        allocation = Allocation(df_sample, level, calibration_qsofa_mortality)\n",
    "        df_alloc = allocation.lottery()\n",
    "\n",
    "        # Examine the number of deaths for each racial group\n",
    "        ls_df_alloc_iter.append(df_alloc)\n",
    "        sum_death += df_alloc['death'].sum()\n",
    "        df_death = df_alloc.loc[df_alloc['death']==1]\n",
    "        \n",
    "        # Convert dictionary to dataframe\n",
    "        dict_count_death_race = Counter(df_death['race_display'])\n",
    "        df_count_death_race = pd.DataFrame.from_dict(dict_count_death_race, orient='index').reset_index()\n",
    "        df_count_death_race = df_count_death_race.rename(columns={'index': 'race', 0: 'count_death'})\n",
    "        \n",
    "        # List the count of deaths for each racial group\n",
    "        ls_dict_count_death_race_iter.append(dict_count_death_race)\n",
    "        ls_df_count_death_race_iter.append(df_count_death_race)\n",
    "    \n",
    "    df_count_death_race_level = pd.concat(ls_df_count_death_race_iter)\n",
    "    df_count_death_race_level['level'] = round(level, 1)\n",
    "    df_count_death_race_level['percentage_death'] = df_count_death_race_level.apply(lambda row: percentage_death(row), axis=1)\n",
    "    df_count_death_race_level['avg_death'] = statistics.mean(df_count_death_race_level['count_death'])\n",
    "    df_count_death_race_level['type_allocation'] = 'Lottery'\n",
    "    \n",
    "    ls_df_count_death_race_level.append(df_count_death_race_level)\n",
    "\n",
    "df_lottery = pd.concat(ls_df_count_death_race_level)\n",
    "#ls_df_count_death_race_level.append(death_race_baseline)\n",
    "df_lottery_tmp = pd.concat(ls_df_count_death_race_level)\n",
    "#all_iters_df.to_csv('sim_results/all_ny.csv'.format(level.round(3)))\n"
   ],
   "outputs": [],
   "metadata": {}
  },
  {
   "cell_type": "code",
   "execution_count": 205,
   "source": [
    "df_lottery_tmp = df_lottery_tmp.replace(to_replace=[2.0], value=['Observed'])\n",
    "x_val = list(df_lottery_tmp['level'].unique())\n",
    "x_val.append(x_val.pop(0))\n",
    "sns.catplot(x='level', y='count_death', hue='race', data=df_lottery_tmp, kind='bar', order=x_val, height=4, aspect=3)\n",
    "plt.title('Lottery Scheme')\n",
    "plt.show()\n",
    "sns_plot.savefig(\"figures_new/count_death_lottery.png\")"
   ],
   "outputs": [
    {
     "output_type": "display_data",
     "data": {
      "text/plain": [
       "<Figure size 1029.38x288 with 1 Axes>"
      ],
      "image/png": "[encoded data removed]"
     },
     "metadata": {
      "needs_background": "light"
     }
    }
   ],
   "metadata": {}
  },
  {
   "cell_type": "code",
   "execution_count": 206,
   "source": [
    "race_hue_labels = df_sample['race_display'].unique()\n",
    "df_lottery_tmp = df_lottery_tmp.replace(to_replace=[2.0], value=['Observed'])\n",
    "x_val = list(df_lottery_tmp['level'].unique())\n",
    "x_val.append(x_val.pop(0))\n",
    "\n",
    "sns_plot = sns.catplot(x='level', y='percentage_death', hue='race', hue_order=race_hue_labels, data=df_lottery_tmp, kind='bar', order=x_val, height=4, aspect=3)\n",
    "\n",
    "plt.title('Lottery Allocation Scheme Mortality Rate Across Scarcity Indicators')\n",
    "plt.xlabel('Scarcity Indicator')\n",
    "plt.ylabel('Mortality Rate')\n",
    "sns_plot._legend.set_title('Race')\n",
    "sns_plot.savefig(\"figures_new/percentage_death_lottery.png\")"
   ],
   "outputs": [
    {
     "output_type": "display_data",
     "data": {
      "text/plain": [
       "<Figure size 1029.38x288 with 1 Axes>"
      ],
      "image/png": "[encoded data removed]"
     },
     "metadata": {
      "needs_background": "light"
     }
    }
   ],
   "metadata": {}
  },
  {
   "cell_type": "markdown",
   "source": [
    "# Total "
   ],
   "metadata": {}
  },
  {
   "cell_type": "code",
   "execution_count": 207,
   "source": [
    "df_csc_all = pd.concat([\n",
    "    df_new_york[['type_allocation', 'level', 'avg_death']], \n",
    "    df_maryland[['type_allocation', 'level', 'avg_death']], \n",
    "    df_max_lives_years[['type_allocation', 'level', 'avg_death']], \n",
    "    df_youngest[['type_allocation', 'level', 'avg_death']], \n",
    "    df_sickest[['type_allocation', 'level', 'avg_death']], \n",
    "    df_lottery[['type_allocation', 'level', 'avg_death']], \n",
    "])"
   ],
   "outputs": [],
   "metadata": {}
  },
  {
   "cell_type": "code",
   "execution_count": 208,
   "source": [
    "#df_csc_all.to_csv('total_avg_deaths_data_results.csv', index=False)"
   ],
   "outputs": [],
   "metadata": {}
  },
  {
   "cell_type": "code",
   "execution_count": 209,
   "source": [
    "#%matplotlib qt\n",
    "sns_plot = sns.catplot(x='level', y='avg_death', hue='type_allocation', data=df_csc_all[df_csc_all['level']!=2.0], kind='bar', legend_out=True, height=4, aspect=3)\n",
    "plt.title('Average Number of Deaths per Allocation Scheme')\n",
    "sns_plot._legend.set_title('Allocation Scheme')\n",
    "plt.xlabel('Scarcity Indicator')\n",
    "plt.ylabel('Average Number of Deaths')\n",
    "sns_plot.savefig(\"figures_new/total_average_death.png\")"
   ],
   "outputs": [
    {
     "output_type": "display_data",
     "data": {
      "text/plain": [
       "<Figure size 978.75x288 with 1 Axes>"
      ],
      "image/png": "[encoded data removed]"
     },
     "metadata": {
      "needs_background": "light"
     }
    }
   ],
   "metadata": {}
  },
  {
   "cell_type": "code",
   "execution_count": null,
   "source": [],
   "outputs": [],
   "metadata": {}
  }
 ],
 "metadata": {
  "interpreter": {
   "hash": "c721419d1110a3858181c5fa7267c89fa606f7af28362c165da4be786eb4775b"
  },
  "kernelspec": {
   "display_name": "Python 3",
   "language": "python",
   "name": "python3"
  },
  "language_info": {
   "codemirror_mode": {
    "name": "ipython",
    "version": 3
   },
   "file_extension": ".py",
   "mimetype": "text/x-python",
   "name": "python",
   "nbconvert_exporter": "python",
   "pygments_lexer": "ipython3",
   "version": "3.8.5"
  }
 },
 "nbformat": 4,
 "nbformat_minor": 4
}